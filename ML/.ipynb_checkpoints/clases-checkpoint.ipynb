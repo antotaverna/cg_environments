{
 "cells": [
  {
   "cell_type": "markdown",
   "metadata": {
    "id": "OzUEFuAJjkeb"
   },
   "source": [
    "#  Clases"
   ]
  },
  {
   "cell_type": "markdown",
   "metadata": {
    "id": "mMek2QPtjkej"
   },
   "source": [
    "**Modulos:**\n",
    "\n",
    "- Importamos la librerías necesarias para correr las celdas"
   ]
  },
  {
   "cell_type": "code",
   "execution_count": 32,
   "metadata": {
    "id": "u1Yr3H7djkel"
   },
   "outputs": [],
   "source": [
    "import pandas as pd\n",
    "from sklearn.model_selection import train_test_split\n",
    "from sklearn import preprocessing\n",
    "from sklearn.ensemble import RandomForestClassifier\n",
    "from sklearn.metrics import f1_score\n",
    "from sklearn.metrics import accuracy_score\n",
    "from sklearn.metrics import classification_report\n",
    "from sklearn.base import clone\n",
    "\n",
    "import matplotlib.pylab as plt\n",
    "import seaborn"
   ]
  },
  {
   "cell_type": "markdown",
   "metadata": {
    "id": "Gx8kK4FNjkem"
   },
   "source": [
    "**Funciones**\n",
    "\n",
    "-  Definimos las funciones que vamos a usar en el proceso."
   ]
  },
  {
   "cell_type": "code",
   "execution_count": null,
   "metadata": {
    "id": "8PpU_Uw9jken"
   },
   "outputs": [],
   "source": []
  },
  {
   "cell_type": "markdown",
   "metadata": {
    "id": "Ce5_vKkOjket"
   },
   "source": [
    "**load:**\n",
    "\n",
    "- Cargamos el conjunto de datos junto con el Target"
   ]
  },
  {
   "cell_type": "code",
   "execution_count": 2,
   "metadata": {
    "id": "EoLlmE1Rjkeu"
   },
   "outputs": [],
   "source": [
    "df = pd.read_table(\"../data/compact_in_all\",sep=\"\\s+\",\n",
    "                   names=['i_gru', 'n_m', 'Ra', 'dec', 'z', 'thete_g ', 'mu', 'sigv', 'r_b', 'flag',\n",
    "                          'rabs1', 'd_ij', 'tcr', 'rp', 'rabs2', 'Target'])"
   ]
  },
  {
   "cell_type": "markdown",
   "metadata": {
    "id": "ZoroibItjkeu"
   },
   "source": [
    "**Analisis, curación y visualización:**\n",
    "\n",
    "- Realizamos un analisis estadístico de las muestras."
   ]
  },
  {
   "cell_type": "code",
   "execution_count": 3,
   "metadata": {
    "id": "HXzk3Ey-mKmo"
   },
   "outputs": [
    {
     "data": {
      "text/html": [
       "<div>\n",
       "<style scoped>\n",
       "    .dataframe tbody tr th:only-of-type {\n",
       "        vertical-align: middle;\n",
       "    }\n",
       "\n",
       "    .dataframe tbody tr th {\n",
       "        vertical-align: top;\n",
       "    }\n",
       "\n",
       "    .dataframe thead th {\n",
       "        text-align: right;\n",
       "    }\n",
       "</style>\n",
       "<table border=\"1\" class=\"dataframe\">\n",
       "  <thead>\n",
       "    <tr style=\"text-align: right;\">\n",
       "      <th></th>\n",
       "      <th>i_gru</th>\n",
       "      <th>n_m</th>\n",
       "      <th>Ra</th>\n",
       "      <th>dec</th>\n",
       "      <th>z</th>\n",
       "      <th>thete_g</th>\n",
       "      <th>mu</th>\n",
       "      <th>sigv</th>\n",
       "      <th>r_b</th>\n",
       "      <th>flag</th>\n",
       "      <th>rabs1</th>\n",
       "      <th>d_ij</th>\n",
       "      <th>tcr</th>\n",
       "      <th>rp</th>\n",
       "      <th>rabs2</th>\n",
       "    </tr>\n",
       "  </thead>\n",
       "  <tbody>\n",
       "    <tr>\n",
       "      <th>count</th>\n",
       "      <td>449.000000</td>\n",
       "      <td>449.000000</td>\n",
       "      <td>449.000000</td>\n",
       "      <td>449.000000</td>\n",
       "      <td>449.000000</td>\n",
       "      <td>449.000000</td>\n",
       "      <td>449.000000</td>\n",
       "      <td>449.000000</td>\n",
       "      <td>449.000000</td>\n",
       "      <td>449.000000</td>\n",
       "      <td>449.000000</td>\n",
       "      <td>449.000000</td>\n",
       "      <td>449.000000</td>\n",
       "      <td>449.000000</td>\n",
       "      <td>449.000000</td>\n",
       "    </tr>\n",
       "    <tr>\n",
       "      <th>mean</th>\n",
       "      <td>231.260579</td>\n",
       "      <td>4.481069</td>\n",
       "      <td>190.118795</td>\n",
       "      <td>27.589619</td>\n",
       "      <td>0.043466</td>\n",
       "      <td>4.934653</td>\n",
       "      <td>25.147688</td>\n",
       "      <td>262.715163</td>\n",
       "      <td>13.981069</td>\n",
       "      <td>0.122494</td>\n",
       "      <td>-21.545713</td>\n",
       "      <td>0.101298</td>\n",
       "      <td>0.055226</td>\n",
       "      <td>83.052920</td>\n",
       "      <td>-20.492352</td>\n",
       "    </tr>\n",
       "    <tr>\n",
       "      <th>std</th>\n",
       "      <td>134.488337</td>\n",
       "      <td>0.829276</td>\n",
       "      <td>37.989193</td>\n",
       "      <td>17.308637</td>\n",
       "      <td>0.016826</td>\n",
       "      <td>2.590347</td>\n",
       "      <td>0.892652</td>\n",
       "      <td>154.231439</td>\n",
       "      <td>0.605246</td>\n",
       "      <td>0.328222</td>\n",
       "      <td>0.633751</td>\n",
       "      <td>0.042363</td>\n",
       "      <td>0.065116</td>\n",
       "      <td>34.084984</td>\n",
       "      <td>0.681351</td>\n",
       "    </tr>\n",
       "    <tr>\n",
       "      <th>min</th>\n",
       "      <td>1.000000</td>\n",
       "      <td>4.000000</td>\n",
       "      <td>114.842000</td>\n",
       "      <td>-2.872000</td>\n",
       "      <td>0.013770</td>\n",
       "      <td>0.754000</td>\n",
       "      <td>21.608000</td>\n",
       "      <td>21.382000</td>\n",
       "      <td>11.471000</td>\n",
       "      <td>0.000000</td>\n",
       "      <td>-23.267000</td>\n",
       "      <td>0.022788</td>\n",
       "      <td>0.003691</td>\n",
       "      <td>14.666728</td>\n",
       "      <td>-22.130000</td>\n",
       "    </tr>\n",
       "    <tr>\n",
       "      <th>25%</th>\n",
       "      <td>114.000000</td>\n",
       "      <td>4.000000</td>\n",
       "      <td>158.754000</td>\n",
       "      <td>13.424000</td>\n",
       "      <td>0.030645</td>\n",
       "      <td>3.240000</td>\n",
       "      <td>24.651000</td>\n",
       "      <td>150.393000</td>\n",
       "      <td>13.609000</td>\n",
       "      <td>0.000000</td>\n",
       "      <td>-22.018000</td>\n",
       "      <td>0.069527</td>\n",
       "      <td>0.023276</td>\n",
       "      <td>57.150177</td>\n",
       "      <td>-20.941000</td>\n",
       "    </tr>\n",
       "    <tr>\n",
       "      <th>50%</th>\n",
       "      <td>233.000000</td>\n",
       "      <td>4.000000</td>\n",
       "      <td>189.114000</td>\n",
       "      <td>26.288000</td>\n",
       "      <td>0.040531</td>\n",
       "      <td>4.599000</td>\n",
       "      <td>25.322000</td>\n",
       "      <td>229.455000</td>\n",
       "      <td>14.137000</td>\n",
       "      <td>0.000000</td>\n",
       "      <td>-21.548000</td>\n",
       "      <td>0.095203</td>\n",
       "      <td>0.038484</td>\n",
       "      <td>80.010185</td>\n",
       "      <td>-20.503000</td>\n",
       "    </tr>\n",
       "    <tr>\n",
       "      <th>75%</th>\n",
       "      <td>348.000000</td>\n",
       "      <td>5.000000</td>\n",
       "      <td>222.525000</td>\n",
       "      <td>40.456000</td>\n",
       "      <td>0.053552</td>\n",
       "      <td>6.114000</td>\n",
       "      <td>25.860000</td>\n",
       "      <td>345.042000</td>\n",
       "      <td>14.441000</td>\n",
       "      <td>0.000000</td>\n",
       "      <td>-21.092000</td>\n",
       "      <td>0.126877</td>\n",
       "      <td>0.063621</td>\n",
       "      <td>103.608818</td>\n",
       "      <td>-20.064000</td>\n",
       "    </tr>\n",
       "    <tr>\n",
       "      <th>max</th>\n",
       "      <td>462.000000</td>\n",
       "      <td>8.000000</td>\n",
       "      <td>256.452000</td>\n",
       "      <td>66.698000</td>\n",
       "      <td>0.099173</td>\n",
       "      <td>22.096000</td>\n",
       "      <td>26.328000</td>\n",
       "      <td>828.015000</td>\n",
       "      <td>14.766000</td>\n",
       "      <td>1.000000</td>\n",
       "      <td>-19.821000</td>\n",
       "      <td>0.316301</td>\n",
       "      <td>0.857740</td>\n",
       "      <td>237.852844</td>\n",
       "      <td>-18.075000</td>\n",
       "    </tr>\n",
       "  </tbody>\n",
       "</table>\n",
       "</div>"
      ],
      "text/plain": [
       "            i_gru         n_m          Ra         dec           z    thete_g   \\\n",
       "count  449.000000  449.000000  449.000000  449.000000  449.000000  449.000000   \n",
       "mean   231.260579    4.481069  190.118795   27.589619    0.043466    4.934653   \n",
       "std    134.488337    0.829276   37.989193   17.308637    0.016826    2.590347   \n",
       "min      1.000000    4.000000  114.842000   -2.872000    0.013770    0.754000   \n",
       "25%    114.000000    4.000000  158.754000   13.424000    0.030645    3.240000   \n",
       "50%    233.000000    4.000000  189.114000   26.288000    0.040531    4.599000   \n",
       "75%    348.000000    5.000000  222.525000   40.456000    0.053552    6.114000   \n",
       "max    462.000000    8.000000  256.452000   66.698000    0.099173   22.096000   \n",
       "\n",
       "               mu        sigv         r_b        flag       rabs1        d_ij  \\\n",
       "count  449.000000  449.000000  449.000000  449.000000  449.000000  449.000000   \n",
       "mean    25.147688  262.715163   13.981069    0.122494  -21.545713    0.101298   \n",
       "std      0.892652  154.231439    0.605246    0.328222    0.633751    0.042363   \n",
       "min     21.608000   21.382000   11.471000    0.000000  -23.267000    0.022788   \n",
       "25%     24.651000  150.393000   13.609000    0.000000  -22.018000    0.069527   \n",
       "50%     25.322000  229.455000   14.137000    0.000000  -21.548000    0.095203   \n",
       "75%     25.860000  345.042000   14.441000    0.000000  -21.092000    0.126877   \n",
       "max     26.328000  828.015000   14.766000    1.000000  -19.821000    0.316301   \n",
       "\n",
       "              tcr          rp       rabs2  \n",
       "count  449.000000  449.000000  449.000000  \n",
       "mean     0.055226   83.052920  -20.492352  \n",
       "std      0.065116   34.084984    0.681351  \n",
       "min      0.003691   14.666728  -22.130000  \n",
       "25%      0.023276   57.150177  -20.941000  \n",
       "50%      0.038484   80.010185  -20.503000  \n",
       "75%      0.063621  103.608818  -20.064000  \n",
       "max      0.857740  237.852844  -18.075000  "
      ]
     },
     "execution_count": 3,
     "metadata": {},
     "output_type": "execute_result"
    }
   ],
   "source": [
    "df.describe()"
   ]
  },
  {
   "cell_type": "code",
   "execution_count": 4,
   "metadata": {},
   "outputs": [
    {
     "data": {
      "text/plain": [
       "'Loose'"
      ]
     },
     "execution_count": 4,
     "metadata": {},
     "output_type": "execute_result"
    }
   ],
   "source": [
    "df.Target.iloc[0]"
   ]
  },
  {
   "cell_type": "markdown",
   "metadata": {
    "id": "0Lhd4AuimMPZ"
   },
   "source": []
  },
  {
   "cell_type": "code",
   "execution_count": 5,
   "metadata": {
    "id": "l5oKFQpLjkev"
   },
   "outputs": [
    {
     "data": {
      "image/png": "[encoded data removed]",
      "text/plain": [
       "<Figure size 640x480 with 1 Axes>"
      ]
     },
     "metadata": {},
     "output_type": "display_data"
    }
   ],
   "source": [
    "df['rp'].plot.bar()\n",
    "plt.show()"
   ]
  },
  {
   "cell_type": "code",
   "execution_count": 6,
   "metadata": {},
   "outputs": [
    {
     "name": "stderr",
     "output_type": "stream",
     "text": [
      "/home/ataverna/miniconda3/miniconda3/lib/python3.7/site-packages/matplotlib/figure.py:2369: UserWarning: This figure includes Axes that are not compatible with tight_layout, so results might be incorrect.\n",
      "  warnings.warn(\"This figure includes Axes that are not compatible \"\n"
     ]
    },
    {
     "data": {
      "image/png": "[encoded data removed]",
      "text/plain": [
       "<Figure size 800x500 with 1 Axes>"
      ]
     },
     "metadata": {},
     "output_type": "display_data"
    }
   ],
   "source": [
    "plt.rcParams[\"figure.figsize\"] = [8, 5]\n",
    "plt.rcParams[\"figure.autolayout\"] = True\n",
    "#seaborn.set_theme(style=\"darkgrid\")\n",
    "seaborn.countplot(x=\"Target\", data=df)\n",
    "plt.title(\"Cantidad de cada tipo de galaxia\")\n",
    "plt.xlabel(\"Clases de CG\")\n",
    "plt.ylabel(\"Cantidad de CG\")\n",
    "plt.show()"
   ]
  },
  {
   "cell_type": "code",
   "execution_count": 7,
   "metadata": {
    "id": "ATGZRJ_LmMwJ"
   },
   "outputs": [
    {
     "data": {
      "image/png": "[encoded data removed]",
      "text/plain": [
       "<Figure size 800x500 with 16 Axes>"
      ]
     },
     "metadata": {},
     "output_type": "display_data"
    }
   ],
   "source": [
    "df.hist()\n",
    "plt.show()"
   ]
  },
  {
   "cell_type": "code",
   "execution_count": null,
   "metadata": {},
   "outputs": [],
   "source": []
  },
  {
   "cell_type": "markdown",
   "metadata": {
    "id": "zEUASMS2jkev"
   },
   "source": [
    "**Split:**\n",
    "    \n",
    "- Dividimos los datos en conjuntos de Train, Test"
   ]
  },
  {
   "cell_type": "code",
   "execution_count": 46,
   "metadata": {},
   "outputs": [
    {
     "data": {
      "text/html": [
       "<div>\n",
       "<style scoped>\n",
       "    .dataframe tbody tr th:only-of-type {\n",
       "        vertical-align: middle;\n",
       "    }\n",
       "\n",
       "    .dataframe tbody tr th {\n",
       "        vertical-align: top;\n",
       "    }\n",
       "\n",
       "    .dataframe thead th {\n",
       "        text-align: right;\n",
       "    }\n",
       "</style>\n",
       "<table border=\"1\" class=\"dataframe\">\n",
       "  <thead>\n",
       "    <tr style=\"text-align: right;\">\n",
       "      <th></th>\n",
       "      <th>n_m</th>\n",
       "      <th>z</th>\n",
       "      <th>thete_g</th>\n",
       "      <th>mu</th>\n",
       "      <th>sigv</th>\n",
       "      <th>r_b</th>\n",
       "      <th>flag</th>\n",
       "      <th>rabs1</th>\n",
       "      <th>d_ij</th>\n",
       "      <th>tcr</th>\n",
       "      <th>rp</th>\n",
       "      <th>rabs2</th>\n",
       "      <th>Target</th>\n",
       "    </tr>\n",
       "  </thead>\n",
       "  <tbody>\n",
       "    <tr>\n",
       "      <th>0</th>\n",
       "      <td>4</td>\n",
       "      <td>0.046817</td>\n",
       "      <td>4.090</td>\n",
       "      <td>25.289</td>\n",
       "      <td>274.092</td>\n",
       "      <td>14.289</td>\n",
       "      <td>0</td>\n",
       "      <td>-21.512</td>\n",
       "      <td>0.092313</td>\n",
       "      <td>0.030544</td>\n",
       "      <td>82.543709</td>\n",
       "      <td>-20.895</td>\n",
       "      <td>Loose</td>\n",
       "    </tr>\n",
       "    <tr>\n",
       "      <th>1</th>\n",
       "      <td>5</td>\n",
       "      <td>0.021810</td>\n",
       "      <td>5.095</td>\n",
       "      <td>23.789</td>\n",
       "      <td>409.803</td>\n",
       "      <td>12.839</td>\n",
       "      <td>0</td>\n",
       "      <td>-21.235</td>\n",
       "      <td>0.055582</td>\n",
       "      <td>0.012300</td>\n",
       "      <td>48.176819</td>\n",
       "      <td>-21.207</td>\n",
       "      <td>Loose</td>\n",
       "    </tr>\n",
       "    <tr>\n",
       "      <th>2</th>\n",
       "      <td>4</td>\n",
       "      <td>0.054922</td>\n",
       "      <td>1.200</td>\n",
       "      <td>22.297</td>\n",
       "      <td>461.528</td>\n",
       "      <td>14.072</td>\n",
       "      <td>0</td>\n",
       "      <td>-22.218</td>\n",
       "      <td>0.034610</td>\n",
       "      <td>0.006801</td>\n",
       "      <td>28.362265</td>\n",
       "      <td>-22.014</td>\n",
       "      <td>Loose</td>\n",
       "    </tr>\n",
       "    <tr>\n",
       "      <th>3</th>\n",
       "      <td>4</td>\n",
       "      <td>0.048037</td>\n",
       "      <td>4.784</td>\n",
       "      <td>25.242</td>\n",
       "      <td>356.045</td>\n",
       "      <td>13.942</td>\n",
       "      <td>0</td>\n",
       "      <td>-21.989</td>\n",
       "      <td>0.144234</td>\n",
       "      <td>0.036739</td>\n",
       "      <td>99.029404</td>\n",
       "      <td>-21.446</td>\n",
       "      <td>Loose</td>\n",
       "    </tr>\n",
       "    <tr>\n",
       "      <th>4</th>\n",
       "      <td>6</td>\n",
       "      <td>0.016655</td>\n",
       "      <td>22.096</td>\n",
       "      <td>26.218</td>\n",
       "      <td>297.232</td>\n",
       "      <td>11.471</td>\n",
       "      <td>0</td>\n",
       "      <td>-22.052</td>\n",
       "      <td>0.134944</td>\n",
       "      <td>0.041174</td>\n",
       "      <td>159.737412</td>\n",
       "      <td>-20.325</td>\n",
       "      <td>Loose</td>\n",
       "    </tr>\n",
       "    <tr>\n",
       "      <th>...</th>\n",
       "      <td>...</td>\n",
       "      <td>...</td>\n",
       "      <td>...</td>\n",
       "      <td>...</td>\n",
       "      <td>...</td>\n",
       "      <td>...</td>\n",
       "      <td>...</td>\n",
       "      <td>...</td>\n",
       "      <td>...</td>\n",
       "      <td>...</td>\n",
       "      <td>...</td>\n",
       "      <td>...</td>\n",
       "      <td>...</td>\n",
       "    </tr>\n",
       "    <tr>\n",
       "      <th>444</th>\n",
       "      <td>4</td>\n",
       "      <td>0.053326</td>\n",
       "      <td>1.953</td>\n",
       "      <td>24.141</td>\n",
       "      <td>687.977</td>\n",
       "      <td>14.565</td>\n",
       "      <td>1</td>\n",
       "      <td>-21.532</td>\n",
       "      <td>0.066521</td>\n",
       "      <td>0.008769</td>\n",
       "      <td>44.825672</td>\n",
       "      <td>-20.269</td>\n",
       "      <td>Node</td>\n",
       "    </tr>\n",
       "    <tr>\n",
       "      <th>445</th>\n",
       "      <td>5</td>\n",
       "      <td>0.052727</td>\n",
       "      <td>1.905</td>\n",
       "      <td>23.414</td>\n",
       "      <td>585.995</td>\n",
       "      <td>13.838</td>\n",
       "      <td>1</td>\n",
       "      <td>-22.291</td>\n",
       "      <td>0.060822</td>\n",
       "      <td>0.009413</td>\n",
       "      <td>43.243839</td>\n",
       "      <td>-20.500</td>\n",
       "      <td>Node</td>\n",
       "    </tr>\n",
       "    <tr>\n",
       "      <th>446</th>\n",
       "      <td>5</td>\n",
       "      <td>0.053977</td>\n",
       "      <td>1.790</td>\n",
       "      <td>23.430</td>\n",
       "      <td>658.660</td>\n",
       "      <td>14.648</td>\n",
       "      <td>1</td>\n",
       "      <td>-21.534</td>\n",
       "      <td>0.052239</td>\n",
       "      <td>0.007193</td>\n",
       "      <td>41.574524</td>\n",
       "      <td>-21.443</td>\n",
       "      <td>Node</td>\n",
       "    </tr>\n",
       "    <tr>\n",
       "      <th>447</th>\n",
       "      <td>4</td>\n",
       "      <td>0.088407</td>\n",
       "      <td>2.152</td>\n",
       "      <td>24.299</td>\n",
       "      <td>425.346</td>\n",
       "      <td>14.483</td>\n",
       "      <td>1</td>\n",
       "      <td>-22.817</td>\n",
       "      <td>0.125295</td>\n",
       "      <td>0.026715</td>\n",
       "      <td>81.193481</td>\n",
       "      <td>-21.532</td>\n",
       "      <td>Node</td>\n",
       "    </tr>\n",
       "    <tr>\n",
       "      <th>448</th>\n",
       "      <td>7</td>\n",
       "      <td>0.088284</td>\n",
       "      <td>2.848</td>\n",
       "      <td>24.767</td>\n",
       "      <td>618.416</td>\n",
       "      <td>14.575</td>\n",
       "      <td>1</td>\n",
       "      <td>-22.733</td>\n",
       "      <td>0.104624</td>\n",
       "      <td>0.015343</td>\n",
       "      <td>107.315010</td>\n",
       "      <td>-22.043</td>\n",
       "      <td>Node</td>\n",
       "    </tr>\n",
       "  </tbody>\n",
       "</table>\n",
       "<p>449 rows × 13 columns</p>\n",
       "</div>"
      ],
      "text/plain": [
       "     n_m         z  thete_g       mu     sigv     r_b  flag   rabs1      d_ij  \\\n",
       "0      4  0.046817     4.090  25.289  274.092  14.289     0 -21.512  0.092313   \n",
       "1      5  0.021810     5.095  23.789  409.803  12.839     0 -21.235  0.055582   \n",
       "2      4  0.054922     1.200  22.297  461.528  14.072     0 -22.218  0.034610   \n",
       "3      4  0.048037     4.784  25.242  356.045  13.942     0 -21.989  0.144234   \n",
       "4      6  0.016655    22.096  26.218  297.232  11.471     0 -22.052  0.134944   \n",
       "..   ...       ...       ...     ...      ...     ...   ...     ...       ...   \n",
       "444    4  0.053326     1.953  24.141  687.977  14.565     1 -21.532  0.066521   \n",
       "445    5  0.052727     1.905  23.414  585.995  13.838     1 -22.291  0.060822   \n",
       "446    5  0.053977     1.790  23.430  658.660  14.648     1 -21.534  0.052239   \n",
       "447    4  0.088407     2.152  24.299  425.346  14.483     1 -22.817  0.125295   \n",
       "448    7  0.088284     2.848  24.767  618.416  14.575     1 -22.733  0.104624   \n",
       "\n",
       "          tcr          rp   rabs2 Target  \n",
       "0    0.030544   82.543709 -20.895  Loose  \n",
       "1    0.012300   48.176819 -21.207  Loose  \n",
       "2    0.006801   28.362265 -22.014  Loose  \n",
       "3    0.036739   99.029404 -21.446  Loose  \n",
       "4    0.041174  159.737412 -20.325  Loose  \n",
       "..        ...         ...     ...    ...  \n",
       "444  0.008769   44.825672 -20.269   Node  \n",
       "445  0.009413   43.243839 -20.500   Node  \n",
       "446  0.007193   41.574524 -21.443   Node  \n",
       "447  0.026715   81.193481 -21.532   Node  \n",
       "448  0.015343  107.315010 -22.043   Node  \n",
       "\n",
       "[449 rows x 13 columns]"
      ]
     },
     "execution_count": 46,
     "metadata": {},
     "output_type": "execute_result"
    }
   ],
   "source": [
    "df1 = df.drop(['i_gru','Ra','dec'],axis=1).copy()\n",
    "df1"
   ]
  },
  {
   "cell_type": "code",
   "execution_count": 47,
   "metadata": {
    "id": "Ujbh-AdAjkew"
   },
   "outputs": [],
   "source": [
    "#X:Features\n",
    "X, y  = df1.iloc[:, :-1], df1.Target\n",
    "X_train, X_test, y_train, y_test = train_test_split(X, y, test_size=0.3)"
   ]
  },
  {
   "cell_type": "markdown",
   "metadata": {
    "id": "LVvZ-Xmejkew"
   },
   "source": [
    "**Scaling:**\n",
    "\n",
    "- Escalamos los Features para mejorar el aprendizaje de los modelos"
   ]
  },
  {
   "cell_type": "code",
   "execution_count": 48,
   "metadata": {
    "id": "1JNyuto2jkex"
   },
   "outputs": [],
   "source": [
    "'''Normalización'''\n",
    "\n",
    "## Método\n",
    "min_max_scaler = preprocessing.MinMaxScaler()\n",
    "\n",
    "# Train\n",
    "X_train_scale = min_max_scaler.fit_transform(X_train).copy()\n",
    "\n",
    "# Test\n",
    "X_test_scale =  min_max_scaler.transform(X_test).copy()"
   ]
  },
  {
   "cell_type": "code",
   "execution_count": 49,
   "metadata": {},
   "outputs": [
    {
     "data": {
      "text/plain": [
       "MinMaxScaler()"
      ]
     },
     "execution_count": 49,
     "metadata": {},
     "output_type": "execute_result"
    }
   ],
   "source": [
    "min_max_scaler"
   ]
  },
  {
   "cell_type": "code",
   "execution_count": 25,
   "metadata": {
    "collapsed": true
   },
   "outputs": [
    {
     "data": {
      "text/plain": [
       "array([[0.37960954, 0.75      , 0.4576513 , ..., 0.15969983, 0.73181715,\n",
       "        0.28332064],\n",
       "       [0.87635575, 0.        , 0.99898312, ..., 0.22002291, 0.41271874,\n",
       "        0.49047982],\n",
       "       [0.72668113, 0.        , 0.81834616, ..., 0.03452534, 0.23849445,\n",
       "        0.24067022],\n",
       "       ...,\n",
       "       [0.66160521, 0.        , 0.75529977, ..., 0.07874468, 0.37623397,\n",
       "        0.5209444 ],\n",
       "       [0.98047722, 0.75      , 0.86295459, ..., 0.05491403, 0.61377154,\n",
       "        0.31962427],\n",
       "       [0.11713666, 0.25      , 0.20896123, ..., 0.04801972, 0.36395857,\n",
       "        0.59253618]])"
      ]
     },
     "execution_count": 25,
     "metadata": {},
     "output_type": "execute_result"
    }
   ],
   "source": [
    "X_train_scale"
   ]
  },
  {
   "cell_type": "markdown",
   "metadata": {
    "id": "JKChf06vjkex"
   },
   "source": [
    "**Modelo:** \n",
    "\n",
    "- Defino el modelo a entrenar. "
   ]
  },
  {
   "cell_type": "code",
   "execution_count": 51,
   "metadata": {
    "id": "v0dpgEwpjkex"
   },
   "outputs": [],
   "source": [
    "'''Random Forest'''\n",
    "rf = RandomForestClassifier(criterion='gini', \n",
    "                             n_estimators=700,\n",
    "                             min_samples_split=10,\n",
    "                             min_samples_leaf=1,\n",
    "                             max_features='auto',\n",
    "                             oob_score=True,\n",
    "                             random_state=1,\n",
    "                             n_jobs=-1)\n"
   ]
  },
  {
   "cell_type": "markdown",
   "metadata": {
    "id": "Uo2aNoWYjkey"
   },
   "source": [
    "**Train:**"
   ]
  },
  {
   "cell_type": "code",
   "execution_count": 28,
   "metadata": {
    "collapsed": true,
    "id": "61PkgcXQjkey"
   },
   "outputs": [
    {
     "data": {
      "text/plain": [
       "(     i_gru  n_m       Ra     dec         z  thete_g       mu     sigv     r_b  \\\n",
       " 222    176    7  179.650  28.362  0.029104    11.423  26.301  233.443  13.570   \n",
       " 121    405    4  256.308  23.161  0.030892     6.550  25.781  143.950  13.720   \n",
       " 382    336    4  230.728   7.346  0.076734     1.729  23.824  434.139  14.455   \n",
       " 317    436    4  207.619  24.948  0.030552     4.064  24.741   90.490  13.834   \n",
       " 36     112    4  162.523   0.330  0.040880     4.109  24.700  437.002  13.455   \n",
       " ..     ...  ...      ...     ...       ...       ...     ...      ...     ...   \n",
       " 196    111    5  162.307  29.856  0.032533     6.732  25.978   47.751  13.810   \n",
       " 359     74    4  151.089   0.506  0.047548     3.568  25.129  241.973  14.355   \n",
       " 270    306    4  221.800  20.275  0.043863     4.287  25.830  210.335  14.727   \n",
       " 135    453    7  237.045   9.131  0.041120     6.933  25.843  411.421  13.946   \n",
       " 166     55    5  144.433  17.083  0.028685     6.357  26.070  400.455  14.302   \n",
       " \n",
       "      flag   rabs1      d_ij       tcr          rp   rabs2  \n",
       " 222     0 -21.215  0.176037  0.068388  143.908951 -20.898  \n",
       " 121     0 -21.202  0.147341  0.092826   87.554726 -20.082  \n",
       " 382     0 -22.565  0.084626  0.017678   56.785927 -21.066  \n",
       " 317     1 -21.048  0.060261  0.060393   53.731125 -20.799  \n",
       " 36      0 -22.054  0.073103  0.015171   72.512482 -20.608  \n",
       " ..    ...     ...       ...       ...         ...     ...  \n",
       " 196     0 -21.205  0.121508  0.230770   94.730255 -20.026  \n",
       " 359     0 -21.548  0.118101  0.044263   73.118828 -20.187  \n",
       " 270     0 -20.985  0.082548  0.035592   81.111351 -19.962  \n",
       " 135     1 -21.614  0.117669  0.025938  123.061562 -20.755  \n",
       " 166     0 -20.443  0.102199  0.023145   78.943459 -19.680  \n",
       " \n",
       " [314 rows x 15 columns],\n",
       " 222    Field\n",
       " 121    Loose\n",
       " 382      FIl\n",
       " 317    Field\n",
       " 36     Loose\n",
       "        ...  \n",
       " 196    Field\n",
       " 359      FIl\n",
       " 270    Field\n",
       " 135    Loose\n",
       " 166    Field\n",
       " Name: Target, Length: 314, dtype: object)"
      ]
     },
     "execution_count": 28,
     "metadata": {},
     "output_type": "execute_result"
    }
   ],
   "source": [
    "X_train, y_train"
   ]
  },
  {
   "cell_type": "code",
   "execution_count": 52,
   "metadata": {},
   "outputs": [
    {
     "data": {
      "text/plain": [
       "RandomForestClassifier(min_samples_split=10, n_estimators=700, n_jobs=-1,\n",
       "                       oob_score=True, random_state=1)"
      ]
     },
     "execution_count": 52,
     "metadata": {},
     "output_type": "execute_result"
    }
   ],
   "source": [
    "# preprocesado por varianza y normalizado\n",
    "rf_2 = clone(rf)\n",
    "rf_2.fit(X_train_scale, y_train)\n"
   ]
  },
  {
   "cell_type": "markdown",
   "metadata": {
    "id": "K-4yoOEwjkez"
   },
   "source": [
    "**Test:**"
   ]
  },
  {
   "cell_type": "code",
   "execution_count": 53,
   "metadata": {
    "id": "gx0wM7vKjkez",
    "scrolled": true
   },
   "outputs": [
    {
     "name": "stdout",
     "output_type": "stream",
     "text": [
      "X_val - Micro-F1-Score: 0.4296296296296296\n",
      "              precision    recall  f1-score   support\n",
      "\n",
      "         FIl       0.00      0.00      0.00        15\n",
      "       Field       0.53      0.65      0.59        60\n",
      "       Loose       0.26      0.32      0.29        37\n",
      "        Node       0.50      0.43      0.46        14\n",
      "        VoiR       0.00      0.00      0.00         6\n",
      "        VoiS       0.25      0.33      0.29         3\n",
      "\n",
      "    accuracy                           0.43       135\n",
      "   macro avg       0.26      0.29      0.27       135\n",
      "weighted avg       0.37      0.43      0.39       135\n",
      "\n",
      "Accuracy en train:\t 0.42962962962962964\n",
      "f1_score [0.         0.58646617 0.28915663 0.46153846 0.         0.28571429]\n"
     ]
    },
    {
     "name": "stderr",
     "output_type": "stream",
     "text": [
      "/home/ataverna/miniconda3/miniconda3/lib/python3.7/site-packages/sklearn/metrics/_classification.py:1248: UndefinedMetricWarning: Precision and F-score are ill-defined and being set to 0.0 in labels with no predicted samples. Use `zero_division` parameter to control this behavior.\n",
      "  _warn_prf(average, modifier, msg_start, len(result))\n",
      "/home/ataverna/miniconda3/miniconda3/lib/python3.7/site-packages/sklearn/metrics/_classification.py:1248: UndefinedMetricWarning: Precision and F-score are ill-defined and being set to 0.0 in labels with no predicted samples. Use `zero_division` parameter to control this behavior.\n",
      "  _warn_prf(average, modifier, msg_start, len(result))\n",
      "/home/ataverna/miniconda3/miniconda3/lib/python3.7/site-packages/sklearn/metrics/_classification.py:1248: UndefinedMetricWarning: Precision and F-score are ill-defined and being set to 0.0 in labels with no predicted samples. Use `zero_division` parameter to control this behavior.\n",
      "  _warn_prf(average, modifier, msg_start, len(result))\n"
     ]
    }
   ],
   "source": [
    "y_pred_2 = rf_2.predict(X_test_scale)\n",
    "print('X_val - Micro-F1-Score:', f1_score(y_pred_2, y_test, average='micro'))\n",
    "print(classification_report(y_test, y_pred_2))\n",
    "print('Accuracy en train:\\t', accuracy_score(y_test, y_pred_2))\n",
    "print('f1_score', f1_score(y_pred_2, y_test, average=None))"
   ]
  },
  {
   "cell_type": "code",
   "execution_count": 36,
   "metadata": {
    "collapsed": true
   },
   "outputs": [
    {
     "data": {
      "text/plain": [
       "array(['Loose', 'Field', 'Node', 'Field', 'Field', 'Field', 'Field',\n",
       "       'Field', 'Field', 'Field', 'Node', 'Field', 'Field', 'Field',\n",
       "       'Field', 'Field', 'Field', 'Node', 'Loose', 'Field', 'Loose',\n",
       "       'Field', 'VoiS', 'Field', 'Field', 'Loose', 'Node', 'Loose',\n",
       "       'Loose', 'Loose', 'Loose', 'Field', 'Loose', 'Field', 'Node',\n",
       "       'Field', 'Field', 'Node', 'Field', 'Field', 'Field', 'Loose',\n",
       "       'Field', 'Field', 'Loose', 'Field', 'Field', 'Loose', 'Field',\n",
       "       'Loose', 'Field', 'Loose', 'Field', 'Field', 'FIl', 'Field',\n",
       "       'Loose', 'Field', 'VoiS', 'Field', 'Field', 'Field', 'Field',\n",
       "       'Loose', 'Loose', 'Field', 'Field', 'Field', 'Field', 'Field',\n",
       "       'Field', 'Field', 'Field', 'Loose', 'Field', 'Field', 'Field',\n",
       "       'Field', 'Loose', 'Field', 'Loose', 'Field', 'Field', 'Field',\n",
       "       'Field', 'Loose', 'Field', 'Field', 'Field', 'Field', 'Field',\n",
       "       'Loose', 'Loose', 'Field', 'Field', 'Loose', 'Loose', 'Loose',\n",
       "       'Field', 'Loose', 'Field', 'Field', 'Field', 'Loose', 'Field',\n",
       "       'Field', 'Field', 'Field', 'Field', 'Field', 'Loose', 'Loose',\n",
       "       'Field', 'Loose', 'Field', 'FIl', 'Field', 'Field', 'Field',\n",
       "       'Field', 'Loose', 'Field', 'Field', 'Field', 'Field', 'FIl',\n",
       "       'Loose', 'Field', 'Field', 'Field', 'Loose', 'Field', 'Field',\n",
       "       'Field', 'Field'], dtype=object)"
      ]
     },
     "execution_count": 36,
     "metadata": {},
     "output_type": "execute_result"
    }
   ],
   "source": [
    "y_pred_2"
   ]
  },
  {
   "cell_type": "code",
   "execution_count": 38,
   "metadata": {
    "collapsed": true
   },
   "outputs": [
    {
     "data": {
      "text/plain": [
       "array(['Node', 'FIl', 'Node', 'Loose', 'Field', 'Field', 'Field', 'Field',\n",
       "       'VoiS', 'Loose', 'Node', 'Loose', 'Loose', 'Loose', 'Field',\n",
       "       'Loose', 'Loose', 'Node', 'Loose', 'Field', 'Loose', 'Field',\n",
       "       'VoiS', 'Node', 'FIl', 'Loose', 'FIl', 'Loose', 'Node', 'Field',\n",
       "       'FIl', 'FIl', 'Node', 'Field', 'Node', 'Loose', 'Loose', 'VoiR',\n",
       "       'Field', 'FIl', 'Loose', 'Field', 'FIl', 'FIl', 'Loose', 'Loose',\n",
       "       'Node', 'Loose', 'Field', 'Node', 'Field', 'Loose', 'Field',\n",
       "       'Loose', 'Loose', 'Field', 'FIl', 'Field', 'Loose', 'Node', 'FIl',\n",
       "       'Loose', 'Field', 'Loose', 'Node', 'Loose', 'Field', 'Field',\n",
       "       'Field', 'Field', 'Loose', 'Loose', 'Field', 'Loose', 'Loose',\n",
       "       'VoiS', 'Field', 'Field', 'Field', 'Loose', 'Loose', 'Field',\n",
       "       'Loose', 'Field', 'Field', 'Field', 'Loose', 'Loose', 'Loose',\n",
       "       'Field', 'Node', 'Field', 'Node', 'Loose', 'Field', 'Field',\n",
       "       'Field', 'Field', 'Field', 'Node', 'Field', 'Field', 'Field',\n",
       "       'Loose', 'Field', 'Loose', 'Field', 'Field', 'Field', 'VoiR',\n",
       "       'Loose', 'VoiR', 'Field', 'Field', 'Field', 'Loose', 'Field',\n",
       "       'Field', 'Loose', 'Field', 'Field', 'Field', 'Field', 'Field',\n",
       "       'Field', 'Node', 'FIl', 'Loose', 'Loose', 'Field', 'Loose', 'VoiS',\n",
       "       'Loose', 'Loose', 'Loose'], dtype=object)"
      ]
     },
     "execution_count": 38,
     "metadata": {},
     "output_type": "execute_result"
    }
   ],
   "source": [
    "y_test.values"
   ]
  },
  {
   "cell_type": "raw",
   "metadata": {},
   "source": [
    "X_val - Micro-F1-Score: 0.4666666666666667\n",
    "              precision    recall  f1-score   support\n",
    "\n",
    "         FIl       0.00      0.00      0.00        11\n",
    "       Field       0.50      0.82      0.62        55\n",
    "       Loose       0.38      0.28      0.33        46\n",
    "        Node       0.67      0.25      0.36        16\n",
    "        VoiR       0.00      0.00      0.00         3\n",
    "        VoiS       0.50      0.25      0.33         4\n",
    "\n",
    "    accuracy                           0.47       135\n",
    "   macro avg       0.34      0.27      0.27       135\n",
    "weighted avg       0.43      0.47      0.42       135\n",
    "\n",
    "Accuracy en train:\t 0.4666666666666667\n",
    "f1_score [0.         0.62068966 0.325      0.36363636 0.         0.33333333]"
   ]
  },
  {
   "cell_type": "code",
   "execution_count": null,
   "metadata": {},
   "outputs": [],
   "source": []
  }
 ],
 "metadata": {
  "colab": {
   "name": "clases.ipynb",
   "provenance": []
  },
  "kernelspec": {
   "display_name": "Python 3",
   "language": "python",
   "name": "python3"
  },
  "language_info": {
   "codemirror_mode": {
    "name": "ipython",
    "version": 3
   },
   "file_extension": ".py",
   "mimetype": "text/x-python",
   "name": "python",
   "nbconvert_exporter": "python",
   "pygments_lexer": "ipython3",
   "version": "3.7.3"
  }
 },
 "nbformat": 4,
 "nbformat_minor": 1
}
