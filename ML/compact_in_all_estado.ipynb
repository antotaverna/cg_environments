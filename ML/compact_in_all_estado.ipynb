{
 "cells": [
  {
   "cell_type": "markdown",
   "id": "2fcc5f2b-e13b-4529-a3bc-cd6ec3e1da09",
   "metadata": {},
   "source": [
    "Construcción de conjunto de datos con etiqueta de grupos compactos cerca o lejos de los voids"
   ]
  },
  {
   "cell_type": "markdown",
   "id": "695672a2-29d8-44a5-bd14-5b42260f1700",
   "metadata": {},
   "source": [
    "Voy hacer un compact_in_all, pero en la ultima columna de Target va ir voidC voidL, remplanzado void S y void R, el C es de cerca y la L de lejos"
   ]
  },
  {
   "cell_type": "code",
   "execution_count": 1,
   "id": "2a017fca-9384-4ea1-afb2-700751b122bb",
   "metadata": {},
   "outputs": [],
   "source": [
    "import pandas as pd\n",
    "import matplotlib.pyplot as plt\n",
    "import seaborn as sns\n",
    "import random\n",
    "random.seed(0)\n",
    "from collections import Counter\n",
    "import numpy as np\n",
    "from itertools import cycle, islice\n",
    "\n",
    "import numpy as np\n",
    "np.random.seed(0)"
   ]
  },
  {
   "cell_type": "markdown",
   "id": "a9344ee1-9d66-4f03-8c8f-a48e2e23fdb6",
   "metadata": {},
   "source": [
    "**funciones**"
   ]
  },
  {
   "cell_type": "code",
   "execution_count": 2,
   "id": "17b00cec-6306-4c0a-af4d-7fb6de2f91d9",
   "metadata": {},
   "outputs": [],
   "source": [
    "def diff(list1, list2):\n",
    "    c = set(list1).union(set(list2))  # or c = set(list1) | set(list2)\n",
    "    d = set(list1).intersection(set(list2))  # or d = set(list1) & set(list2)\n",
    "    return list(c - d)"
   ]
  },
  {
   "cell_type": "code",
   "execution_count": 3,
   "id": "7f1a5d37-a175-4b67-8092-08865b5a9234",
   "metadata": {},
   "outputs": [
    {
     "data": {
      "text/html": [
       "<div>\n",
       "<style scoped>\n",
       "    .dataframe tbody tr th:only-of-type {\n",
       "        vertical-align: middle;\n",
       "    }\n",
       "\n",
       "    .dataframe tbody tr th {\n",
       "        vertical-align: top;\n",
       "    }\n",
       "\n",
       "    .dataframe thead th {\n",
       "        text-align: right;\n",
       "    }\n",
       "</style>\n",
       "<table border=\"1\" class=\"dataframe\">\n",
       "  <thead>\n",
       "    <tr style=\"text-align: right;\">\n",
       "      <th></th>\n",
       "      <th>i_gru</th>\n",
       "      <th>n_m</th>\n",
       "      <th>Ra</th>\n",
       "      <th>dec</th>\n",
       "      <th>z</th>\n",
       "      <th>thete_g</th>\n",
       "      <th>mu</th>\n",
       "      <th>sigv</th>\n",
       "      <th>r_b</th>\n",
       "      <th>flag</th>\n",
       "      <th>rabs1</th>\n",
       "      <th>d_ij</th>\n",
       "      <th>tcr</th>\n",
       "      <th>rp</th>\n",
       "      <th>rabs2</th>\n",
       "      <th>tipo</th>\n",
       "      <th>estado</th>\n",
       "    </tr>\n",
       "  </thead>\n",
       "  <tbody>\n",
       "    <tr>\n",
       "      <th>0</th>\n",
       "      <td>45</td>\n",
       "      <td>4</td>\n",
       "      <td>139.228</td>\n",
       "      <td>29.355</td>\n",
       "      <td>0.037095</td>\n",
       "      <td>6.212</td>\n",
       "      <td>26.001</td>\n",
       "      <td>204.675</td>\n",
       "      <td>14.300</td>\n",
       "      <td>0</td>\n",
       "      <td>-21.026</td>\n",
       "      <td>0.111687</td>\n",
       "      <td>0.049488</td>\n",
       "      <td>99.560814</td>\n",
       "      <td>-20.614</td>\n",
       "      <td>0.0</td>\n",
       "      <td>-1</td>\n",
       "    </tr>\n",
       "    <tr>\n",
       "      <th>1</th>\n",
       "      <td>73</td>\n",
       "      <td>4</td>\n",
       "      <td>151.012</td>\n",
       "      <td>31.098</td>\n",
       "      <td>0.022236</td>\n",
       "      <td>12.331</td>\n",
       "      <td>26.277</td>\n",
       "      <td>243.871</td>\n",
       "      <td>12.448</td>\n",
       "      <td>0</td>\n",
       "      <td>-21.662</td>\n",
       "      <td>0.166542</td>\n",
       "      <td>0.061933</td>\n",
       "      <td>118.873787</td>\n",
       "      <td>-19.414</td>\n",
       "      <td>1.0</td>\n",
       "      <td>0</td>\n",
       "    </tr>\n",
       "  </tbody>\n",
       "</table>\n",
       "</div>"
      ],
      "text/plain": [
       "   i_gru  n_m       Ra     dec         z  thete_g       mu     sigv     r_b  \\\n",
       "0     45    4  139.228  29.355  0.037095     6.212  26.001  204.675  14.300   \n",
       "1     73    4  151.012  31.098  0.022236    12.331  26.277  243.871  12.448   \n",
       "\n",
       "   flag   rabs1      d_ij       tcr          rp   rabs2  tipo  estado  \n",
       "0     0 -21.026  0.111687  0.049488   99.560814 -20.614   0.0      -1  \n",
       "1     0 -21.662  0.166542  0.061933  118.873787 -19.414   1.0       0  "
      ]
     },
     "metadata": {},
     "output_type": "display_data"
    }
   ],
   "source": [
    "path = '../data/compact_in_voids_m3_full'\n",
    "df = pd.read_table(path, sep=\"\\s+\", names=['i_gru', 'n_m', 'Ra', 'dec', 'z', 'thete_g ', 'mu',\n",
    "                                           'sigv', 'r_b', 'flag', 'rabs1', 'd_ij', 'tcr', 'rp',\n",
    "                                           'rabs2', 'tipo', 'estado'])\n",
    "id_gc_voids = df.i_gru.to_list()\n",
    "display(df.head(2))\n",
    "\n",
    "path = '../data/compact_in_all'\n",
    "df1 = pd.read_table(path, sep=\"\\s+\", names=['i_gru', 'n_m', 'Ra', 'dec', 'z', 'thete_g ', 'mu', 'sigv', 'r_b', 'flag',\n",
    "'rabs1', 'd_ij', 'tcr', 'rp', 'rabs2', 'Target'])\n",
    "id_gc_class = df1.i_gru.to_list()"
   ]
  },
  {
   "cell_type": "code",
   "execution_count": 4,
   "id": "112b9525-0677-439c-afcc-6920946f383a",
   "metadata": {},
   "outputs": [
    {
     "data": {
      "text/plain": [
       "(29, 17)"
      ]
     },
     "metadata": {},
     "output_type": "display_data"
    },
    {
     "data": {
      "text/plain": [
       "(449, 16)"
      ]
     },
     "metadata": {},
     "output_type": "display_data"
    }
   ],
   "source": [
    "display(df.shape)\n",
    "display(df1.shape)"
   ]
  },
  {
   "cell_type": "markdown",
   "id": "4f7a0de7-66f6-4528-88c9-5b6f65b4323a",
   "metadata": {},
   "source": [
    "distribución de grupos cerca y en el boder del void "
   ]
  },
  {
   "cell_type": "code",
   "execution_count": 5,
   "id": "70a612db-95a8-4540-9d75-384cb36b09a1",
   "metadata": {},
   "outputs": [
    {
     "data": {
      "text/plain": [
       "<AxesSubplot:>"
      ]
     },
     "execution_count": 5,
     "metadata": {},
     "output_type": "execute_result"
    },
    {
     "data": {
      "image/png": "[encoded data removed]",
      "text/plain": [
       "<Figure size 432x288 with 1 Axes>"
      ]
     },
     "metadata": {
      "needs_background": "light"
     },
     "output_type": "display_data"
    }
   ],
   "source": [
    "df.estado.hist()"
   ]
  },
  {
   "cell_type": "code",
   "execution_count": 6,
   "id": "6f28d665-2193-403e-b134-3316cd170506",
   "metadata": {},
   "outputs": [],
   "source": [
    "Target =[]\n",
    "for i in range(df.shape[0]):\n",
    "    if df.estado.iloc[i] == -1:\n",
    "        a = 'voidIN'\n",
    "    else:\n",
    "        a = 'voidED'\n",
    "    Target.append(a)"
   ]
  },
  {
   "cell_type": "code",
   "execution_count": 7,
   "id": "4512d362-19db-4f42-8a40-3aac6b149f9c",
   "metadata": {},
   "outputs": [],
   "source": [
    "df['Target'] = Target"
   ]
  },
  {
   "cell_type": "code",
   "execution_count": 8,
   "id": "30c35062-46fa-4cd6-b706-e040f72c0acb",
   "metadata": {},
   "outputs": [
    {
     "data": {
      "text/html": [
       "<div>\n",
       "<style scoped>\n",
       "    .dataframe tbody tr th:only-of-type {\n",
       "        vertical-align: middle;\n",
       "    }\n",
       "\n",
       "    .dataframe tbody tr th {\n",
       "        vertical-align: top;\n",
       "    }\n",
       "\n",
       "    .dataframe thead th {\n",
       "        text-align: right;\n",
       "    }\n",
       "</style>\n",
       "<table border=\"1\" class=\"dataframe\">\n",
       "  <thead>\n",
       "    <tr style=\"text-align: right;\">\n",
       "      <th></th>\n",
       "      <th>i_gru</th>\n",
       "      <th>n_m</th>\n",
       "      <th>Ra</th>\n",
       "      <th>dec</th>\n",
       "      <th>z</th>\n",
       "      <th>thete_g</th>\n",
       "      <th>mu</th>\n",
       "      <th>sigv</th>\n",
       "      <th>r_b</th>\n",
       "      <th>flag</th>\n",
       "      <th>rabs1</th>\n",
       "      <th>d_ij</th>\n",
       "      <th>tcr</th>\n",
       "      <th>rp</th>\n",
       "      <th>rabs2</th>\n",
       "      <th>tipo</th>\n",
       "      <th>estado</th>\n",
       "      <th>Target</th>\n",
       "    </tr>\n",
       "  </thead>\n",
       "  <tbody>\n",
       "    <tr>\n",
       "      <th>0</th>\n",
       "      <td>45</td>\n",
       "      <td>4</td>\n",
       "      <td>139.228</td>\n",
       "      <td>29.355</td>\n",
       "      <td>0.037095</td>\n",
       "      <td>6.212</td>\n",
       "      <td>26.001</td>\n",
       "      <td>204.675</td>\n",
       "      <td>14.300</td>\n",
       "      <td>0</td>\n",
       "      <td>-21.026</td>\n",
       "      <td>0.111687</td>\n",
       "      <td>0.049488</td>\n",
       "      <td>99.560814</td>\n",
       "      <td>-20.614</td>\n",
       "      <td>0.0</td>\n",
       "      <td>-1</td>\n",
       "      <td>voidIN</td>\n",
       "    </tr>\n",
       "    <tr>\n",
       "      <th>1</th>\n",
       "      <td>73</td>\n",
       "      <td>4</td>\n",
       "      <td>151.012</td>\n",
       "      <td>31.098</td>\n",
       "      <td>0.022236</td>\n",
       "      <td>12.331</td>\n",
       "      <td>26.277</td>\n",
       "      <td>243.871</td>\n",
       "      <td>12.448</td>\n",
       "      <td>0</td>\n",
       "      <td>-21.662</td>\n",
       "      <td>0.166542</td>\n",
       "      <td>0.061933</td>\n",
       "      <td>118.873787</td>\n",
       "      <td>-19.414</td>\n",
       "      <td>1.0</td>\n",
       "      <td>0</td>\n",
       "      <td>voidED</td>\n",
       "    </tr>\n",
       "  </tbody>\n",
       "</table>\n",
       "</div>"
      ],
      "text/plain": [
       "   i_gru  n_m       Ra     dec         z  thete_g       mu     sigv     r_b  \\\n",
       "0     45    4  139.228  29.355  0.037095     6.212  26.001  204.675  14.300   \n",
       "1     73    4  151.012  31.098  0.022236    12.331  26.277  243.871  12.448   \n",
       "\n",
       "   flag   rabs1      d_ij       tcr          rp   rabs2  tipo  estado  Target  \n",
       "0     0 -21.026  0.111687  0.049488   99.560814 -20.614   0.0      -1  voidIN  \n",
       "1     0 -21.662  0.166542  0.061933  118.873787 -19.414   1.0       0  voidED  "
      ]
     },
     "execution_count": 8,
     "metadata": {},
     "output_type": "execute_result"
    }
   ],
   "source": [
    "df.head(2)"
   ]
  },
  {
   "cell_type": "code",
   "execution_count": 9,
   "id": "fc9891e9-80dd-419d-86f1-03b87f014562",
   "metadata": {},
   "outputs": [],
   "source": [
    "Tabla = df[['i_gru', 'Target']]"
   ]
  },
  {
   "cell_type": "markdown",
   "id": "d86ca310-a02e-4d2a-a9be-9cb419097f2f",
   "metadata": {},
   "source": [
    "Encuentro los GCs que están en voids "
   ]
  },
  {
   "cell_type": "code",
   "execution_count": 10,
   "id": "3590e367-a690-476c-a5fe-3c2e6f9e3243",
   "metadata": {},
   "outputs": [],
   "source": [
    "diferencia = diff(id_gc_voids, id_gc_class)\n",
    "df1_void = df1.set_index('i_gru').drop(diferencia).copy()"
   ]
  },
  {
   "cell_type": "code",
   "execution_count": 11,
   "id": "aa4ad27e-2ccf-4929-8dd9-d1b8b0baea05",
   "metadata": {},
   "outputs": [
    {
     "data": {
      "text/plain": [
       "(29, 15)"
      ]
     },
     "metadata": {},
     "output_type": "display_data"
    },
    {
     "data": {
      "text/html": [
       "<div>\n",
       "<style scoped>\n",
       "    .dataframe tbody tr th:only-of-type {\n",
       "        vertical-align: middle;\n",
       "    }\n",
       "\n",
       "    .dataframe tbody tr th {\n",
       "        vertical-align: top;\n",
       "    }\n",
       "\n",
       "    .dataframe thead th {\n",
       "        text-align: right;\n",
       "    }\n",
       "</style>\n",
       "<table border=\"1\" class=\"dataframe\">\n",
       "  <thead>\n",
       "    <tr style=\"text-align: right;\">\n",
       "      <th></th>\n",
       "      <th>n_m</th>\n",
       "      <th>Ra</th>\n",
       "      <th>dec</th>\n",
       "      <th>z</th>\n",
       "      <th>thete_g</th>\n",
       "      <th>mu</th>\n",
       "      <th>sigv</th>\n",
       "      <th>r_b</th>\n",
       "      <th>flag</th>\n",
       "      <th>rabs1</th>\n",
       "      <th>d_ij</th>\n",
       "      <th>tcr</th>\n",
       "      <th>rp</th>\n",
       "      <th>rabs2</th>\n",
       "      <th>Target</th>\n",
       "    </tr>\n",
       "    <tr>\n",
       "      <th>i_gru</th>\n",
       "      <th></th>\n",
       "      <th></th>\n",
       "      <th></th>\n",
       "      <th></th>\n",
       "      <th></th>\n",
       "      <th></th>\n",
       "      <th></th>\n",
       "      <th></th>\n",
       "      <th></th>\n",
       "      <th></th>\n",
       "      <th></th>\n",
       "      <th></th>\n",
       "      <th></th>\n",
       "      <th></th>\n",
       "      <th></th>\n",
       "    </tr>\n",
       "  </thead>\n",
       "  <tbody>\n",
       "    <tr>\n",
       "      <th>45</th>\n",
       "      <td>4</td>\n",
       "      <td>139.228</td>\n",
       "      <td>29.355</td>\n",
       "      <td>0.037095</td>\n",
       "      <td>6.212</td>\n",
       "      <td>26.001</td>\n",
       "      <td>204.675</td>\n",
       "      <td>14.300</td>\n",
       "      <td>0</td>\n",
       "      <td>-21.026</td>\n",
       "      <td>0.111687</td>\n",
       "      <td>0.049488</td>\n",
       "      <td>99.560814</td>\n",
       "      <td>-20.614</td>\n",
       "      <td>VoiR</td>\n",
       "    </tr>\n",
       "    <tr>\n",
       "      <th>73</th>\n",
       "      <td>4</td>\n",
       "      <td>151.012</td>\n",
       "      <td>31.098</td>\n",
       "      <td>0.022236</td>\n",
       "      <td>12.331</td>\n",
       "      <td>26.277</td>\n",
       "      <td>243.871</td>\n",
       "      <td>12.448</td>\n",
       "      <td>0</td>\n",
       "      <td>-21.662</td>\n",
       "      <td>0.166542</td>\n",
       "      <td>0.061933</td>\n",
       "      <td>118.873787</td>\n",
       "      <td>-19.414</td>\n",
       "      <td>VoiS</td>\n",
       "    </tr>\n",
       "  </tbody>\n",
       "</table>\n",
       "</div>"
      ],
      "text/plain": [
       "       n_m       Ra     dec         z  thete_g       mu     sigv     r_b  \\\n",
       "i_gru                                                                      \n",
       "45       4  139.228  29.355  0.037095     6.212  26.001  204.675  14.300   \n",
       "73       4  151.012  31.098  0.022236    12.331  26.277  243.871  12.448   \n",
       "\n",
       "       flag   rabs1      d_ij       tcr          rp   rabs2 Target  \n",
       "i_gru                                                               \n",
       "45        0 -21.026  0.111687  0.049488   99.560814 -20.614   VoiR  \n",
       "73        0 -21.662  0.166542  0.061933  118.873787 -19.414   VoiS  "
      ]
     },
     "execution_count": 11,
     "metadata": {},
     "output_type": "execute_result"
    }
   ],
   "source": [
    "display(df1_void.shape)\n",
    "df1_void.head(2)"
   ]
  },
  {
   "cell_type": "code",
   "execution_count": 12,
   "id": "5f1da436-de33-4aaf-a4ec-bc5189cedab0",
   "metadata": {},
   "outputs": [
    {
     "data": {
      "text/plain": [
       "array(['voidIN', 'voidED', 'voidED', 'voidIN', 'voidIN', 'voidED',\n",
       "       'voidED', 'voidED', 'voidED', 'voidED', 'voidED', 'voidIN',\n",
       "       'voidED', 'voidIN', 'voidED', 'voidED', 'voidED', 'voidED',\n",
       "       'voidIN', 'voidED', 'voidIN', 'voidED', 'voidIN', 'voidIN',\n",
       "       'voidED', 'voidIN', 'voidIN', 'voidIN', 'voidED'], dtype=object)"
      ]
     },
     "execution_count": 12,
     "metadata": {},
     "output_type": "execute_result"
    }
   ],
   "source": [
    "Tabla.Target.values"
   ]
  },
  {
   "cell_type": "code",
   "execution_count": 13,
   "id": "3a7dab08-aba4-4747-95b9-2d6ebfe91746",
   "metadata": {},
   "outputs": [],
   "source": [
    "df1_void = df1_void.drop('Target', axis=1)\n",
    "df1_void['Target'] = Tabla.Target.values"
   ]
  },
  {
   "cell_type": "code",
   "execution_count": 14,
   "id": "15cd0ec0-2255-4f4a-a515-fa151315948c",
   "metadata": {},
   "outputs": [
    {
     "data": {
      "text/html": [
       "<div>\n",
       "<style scoped>\n",
       "    .dataframe tbody tr th:only-of-type {\n",
       "        vertical-align: middle;\n",
       "    }\n",
       "\n",
       "    .dataframe tbody tr th {\n",
       "        vertical-align: top;\n",
       "    }\n",
       "\n",
       "    .dataframe thead th {\n",
       "        text-align: right;\n",
       "    }\n",
       "</style>\n",
       "<table border=\"1\" class=\"dataframe\">\n",
       "  <thead>\n",
       "    <tr style=\"text-align: right;\">\n",
       "      <th></th>\n",
       "      <th>n_m</th>\n",
       "      <th>Ra</th>\n",
       "      <th>dec</th>\n",
       "      <th>z</th>\n",
       "      <th>thete_g</th>\n",
       "      <th>mu</th>\n",
       "      <th>sigv</th>\n",
       "      <th>r_b</th>\n",
       "      <th>flag</th>\n",
       "      <th>rabs1</th>\n",
       "      <th>d_ij</th>\n",
       "      <th>tcr</th>\n",
       "      <th>rp</th>\n",
       "      <th>rabs2</th>\n",
       "      <th>Target</th>\n",
       "    </tr>\n",
       "    <tr>\n",
       "      <th>i_gru</th>\n",
       "      <th></th>\n",
       "      <th></th>\n",
       "      <th></th>\n",
       "      <th></th>\n",
       "      <th></th>\n",
       "      <th></th>\n",
       "      <th></th>\n",
       "      <th></th>\n",
       "      <th></th>\n",
       "      <th></th>\n",
       "      <th></th>\n",
       "      <th></th>\n",
       "      <th></th>\n",
       "      <th></th>\n",
       "      <th></th>\n",
       "    </tr>\n",
       "  </thead>\n",
       "  <tbody>\n",
       "    <tr>\n",
       "      <th>45</th>\n",
       "      <td>4</td>\n",
       "      <td>139.228</td>\n",
       "      <td>29.355</td>\n",
       "      <td>0.037095</td>\n",
       "      <td>6.212</td>\n",
       "      <td>26.001</td>\n",
       "      <td>204.675</td>\n",
       "      <td>14.300</td>\n",
       "      <td>0</td>\n",
       "      <td>-21.026</td>\n",
       "      <td>0.111687</td>\n",
       "      <td>0.049488</td>\n",
       "      <td>99.560814</td>\n",
       "      <td>-20.614</td>\n",
       "      <td>voidIN</td>\n",
       "    </tr>\n",
       "    <tr>\n",
       "      <th>73</th>\n",
       "      <td>4</td>\n",
       "      <td>151.012</td>\n",
       "      <td>31.098</td>\n",
       "      <td>0.022236</td>\n",
       "      <td>12.331</td>\n",
       "      <td>26.277</td>\n",
       "      <td>243.871</td>\n",
       "      <td>12.448</td>\n",
       "      <td>0</td>\n",
       "      <td>-21.662</td>\n",
       "      <td>0.166542</td>\n",
       "      <td>0.061933</td>\n",
       "      <td>118.873787</td>\n",
       "      <td>-19.414</td>\n",
       "      <td>voidED</td>\n",
       "    </tr>\n",
       "    <tr>\n",
       "      <th>85</th>\n",
       "      <td>4</td>\n",
       "      <td>154.841</td>\n",
       "      <td>49.084</td>\n",
       "      <td>0.056872</td>\n",
       "      <td>4.009</td>\n",
       "      <td>25.498</td>\n",
       "      <td>336.656</td>\n",
       "      <td>14.314</td>\n",
       "      <td>0</td>\n",
       "      <td>-21.889</td>\n",
       "      <td>0.102210</td>\n",
       "      <td>0.027534</td>\n",
       "      <td>98.047996</td>\n",
       "      <td>-20.836</td>\n",
       "      <td>voidED</td>\n",
       "    </tr>\n",
       "    <tr>\n",
       "      <th>100</th>\n",
       "      <td>7</td>\n",
       "      <td>157.811</td>\n",
       "      <td>25.954</td>\n",
       "      <td>0.021455</td>\n",
       "      <td>12.225</td>\n",
       "      <td>26.114</td>\n",
       "      <td>166.508</td>\n",
       "      <td>13.382</td>\n",
       "      <td>0</td>\n",
       "      <td>-20.770</td>\n",
       "      <td>0.167928</td>\n",
       "      <td>0.091463</td>\n",
       "      <td>113.725090</td>\n",
       "      <td>-20.470</td>\n",
       "      <td>voidIN</td>\n",
       "    </tr>\n",
       "    <tr>\n",
       "      <th>104</th>\n",
       "      <td>4</td>\n",
       "      <td>158.940</td>\n",
       "      <td>21.071</td>\n",
       "      <td>0.023768</td>\n",
       "      <td>2.757</td>\n",
       "      <td>24.035</td>\n",
       "      <td>217.066</td>\n",
       "      <td>13.667</td>\n",
       "      <td>0</td>\n",
       "      <td>-20.743</td>\n",
       "      <td>0.044270</td>\n",
       "      <td>0.018496</td>\n",
       "      <td>28.399565</td>\n",
       "      <td>-19.625</td>\n",
       "      <td>voidIN</td>\n",
       "    </tr>\n",
       "  </tbody>\n",
       "</table>\n",
       "</div>"
      ],
      "text/plain": [
       "       n_m       Ra     dec         z  thete_g       mu     sigv     r_b  \\\n",
       "i_gru                                                                      \n",
       "45       4  139.228  29.355  0.037095     6.212  26.001  204.675  14.300   \n",
       "73       4  151.012  31.098  0.022236    12.331  26.277  243.871  12.448   \n",
       "85       4  154.841  49.084  0.056872     4.009  25.498  336.656  14.314   \n",
       "100      7  157.811  25.954  0.021455    12.225  26.114  166.508  13.382   \n",
       "104      4  158.940  21.071  0.023768     2.757  24.035  217.066  13.667   \n",
       "\n",
       "       flag   rabs1      d_ij       tcr          rp   rabs2  Target  \n",
       "i_gru                                                                \n",
       "45        0 -21.026  0.111687  0.049488   99.560814 -20.614  voidIN  \n",
       "73        0 -21.662  0.166542  0.061933  118.873787 -19.414  voidED  \n",
       "85        0 -21.889  0.102210  0.027534   98.047996 -20.836  voidED  \n",
       "100       0 -20.770  0.167928  0.091463  113.725090 -20.470  voidIN  \n",
       "104       0 -20.743  0.044270  0.018496   28.399565 -19.625  voidIN  "
      ]
     },
     "execution_count": 14,
     "metadata": {},
     "output_type": "execute_result"
    }
   ],
   "source": [
    "df1_void.head()"
   ]
  },
  {
   "cell_type": "code",
   "execution_count": 15,
   "id": "8cbe9aa4-eb3e-4b8a-a66b-0c90382e00d5",
   "metadata": {},
   "outputs": [
    {
     "data": {
      "text/plain": [
       "'voidIN'"
      ]
     },
     "execution_count": 15,
     "metadata": {},
     "output_type": "execute_result"
    }
   ],
   "source": [
    "df1_void.Target[45]"
   ]
  },
  {
   "cell_type": "code",
   "execution_count": 16,
   "id": "d187ab8c-62da-40b0-9835-b7eae45a1108",
   "metadata": {},
   "outputs": [
    {
     "name": "stdout",
     "output_type": "stream",
     "text": [
      "voidIN\n",
      "voidED\n",
      "voidED\n",
      "voidIN\n",
      "voidIN\n",
      "voidED\n",
      "voidED\n",
      "voidED\n",
      "voidED\n",
      "voidED\n",
      "voidED\n",
      "voidIN\n",
      "voidED\n",
      "voidIN\n",
      "voidED\n",
      "voidED\n",
      "voidED\n",
      "voidED\n",
      "voidIN\n",
      "voidED\n",
      "voidIN\n",
      "voidED\n",
      "voidIN\n",
      "voidIN\n",
      "voidED\n",
      "voidIN\n",
      "voidIN\n",
      "voidIN\n",
      "voidED\n"
     ]
    },
    {
     "name": "stderr",
     "output_type": "stream",
     "text": [
      "/home/vane/anaconda3/envs/machine-learning/lib/python3.7/site-packages/ipykernel_launcher.py:4: SettingWithCopyWarning: \n",
      "A value is trying to be set on a copy of a slice from a DataFrame\n",
      "\n",
      "See the caveats in the documentation: https://pandas.pydata.org/pandas-docs/stable/user_guide/indexing.html#returning-a-view-versus-a-copy\n",
      "  after removing the cwd from sys.path.\n"
     ]
    }
   ],
   "source": [
    "index = df1_void.index.values\n",
    "df1 = df1.set_index('i_gru')\n",
    "for i in index:\n",
    "    df1['Target'][i] = df1_void['Target'][i]\n",
    "    print(df1['Target'][i])"
   ]
  },
  {
   "cell_type": "code",
   "execution_count": 17,
   "id": "d41b6ec4-3537-4024-a8f3-f3de6e3177a3",
   "metadata": {},
   "outputs": [
    {
     "data": {
      "text/html": [
       "<div>\n",
       "<style scoped>\n",
       "    .dataframe tbody tr th:only-of-type {\n",
       "        vertical-align: middle;\n",
       "    }\n",
       "\n",
       "    .dataframe tbody tr th {\n",
       "        vertical-align: top;\n",
       "    }\n",
       "\n",
       "    .dataframe thead th {\n",
       "        text-align: right;\n",
       "    }\n",
       "</style>\n",
       "<table border=\"1\" class=\"dataframe\">\n",
       "  <thead>\n",
       "    <tr style=\"text-align: right;\">\n",
       "      <th></th>\n",
       "      <th>i_gru</th>\n",
       "      <th>n_m</th>\n",
       "      <th>Ra</th>\n",
       "      <th>dec</th>\n",
       "      <th>z</th>\n",
       "      <th>thete_g</th>\n",
       "      <th>mu</th>\n",
       "      <th>sigv</th>\n",
       "      <th>r_b</th>\n",
       "      <th>flag</th>\n",
       "      <th>rabs1</th>\n",
       "      <th>d_ij</th>\n",
       "      <th>tcr</th>\n",
       "      <th>rp</th>\n",
       "      <th>rabs2</th>\n",
       "      <th>Target</th>\n",
       "    </tr>\n",
       "  </thead>\n",
       "  <tbody>\n",
       "    <tr>\n",
       "      <th>0</th>\n",
       "      <td>2</td>\n",
       "      <td>4</td>\n",
       "      <td>116.577</td>\n",
       "      <td>22.020</td>\n",
       "      <td>0.046817</td>\n",
       "      <td>4.090</td>\n",
       "      <td>25.289</td>\n",
       "      <td>274.092</td>\n",
       "      <td>14.289</td>\n",
       "      <td>0</td>\n",
       "      <td>-21.512</td>\n",
       "      <td>0.092313</td>\n",
       "      <td>0.030544</td>\n",
       "      <td>82.543709</td>\n",
       "      <td>-20.895</td>\n",
       "      <td>Loose</td>\n",
       "    </tr>\n",
       "    <tr>\n",
       "      <th>1</th>\n",
       "      <td>4</td>\n",
       "      <td>5</td>\n",
       "      <td>117.794</td>\n",
       "      <td>50.217</td>\n",
       "      <td>0.021810</td>\n",
       "      <td>5.095</td>\n",
       "      <td>23.789</td>\n",
       "      <td>409.803</td>\n",
       "      <td>12.839</td>\n",
       "      <td>0</td>\n",
       "      <td>-21.235</td>\n",
       "      <td>0.055581</td>\n",
       "      <td>0.012300</td>\n",
       "      <td>48.176819</td>\n",
       "      <td>-21.207</td>\n",
       "      <td>Loose</td>\n",
       "    </tr>\n",
       "    <tr>\n",
       "      <th>2</th>\n",
       "      <td>6</td>\n",
       "      <td>4</td>\n",
       "      <td>119.190</td>\n",
       "      <td>45.886</td>\n",
       "      <td>0.054922</td>\n",
       "      <td>1.200</td>\n",
       "      <td>22.297</td>\n",
       "      <td>461.528</td>\n",
       "      <td>14.072</td>\n",
       "      <td>0</td>\n",
       "      <td>-22.218</td>\n",
       "      <td>0.034610</td>\n",
       "      <td>0.006801</td>\n",
       "      <td>28.362265</td>\n",
       "      <td>-22.014</td>\n",
       "      <td>Loose</td>\n",
       "    </tr>\n",
       "    <tr>\n",
       "      <th>3</th>\n",
       "      <td>9</td>\n",
       "      <td>4</td>\n",
       "      <td>120.355</td>\n",
       "      <td>27.240</td>\n",
       "      <td>0.048037</td>\n",
       "      <td>4.784</td>\n",
       "      <td>25.242</td>\n",
       "      <td>356.045</td>\n",
       "      <td>13.942</td>\n",
       "      <td>0</td>\n",
       "      <td>-21.989</td>\n",
       "      <td>0.144234</td>\n",
       "      <td>0.036739</td>\n",
       "      <td>99.029404</td>\n",
       "      <td>-21.446</td>\n",
       "      <td>Loose</td>\n",
       "    </tr>\n",
       "    <tr>\n",
       "      <th>4</th>\n",
       "      <td>10</td>\n",
       "      <td>6</td>\n",
       "      <td>120.491</td>\n",
       "      <td>9.561</td>\n",
       "      <td>0.016655</td>\n",
       "      <td>22.096</td>\n",
       "      <td>26.218</td>\n",
       "      <td>297.232</td>\n",
       "      <td>11.471</td>\n",
       "      <td>0</td>\n",
       "      <td>-22.052</td>\n",
       "      <td>0.134944</td>\n",
       "      <td>0.041174</td>\n",
       "      <td>159.737412</td>\n",
       "      <td>-20.325</td>\n",
       "      <td>Loose</td>\n",
       "    </tr>\n",
       "  </tbody>\n",
       "</table>\n",
       "</div>"
      ],
      "text/plain": [
       "   i_gru  n_m       Ra     dec         z  thete_g       mu     sigv     r_b  \\\n",
       "0      2    4  116.577  22.020  0.046817     4.090  25.289  274.092  14.289   \n",
       "1      4    5  117.794  50.217  0.021810     5.095  23.789  409.803  12.839   \n",
       "2      6    4  119.190  45.886  0.054922     1.200  22.297  461.528  14.072   \n",
       "3      9    4  120.355  27.240  0.048037     4.784  25.242  356.045  13.942   \n",
       "4     10    6  120.491   9.561  0.016655    22.096  26.218  297.232  11.471   \n",
       "\n",
       "   flag   rabs1      d_ij       tcr          rp   rabs2 Target  \n",
       "0     0 -21.512  0.092313  0.030544   82.543709 -20.895  Loose  \n",
       "1     0 -21.235  0.055581  0.012300   48.176819 -21.207  Loose  \n",
       "2     0 -22.218  0.034610  0.006801   28.362265 -22.014  Loose  \n",
       "3     0 -21.989  0.144234  0.036739   99.029404 -21.446  Loose  \n",
       "4     0 -22.052  0.134944  0.041174  159.737412 -20.325  Loose  "
      ]
     },
     "metadata": {},
     "output_type": "display_data"
    },
    {
     "data": {
      "text/plain": [
       "(449, 16)"
      ]
     },
     "metadata": {},
     "output_type": "display_data"
    }
   ],
   "source": [
    "df1 = df1.reset_index()\n",
    "display(df1.head(5))\n",
    "display(df1.shape)"
   ]
  },
  {
   "cell_type": "code",
   "execution_count": 21,
   "id": "978b58ce-2597-4557-bf70-e3610d897ab3",
   "metadata": {},
   "outputs": [
    {
     "data": {
      "text/plain": [
       "(12, 16)"
      ]
     },
     "execution_count": 21,
     "metadata": {},
     "output_type": "execute_result"
    }
   ],
   "source": [
    "df1[df1['Target'] == 'voidIN'].shape"
   ]
  },
  {
   "cell_type": "code",
   "execution_count": 22,
   "id": "93d1eeb8-6f3f-408e-86f2-37fde7024210",
   "metadata": {},
   "outputs": [
    {
     "data": {
      "text/plain": [
       "(17, 16)"
      ]
     },
     "execution_count": 22,
     "metadata": {},
     "output_type": "execute_result"
    }
   ],
   "source": [
    "df1[df1['Target'] == 'voidED'].shape"
   ]
  },
  {
   "cell_type": "code",
   "execution_count": 20,
   "id": "c92d7517-7eef-4eb6-a7fe-a3b4bd28e644",
   "metadata": {},
   "outputs": [],
   "source": [
    "#df1.to_csv('../data/compact_in_all_estado.csv', index=False)"
   ]
  },
  {
   "cell_type": "code",
   "execution_count": null,
   "id": "612287ec-ccc7-4bb2-b79b-4467ab7b3e1d",
   "metadata": {},
   "outputs": [],
   "source": []
  }
 ],
 "metadata": {
  "kernelspec": {
   "display_name": "Python 3",
   "language": "python",
   "name": "python3"
  },
  "language_info": {
   "codemirror_mode": {
    "name": "ipython",
    "version": 3
   },
   "file_extension": ".py",
   "mimetype": "text/x-python",
   "name": "python",
   "nbconvert_exporter": "python",
   "pygments_lexer": "ipython3",
   "version": "3.7.10"
  }
 },
 "nbformat": 4,
 "nbformat_minor": 5
}
