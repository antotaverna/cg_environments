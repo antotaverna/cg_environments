{
 "cells": [
  {
   "cell_type": "markdown",
   "metadata": {},
   "source": [
    "# Fracción de galaxias por grupo"
   ]
  },
  {
   "cell_type": "markdown",
   "metadata": {},
   "source": [
    "**Library**"
   ]
  },
  {
   "cell_type": "code",
   "execution_count": 1,
   "metadata": {},
   "outputs": [],
   "source": [
    "import pandas as pd\n",
    "import matplotlib.pyplot as plt\n",
    "import seaborn as sns\n",
    "import random\n",
    "from collections import Counter\n",
    "import numpy as np\n",
    "from itertools import cycle, islice"
   ]
  },
  {
   "cell_type": "markdown",
   "metadata": {},
   "source": [
    "**Funtions**"
   ]
  },
  {
   "cell_type": "code",
   "execution_count": 2,
   "metadata": {},
   "outputs": [],
   "source": [
    "def diff(list1, list2):\n",
    "    c = set(list1).union(set(list2))  # or c = set(list1) | set(list2)\n",
    "    d = set(list1).intersection(set(list2))  # or d = set(list1) & set(list2)\n",
    "    return list(c - d)"
   ]
  },
  {
   "cell_type": "markdown",
   "metadata": {},
   "source": [
    "### Galaxias en GC"
   ]
  },
  {
   "cell_type": "markdown",
   "metadata": {},
   "source": [
    "**Load**"
   ]
  },
  {
   "cell_type": "code",
   "execution_count": 3,
   "metadata": {},
   "outputs": [],
   "source": [
    "path_gal_gru = '../data/tab_gal_gru.dat'\n",
    "df = pd.read_table(path_gal_gru, sep=\"\\s+\", names=['ngc', 'nk', 'alg', 'delg', 'zred', 'rmag', 'gmag', 'r_abs', 'g_abs'])\n",
    "id_gc_gal_grup = df.ngc.to_list()\n",
    "\n",
    "path = '../data/compact_in_all'\n",
    "\n",
    "df1 = pd.read_table(path, sep=\"\\s+\", names=['i_gru', 'n_m', 'Ra', 'dec', 'z', 'thete_g ', 'mu', 'sigv', 'r_b', 'flag',\n",
    "'rabs1', 'd_ij', 'tcr', 'rp', 'rabs2', 'Target'])\n",
    "id_gc_class = df1.i_gru.to_list()"
   ]
  },
  {
   "cell_type": "markdown",
   "metadata": {},
   "source": [
    "**Lista de GCs descartandos por corte de Magnitud**"
   ]
  },
  {
   "cell_type": "code",
   "execution_count": 4,
   "metadata": {},
   "outputs": [],
   "source": [
    "diferencia = diff(id_gc_class, id_gc_gal_grup)\n",
    "df = df.set_index('ngc').drop(diferencia)"
   ]
  },
  {
   "cell_type": "code",
   "execution_count": 5,
   "metadata": {},
   "outputs": [],
   "source": [
    "df = df.reset_index()"
   ]
  },
  {
   "cell_type": "code",
   "execution_count": 6,
   "metadata": {},
   "outputs": [],
   "source": [
    "color = df['g_abs']-df['r_abs']\n",
    "df['color'] = color"
   ]
  },
  {
   "cell_type": "code",
   "execution_count": 7,
   "metadata": {},
   "outputs": [],
   "source": [
    "state = []\n",
    "\n",
    "for i in range(df.shape[0]):\n",
    "    if (df['color'][i] > 0.7):\n",
    "        state.append(1)\n",
    "    else:\n",
    "        state.append(0)\n",
    "    "
   ]
  },
  {
   "cell_type": "code",
   "execution_count": 8,
   "metadata": {},
   "outputs": [
    {
     "data": {
      "text/plain": [
       "[1, 0, 1]"
      ]
     },
     "execution_count": 8,
     "metadata": {},
     "output_type": "execute_result"
    }
   ],
   "source": [
    "state[:3]"
   ]
  },
  {
   "cell_type": "code",
   "execution_count": 9,
   "metadata": {},
   "outputs": [
    {
     "data": {
      "text/plain": [
       "0    0.813877\n",
       "1    0.479456\n",
       "2    0.760630\n",
       "dtype: float64"
      ]
     },
     "execution_count": 9,
     "metadata": {},
     "output_type": "execute_result"
    }
   ],
   "source": [
    "color[:3]"
   ]
  },
  {
   "cell_type": "code",
   "execution_count": 10,
   "metadata": {},
   "outputs": [],
   "source": [
    "df['state'] = state"
   ]
  },
  {
   "cell_type": "code",
   "execution_count": 11,
   "metadata": {},
   "outputs": [
    {
     "data": {
      "text/html": [
       "<div>\n",
       "<style scoped>\n",
       "    .dataframe tbody tr th:only-of-type {\n",
       "        vertical-align: middle;\n",
       "    }\n",
       "\n",
       "    .dataframe tbody tr th {\n",
       "        vertical-align: top;\n",
       "    }\n",
       "\n",
       "    .dataframe thead th {\n",
       "        text-align: right;\n",
       "    }\n",
       "</style>\n",
       "<table border=\"1\" class=\"dataframe\">\n",
       "  <thead>\n",
       "    <tr style=\"text-align: right;\">\n",
       "      <th></th>\n",
       "      <th>ngc</th>\n",
       "      <th>nk</th>\n",
       "      <th>alg</th>\n",
       "      <th>delg</th>\n",
       "      <th>zred</th>\n",
       "      <th>rmag</th>\n",
       "      <th>gmag</th>\n",
       "      <th>r_abs</th>\n",
       "      <th>g_abs</th>\n",
       "      <th>color</th>\n",
       "      <th>state</th>\n",
       "    </tr>\n",
       "  </thead>\n",
       "  <tbody>\n",
       "    <tr>\n",
       "      <th>0</th>\n",
       "      <td>1</td>\n",
       "      <td>1</td>\n",
       "      <td>114.844002</td>\n",
       "      <td>45.118000</td>\n",
       "      <td>0.079785</td>\n",
       "      <td>14.719000</td>\n",
       "      <td>15.661000</td>\n",
       "      <td>-22.374979</td>\n",
       "      <td>-21.561102</td>\n",
       "      <td>0.813877</td>\n",
       "      <td>1</td>\n",
       "    </tr>\n",
       "    <tr>\n",
       "      <th>1</th>\n",
       "      <td>1</td>\n",
       "      <td>2</td>\n",
       "      <td>114.839996</td>\n",
       "      <td>45.124001</td>\n",
       "      <td>0.077575</td>\n",
       "      <td>16.379999</td>\n",
       "      <td>16.885000</td>\n",
       "      <td>-20.607855</td>\n",
       "      <td>-20.128399</td>\n",
       "      <td>0.479456</td>\n",
       "      <td>0</td>\n",
       "    </tr>\n",
       "    <tr>\n",
       "      <th>2</th>\n",
       "      <td>1</td>\n",
       "      <td>3</td>\n",
       "      <td>114.849998</td>\n",
       "      <td>45.082001</td>\n",
       "      <td>0.078914</td>\n",
       "      <td>16.813000</td>\n",
       "      <td>17.693001</td>\n",
       "      <td>-20.251556</td>\n",
       "      <td>-19.490927</td>\n",
       "      <td>0.760630</td>\n",
       "      <td>1</td>\n",
       "    </tr>\n",
       "    <tr>\n",
       "      <th>3</th>\n",
       "      <td>1</td>\n",
       "      <td>4</td>\n",
       "      <td>114.819000</td>\n",
       "      <td>45.088001</td>\n",
       "      <td>0.077670</td>\n",
       "      <td>17.100000</td>\n",
       "      <td>17.959999</td>\n",
       "      <td>-19.926037</td>\n",
       "      <td>-19.180386</td>\n",
       "      <td>0.745651</td>\n",
       "      <td>1</td>\n",
       "    </tr>\n",
       "    <tr>\n",
       "      <th>4</th>\n",
       "      <td>2</td>\n",
       "      <td>1</td>\n",
       "      <td>116.553001</td>\n",
       "      <td>21.996000</td>\n",
       "      <td>0.045715</td>\n",
       "      <td>14.289000</td>\n",
       "      <td>15.159000</td>\n",
       "      <td>-21.512625</td>\n",
       "      <td>-20.698204</td>\n",
       "      <td>0.814421</td>\n",
       "      <td>1</td>\n",
       "    </tr>\n",
       "    <tr>\n",
       "      <th>5</th>\n",
       "      <td>2</td>\n",
       "      <td>2</td>\n",
       "      <td>116.610001</td>\n",
       "      <td>22.034000</td>\n",
       "      <td>0.047243</td>\n",
       "      <td>14.982000</td>\n",
       "      <td>15.809000</td>\n",
       "      <td>-20.894869</td>\n",
       "      <td>-20.125586</td>\n",
       "      <td>0.769283</td>\n",
       "      <td>1</td>\n",
       "    </tr>\n",
       "  </tbody>\n",
       "</table>\n",
       "</div>"
      ],
      "text/plain": [
       "   ngc  nk         alg       delg      zred       rmag       gmag      r_abs  \\\n",
       "0    1   1  114.844002  45.118000  0.079785  14.719000  15.661000 -22.374979   \n",
       "1    1   2  114.839996  45.124001  0.077575  16.379999  16.885000 -20.607855   \n",
       "2    1   3  114.849998  45.082001  0.078914  16.813000  17.693001 -20.251556   \n",
       "3    1   4  114.819000  45.088001  0.077670  17.100000  17.959999 -19.926037   \n",
       "4    2   1  116.553001  21.996000  0.045715  14.289000  15.159000 -21.512625   \n",
       "5    2   2  116.610001  22.034000  0.047243  14.982000  15.809000 -20.894869   \n",
       "\n",
       "       g_abs     color  state  \n",
       "0 -21.561102  0.813877      1  \n",
       "1 -20.128399  0.479456      0  \n",
       "2 -19.490927  0.760630      1  \n",
       "3 -19.180386  0.745651      1  \n",
       "4 -20.698204  0.814421      1  \n",
       "5 -20.125586  0.769283      1  "
      ]
     },
     "execution_count": 11,
     "metadata": {},
     "output_type": "execute_result"
    }
   ],
   "source": [
    "df.head(6)"
   ]
  },
  {
   "cell_type": "markdown",
   "metadata": {},
   "source": [
    "**Cantidad de pasivas por grupo**"
   ]
  },
  {
   "cell_type": "code",
   "execution_count": 12,
   "metadata": {},
   "outputs": [],
   "source": [
    "df_pasivas = df.groupby([\"ngc\"])[\"state\"].sum()"
   ]
  },
  {
   "cell_type": "code",
   "execution_count": 13,
   "metadata": {},
   "outputs": [
    {
     "data": {
      "text/plain": [
       "449"
      ]
     },
     "execution_count": 13,
     "metadata": {},
     "output_type": "execute_result"
    }
   ],
   "source": [
    "len(df_pasivas.values)"
   ]
  },
  {
   "cell_type": "code",
   "execution_count": 14,
   "metadata": {},
   "outputs": [
    {
     "data": {
      "text/html": [
       "<div>\n",
       "<style scoped>\n",
       "    .dataframe tbody tr th:only-of-type {\n",
       "        vertical-align: middle;\n",
       "    }\n",
       "\n",
       "    .dataframe tbody tr th {\n",
       "        vertical-align: top;\n",
       "    }\n",
       "\n",
       "    .dataframe thead th {\n",
       "        text-align: right;\n",
       "    }\n",
       "</style>\n",
       "<table border=\"1\" class=\"dataframe\">\n",
       "  <thead>\n",
       "    <tr style=\"text-align: right;\">\n",
       "      <th></th>\n",
       "      <th>ngc</th>\n",
       "      <th>state</th>\n",
       "    </tr>\n",
       "  </thead>\n",
       "  <tbody>\n",
       "    <tr>\n",
       "      <th>0</th>\n",
       "      <td>1</td>\n",
       "      <td>3</td>\n",
       "    </tr>\n",
       "    <tr>\n",
       "      <th>1</th>\n",
       "      <td>2</td>\n",
       "      <td>4</td>\n",
       "    </tr>\n",
       "  </tbody>\n",
       "</table>\n",
       "</div>"
      ],
      "text/plain": [
       "   ngc  state\n",
       "0    1      3\n",
       "1    2      4"
      ]
     },
     "execution_count": 14,
     "metadata": {},
     "output_type": "execute_result"
    }
   ],
   "source": [
    "df_pasivas = df_pasivas.reset_index()\n",
    "df_pasivas.head(2)"
   ]
  },
  {
   "cell_type": "markdown",
   "metadata": {},
   "source": [
    "**Match**"
   ]
  },
  {
   "cell_type": "code",
   "execution_count": 15,
   "metadata": {},
   "outputs": [],
   "source": [
    "df1_sort = df1.sort_values('i_gru', ignore_index=True).copy()\n",
    "df_pasivas_sort = df_pasivas.sort_values('ngc', ignore_index=True).copy()"
   ]
  },
  {
   "cell_type": "code",
   "execution_count": 16,
   "metadata": {},
   "outputs": [
    {
     "data": {
      "text/html": [
       "<div>\n",
       "<style scoped>\n",
       "    .dataframe tbody tr th:only-of-type {\n",
       "        vertical-align: middle;\n",
       "    }\n",
       "\n",
       "    .dataframe tbody tr th {\n",
       "        vertical-align: top;\n",
       "    }\n",
       "\n",
       "    .dataframe thead th {\n",
       "        text-align: right;\n",
       "    }\n",
       "</style>\n",
       "<table border=\"1\" class=\"dataframe\">\n",
       "  <thead>\n",
       "    <tr style=\"text-align: right;\">\n",
       "      <th></th>\n",
       "      <th>i_gru</th>\n",
       "      <th>n_m</th>\n",
       "      <th>Ra</th>\n",
       "      <th>dec</th>\n",
       "      <th>z</th>\n",
       "      <th>thete_g</th>\n",
       "      <th>mu</th>\n",
       "      <th>sigv</th>\n",
       "      <th>r_b</th>\n",
       "      <th>flag</th>\n",
       "      <th>rabs1</th>\n",
       "      <th>d_ij</th>\n",
       "      <th>tcr</th>\n",
       "      <th>rp</th>\n",
       "      <th>rabs2</th>\n",
       "      <th>Target</th>\n",
       "    </tr>\n",
       "  </thead>\n",
       "  <tbody>\n",
       "    <tr>\n",
       "      <th>0</th>\n",
       "      <td>1</td>\n",
       "      <td>4</td>\n",
       "      <td>114.842</td>\n",
       "      <td>45.103</td>\n",
       "      <td>0.078292</td>\n",
       "      <td>2.62</td>\n",
       "      <td>25.018</td>\n",
       "      <td>348.679</td>\n",
       "      <td>14.719</td>\n",
       "      <td>0</td>\n",
       "      <td>-22.375</td>\n",
       "      <td>0.143311</td>\n",
       "      <td>0.037275</td>\n",
       "      <td>87.756599</td>\n",
       "      <td>-20.608</td>\n",
       "      <td>Field</td>\n",
       "    </tr>\n",
       "    <tr>\n",
       "      <th>1</th>\n",
       "      <td>2</td>\n",
       "      <td>4</td>\n",
       "      <td>116.577</td>\n",
       "      <td>22.020</td>\n",
       "      <td>0.046817</td>\n",
       "      <td>4.09</td>\n",
       "      <td>25.289</td>\n",
       "      <td>274.092</td>\n",
       "      <td>14.289</td>\n",
       "      <td>0</td>\n",
       "      <td>-21.512</td>\n",
       "      <td>0.092313</td>\n",
       "      <td>0.030544</td>\n",
       "      <td>82.543709</td>\n",
       "      <td>-20.895</td>\n",
       "      <td>Loose</td>\n",
       "    </tr>\n",
       "  </tbody>\n",
       "</table>\n",
       "</div>"
      ],
      "text/plain": [
       "   i_gru  n_m       Ra     dec         z  thete_g       mu     sigv     r_b  \\\n",
       "0      1    4  114.842  45.103  0.078292      2.62  25.018  348.679  14.719   \n",
       "1      2    4  116.577  22.020  0.046817      4.09  25.289  274.092  14.289   \n",
       "\n",
       "   flag   rabs1      d_ij       tcr         rp   rabs2 Target  \n",
       "0     0 -22.375  0.143311  0.037275  87.756599 -20.608  Field  \n",
       "1     0 -21.512  0.092313  0.030544  82.543709 -20.895  Loose  "
      ]
     },
     "execution_count": 16,
     "metadata": {},
     "output_type": "execute_result"
    }
   ],
   "source": [
    "df1_sort.head(2)"
   ]
  },
  {
   "cell_type": "code",
   "execution_count": 17,
   "metadata": {},
   "outputs": [],
   "source": [
    "df_final = df1_sort.join(df_pasivas_sort)"
   ]
  },
  {
   "cell_type": "code",
   "execution_count": 18,
   "metadata": {},
   "outputs": [
    {
     "data": {
      "text/plain": [
       "(449, 18)"
      ]
     },
     "execution_count": 18,
     "metadata": {},
     "output_type": "execute_result"
    }
   ],
   "source": [
    "df_final.shape"
   ]
  },
  {
   "cell_type": "code",
   "execution_count": 19,
   "metadata": {},
   "outputs": [
    {
     "data": {
      "text/html": [
       "<div>\n",
       "<style scoped>\n",
       "    .dataframe tbody tr th:only-of-type {\n",
       "        vertical-align: middle;\n",
       "    }\n",
       "\n",
       "    .dataframe tbody tr th {\n",
       "        vertical-align: top;\n",
       "    }\n",
       "\n",
       "    .dataframe thead th {\n",
       "        text-align: right;\n",
       "    }\n",
       "</style>\n",
       "<table border=\"1\" class=\"dataframe\">\n",
       "  <thead>\n",
       "    <tr style=\"text-align: right;\">\n",
       "      <th></th>\n",
       "      <th>i_gru</th>\n",
       "      <th>n_m</th>\n",
       "      <th>Ra</th>\n",
       "      <th>dec</th>\n",
       "      <th>z</th>\n",
       "      <th>thete_g</th>\n",
       "      <th>mu</th>\n",
       "      <th>sigv</th>\n",
       "      <th>r_b</th>\n",
       "      <th>flag</th>\n",
       "      <th>rabs1</th>\n",
       "      <th>d_ij</th>\n",
       "      <th>tcr</th>\n",
       "      <th>rp</th>\n",
       "      <th>rabs2</th>\n",
       "      <th>Target</th>\n",
       "      <th>ngc</th>\n",
       "      <th>state</th>\n",
       "    </tr>\n",
       "  </thead>\n",
       "  <tbody>\n",
       "    <tr>\n",
       "      <th>444</th>\n",
       "      <td>458</td>\n",
       "      <td>7</td>\n",
       "      <td>243.981</td>\n",
       "      <td>38.537</td>\n",
       "      <td>0.034782</td>\n",
       "      <td>6.091</td>\n",
       "      <td>26.202</td>\n",
       "      <td>138.779</td>\n",
       "      <td>14.577</td>\n",
       "      <td>1</td>\n",
       "      <td>-20.570</td>\n",
       "      <td>0.103047</td>\n",
       "      <td>0.067340</td>\n",
       "      <td>91.589798</td>\n",
       "      <td>-20.088</td>\n",
       "      <td>Field</td>\n",
       "      <td>458</td>\n",
       "      <td>2</td>\n",
       "    </tr>\n",
       "    <tr>\n",
       "      <th>445</th>\n",
       "      <td>459</td>\n",
       "      <td>4</td>\n",
       "      <td>244.410</td>\n",
       "      <td>50.641</td>\n",
       "      <td>0.041362</td>\n",
       "      <td>4.748</td>\n",
       "      <td>25.610</td>\n",
       "      <td>552.432</td>\n",
       "      <td>14.146</td>\n",
       "      <td>1</td>\n",
       "      <td>-21.441</td>\n",
       "      <td>0.099179</td>\n",
       "      <td>0.016282</td>\n",
       "      <td>84.761040</td>\n",
       "      <td>-20.121</td>\n",
       "      <td>Loose</td>\n",
       "      <td>459</td>\n",
       "      <td>3</td>\n",
       "    </tr>\n",
       "    <tr>\n",
       "      <th>446</th>\n",
       "      <td>460</td>\n",
       "      <td>5</td>\n",
       "      <td>245.283</td>\n",
       "      <td>13.159</td>\n",
       "      <td>0.034352</td>\n",
       "      <td>3.715</td>\n",
       "      <td>24.912</td>\n",
       "      <td>247.585</td>\n",
       "      <td>14.328</td>\n",
       "      <td>1</td>\n",
       "      <td>-20.778</td>\n",
       "      <td>0.079042</td>\n",
       "      <td>0.028953</td>\n",
       "      <td>55.171383</td>\n",
       "      <td>-19.839</td>\n",
       "      <td>Loose</td>\n",
       "      <td>460</td>\n",
       "      <td>2</td>\n",
       "    </tr>\n",
       "    <tr>\n",
       "      <th>447</th>\n",
       "      <td>461</td>\n",
       "      <td>4</td>\n",
       "      <td>247.547</td>\n",
       "      <td>36.247</td>\n",
       "      <td>0.075265</td>\n",
       "      <td>3.671</td>\n",
       "      <td>25.664</td>\n",
       "      <td>383.398</td>\n",
       "      <td>14.479</td>\n",
       "      <td>1</td>\n",
       "      <td>-22.477</td>\n",
       "      <td>0.160493</td>\n",
       "      <td>0.037964</td>\n",
       "      <td>118.280334</td>\n",
       "      <td>-20.026</td>\n",
       "      <td>Field</td>\n",
       "      <td>461</td>\n",
       "      <td>3</td>\n",
       "    </tr>\n",
       "    <tr>\n",
       "      <th>448</th>\n",
       "      <td>462</td>\n",
       "      <td>5</td>\n",
       "      <td>250.332</td>\n",
       "      <td>13.424</td>\n",
       "      <td>0.050796</td>\n",
       "      <td>4.130</td>\n",
       "      <td>24.858</td>\n",
       "      <td>268.188</td>\n",
       "      <td>13.764</td>\n",
       "      <td>1</td>\n",
       "      <td>-22.276</td>\n",
       "      <td>0.112063</td>\n",
       "      <td>0.037895</td>\n",
       "      <td>90.346329</td>\n",
       "      <td>-21.427</td>\n",
       "      <td>Loose</td>\n",
       "      <td>462</td>\n",
       "      <td>5</td>\n",
       "    </tr>\n",
       "  </tbody>\n",
       "</table>\n",
       "</div>"
      ],
      "text/plain": [
       "     i_gru  n_m       Ra     dec         z  thete_g       mu     sigv     r_b  \\\n",
       "444    458    7  243.981  38.537  0.034782     6.091  26.202  138.779  14.577   \n",
       "445    459    4  244.410  50.641  0.041362     4.748  25.610  552.432  14.146   \n",
       "446    460    5  245.283  13.159  0.034352     3.715  24.912  247.585  14.328   \n",
       "447    461    4  247.547  36.247  0.075265     3.671  25.664  383.398  14.479   \n",
       "448    462    5  250.332  13.424  0.050796     4.130  24.858  268.188  13.764   \n",
       "\n",
       "     flag   rabs1      d_ij       tcr          rp   rabs2 Target  ngc  state  \n",
       "444     1 -20.570  0.103047  0.067340   91.589798 -20.088  Field  458      2  \n",
       "445     1 -21.441  0.099179  0.016282   84.761040 -20.121  Loose  459      3  \n",
       "446     1 -20.778  0.079042  0.028953   55.171383 -19.839  Loose  460      2  \n",
       "447     1 -22.477  0.160493  0.037964  118.280334 -20.026  Field  461      3  \n",
       "448     1 -22.276  0.112063  0.037895   90.346329 -21.427  Loose  462      5  "
      ]
     },
     "execution_count": 19,
     "metadata": {},
     "output_type": "execute_result"
    }
   ],
   "source": [
    "df_final.tail()"
   ]
  },
  {
   "cell_type": "code",
   "execution_count": 20,
   "metadata": {},
   "outputs": [
    {
     "data": {
      "text/plain": [
       "0.75"
      ]
     },
     "execution_count": 20,
     "metadata": {},
     "output_type": "execute_result"
    }
   ],
   "source": [
    "df_final['state'].iloc[0]/df_final['n_m'].iloc[0]"
   ]
  },
  {
   "cell_type": "code",
   "execution_count": 21,
   "metadata": {},
   "outputs": [],
   "source": [
    "frecuencia = []\n",
    "for i in range(df_final.shape[0]):\n",
    "    frac = df_final.state.iloc[i]/df_final.n_m.iloc[i]\n",
    "    frecuencia.append(frac)"
   ]
  },
  {
   "cell_type": "code",
   "execution_count": 22,
   "metadata": {},
   "outputs": [],
   "source": [
    "frecu_03 = list(map(lambda x: round(x, 3), frecuencia))"
   ]
  },
  {
   "cell_type": "code",
   "execution_count": 23,
   "metadata": {},
   "outputs": [],
   "source": [
    "df_final['frac'] = frecu_03"
   ]
  },
  {
   "cell_type": "code",
   "execution_count": 24,
   "metadata": {},
   "outputs": [
    {
     "data": {
      "text/plain": [
       "['VoiR', 'VoiS', 'FIl', 'Loose', 'Field', 'Node']"
      ]
     },
     "execution_count": 24,
     "metadata": {},
     "output_type": "execute_result"
    }
   ],
   "source": [
    "clases = list(set(df_final.Target))\n",
    "clases"
   ]
  },
  {
   "cell_type": "markdown",
   "metadata": {},
   "source": [
    "### Fracción de galaxias pasivas sin distinguir por entorno"
   ]
  },
  {
   "cell_type": "code",
   "execution_count": 25,
   "metadata": {},
   "outputs": [
    {
     "data": {
      "text/plain": [
       "<matplotlib.axes._subplots.AxesSubplot at 0x7fc7909f7a00>"
      ]
     },
     "execution_count": 25,
     "metadata": {},
     "output_type": "execute_result"
    },
    {
     "data": {
      "image/png": "[encoded data removed]",
      "text/plain": [
       "<Figure size 432x288 with 1 Axes>"
      ]
     },
     "metadata": {
      "needs_background": "light"
     },
     "output_type": "display_data"
    }
   ],
   "source": [
    "df_final.frac.hist()"
   ]
  },
  {
   "cell_type": "raw",
   "metadata": {},
   "source": [
    "for entorno in clases:\n",
    "    df_final[df_final['Target']==entorno].frac.hist()\n",
    "    plt.title(entorno)\n",
    "    plt.show()"
   ]
  },
  {
   "cell_type": "raw",
   "metadata": {},
   "source": [
    "matplotlib.rcParams['figure.figsize'] = 10, 8\n",
    "for entorno in clases:\n",
    "    df_bar = df_final[df_final['Target']==entorno].sort_values('frac')\n",
    "    ax = sns.countplot(x=\"frac\", data= df_bar)\n",
    "    ax.set_xticklabels(ax.get_xticklabels(), rotation=70, ha=\"right\")\n",
    "    sns.despine()\n",
    "    plt.title(entorno)\n",
    "    plt.show()"
   ]
  },
  {
   "cell_type": "code",
   "execution_count": 26,
   "metadata": {},
   "outputs": [
    {
     "data": {
      "text/plain": [
       "['VoiR', 'VoiS', 'FIl', 'Loose', 'Field', 'Node']"
      ]
     },
     "execution_count": 26,
     "metadata": {},
     "output_type": "execute_result"
    }
   ],
   "source": [
    "clases"
   ]
  },
  {
   "cell_type": "markdown",
   "metadata": {},
   "source": [
    "### Diagrama de barras  de fracción de  galaxias pasivas por entorno"
   ]
  },
  {
   "cell_type": "code",
   "execution_count": 27,
   "metadata": {},
   "outputs": [
    {
     "data": {
      "text/plain": [
       "<Figure size 1440x5760 with 0 Axes>"
      ]
     },
     "metadata": {},
     "output_type": "display_data"
    },
    {
     "data": {
      "image/png": "[encoded data removed]",
      "text/plain": [
       "<Figure size 720x576 with 6 Axes>"
      ]
     },
     "metadata": {
      "needs_background": "light"
     },
     "output_type": "display_data"
    }
   ],
   "source": [
    "plt.rcParams['figure.figsize'] = 10, 8\n",
    "plt.figure(figsize=(20,80))\n",
    "\n",
    "\n",
    "####subfiguras\n",
    "f, ax = plt.subplots(2,3)\n",
    "\n",
    "plt.subplots_adjust(left=None, bottom=None, right=None, top=None, wspace=0.4, hspace=1.5)\n",
    "\n",
    "df_bar = df_final[df_final['Target']==clases[0]].sort_values('frac')\n",
    "sns.countplot(x=\"frac\", data= df_bar, ax=ax[0,0])\n",
    "ax[0,0].set_xticklabels(ax[0,0].get_xticklabels(), rotation=70, ha=\"right\")\n",
    "ax[0,0].set_title(clases[0])\n",
    "\n",
    "\n",
    "df_bar = df_final[df_final['Target']==clases[1]].sort_values('frac')\n",
    "sns.countplot(x=\"frac\", data= df_bar, ax=ax[0,1])\n",
    "ax[0,1].set_xticklabels(ax[0,1].get_xticklabels(), rotation=70, ha=\"right\")\n",
    "sns.despine()\n",
    "ax[0,1].set_title(clases[1])\n",
    "\n",
    "\n",
    "\n",
    "df_bar = df_final[df_final['Target']==clases[2]].sort_values('frac')\n",
    "sns.countplot(x=\"frac\", data= df_bar, ax=ax[0,2])\n",
    "ax[0,2].set_xticklabels(ax[0,2].get_xticklabels(), rotation=70, ha=\"right\")\n",
    "sns.despine()\n",
    "ax[0,2].set_title(clases[2])\n",
    "\n",
    "\n",
    "\n",
    "df_bar = df_final[df_final['Target']==clases[3]].sort_values('frac')\n",
    "sns.countplot(x=\"frac\", data= df_bar, ax=ax[1,0])\n",
    "ax[1,0].set_xticklabels(ax[1,0].get_xticklabels(), rotation=70, ha=\"right\")\n",
    "sns.despine()\n",
    "ax[1,0].set_title(clases[3])\n",
    "\n",
    "\n",
    "df_bar = df_final[df_final['Target']==clases[4]].sort_values('frac')\n",
    "sns.countplot(x=\"frac\", data= df_bar, ax=ax[1,1])\n",
    "ax[1,1].set_xticklabels(ax[1,1].get_xticklabels(), rotation=70, ha=\"right\")\n",
    "sns.despine()\n",
    "ax[1,1].set_title(clases[4])\n",
    "\n",
    "\n",
    "sns.countplot(x=\"frac\", data= df_final, ax=ax[1,2])\n",
    "ax[1,2].set_xticklabels(ax[1,2].get_xticklabels(), rotation=70, ha=\"right\")\n",
    "sns.despine()\n",
    "ax[1,2].set_title('mean')\n",
    "\n",
    "plt.savefig('bar_frac.pdf', format ='pdf',  bbox_inches='tight')\n",
    "plt.show()"
   ]
  },
  {
   "cell_type": "code",
   "execution_count": 28,
   "metadata": {},
   "outputs": [],
   "source": [
    "frac_index = list(set(df_final.frac))"
   ]
  },
  {
   "cell_type": "markdown",
   "metadata": {},
   "source": [
    "### Diagrama de barras  de fracción de  galaxias pasivas por entorno"
   ]
  },
  {
   "cell_type": "code",
   "execution_count": 29,
   "metadata": {},
   "outputs": [
    {
     "data": {
      "text/plain": [
       "<Figure size 1440x5760 with 0 Axes>"
      ]
     },
     "metadata": {},
     "output_type": "display_data"
    },
    {
     "data": {
      "image/png": "[encoded data removed]",
      "text/plain": [
       "<Figure size 720x576 with 6 Axes>"
      ]
     },
     "metadata": {
      "needs_background": "light"
     },
     "output_type": "display_data"
    }
   ],
   "source": [
    "plt.figure(figsize=(20,80))\n",
    "\n",
    "\n",
    "####subfiguras\n",
    "f, ax = plt.subplots(2,3)\n",
    "\n",
    "plt.subplots_adjust(left=None, bottom=None, right=None, top=None, wspace=0.4, hspace=1.5)\n",
    "\n",
    "df_bar = df_final[df_final['Target']==clases[0]].sort_values('frac')\n",
    "sns.boxplot(x=\"frac\", data=df_bar, ax=ax[0,0])\n",
    "ax[0,0].set_xticklabels(ax[0,0].get_xticklabels(), rotation=70, ha=\"right\")\n",
    "ax[0,0].set_title(clases[0])\n",
    "\n",
    "\n",
    "df_bar = df_final[df_final['Target']==clases[1]].sort_values('frac')\n",
    "sns.boxplot(x=\"frac\", data=df_bar, ax=ax[0,1])\n",
    "ax[0,1].set_xticklabels(ax[0,1].get_xticklabels(), rotation=70, ha=\"right\")\n",
    "sns.despine()\n",
    "ax[0,1].set_title(clases[1])\n",
    "\n",
    "\n",
    "\n",
    "df_bar = df_final[df_final['Target']==clases[2]].sort_values('frac')\n",
    "sns.boxplot(x=\"frac\", data= df_bar, ax=ax[0,2])\n",
    "ax[0,2].set_xticklabels(ax[0,2].get_xticklabels(), rotation=70, ha=\"right\")\n",
    "sns.despine()\n",
    "ax[0,2].set_title(clases[2])\n",
    "\n",
    "\n",
    "\n",
    "df_bar = df_final[df_final['Target']==clases[3]].sort_values('frac')\n",
    "sns.boxplot(x=\"frac\", data= df_bar, ax=ax[1,0])\n",
    "ax[1,0].set_xticklabels(ax[1,0].get_xticklabels(), rotation=70, ha=\"right\")\n",
    "sns.despine()\n",
    "ax[1,0].set_title(clases[3])\n",
    "\n",
    "\n",
    "df_bar = df_final[df_final['Target']==clases[4]].sort_values('frac')\n",
    "sns.boxplot(x=\"frac\", data= df_bar, ax=ax[1,1])\n",
    "ax[1,1].set_xticklabels(ax[1,1].get_xticklabels(), rotation=70, ha=\"right\")\n",
    "sns.despine()\n",
    "ax[1,1].set_title(clases[4])\n",
    "\n",
    "\n",
    "sns.boxplot(x=\"frac\", data= df_final, ax=ax[1,2])\n",
    "ax[1,2].set_xticklabels(ax[1,2].get_xticklabels(), rotation=70, ha=\"right\")\n",
    "sns.despine()\n",
    "ax[1,2].set_title('mean')\n",
    "\n",
    "plt.savefig('hist_box.pdf', format ='pdf',  bbox_inches='tight')\n",
    "plt.show()"
   ]
  },
  {
   "cell_type": "code",
   "execution_count": 30,
   "metadata": {},
   "outputs": [
    {
     "data": {
      "image/png": "[encoded data removed]",
      "text/plain": [
       "<Figure size 720x576 with 1 Axes>"
      ]
     },
     "metadata": {
      "needs_background": "light"
     },
     "output_type": "display_data"
    }
   ],
   "source": [
    "sns.boxplot(x='Target', y=\"frac\", data=df_final,  palette=\"husl\", notch= True)\n",
    "plt.ylabel('fraction of passive galaxies')\n",
    "plt.savefig('box_frac.pdf', format ='pdf',  bbox_inches='tight')"
   ]
  },
  {
   "cell_type": "code",
   "execution_count": 31,
   "metadata": {},
   "outputs": [
    {
     "data": {
      "image/png": "[encoded data removed]",
      "text/plain": [
       "<Figure size 720x576 with 1 Axes>"
      ]
     },
     "metadata": {
      "needs_background": "light"
     },
     "output_type": "display_data"
    }
   ],
   "source": [
    "clases = ['Node', 'FIl', 'Loose', 'Field', 'VoiS', 'VoiR']\n",
    "my_pal = {\"Node\":\"red\",\"FIl\":\"Orange\", \"Loose\":\"Magenta\", \"Field\":\"blue\", \"VoiS\":\"Darkgreen\", \"VoiR\":\"Purple\"}\n",
    "sns.boxplot(x=df_final.Target, y=df_final.frac, notch= True, order=[ \n",
    "                 'Node', 'FIl', 'Loose', 'Field', 'VoiS', 'VoiR'], palette=my_pal)\n",
    "plt.ylabel('Fraction of passive galaxies in CGs')\n",
    "plt.xlabel('Host environment')\n",
    "plt.savefig('box_frac.pdf', format ='pdf',  bbox_inches='tight')"
   ]
  },
  {
   "cell_type": "code",
   "execution_count": 32,
   "metadata": {},
   "outputs": [
    {
     "data": {
      "text/plain": [
       "{'FIl', 'Field', 'Loose', 'Node', 'VoiR', 'VoiS'}"
      ]
     },
     "execution_count": 32,
     "metadata": {},
     "output_type": "execute_result"
    }
   ],
   "source": [
    "set(df_final.Target)"
   ]
  },
  {
   "cell_type": "code",
   "execution_count": 33,
   "metadata": {},
   "outputs": [],
   "source": [
    "from matplotlib.cbook import boxplot_stats"
   ]
  },
  {
   "cell_type": "code",
   "execution_count": 34,
   "metadata": {},
   "outputs": [
    {
     "data": {
      "text/plain": [
       "'Node-frac'"
      ]
     },
     "metadata": {},
     "output_type": "display_data"
    },
    {
     "data": {
      "text/plain": [
       "1.0"
      ]
     },
     "metadata": {},
     "output_type": "display_data"
    },
    {
     "data": {
      "text/plain": [
       "0.05725200916292361"
      ]
     },
     "metadata": {},
     "output_type": "display_data"
    },
    {
     "data": {
      "text/plain": [
       "'FIl-frac'"
      ]
     },
     "metadata": {},
     "output_type": "display_data"
    },
    {
     "data": {
      "text/plain": [
       "0.75"
      ]
     },
     "metadata": {},
     "output_type": "display_data"
    },
    {
     "data": {
      "text/plain": [
       "0.09762832266307475"
      ]
     },
     "metadata": {},
     "output_type": "display_data"
    },
    {
     "data": {
      "text/plain": [
       "'Loose-frac'"
      ]
     },
     "metadata": {},
     "output_type": "display_data"
    },
    {
     "data": {
      "text/plain": [
       "0.8"
      ]
     },
     "metadata": {},
     "output_type": "display_data"
    },
    {
     "data": {
      "text/plain": [
       "0.05307568719695088"
      ]
     },
     "metadata": {},
     "output_type": "display_data"
    },
    {
     "data": {
      "text/plain": [
       "'Field-frac'"
      ]
     },
     "metadata": {},
     "output_type": "display_data"
    },
    {
     "data": {
      "text/plain": [
       "0.667"
      ]
     },
     "metadata": {},
     "output_type": "display_data"
    },
    {
     "data": {
      "text/plain": [
       "0.03157268691168891"
      ]
     },
     "metadata": {},
     "output_type": "display_data"
    },
    {
     "data": {
      "text/plain": [
       "'VoiS-frac'"
      ]
     },
     "metadata": {},
     "output_type": "display_data"
    },
    {
     "data": {
      "text/plain": [
       "0.5355"
      ]
     },
     "metadata": {},
     "output_type": "display_data"
    },
    {
     "data": {
      "text/plain": [
       "0.0877656681168667"
      ]
     },
     "metadata": {},
     "output_type": "display_data"
    },
    {
     "data": {
      "text/plain": [
       "'VoiR-frac'"
      ]
     },
     "metadata": {},
     "output_type": "display_data"
    },
    {
     "data": {
      "text/plain": [
       "0.5"
      ]
     },
     "metadata": {},
     "output_type": "display_data"
    },
    {
     "data": {
      "text/plain": [
       "0.13083333333333336"
      ]
     },
     "metadata": {},
     "output_type": "display_data"
    }
   ],
   "source": [
    "Node = df_final[df_final['Target']=='Node']\n",
    "display('Node-frac')\n",
    "display(boxplot_stats(Node.frac)[0]['med'],\n",
    "boxplot_stats(Node.frac)[0]['cihi']-boxplot_stats(Node.frac)[0]['med'])\n",
    "\n",
    "FIl = df_final[df_final['Target']=='FIl']\n",
    "display('FIl-frac')\n",
    "display(boxplot_stats(FIl.frac)[0]['med'],\n",
    "boxplot_stats(FIl.frac)[0]['cihi']-boxplot_stats(FIl.frac)[0]['med'])\n",
    "\n",
    "Loose = df_final[df_final['Target']=='Loose']\n",
    "display('Loose-frac')\n",
    "display(boxplot_stats(Loose.frac)[0]['med'],\n",
    "boxplot_stats(Loose.frac)[0]['cihi']-boxplot_stats(Loose.frac)[0]['med'])\n",
    "\n",
    "Field = df_final[df_final['Target']=='Field']\n",
    "display('Field-frac')\n",
    "display(boxplot_stats(Field.frac)[0]['med'],\n",
    "boxplot_stats(Field.frac)[0]['cihi']-boxplot_stats(Field.frac)[0]['med'])\n",
    "\n",
    "VoiS = df_final[df_final['Target']=='VoiS']\n",
    "display('VoiS-frac')\n",
    "display(boxplot_stats(VoiS.frac)[0]['med'],\n",
    "boxplot_stats(VoiS.frac)[0]['cihi']-boxplot_stats(VoiS.frac)[0]['med'])\n",
    "\n",
    "VoiR = df_final[df_final['Target']=='VoiR']\n",
    "display('VoiR-frac')\n",
    "display(boxplot_stats(VoiR.frac)[0]['med'],\n",
    "boxplot_stats(VoiR.frac)[0]['cihi']-boxplot_stats(VoiR.frac)[0]['med'])"
   ]
  },
  {
   "cell_type": "code",
   "execution_count": 35,
   "metadata": {},
   "outputs": [
    {
     "data": {
      "image/png": "[encoded data removed]",
      "text/plain": [
       "<Figure size 1080x288 with 1 Axes>"
      ]
     },
     "metadata": {
      "needs_background": "light"
     },
     "output_type": "display_data"
    }
   ],
   "source": [
    "df_bar = df_final.groupby([\"Target\"])[\"frac\"].mean()\n",
    "# Normalize result\n",
    "df_bar_pct = df_bar.sort_values().div(df_bar.sum(), axis=0)\n",
    "\n",
    "\n",
    "ax = df_bar_pct.plot(kind='bar', figsize=(15,4), width=0.8)\n",
    "\n",
    "for p in ax.patches:\n",
    "    width = p.get_width()\n",
    "    height = p.get_height()\n",
    "    x, y = p.get_xy() \n",
    "    ax.annotate(f'{height:.0%}', (x + width/2, y + height*1.00), ha='center')\n",
    "    \n",
    "plt.savefig('bar.eps',format='eps')"
   ]
  },
  {
   "cell_type": "markdown",
   "metadata": {},
   "source": [
    "# Tomando 7 GCs de forma aleatoria de cada entorno. "
   ]
  },
  {
   "cell_type": "markdown",
   "metadata": {},
   "source": [
    "**Submuestras**"
   ]
  },
  {
   "cell_type": "code",
   "execution_count": 36,
   "metadata": {},
   "outputs": [],
   "source": [
    "df_c0 = df_final[df_final['Target']==clases[0]].sort_values('frac') # Tomo la clase cero\n",
    "c = list(range(0, df_c0.shape[0])) # Defino una lista haciendo uso de la dim del df_c0\n",
    "aleatorios = random.sample(c, df_c0.shape[0]) # A esa lista c le doy un 'orden' aleatorio\n",
    "index = aleatorios \n",
    "dfa_c0 = pd.DataFrame(df_c0.frac.values, index=index) # Esa nueva lista la uso para definir el index de un nuevo df_c0 pero sin orden\n",
    "dfa_c0 = dfa_c0[0:8] # Tomo 7 gcs de la clase, entiendase clase a los GCs que pertenecen a un dado entorno\n",
    "\n",
    "\n",
    "df_c1 = df_final[df_final['Target']==clases[1]].sort_values('frac')\n",
    "c = list(range(0, df_c1.shape[0]))\n",
    "aleatorios = random.sample(c, df_c1.shape[0])\n",
    "index = aleatorios\n",
    "dfa_c1 = pd.DataFrame(df_c1.frac.values, index=index)\n",
    "dfa_c1 = dfa_c1[0:8]\n",
    "\n",
    "\n",
    "df_c2 = df_final[df_final['Target']==clases[2]].sort_values('frac')\n",
    "c = list(range(0, df_c2.shape[0]))\n",
    "aleatorios = random.sample(c, df_c2.shape[0])\n",
    "index = aleatorios\n",
    "dfa_c2 = pd.DataFrame(df_c2.frac.values, index=index)\n",
    "dfa_c2 = dfa_c2[0:8]\n",
    "\n",
    "\n",
    "df_c3 = df_final[df_final['Target']==clases[3]].sort_values('frac')\n",
    "c = list(range(0, df_c3.shape[0]))\n",
    "aleatorios = random.sample(c, df_c3.shape[0])\n",
    "index = aleatorios\n",
    "dfa_c3 = pd.DataFrame(df_c3.frac.values, index=index)\n",
    "dfa_c3 = dfa_c3[0:8]\n",
    "\n",
    "\n",
    "df_c4 = df_final[df_final['Target']==clases[4]].sort_values('frac')\n",
    "c = list(range(0, df_c4.shape[0]))\n",
    "aleatorios = random.sample(c, df_c4.shape[0])\n",
    "index = aleatorios\n",
    "dfa_c4 = pd.DataFrame(df_c4.frac.values, index=index)\n",
    "dfa_c4 = dfa_c4[0:8]\n",
    "\n",
    "\n",
    "df_c5 = df_final[df_final['Target']==clases[5]].sort_values('frac')\n",
    "c = list(range(0, df_c5.shape[0]))\n",
    "aleatorios = random.sample(c, df_c5.shape[0])\n",
    "index = aleatorios\n",
    "dfa_c5 = pd.DataFrame(df_c5.frac.values, index=index)\n",
    "dfa_c5 = dfa_c5[0:8]"
   ]
  },
  {
   "cell_type": "code",
   "execution_count": 37,
   "metadata": {},
   "outputs": [],
   "source": [
    "df_frac = pd.DataFrame(dfa_c0.values, columns=['VoidR'])\n",
    "df_frac['VoidS'] = dfa_c1.values\n",
    "df_frac['Loose'] = dfa_c2.values\n",
    "df_frac['Field'] = dfa_c3.values\n",
    "df_frac['Node'] = dfa_c4.values\n",
    "df_frac['FIl'] = dfa_c5.values"
   ]
  },
  {
   "cell_type": "code",
   "execution_count": 38,
   "metadata": {},
   "outputs": [
    {
     "data": {
      "text/html": [
       "<div>\n",
       "<style scoped>\n",
       "    .dataframe tbody tr th:only-of-type {\n",
       "        vertical-align: middle;\n",
       "    }\n",
       "\n",
       "    .dataframe tbody tr th {\n",
       "        vertical-align: top;\n",
       "    }\n",
       "\n",
       "    .dataframe thead th {\n",
       "        text-align: right;\n",
       "    }\n",
       "</style>\n",
       "<table border=\"1\" class=\"dataframe\">\n",
       "  <thead>\n",
       "    <tr style=\"text-align: right;\">\n",
       "      <th></th>\n",
       "      <th>VoidR</th>\n",
       "      <th>VoidS</th>\n",
       "      <th>Loose</th>\n",
       "      <th>Field</th>\n",
       "      <th>Node</th>\n",
       "      <th>FIl</th>\n",
       "    </tr>\n",
       "  </thead>\n",
       "  <tbody>\n",
       "    <tr>\n",
       "      <th>0</th>\n",
       "      <td>0.25</td>\n",
       "      <td>0.25</td>\n",
       "      <td>0.00</td>\n",
       "      <td>0.0</td>\n",
       "      <td>0.00</td>\n",
       "      <td>0.50</td>\n",
       "    </tr>\n",
       "    <tr>\n",
       "      <th>1</th>\n",
       "      <td>0.25</td>\n",
       "      <td>0.25</td>\n",
       "      <td>0.00</td>\n",
       "      <td>0.0</td>\n",
       "      <td>0.25</td>\n",
       "      <td>0.50</td>\n",
       "    </tr>\n",
       "    <tr>\n",
       "      <th>2</th>\n",
       "      <td>0.50</td>\n",
       "      <td>0.25</td>\n",
       "      <td>0.00</td>\n",
       "      <td>0.0</td>\n",
       "      <td>0.40</td>\n",
       "      <td>0.50</td>\n",
       "    </tr>\n",
       "    <tr>\n",
       "      <th>3</th>\n",
       "      <td>0.50</td>\n",
       "      <td>0.40</td>\n",
       "      <td>0.00</td>\n",
       "      <td>0.0</td>\n",
       "      <td>0.50</td>\n",
       "      <td>0.50</td>\n",
       "    </tr>\n",
       "    <tr>\n",
       "      <th>4</th>\n",
       "      <td>0.50</td>\n",
       "      <td>0.50</td>\n",
       "      <td>0.20</td>\n",
       "      <td>0.0</td>\n",
       "      <td>0.50</td>\n",
       "      <td>0.50</td>\n",
       "    </tr>\n",
       "    <tr>\n",
       "      <th>5</th>\n",
       "      <td>0.50</td>\n",
       "      <td>0.50</td>\n",
       "      <td>0.20</td>\n",
       "      <td>0.0</td>\n",
       "      <td>0.50</td>\n",
       "      <td>0.50</td>\n",
       "    </tr>\n",
       "    <tr>\n",
       "      <th>6</th>\n",
       "      <td>0.60</td>\n",
       "      <td>0.50</td>\n",
       "      <td>0.25</td>\n",
       "      <td>0.0</td>\n",
       "      <td>0.50</td>\n",
       "      <td>0.75</td>\n",
       "    </tr>\n",
       "    <tr>\n",
       "      <th>7</th>\n",
       "      <td>0.60</td>\n",
       "      <td>0.50</td>\n",
       "      <td>0.25</td>\n",
       "      <td>0.2</td>\n",
       "      <td>0.50</td>\n",
       "      <td>1.00</td>\n",
       "    </tr>\n",
       "  </tbody>\n",
       "</table>\n",
       "</div>"
      ],
      "text/plain": [
       "   VoidR  VoidS  Loose  Field  Node   FIl\n",
       "0   0.25   0.25   0.00    0.0  0.00  0.50\n",
       "1   0.25   0.25   0.00    0.0  0.25  0.50\n",
       "2   0.50   0.25   0.00    0.0  0.40  0.50\n",
       "3   0.50   0.40   0.00    0.0  0.50  0.50\n",
       "4   0.50   0.50   0.20    0.0  0.50  0.50\n",
       "5   0.50   0.50   0.20    0.0  0.50  0.50\n",
       "6   0.60   0.50   0.25    0.0  0.50  0.75\n",
       "7   0.60   0.50   0.25    0.2  0.50  1.00"
      ]
     },
     "execution_count": 38,
     "metadata": {},
     "output_type": "execute_result"
    }
   ],
   "source": [
    "df_frac"
   ]
  },
  {
   "cell_type": "code",
   "execution_count": 39,
   "metadata": {},
   "outputs": [],
   "source": [
    "voidR = pd.DataFrame(Counter(df_frac.VoidR).values(), index=Counter(df_frac.VoidR).keys(), columns=['voidR'])\n",
    "voidS = pd.DataFrame(Counter(df_frac.VoidS).values(), index=Counter(df_frac.VoidS).keys(), columns=['voidS'])\n",
    "Loose = pd.DataFrame(Counter(df_frac.Loose).values(), index=Counter(df_frac.Loose).keys(), columns=['Loose'])\n",
    "Field = pd.DataFrame(Counter(df_frac.Field).values(), index=Counter(df_frac.Field).keys(), columns=['Field'])\n",
    "Node = pd.DataFrame(Counter(df_frac.Node).values(), index=Counter(df_frac.Node).keys(), columns=['Node'])\n",
    "FIl = pd.DataFrame(Counter(df_frac.FIl).values(), index=Counter(df_frac.FIl).keys(), columns=['FIl'])"
   ]
  },
  {
   "cell_type": "code",
   "execution_count": 40,
   "metadata": {},
   "outputs": [],
   "source": [
    "df_12 = pd.concat([Node, FIl, Loose, Field, voidS, voidR], axis=1)"
   ]
  },
  {
   "cell_type": "code",
   "execution_count": 41,
   "metadata": {},
   "outputs": [
    {
     "data": {
      "text/html": [
       "<div>\n",
       "<style scoped>\n",
       "    .dataframe tbody tr th:only-of-type {\n",
       "        vertical-align: middle;\n",
       "    }\n",
       "\n",
       "    .dataframe tbody tr th {\n",
       "        vertical-align: top;\n",
       "    }\n",
       "\n",
       "    .dataframe thead th {\n",
       "        text-align: right;\n",
       "    }\n",
       "</style>\n",
       "<table border=\"1\" class=\"dataframe\">\n",
       "  <thead>\n",
       "    <tr style=\"text-align: right;\">\n",
       "      <th></th>\n",
       "      <th>Node</th>\n",
       "      <th>FIl</th>\n",
       "      <th>Loose</th>\n",
       "      <th>Field</th>\n",
       "      <th>voidS</th>\n",
       "      <th>voidR</th>\n",
       "    </tr>\n",
       "  </thead>\n",
       "  <tbody>\n",
       "    <tr>\n",
       "      <th>0.00</th>\n",
       "      <td>1.0</td>\n",
       "      <td>NaN</td>\n",
       "      <td>4.0</td>\n",
       "      <td>7.0</td>\n",
       "      <td>NaN</td>\n",
       "      <td>NaN</td>\n",
       "    </tr>\n",
       "    <tr>\n",
       "      <th>0.20</th>\n",
       "      <td>NaN</td>\n",
       "      <td>NaN</td>\n",
       "      <td>2.0</td>\n",
       "      <td>1.0</td>\n",
       "      <td>NaN</td>\n",
       "      <td>NaN</td>\n",
       "    </tr>\n",
       "    <tr>\n",
       "      <th>0.25</th>\n",
       "      <td>1.0</td>\n",
       "      <td>NaN</td>\n",
       "      <td>2.0</td>\n",
       "      <td>NaN</td>\n",
       "      <td>3.0</td>\n",
       "      <td>2.0</td>\n",
       "    </tr>\n",
       "    <tr>\n",
       "      <th>0.40</th>\n",
       "      <td>1.0</td>\n",
       "      <td>NaN</td>\n",
       "      <td>NaN</td>\n",
       "      <td>NaN</td>\n",
       "      <td>1.0</td>\n",
       "      <td>NaN</td>\n",
       "    </tr>\n",
       "    <tr>\n",
       "      <th>0.50</th>\n",
       "      <td>5.0</td>\n",
       "      <td>6.0</td>\n",
       "      <td>NaN</td>\n",
       "      <td>NaN</td>\n",
       "      <td>4.0</td>\n",
       "      <td>4.0</td>\n",
       "    </tr>\n",
       "    <tr>\n",
       "      <th>0.60</th>\n",
       "      <td>NaN</td>\n",
       "      <td>NaN</td>\n",
       "      <td>NaN</td>\n",
       "      <td>NaN</td>\n",
       "      <td>NaN</td>\n",
       "      <td>2.0</td>\n",
       "    </tr>\n",
       "    <tr>\n",
       "      <th>0.75</th>\n",
       "      <td>NaN</td>\n",
       "      <td>1.0</td>\n",
       "      <td>NaN</td>\n",
       "      <td>NaN</td>\n",
       "      <td>NaN</td>\n",
       "      <td>NaN</td>\n",
       "    </tr>\n",
       "    <tr>\n",
       "      <th>1.00</th>\n",
       "      <td>NaN</td>\n",
       "      <td>1.0</td>\n",
       "      <td>NaN</td>\n",
       "      <td>NaN</td>\n",
       "      <td>NaN</td>\n",
       "      <td>NaN</td>\n",
       "    </tr>\n",
       "  </tbody>\n",
       "</table>\n",
       "</div>"
      ],
      "text/plain": [
       "      Node  FIl  Loose  Field  voidS  voidR\n",
       "0.00   1.0  NaN    4.0    7.0    NaN    NaN\n",
       "0.20   NaN  NaN    2.0    1.0    NaN    NaN\n",
       "0.25   1.0  NaN    2.0    NaN    3.0    2.0\n",
       "0.40   1.0  NaN    NaN    NaN    1.0    NaN\n",
       "0.50   5.0  6.0    NaN    NaN    4.0    4.0\n",
       "0.60   NaN  NaN    NaN    NaN    NaN    2.0\n",
       "0.75   NaN  1.0    NaN    NaN    NaN    NaN\n",
       "1.00   NaN  1.0    NaN    NaN    NaN    NaN"
      ]
     },
     "execution_count": 41,
     "metadata": {},
     "output_type": "execute_result"
    }
   ],
   "source": [
    "df_12"
   ]
  },
  {
   "cell_type": "code",
   "execution_count": 42,
   "metadata": {},
   "outputs": [
    {
     "name": "stderr",
     "output_type": "stream",
     "text": [
      "The PostScript backend does not support transparency; partially transparent artists will be rendered opaque.\n",
      "The PostScript backend does not support transparency; partially transparent artists will be rendered opaque.\n"
     ]
    },
    {
     "data": {
      "image/png": "[encoded data removed]",
      "text/plain": [
       "<Figure size 720x576 with 1 Axes>"
      ]
     },
     "metadata": {
      "needs_background": "light"
     },
     "output_type": "display_data"
    }
   ],
   "source": [
    "# Make a list by cycling through the colors you care about\n",
    "# to match the length of your data.\n",
    "from itertools import cycle, islice\n",
    "my_colors = list(islice(cycle([\"red\", \"Orange\", \"Magenta\", \"blue\", \"Darkgreen\", \"Purple\"]), None, len(df_12)))\n",
    "#color = [\"red\", \"Orange\", \"Magenta\", \"blue\", \"Darkgreen\", \"Purple\"]\n",
    "df_12.plot(kind='bar', stacked=True, color=my_colors, grid=True)\n",
    "plt.xlabel('Frac')\n",
    "plt.ylabel('count')\n",
    "plt.savefig('cg7.eps',format='eps')"
   ]
  },
  {
   "cell_type": "markdown",
   "metadata": {},
   "source": [
    "# Misma figura pero sin considerar submuestras"
   ]
  },
  {
   "cell_type": "code",
   "execution_count": 43,
   "metadata": {},
   "outputs": [
    {
     "data": {
      "text/html": [
       "<div>\n",
       "<style scoped>\n",
       "    .dataframe tbody tr th:only-of-type {\n",
       "        vertical-align: middle;\n",
       "    }\n",
       "\n",
       "    .dataframe tbody tr th {\n",
       "        vertical-align: top;\n",
       "    }\n",
       "\n",
       "    .dataframe thead th {\n",
       "        text-align: right;\n",
       "    }\n",
       "</style>\n",
       "<table border=\"1\" class=\"dataframe\">\n",
       "  <thead>\n",
       "    <tr style=\"text-align: right;\">\n",
       "      <th></th>\n",
       "      <th>Node</th>\n",
       "      <th>FIl</th>\n",
       "      <th>Loose</th>\n",
       "      <th>Field</th>\n",
       "      <th>voidS</th>\n",
       "      <th>voidR</th>\n",
       "    </tr>\n",
       "  </thead>\n",
       "  <tbody>\n",
       "    <tr>\n",
       "      <th>0.0</th>\n",
       "      <td>1.0</td>\n",
       "      <td>NaN</td>\n",
       "      <td>4.0</td>\n",
       "      <td>7.0</td>\n",
       "      <td>NaN</td>\n",
       "      <td>NaN</td>\n",
       "    </tr>\n",
       "    <tr>\n",
       "      <th>0.2</th>\n",
       "      <td>NaN</td>\n",
       "      <td>NaN</td>\n",
       "      <td>2.0</td>\n",
       "      <td>4.0</td>\n",
       "      <td>NaN</td>\n",
       "      <td>NaN</td>\n",
       "    </tr>\n",
       "  </tbody>\n",
       "</table>\n",
       "</div>"
      ],
      "text/plain": [
       "     Node  FIl  Loose  Field  voidS  voidR\n",
       "0.0   1.0  NaN    4.0    7.0    NaN    NaN\n",
       "0.2   NaN  NaN    2.0    4.0    NaN    NaN"
      ]
     },
     "metadata": {},
     "output_type": "display_data"
    }
   ],
   "source": [
    "df_c0 = df_final[df_final['Target']==clases[0]].sort_values('frac') # Tomo la clase cero\n",
    "dfa_c0 = pd.DataFrame(df_c0.frac.values) # Esa nueva lista la uso para definir el index de un nuevo df_c0 pero sin orden\n",
    "\n",
    "df_c1 = df_final[df_final['Target']==clases[1]].sort_values('frac')\n",
    "dfa_c1 = pd.DataFrame(df_c1.frac.values)\n",
    "\n",
    "\n",
    "df_c2 = df_final[df_final['Target']==clases[2]].sort_values('frac')\n",
    "dfa_c2 = pd.DataFrame(df_c2.frac.values)\n",
    "\n",
    "\n",
    "df_c3 = df_final[df_final['Target']==clases[3]].sort_values('frac')\n",
    "dfa_c3 = pd.DataFrame(df_c3.frac.values)\n",
    "\n",
    "\n",
    "df_c4 = df_final[df_final['Target']==clases[4]].sort_values('frac')\n",
    "dfa_c4 = pd.DataFrame(df_c4.frac.values)\n",
    "\n",
    "\n",
    "df_c5 = df_final[df_final['Target']==clases[5]].sort_values('frac')\n",
    "dfa_c5 = pd.DataFrame(df_c5.frac.values)\n",
    "\n",
    "#########################################################################################\n",
    "voidR = pd.DataFrame(Counter(df_c0.frac).values(), index=Counter(df_c0.frac).keys(), columns=['voidR'])\n",
    "voidS = pd.DataFrame(Counter(df_c1.frac).values(), index=Counter(df_c1.frac).keys(), columns=['voidS'])\n",
    "Loose = pd.DataFrame(Counter(df_c2.frac).values(), index=Counter(df_c2.frac).keys(), columns=['Loose'])\n",
    "Field = pd.DataFrame(Counter(df_c3.frac).values(), index=Counter(df_c3.frac).keys(), columns=['Field'])\n",
    "Node = pd.DataFrame(Counter(df_c4.frac).values(), index=Counter(df_c4.frac).keys(), columns=['Node'])\n",
    "FIl = pd.DataFrame(Counter(df_c5.frac).values(), index=Counter(df_c5.frac).keys(), columns=['FIl'])\n",
    "\n",
    "\n",
    "df_12_19 = pd.concat([Node, FIl, Loose, Field, voidS, voidR], axis=1)\n",
    "display(df_12_19.head(2))"
   ]
  },
  {
   "cell_type": "code",
   "execution_count": 44,
   "metadata": {},
   "outputs": [
    {
     "data": {
      "text/plain": [
       "0.000     NaN\n",
       "0.200     NaN\n",
       "0.250     3.0\n",
       "0.286     NaN\n",
       "0.333     NaN\n",
       "0.375     NaN\n",
       "0.400     1.0\n",
       "0.500     7.0\n",
       "0.571     1.0\n",
       "0.600     2.0\n",
       "0.667     NaN\n",
       "0.750    11.0\n",
       "0.800     2.0\n",
       "0.833     NaN\n",
       "0.857     1.0\n",
       "0.875     NaN\n",
       "1.000    18.0\n",
       "Name: voidS, dtype: float64"
      ]
     },
     "execution_count": 44,
     "metadata": {},
     "output_type": "execute_result"
    }
   ],
   "source": [
    "df_12_19.voidS"
   ]
  },
  {
   "cell_type": "code",
   "execution_count": 45,
   "metadata": {},
   "outputs": [
    {
     "name": "stderr",
     "output_type": "stream",
     "text": [
      "The PostScript backend does not support transparency; partially transparent artists will be rendered opaque.\n",
      "The PostScript backend does not support transparency; partially transparent artists will be rendered opaque.\n"
     ]
    },
    {
     "data": {
      "image/png": "[encoded data removed]",
      "text/plain": [
       "<Figure size 720x576 with 1 Axes>"
      ]
     },
     "metadata": {
      "needs_background": "light"
     },
     "output_type": "display_data"
    }
   ],
   "source": [
    "# Make a list by cycling through the colors you care about\n",
    "# to match the length of your data.\n",
    "my_colors = list(islice(cycle([\"red\", \"Orange\", \"Magenta\", \"blue\", \"Darkgreen\", \"Purple\"]), None, len(df_12_19)))\n",
    "#color = [\"red\", \"Orange\", \"Magenta\", \"blue\", \"Darkgreen\", \"Purple\"]\n",
    "df_12_19.plot(kind='bar', stacked=True, color=my_colors, grid=True)\n",
    "plt.xlabel('Frac')\n",
    "plt.ylabel('count')\n",
    "plt.xticks(rotation=70, ha=\"right\")\n",
    "#plt.xlim(0., 0.4)\n",
    "plt.savefig('cg1219.eps',format='eps')\n"
   ]
  },
  {
   "cell_type": "code",
   "execution_count": 46,
   "metadata": {},
   "outputs": [
    {
     "data": {
      "text/html": [
       "<div>\n",
       "<style scoped>\n",
       "    .dataframe tbody tr th:only-of-type {\n",
       "        vertical-align: middle;\n",
       "    }\n",
       "\n",
       "    .dataframe tbody tr th {\n",
       "        vertical-align: top;\n",
       "    }\n",
       "\n",
       "    .dataframe thead th {\n",
       "        text-align: right;\n",
       "    }\n",
       "</style>\n",
       "<table border=\"1\" class=\"dataframe\">\n",
       "  <thead>\n",
       "    <tr style=\"text-align: right;\">\n",
       "      <th></th>\n",
       "      <th>Node</th>\n",
       "      <th>FIl</th>\n",
       "      <th>Loose</th>\n",
       "      <th>Field</th>\n",
       "      <th>voidS</th>\n",
       "      <th>voidR</th>\n",
       "    </tr>\n",
       "  </thead>\n",
       "  <tbody>\n",
       "    <tr>\n",
       "      <th>0.0</th>\n",
       "      <td>1.0</td>\n",
       "      <td>NaN</td>\n",
       "      <td>4.0</td>\n",
       "      <td>7.0</td>\n",
       "      <td>NaN</td>\n",
       "      <td>NaN</td>\n",
       "    </tr>\n",
       "    <tr>\n",
       "      <th>0.2</th>\n",
       "      <td>NaN</td>\n",
       "      <td>NaN</td>\n",
       "      <td>2.0</td>\n",
       "      <td>4.0</td>\n",
       "      <td>NaN</td>\n",
       "      <td>NaN</td>\n",
       "    </tr>\n",
       "  </tbody>\n",
       "</table>\n",
       "</div>"
      ],
      "text/plain": [
       "     Node  FIl  Loose  Field  voidS  voidR\n",
       "0.0   1.0  NaN    4.0    7.0    NaN    NaN\n",
       "0.2   NaN  NaN    2.0    4.0    NaN    NaN"
      ]
     },
     "execution_count": 46,
     "metadata": {},
     "output_type": "execute_result"
    }
   ],
   "source": [
    "df_12_19.head(2)"
   ]
  },
  {
   "cell_type": "code",
   "execution_count": 47,
   "metadata": {},
   "outputs": [
    {
     "data": {
      "text/html": [
       "<div>\n",
       "<style scoped>\n",
       "    .dataframe tbody tr th:only-of-type {\n",
       "        vertical-align: middle;\n",
       "    }\n",
       "\n",
       "    .dataframe tbody tr th {\n",
       "        vertical-align: top;\n",
       "    }\n",
       "\n",
       "    .dataframe thead th {\n",
       "        text-align: right;\n",
       "    }\n",
       "</style>\n",
       "<table border=\"1\" class=\"dataframe\">\n",
       "  <thead>\n",
       "    <tr style=\"text-align: right;\">\n",
       "      <th></th>\n",
       "      <th>frac</th>\n",
       "      <th>Node</th>\n",
       "      <th>FIl</th>\n",
       "      <th>Loose</th>\n",
       "      <th>Field</th>\n",
       "      <th>voidS</th>\n",
       "      <th>voidR</th>\n",
       "    </tr>\n",
       "  </thead>\n",
       "  <tbody>\n",
       "    <tr>\n",
       "      <th>0</th>\n",
       "      <td>0.0</td>\n",
       "      <td>1.0</td>\n",
       "      <td>0.0</td>\n",
       "      <td>4.0</td>\n",
       "      <td>7.0</td>\n",
       "      <td>0.0</td>\n",
       "      <td>0.0</td>\n",
       "    </tr>\n",
       "    <tr>\n",
       "      <th>1</th>\n",
       "      <td>0.2</td>\n",
       "      <td>0.0</td>\n",
       "      <td>0.0</td>\n",
       "      <td>2.0</td>\n",
       "      <td>4.0</td>\n",
       "      <td>0.0</td>\n",
       "      <td>0.0</td>\n",
       "    </tr>\n",
       "  </tbody>\n",
       "</table>\n",
       "</div>"
      ],
      "text/plain": [
       "   frac  Node  FIl  Loose  Field  voidS  voidR\n",
       "0   0.0   1.0  0.0    4.0    7.0    0.0    0.0\n",
       "1   0.2   0.0  0.0    2.0    4.0    0.0    0.0"
      ]
     },
     "execution_count": 47,
     "metadata": {},
     "output_type": "execute_result"
    }
   ],
   "source": [
    "df_12_22 = df_12_19.reset_index().copy()\n",
    "df_12_22 = df_12_22.rename(columns={'index': 'frac'})\n",
    "df_12_22 = df_12_22.fillna(0)\n",
    "df_12_22.head(2)"
   ]
  },
  {
   "cell_type": "markdown",
   "metadata": {},
   "source": [
    "https://kodlogs.com/33984/the-truth-value-of-an-array-with-more-than-one-element-is-ambiguous-use-a-any-or-a-all"
   ]
  },
  {
   "cell_type": "code",
   "execution_count": null,
   "metadata": {},
   "outputs": [],
   "source": []
  },
  {
   "cell_type": "code",
   "execution_count": 48,
   "metadata": {},
   "outputs": [
    {
     "data": {
      "text/html": [
       "<div>\n",
       "<style scoped>\n",
       "    .dataframe tbody tr th:only-of-type {\n",
       "        vertical-align: middle;\n",
       "    }\n",
       "\n",
       "    .dataframe tbody tr th {\n",
       "        vertical-align: top;\n",
       "    }\n",
       "\n",
       "    .dataframe thead th {\n",
       "        text-align: right;\n",
       "    }\n",
       "</style>\n",
       "<table border=\"1\" class=\"dataframe\">\n",
       "  <thead>\n",
       "    <tr style=\"text-align: right;\">\n",
       "      <th></th>\n",
       "      <th>frac</th>\n",
       "      <th>Node</th>\n",
       "      <th>FIl</th>\n",
       "      <th>Loose</th>\n",
       "      <th>Field</th>\n",
       "      <th>voidS</th>\n",
       "      <th>voidR</th>\n",
       "    </tr>\n",
       "  </thead>\n",
       "  <tbody>\n",
       "    <tr>\n",
       "      <th>0</th>\n",
       "      <td>0.0</td>\n",
       "      <td>1.0</td>\n",
       "      <td>0.0</td>\n",
       "      <td>4.0</td>\n",
       "      <td>7.0</td>\n",
       "      <td>0.0</td>\n",
       "      <td>0.0</td>\n",
       "    </tr>\n",
       "  </tbody>\n",
       "</table>\n",
       "</div>"
      ],
      "text/plain": [
       "   frac  Node  FIl  Loose  Field  voidS  voidR\n",
       "0   0.0   1.0  0.0    4.0    7.0    0.0    0.0"
      ]
     },
     "execution_count": 48,
     "metadata": {},
     "output_type": "execute_result"
    }
   ],
   "source": [
    "df_12_22.loc[df_12_22.frac < 0.2] "
   ]
  },
  {
   "cell_type": "code",
   "execution_count": 49,
   "metadata": {},
   "outputs": [
    {
     "data": {
      "text/plain": [
       "0    0.0\n",
       "Name: frac, dtype: float64"
      ]
     },
     "execution_count": 49,
     "metadata": {},
     "output_type": "execute_result"
    }
   ],
   "source": [
    "df_12_22.loc[df_12_22.frac < 0.2, 'frac'] "
   ]
  },
  {
   "cell_type": "raw",
   "metadata": {},
   "source": [
    "df_12_22.loc[df_12_22.frac < 0.2, 'frac'] = 1"
   ]
  },
  {
   "cell_type": "code",
   "execution_count": 50,
   "metadata": {},
   "outputs": [
    {
     "data": {
      "text/html": [
       "<div>\n",
       "<style scoped>\n",
       "    .dataframe tbody tr th:only-of-type {\n",
       "        vertical-align: middle;\n",
       "    }\n",
       "\n",
       "    .dataframe tbody tr th {\n",
       "        vertical-align: top;\n",
       "    }\n",
       "\n",
       "    .dataframe thead th {\n",
       "        text-align: right;\n",
       "    }\n",
       "</style>\n",
       "<table border=\"1\" class=\"dataframe\">\n",
       "  <thead>\n",
       "    <tr style=\"text-align: right;\">\n",
       "      <th></th>\n",
       "      <th>frac</th>\n",
       "      <th>Node</th>\n",
       "      <th>FIl</th>\n",
       "      <th>Loose</th>\n",
       "      <th>Field</th>\n",
       "      <th>voidS</th>\n",
       "      <th>voidR</th>\n",
       "    </tr>\n",
       "  </thead>\n",
       "  <tbody>\n",
       "    <tr>\n",
       "      <th>0</th>\n",
       "      <td>0.000</td>\n",
       "      <td>1.0</td>\n",
       "      <td>0.0</td>\n",
       "      <td>4.0</td>\n",
       "      <td>7.0</td>\n",
       "      <td>0.0</td>\n",
       "      <td>0.0</td>\n",
       "    </tr>\n",
       "    <tr>\n",
       "      <th>1</th>\n",
       "      <td>0.200</td>\n",
       "      <td>0.0</td>\n",
       "      <td>0.0</td>\n",
       "      <td>2.0</td>\n",
       "      <td>4.0</td>\n",
       "      <td>0.0</td>\n",
       "      <td>0.0</td>\n",
       "    </tr>\n",
       "    <tr>\n",
       "      <th>2</th>\n",
       "      <td>0.250</td>\n",
       "      <td>1.0</td>\n",
       "      <td>0.0</td>\n",
       "      <td>5.0</td>\n",
       "      <td>13.0</td>\n",
       "      <td>3.0</td>\n",
       "      <td>2.0</td>\n",
       "    </tr>\n",
       "    <tr>\n",
       "      <th>3</th>\n",
       "      <td>0.286</td>\n",
       "      <td>0.0</td>\n",
       "      <td>0.0</td>\n",
       "      <td>0.0</td>\n",
       "      <td>1.0</td>\n",
       "      <td>0.0</td>\n",
       "      <td>0.0</td>\n",
       "    </tr>\n",
       "    <tr>\n",
       "      <th>4</th>\n",
       "      <td>0.333</td>\n",
       "      <td>0.0</td>\n",
       "      <td>0.0</td>\n",
       "      <td>0.0</td>\n",
       "      <td>1.0</td>\n",
       "      <td>0.0</td>\n",
       "      <td>0.0</td>\n",
       "    </tr>\n",
       "    <tr>\n",
       "      <th>5</th>\n",
       "      <td>0.375</td>\n",
       "      <td>0.0</td>\n",
       "      <td>0.0</td>\n",
       "      <td>2.0</td>\n",
       "      <td>0.0</td>\n",
       "      <td>0.0</td>\n",
       "      <td>0.0</td>\n",
       "    </tr>\n",
       "    <tr>\n",
       "      <th>6</th>\n",
       "      <td>0.400</td>\n",
       "      <td>1.0</td>\n",
       "      <td>0.0</td>\n",
       "      <td>4.0</td>\n",
       "      <td>7.0</td>\n",
       "      <td>1.0</td>\n",
       "      <td>0.0</td>\n",
       "    </tr>\n",
       "    <tr>\n",
       "      <th>7</th>\n",
       "      <td>0.500</td>\n",
       "      <td>7.0</td>\n",
       "      <td>6.0</td>\n",
       "      <td>15.0</td>\n",
       "      <td>44.0</td>\n",
       "      <td>7.0</td>\n",
       "      <td>4.0</td>\n",
       "    </tr>\n",
       "    <tr>\n",
       "      <th>8</th>\n",
       "      <td>0.571</td>\n",
       "      <td>2.0</td>\n",
       "      <td>0.0</td>\n",
       "      <td>1.0</td>\n",
       "      <td>1.0</td>\n",
       "      <td>1.0</td>\n",
       "      <td>0.0</td>\n",
       "    </tr>\n",
       "    <tr>\n",
       "      <th>9</th>\n",
       "      <td>0.600</td>\n",
       "      <td>0.0</td>\n",
       "      <td>0.0</td>\n",
       "      <td>4.0</td>\n",
       "      <td>10.0</td>\n",
       "      <td>2.0</td>\n",
       "      <td>2.0</td>\n",
       "    </tr>\n",
       "    <tr>\n",
       "      <th>10</th>\n",
       "      <td>0.667</td>\n",
       "      <td>1.0</td>\n",
       "      <td>0.0</td>\n",
       "      <td>2.0</td>\n",
       "      <td>6.0</td>\n",
       "      <td>0.0</td>\n",
       "      <td>1.0</td>\n",
       "    </tr>\n",
       "    <tr>\n",
       "      <th>11</th>\n",
       "      <td>0.750</td>\n",
       "      <td>4.0</td>\n",
       "      <td>1.0</td>\n",
       "      <td>28.0</td>\n",
       "      <td>46.0</td>\n",
       "      <td>11.0</td>\n",
       "      <td>10.0</td>\n",
       "    </tr>\n",
       "    <tr>\n",
       "      <th>12</th>\n",
       "      <td>0.800</td>\n",
       "      <td>1.0</td>\n",
       "      <td>0.0</td>\n",
       "      <td>9.0</td>\n",
       "      <td>9.0</td>\n",
       "      <td>2.0</td>\n",
       "      <td>3.0</td>\n",
       "    </tr>\n",
       "    <tr>\n",
       "      <th>13</th>\n",
       "      <td>0.833</td>\n",
       "      <td>0.0</td>\n",
       "      <td>0.0</td>\n",
       "      <td>3.0</td>\n",
       "      <td>5.0</td>\n",
       "      <td>0.0</td>\n",
       "      <td>0.0</td>\n",
       "    </tr>\n",
       "    <tr>\n",
       "      <th>14</th>\n",
       "      <td>0.857</td>\n",
       "      <td>0.0</td>\n",
       "      <td>0.0</td>\n",
       "      <td>0.0</td>\n",
       "      <td>3.0</td>\n",
       "      <td>1.0</td>\n",
       "      <td>0.0</td>\n",
       "    </tr>\n",
       "    <tr>\n",
       "      <th>15</th>\n",
       "      <td>0.875</td>\n",
       "      <td>0.0</td>\n",
       "      <td>0.0</td>\n",
       "      <td>0.0</td>\n",
       "      <td>1.0</td>\n",
       "      <td>0.0</td>\n",
       "      <td>0.0</td>\n",
       "    </tr>\n",
       "    <tr>\n",
       "      <th>16</th>\n",
       "      <td>1.000</td>\n",
       "      <td>2.0</td>\n",
       "      <td>2.0</td>\n",
       "      <td>61.0</td>\n",
       "      <td>29.0</td>\n",
       "      <td>18.0</td>\n",
       "      <td>25.0</td>\n",
       "    </tr>\n",
       "  </tbody>\n",
       "</table>\n",
       "</div>"
      ],
      "text/plain": [
       "     frac  Node  FIl  Loose  Field  voidS  voidR\n",
       "0   0.000   1.0  0.0    4.0    7.0    0.0    0.0\n",
       "1   0.200   0.0  0.0    2.0    4.0    0.0    0.0\n",
       "2   0.250   1.0  0.0    5.0   13.0    3.0    2.0\n",
       "3   0.286   0.0  0.0    0.0    1.0    0.0    0.0\n",
       "4   0.333   0.0  0.0    0.0    1.0    0.0    0.0\n",
       "5   0.375   0.0  0.0    2.0    0.0    0.0    0.0\n",
       "6   0.400   1.0  0.0    4.0    7.0    1.0    0.0\n",
       "7   0.500   7.0  6.0   15.0   44.0    7.0    4.0\n",
       "8   0.571   2.0  0.0    1.0    1.0    1.0    0.0\n",
       "9   0.600   0.0  0.0    4.0   10.0    2.0    2.0\n",
       "10  0.667   1.0  0.0    2.0    6.0    0.0    1.0\n",
       "11  0.750   4.0  1.0   28.0   46.0   11.0   10.0\n",
       "12  0.800   1.0  0.0    9.0    9.0    2.0    3.0\n",
       "13  0.833   0.0  0.0    3.0    5.0    0.0    0.0\n",
       "14  0.857   0.0  0.0    0.0    3.0    1.0    0.0\n",
       "15  0.875   0.0  0.0    0.0    1.0    0.0    0.0\n",
       "16  1.000   2.0  2.0   61.0   29.0   18.0   25.0"
      ]
     },
     "execution_count": 50,
     "metadata": {},
     "output_type": "execute_result"
    }
   ],
   "source": [
    "df_12_22"
   ]
  },
  {
   "cell_type": "code",
   "execution_count": 51,
   "metadata": {},
   "outputs": [],
   "source": [
    "# Binning of the data based on a condition\n",
    "df_12_22.loc[df_12_22.frac < 0.2, 'frac'] = 10\n",
    "df_12_22.loc[np.logical_and(df_12_22.frac >= 0.2, df_12_22.frac < 0.4), 'frac'] = 20\n",
    "df_12_22.loc[np.logical_and(df_12_22.frac >= 0.4, df_12_22.frac < 0.6), 'frac'] = 30\n",
    "df_12_22.loc[np.logical_and(df_12_22.frac >= 0.6, df_12_22.frac < 0.8), 'frac'] = 40\n",
    "df_12_22.loc[np.logical_and(df_12_22.frac >= 0.8, df_12_22.frac <= 1.0), 'frac'] = 50\n",
    " \n",
    "# Grouping and couting\n",
    "df_12_22 = df_12_22.groupby('frac').sum()"
   ]
  },
  {
   "cell_type": "code",
   "execution_count": 52,
   "metadata": {},
   "outputs": [
    {
     "data": {
      "text/html": [
       "<div>\n",
       "<style scoped>\n",
       "    .dataframe tbody tr th:only-of-type {\n",
       "        vertical-align: middle;\n",
       "    }\n",
       "\n",
       "    .dataframe tbody tr th {\n",
       "        vertical-align: top;\n",
       "    }\n",
       "\n",
       "    .dataframe thead th {\n",
       "        text-align: right;\n",
       "    }\n",
       "</style>\n",
       "<table border=\"1\" class=\"dataframe\">\n",
       "  <thead>\n",
       "    <tr style=\"text-align: right;\">\n",
       "      <th></th>\n",
       "      <th>Node</th>\n",
       "      <th>FIl</th>\n",
       "      <th>Loose</th>\n",
       "      <th>Field</th>\n",
       "      <th>voidS</th>\n",
       "      <th>voidR</th>\n",
       "    </tr>\n",
       "    <tr>\n",
       "      <th>frac</th>\n",
       "      <th></th>\n",
       "      <th></th>\n",
       "      <th></th>\n",
       "      <th></th>\n",
       "      <th></th>\n",
       "      <th></th>\n",
       "    </tr>\n",
       "  </thead>\n",
       "  <tbody>\n",
       "    <tr>\n",
       "      <th>10.0</th>\n",
       "      <td>1.0</td>\n",
       "      <td>0.0</td>\n",
       "      <td>4.0</td>\n",
       "      <td>7.0</td>\n",
       "      <td>0.0</td>\n",
       "      <td>0.0</td>\n",
       "    </tr>\n",
       "    <tr>\n",
       "      <th>20.0</th>\n",
       "      <td>1.0</td>\n",
       "      <td>0.0</td>\n",
       "      <td>9.0</td>\n",
       "      <td>19.0</td>\n",
       "      <td>3.0</td>\n",
       "      <td>2.0</td>\n",
       "    </tr>\n",
       "    <tr>\n",
       "      <th>30.0</th>\n",
       "      <td>10.0</td>\n",
       "      <td>6.0</td>\n",
       "      <td>20.0</td>\n",
       "      <td>52.0</td>\n",
       "      <td>9.0</td>\n",
       "      <td>4.0</td>\n",
       "    </tr>\n",
       "    <tr>\n",
       "      <th>40.0</th>\n",
       "      <td>5.0</td>\n",
       "      <td>1.0</td>\n",
       "      <td>34.0</td>\n",
       "      <td>62.0</td>\n",
       "      <td>13.0</td>\n",
       "      <td>13.0</td>\n",
       "    </tr>\n",
       "    <tr>\n",
       "      <th>50.0</th>\n",
       "      <td>3.0</td>\n",
       "      <td>2.0</td>\n",
       "      <td>73.0</td>\n",
       "      <td>47.0</td>\n",
       "      <td>21.0</td>\n",
       "      <td>28.0</td>\n",
       "    </tr>\n",
       "  </tbody>\n",
       "</table>\n",
       "</div>"
      ],
      "text/plain": [
       "      Node  FIl  Loose  Field  voidS  voidR\n",
       "frac                                       \n",
       "10.0   1.0  0.0    4.0    7.0    0.0    0.0\n",
       "20.0   1.0  0.0    9.0   19.0    3.0    2.0\n",
       "30.0  10.0  6.0   20.0   52.0    9.0    4.0\n",
       "40.0   5.0  1.0   34.0   62.0   13.0   13.0\n",
       "50.0   3.0  2.0   73.0   47.0   21.0   28.0"
      ]
     },
     "execution_count": 52,
     "metadata": {},
     "output_type": "execute_result"
    }
   ],
   "source": [
    "df_12_22"
   ]
  },
  {
   "cell_type": "code",
   "execution_count": 53,
   "metadata": {},
   "outputs": [],
   "source": [
    "#bines = ['bin 1', 'bin 2', 'bin 3', 'bin 4', 'bin 5' ]\n",
    "bines = ['[0 - 0.2)', '[0.2 - 0.4)', '[0.4 - 0.6)', '[0.6 - 0.8)', '[0.8 - 1]' ]"
   ]
  },
  {
   "cell_type": "code",
   "execution_count": 54,
   "metadata": {},
   "outputs": [],
   "source": [
    "df_12_22['bines'] = bines"
   ]
  },
  {
   "cell_type": "code",
   "execution_count": 55,
   "metadata": {},
   "outputs": [],
   "source": [
    "df_fracciones_bin =  df_12_22.reset_index().set_index('bines').drop('frac', axis=1)"
   ]
  },
  {
   "cell_type": "code",
   "execution_count": 56,
   "metadata": {},
   "outputs": [
    {
     "data": {
      "text/html": [
       "<div>\n",
       "<style scoped>\n",
       "    .dataframe tbody tr th:only-of-type {\n",
       "        vertical-align: middle;\n",
       "    }\n",
       "\n",
       "    .dataframe tbody tr th {\n",
       "        vertical-align: top;\n",
       "    }\n",
       "\n",
       "    .dataframe thead th {\n",
       "        text-align: right;\n",
       "    }\n",
       "</style>\n",
       "<table border=\"1\" class=\"dataframe\">\n",
       "  <thead>\n",
       "    <tr style=\"text-align: right;\">\n",
       "      <th></th>\n",
       "      <th>Node</th>\n",
       "      <th>FIl</th>\n",
       "      <th>Loose</th>\n",
       "      <th>Field</th>\n",
       "      <th>voidS</th>\n",
       "      <th>voidR</th>\n",
       "    </tr>\n",
       "    <tr>\n",
       "      <th>bines</th>\n",
       "      <th></th>\n",
       "      <th></th>\n",
       "      <th></th>\n",
       "      <th></th>\n",
       "      <th></th>\n",
       "      <th></th>\n",
       "    </tr>\n",
       "  </thead>\n",
       "  <tbody>\n",
       "    <tr>\n",
       "      <th>[0 - 0.2)</th>\n",
       "      <td>1.0</td>\n",
       "      <td>0.0</td>\n",
       "      <td>4.0</td>\n",
       "      <td>7.0</td>\n",
       "      <td>0.0</td>\n",
       "      <td>0.0</td>\n",
       "    </tr>\n",
       "    <tr>\n",
       "      <th>[0.2 - 0.4)</th>\n",
       "      <td>1.0</td>\n",
       "      <td>0.0</td>\n",
       "      <td>9.0</td>\n",
       "      <td>19.0</td>\n",
       "      <td>3.0</td>\n",
       "      <td>2.0</td>\n",
       "    </tr>\n",
       "    <tr>\n",
       "      <th>[0.4 - 0.6)</th>\n",
       "      <td>10.0</td>\n",
       "      <td>6.0</td>\n",
       "      <td>20.0</td>\n",
       "      <td>52.0</td>\n",
       "      <td>9.0</td>\n",
       "      <td>4.0</td>\n",
       "    </tr>\n",
       "    <tr>\n",
       "      <th>[0.6 - 0.8)</th>\n",
       "      <td>5.0</td>\n",
       "      <td>1.0</td>\n",
       "      <td>34.0</td>\n",
       "      <td>62.0</td>\n",
       "      <td>13.0</td>\n",
       "      <td>13.0</td>\n",
       "    </tr>\n",
       "    <tr>\n",
       "      <th>[0.8 - 1]</th>\n",
       "      <td>3.0</td>\n",
       "      <td>2.0</td>\n",
       "      <td>73.0</td>\n",
       "      <td>47.0</td>\n",
       "      <td>21.0</td>\n",
       "      <td>28.0</td>\n",
       "    </tr>\n",
       "  </tbody>\n",
       "</table>\n",
       "</div>"
      ],
      "text/plain": [
       "             Node  FIl  Loose  Field  voidS  voidR\n",
       "bines                                             \n",
       "[0 - 0.2)     1.0  0.0    4.0    7.0    0.0    0.0\n",
       "[0.2 - 0.4)   1.0  0.0    9.0   19.0    3.0    2.0\n",
       "[0.4 - 0.6)  10.0  6.0   20.0   52.0    9.0    4.0\n",
       "[0.6 - 0.8)   5.0  1.0   34.0   62.0   13.0   13.0\n",
       "[0.8 - 1]     3.0  2.0   73.0   47.0   21.0   28.0"
      ]
     },
     "execution_count": 56,
     "metadata": {},
     "output_type": "execute_result"
    }
   ],
   "source": [
    "df_fracciones_bin "
   ]
  },
  {
   "cell_type": "code",
   "execution_count": 57,
   "metadata": {},
   "outputs": [
    {
     "name": "stderr",
     "output_type": "stream",
     "text": [
      "The PostScript backend does not support transparency; partially transparent artists will be rendered opaque.\n",
      "The PostScript backend does not support transparency; partially transparent artists will be rendered opaque.\n"
     ]
    },
    {
     "data": {
      "image/png": "[encoded data removed]",
      "text/plain": [
       "<Figure size 720x576 with 1 Axes>"
      ]
     },
     "metadata": {
      "needs_background": "light"
     },
     "output_type": "display_data"
    }
   ],
   "source": [
    "#my_colors = list(islice(cycle([\"red\", \"Orange\", \"Magenta\", \"blue\", \"Darkgreen\", \"Purple\"]), None, len(df_12_22)))\n",
    "#color = [\"red\", \"Orange\", \"Magenta\", \"blue\", \"Darkgreen\", \"Purple\"]\n",
    "df_12_22.plot(kind='bar', stacked=True)\n",
    "plt.xlabel('Frac')\n",
    "plt.ylabel('count')\n",
    "plt.xticks(rotation=70, ha=\"right\")\n",
    "#plt.xlim(0., 0.4)\n",
    "plt.savefig('cg1222.eps',format='eps')"
   ]
  },
  {
   "cell_type": "code",
   "execution_count": 58,
   "metadata": {},
   "outputs": [
    {
     "name": "stderr",
     "output_type": "stream",
     "text": [
      "The PostScript backend does not support transparency; partially transparent artists will be rendered opaque.\n",
      "The PostScript backend does not support transparency; partially transparent artists will be rendered opaque.\n"
     ]
    },
    {
     "data": {
      "image/png": "[encoded data removed]",
      "text/plain": [
       "<Figure size 720x576 with 1 Axes>"
      ]
     },
     "metadata": {
      "needs_background": "light"
     },
     "output_type": "display_data"
    }
   ],
   "source": [
    "#my_colors = list(islice(cycle([\"red\", \"Orange\", \"Magenta\", \"blue\", \"Darkgreen\", \"Purple\"]), None, len(df_12_22)))\n",
    "#color = [\"red\", \"Orange\", \"Magenta\", \"blue\", \"Darkgreen\", \"Purple\"]\n",
    "df_fracciones_bin.plot(kind='bar', stacked=True)\n",
    "plt.xlabel('Frac')\n",
    "plt.ylabel('count')\n",
    "plt.xticks(rotation=0)\n",
    "#plt.xlim(0., 0.4)\n",
    "plt.savefig('cg1222.eps',format='eps')"
   ]
  },
  {
   "cell_type": "code",
   "execution_count": 59,
   "metadata": {},
   "outputs": [
    {
     "data": {
      "text/html": [
       "<div>\n",
       "<style scoped>\n",
       "    .dataframe tbody tr th:only-of-type {\n",
       "        vertical-align: middle;\n",
       "    }\n",
       "\n",
       "    .dataframe tbody tr th {\n",
       "        vertical-align: top;\n",
       "    }\n",
       "\n",
       "    .dataframe thead th {\n",
       "        text-align: right;\n",
       "    }\n",
       "</style>\n",
       "<table border=\"1\" class=\"dataframe\">\n",
       "  <thead>\n",
       "    <tr style=\"text-align: right;\">\n",
       "      <th></th>\n",
       "      <th>Node</th>\n",
       "      <th>FIl</th>\n",
       "      <th>Loose</th>\n",
       "      <th>Field</th>\n",
       "      <th>voidS</th>\n",
       "      <th>voidR</th>\n",
       "    </tr>\n",
       "    <tr>\n",
       "      <th>bines</th>\n",
       "      <th></th>\n",
       "      <th></th>\n",
       "      <th></th>\n",
       "      <th></th>\n",
       "      <th></th>\n",
       "      <th></th>\n",
       "    </tr>\n",
       "  </thead>\n",
       "  <tbody>\n",
       "    <tr>\n",
       "      <th>[0 - 0.2)</th>\n",
       "      <td>0.083333</td>\n",
       "      <td>0.000000</td>\n",
       "      <td>0.333333</td>\n",
       "      <td>0.583333</td>\n",
       "      <td>0.000000</td>\n",
       "      <td>0.000000</td>\n",
       "    </tr>\n",
       "    <tr>\n",
       "      <th>[0.2 - 0.4)</th>\n",
       "      <td>0.029412</td>\n",
       "      <td>0.000000</td>\n",
       "      <td>0.264706</td>\n",
       "      <td>0.558824</td>\n",
       "      <td>0.088235</td>\n",
       "      <td>0.058824</td>\n",
       "    </tr>\n",
       "    <tr>\n",
       "      <th>[0.4 - 0.6)</th>\n",
       "      <td>0.099010</td>\n",
       "      <td>0.059406</td>\n",
       "      <td>0.198020</td>\n",
       "      <td>0.514851</td>\n",
       "      <td>0.089109</td>\n",
       "      <td>0.039604</td>\n",
       "    </tr>\n",
       "    <tr>\n",
       "      <th>[0.6 - 0.8)</th>\n",
       "      <td>0.039062</td>\n",
       "      <td>0.007812</td>\n",
       "      <td>0.265625</td>\n",
       "      <td>0.484375</td>\n",
       "      <td>0.101562</td>\n",
       "      <td>0.101562</td>\n",
       "    </tr>\n",
       "    <tr>\n",
       "      <th>[0.8 - 1]</th>\n",
       "      <td>0.017241</td>\n",
       "      <td>0.011494</td>\n",
       "      <td>0.419540</td>\n",
       "      <td>0.270115</td>\n",
       "      <td>0.120690</td>\n",
       "      <td>0.160920</td>\n",
       "    </tr>\n",
       "  </tbody>\n",
       "</table>\n",
       "</div>"
      ],
      "text/plain": [
       "                 Node       FIl     Loose     Field     voidS     voidR\n",
       "bines                                                                  \n",
       "[0 - 0.2)    0.083333  0.000000  0.333333  0.583333  0.000000  0.000000\n",
       "[0.2 - 0.4)  0.029412  0.000000  0.264706  0.558824  0.088235  0.058824\n",
       "[0.4 - 0.6)  0.099010  0.059406  0.198020  0.514851  0.089109  0.039604\n",
       "[0.6 - 0.8)  0.039062  0.007812  0.265625  0.484375  0.101562  0.101562\n",
       "[0.8 - 1]    0.017241  0.011494  0.419540  0.270115  0.120690  0.160920"
      ]
     },
     "execution_count": 59,
     "metadata": {},
     "output_type": "execute_result"
    }
   ],
   "source": [
    "df_frac_bin_nor_bar = df_fracciones_bin.apply(lambda x: x/np.sum(x), axis=1)\n",
    "df_frac_bin_nor_bar"
   ]
  },
  {
   "cell_type": "code",
   "execution_count": 60,
   "metadata": {},
   "outputs": [
    {
     "name": "stderr",
     "output_type": "stream",
     "text": [
      "The PostScript backend does not support transparency; partially transparent artists will be rendered opaque.\n",
      "The PostScript backend does not support transparency; partially transparent artists will be rendered opaque.\n"
     ]
    },
    {
     "data": {
      "image/png": "[encoded data removed]",
      "text/plain": [
       "<Figure size 720x576 with 1 Axes>"
      ]
     },
     "metadata": {
      "needs_background": "light"
     },
     "output_type": "display_data"
    }
   ],
   "source": [
    "ax = df_frac_bin_nor_bar.plot(kind='bar', stacked=True)\n",
    "plt.xlabel('Frac')\n",
    "plt.ylabel('porcentaje por barra')\n",
    "plt.xticks(rotation=0)\n",
    "#plt.xlim(1, 2)\n",
    "\n",
    "for p in ax.patches:\n",
    "    width = p.get_width()\n",
    "    height = p.get_height()\n",
    "    if height == 0.0: \n",
    "        continue\n",
    "    x, y = p.get_xy() \n",
    "    ax.annotate(f'{height:.0%}', (x + width/2, y + height*0.30), ha='center')\n",
    "\n",
    "plt.savefig('df_frac_bin_nor_bar.eps',format='eps')"
   ]
  },
  {
   "cell_type": "code",
   "execution_count": 61,
   "metadata": {},
   "outputs": [
    {
     "data": {
      "text/html": [
       "<div>\n",
       "<style scoped>\n",
       "    .dataframe tbody tr th:only-of-type {\n",
       "        vertical-align: middle;\n",
       "    }\n",
       "\n",
       "    .dataframe tbody tr th {\n",
       "        vertical-align: top;\n",
       "    }\n",
       "\n",
       "    .dataframe thead th {\n",
       "        text-align: right;\n",
       "    }\n",
       "</style>\n",
       "<table border=\"1\" class=\"dataframe\">\n",
       "  <thead>\n",
       "    <tr style=\"text-align: right;\">\n",
       "      <th></th>\n",
       "      <th>Node</th>\n",
       "      <th>FIl</th>\n",
       "      <th>Loose</th>\n",
       "      <th>Field</th>\n",
       "      <th>voidS</th>\n",
       "      <th>voidR</th>\n",
       "    </tr>\n",
       "    <tr>\n",
       "      <th>bines</th>\n",
       "      <th></th>\n",
       "      <th></th>\n",
       "      <th></th>\n",
       "      <th></th>\n",
       "      <th></th>\n",
       "      <th></th>\n",
       "    </tr>\n",
       "  </thead>\n",
       "  <tbody>\n",
       "    <tr>\n",
       "      <th>[0 - 0.2)</th>\n",
       "      <td>0.05</td>\n",
       "      <td>0.000000</td>\n",
       "      <td>0.028571</td>\n",
       "      <td>0.037433</td>\n",
       "      <td>0.000000</td>\n",
       "      <td>0.000000</td>\n",
       "    </tr>\n",
       "    <tr>\n",
       "      <th>[0.2 - 0.4)</th>\n",
       "      <td>0.05</td>\n",
       "      <td>0.000000</td>\n",
       "      <td>0.064286</td>\n",
       "      <td>0.101604</td>\n",
       "      <td>0.065217</td>\n",
       "      <td>0.042553</td>\n",
       "    </tr>\n",
       "    <tr>\n",
       "      <th>[0.4 - 0.6)</th>\n",
       "      <td>0.50</td>\n",
       "      <td>0.666667</td>\n",
       "      <td>0.142857</td>\n",
       "      <td>0.278075</td>\n",
       "      <td>0.195652</td>\n",
       "      <td>0.085106</td>\n",
       "    </tr>\n",
       "    <tr>\n",
       "      <th>[0.6 - 0.8)</th>\n",
       "      <td>0.25</td>\n",
       "      <td>0.111111</td>\n",
       "      <td>0.242857</td>\n",
       "      <td>0.331551</td>\n",
       "      <td>0.282609</td>\n",
       "      <td>0.276596</td>\n",
       "    </tr>\n",
       "    <tr>\n",
       "      <th>[0.8 - 1]</th>\n",
       "      <td>0.15</td>\n",
       "      <td>0.222222</td>\n",
       "      <td>0.521429</td>\n",
       "      <td>0.251337</td>\n",
       "      <td>0.456522</td>\n",
       "      <td>0.595745</td>\n",
       "    </tr>\n",
       "  </tbody>\n",
       "</table>\n",
       "</div>"
      ],
      "text/plain": [
       "             Node       FIl     Loose     Field     voidS     voidR\n",
       "bines                                                              \n",
       "[0 - 0.2)    0.05  0.000000  0.028571  0.037433  0.000000  0.000000\n",
       "[0.2 - 0.4)  0.05  0.000000  0.064286  0.101604  0.065217  0.042553\n",
       "[0.4 - 0.6)  0.50  0.666667  0.142857  0.278075  0.195652  0.085106\n",
       "[0.6 - 0.8)  0.25  0.111111  0.242857  0.331551  0.282609  0.276596\n",
       "[0.8 - 1]    0.15  0.222222  0.521429  0.251337  0.456522  0.595745"
      ]
     },
     "execution_count": 61,
     "metadata": {},
     "output_type": "execute_result"
    }
   ],
   "source": [
    "df_frac_bin_nor_env = df_fracciones_bin.apply(lambda x: x/np.sum(x), axis=0)\n",
    "df_frac_bin_nor_env"
   ]
  },
  {
   "cell_type": "code",
   "execution_count": 62,
   "metadata": {},
   "outputs": [
    {
     "name": "stderr",
     "output_type": "stream",
     "text": [
      "The PostScript backend does not support transparency; partially transparent artists will be rendered opaque.\n",
      "The PostScript backend does not support transparency; partially transparent artists will be rendered opaque.\n"
     ]
    },
    {
     "data": {
      "image/png": "[encoded data removed]",
      "text/plain": [
       "<Figure size 720x576 with 1 Axes>"
      ]
     },
     "metadata": {
      "needs_background": "light"
     },
     "output_type": "display_data"
    }
   ],
   "source": [
    "ax = df_frac_bin_nor_env.plot(kind='bar', stacked=True)\n",
    "plt.xlabel('Frac')\n",
    "plt.ylabel('porcentaje por entorno')\n",
    "plt.xticks(rotation=0)\n",
    "#plt.xlim(1, 2)\n",
    "\n",
    "for p in ax.patches:\n",
    "    width = p.get_width()\n",
    "    height = p.get_height()\n",
    "    if height == 0.0: \n",
    "        continue\n",
    "    x, y = p.get_xy() \n",
    "    ax.annotate(f'{height:.0%}', (x + width/0.79, y + height*0.30), ha='center')\n",
    "    \n",
    "plt.savefig('df_frac_bin_nor_env.eps',format='eps')"
   ]
  },
  {
   "cell_type": "code",
   "execution_count": 63,
   "metadata": {},
   "outputs": [
    {
     "data": {
      "text/html": [
       "<div>\n",
       "<style scoped>\n",
       "    .dataframe tbody tr th:only-of-type {\n",
       "        vertical-align: middle;\n",
       "    }\n",
       "\n",
       "    .dataframe tbody tr th {\n",
       "        vertical-align: top;\n",
       "    }\n",
       "\n",
       "    .dataframe thead th {\n",
       "        text-align: right;\n",
       "    }\n",
       "</style>\n",
       "<table border=\"1\" class=\"dataframe\">\n",
       "  <thead>\n",
       "    <tr style=\"text-align: right;\">\n",
       "      <th></th>\n",
       "      <th>Node</th>\n",
       "      <th>FIl</th>\n",
       "      <th>Loose</th>\n",
       "      <th>Field</th>\n",
       "      <th>voidS</th>\n",
       "      <th>voidR</th>\n",
       "    </tr>\n",
       "    <tr>\n",
       "      <th>bines</th>\n",
       "      <th></th>\n",
       "      <th></th>\n",
       "      <th></th>\n",
       "      <th></th>\n",
       "      <th></th>\n",
       "      <th></th>\n",
       "    </tr>\n",
       "  </thead>\n",
       "  <tbody>\n",
       "    <tr>\n",
       "      <th>[0 - 0.2)</th>\n",
       "      <td>1.0</td>\n",
       "      <td>0.0</td>\n",
       "      <td>4.0</td>\n",
       "      <td>7.0</td>\n",
       "      <td>0.0</td>\n",
       "      <td>0.0</td>\n",
       "    </tr>\n",
       "    <tr>\n",
       "      <th>[0.2 - 0.4)</th>\n",
       "      <td>1.0</td>\n",
       "      <td>0.0</td>\n",
       "      <td>9.0</td>\n",
       "      <td>19.0</td>\n",
       "      <td>3.0</td>\n",
       "      <td>2.0</td>\n",
       "    </tr>\n",
       "    <tr>\n",
       "      <th>[0.4 - 0.6)</th>\n",
       "      <td>10.0</td>\n",
       "      <td>6.0</td>\n",
       "      <td>20.0</td>\n",
       "      <td>52.0</td>\n",
       "      <td>9.0</td>\n",
       "      <td>4.0</td>\n",
       "    </tr>\n",
       "    <tr>\n",
       "      <th>[0.6 - 0.8)</th>\n",
       "      <td>5.0</td>\n",
       "      <td>1.0</td>\n",
       "      <td>34.0</td>\n",
       "      <td>62.0</td>\n",
       "      <td>13.0</td>\n",
       "      <td>13.0</td>\n",
       "    </tr>\n",
       "    <tr>\n",
       "      <th>[0.8 - 1]</th>\n",
       "      <td>3.0</td>\n",
       "      <td>2.0</td>\n",
       "      <td>73.0</td>\n",
       "      <td>47.0</td>\n",
       "      <td>21.0</td>\n",
       "      <td>28.0</td>\n",
       "    </tr>\n",
       "  </tbody>\n",
       "</table>\n",
       "</div>"
      ],
      "text/plain": [
       "             Node  FIl  Loose  Field  voidS  voidR\n",
       "bines                                             \n",
       "[0 - 0.2)     1.0  0.0    4.0    7.0    0.0    0.0\n",
       "[0.2 - 0.4)   1.0  0.0    9.0   19.0    3.0    2.0\n",
       "[0.4 - 0.6)  10.0  6.0   20.0   52.0    9.0    4.0\n",
       "[0.6 - 0.8)   5.0  1.0   34.0   62.0   13.0   13.0\n",
       "[0.8 - 1]     3.0  2.0   73.0   47.0   21.0   28.0"
      ]
     },
     "execution_count": 63,
     "metadata": {},
     "output_type": "execute_result"
    }
   ],
   "source": [
    "df_fracciones_bin"
   ]
  },
  {
   "cell_type": "code",
   "execution_count": null,
   "metadata": {},
   "outputs": [],
   "source": []
  }
 ],
 "metadata": {
  "kernelspec": {
   "display_name": "Python 3",
   "language": "python",
   "name": "python3"
  },
  "language_info": {
   "codemirror_mode": {
    "name": "ipython",
    "version": 3
   },
   "file_extension": ".py",
   "mimetype": "text/x-python",
   "name": "python",
   "nbconvert_exporter": "python",
   "pygments_lexer": "ipython3",
   "version": "3.8.3"
  }
 },
 "nbformat": 4,
 "nbformat_minor": 4
}
