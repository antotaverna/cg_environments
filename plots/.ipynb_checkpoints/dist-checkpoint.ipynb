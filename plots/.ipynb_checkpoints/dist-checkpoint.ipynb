{
 "cells": [
  {
   "cell_type": "code",
   "execution_count": 1,
   "metadata": {},
   "outputs": [],
   "source": [
    "import numpy as np\n",
    "import seaborn as sns\n",
    "import matplotlib.pyplot as plt\n",
    "import matplotlib.axes\n",
    "import pandas as pd\n",
    "from matplotlib.cbook import boxplot_stats"
   ]
  },
  {
   "cell_type": "markdown",
   "metadata": {},
   "source": [
    "**Funtions**"
   ]
  },
  {
   "cell_type": "code",
   "execution_count": 2,
   "metadata": {},
   "outputs": [],
   "source": [
    "def diff(list1, list2):\n",
    "    c = set(list1).union(set(list2))  # or c = set(list1) | set(list2)\n",
    "    d = set(list1).intersection(set(list2))  # or d = set(list1) & set(list2)\n",
    "    return list(c - d)"
   ]
  },
  {
   "cell_type": "markdown",
   "metadata": {},
   "source": [
    "**Load**"
   ]
  },
  {
   "cell_type": "code",
   "execution_count": 3,
   "metadata": {},
   "outputs": [
    {
     "data": {
      "text/html": [
       "<div>\n",
       "<style scoped>\n",
       "    .dataframe tbody tr th:only-of-type {\n",
       "        vertical-align: middle;\n",
       "    }\n",
       "\n",
       "    .dataframe tbody tr th {\n",
       "        vertical-align: top;\n",
       "    }\n",
       "\n",
       "    .dataframe thead th {\n",
       "        text-align: right;\n",
       "    }\n",
       "</style>\n",
       "<table border=\"1\" class=\"dataframe\">\n",
       "  <thead>\n",
       "    <tr style=\"text-align: right;\">\n",
       "      <th></th>\n",
       "      <th>GId</th>\n",
       "      <th>estado</th>\n",
       "      <th>tipo_vv</th>\n",
       "    </tr>\n",
       "  </thead>\n",
       "  <tbody>\n",
       "    <tr>\n",
       "      <th>0</th>\n",
       "      <td>1</td>\n",
       "      <td>1</td>\n",
       "      <td>1.0</td>\n",
       "    </tr>\n",
       "    <tr>\n",
       "      <th>1</th>\n",
       "      <td>2</td>\n",
       "      <td>1</td>\n",
       "      <td>0.0</td>\n",
       "    </tr>\n",
       "    <tr>\n",
       "      <th>2</th>\n",
       "      <td>3</td>\n",
       "      <td>1</td>\n",
       "      <td>0.0</td>\n",
       "    </tr>\n",
       "  </tbody>\n",
       "</table>\n",
       "</div>"
      ],
      "text/plain": [
       "   GId  estado  tipo_vv\n",
       "0    1       1      1.0\n",
       "1    2       1      0.0\n",
       "2    3       1      0.0"
      ]
     },
     "metadata": {},
     "output_type": "display_data"
    },
    {
     "data": {
      "text/plain": [
       "(449, 3)"
      ]
     },
     "metadata": {},
     "output_type": "display_data"
    }
   ],
   "source": [
    "df = pd.read_table('/home/vanessa/Escritorio/Doctorado/anto_gitano_vane/distancias/dist_cg_void_3.dat',names=['GId','estado','tipo_vv'],\n",
    "                 sep=\"\\s+\")\n",
    "display(df.head(3))\n",
    "display(df.shape)"
   ]
  },
  {
   "cell_type": "markdown",
   "metadata": {},
   "source": [
    "# Porcentajes"
   ]
  },
  {
   "cell_type": "code",
   "execution_count": 4,
   "metadata": {},
   "outputs": [
    {
     "data": {
      "text/plain": [
       "<matplotlib.axes._subplots.AxesSubplot at 0x7f11dd32e9d0>"
      ]
     },
     "execution_count": 4,
     "metadata": {},
     "output_type": "execute_result"
    },
    {
     "data": {
      "image/png": "[encoded data removed]",
      "text/plain": [
       "<Figure size 432x288 with 1 Axes>"
      ]
     },
     "metadata": {
      "needs_background": "light"
     },
     "output_type": "display_data"
    }
   ],
   "source": [
    "df.estado.hist()"
   ]
  },
  {
   "cell_type": "code",
   "execution_count": 5,
   "metadata": {},
   "outputs": [
    {
     "data": {
      "text/plain": [
       "<matplotlib.axes._subplots.AxesSubplot at 0x7f11dcaafd60>"
      ]
     },
     "execution_count": 5,
     "metadata": {},
     "output_type": "execute_result"
    },
    {
     "data": {
      "image/png": "[encoded data removed]",
      "text/plain": [
       "<Figure size 432x288 with 1 Axes>"
      ]
     },
     "metadata": {},
     "output_type": "display_data"
    }
   ],
   "source": [
    "df['estado'].value_counts(normalize=True).plot.pie(autopct='%1.0f%%',\n",
    "                                                 labels=['gc afuera','gc borde', 'gc dentro'])\n",
    "#plt.savefig('void_r_s.eps',format='eps')"
   ]
  },
  {
   "cell_type": "code",
   "execution_count": 6,
   "metadata": {},
   "outputs": [
    {
     "data": {
      "text/plain": [
       " 1    0.935412\n",
       " 0    0.037862\n",
       "-1    0.026726\n",
       "Name: estado, dtype: float64"
      ]
     },
     "execution_count": 6,
     "metadata": {},
     "output_type": "execute_result"
    }
   ],
   "source": [
    "df['estado'].value_counts(normalize=True)"
   ]
  },
  {
   "cell_type": "code",
   "execution_count": 7,
   "metadata": {},
   "outputs": [
    {
     "data": {
      "text/plain": [
       "(449, 3)"
      ]
     },
     "execution_count": 7,
     "metadata": {},
     "output_type": "execute_result"
    }
   ],
   "source": [
    "df.shape"
   ]
  },
  {
   "cell_type": "code",
   "execution_count": 8,
   "metadata": {},
   "outputs": [],
   "source": [
    "df1 = df[df.loc[:, 'estado'] != 1]"
   ]
  },
  {
   "cell_type": "code",
   "execution_count": 9,
   "metadata": {},
   "outputs": [
    {
     "data": {
      "text/plain": [
       "(29, 3)"
      ]
     },
     "execution_count": 9,
     "metadata": {},
     "output_type": "execute_result"
    }
   ],
   "source": [
    "df1.shape"
   ]
  },
  {
   "cell_type": "code",
   "execution_count": 10,
   "metadata": {},
   "outputs": [
    {
     "data": {
      "text/plain": [
       "<matplotlib.axes._subplots.AxesSubplot at 0x7f11d89d0d90>"
      ]
     },
     "execution_count": 10,
     "metadata": {},
     "output_type": "execute_result"
    },
    {
     "data": {
      "image/png": "[encoded data removed]",
      "text/plain": [
       "<Figure size 432x288 with 1 Axes>"
      ]
     },
     "metadata": {
      "needs_background": "light"
     },
     "output_type": "display_data"
    }
   ],
   "source": [
    "df1.tipo_vv.hist()"
   ]
  },
  {
   "cell_type": "code",
   "execution_count": 11,
   "metadata": {},
   "outputs": [
    {
     "data": {
      "text/plain": [
       "1.0    20\n",
       "0.0     9\n",
       "Name: tipo_vv, dtype: int64"
      ]
     },
     "execution_count": 11,
     "metadata": {},
     "output_type": "execute_result"
    }
   ],
   "source": [
    "df1['tipo_vv'].value_counts(normalize=False)"
   ]
  },
  {
   "cell_type": "code",
   "execution_count": 12,
   "metadata": {},
   "outputs": [
    {
     "data": {
      "text/plain": [
       "4.4543429844097995"
      ]
     },
     "execution_count": 12,
     "metadata": {},
     "output_type": "execute_result"
    }
   ],
   "source": [
    "(20*100)/449\n"
   ]
  },
  {
   "cell_type": "code",
   "execution_count": 13,
   "metadata": {},
   "outputs": [
    {
     "data": {
      "text/plain": [
       "2.0044543429844097"
      ]
     },
     "execution_count": 13,
     "metadata": {},
     "output_type": "execute_result"
    }
   ],
   "source": [
    "(9*100)/449"
   ]
  },
  {
   "cell_type": "markdown",
   "metadata": {},
   "source": [
    "# Distancias"
   ]
  },
  {
   "cell_type": "code",
   "execution_count": 14,
   "metadata": {},
   "outputs": [
    {
     "data": {
      "text/html": [
       "<div>\n",
       "<style scoped>\n",
       "    .dataframe tbody tr th:only-of-type {\n",
       "        vertical-align: middle;\n",
       "    }\n",
       "\n",
       "    .dataframe tbody tr th {\n",
       "        vertical-align: top;\n",
       "    }\n",
       "\n",
       "    .dataframe thead th {\n",
       "        text-align: right;\n",
       "    }\n",
       "</style>\n",
       "<table border=\"1\" class=\"dataframe\">\n",
       "  <thead>\n",
       "    <tr style=\"text-align: right;\">\n",
       "      <th></th>\n",
       "      <th>GId</th>\n",
       "      <th>Ng</th>\n",
       "      <th>alcm</th>\n",
       "      <th>delcm</th>\n",
       "      <th>zmean</th>\n",
       "      <th>radiop</th>\n",
       "      <th>mu</th>\n",
       "      <th>sigmav</th>\n",
       "      <th>rbri</th>\n",
       "      <th>flag_cg</th>\n",
       "      <th>rcomv_cg</th>\n",
       "      <th>dij_N</th>\n",
       "      <th>estado</th>\n",
       "      <th>tipo_vv</th>\n",
       "      <th>dijp_1000</th>\n",
       "      <th>t_cross</th>\n",
       "      <th>Rp</th>\n",
       "    </tr>\n",
       "  </thead>\n",
       "  <tbody>\n",
       "    <tr>\n",
       "      <th>0</th>\n",
       "      <td>1</td>\n",
       "      <td>4</td>\n",
       "      <td>114.842</td>\n",
       "      <td>45.103</td>\n",
       "      <td>0.078292</td>\n",
       "      <td>2.620</td>\n",
       "      <td>25.018</td>\n",
       "      <td>348.679</td>\n",
       "      <td>14.719</td>\n",
       "      <td>0</td>\n",
       "      <td>230.282935</td>\n",
       "      <td>1.328269</td>\n",
       "      <td>1</td>\n",
       "      <td>1.0</td>\n",
       "      <td>************</td>\n",
       "      <td>0.037275</td>\n",
       "      <td>87.756597</td>\n",
       "    </tr>\n",
       "    <tr>\n",
       "      <th>1</th>\n",
       "      <td>2</td>\n",
       "      <td>4</td>\n",
       "      <td>116.577</td>\n",
       "      <td>22.020</td>\n",
       "      <td>0.046817</td>\n",
       "      <td>4.090</td>\n",
       "      <td>25.289</td>\n",
       "      <td>274.092</td>\n",
       "      <td>14.289</td>\n",
       "      <td>0</td>\n",
       "      <td>138.758218</td>\n",
       "      <td>1.860876</td>\n",
       "      <td>1</td>\n",
       "      <td>0.0</td>\n",
       "      <td>92313.200000</td>\n",
       "      <td>0.030544</td>\n",
       "      <td>82.543708</td>\n",
       "    </tr>\n",
       "    <tr>\n",
       "      <th>2</th>\n",
       "      <td>3</td>\n",
       "      <td>4</td>\n",
       "      <td>117.288</td>\n",
       "      <td>21.762</td>\n",
       "      <td>0.024476</td>\n",
       "      <td>9.769</td>\n",
       "      <td>26.134</td>\n",
       "      <td>136.700</td>\n",
       "      <td>13.359</td>\n",
       "      <td>0</td>\n",
       "      <td>72.920958</td>\n",
       "      <td>2.570684</td>\n",
       "      <td>1</td>\n",
       "      <td>0.0</td>\n",
       "      <td>************</td>\n",
       "      <td>0.116391</td>\n",
       "      <td>103.608818</td>\n",
       "    </tr>\n",
       "  </tbody>\n",
       "</table>\n",
       "</div>"
      ],
      "text/plain": [
       "   GId  Ng     alcm   delcm     zmean  radiop      mu   sigmav    rbri  \\\n",
       "0    1   4  114.842  45.103  0.078292   2.620  25.018  348.679  14.719   \n",
       "1    2   4  116.577  22.020  0.046817   4.090  25.289  274.092  14.289   \n",
       "2    3   4  117.288  21.762  0.024476   9.769  26.134  136.700  13.359   \n",
       "\n",
       "   flag_cg    rcomv_cg     dij_N  estado  tipo_vv     dijp_1000   t_cross  \\\n",
       "0        0  230.282935  1.328269       1      1.0  ************  0.037275   \n",
       "1        0  138.758218  1.860876       1      0.0  92313.200000  0.030544   \n",
       "2        0   72.920958  2.570684       1      0.0  ************  0.116391   \n",
       "\n",
       "           Rp  \n",
       "0   87.756597  \n",
       "1   82.543708  \n",
       "2  103.608818  "
      ]
     },
     "metadata": {},
     "output_type": "display_data"
    },
    {
     "data": {
      "text/plain": [
       "(449, 17)"
      ]
     },
     "metadata": {},
     "output_type": "display_data"
    }
   ],
   "source": [
    "cgF=pd.read_table('/home/vanessa/Escritorio/Doctorado/anto_gitano_vane/distancias/dist_cg_void.dat',names=['GId','Ng','alcm','delcm','zmean','radiop','mu','sigmav','rbri','flag_cg','rcomv_cg','dij_N','estado','tipo_vv',\n",
    "                                             'dijp_1000','t_cross','Rp'],\n",
    "                 sep=\"\\s+\")\n",
    "display(cgF.head(3))\n",
    "display(cgF.shape)"
   ]
  },
  {
   "cell_type": "code",
   "execution_count": 15,
   "metadata": {},
   "outputs": [],
   "source": [
    "cgF1 = cgF[cgF['estado'] != 1]"
   ]
  },
  {
   "cell_type": "code",
   "execution_count": 16,
   "metadata": {},
   "outputs": [
    {
     "data": {
      "text/plain": [
       "(29, 17)"
      ]
     },
     "execution_count": 16,
     "metadata": {},
     "output_type": "execute_result"
    }
   ],
   "source": [
    "cgF1.shape"
   ]
  },
  {
   "cell_type": "markdown",
   "metadata": {},
   "source": [
    "# CV-S"
   ]
  },
  {
   "cell_type": "code",
   "execution_count": 17,
   "metadata": {},
   "outputs": [
    {
     "data": {
      "text/plain": [
       "(20, 17)"
      ]
     },
     "metadata": {},
     "output_type": "display_data"
    },
    {
     "data": {
      "text/plain": [
       "count    20.000000\n",
       "mean      0.843650\n",
       "std       0.216327\n",
       "min       0.424383\n",
       "25%       0.698098\n",
       "50%       0.896342\n",
       "75%       1.044758\n",
       "max       1.098577\n",
       "Name: dij_N, dtype: float64"
      ]
     },
     "execution_count": 17,
     "metadata": {},
     "output_type": "execute_result"
    }
   ],
   "source": [
    "cgS=cgF1[cgF1['tipo_vv']>0]\n",
    "display(cgS.shape)\n",
    "cgS.dij_N.describe()"
   ]
  },
  {
   "cell_type": "markdown",
   "metadata": {},
   "source": [
    "# CV-R"
   ]
  },
  {
   "cell_type": "code",
   "execution_count": 18,
   "metadata": {},
   "outputs": [
    {
     "data": {
      "text/plain": [
       "(9, 17)"
      ]
     },
     "metadata": {},
     "output_type": "display_data"
    },
    {
     "data": {
      "text/plain": [
       "count    9.000000\n",
       "mean     0.953535\n",
       "std      0.147419\n",
       "min      0.638538\n",
       "25%      0.956546\n",
       "50%      1.039340\n",
       "75%      1.045260\n",
       "max      1.057515\n",
       "Name: dij_N, dtype: float64"
      ]
     },
     "execution_count": 18,
     "metadata": {},
     "output_type": "execute_result"
    }
   ],
   "source": [
    "cgR=cgF1[cgF1['tipo_vv']==0]\n",
    "display(cgR.shape)\n",
    "cgR.dij_N.describe()"
   ]
  },
  {
   "cell_type": "code",
   "execution_count": 19,
   "metadata": {},
   "outputs": [],
   "source": [
    "import matplotlib.patches as mpatches"
   ]
  },
  {
   "cell_type": "code",
   "execution_count": 20,
   "metadata": {},
   "outputs": [
    {
     "data": {
      "text/plain": [
       "Text(0, 0.5, 'distancias [Mpc/h]')"
      ]
     },
     "execution_count": 20,
     "metadata": {},
     "output_type": "execute_result"
    },
    {
     "data": {
      "image/png": "[encoded data removed]",
      "text/plain": [
       "<Figure size 432x288 with 1 Axes>"
      ]
     },
     "metadata": {
      "needs_background": "light"
     },
     "output_type": "display_data"
    }
   ],
   "source": [
    "sns.boxplot(x=cgF1.tipo_vv,y=cgF1.dij_N, notch= True, showfliers = False)\n",
    "plt.ylabel(r'distancias [Mpc/h]')\n",
    "\n",
    "#plt.savefig('vertical_boxplot_dij_ggx.eps', format ='eps')"
   ]
  },
  {
   "cell_type": "code",
   "execution_count": 21,
   "metadata": {},
   "outputs": [
    {
     "name": "stdout",
     "output_type": "stream",
     "text": [
      "medianF 0.9565459999999999\n",
      "medianR 1.03934\n",
      "medianS 0.8963415\n"
     ]
    },
    {
     "data": {
      "text/plain": [
       "0.447213595499958"
      ]
     },
     "metadata": {},
     "output_type": "display_data"
    },
    {
     "name": "stderr",
     "output_type": "stream",
     "text": [
      "/home/vanessa/anaconda3/envs/machine-learning/lib/python3.8/site-packages/seaborn/_decorators.py:36: FutureWarning: Pass the following variable as a keyword arg: x. From version 0.12, the only valid positional argument will be `data`, and passing other arguments without an explicit keyword will result in an error or misinterpretation.\n",
      "  warnings.warn(\n",
      "/home/vanessa/anaconda3/envs/machine-learning/lib/python3.8/site-packages/seaborn/_decorators.py:36: FutureWarning: Pass the following variable as a keyword arg: x. From version 0.12, the only valid positional argument will be `data`, and passing other arguments without an explicit keyword will result in an error or misinterpretation.\n",
      "  warnings.warn(\n",
      "/home/vanessa/anaconda3/envs/machine-learning/lib/python3.8/site-packages/seaborn/_decorators.py:36: FutureWarning: Pass the following variable as a keyword arg: x. From version 0.12, the only valid positional argument will be `data`, and passing other arguments without an explicit keyword will result in an error or misinterpretation.\n",
      "  warnings.warn(\n"
     ]
    },
    {
     "data": {
      "text/plain": [
       "<Figure size 360x3600 with 0 Axes>"
      ]
     },
     "metadata": {},
     "output_type": "display_data"
    },
    {
     "data": {
      "image/png": "[encoded data removed]",
      "text/plain": [
       "<Figure size 432x288 with 3 Axes>"
      ]
     },
     "metadata": {
      "needs_background": "light"
     },
     "output_type": "display_data"
    }
   ],
   "source": [
    "medianF=np.median(cgF1.dij_N)\n",
    "print('medianF',medianF)\n",
    "medianR=np.median(cgR.dij_N)\n",
    "print('medianR',medianR)\n",
    "medianS=np.median(cgS.dij_N)\n",
    "print('medianS',medianS)\n",
    "\n",
    "plt.figure(figsize=(5,50))\n",
    "\n",
    "####subfiguras\n",
    "f, (ax_box_F,ax_box_R,ax_box_S) = plt.subplots(3, sharex='col',\n",
    "                                                         gridspec_kw = {'height_ratios':[15,15,15]})\n",
    "\n",
    "plt.subplots_adjust(left=None, bottom=None, right=None, top=None, wspace=None, hspace=0.0)\n",
    "\n",
    "#quitar los bordes\n",
    "#sns.despine (ax = ax_hist)\n",
    "sns.despine (ax = ax_box_F,left=False,bottom=True)\n",
    "sns.despine (ax = ax_box_R,left=False,bottom=True)\n",
    "sns.despine (ax = ax_box_S,left=False,bottom=False)\n",
    "\n",
    "#Modifico los ticks\n",
    "#ax_hist.tick_params(axis='x',direction ='inout',labelbottom =True)\n",
    "ax_box_F.tick_params(bottom = False,labelbottom = False)\n",
    "ax_box_R.tick_params(bottom = False,labelbottom = False)\n",
    "ax_box_S.tick_params(bottom = True,labelbottom = True)\n",
    "\n",
    "ax_box_S.xaxis.set_tick_params(labelsize=14)\n",
    "\n",
    "\n",
    "####hist\n",
    "#ax_hist.hist(cgF.dij_N, bins = np.arange(min(cgF.dij_N)-0.1,max(cgF.dij_N)+0.2,0.2),linestyle='solid',\n",
    "         #histtype='bar',linewidth=2,color='slateblue',label= 'VC F',\n",
    "          #   weights=np.ones_like(cgF.dij_N)/float(len(cgF.dij_N)))\n",
    "\n",
    "#####boxplot\n",
    "\n",
    "medianprops = dict(color='black',linewidth=3)\n",
    "#marker='D', markeredgecolor='black'\n",
    "\n",
    "TF=29**(0.5)\n",
    "TR=9**(0.5)\n",
    "TS=20**(0.5)\n",
    "display(TS*0.1)\n",
    "\n",
    "boxF=sns.boxplot(cgF1.dij_N, ax=ax_box_F, notch= True, color='white', width=TF*0.1,\n",
    "            medianprops=medianprops)\n",
    "#sns.swarmplot(x=cgF1.dij_N, color=\".25\", ax=ax_box_F)\n",
    "#sns.swarmplot(x=df1.rabs1, color=\".25\", ax=ax_box_F)\n",
    "\n",
    "boxR=sns.boxplot(cgR.dij_N, ax=ax_box_R, notch= True, color='white', width=TF*0.1,\n",
    "            medianprops=medianprops)\n",
    "#sns.swarmplot(x=cgR.dij_N, color=\".25\", ax=ax_box_R)\n",
    "\n",
    "boxS=sns.boxplot(cgS.dij_N, ax=ax_box_S, notch= True, color='white', width=TS*0.1, medianprops=medianprops) \n",
    "#sns.swarmplot(x=cgS.dij_N, color=\".25\", ax=ax_box_S)\n",
    "\n",
    "plt.setp(boxF.artists,edgecolor='black')\n",
    "plt.setp(boxR.artists,hatch=\"\\\\\\\\\",edgecolor='deepskyblue')\n",
    "plt.setp(boxS.artists,hatch=\"//\",edgecolor='darkgreen')\n",
    "\n",
    "\n",
    "#box\n",
    "#plt.xlabel(r'distancias mínimas cg-voids',fontsize=11)\n",
    "#plt.ylabel('Frecuencia')\n",
    "#plt.legend(loc=\"upper right\")\n",
    "#plt.legend(frameon=True)\n",
    "\n",
    "\n",
    "#muestra_F = mpatches.Patch(color='bisque', label='voids F')\n",
    "#muestra_R = mpatches.Patch(color='seagreen', label='voids R',hatch='\\\\\\\\',\n",
    "                           #linewidth=2,linestyle='solid')\n",
    "#muestra_S = mpatches.Patch(color='blue', label='voids S',hatch='////',\n",
    "                           #linewidth=2,linestyle='solid')\n",
    "#ax_hist.legend(handles=[muestra_F,muestra_R,muestra_S],loc=1,fontsize=7)\n",
    "\n",
    "#plt.xlim((0.8,3.2))\n",
    "\n",
    "\n",
    "ax_box_F.set_ylabel(r'$CG_{V}$', fontsize=16)\n",
    "ax_box_R.set_ylabel(r'$CG_{V_{R}}$', fontsize=16)\n",
    "ax_box_S.set_ylabel(r'$CG_{V_{S}}$', fontsize=16)\n",
    "\n",
    "ax_box_R.set_xlabel('')\n",
    "ax_box_S.set_xlabel(r'$D_{min}^{N}$',fontsize=17)\n",
    "\n",
    "\n",
    "plt.savefig('distancias_cg_void.pdf', format ='pdf',  bbox_inches='tight')\n",
    "plt.show()"
   ]
  },
  {
   "cell_type": "code",
   "execution_count": 22,
   "metadata": {},
   "outputs": [
    {
     "ename": "NameError",
     "evalue": "name 'tips' is not defined",
     "output_type": "error",
     "traceback": [
      "\u001b[0;31m---------------------------------------------------------------------------\u001b[0m",
      "\u001b[0;31mNameError\u001b[0m                                 Traceback (most recent call last)",
      "\u001b[0;32m<ipython-input-22-4ca42db3e5a2>\u001b[0m in \u001b[0;36m<module>\u001b[0;34m\u001b[0m\n\u001b[0;32m----> 1\u001b[0;31m \u001b[0msns\u001b[0m\u001b[0;34m.\u001b[0m\u001b[0mswarmplot\u001b[0m\u001b[0;34m(\u001b[0m\u001b[0mx\u001b[0m\u001b[0;34m=\u001b[0m\u001b[0;34m\"day\"\u001b[0m\u001b[0;34m,\u001b[0m \u001b[0my\u001b[0m\u001b[0;34m=\u001b[0m\u001b[0;34m\"total_bill\"\u001b[0m\u001b[0;34m,\u001b[0m \u001b[0mdata\u001b[0m\u001b[0;34m=\u001b[0m\u001b[0mtips\u001b[0m\u001b[0;34m,\u001b[0m \u001b[0mcolor\u001b[0m\u001b[0;34m=\u001b[0m\u001b[0;34m\".25\"\u001b[0m\u001b[0;34m)\u001b[0m\u001b[0;34m\u001b[0m\u001b[0;34m\u001b[0m\u001b[0m\n\u001b[0m",
      "\u001b[0;31mNameError\u001b[0m: name 'tips' is not defined"
     ]
    }
   ],
   "source": [
    "sns.swarmplot(x=\"day\", y=\"total_bill\", data=tips, color=\".25\")"
   ]
  },
  {
   "cell_type": "markdown",
   "metadata": {},
   "source": [
    "# Radios Voids"
   ]
  },
  {
   "cell_type": "code",
   "execution_count": null,
   "metadata": {},
   "outputs": [],
   "source": [
    "VC= pd.read_table('/home/vanessa/Escritorio/Doctorado/anto_gitano_vane/distancias/voids_filtrados_f.dat',\n",
    "                  names=['Radio_v','RA','DEC','z','d','Pos_X','Pos_Y','Pos_Z','delta1','delta23','flag','tipo'],sep=\"\\s+\")\n",
    "display(VC.head(3))\n",
    "display(VC.shape)"
   ]
  },
  {
   "cell_type": "code",
   "execution_count": null,
   "metadata": {},
   "outputs": [],
   "source": [
    "VC.Radio_v.describe()"
   ]
  },
  {
   "cell_type": "code",
   "execution_count": null,
   "metadata": {},
   "outputs": [],
   "source": [
    "VC_R=VC[VC['delta23']<0]\n",
    "display(VC_R.shape)\n",
    "VC_S=VC[VC['delta23']>0]\n",
    "display(VC_S.shape)"
   ]
  },
  {
   "cell_type": "code",
   "execution_count": null,
   "metadata": {},
   "outputs": [],
   "source": [
    "plt.figure(figsize=(10,50))\n",
    "\n",
    "####subfiguras\n",
    "f, (ax_box_F,ax_box_R,ax_box_S) = plt.subplots(3, sharex='col',\n",
    "                                                         gridspec_kw = {'height_ratios':[15,15,15]})\n",
    "\n",
    "plt.subplots_adjust(left=None, bottom=None, right=None, top=None, wspace=None, hspace=0.0)\n",
    "\n",
    "#quitar los bordes\n",
    "#sns.despine (ax = ax_hist)\n",
    "sns.despine (ax = ax_box_F,left=False,bottom=True)\n",
    "sns.despine (ax = ax_box_R,left=False,bottom=True)\n",
    "sns.despine (ax = ax_box_S,left=False,bottom=False)\n",
    "\n",
    "#Modifico los ticks\n",
    "#ax_hist.tick_params(axis='x',direction ='inout',labelbottom =True)\n",
    "ax_box_F.tick_params(bottom = False,labelbottom = False)\n",
    "ax_box_R.tick_params(bottom = False,labelbottom = False)\n",
    "ax_box_S.tick_params(bottom = True,labelbottom = True)\n",
    "\n",
    "ax_box_S.xaxis.set_tick_params(labelsize=14)\n",
    "\n",
    "####hist\n",
    "#ax_hist.hist(cgF.dij_N, bins = np.arange(min(cgF.dij_N)-0.1,max(cgF.dij_N)+0.2,0.2),linestyle='solid',\n",
    "         #histtype='bar',linewidth=2,color='slateblue',label= 'VC F',\n",
    "          #   weights=np.ones_like(cgF.dij_N)/float(len(cgF.dij_N)))\n",
    "\n",
    "#####boxplot\n",
    "\n",
    "medianprops = dict(color='black',linewidth=3)\n",
    "#marker='D', markeredgecolor='black'\n",
    "\n",
    "TF=360**(0.5)*0.45\n",
    "TR=155**(0.5)*0.45\n",
    "TS=205**(0.5)*0.45\n",
    "\n",
    "\n",
    "boxF=sns.boxplot(VC.Radio_v, ax=ax_box_F, notch= True, color='white', width=TF*0.1,\n",
    "            medianprops=medianprops)\n",
    "boxR=sns.boxplot(VC_R.Radio_v, ax=ax_box_R, notch= True, color='white', width=TF*0.1,\n",
    "            medianprops=medianprops)\n",
    "boxS=sns.boxplot(VC_S.Radio_v, ax=ax_box_S, notch= True, color='white', width=TS*0.1, medianprops=medianprops) \n",
    "\n",
    "plt.setp(boxF.artists,edgecolor='black')\n",
    "plt.setp(boxR.artists,hatch=\"\\\\\\\\\",edgecolor='indigo')\n",
    "plt.setp(boxS.artists,hatch=\"//\",edgecolor='DarkMagenta')\n",
    "\n",
    "\n",
    "#box\n",
    "#plt.xlabel(r'distancias mínimas cg-voids',fontsize=11)\n",
    "#plt.ylabel('Frecuencia')\n",
    "#plt.legend(loc=\"upper right\")\n",
    "#plt.legend(frameon=True)\n",
    "\n",
    "\n",
    "#muestra_F = mpatches.Patch(color='bisque', label='voids F')\n",
    "#muestra_R = mpatches.Patch(color='seagreen', label='voids R',hatch='\\\\\\\\',\n",
    "                           #linewidth=2,linestyle='solid')\n",
    "#muestra_S = mpatches.Patch(color='blue', label='voids S',hatch='////',\n",
    "                           #linewidth=2,linestyle='solid')\n",
    "#ax_hist.legend(handles=[muestra_F,muestra_R,muestra_S],loc=1,fontsize=7)\n",
    "\n",
    "#plt.xlim((0.8,3.2))\n",
    "\n",
    "\n",
    "ax_box_F.set_ylabel('CVs', fontsize=18)\n",
    "ax_box_R.set_ylabel('CV-R', fontsize=18)\n",
    "ax_box_S.set_ylabel('CV-S', fontsize=18)\n",
    "\n",
    "ax_box_R.set_xlabel('')\n",
    "ax_box_S.set_xlabel('r [Mpc $h^{-1}$]',fontsize=18)\n",
    "\n",
    "\n",
    "plt.savefig('rad_voidsFRS_s.pdf', format ='pdf',  bbox_inches='tight')\n",
    "plt.show()"
   ]
  },
  {
   "cell_type": "code",
   "execution_count": null,
   "metadata": {},
   "outputs": [],
   "source": [
    "VC.describe()"
   ]
  },
  {
   "cell_type": "code",
   "execution_count": null,
   "metadata": {},
   "outputs": [],
   "source": [
    "VC_R.describe()"
   ]
  },
  {
   "cell_type": "code",
   "execution_count": null,
   "metadata": {},
   "outputs": [],
   "source": [
    "VC_S.describe()"
   ]
  },
  {
   "cell_type": "raw",
   "metadata": {},
   "source": [
    "%In the Figure~\\ref{fig:rad_voidsFRS_s} we show \n",
    "%the distribution...\n",
    "\n",
    "%\\begin{figure}\n",
    "%\\begin{center}\n",
    "%no sabemos quien lo dibujo\n",
    "%\\includegraphics[width=0.9\\columnwidth]{Figuras/rad_voidsFRS_s.pdf}\n",
    "%\\caption{Boxplots of distribution of Vs radius. The total sample of Vs is shown with a solid line, and the $V-R$ and $V-S$ subsamples are presented with negatively inclined stripes and positively inclined stripes, respectively.\\anto{Yo lo sacaria y lo escribiria en el texto. }}\n",
    "5\\label{fig:rad_voidsFRS_s}\n",
    "\\end{center}\n",
    "\\end{figure}"
   ]
  },
  {
   "cell_type": "raw",
   "metadata": {},
   "source": [
    "%In particular, the comoving distance was obtained from eq:\n",
    "\n",
    "%\\begin{equation}\n",
    "%    d_{com}=\\frac{c}{H_0}\\int_{0}^{z}\\frac{d\\tilde{z}}{\\sqrt{\\Omega_{m}(1+\\tilde{z})^{3}+\\Omega_{\\Lambda}}}\n",
    "%     \\label{ecu:distanciacomovil}\n",
    "%\\end{equation}\n",
    "\n",
    "%This equation is defined in terms of the cosmological parameters: the Hubble constant $\\bf H_0 =100 \\ {\\it h} \\ km \\ s^{-1}/Mpc$, which quantifies the expansion of the Universe, the dimensionless matter parameter$\\bf \\Omega_m=0.31$, which characterises the current average density of matter in the Universe, and the \\Vane{dimensionless} dark energy density parameter  $\\bf \\Omega_{\\Lambda}=0.69$, which quantifies the current energy density of the \\Vane{vacuum}. "
   ]
  },
  {
   "cell_type": "raw",
   "metadata": {},
   "source": [
    "\n",
    "Cosas que puedo agregar:\n",
    "    \n",
    "- The sub samples consist of 205 and 155 Vs respectively. Es usual encontrar más vacios de tipo s que de tipo r.\n",
    "- S-type: Voids surrounded by an overdense shell are dubbed\n",
    "- R-type: which corresponds to voids with continuously rising integrated density profiles."
   ]
  },
  {
   "cell_type": "code",
   "execution_count": null,
   "metadata": {},
   "outputs": [],
   "source": [
    "z_v= np.genfromtxt('/home/vanessa/Escritorio/Doctorado/anto_gitano_vane/muestras_filtradas/void/voids_z0.10.dat',unpack=True,usecols=3)\n",
    "plt.hist(z_v)\n",
    "plt.hist(z_cg, alpha=0.5)\n",
    "plt.xlabel('$z_{voids}$')\n",
    "plt.ylabel('frecuencia')\n",
    "\n",
    "plt.savefig('z_{voids}.pdf', format='pdf')"
   ]
  },
  {
   "cell_type": "code",
   "execution_count": null,
   "metadata": {},
   "outputs": [],
   "source": [
    "z_cg = cgF['zmean']\n"
   ]
  },
  {
   "cell_type": "code",
   "execution_count": null,
   "metadata": {},
   "outputs": [],
   "source": []
  }
 ],
 "metadata": {
  "kernelspec": {
   "display_name": "Python 3",
   "language": "python",
   "name": "python3"
  },
  "language_info": {
   "codemirror_mode": {
    "name": "ipython",
    "version": 3
   },
   "file_extension": ".py",
   "mimetype": "text/x-python",
   "name": "python",
   "nbconvert_exporter": "python",
   "pygments_lexer": "ipython3",
   "version": "3.8.3"
  }
 },
 "nbformat": 4,
 "nbformat_minor": 4
}
