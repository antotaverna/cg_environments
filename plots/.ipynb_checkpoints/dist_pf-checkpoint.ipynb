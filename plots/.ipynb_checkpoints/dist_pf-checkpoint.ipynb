{
 "cells": [
  {
   "cell_type": "code",
   "execution_count": 1,
   "metadata": {},
   "outputs": [],
   "source": [
    "import numpy as np\n",
    "import seaborn as sns\n",
    "import matplotlib.pyplot as plt\n",
    "import matplotlib.axes\n",
    "import pandas as pd\n",
    "from matplotlib.cbook import boxplot_stats"
   ]
  },
  {
   "cell_type": "markdown",
   "metadata": {},
   "source": [
    "**Funtions**"
   ]
  },
  {
   "cell_type": "code",
   "execution_count": 2,
   "metadata": {},
   "outputs": [],
   "source": [
    "def diff(list1, list2):\n",
    "    c = set(list1).union(set(list2))  # or c = set(list1) | set(list2)\n",
    "    d = set(list1).intersection(set(list2))  # or d = set(list1) & set(list2)\n",
    "    return list(c - d)"
   ]
  },
  {
   "cell_type": "markdown",
   "metadata": {},
   "source": [
    "**Load**"
   ]
  },
  {
   "cell_type": "code",
   "execution_count": 3,
   "metadata": {},
   "outputs": [
    {
     "data": {
      "text/html": [
       "<div>\n",
       "<style scoped>\n",
       "    .dataframe tbody tr th:only-of-type {\n",
       "        vertical-align: middle;\n",
       "    }\n",
       "\n",
       "    .dataframe tbody tr th {\n",
       "        vertical-align: top;\n",
       "    }\n",
       "\n",
       "    .dataframe thead th {\n",
       "        text-align: right;\n",
       "    }\n",
       "</style>\n",
       "<table border=\"1\" class=\"dataframe\">\n",
       "  <thead>\n",
       "    <tr style=\"text-align: right;\">\n",
       "      <th></th>\n",
       "      <th>GId</th>\n",
       "      <th>estado</th>\n",
       "      <th>tipo_vv</th>\n",
       "    </tr>\n",
       "  </thead>\n",
       "  <tbody>\n",
       "    <tr>\n",
       "      <th>0</th>\n",
       "      <td>1</td>\n",
       "      <td>1</td>\n",
       "      <td>1.0</td>\n",
       "    </tr>\n",
       "    <tr>\n",
       "      <th>1</th>\n",
       "      <td>2</td>\n",
       "      <td>1</td>\n",
       "      <td>0.0</td>\n",
       "    </tr>\n",
       "    <tr>\n",
       "      <th>2</th>\n",
       "      <td>3</td>\n",
       "      <td>1</td>\n",
       "      <td>0.0</td>\n",
       "    </tr>\n",
       "  </tbody>\n",
       "</table>\n",
       "</div>"
      ],
      "text/plain": [
       "   GId  estado  tipo_vv\n",
       "0    1       1      1.0\n",
       "1    2       1      0.0\n",
       "2    3       1      0.0"
      ]
     },
     "metadata": {},
     "output_type": "display_data"
    },
    {
     "data": {
      "text/plain": [
       "(449, 3)"
      ]
     },
     "metadata": {},
     "output_type": "display_data"
    }
   ],
   "source": [
    "df = pd.read_table('/home/vanessa/Escritorio/Doctorado/anto_gitano_vane/distancias/dist_cg_void_3.dat',names=['GId','estado','tipo_vv'],\n",
    "                 sep=\"\\s+\")\n",
    "display(df.head(3))\n",
    "display(df.shape)"
   ]
  },
  {
   "cell_type": "code",
   "execution_count": 4,
   "metadata": {},
   "outputs": [
    {
     "data": {
      "text/plain": [
       "(449, 3)"
      ]
     },
     "execution_count": 4,
     "metadata": {},
     "output_type": "execute_result"
    }
   ],
   "source": [
    "df.shape"
   ]
  },
  {
   "cell_type": "code",
   "execution_count": 5,
   "metadata": {},
   "outputs": [],
   "source": [
    "df1 = df[df.loc[:, 'estado'] != 1]"
   ]
  },
  {
   "cell_type": "code",
   "execution_count": 6,
   "metadata": {},
   "outputs": [
    {
     "data": {
      "text/plain": [
       "(29, 3)"
      ]
     },
     "execution_count": 6,
     "metadata": {},
     "output_type": "execute_result"
    }
   ],
   "source": [
    "df1.shape"
   ]
  },
  {
   "cell_type": "markdown",
   "metadata": {},
   "source": [
    "# Distancias"
   ]
  },
  {
   "cell_type": "code",
   "execution_count": 7,
   "metadata": {},
   "outputs": [
    {
     "data": {
      "text/html": [
       "<div>\n",
       "<style scoped>\n",
       "    .dataframe tbody tr th:only-of-type {\n",
       "        vertical-align: middle;\n",
       "    }\n",
       "\n",
       "    .dataframe tbody tr th {\n",
       "        vertical-align: top;\n",
       "    }\n",
       "\n",
       "    .dataframe thead th {\n",
       "        text-align: right;\n",
       "    }\n",
       "</style>\n",
       "<table border=\"1\" class=\"dataframe\">\n",
       "  <thead>\n",
       "    <tr style=\"text-align: right;\">\n",
       "      <th></th>\n",
       "      <th>GId</th>\n",
       "      <th>Ng</th>\n",
       "      <th>alcm</th>\n",
       "      <th>delcm</th>\n",
       "      <th>zmean</th>\n",
       "      <th>radiop</th>\n",
       "      <th>mu</th>\n",
       "      <th>sigmav</th>\n",
       "      <th>rbri</th>\n",
       "      <th>flag_cg</th>\n",
       "      <th>rcomv_cg</th>\n",
       "      <th>dij_N</th>\n",
       "      <th>estado</th>\n",
       "      <th>tipo_vv</th>\n",
       "      <th>dijp_1000</th>\n",
       "      <th>t_cross</th>\n",
       "      <th>Rp</th>\n",
       "    </tr>\n",
       "  </thead>\n",
       "  <tbody>\n",
       "    <tr>\n",
       "      <th>0</th>\n",
       "      <td>1</td>\n",
       "      <td>4</td>\n",
       "      <td>114.842</td>\n",
       "      <td>45.103</td>\n",
       "      <td>0.078292</td>\n",
       "      <td>2.620</td>\n",
       "      <td>25.018</td>\n",
       "      <td>348.679</td>\n",
       "      <td>14.719</td>\n",
       "      <td>0</td>\n",
       "      <td>230.282935</td>\n",
       "      <td>1.328269</td>\n",
       "      <td>1</td>\n",
       "      <td>1.0</td>\n",
       "      <td>************</td>\n",
       "      <td>0.037275</td>\n",
       "      <td>87.756597</td>\n",
       "    </tr>\n",
       "    <tr>\n",
       "      <th>1</th>\n",
       "      <td>2</td>\n",
       "      <td>4</td>\n",
       "      <td>116.577</td>\n",
       "      <td>22.020</td>\n",
       "      <td>0.046817</td>\n",
       "      <td>4.090</td>\n",
       "      <td>25.289</td>\n",
       "      <td>274.092</td>\n",
       "      <td>14.289</td>\n",
       "      <td>0</td>\n",
       "      <td>138.758218</td>\n",
       "      <td>1.860876</td>\n",
       "      <td>1</td>\n",
       "      <td>0.0</td>\n",
       "      <td>92313.200000</td>\n",
       "      <td>0.030544</td>\n",
       "      <td>82.543708</td>\n",
       "    </tr>\n",
       "    <tr>\n",
       "      <th>2</th>\n",
       "      <td>3</td>\n",
       "      <td>4</td>\n",
       "      <td>117.288</td>\n",
       "      <td>21.762</td>\n",
       "      <td>0.024476</td>\n",
       "      <td>9.769</td>\n",
       "      <td>26.134</td>\n",
       "      <td>136.700</td>\n",
       "      <td>13.359</td>\n",
       "      <td>0</td>\n",
       "      <td>72.920958</td>\n",
       "      <td>2.570684</td>\n",
       "      <td>1</td>\n",
       "      <td>0.0</td>\n",
       "      <td>************</td>\n",
       "      <td>0.116391</td>\n",
       "      <td>103.608818</td>\n",
       "    </tr>\n",
       "  </tbody>\n",
       "</table>\n",
       "</div>"
      ],
      "text/plain": [
       "   GId  Ng     alcm   delcm     zmean  radiop      mu   sigmav    rbri  \\\n",
       "0    1   4  114.842  45.103  0.078292   2.620  25.018  348.679  14.719   \n",
       "1    2   4  116.577  22.020  0.046817   4.090  25.289  274.092  14.289   \n",
       "2    3   4  117.288  21.762  0.024476   9.769  26.134  136.700  13.359   \n",
       "\n",
       "   flag_cg    rcomv_cg     dij_N  estado  tipo_vv     dijp_1000   t_cross  \\\n",
       "0        0  230.282935  1.328269       1      1.0  ************  0.037275   \n",
       "1        0  138.758218  1.860876       1      0.0  92313.200000  0.030544   \n",
       "2        0   72.920958  2.570684       1      0.0  ************  0.116391   \n",
       "\n",
       "           Rp  \n",
       "0   87.756597  \n",
       "1   82.543708  \n",
       "2  103.608818  "
      ]
     },
     "metadata": {},
     "output_type": "display_data"
    },
    {
     "data": {
      "text/plain": [
       "(449, 17)"
      ]
     },
     "metadata": {},
     "output_type": "display_data"
    }
   ],
   "source": [
    "cgF=pd.read_table('/home/vanessa/Escritorio/Doctorado/anto_gitano_vane/distancias/dist_cg_void.dat',names=['GId','Ng','alcm','delcm','zmean','radiop','mu','sigmav','rbri','flag_cg','rcomv_cg','dij_N','estado','tipo_vv',\n",
    "                                             'dijp_1000','t_cross','Rp'],\n",
    "                 sep=\"\\s+\")\n",
    "display(cgF.head(3))\n",
    "display(cgF.shape)"
   ]
  },
  {
   "cell_type": "code",
   "execution_count": 8,
   "metadata": {},
   "outputs": [],
   "source": [
    "cgF1 = cgF[cgF['estado'] != 1]"
   ]
  },
  {
   "cell_type": "code",
   "execution_count": 9,
   "metadata": {},
   "outputs": [
    {
     "data": {
      "text/plain": [
       "(29, 17)"
      ]
     },
     "execution_count": 9,
     "metadata": {},
     "output_type": "execute_result"
    }
   ],
   "source": [
    "cgF1.shape"
   ]
  },
  {
   "cell_type": "markdown",
   "metadata": {},
   "source": [
    "## match"
   ]
  },
  {
   "cell_type": "code",
   "execution_count": 10,
   "metadata": {},
   "outputs": [],
   "source": [
    "GId_cgF1 = cgF1.GId.to_list()"
   ]
  },
  {
   "cell_type": "code",
   "execution_count": 11,
   "metadata": {},
   "outputs": [
    {
     "data": {
      "text/html": [
       "<div>\n",
       "<style scoped>\n",
       "    .dataframe tbody tr th:only-of-type {\n",
       "        vertical-align: middle;\n",
       "    }\n",
       "\n",
       "    .dataframe tbody tr th {\n",
       "        vertical-align: top;\n",
       "    }\n",
       "\n",
       "    .dataframe thead th {\n",
       "        text-align: right;\n",
       "    }\n",
       "</style>\n",
       "<table border=\"1\" class=\"dataframe\">\n",
       "  <thead>\n",
       "    <tr style=\"text-align: right;\">\n",
       "      <th></th>\n",
       "      <th>i_gru</th>\n",
       "      <th>n_m</th>\n",
       "      <th>Ra</th>\n",
       "      <th>dec</th>\n",
       "      <th>z</th>\n",
       "      <th>thete_g</th>\n",
       "      <th>mu</th>\n",
       "      <th>sigv</th>\n",
       "      <th>r_b</th>\n",
       "      <th>flag</th>\n",
       "      <th>rabs1</th>\n",
       "      <th>d_ij</th>\n",
       "      <th>tcr</th>\n",
       "      <th>rp</th>\n",
       "      <th>rabs2</th>\n",
       "      <th>Target</th>\n",
       "      <th>ngc</th>\n",
       "      <th>pasiva</th>\n",
       "      <th>frac</th>\n",
       "    </tr>\n",
       "  </thead>\n",
       "  <tbody>\n",
       "    <tr>\n",
       "      <th>0</th>\n",
       "      <td>1</td>\n",
       "      <td>4</td>\n",
       "      <td>114.842</td>\n",
       "      <td>45.103</td>\n",
       "      <td>0.078292</td>\n",
       "      <td>2.62</td>\n",
       "      <td>25.018</td>\n",
       "      <td>348.679</td>\n",
       "      <td>14.719</td>\n",
       "      <td>0</td>\n",
       "      <td>-22.375</td>\n",
       "      <td>0.143311</td>\n",
       "      <td>0.037275</td>\n",
       "      <td>87.756599</td>\n",
       "      <td>-20.608</td>\n",
       "      <td>Field</td>\n",
       "      <td>1</td>\n",
       "      <td>3</td>\n",
       "      <td>0.75</td>\n",
       "    </tr>\n",
       "    <tr>\n",
       "      <th>1</th>\n",
       "      <td>2</td>\n",
       "      <td>4</td>\n",
       "      <td>116.577</td>\n",
       "      <td>22.020</td>\n",
       "      <td>0.046817</td>\n",
       "      <td>4.09</td>\n",
       "      <td>25.289</td>\n",
       "      <td>274.092</td>\n",
       "      <td>14.289</td>\n",
       "      <td>0</td>\n",
       "      <td>-21.512</td>\n",
       "      <td>0.092313</td>\n",
       "      <td>0.030544</td>\n",
       "      <td>82.543709</td>\n",
       "      <td>-20.895</td>\n",
       "      <td>Loose</td>\n",
       "      <td>2</td>\n",
       "      <td>4</td>\n",
       "      <td>1.00</td>\n",
       "    </tr>\n",
       "  </tbody>\n",
       "</table>\n",
       "</div>"
      ],
      "text/plain": [
       "   i_gru  n_m       Ra     dec         z  thete_g       mu     sigv     r_b  \\\n",
       "0      1    4  114.842  45.103  0.078292      2.62  25.018  348.679  14.719   \n",
       "1      2    4  116.577  22.020  0.046817      4.09  25.289  274.092  14.289   \n",
       "\n",
       "   flag   rabs1      d_ij       tcr         rp   rabs2 Target  ngc  pasiva  \\\n",
       "0     0 -22.375  0.143311  0.037275  87.756599 -20.608  Field    1       3   \n",
       "1     0 -21.512  0.092313  0.030544  82.543709 -20.895  Loose    2       4   \n",
       "\n",
       "   frac  \n",
       "0  0.75  \n",
       "1  1.00  "
      ]
     },
     "metadata": {},
     "output_type": "display_data"
    },
    {
     "data": {
      "text/plain": [
       "(449, 19)"
      ]
     },
     "metadata": {},
     "output_type": "display_data"
    }
   ],
   "source": [
    "pasivas = pd.read_csv('df_pasiva.csv')\n",
    "display(pasivas.head(2))\n",
    "display(pasivas.shape)\n",
    "i_gru_pasivas = pasivas.i_gru.to_list()"
   ]
  },
  {
   "cell_type": "code",
   "execution_count": 12,
   "metadata": {},
   "outputs": [
    {
     "data": {
      "text/html": [
       "<div>\n",
       "<style scoped>\n",
       "    .dataframe tbody tr th:only-of-type {\n",
       "        vertical-align: middle;\n",
       "    }\n",
       "\n",
       "    .dataframe tbody tr th {\n",
       "        vertical-align: top;\n",
       "    }\n",
       "\n",
       "    .dataframe thead th {\n",
       "        text-align: right;\n",
       "    }\n",
       "</style>\n",
       "<table border=\"1\" class=\"dataframe\">\n",
       "  <thead>\n",
       "    <tr style=\"text-align: right;\">\n",
       "      <th></th>\n",
       "      <th>GId</th>\n",
       "      <th>Ng</th>\n",
       "      <th>alcm</th>\n",
       "      <th>delcm</th>\n",
       "      <th>zmean</th>\n",
       "      <th>radiop</th>\n",
       "      <th>mu</th>\n",
       "      <th>sigmav</th>\n",
       "      <th>rbri</th>\n",
       "      <th>flag_cg</th>\n",
       "      <th>rcomv_cg</th>\n",
       "      <th>dij_N</th>\n",
       "      <th>estado</th>\n",
       "      <th>tipo_vv</th>\n",
       "      <th>dijp_1000</th>\n",
       "      <th>t_cross</th>\n",
       "      <th>Rp</th>\n",
       "    </tr>\n",
       "  </thead>\n",
       "  <tbody>\n",
       "    <tr>\n",
       "      <th>44</th>\n",
       "      <td>45</td>\n",
       "      <td>4</td>\n",
       "      <td>139.228</td>\n",
       "      <td>29.355</td>\n",
       "      <td>0.037095</td>\n",
       "      <td>6.212</td>\n",
       "      <td>26.001</td>\n",
       "      <td>204.675</td>\n",
       "      <td>14.300</td>\n",
       "      <td>0</td>\n",
       "      <td>110.196733</td>\n",
       "      <td>0.781540</td>\n",
       "      <td>-1</td>\n",
       "      <td>0.0</td>\n",
       "      <td>************</td>\n",
       "      <td>0.049488</td>\n",
       "      <td>99.560812</td>\n",
       "    </tr>\n",
       "    <tr>\n",
       "      <th>71</th>\n",
       "      <td>73</td>\n",
       "      <td>4</td>\n",
       "      <td>151.012</td>\n",
       "      <td>31.098</td>\n",
       "      <td>0.022236</td>\n",
       "      <td>12.331</td>\n",
       "      <td>26.277</td>\n",
       "      <td>243.871</td>\n",
       "      <td>12.448</td>\n",
       "      <td>0</td>\n",
       "      <td>66.280200</td>\n",
       "      <td>1.008712</td>\n",
       "      <td>0</td>\n",
       "      <td>1.0</td>\n",
       "      <td>************</td>\n",
       "      <td>0.061933</td>\n",
       "      <td>118.873784</td>\n",
       "    </tr>\n",
       "  </tbody>\n",
       "</table>\n",
       "</div>"
      ],
      "text/plain": [
       "    GId  Ng     alcm   delcm     zmean  radiop      mu   sigmav    rbri  \\\n",
       "44   45   4  139.228  29.355  0.037095   6.212  26.001  204.675  14.300   \n",
       "71   73   4  151.012  31.098  0.022236  12.331  26.277  243.871  12.448   \n",
       "\n",
       "    flag_cg    rcomv_cg     dij_N  estado  tipo_vv     dijp_1000   t_cross  \\\n",
       "44        0  110.196733  0.781540      -1      0.0  ************  0.049488   \n",
       "71        0   66.280200  1.008712       0      1.0  ************  0.061933   \n",
       "\n",
       "            Rp  \n",
       "44   99.560812  \n",
       "71  118.873784  "
      ]
     },
     "metadata": {},
     "output_type": "display_data"
    }
   ],
   "source": [
    "display(cgF1.head(2))"
   ]
  },
  {
   "cell_type": "code",
   "execution_count": 13,
   "metadata": {},
   "outputs": [],
   "source": [
    "diferencia = diff(i_gru_pasivas, GId_cgF1)\n",
    "pasivas1 = pasivas.set_index('i_gru').drop(diferencia)"
   ]
  },
  {
   "cell_type": "code",
   "execution_count": 14,
   "metadata": {},
   "outputs": [],
   "source": [
    "pasivas1 = pasivas1.reset_index()"
   ]
  },
  {
   "cell_type": "code",
   "execution_count": 15,
   "metadata": {},
   "outputs": [
    {
     "data": {
      "text/plain": [
       "(29, 19)"
      ]
     },
     "execution_count": 15,
     "metadata": {},
     "output_type": "execute_result"
    }
   ],
   "source": [
    "pasivas1.shape"
   ]
  },
  {
   "cell_type": "code",
   "execution_count": 16,
   "metadata": {},
   "outputs": [
    {
     "data": {
      "text/html": [
       "<div>\n",
       "<style scoped>\n",
       "    .dataframe tbody tr th:only-of-type {\n",
       "        vertical-align: middle;\n",
       "    }\n",
       "\n",
       "    .dataframe tbody tr th {\n",
       "        vertical-align: top;\n",
       "    }\n",
       "\n",
       "    .dataframe thead th {\n",
       "        text-align: right;\n",
       "    }\n",
       "</style>\n",
       "<table border=\"1\" class=\"dataframe\">\n",
       "  <thead>\n",
       "    <tr style=\"text-align: right;\">\n",
       "      <th></th>\n",
       "      <th>GId</th>\n",
       "      <th>Ng</th>\n",
       "      <th>alcm</th>\n",
       "      <th>delcm</th>\n",
       "      <th>zmean</th>\n",
       "      <th>radiop</th>\n",
       "      <th>mu</th>\n",
       "      <th>sigmav</th>\n",
       "      <th>rbri</th>\n",
       "      <th>flag_cg</th>\n",
       "      <th>rcomv_cg</th>\n",
       "      <th>dij_N</th>\n",
       "      <th>estado</th>\n",
       "      <th>tipo_vv</th>\n",
       "      <th>dijp_1000</th>\n",
       "      <th>t_cross</th>\n",
       "      <th>Rp</th>\n",
       "    </tr>\n",
       "  </thead>\n",
       "  <tbody>\n",
       "    <tr>\n",
       "      <th>44</th>\n",
       "      <td>45</td>\n",
       "      <td>4</td>\n",
       "      <td>139.228</td>\n",
       "      <td>29.355</td>\n",
       "      <td>0.037095</td>\n",
       "      <td>6.212</td>\n",
       "      <td>26.001</td>\n",
       "      <td>204.675</td>\n",
       "      <td>14.300</td>\n",
       "      <td>0</td>\n",
       "      <td>110.196733</td>\n",
       "      <td>0.781540</td>\n",
       "      <td>-1</td>\n",
       "      <td>0.0</td>\n",
       "      <td>************</td>\n",
       "      <td>0.049488</td>\n",
       "      <td>99.560812</td>\n",
       "    </tr>\n",
       "    <tr>\n",
       "      <th>71</th>\n",
       "      <td>73</td>\n",
       "      <td>4</td>\n",
       "      <td>151.012</td>\n",
       "      <td>31.098</td>\n",
       "      <td>0.022236</td>\n",
       "      <td>12.331</td>\n",
       "      <td>26.277</td>\n",
       "      <td>243.871</td>\n",
       "      <td>12.448</td>\n",
       "      <td>0</td>\n",
       "      <td>66.280200</td>\n",
       "      <td>1.008712</td>\n",
       "      <td>0</td>\n",
       "      <td>1.0</td>\n",
       "      <td>************</td>\n",
       "      <td>0.061933</td>\n",
       "      <td>118.873784</td>\n",
       "    </tr>\n",
       "  </tbody>\n",
       "</table>\n",
       "</div>"
      ],
      "text/plain": [
       "    GId  Ng     alcm   delcm     zmean  radiop      mu   sigmav    rbri  \\\n",
       "44   45   4  139.228  29.355  0.037095   6.212  26.001  204.675  14.300   \n",
       "71   73   4  151.012  31.098  0.022236  12.331  26.277  243.871  12.448   \n",
       "\n",
       "    flag_cg    rcomv_cg     dij_N  estado  tipo_vv     dijp_1000   t_cross  \\\n",
       "44        0  110.196733  0.781540      -1      0.0  ************  0.049488   \n",
       "71        0   66.280200  1.008712       0      1.0  ************  0.061933   \n",
       "\n",
       "            Rp  \n",
       "44   99.560812  \n",
       "71  118.873784  "
      ]
     },
     "execution_count": 16,
     "metadata": {},
     "output_type": "execute_result"
    }
   ],
   "source": [
    "cgF1.head(2)"
   ]
  },
  {
   "cell_type": "code",
   "execution_count": 17,
   "metadata": {},
   "outputs": [],
   "source": [
    "pasivas1['dij_N'] = cgF1.dij_N.values\n",
    "pasivas1['tipo_vv'] = cgF1.tipo_vv.values"
   ]
  },
  {
   "cell_type": "code",
   "execution_count": 18,
   "metadata": {},
   "outputs": [
    {
     "data": {
      "text/html": [
       "<div>\n",
       "<style scoped>\n",
       "    .dataframe tbody tr th:only-of-type {\n",
       "        vertical-align: middle;\n",
       "    }\n",
       "\n",
       "    .dataframe tbody tr th {\n",
       "        vertical-align: top;\n",
       "    }\n",
       "\n",
       "    .dataframe thead th {\n",
       "        text-align: right;\n",
       "    }\n",
       "</style>\n",
       "<table border=\"1\" class=\"dataframe\">\n",
       "  <thead>\n",
       "    <tr style=\"text-align: right;\">\n",
       "      <th></th>\n",
       "      <th>i_gru</th>\n",
       "      <th>n_m</th>\n",
       "      <th>Ra</th>\n",
       "      <th>dec</th>\n",
       "      <th>z</th>\n",
       "      <th>thete_g</th>\n",
       "      <th>mu</th>\n",
       "      <th>sigv</th>\n",
       "      <th>r_b</th>\n",
       "      <th>flag</th>\n",
       "      <th>...</th>\n",
       "      <th>d_ij</th>\n",
       "      <th>tcr</th>\n",
       "      <th>rp</th>\n",
       "      <th>rabs2</th>\n",
       "      <th>Target</th>\n",
       "      <th>ngc</th>\n",
       "      <th>pasiva</th>\n",
       "      <th>frac</th>\n",
       "      <th>dij_N</th>\n",
       "      <th>tipo_vv</th>\n",
       "    </tr>\n",
       "  </thead>\n",
       "  <tbody>\n",
       "    <tr>\n",
       "      <th>0</th>\n",
       "      <td>45</td>\n",
       "      <td>4</td>\n",
       "      <td>139.228</td>\n",
       "      <td>29.355</td>\n",
       "      <td>0.037095</td>\n",
       "      <td>6.212</td>\n",
       "      <td>26.001</td>\n",
       "      <td>204.675</td>\n",
       "      <td>14.300</td>\n",
       "      <td>0</td>\n",
       "      <td>...</td>\n",
       "      <td>0.111687</td>\n",
       "      <td>0.049488</td>\n",
       "      <td>99.560814</td>\n",
       "      <td>-20.614</td>\n",
       "      <td>VoiR</td>\n",
       "      <td>45</td>\n",
       "      <td>2</td>\n",
       "      <td>0.5</td>\n",
       "      <td>0.781540</td>\n",
       "      <td>0.0</td>\n",
       "    </tr>\n",
       "    <tr>\n",
       "      <th>1</th>\n",
       "      <td>73</td>\n",
       "      <td>4</td>\n",
       "      <td>151.012</td>\n",
       "      <td>31.098</td>\n",
       "      <td>0.022236</td>\n",
       "      <td>12.331</td>\n",
       "      <td>26.277</td>\n",
       "      <td>243.871</td>\n",
       "      <td>12.448</td>\n",
       "      <td>0</td>\n",
       "      <td>...</td>\n",
       "      <td>0.166542</td>\n",
       "      <td>0.061933</td>\n",
       "      <td>118.873787</td>\n",
       "      <td>-19.414</td>\n",
       "      <td>VoiS</td>\n",
       "      <td>73</td>\n",
       "      <td>2</td>\n",
       "      <td>0.5</td>\n",
       "      <td>1.008712</td>\n",
       "      <td>1.0</td>\n",
       "    </tr>\n",
       "  </tbody>\n",
       "</table>\n",
       "<p>2 rows × 21 columns</p>\n",
       "</div>"
      ],
      "text/plain": [
       "   i_gru  n_m       Ra     dec         z  thete_g       mu     sigv     r_b  \\\n",
       "0     45    4  139.228  29.355  0.037095     6.212  26.001  204.675  14.300   \n",
       "1     73    4  151.012  31.098  0.022236    12.331  26.277  243.871  12.448   \n",
       "\n",
       "   flag  ...      d_ij       tcr          rp   rabs2  Target ngc  pasiva  \\\n",
       "0     0  ...  0.111687  0.049488   99.560814 -20.614    VoiR  45       2   \n",
       "1     0  ...  0.166542  0.061933  118.873787 -19.414    VoiS  73       2   \n",
       "\n",
       "   frac     dij_N  tipo_vv  \n",
       "0   0.5  0.781540      0.0  \n",
       "1   0.5  1.008712      1.0  \n",
       "\n",
       "[2 rows x 21 columns]"
      ]
     },
     "execution_count": 18,
     "metadata": {},
     "output_type": "execute_result"
    }
   ],
   "source": [
    "pasivas1.head(2)"
   ]
  },
  {
   "cell_type": "code",
   "execution_count": 19,
   "metadata": {},
   "outputs": [],
   "source": [
    "cgF1 = pasivas1"
   ]
  },
  {
   "cell_type": "code",
   "execution_count": 20,
   "metadata": {},
   "outputs": [],
   "source": [
    "menor_bri = pasivas1.sigv > 180\n",
    "dij_minor = pasivas1[menor_bri]\n",
    "mayor_bri = pasivas1.sigv <= 180\n",
    "dij_mayor = pasivas1[mayor_bri]"
   ]
  },
  {
   "cell_type": "markdown",
   "metadata": {},
   "source": [
    "# CV-S"
   ]
  },
  {
   "cell_type": "code",
   "execution_count": 21,
   "metadata": {},
   "outputs": [
    {
     "data": {
      "text/plain": [
       "(20, 21)"
      ]
     },
     "metadata": {},
     "output_type": "display_data"
    },
    {
     "data": {
      "text/plain": [
       "count    20.000000\n",
       "mean      0.843650\n",
       "std       0.216327\n",
       "min       0.424383\n",
       "25%       0.698098\n",
       "50%       0.896342\n",
       "75%       1.044758\n",
       "max       1.098577\n",
       "Name: dij_N, dtype: float64"
      ]
     },
     "execution_count": 21,
     "metadata": {},
     "output_type": "execute_result"
    }
   ],
   "source": [
    "cgS=cgF1[cgF1['tipo_vv']>0]\n",
    "display(cgS.shape)\n",
    "cgS.dij_N.describe()"
   ]
  },
  {
   "cell_type": "code",
   "execution_count": 22,
   "metadata": {},
   "outputs": [],
   "source": [
    "menor_bri = cgS.sigv > 180\n",
    "dij_minorS = cgS[menor_bri]\n",
    "mayor_bri = cgS.sigv <= 180\n",
    "dij_mayorS = cgS[mayor_bri]"
   ]
  },
  {
   "cell_type": "markdown",
   "metadata": {},
   "source": [
    "# CV-R"
   ]
  },
  {
   "cell_type": "code",
   "execution_count": 23,
   "metadata": {},
   "outputs": [
    {
     "data": {
      "text/plain": [
       "(9, 21)"
      ]
     },
     "metadata": {},
     "output_type": "display_data"
    },
    {
     "data": {
      "text/plain": [
       "count    9.000000\n",
       "mean     0.953535\n",
       "std      0.147419\n",
       "min      0.638538\n",
       "25%      0.956546\n",
       "50%      1.039340\n",
       "75%      1.045260\n",
       "max      1.057515\n",
       "Name: dij_N, dtype: float64"
      ]
     },
     "execution_count": 23,
     "metadata": {},
     "output_type": "execute_result"
    }
   ],
   "source": [
    "cgR=cgF1[cgF1['tipo_vv']==0]\n",
    "display(cgR.shape)\n",
    "cgR.dij_N.describe()"
   ]
  },
  {
   "cell_type": "code",
   "execution_count": 24,
   "metadata": {},
   "outputs": [],
   "source": [
    "menor_bri = cgR.sigv > 180\n",
    "dij_minorR = cgR[menor_bri]\n",
    "mayor_bri = cgR.sigv <= 180\n",
    "dij_mayorR = cgR[mayor_bri]"
   ]
  },
  {
   "cell_type": "code",
   "execution_count": 25,
   "metadata": {},
   "outputs": [],
   "source": [
    "import matplotlib.patches as mpatches"
   ]
  },
  {
   "cell_type": "code",
   "execution_count": 26,
   "metadata": {},
   "outputs": [
    {
     "name": "stdout",
     "output_type": "stream",
     "text": [
      "medianF 0.9565459999999999\n",
      "medianR 1.03934\n",
      "medianS 0.8963415\n"
     ]
    },
    {
     "data": {
      "text/plain": [
       "0.447213595499958"
      ]
     },
     "metadata": {},
     "output_type": "display_data"
    },
    {
     "name": "stderr",
     "output_type": "stream",
     "text": [
      "/home/vanessa/anaconda3/envs/machine-learning/lib/python3.8/site-packages/seaborn/_decorators.py:36: FutureWarning: Pass the following variable as a keyword arg: x. From version 0.12, the only valid positional argument will be `data`, and passing other arguments without an explicit keyword will result in an error or misinterpretation.\n",
      "  warnings.warn(\n",
      "/home/vanessa/anaconda3/envs/machine-learning/lib/python3.8/site-packages/seaborn/_decorators.py:36: FutureWarning: Pass the following variable as a keyword arg: x. From version 0.12, the only valid positional argument will be `data`, and passing other arguments without an explicit keyword will result in an error or misinterpretation.\n",
      "  warnings.warn(\n",
      "/home/vanessa/anaconda3/envs/machine-learning/lib/python3.8/site-packages/seaborn/_decorators.py:36: FutureWarning: Pass the following variable as a keyword arg: x. From version 0.12, the only valid positional argument will be `data`, and passing other arguments without an explicit keyword will result in an error or misinterpretation.\n",
      "  warnings.warn(\n"
     ]
    },
    {
     "data": {
      "text/plain": [
       "<Figure size 360x3600 with 0 Axes>"
      ]
     },
     "metadata": {},
     "output_type": "display_data"
    },
    {
     "data": {
      "image/png": "[encoded data removed]",
      "text/plain": [
       "<Figure size 432x288 with 3 Axes>"
      ]
     },
     "metadata": {
      "needs_background": "light"
     },
     "output_type": "display_data"
    }
   ],
   "source": [
    "medianF=np.median(cgF1.dij_N)\n",
    "print('medianF',medianF)\n",
    "medianR=np.median(cgR.dij_N)\n",
    "print('medianR',medianR)\n",
    "medianS=np.median(cgS.dij_N)\n",
    "print('medianS',medianS)\n",
    "\n",
    "plt.figure(figsize=(5,50))\n",
    "\n",
    "####subfiguras\n",
    "f, (ax_box_F,ax_box_R,ax_box_S) = plt.subplots(3, sharex='col',\n",
    "                                                         gridspec_kw = {'height_ratios':[15,15,15]})\n",
    "\n",
    "plt.subplots_adjust(left=None, bottom=None, right=None, top=None, wspace=None, hspace=0.0)\n",
    "\n",
    "#quitar los bordes\n",
    "#sns.despine (ax = ax_hist)\n",
    "sns.despine (ax = ax_box_F,left=False,bottom=True)\n",
    "sns.despine (ax = ax_box_R,left=False,bottom=True)\n",
    "sns.despine (ax = ax_box_S,left=False,bottom=False)\n",
    "\n",
    "#Modifico los ticks\n",
    "#ax_hist.tick_params(axis='x',direction ='inout',labelbottom =True)\n",
    "ax_box_F.tick_params(bottom = False,labelbottom = False)\n",
    "ax_box_R.tick_params(bottom = False,labelbottom = False)\n",
    "ax_box_S.tick_params(bottom = True,labelbottom = True)\n",
    "\n",
    "ax_box_S.xaxis.set_tick_params(labelsize=14)\n",
    "\n",
    "\n",
    "####hist\n",
    "#ax_hist.hist(cgF.dij_N, bins = np.arange(min(cgF.dij_N)-0.1,max(cgF.dij_N)+0.2,0.2),linestyle='solid',\n",
    "         #histtype='bar',linewidth=2,color='slateblue',label= 'VC F',\n",
    "          #   weights=np.ones_like(cgF.dij_N)/float(len(cgF.dij_N)))\n",
    "\n",
    "#####boxplot\n",
    "\n",
    "medianprops = dict(color='black',linewidth=3)\n",
    "#marker='D', markeredgecolor='black'\n",
    "\n",
    "TF=29**(0.5)\n",
    "TR=9**(0.5)\n",
    "TS=20**(0.5)\n",
    "display(TS*0.1)\n",
    "\n",
    "boxF=sns.boxplot(cgF1.dij_N, ax=ax_box_F, notch= True, color='white', width=TF*0.1,\n",
    "            medianprops=medianprops)\n",
    "sns.swarmplot(x=dij_minor.dij_N, color=\"blue\", ax=ax_box_F)\n",
    "sns.swarmplot(x=dij_mayor.dij_N, color=\".30\", ax=ax_box_F)\n",
    "\n",
    "boxR=sns.boxplot(cgR.dij_N, ax=ax_box_R, notch= True, color='white', width=TF*0.1,\n",
    "            medianprops=medianprops)\n",
    "sns.swarmplot(x=dij_minorR.dij_N, color=\"blue\", ax=ax_box_R)\n",
    "sns.swarmplot(x=dij_mayorR.dij_N, color=\".30\", ax=ax_box_R)\n",
    "\n",
    "boxS=sns.boxplot(cgS.dij_N, ax=ax_box_S, notch= True, color='white', width=TS*0.1, medianprops=medianprops) \n",
    "sns.swarmplot(x=dij_minorS.dij_N, color=\"blue\", ax=ax_box_S)\n",
    "sns.swarmplot(x=dij_mayorS.dij_N, color=\".30\", ax=ax_box_S)\n",
    "\n",
    "plt.setp(boxF.artists,edgecolor='black')\n",
    "plt.setp(boxR.artists,hatch=\"\\\\\\\\\",edgecolor='deepskyblue')\n",
    "plt.setp(boxS.artists,hatch=\"//\",edgecolor='darkgreen')\n",
    "\n",
    "\n",
    "#box\n",
    "#plt.xlabel(r'distancias mínimas cg-voids',fontsize=11)\n",
    "#plt.ylabel('Frecuencia')\n",
    "#plt.legend(loc=\"upper right\")\n",
    "#plt.legend(frameon=True)\n",
    "\n",
    "\n",
    "#muestra_F = mpatches.Patch(color='bisque', label='voids F')\n",
    "#muestra_R = mpatches.Patch(color='seagreen', label='voids R',hatch='\\\\\\\\',\n",
    "                           #linewidth=2,linestyle='solid')\n",
    "#muestra_S = mpatches.Patch(color='blue', label='voids S',hatch='////',\n",
    "                           #linewidth=2,linestyle='solid')\n",
    "#ax_hist.legend(handles=[muestra_F,muestra_R,muestra_S],loc=1,fontsize=7)\n",
    "\n",
    "#plt.xlim((0.8,3.2))\n",
    "\n",
    "\n",
    "ax_box_F.set_ylabel(r'$CG_{V}$', fontsize=16)\n",
    "ax_box_R.set_ylabel(r'$CG_{V_{R}}$', fontsize=16)\n",
    "ax_box_S.set_ylabel(r'$CG_{V_{S}}$', fontsize=16)\n",
    "\n",
    "ax_box_R.set_xlabel('')\n",
    "ax_box_S.set_xlabel(r'$D_{min}^{N}$',fontsize=17)\n",
    "\n",
    "\n",
    "plt.savefig('distancias_cg_void_sig.pdf', format ='pdf',  bbox_inches='tight')\n",
    "plt.show()"
   ]
  },
  {
   "cell_type": "code",
   "execution_count": null,
   "metadata": {},
   "outputs": [],
   "source": []
  }
 ],
 "metadata": {
  "kernelspec": {
   "display_name": "Python 3",
   "language": "python",
   "name": "python3"
  },
  "language_info": {
   "codemirror_mode": {
    "name": "ipython",
    "version": 3
   },
   "file_extension": ".py",
   "mimetype": "text/x-python",
   "name": "python",
   "nbconvert_exporter": "python",
   "pygments_lexer": "ipython3",
   "version": "3.8.3"
  }
 },
 "nbformat": 4,
 "nbformat_minor": 4
}
