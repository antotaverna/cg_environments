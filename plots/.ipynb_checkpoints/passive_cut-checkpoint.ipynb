{
 "cells": [
  {
   "cell_type": "code",
   "execution_count": 1,
   "id": "f703c9cd",
   "metadata": {},
   "outputs": [
    {
     "name": "stderr",
     "output_type": "stream",
     "text": [
      "Package 'mclust' version 5.4.7\n",
      "Type 'citation(\"mclust\")' for citing this R package in publications.\n",
      "\n",
      "Registered S3 methods overwritten by 'ggplot2':\n",
      "  method         from \n",
      "  [.quosures     rlang\n",
      "  c.quosures     rlang\n",
      "  print.quosures rlang\n",
      "\n"
     ]
    }
   ],
   "source": [
    "library(MASS)\n",
    "library(\"mclust\")\n",
    "library(ggplot2)\n",
    "library(AdaptGauss)\n"
   ]
  },
  {
   "cell_type": "markdown",
   "id": "59877589",
   "metadata": {},
   "source": [
    "# Muestra galaxias tempel"
   ]
  },
  {
   "cell_type": "code",
   "execution_count": 2,
   "id": "1f985293",
   "metadata": {},
   "outputs": [
    {
     "name": "stderr",
     "output_type": "stream",
     "text": [
      "Warning message in file(file, \"rt\"):\n",
      "“no fue posible abrir el archivo 'tempel_Mr.dat': No existe el archivo o el directorio”\n"
     ]
    },
    {
     "ename": "ERROR",
     "evalue": "Error in file(file, \"rt\"): no se puede abrir la conexión\n",
     "output_type": "error",
     "traceback": [
      "Error in file(file, \"rt\"): no se puede abrir la conexión\nTraceback:\n",
      "1. read.table(\"tempel_Mr.dat\", sep = \"\")",
      "2. file(file, \"rt\")"
     ]
    }
   ],
   "source": [
    "g<-read.table(\"tempel_Mr.dat\",sep=\"\")\n",
    "#\"id\",\"al\",\"del\",\"z\",\"mr\",\"mg\",\"rabs\",\"gabs\""
   ]
  },
  {
   "cell_type": "code",
   "execution_count": null,
   "id": "42a087fb",
   "metadata": {},
   "outputs": [],
   "source": [
    "rma=subset(g$V7, g$V8 > -27. & g$V8 < -15.)\n",
    "gma=subset(g$V8, g$V8 > -27. & g$V8 < -15.)"
   ]
  },
  {
   "cell_type": "code",
   "execution_count": null,
   "id": "1b6fb82c",
   "metadata": {},
   "outputs": [],
   "source": [
    "c = gma - rma\n",
    "color <- subset(c, c > 0. & c < 1.1)\n",
    "rr <- subset(rma, c > 0. & c < 1.1)\n",
    "anyNA(color)"
   ]
  },
  {
   "cell_type": "markdown",
   "id": "8c5928b2",
   "metadata": {},
   "source": [
    "### Bines en Magnitud Absoluta"
   ]
  },
  {
   "cell_type": "code",
   "execution_count": null,
   "id": "de352d7d",
   "metadata": {},
   "outputs": [],
   "source": [
    "bin=seq(-22.5,-18.,0.3)\n",
    "bin\n",
    "length(bin)"
   ]
  },
  {
   "cell_type": "markdown",
   "id": "4c72fe36",
   "metadata": {},
   "source": [
    "#### Range Mabs r-band"
   ]
  },
  {
   "cell_type": "code",
   "execution_count": null,
   "id": "c9234075",
   "metadata": {},
   "outputs": [],
   "source": [
    "color1= subset(color, rr>=bin[1] & rr< bin[2])\n",
    "color2= subset(color, rr>=bin[2] & rr< bin[3])\n",
    "color3= subset(color, rr>=bin[3] & rr< bin[4])\n",
    "color4= subset(color, rr>=bin[4] & rr< bin[5])\n",
    "color5= subset(color, rr>=bin[5] & rr< bin[6])\n",
    "color6= subset(color, rr>=bin[6] & rr< bin[7])\n",
    "color7= subset(color, rr>=bin[7] & rr< bin[8])\n",
    "color8= subset(color, rr>=bin[8] & rr< bin[9])\n",
    "color9= subset(color, rr>=bin[9] & rr< bin[10])\n",
    "color10= subset(color, rr>=bin[10] & rr< bin[11])\n",
    "color11= subset(color, rr>=bin[11] & rr< bin[12])\n",
    "color12= subset(color, rr>=bin[12] & rr< bin[13])\n",
    "color13= subset(color, rr>=bin[13] & rr< bin[14])\n",
    "color14= subset(color, rr>=bin[14] & rr< bin[15])\n",
    "color15= subset(color, rr>=bin[15] & rr< bin[16])"
   ]
  },
  {
   "cell_type": "markdown",
   "id": "a9e658e9",
   "metadata": {},
   "source": [
    "# GMM (2 Gaussians)"
   ]
  },
  {
   "cell_type": "code",
   "execution_count": null,
   "id": "c71a53ee",
   "metadata": {},
   "outputs": [],
   "source": [
    "gmm <- densityMclust(color,G=2,initialization = set.seed(0),modelNames = \"V\") #\"E\""
   ]
  },
  {
   "cell_type": "code",
   "execution_count": null,
   "id": "aed1af8f",
   "metadata": {},
   "outputs": [],
   "source": [
    "DetailsThe following models are available in packagemclust:univariate mixture\"E\"equal variance (one-dimensional)\"V\"variable/unqual variance (one-dimensional)\n",
    "\n",
    "gmm$modelName"
   ]
  },
  {
   "cell_type": "code",
   "execution_count": null,
   "id": "c973e002",
   "metadata": {},
   "outputs": [],
   "source": [
    "gmm1 <- densityMclust(color1,G=2,initialization = set.seed(0))\n",
    "gmm2 <- densityMclust(color2,G=2,initialization = set.seed(0))\n",
    "gmm3 <- densityMclust(color3,G=2,initialization = set.seed(0))\n",
    "gmm4 <- densityMclust(color4,G=2,initialization = set.seed(0))\n",
    "gmm5 <- densityMclust(color5,G=2,initialization = set.seed(0))\n",
    "gmm6 <- densityMclust(color6,G=2,initialization = set.seed(0))\n",
    "gmm7 <- densityMclust(color7,G=2,initialization = set.seed(0))\n",
    "gmm8 <- densityMclust(color8,G=2,initialization = set.seed(0))\n",
    "gmm9 <- densityMclust(color9,G=2,initialization = set.seed(0))\n",
    "gmm10 <- densityMclust(color10,G=2,initialization = set.seed(0))\n",
    "gmm11 <- densityMclust(color11,G=2,initialization = set.seed(0))\n",
    "gmm12 <- densityMclust(color12,G=2,initialization = set.seed(0))\n",
    "gmm13 <- densityMclust(color13,G=2,initialization = set.seed(0))\n",
    "gmm14 <- densityMclust(color14,G=2,initialization = set.seed(0))\n",
    "gmm15 <- densityMclust(color15,G=2,initialization = set.seed(0))"
   ]
  },
  {
   "cell_type": "code",
   "execution_count": null,
   "id": "e6d21fe0",
   "metadata": {},
   "outputs": [],
   "source": [
    "summary(gmm, parameters = TRUE)"
   ]
  },
  {
   "cell_type": "code",
   "execution_count": null,
   "id": "cf496f86",
   "metadata": {},
   "outputs": [],
   "source": [
    "gmm$classification #--> a que gassiana pertenece"
   ]
  },
  {
   "cell_type": "markdown",
   "id": "cbd21d32",
   "metadata": {},
   "source": [
    "# Plot"
   ]
  },
  {
   "cell_type": "code",
   "execution_count": null,
   "id": "17d3f18e",
   "metadata": {},
   "outputs": [],
   "source": [
    "plot_col <- function(xx,gaus,a,bin1,bin2){\n",
    "    \n",
    "    br <- seq(min(xx), max(xx), length = 100)\n",
    "    #plot(gaus, what = \"density\", data = xx, breaks = br,xlab=\"\",xaxt='n',yaxt='n')\n",
    "    plot(gaus, what = \"density\",  breaks = br,xlab=\"\",lty=1)\n",
    "    h=hist(xx,plot=FALSE)\n",
    "    points(h$mids,h$density,type=\"s\", col = \"black\")\n",
    "\n",
    "    x <- seq(min(xx)-diff(range(xx))/10, max(xx)+diff(range(xx))/10, length = 200)\n",
    "    cdens <- predict(gaus, x, what = \"cdens\")\n",
    "    cdens <- t(apply(cdens, 1, function(d) d*gaus$parameters$pro))\n",
    "    matplot(x, cdens, type = \"l\", lwd = 1, add = TRUE, lty = 2:2, col = c(\"red\",\"blue\"),xaxt='n',yaxt='n')\n",
    "\n",
    "    m1=gaus$parameters$mean[1]; sd1=sqrt(gaus$parameters$variance$sigmasq[1]); p1=gaus$parameters$pro[1]\n",
    "    m2=gaus$parameters$mean[2]; sd2=sqrt(gaus$parameters$variance$sigmasq[2]); p2=gaus$parameters$pro[2]\n",
    "\n",
    "    #inteseccion de dos gaussianas\n",
    "    intersec=Intersect2Mixtures(m1,sd1,p1,m2,sd2,p2)\n",
    "    ll=intersec$CutX\n",
    "    abline(v=ll,col='magenta')\n",
    "\n",
    "    legend(\"topleft\", legend=c(a), cex=0.7,bty=\"n\")\n",
    "\n",
    "    intersect=round(ll,digits=4)\n",
    "    dd=data.frame(bin1,bin2,intersect)\n",
    "                                \n",
    "    xtick<-seq(0, 10, by=5)\n",
    "    axis(side=1, at=c(0.,0.2,0.4,0.6,0.8,1.0,1.2), labels = FALSE)\n",
    "                 \n",
    "    return(dd)\n",
    "}\n"
   ]
  },
  {
   "cell_type": "code",
   "execution_count": null,
   "id": "9e25a871",
   "metadata": {},
   "outputs": [],
   "source": [
    "#cairo_ps(\"color_tempel_gmm.eps\")"
   ]
  },
  {
   "cell_type": "code",
   "execution_count": null,
   "id": "aa87695f",
   "metadata": {},
   "outputs": [],
   "source": [
    "par(mfrow=c(4,4))\n",
    "par(mar = c(2, 2, 2, 2))\n",
    "par(oma = c(5, 5, 2, 2))\n",
    "#xx=color1\n",
    "#gaus=gmm1\n",
    "\n",
    "a1=plot_col(color,gmm,\"[-23,-17]\",-23,-17)\n",
    "\n",
    "a2=plot_col(color1,gmm1,as.character(paste(\"[\",bin[1],\",\",bin[2],\"]\")),bin[1],bin[2])\n",
    "a3=plot_col(color2,gmm2,as.character(paste(\"[\",bin[2],\",\",bin[3],\"]\")),bin[2],bin[3])\n",
    "a4=plot_col(color3,gmm3,as.character(paste(\"[\",bin[3],\",\",bin[4],\"]\")),bin[3],bin[4])\n",
    "a5=plot_col(color4,gmm4,as.character(paste(\"[\",bin[4],\",\",bin[5],\"]\")),bin[4],bin[5])\n",
    "a6=plot_col(color5,gmm5,as.character(paste(\"[\",bin[5],\",\",bin[6],\"]\")),bin[5],bin[6])\n",
    "a7=plot_col(color6,gmm6,as.character(paste(\"[\",bin[6],\",\",bin[7],\"]\")),bin[6],bin[7])\n",
    "a8=plot_col(color7,gmm7,as.character(paste(\"[\",bin[7],\",\",bin[8],\"]\")),bin[7],bin[8])\n",
    "a9=plot_col(color8,gmm8,as.character(paste(\"[\",bin[8],\",\",bin[9],\"]\")),bin[8],bin[9])\n",
    "a10=plot_col(color9,gmm9,as.character(paste(\"[\",bin[9],\",\",bin[10],\"]\")),bin[9],bin[10])\n",
    "a11=plot_col(color10,gmm10,as.character(paste(\"[\",bin[10],\",\",bin[11],\"]\")),bin[10],bin[11])\n",
    "a12=plot_col(color11,gmm11,as.character(paste(\"[\",bin[11],\",\",bin[12],\"]\")),bin[11],bin[12])\n",
    "a13=plot_col(color12,gmm12,as.character(paste(\"[\",bin[12],\",\",bin[13],\"]\")),bin[12],bin[13])\n",
    "a14=plot_col(color13,gmm13,as.character(paste(\"[\",bin[13],\",\",bin[14],\"]\")),bin[13],bin[14])\n",
    "a15=plot_col(color14,gmm14,as.character(paste(\"[\",bin[14],\",\",bin[15],\"]\")),bin[14],bin[15])\n",
    "a16=plot_col(color15,gmm15,as.character(paste(\"[\",bin[15],\",\",bin[16],\"]\")),bin[15],bin[16])\n",
    "\n",
    "mtext(expression(paste(g,'\\u2212',r,\" \",\"[mag]\")), side = 1, cex = 1, line = 3.2, col = \"black\", outer = TRUE)\n",
    "mtext(expression(paste(\"Density\")), side = 2, cex = 1, line = 3.2, col = \"black\", outer = TRUE)\n"
   ]
  },
  {
   "cell_type": "code",
   "execution_count": null,
   "id": "b24b4068",
   "metadata": {},
   "outputs": [],
   "source": [
    "#dev.off()"
   ]
  },
  {
   "cell_type": "code",
   "execution_count": null,
   "id": "09deeda6",
   "metadata": {
    "scrolled": false
   },
   "outputs": [],
   "source": [
    "m=rbind(a1,a2,a3,a4,a5,a6,a7,a8,a9,a10,a11,a12,a13,a14,a15,a16)\n",
    "m\n",
    "m[1,3]"
   ]
  },
  {
   "cell_type": "markdown",
   "id": "fcf49767",
   "metadata": {},
   "source": [
    "# Color - Magnitud"
   ]
  },
  {
   "cell_type": "code",
   "execution_count": null,
   "id": "63f55769",
   "metadata": {},
   "outputs": [],
   "source": [
    "library(dplyr)"
   ]
  },
  {
   "cell_type": "code",
   "execution_count": null,
   "id": "5eff6031",
   "metadata": {},
   "outputs": [],
   "source": [
    "M_r1<-g$V7\n",
    "M_g1<-g$V8"
   ]
  },
  {
   "cell_type": "code",
   "execution_count": null,
   "id": "1b04a2da",
   "metadata": {},
   "outputs": [],
   "source": [
    "M_r<-subset(M_r1,M_r1 >=-23. & M_r1 <= -17.)\n",
    "M_g<-subset(M_g1,M_r1 >=-23. & M_r1 <= -17.)\n",
    "length(M_r)"
   ]
  },
  {
   "cell_type": "code",
   "execution_count": null,
   "id": "f009fc53",
   "metadata": {},
   "outputs": [],
   "source": [
    "col1= M_g-M_r"
   ]
  },
  {
   "cell_type": "code",
   "execution_count": null,
   "id": "9099c459",
   "metadata": {},
   "outputs": [],
   "source": [
    "#cairo_ps(\"passive_cut.eps\")"
   ]
  },
  {
   "cell_type": "code",
   "execution_count": null,
   "id": "a79595ee",
   "metadata": {},
   "outputs": [],
   "source": [
    "par(mfrow=c(1,1))\n",
    "par(mar=c(5,3,1,1))  #c(b,l,t,r)\n",
    "par(oma=c(0,1,1,1))  #c(b,l,t,r)\n",
    "\n",
    "df=data.frame(M_r,col1)\n",
    "new_df=sample_frac(df,0.05)\n",
    "M_g_n <- new_df[,1]\n",
    "color1_n <- new_df[,2]\n",
    "\n",
    "#labx=TeX(' $\\\\M_r-5 \\\\, \\\\log{(h)}}\\\\]$')\n",
    "labx=\"M_r-5log(h)\"\n",
    "plot(NA,xlim=c(-23,-17.5),ylim=c(0.3,1.0),xlab=labx,ylab='g-r',main='')\n",
    "points(M_g_n,color1_n,pch=16,cex=0.1,col='grey40')\n",
    "\n",
    "#---------------------\n",
    "##--Display as a contour map:\n",
    "#---------------------\n",
    "require(KernSmooth)\n",
    "l<-data.frame(M_r,col1)\n",
    "colnames(l)[c(1,2)] <-c(\"Mag\", \"col\")\n",
    "est <- bkde2D(l[c(\"Mag\", \"col\")], bandwidth=c(0.05, 0.05), gridsize=c(100, 100))\n",
    "#with(est, contour(x1, x2, fhat, drawlabels=TRUE, add=TRUE, col=\"black\",labcex=1))\n",
    "\n",
    "\n",
    "#Ajuste Lineal Blanton+07\n",
    "x=seq(-24,-16,0.1)\n",
    "y=0.8-0.03*(x +20)\n",
    "points(x ,y,type='l',col='magenta')\n",
    "\n",
    "\n",
    "#Total range\n",
    "abline(h=m[1,3],lw=1, lty=1,col='darkgreen')\n",
    "\n",
    "xx=(m[1]-m[2])/2.+ m[2]\n",
    "yy=m[3]\n",
    "points(xx[-1,],yy[-1,],col=\"blue\",pch=16)\n",
    "\n",
    "#Ajuste cuadratico\n",
    "#p=poly(xx,yy, degree = 2)\n",
    "#modelo_p <- lm(p)\n",
    "xseq=seq(-24,-17,0.1)\n",
    "model <- lm(yy[-1,] ~ poly(xx[-1,],2))\n",
    "coef1 <- lm(yy[-1,] ~ xx[-1,] + I(xx[-1,]^2))$coef\n",
    "lines(xseq,  coef1[3]*xseq^2+ coef1[2]*xseq+ coef1[1], col='red')\n",
    "lines(xseq,  -0.01059*xseq^2 - 0.46489*xseq - 4.381844, col='orange')\n",
    "\n",
    "legend(-23.0, 0.45,\n",
    "       legend=c(\"Blanton+07\",\n",
    "                paste(\"Total range [-23,-17]=\",m[1,3]),\n",
    "                \"Nuestro spliteador\",\n",
    "                paste(\"Fit: C(X)=\",round(coef1[3],5),\"X^2\",round(coef1[2],5),\"X\",round(coef1[1],5)),\n",
    "                \"ojo gitano: C(X)= -0.1059 X^2 - 0.46489 X - 4.381844\"),\n",
    "       col=c(\"magenta\",\"darkgreen\", \"blue\",\"red\",\"orange\"), lty=1, cex=0.8)\n",
    "\n"
   ]
  },
  {
   "cell_type": "code",
   "execution_count": null,
   "id": "2715236b",
   "metadata": {},
   "outputs": [],
   "source": [
    "round(coef1[3],5)\n",
    "round(coef1[2],5)\n",
    "round(coef1[1],5)"
   ]
  },
  {
   "cell_type": "code",
   "execution_count": null,
   "id": "844f9579",
   "metadata": {},
   "outputs": [],
   "source": []
  },
  {
   "cell_type": "code",
   "execution_count": null,
   "id": "8c3c2bc5",
   "metadata": {},
   "outputs": [],
   "source": []
  },
  {
   "cell_type": "markdown",
   "id": "4b8fef7b",
   "metadata": {},
   "source": [
    "# GMM 2D (2 Gaussians) \n",
    "### Espacio color-magnitud"
   ]
  },
  {
   "cell_type": "code",
   "execution_count": null,
   "id": "e0b97d72",
   "metadata": {},
   "outputs": [],
   "source": [
    "#df=data.frame(M_r,col1) #todo\n",
    "\n",
    "color <- subset(col1, col1 > 0. & col1 < 1.1)\n",
    "rr <- subset(M_r, col1 > 0. & col1 < 1.1)\n",
    "df=data.frame(rr,color)\n",
    "\n",
    "new_df=sample_frac(df,0.05)\n",
    "M_g_n <- new_df[,1]\n",
    "color1_n <- new_df[,2]\n",
    "\n",
    "#labx=TeX(' $\\\\M_r-5 \\\\, \\\\log{(h)}}\\\\]$')\n",
    "labx=\"M_r-5log(h)\"\n",
    "plot(NA,xlim=c(-23,-17.5),ylim=c(0.3,1.0),xlab=labx,ylab='g-r',main='')\n",
    "points(M_g_n,color1_n,pch=16,cex=0.1,col='grey40')"
   ]
  },
  {
   "cell_type": "code",
   "execution_count": null,
   "id": "6a4d0276",
   "metadata": {},
   "outputs": [],
   "source": [
    "gmm_2d <- densityMclust(df,G=2,initialization = set.seed(0), modelNames=\"VVV\")"
   ]
  },
  {
   "cell_type": "code",
   "execution_count": null,
   "id": "6042e58d",
   "metadata": {},
   "outputs": [],
   "source": [
    "#plot(gmm, what = \"density\", data = new_df, pch = '.', points.cex = 0.005,xlim=c(-23,-17.5),ylim=c(0.1,1.1))\n",
    "plot(gmm_2d , what = \"density\",xlim=c(-23,-17),ylim=c(0.1,1.1))#, type = \"hdr\")\n",
    "points(M_g_n,color1_n,pch=16,cex=0.01,col='grey40')"
   ]
  },
  {
   "cell_type": "code",
   "execution_count": null,
   "id": "5de2d425",
   "metadata": {},
   "outputs": [],
   "source": [
    "plot(gmm_2d , what = \"density\",xlim=c(-23,-17),ylim=c(0.1,1.1), type = \"hdr\")"
   ]
  },
  {
   "cell_type": "code",
   "execution_count": null,
   "id": "90a80735",
   "metadata": {},
   "outputs": [],
   "source": [
    "plot(gmm_2d , what = \"density\", type = \"persp\",xlim=c(-23,-17),ylim=c(0.1,1.1))"
   ]
  },
  {
   "cell_type": "code",
   "execution_count": null,
   "id": "bf5790dd",
   "metadata": {},
   "outputs": [],
   "source": [
    "summary(gmm_2d)"
   ]
  },
  {
   "cell_type": "code",
   "execution_count": null,
   "id": "1401da09",
   "metadata": {},
   "outputs": [],
   "source": [
    "gmm_2d$classification\n",
    "length(gmm_2d$classification)"
   ]
  },
  {
   "cell_type": "code",
   "execution_count": null,
   "id": "1dea7b2b",
   "metadata": {},
   "outputs": [],
   "source": [
    "plot(NA,xlim=c(-23,-17.5),ylim=c(0.3,1.0),xlab=labx,ylab='g-r',main='')\n",
    "\n",
    "points(M_g_n,color1_n,pch=16,cex=0.1,col='grey40')"
   ]
  },
  {
   "cell_type": "code",
   "execution_count": null,
   "id": "c7a5b683",
   "metadata": {},
   "outputs": [],
   "source": []
  },
  {
   "cell_type": "code",
   "execution_count": null,
   "id": "336e926b",
   "metadata": {},
   "outputs": [],
   "source": [
    "gmm_2d$parameters"
   ]
  },
  {
   "cell_type": "code",
   "execution_count": null,
   "id": "dacabb40",
   "metadata": {},
   "outputs": [],
   "source": [
    "#Matrix whose [i,k]th entry is the probability that observation i in the test data belongs to the kth class.\n",
    "gmm_2d$z\n"
   ]
  },
  {
   "cell_type": "code",
   "execution_count": null,
   "id": "bee550e4",
   "metadata": {},
   "outputs": [],
   "source": [
    "#The number of estimated parameters.\n",
    "gmm_2d$df"
   ]
  },
  {
   "cell_type": "code",
   "execution_count": null,
   "id": "4098d7c0",
   "metadata": {},
   "outputs": [],
   "source": [
    "mod5 <- Mclust(df,G=2)"
   ]
  },
  {
   "cell_type": "code",
   "execution_count": null,
   "id": "a723b258",
   "metadata": {},
   "outputs": [],
   "source": [
    "mclust2Dplot(data = df, what = \"classification\", \n",
    "             #identify = TRUE,\n",
    "             parameters = mod5$parameters, z = mod5$z)"
   ]
  },
  {
   "cell_type": "code",
   "execution_count": null,
   "id": "74d02321",
   "metadata": {},
   "outputs": [],
   "source": [
    "surfacePlot(data = df, what = \"density\", type = \"contour\",\n",
    "            parameters = mod5$parameters)"
   ]
  },
  {
   "cell_type": "code",
   "execution_count": null,
   "id": "49841dfa",
   "metadata": {},
   "outputs": [],
   "source": [
    "surfacePlot(data = df, , what = \"uncertainty\", type = \"image\",\n",
    "            parameters = mod5$parameters)#,  transformation = \"log\")"
   ]
  },
  {
   "cell_type": "code",
   "execution_count": null,
   "id": "7d6226cc",
   "metadata": {},
   "outputs": [],
   "source": []
  },
  {
   "cell_type": "code",
   "execution_count": null,
   "id": "cef4c546",
   "metadata": {},
   "outputs": [],
   "source": []
  }
 ],
 "metadata": {
  "kernelspec": {
   "display_name": "R",
   "language": "R",
   "name": "ir"
  },
  "language_info": {
   "codemirror_mode": "r",
   "file_extension": ".r",
   "mimetype": "text/x-r-source",
   "name": "R",
   "pygments_lexer": "r",
   "version": "3.6.1"
  }
 },
 "nbformat": 4,
 "nbformat_minor": 5
}
