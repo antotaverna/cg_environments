{
 "cells": [
  {
   "cell_type": "markdown",
   "metadata": {},
   "source": [
    "# Fracción de galaxias por grupo"
   ]
  },
  {
   "cell_type": "markdown",
   "metadata": {},
   "source": [
    "**Library**"
   ]
  },
  {
   "cell_type": "code",
   "execution_count": 1,
   "metadata": {},
   "outputs": [],
   "source": [
    "import pandas as pd\n",
    "import matplotlib.pyplot as plt"
   ]
  },
  {
   "cell_type": "code",
   "execution_count": 2,
   "metadata": {},
   "outputs": [],
   "source": [
    "def diff(list1, list2):\n",
    "    c = set(list1).union(set(list2))  # or c = set(list1) | set(list2)\n",
    "    d = set(list1).intersection(set(list2))  # or d = set(list1) & set(list2)\n",
    "    return list(c - d)"
   ]
  },
  {
   "cell_type": "markdown",
   "metadata": {},
   "source": [
    "### Galaxias en GC"
   ]
  },
  {
   "cell_type": "markdown",
   "metadata": {},
   "source": [
    "**Load**"
   ]
  },
  {
   "cell_type": "code",
   "execution_count": 3,
   "metadata": {},
   "outputs": [],
   "source": [
    "path_gal_gru = 'cg_environments/data/tab_gal_gru.dat'\n",
    "df = pd.read_table(path_gal_gru, sep=\"\\s+\", names=['ngc', 'nk', 'alg', 'delg', 'zred', 'rmag', 'gmag', 'r_abs', 'g_abs'])\n",
    "id_gc_gal_grup = df.ngc.to_list()\n",
    "\n",
    "path = 'class'\n",
    "df1 = pd.read_table(path, sep=\"\\s+\", names=['i_gru', 'n_m', 'Ra', 'dec', 'z', 'thete_g ', 'mu', 'sigv', 'r_b', 'flag',\n",
    "'rabs1', 'd_ij', 'tcr', 'rp', 'Target'])\n",
    "id_gc_class = df1.i_gru.to_list()"
   ]
  },
  {
   "cell_type": "markdown",
   "metadata": {},
   "source": [
    "**Lista de GCs descartandos por corte de Magnitud**"
   ]
  },
  {
   "cell_type": "code",
   "execution_count": 4,
   "metadata": {},
   "outputs": [],
   "source": [
    "diferencia = diff(id_gc_class, id_gc_gal_grup)\n",
    "df = df.set_index('ngc').drop(diferencia)"
   ]
  },
  {
   "cell_type": "code",
   "execution_count": 5,
   "metadata": {},
   "outputs": [],
   "source": [
    "df = df.reset_index()"
   ]
  },
  {
   "cell_type": "code",
   "execution_count": 6,
   "metadata": {},
   "outputs": [],
   "source": [
    "color = df['g_abs']-df['r_abs']\n",
    "df['color'] = color"
   ]
  },
  {
   "cell_type": "code",
   "execution_count": 7,
   "metadata": {},
   "outputs": [],
   "source": [
    "state = []\n",
    "\n",
    "for i in range(df.shape[0]):\n",
    "    if (df['color'][i] > 0.7):\n",
    "        state.append(1)\n",
    "    else:\n",
    "        state.append(0)\n",
    "    "
   ]
  },
  {
   "cell_type": "code",
   "execution_count": 8,
   "metadata": {},
   "outputs": [
    {
     "data": {
      "text/plain": [
       "[1, 0, 1]"
      ]
     },
     "execution_count": 8,
     "metadata": {},
     "output_type": "execute_result"
    }
   ],
   "source": [
    "state[:3]"
   ]
  },
  {
   "cell_type": "code",
   "execution_count": 9,
   "metadata": {},
   "outputs": [
    {
     "data": {
      "text/plain": [
       "0    0.813877\n",
       "1    0.479456\n",
       "2    0.760630\n",
       "dtype: float64"
      ]
     },
     "execution_count": 9,
     "metadata": {},
     "output_type": "execute_result"
    }
   ],
   "source": [
    "color[:3]"
   ]
  },
  {
   "cell_type": "code",
   "execution_count": 10,
   "metadata": {},
   "outputs": [],
   "source": [
    "df['state'] = state"
   ]
  },
  {
   "cell_type": "code",
   "execution_count": 11,
   "metadata": {},
   "outputs": [
    {
     "data": {
      "text/html": [
       "<div>\n",
       "<style scoped>\n",
       "    .dataframe tbody tr th:only-of-type {\n",
       "        vertical-align: middle;\n",
       "    }\n",
       "\n",
       "    .dataframe tbody tr th {\n",
       "        vertical-align: top;\n",
       "    }\n",
       "\n",
       "    .dataframe thead th {\n",
       "        text-align: right;\n",
       "    }\n",
       "</style>\n",
       "<table border=\"1\" class=\"dataframe\">\n",
       "  <thead>\n",
       "    <tr style=\"text-align: right;\">\n",
       "      <th></th>\n",
       "      <th>ngc</th>\n",
       "      <th>nk</th>\n",
       "      <th>alg</th>\n",
       "      <th>delg</th>\n",
       "      <th>zred</th>\n",
       "      <th>rmag</th>\n",
       "      <th>gmag</th>\n",
       "      <th>r_abs</th>\n",
       "      <th>g_abs</th>\n",
       "      <th>color</th>\n",
       "      <th>state</th>\n",
       "    </tr>\n",
       "  </thead>\n",
       "  <tbody>\n",
       "    <tr>\n",
       "      <th>0</th>\n",
       "      <td>1</td>\n",
       "      <td>1</td>\n",
       "      <td>114.844002</td>\n",
       "      <td>45.118000</td>\n",
       "      <td>0.079785</td>\n",
       "      <td>14.719000</td>\n",
       "      <td>15.661000</td>\n",
       "      <td>-22.374979</td>\n",
       "      <td>-21.561102</td>\n",
       "      <td>0.813877</td>\n",
       "      <td>1</td>\n",
       "    </tr>\n",
       "    <tr>\n",
       "      <th>1</th>\n",
       "      <td>1</td>\n",
       "      <td>2</td>\n",
       "      <td>114.839996</td>\n",
       "      <td>45.124001</td>\n",
       "      <td>0.077575</td>\n",
       "      <td>16.379999</td>\n",
       "      <td>16.885000</td>\n",
       "      <td>-20.607855</td>\n",
       "      <td>-20.128399</td>\n",
       "      <td>0.479456</td>\n",
       "      <td>0</td>\n",
       "    </tr>\n",
       "    <tr>\n",
       "      <th>2</th>\n",
       "      <td>1</td>\n",
       "      <td>3</td>\n",
       "      <td>114.849998</td>\n",
       "      <td>45.082001</td>\n",
       "      <td>0.078914</td>\n",
       "      <td>16.813000</td>\n",
       "      <td>17.693001</td>\n",
       "      <td>-20.251556</td>\n",
       "      <td>-19.490927</td>\n",
       "      <td>0.760630</td>\n",
       "      <td>1</td>\n",
       "    </tr>\n",
       "    <tr>\n",
       "      <th>3</th>\n",
       "      <td>1</td>\n",
       "      <td>4</td>\n",
       "      <td>114.819000</td>\n",
       "      <td>45.088001</td>\n",
       "      <td>0.077670</td>\n",
       "      <td>17.100000</td>\n",
       "      <td>17.959999</td>\n",
       "      <td>-19.926037</td>\n",
       "      <td>-19.180386</td>\n",
       "      <td>0.745651</td>\n",
       "      <td>1</td>\n",
       "    </tr>\n",
       "    <tr>\n",
       "      <th>4</th>\n",
       "      <td>2</td>\n",
       "      <td>1</td>\n",
       "      <td>116.553001</td>\n",
       "      <td>21.996000</td>\n",
       "      <td>0.045715</td>\n",
       "      <td>14.289000</td>\n",
       "      <td>15.159000</td>\n",
       "      <td>-21.512625</td>\n",
       "      <td>-20.698204</td>\n",
       "      <td>0.814421</td>\n",
       "      <td>1</td>\n",
       "    </tr>\n",
       "    <tr>\n",
       "      <th>5</th>\n",
       "      <td>2</td>\n",
       "      <td>2</td>\n",
       "      <td>116.610001</td>\n",
       "      <td>22.034000</td>\n",
       "      <td>0.047243</td>\n",
       "      <td>14.982000</td>\n",
       "      <td>15.809000</td>\n",
       "      <td>-20.894869</td>\n",
       "      <td>-20.125586</td>\n",
       "      <td>0.769283</td>\n",
       "      <td>1</td>\n",
       "    </tr>\n",
       "  </tbody>\n",
       "</table>\n",
       "</div>"
      ],
      "text/plain": [
       "   ngc  nk         alg       delg      zred       rmag       gmag      r_abs  \\\n",
       "0    1   1  114.844002  45.118000  0.079785  14.719000  15.661000 -22.374979   \n",
       "1    1   2  114.839996  45.124001  0.077575  16.379999  16.885000 -20.607855   \n",
       "2    1   3  114.849998  45.082001  0.078914  16.813000  17.693001 -20.251556   \n",
       "3    1   4  114.819000  45.088001  0.077670  17.100000  17.959999 -19.926037   \n",
       "4    2   1  116.553001  21.996000  0.045715  14.289000  15.159000 -21.512625   \n",
       "5    2   2  116.610001  22.034000  0.047243  14.982000  15.809000 -20.894869   \n",
       "\n",
       "       g_abs     color  state  \n",
       "0 -21.561102  0.813877      1  \n",
       "1 -20.128399  0.479456      0  \n",
       "2 -19.490927  0.760630      1  \n",
       "3 -19.180386  0.745651      1  \n",
       "4 -20.698204  0.814421      1  \n",
       "5 -20.125586  0.769283      1  "
      ]
     },
     "execution_count": 11,
     "metadata": {},
     "output_type": "execute_result"
    }
   ],
   "source": [
    "df.head(6)"
   ]
  },
  {
   "cell_type": "markdown",
   "metadata": {},
   "source": [
    "**Cantidad de pasivas por grupo**"
   ]
  },
  {
   "cell_type": "code",
   "execution_count": 12,
   "metadata": {},
   "outputs": [],
   "source": [
    "df_pasivas = df.groupby([\"ngc\"])[\"state\"].sum()"
   ]
  },
  {
   "cell_type": "code",
   "execution_count": 13,
   "metadata": {},
   "outputs": [
    {
     "data": {
      "text/plain": [
       "449"
      ]
     },
     "execution_count": 13,
     "metadata": {},
     "output_type": "execute_result"
    }
   ],
   "source": [
    "len(df_pasivas.values)"
   ]
  },
  {
   "cell_type": "code",
   "execution_count": 14,
   "metadata": {},
   "outputs": [
    {
     "data": {
      "text/html": [
       "<div>\n",
       "<style scoped>\n",
       "    .dataframe tbody tr th:only-of-type {\n",
       "        vertical-align: middle;\n",
       "    }\n",
       "\n",
       "    .dataframe tbody tr th {\n",
       "        vertical-align: top;\n",
       "    }\n",
       "\n",
       "    .dataframe thead th {\n",
       "        text-align: right;\n",
       "    }\n",
       "</style>\n",
       "<table border=\"1\" class=\"dataframe\">\n",
       "  <thead>\n",
       "    <tr style=\"text-align: right;\">\n",
       "      <th></th>\n",
       "      <th>ngc</th>\n",
       "      <th>state</th>\n",
       "    </tr>\n",
       "  </thead>\n",
       "  <tbody>\n",
       "    <tr>\n",
       "      <th>0</th>\n",
       "      <td>1</td>\n",
       "      <td>3</td>\n",
       "    </tr>\n",
       "    <tr>\n",
       "      <th>1</th>\n",
       "      <td>2</td>\n",
       "      <td>4</td>\n",
       "    </tr>\n",
       "  </tbody>\n",
       "</table>\n",
       "</div>"
      ],
      "text/plain": [
       "   ngc  state\n",
       "0    1      3\n",
       "1    2      4"
      ]
     },
     "execution_count": 14,
     "metadata": {},
     "output_type": "execute_result"
    }
   ],
   "source": [
    "df_pasivas = df_pasivas.reset_index()\n",
    "df_pasivas.head(2)"
   ]
  },
  {
   "cell_type": "markdown",
   "metadata": {},
   "source": [
    "**Match**"
   ]
  },
  {
   "cell_type": "code",
   "execution_count": 15,
   "metadata": {},
   "outputs": [],
   "source": [
    "df1_sort = df1.sort_values('i_gru', ignore_index=True).copy()\n",
    "df_pasivas_sort = df_pasivas.sort_values('ngc', ignore_index=True).copy()"
   ]
  },
  {
   "cell_type": "code",
   "execution_count": 16,
   "metadata": {},
   "outputs": [
    {
     "data": {
      "text/html": [
       "<div>\n",
       "<style scoped>\n",
       "    .dataframe tbody tr th:only-of-type {\n",
       "        vertical-align: middle;\n",
       "    }\n",
       "\n",
       "    .dataframe tbody tr th {\n",
       "        vertical-align: top;\n",
       "    }\n",
       "\n",
       "    .dataframe thead th {\n",
       "        text-align: right;\n",
       "    }\n",
       "</style>\n",
       "<table border=\"1\" class=\"dataframe\">\n",
       "  <thead>\n",
       "    <tr style=\"text-align: right;\">\n",
       "      <th></th>\n",
       "      <th>i_gru</th>\n",
       "      <th>n_m</th>\n",
       "      <th>Ra</th>\n",
       "      <th>dec</th>\n",
       "      <th>z</th>\n",
       "      <th>thete_g</th>\n",
       "      <th>mu</th>\n",
       "      <th>sigv</th>\n",
       "      <th>r_b</th>\n",
       "      <th>flag</th>\n",
       "      <th>rabs1</th>\n",
       "      <th>d_ij</th>\n",
       "      <th>tcr</th>\n",
       "      <th>rp</th>\n",
       "      <th>Target</th>\n",
       "    </tr>\n",
       "  </thead>\n",
       "  <tbody>\n",
       "    <tr>\n",
       "      <th>0</th>\n",
       "      <td>1</td>\n",
       "      <td>4</td>\n",
       "      <td>114.842</td>\n",
       "      <td>45.103</td>\n",
       "      <td>0.078292</td>\n",
       "      <td>2.62</td>\n",
       "      <td>25.018</td>\n",
       "      <td>348.679</td>\n",
       "      <td>14.719</td>\n",
       "      <td>0</td>\n",
       "      <td>-22.375</td>\n",
       "      <td>0.143311</td>\n",
       "      <td>0.037275</td>\n",
       "      <td>87.756599</td>\n",
       "      <td>Field</td>\n",
       "    </tr>\n",
       "    <tr>\n",
       "      <th>1</th>\n",
       "      <td>2</td>\n",
       "      <td>4</td>\n",
       "      <td>116.577</td>\n",
       "      <td>22.020</td>\n",
       "      <td>0.046817</td>\n",
       "      <td>4.09</td>\n",
       "      <td>25.289</td>\n",
       "      <td>274.092</td>\n",
       "      <td>14.289</td>\n",
       "      <td>0</td>\n",
       "      <td>-21.512</td>\n",
       "      <td>0.092313</td>\n",
       "      <td>0.030544</td>\n",
       "      <td>82.543709</td>\n",
       "      <td>Loose</td>\n",
       "    </tr>\n",
       "  </tbody>\n",
       "</table>\n",
       "</div>"
      ],
      "text/plain": [
       "   i_gru  n_m       Ra     dec         z  thete_g       mu     sigv     r_b  \\\n",
       "0      1    4  114.842  45.103  0.078292      2.62  25.018  348.679  14.719   \n",
       "1      2    4  116.577  22.020  0.046817      4.09  25.289  274.092  14.289   \n",
       "\n",
       "   flag   rabs1      d_ij       tcr         rp Target  \n",
       "0     0 -22.375  0.143311  0.037275  87.756599  Field  \n",
       "1     0 -21.512  0.092313  0.030544  82.543709  Loose  "
      ]
     },
     "execution_count": 16,
     "metadata": {},
     "output_type": "execute_result"
    }
   ],
   "source": [
    "df1_sort.head(2)"
   ]
  },
  {
   "cell_type": "code",
   "execution_count": 17,
   "metadata": {},
   "outputs": [],
   "source": [
    "df_final = df1_sort.join(df_pasivas_sort)"
   ]
  },
  {
   "cell_type": "code",
   "execution_count": 18,
   "metadata": {},
   "outputs": [
    {
     "data": {
      "text/plain": [
       "(449, 17)"
      ]
     },
     "execution_count": 18,
     "metadata": {},
     "output_type": "execute_result"
    }
   ],
   "source": [
    "df_final.shape"
   ]
  },
  {
   "cell_type": "code",
   "execution_count": 19,
   "metadata": {},
   "outputs": [
    {
     "data": {
      "text/html": [
       "<div>\n",
       "<style scoped>\n",
       "    .dataframe tbody tr th:only-of-type {\n",
       "        vertical-align: middle;\n",
       "    }\n",
       "\n",
       "    .dataframe tbody tr th {\n",
       "        vertical-align: top;\n",
       "    }\n",
       "\n",
       "    .dataframe thead th {\n",
       "        text-align: right;\n",
       "    }\n",
       "</style>\n",
       "<table border=\"1\" class=\"dataframe\">\n",
       "  <thead>\n",
       "    <tr style=\"text-align: right;\">\n",
       "      <th></th>\n",
       "      <th>i_gru</th>\n",
       "      <th>n_m</th>\n",
       "      <th>Ra</th>\n",
       "      <th>dec</th>\n",
       "      <th>z</th>\n",
       "      <th>thete_g</th>\n",
       "      <th>mu</th>\n",
       "      <th>sigv</th>\n",
       "      <th>r_b</th>\n",
       "      <th>flag</th>\n",
       "      <th>rabs1</th>\n",
       "      <th>d_ij</th>\n",
       "      <th>tcr</th>\n",
       "      <th>rp</th>\n",
       "      <th>Target</th>\n",
       "      <th>ngc</th>\n",
       "      <th>state</th>\n",
       "    </tr>\n",
       "  </thead>\n",
       "  <tbody>\n",
       "    <tr>\n",
       "      <th>444</th>\n",
       "      <td>458</td>\n",
       "      <td>7</td>\n",
       "      <td>243.981</td>\n",
       "      <td>38.537</td>\n",
       "      <td>0.034782</td>\n",
       "      <td>6.091</td>\n",
       "      <td>26.202</td>\n",
       "      <td>138.779</td>\n",
       "      <td>14.577</td>\n",
       "      <td>1</td>\n",
       "      <td>-20.570</td>\n",
       "      <td>0.103047</td>\n",
       "      <td>0.067340</td>\n",
       "      <td>91.589798</td>\n",
       "      <td>Field</td>\n",
       "      <td>458</td>\n",
       "      <td>2</td>\n",
       "    </tr>\n",
       "    <tr>\n",
       "      <th>445</th>\n",
       "      <td>459</td>\n",
       "      <td>4</td>\n",
       "      <td>244.410</td>\n",
       "      <td>50.641</td>\n",
       "      <td>0.041362</td>\n",
       "      <td>4.748</td>\n",
       "      <td>25.610</td>\n",
       "      <td>552.432</td>\n",
       "      <td>14.146</td>\n",
       "      <td>1</td>\n",
       "      <td>-21.441</td>\n",
       "      <td>0.099179</td>\n",
       "      <td>0.016282</td>\n",
       "      <td>84.761040</td>\n",
       "      <td>Loose</td>\n",
       "      <td>459</td>\n",
       "      <td>3</td>\n",
       "    </tr>\n",
       "    <tr>\n",
       "      <th>446</th>\n",
       "      <td>460</td>\n",
       "      <td>5</td>\n",
       "      <td>245.283</td>\n",
       "      <td>13.159</td>\n",
       "      <td>0.034352</td>\n",
       "      <td>3.715</td>\n",
       "      <td>24.912</td>\n",
       "      <td>247.585</td>\n",
       "      <td>14.328</td>\n",
       "      <td>1</td>\n",
       "      <td>-20.778</td>\n",
       "      <td>0.079042</td>\n",
       "      <td>0.028953</td>\n",
       "      <td>55.171383</td>\n",
       "      <td>Loose</td>\n",
       "      <td>460</td>\n",
       "      <td>2</td>\n",
       "    </tr>\n",
       "    <tr>\n",
       "      <th>447</th>\n",
       "      <td>461</td>\n",
       "      <td>4</td>\n",
       "      <td>247.547</td>\n",
       "      <td>36.247</td>\n",
       "      <td>0.075265</td>\n",
       "      <td>3.671</td>\n",
       "      <td>25.664</td>\n",
       "      <td>383.398</td>\n",
       "      <td>14.479</td>\n",
       "      <td>1</td>\n",
       "      <td>-22.477</td>\n",
       "      <td>0.160493</td>\n",
       "      <td>0.037964</td>\n",
       "      <td>118.280334</td>\n",
       "      <td>Field</td>\n",
       "      <td>461</td>\n",
       "      <td>3</td>\n",
       "    </tr>\n",
       "    <tr>\n",
       "      <th>448</th>\n",
       "      <td>462</td>\n",
       "      <td>5</td>\n",
       "      <td>250.332</td>\n",
       "      <td>13.424</td>\n",
       "      <td>0.050796</td>\n",
       "      <td>4.130</td>\n",
       "      <td>24.858</td>\n",
       "      <td>268.188</td>\n",
       "      <td>13.764</td>\n",
       "      <td>1</td>\n",
       "      <td>-22.276</td>\n",
       "      <td>0.112063</td>\n",
       "      <td>0.037895</td>\n",
       "      <td>90.346329</td>\n",
       "      <td>Loose</td>\n",
       "      <td>462</td>\n",
       "      <td>5</td>\n",
       "    </tr>\n",
       "  </tbody>\n",
       "</table>\n",
       "</div>"
      ],
      "text/plain": [
       "     i_gru  n_m       Ra     dec         z  thete_g       mu     sigv     r_b  \\\n",
       "444    458    7  243.981  38.537  0.034782     6.091  26.202  138.779  14.577   \n",
       "445    459    4  244.410  50.641  0.041362     4.748  25.610  552.432  14.146   \n",
       "446    460    5  245.283  13.159  0.034352     3.715  24.912  247.585  14.328   \n",
       "447    461    4  247.547  36.247  0.075265     3.671  25.664  383.398  14.479   \n",
       "448    462    5  250.332  13.424  0.050796     4.130  24.858  268.188  13.764   \n",
       "\n",
       "     flag   rabs1      d_ij       tcr          rp Target  ngc  state  \n",
       "444     1 -20.570  0.103047  0.067340   91.589798  Field  458      2  \n",
       "445     1 -21.441  0.099179  0.016282   84.761040  Loose  459      3  \n",
       "446     1 -20.778  0.079042  0.028953   55.171383  Loose  460      2  \n",
       "447     1 -22.477  0.160493  0.037964  118.280334  Field  461      3  \n",
       "448     1 -22.276  0.112063  0.037895   90.346329  Loose  462      5  "
      ]
     },
     "execution_count": 19,
     "metadata": {},
     "output_type": "execute_result"
    }
   ],
   "source": [
    "df_final.tail()"
   ]
  },
  {
   "cell_type": "code",
   "execution_count": 20,
   "metadata": {},
   "outputs": [
    {
     "data": {
      "text/plain": [
       "0.75"
      ]
     },
     "execution_count": 20,
     "metadata": {},
     "output_type": "execute_result"
    }
   ],
   "source": [
    "df_final['state'].iloc[0]/df_final['n_m'].iloc[0]"
   ]
  },
  {
   "cell_type": "code",
   "execution_count": 21,
   "metadata": {},
   "outputs": [],
   "source": [
    "frecuencia = []\n",
    "for i in range(df_final.shape[0]):\n",
    "    frac = df_final.state.iloc[i]/df_final.n_m.iloc[i]\n",
    "    frecuencia.append(frac)"
   ]
  },
  {
   "cell_type": "code",
   "execution_count": 22,
   "metadata": {},
   "outputs": [],
   "source": [
    "df_final['frac'] = frecuencia"
   ]
  },
  {
   "cell_type": "code",
   "execution_count": 23,
   "metadata": {},
   "outputs": [
    {
     "data": {
      "text/plain": [
       "['Node', 'FIl', 'Loose', 'Field', 'Voids']"
      ]
     },
     "execution_count": 23,
     "metadata": {},
     "output_type": "execute_result"
    }
   ],
   "source": [
    "clases = list(set(df_final.Target))\n",
    "clases"
   ]
  },
  {
   "cell_type": "code",
   "execution_count": 24,
   "metadata": {},
   "outputs": [
    {
     "data": {
      "text/plain": [
       "<matplotlib.axes._subplots.AxesSubplot at 0x7f99356297c0>"
      ]
     },
     "execution_count": 24,
     "metadata": {},
     "output_type": "execute_result"
    },
    {
     "data": {
      "image/png": "[encoded data removed]",
      "text/plain": [
       "<Figure size 432x288 with 1 Axes>"
      ]
     },
     "metadata": {
      "needs_background": "light"
     },
     "output_type": "display_data"
    }
   ],
   "source": [
    "df_final.frac.hist()"
   ]
  },
  {
   "cell_type": "code",
   "execution_count": 25,
   "metadata": {},
   "outputs": [
    {
     "data": {
      "image/png": "[encoded data removed]",
      "text/plain": [
       "<Figure size 432x288 with 1 Axes>"
      ]
     },
     "metadata": {
      "needs_background": "light"
     },
     "output_type": "display_data"
    },
    {
     "data": {
      "image/png": "[encoded data removed]",
      "text/plain": [
       "<Figure size 432x288 with 1 Axes>"
      ]
     },
     "metadata": {
      "needs_background": "light"
     },
     "output_type": "display_data"
    },
    {
     "data": {
      "image/png": "[encoded data removed]",
      "text/plain": [
       "<Figure size 432x288 with 1 Axes>"
      ]
     },
     "metadata": {
      "needs_background": "light"
     },
     "output_type": "display_data"
    },
    {
     "data": {
      "image/png": "[encoded data removed]",
      "text/plain": [
       "<Figure size 432x288 with 1 Axes>"
      ]
     },
     "metadata": {
      "needs_background": "light"
     },
     "output_type": "display_data"
    },
    {
     "data": {
      "image/png": "[encoded data removed]",
      "text/plain": [
       "<Figure size 432x288 with 1 Axes>"
      ]
     },
     "metadata": {
      "needs_background": "light"
     },
     "output_type": "display_data"
    }
   ],
   "source": [
    "for entorno in clases:\n",
    "    df_final[df_final['Target']==entorno].frac.hist()\n",
    "    plt.title(entorno)\n",
    "    plt.show()"
   ]
  },
  {
   "cell_type": "code",
   "execution_count": 26,
   "metadata": {},
   "outputs": [
    {
     "data": {
      "image/png": "[encoded data removed]",
      "text/plain": [
       "<Figure size 720x576 with 1 Axes>"
      ]
     },
     "metadata": {
      "needs_background": "light"
     },
     "output_type": "display_data"
    },
    {
     "data": {
      "image/png": "[encoded data removed]",
      "text/plain": [
       "<Figure size 720x576 with 1 Axes>"
      ]
     },
     "metadata": {
      "needs_background": "light"
     },
     "output_type": "display_data"
    },
    {
     "data": {
      "image/png": "[encoded data removed]",
      "text/plain": [
       "<Figure size 720x576 with 1 Axes>"
      ]
     },
     "metadata": {
      "needs_background": "light"
     },
     "output_type": "display_data"
    },
    {
     "data": {
      "image/png": "[encoded data removed]",
      "text/plain": [
       "<Figure size 720x576 with 1 Axes>"
      ]
     },
     "metadata": {
      "needs_background": "light"
     },
     "output_type": "display_data"
    },
    {
     "data": {
      "image/png": "[encoded data removed]",
      "text/plain": [
       "<Figure size 720x576 with 1 Axes>"
      ]
     },
     "metadata": {
      "needs_background": "light"
     },
     "output_type": "display_data"
    }
   ],
   "source": [
    "import matplotlib\n",
    "matplotlib.rcParams['figure.figsize'] = 10, 8\n",
    "import seaborn as sns\n",
    "\n",
    "for entorno in clases:\n",
    "    df_bar = df_final[df_final['Target']==entorno].sort_values('frac')\n",
    "    ax = sns.countplot(x=\"frac\", data= df_bar, )\n",
    "    ax.set_xticklabels(ax.get_xticklabels(), rotation=70, ha=\"right\")\n",
    "    sns.despine()\n",
    "    plt.title(entorno)\n",
    "    plt.show()"
   ]
  },
  {
   "cell_type": "code",
   "execution_count": 30,
   "metadata": {},
   "outputs": [
    {
     "data": {
      "text/plain": [
       "['Node', 'FIl', 'Loose', 'Field', 'Voids']"
      ]
     },
     "execution_count": 30,
     "metadata": {},
     "output_type": "execute_result"
    }
   ],
   "source": [
    "clases"
   ]
  },
  {
   "cell_type": "code",
   "execution_count": 66,
   "metadata": {},
   "outputs": [
    {
     "data": {
      "text/plain": [
       "<Figure size 1440x5760 with 0 Axes>"
      ]
     },
     "metadata": {},
     "output_type": "display_data"
    },
    {
     "data": {
      "image/png": "[encoded data removed]",
      "text/plain": [
       "<Figure size 720x576 with 6 Axes>"
      ]
     },
     "metadata": {
      "needs_background": "light"
     },
     "output_type": "display_data"
    }
   ],
   "source": [
    "plt.figure(figsize=(20,80))\n",
    "\n",
    "\n",
    "####subfiguras\n",
    "f, ax = plt.subplots(2,3)\n",
    "\n",
    "plt.subplots_adjust(left=None, bottom=None, right=None, top=None, wspace=0.4, hspace=1.5)\n",
    "\n",
    "df_bar = df_final[df_final['Target']==clases[0]].sort_values('frac')\n",
    "sns.countplot(x=\"frac\", data= df_bar, ax=ax[0,0])\n",
    "ax[0,0].set_xticklabels(ax[0,0].get_xticklabels(), rotation=70, ha=\"right\")\n",
    "ax[0,0].set_title(clases[0])\n",
    "\n",
    "\n",
    "df_bar = df_final[df_final['Target']==clases[1]].sort_values('frac')\n",
    "sns.countplot(x=\"frac\", data= df_bar, ax=ax[0,1])\n",
    "ax[0,1].set_xticklabels(ax[0,1].get_xticklabels(), rotation=70, ha=\"right\")\n",
    "sns.despine()\n",
    "ax[0,1].set_title(clases[1])\n",
    "\n",
    "\n",
    "\n",
    "df_bar = df_final[df_final['Target']==clases[2]].sort_values('frac')\n",
    "sns.countplot(x=\"frac\", data= df_bar, ax=ax[0,2])\n",
    "ax[0,2].set_xticklabels(ax[0,2].get_xticklabels(), rotation=70, ha=\"right\")\n",
    "sns.despine()\n",
    "ax[0,2].set_title(clases[2])\n",
    "\n",
    "\n",
    "\n",
    "df_bar = df_final[df_final['Target']==clases[3]].sort_values('frac')\n",
    "sns.countplot(x=\"frac\", data= df_bar, ax=ax[1,0])\n",
    "ax[1,0].set_xticklabels(ax[1,0].get_xticklabels(), rotation=70, ha=\"right\")\n",
    "sns.despine()\n",
    "ax[1,0].set_title(clases[3])\n",
    "\n",
    "\n",
    "df_bar = df_final[df_final['Target']==clases[4]].sort_values('frac')\n",
    "sns.countplot(x=\"frac\", data= df_bar, ax=ax[1,1])\n",
    "ax[1,1].set_xticklabels(ax[1,1].get_xticklabels(), rotation=70, ha=\"right\")\n",
    "sns.despine()\n",
    "ax[1,1].set_title(clases[4])\n",
    "\n",
    "\n",
    "sns.countplot(x=\"frac\", data= df_final, ax=ax[1,2])\n",
    "ax[1,2].set_xticklabels(ax[1,2].get_xticklabels(), rotation=70, ha=\"right\")\n",
    "sns.despine()\n",
    "ax[1,2].set_title('mean')\n",
    "\n",
    "plt.savefig('hist_frac.pdf', format ='pdf',  bbox_inches='tight')\n",
    "plt.show()"
   ]
  },
  {
   "cell_type": "code",
   "execution_count": 27,
   "metadata": {},
   "outputs": [
    {
     "data": {
      "image/png": "[encoded data removed]",
      "text/plain": [
       "<Figure size 1080x288 with 1 Axes>"
      ]
     },
     "metadata": {
      "needs_background": "light"
     },
     "output_type": "display_data"
    }
   ],
   "source": [
    "df_bar = df_final.groupby([\"Target\"])[\"frac\"].mean()\n",
    "# Normalize result\n",
    "df_bar_pct = df_bar.sort_values().div(df_bar.sum(), axis=0)\n",
    "\n",
    "\n",
    "ax = df_bar_pct.plot(kind='bar', figsize=(15,4), width=0.8)\n",
    "\n",
    "for p in ax.patches:\n",
    "    width = p.get_width()\n",
    "    height = p.get_height()\n",
    "    x, y = p.get_xy() \n",
    "    ax.annotate(f'{height:.0%}', (x + width/2, y + height*1.00), ha='center')\n",
    "    \n",
    "plt.savefig('bar.eps',format='eps')"
   ]
  },
  {
   "cell_type": "code",
   "execution_count": null,
   "metadata": {},
   "outputs": [],
   "source": []
  }
 ],
 "metadata": {
  "kernelspec": {
   "display_name": "Python 3",
   "language": "python",
   "name": "python3"
  },
  "language_info": {
   "codemirror_mode": {
    "name": "ipython",
    "version": 3
   },
   "file_extension": ".py",
   "mimetype": "text/x-python",
   "name": "python",
   "nbconvert_exporter": "python",
   "pygments_lexer": "ipython3",
   "version": "3.8.3"
  }
 },
 "nbformat": 4,
 "nbformat_minor": 4
}
