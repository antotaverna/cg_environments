{
 "cells": [
  {
   "cell_type": "markdown",
   "id": "990de75a",
   "metadata": {},
   "source": [
    "# Glx in CGs  (462 cg)"
   ]
  },
  {
   "cell_type": "code",
   "execution_count": 1,
   "id": "493557d0",
   "metadata": {},
   "outputs": [],
   "source": [
    "L<-read.table(\"../data/compact_in_gg_m3_full\")\n",
    "N<-read.table(\"../data/compact_in_node_m3_full\")\n",
    "NE<-read.table(\"../data/compact_in_field_m3_full\")\n",
    "F<-read.table(\"../data/compact_in_filaments_m3_full\")\n",
    "V<-read.table(\"../data/compact_in_voids_m3_full\")\n",
    "T<-read.table(\"../data/compact_in_all\")\n",
    "\n",
    "gal_all<-read.table(\"../../catalogos/tab_gal_gru_full2.dat\")\n",
    "#gal_all<-read.table(\"../data/tab_gal_gru.dat\")\n",
    "\n",
    "colnames(L)[c(1,2,3,4,5,6,7,8,9,10,11,12,13,14,15)] <- c('igru','nmi','alcm','delcm','zmedian','radio_mins','mu','sigv','rmag_bri','flag','rabs1','dij','tcr','rp','rabs2')\n",
    "                                                                                                                                                                          \n",
    "colnames(N)[c(1,2,3,4,5,6,7,8,9,10,11,12,13,14,15)] <- c(\"igru\",'nmi','alcm','delcm','zmedian','radio_mins','mu','sigv','rmag_bri','flag','rabs1','dij','tcr','rp','rabs2')\n",
    "                                                                                                                                                                          \n",
    "colnames(NE)[c(1,2,3,4,5,6,7,8,9,10,11,12,13,14,15)] <-  c(\"igru\",'nmi','alcm','delcm','zmedian','radio_mins','mu','sigv','rmag_bri','flag','rabs1','dij','tcr','rp','rabs2')\n",
    "                                                                                                                                                                          \n",
    "colnames(F)[c(1,2,3,4,5,6,7,8,9,10,11,12,13,14,15)] <- c(\"igru\",'nmi','alcm','delcm','zmedian','radio_mins','mu','sigv','rmag_bri','flag','rabs1','dij','tcr','rp','rabs2')\n",
    "                                                                                                                                                                          \n",
    "colnames(V)[c(1,2,3,4,5,6,7,8,9,10,11,12,13,14,15,16,17)] <- c(\"igru\",'nmi','alcm','delcm','zmedian','radio_mins','mu','sigv','rmag_bri','flag','rabs1','dij','tcr','rp','rabs2','tipo','estado')\n",
    "\n",
    "colnames(gal_all)[c(1,2,3,4,5,6,7,8,9,10,11,12,13,14,15,16,17)] <-c(\"igru\", \"Nm\", \"RA\", \"Dec\", \"Redshift\", \"mag_r\", \"mag_g\", \"mag_g\", \"galid\", \"r50\", \"r90\", \"rabs\", \"gabs\", \"uabs\", \"passive\", \"early\", \"cparam\")\n",
    "#colnames(gal_all)[c(1,2,3,4,5,6,7,8,9,10,11,12,13,14,15,16)] <-c(\"igru\", \"Nm\", \"RA\", \"Dec\", \"Redshift\", \"mag_r\", \"mag_g\", \"mag_g\", \"galid\", \"r50\", \"r90\", \"rabs\", \"gabs\", \"uabs\", \"passive\", \"early\")\n",
    "\n",
    "colnames(T)[c(1,2,3,4,5,6,7,8,9,10,11,12,13,14,15,16)] <- c('igru','nmi','alcm','delcm','zmedian','radio_mins','mu','sigv','rmag_bri','flag','rabs1','dij','tcr','rp','rabs2','entorno')"
   ]
  },
  {
   "cell_type": "code",
   "execution_count": 2,
   "id": "d7ffa7b6",
   "metadata": {},
   "outputs": [
    {
     "data": {
      "text/html": [
       "<table>\n",
       "<thead><tr><th scope=col>igru</th><th scope=col>nmi</th><th scope=col>alcm</th><th scope=col>delcm</th><th scope=col>zmedian</th><th scope=col>radio_mins</th><th scope=col>mu</th><th scope=col>sigv</th><th scope=col>rmag_bri</th><th scope=col>flag</th><th scope=col>rabs1</th><th scope=col>dij</th><th scope=col>tcr</th><th scope=col>rp</th><th scope=col>rabs2</th><th scope=col>entorno</th></tr></thead>\n",
       "<tbody>\n",
       "\t<tr><td>2        </td><td>4        </td><td>116.577  </td><td>22.020   </td><td>0.046817 </td><td>4.090    </td><td>25.289   </td><td>274.092  </td><td>14.289   </td><td>0        </td><td>-21.512  </td><td>0.0923132</td><td>0.0305440</td><td>82.54371 </td><td>-20.895  </td><td>Loose    </td></tr>\n",
       "\t<tr><td>4        </td><td>5        </td><td>117.794  </td><td>50.217   </td><td>0.021810 </td><td>5.095    </td><td>23.789   </td><td>409.803  </td><td>12.839   </td><td>0        </td><td>-21.235  </td><td>0.0555815</td><td>0.0123003</td><td>48.17682 </td><td>-21.207  </td><td>Loose    </td></tr>\n",
       "</tbody>\n",
       "</table>\n"
      ],
      "text/latex": [
       "\\begin{tabular}{r|llllllllllllllll}\n",
       " igru & nmi & alcm & delcm & zmedian & radio\\_mins & mu & sigv & rmag\\_bri & flag & rabs1 & dij & tcr & rp & rabs2 & entorno\\\\\n",
       "\\hline\n",
       "\t 2         & 4         & 116.577   & 22.020    & 0.046817  & 4.090     & 25.289    & 274.092   & 14.289    & 0         & -21.512   & 0.0923132 & 0.0305440 & 82.54371  & -20.895   & Loose    \\\\\n",
       "\t 4         & 5         & 117.794   & 50.217    & 0.021810  & 5.095     & 23.789    & 409.803   & 12.839    & 0         & -21.235   & 0.0555815 & 0.0123003 & 48.17682  & -21.207   & Loose    \\\\\n",
       "\\end{tabular}\n"
      ],
      "text/markdown": [
       "\n",
       "| igru | nmi | alcm | delcm | zmedian | radio_mins | mu | sigv | rmag_bri | flag | rabs1 | dij | tcr | rp | rabs2 | entorno |\n",
       "|---|---|---|---|---|---|---|---|---|---|---|---|---|---|---|---|\n",
       "| 2         | 4         | 116.577   | 22.020    | 0.046817  | 4.090     | 25.289    | 274.092   | 14.289    | 0         | -21.512   | 0.0923132 | 0.0305440 | 82.54371  | -20.895   | Loose     |\n",
       "| 4         | 5         | 117.794   | 50.217    | 0.021810  | 5.095     | 23.789    | 409.803   | 12.839    | 0         | -21.235   | 0.0555815 | 0.0123003 | 48.17682  | -21.207   | Loose     |\n",
       "\n"
      ],
      "text/plain": [
       "  igru nmi alcm    delcm  zmedian  radio_mins mu     sigv    rmag_bri flag\n",
       "1 2    4   116.577 22.020 0.046817 4.090      25.289 274.092 14.289   0   \n",
       "2 4    5   117.794 50.217 0.021810 5.095      23.789 409.803 12.839   0   \n",
       "  rabs1   dij       tcr       rp       rabs2   entorno\n",
       "1 -21.512 0.0923132 0.0305440 82.54371 -20.895 Loose  \n",
       "2 -21.235 0.0555815 0.0123003 48.17682 -21.207 Loose  "
      ]
     },
     "metadata": {},
     "output_type": "display_data"
    },
    {
     "data": {
      "text/html": [
       "<table>\n",
       "<thead><tr><th scope=col>igru</th><th scope=col>Nm</th><th scope=col>RA</th><th scope=col>Dec</th><th scope=col>Redshift</th><th scope=col>mag_r</th><th scope=col>mag_g</th><th scope=col>mag_g</th><th scope=col>galid</th><th scope=col>r50</th><th scope=col>r90</th><th scope=col>rabs</th><th scope=col>gabs</th><th scope=col>uabs</th><th scope=col>passive</th><th scope=col>early</th><th scope=col>cparam</th></tr></thead>\n",
       "<tbody>\n",
       "\t<tr><td>1           </td><td>1           </td><td>114.844     </td><td>45.118      </td><td>0.079785    </td><td>14.719      </td><td>15.661      </td><td>18.91       </td><td>1.237664e+18</td><td>6.580098    </td><td>20.917290   </td><td>-22.38191   </td><td>-21.56168   </td><td>-19.65829   </td><td>1           </td><td>1           </td><td>3.17887     </td></tr>\n",
       "\t<tr><td>1           </td><td>2           </td><td>114.840     </td><td>45.124      </td><td>0.077575    </td><td>16.380      </td><td>16.885      </td><td>18.36       </td><td>1.237664e+18</td><td>2.361705    </td><td> 5.640143   </td><td>-20.61242   </td><td>-20.12822   </td><td>-18.97008   </td><td>0           </td><td>0           </td><td>2.38817     </td></tr>\n",
       "</tbody>\n",
       "</table>\n"
      ],
      "text/latex": [
       "\\begin{tabular}{r|lllllllllllllllll}\n",
       " igru & Nm & RA & Dec & Redshift & mag\\_r & mag\\_g & mag\\_g & galid & r50 & r90 & rabs & gabs & uabs & passive & early & cparam\\\\\n",
       "\\hline\n",
       "\t 1            & 1            & 114.844      & 45.118       & 0.079785     & 14.719       & 15.661       & 18.91        & 1.237664e+18 & 6.580098     & 20.917290    & -22.38191    & -21.56168    & -19.65829    & 1            & 1            & 3.17887     \\\\\n",
       "\t 1            & 2            & 114.840      & 45.124       & 0.077575     & 16.380       & 16.885       & 18.36        & 1.237664e+18 & 2.361705     &  5.640143    & -20.61242    & -20.12822    & -18.97008    & 0            & 0            & 2.38817     \\\\\n",
       "\\end{tabular}\n"
      ],
      "text/markdown": [
       "\n",
       "| igru | Nm | RA | Dec | Redshift | mag_r | mag_g | mag_g | galid | r50 | r90 | rabs | gabs | uabs | passive | early | cparam |\n",
       "|---|---|---|---|---|---|---|---|---|---|---|---|---|---|---|---|---|\n",
       "| 1            | 1            | 114.844      | 45.118       | 0.079785     | 14.719       | 15.661       | 18.91        | 1.237664e+18 | 6.580098     | 20.917290    | -22.38191    | -21.56168    | -19.65829    | 1            | 1            | 3.17887      |\n",
       "| 1            | 2            | 114.840      | 45.124       | 0.077575     | 16.380       | 16.885       | 18.36        | 1.237664e+18 | 2.361705     |  5.640143    | -20.61242    | -20.12822    | -18.97008    | 0            | 0            | 2.38817      |\n",
       "\n"
      ],
      "text/plain": [
       "  igru Nm RA      Dec    Redshift mag_r  mag_g  mag_g galid        r50     \n",
       "1 1    1  114.844 45.118 0.079785 14.719 15.661 18.91 1.237664e+18 6.580098\n",
       "2 1    2  114.840 45.124 0.077575 16.380 16.885 18.36 1.237664e+18 2.361705\n",
       "  r90       rabs      gabs      uabs      passive early cparam \n",
       "1 20.917290 -22.38191 -21.56168 -19.65829 1       1     3.17887\n",
       "2  5.640143 -20.61242 -20.12822 -18.97008 0       0     2.38817"
      ]
     },
     "metadata": {},
     "output_type": "display_data"
    }
   ],
   "source": [
    "head(T,2)\n",
    "head(gal_all,2)"
   ]
  },
  {
   "cell_type": "markdown",
   "id": "076872c5",
   "metadata": {},
   "source": [
    "# Glx in CG in Volume-limited sample (449 cg)"
   ]
  },
  {
   "cell_type": "code",
   "execution_count": 3,
   "id": "955e9eca",
   "metadata": {},
   "outputs": [
    {
     "data": {
      "text/html": [
       "449"
      ],
      "text/latex": [
       "449"
      ],
      "text/markdown": [
       "449"
      ],
      "text/plain": [
       "[1] 449"
      ]
     },
     "metadata": {},
     "output_type": "display_data"
    },
    {
     "data": {
      "text/html": [
       "2070"
      ],
      "text/latex": [
       "2070"
      ],
      "text/markdown": [
       "2070"
      ],
      "text/plain": [
       "[1] 2070"
      ]
     },
     "metadata": {},
     "output_type": "display_data"
    },
    {
     "data": {
      "text/html": [
       "2012"
      ],
      "text/latex": [
       "2012"
      ],
      "text/markdown": [
       "2012"
      ],
      "text/plain": [
       "[1] 2012"
      ]
     },
     "metadata": {},
     "output_type": "display_data"
    }
   ],
   "source": [
    "igru_v1 = T$igru\n",
    "length(igru_v1)\n",
    "\n",
    "gal_v1 = data.frame()\n",
    "\n",
    "for (j in 1:length(igru_v1)){\n",
    "    \n",
    "    gal = subset(gal_all, gal_all$igru ==  igru_v1[j])\n",
    "    gal_v1 <- rbind(gal_v1,gal)\n",
    "    #print(gal_v1$igru)\n",
    "}\n",
    "\n",
    "length(gal_all$igru)\n",
    "length(gal_v1$igru)"
   ]
  },
  {
   "cell_type": "code",
   "execution_count": 4,
   "id": "4f013a01",
   "metadata": {},
   "outputs": [
    {
     "data": {
      "text/html": [
       "<table>\n",
       "<thead><tr><th></th><th scope=col>igru</th><th scope=col>Nm</th><th scope=col>RA</th><th scope=col>Dec</th><th scope=col>Redshift</th><th scope=col>mag_r</th><th scope=col>mag_g</th><th scope=col>mag_g.1</th><th scope=col>galid</th><th scope=col>r50</th><th scope=col>r90</th><th scope=col>rabs</th><th scope=col>gabs</th><th scope=col>uabs</th><th scope=col>passive</th><th scope=col>early</th><th scope=col>cparam</th></tr></thead>\n",
       "<tbody>\n",
       "\t<tr><th scope=row>5</th><td>2           </td><td>1           </td><td>116.553     </td><td>21.996      </td><td>0.045715    </td><td>14.289      </td><td>15.159      </td><td>18.923      </td><td>1.237658e+18</td><td>4.118502    </td><td>14.23286    </td><td>-21.52291   </td><td>-20.69774   </td><td>-18.84521   </td><td>1           </td><td>1           </td><td>3.45583     </td></tr>\n",
       "\t<tr><th scope=row>6</th><td>2           </td><td>2           </td><td>116.610     </td><td>22.034      </td><td>0.047243    </td><td>14.982      </td><td>15.809      </td><td>20.368      </td><td>1.237660e+18</td><td>3.411490    </td><td>10.92645    </td><td>-20.90301   </td><td>-20.12568   </td><td>-18.39918   </td><td>1           </td><td>1           </td><td>3.20284     </td></tr>\n",
       "</tbody>\n",
       "</table>\n"
      ],
      "text/latex": [
       "\\begin{tabular}{r|lllllllllllllllll}\n",
       "  & igru & Nm & RA & Dec & Redshift & mag\\_r & mag\\_g & mag\\_g.1 & galid & r50 & r90 & rabs & gabs & uabs & passive & early & cparam\\\\\n",
       "\\hline\n",
       "\t5 & 2            & 1            & 116.553      & 21.996       & 0.045715     & 14.289       & 15.159       & 18.923       & 1.237658e+18 & 4.118502     & 14.23286     & -21.52291    & -20.69774    & -18.84521    & 1            & 1            & 3.45583     \\\\\n",
       "\t6 & 2            & 2            & 116.610      & 22.034       & 0.047243     & 14.982       & 15.809       & 20.368       & 1.237660e+18 & 3.411490     & 10.92645     & -20.90301    & -20.12568    & -18.39918    & 1            & 1            & 3.20284     \\\\\n",
       "\\end{tabular}\n"
      ],
      "text/markdown": [
       "\n",
       "| <!--/--> | igru | Nm | RA | Dec | Redshift | mag_r | mag_g | mag_g.1 | galid | r50 | r90 | rabs | gabs | uabs | passive | early | cparam |\n",
       "|---|---|---|---|---|---|---|---|---|---|---|---|---|---|---|---|---|---|\n",
       "| 5 | 2            | 1            | 116.553      | 21.996       | 0.045715     | 14.289       | 15.159       | 18.923       | 1.237658e+18 | 4.118502     | 14.23286     | -21.52291    | -20.69774    | -18.84521    | 1            | 1            | 3.45583      |\n",
       "| 6 | 2            | 2            | 116.610      | 22.034       | 0.047243     | 14.982       | 15.809       | 20.368       | 1.237660e+18 | 3.411490     | 10.92645     | -20.90301    | -20.12568    | -18.39918    | 1            | 1            | 3.20284      |\n",
       "\n"
      ],
      "text/plain": [
       "  igru Nm RA      Dec    Redshift mag_r  mag_g  mag_g.1 galid        r50     \n",
       "5 2    1  116.553 21.996 0.045715 14.289 15.159 18.923  1.237658e+18 4.118502\n",
       "6 2    2  116.610 22.034 0.047243 14.982 15.809 20.368  1.237660e+18 3.411490\n",
       "  r90      rabs      gabs      uabs      passive early cparam \n",
       "5 14.23286 -21.52291 -20.69774 -18.84521 1       1     3.45583\n",
       "6 10.92645 -20.90301 -20.12568 -18.39918 1       1     3.20284"
      ]
     },
     "metadata": {},
     "output_type": "display_data"
    }
   ],
   "source": [
    "head(gal_v1,2)"
   ]
  },
  {
   "cell_type": "markdown",
   "id": "12d0e8f1",
   "metadata": {},
   "source": [
    "## Plots"
   ]
  },
  {
   "cell_type": "code",
   "execution_count": 5,
   "id": "f4eaef3d",
   "metadata": {},
   "outputs": [],
   "source": [
    "library(magicaxis)"
   ]
  },
  {
   "cell_type": "code",
   "execution_count": 6,
   "id": "2b0be5e7",
   "metadata": {},
   "outputs": [],
   "source": [
    "col_ur = gal_v1$uabs - gal_v1$rabs\n",
    "c_index = gal_v1$cparam"
   ]
  },
  {
   "cell_type": "code",
   "execution_count": 7,
   "id": "b0b59bed",
   "metadata": {},
   "outputs": [
    {
     "data": {
      "image/png": "[encoded data removed]",
      "text/plain": [
       "plot without title"
      ]
     },
     "metadata": {
      "image/png": {
       "height": 420,
       "width": 420
      }
     },
     "output_type": "display_data"
    }
   ],
   "source": [
    "plot(col_ur, c_index, xlim=c(0,4), ylim=c(1,4.5), pch=16, cex=0.5\n",
    "    )\n",
    "abline(h=2.6, col='red')"
   ]
  },
  {
   "cell_type": "code",
   "execution_count": 8,
   "id": "a20d0a5f",
   "metadata": {},
   "outputs": [],
   "source": [
    "col_ur_red = subset(col_ur, gal_v1$passive==1)\n",
    "c_index_red = subset(c_index, gal_v1$passive==1)\n",
    "col_ur_blue = subset(col_ur, gal_v1$passive==0)\n",
    "c_index_blue = subset(c_index, gal_v1$passive==0)"
   ]
  },
  {
   "cell_type": "code",
   "execution_count": 9,
   "id": "e9302220",
   "metadata": {},
   "outputs": [
    {
     "data": {
      "image/png": "[encoded data removed]",
      "text/plain": [
       "plot without title"
      ]
     },
     "metadata": {
      "image/png": {
       "height": 420,
       "width": 420
      }
     },
     "output_type": "display_data"
    }
   ],
   "source": [
    "#cairo_ps(\"cparam_color_galcg.eps\")\n",
    "\n",
    "plot(col_ur_red, c_index_red, xlim=c(0.5,3.7), ylim=c(1.5,4.5), pch=16, cex=0.5, col='red',\n",
    "     xlab='u-r[mag]', ylab='C', cex.axis=1.0, cex.lab=1.5)\n",
    "points(col_ur_blue, c_index_blue, pch=16, cex=0.5, col='blue')\n",
    "\n",
    "legend('topleft', legend=c(\"Red glxs\", \"Blue glxs\", \"C=2.6\"),\n",
    "       col=c(\"red\", \"blue\",\"orange\"), lty=1:1:1, cex=1.5, bty = \"n\")\n",
    "rect(0,-4,4,2.6,col = rgb(0.5,0.5,0.5,1/8), bty='n')\n",
    "abline(h=2.6, col='darkorange', lty=2, lwd=3)\n",
    "text(3.2, 4.3,'Early-Type',cex=1.5)\n",
    "text(3.2, 1.6,'Late-Type',cex=1.5)\n",
    "#magaxis(1,majorn=5, minorn=5, tcl=0.3, ratio=0.5,labels=FALSE)\n",
    "#magaxis(2,majorn=5, minorn=5, tcl=0.3, ratio=0.5,labels=FALSE)\n",
    "#magaxis(3,majorn=5, minorn=5, tcl=0.3, ratio=0.5,labels=FALSE)\n",
    "#magaxis(4,majorn=5, minorn=5, tcl=0.3, ratio=0.5,labels=FALSE)\n",
    "#dev.off()"
   ]
  },
  {
   "cell_type": "markdown",
   "id": "8695cbfa",
   "metadata": {},
   "source": [
    "### Red + early gal in v1"
   ]
  },
  {
   "cell_type": "code",
   "execution_count": 10,
   "id": "f2cbe22b",
   "metadata": {},
   "outputs": [
    {
     "name": "stdout",
     "output_type": "stream",
     "text": [
      "[1] \"Glx en cg en V1\"\n"
     ]
    },
    {
     "data": {
      "text/html": [
       "2012"
      ],
      "text/latex": [
       "2012"
      ],
      "text/markdown": [
       "2012"
      ],
      "text/plain": [
       "[1] 2012"
      ]
     },
     "metadata": {},
     "output_type": "display_data"
    },
    {
     "name": "stdout",
     "output_type": "stream",
     "text": [
      "[1] \"Glx red + early\"\n"
     ]
    },
    {
     "data": {
      "text/html": [
       "1128"
      ],
      "text/latex": [
       "1128"
      ],
      "text/markdown": [
       "1128"
      ],
      "text/plain": [
       "[1] 1128"
      ]
     },
     "metadata": {},
     "output_type": "display_data"
    },
    {
     "name": "stdout",
     "output_type": "stream",
     "text": [
      "[1] \"% Glx red + early\"\n"
     ]
    },
    {
     "data": {
      "text/html": [
       "0,560636182902585"
      ],
      "text/latex": [
       "0,560636182902585"
      ],
      "text/markdown": [
       "0,560636182902585"
      ],
      "text/plain": [
       "[1] 0,5606362"
      ]
     },
     "metadata": {},
     "output_type": "display_data"
    }
   ],
   "source": [
    "df_red_early =  subset(gal_v1, gal_v1$passive == 1 & gal_v1$early == 1)\n",
    "\n",
    "print('Glx en cg en V1')\n",
    "length(gal_v1$igru)\n",
    "\n",
    "print('Glx red + early')\n",
    "length(df_red_early$igru)\n",
    "\n",
    "print('% Glx red + early')\n",
    "length(df_red_early$igru)/length(gal_v1$igru)"
   ]
  },
  {
   "cell_type": "code",
   "execution_count": null,
   "id": "3bd4a0d5",
   "metadata": {},
   "outputs": [],
   "source": []
  },
  {
   "cell_type": "code",
   "execution_count": null,
   "id": "d06af981",
   "metadata": {},
   "outputs": [],
   "source": []
  },
  {
   "cell_type": "code",
   "execution_count": null,
   "id": "84423326",
   "metadata": {},
   "outputs": [],
   "source": []
  },
  {
   "cell_type": "code",
   "execution_count": null,
   "id": "37946d40",
   "metadata": {},
   "outputs": [],
   "source": []
  },
  {
   "cell_type": "markdown",
   "id": "e182f767",
   "metadata": {},
   "source": [
    "# Gal in CG red"
   ]
  },
  {
   "cell_type": "code",
   "execution_count": 11,
   "id": "7b07d1ed",
   "metadata": {},
   "outputs": [
    {
     "data": {
      "text/html": [
       "<table>\n",
       "<thead><tr><th></th><th scope=col>igru</th><th scope=col>Nm</th><th scope=col>RA</th><th scope=col>Dec</th><th scope=col>Redshift</th><th scope=col>mag_r</th><th scope=col>mag_g</th><th scope=col>mag_g.1</th><th scope=col>galid</th><th scope=col>r50</th><th scope=col>r90</th><th scope=col>rabs</th><th scope=col>gabs</th><th scope=col>uabs</th><th scope=col>passive</th><th scope=col>early</th><th scope=col>cparam</th></tr></thead>\n",
       "<tbody>\n",
       "\t<tr><th scope=row>5</th><td>2           </td><td>1           </td><td>116,553     </td><td>21,996      </td><td>0,045715    </td><td>14,289      </td><td>15,159      </td><td>18,923      </td><td>1,237658e+18</td><td>4,118502    </td><td>14,23286    </td><td>-21,52291   </td><td>-20,69774   </td><td>-18,84521   </td><td>1           </td><td>1           </td><td>3,45583     </td></tr>\n",
       "\t<tr><th scope=row>6</th><td>2           </td><td>2           </td><td>116,610     </td><td>22,034      </td><td>0,047243    </td><td>14,982      </td><td>15,809      </td><td>20,368      </td><td>1,237660e+18</td><td>3,411490    </td><td>10,92645    </td><td>-20,90301   </td><td>-20,12568   </td><td>-18,39918   </td><td>1           </td><td>1           </td><td>3,20284     </td></tr>\n",
       "</tbody>\n",
       "</table>\n"
      ],
      "text/latex": [
       "\\begin{tabular}{r|lllllllllllllllll}\n",
       "  & igru & Nm & RA & Dec & Redshift & mag\\_r & mag\\_g & mag\\_g.1 & galid & r50 & r90 & rabs & gabs & uabs & passive & early & cparam\\\\\n",
       "\\hline\n",
       "\t5 & 2            & 1            & 116,553      & 21,996       & 0,045715     & 14,289       & 15,159       & 18,923       & 1,237658e+18 & 4,118502     & 14,23286     & -21,52291    & -20,69774    & -18,84521    & 1            & 1            & 3,45583     \\\\\n",
       "\t6 & 2            & 2            & 116,610      & 22,034       & 0,047243     & 14,982       & 15,809       & 20,368       & 1,237660e+18 & 3,411490     & 10,92645     & -20,90301    & -20,12568    & -18,39918    & 1            & 1            & 3,20284     \\\\\n",
       "\\end{tabular}\n"
      ],
      "text/markdown": [
       "\n",
       "| <!--/--> | igru | Nm | RA | Dec | Redshift | mag_r | mag_g | mag_g.1 | galid | r50 | r90 | rabs | gabs | uabs | passive | early | cparam |\n",
       "|---|---|---|---|---|---|---|---|---|---|---|---|---|---|---|---|---|---|\n",
       "| 5 | 2            | 1            | 116,553      | 21,996       | 0,045715     | 14,289       | 15,159       | 18,923       | 1,237658e+18 | 4,118502     | 14,23286     | -21,52291    | -20,69774    | -18,84521    | 1            | 1            | 3,45583      |\n",
       "| 6 | 2            | 2            | 116,610      | 22,034       | 0,047243     | 14,982       | 15,809       | 20,368       | 1,237660e+18 | 3,411490     | 10,92645     | -20,90301    | -20,12568    | -18,39918    | 1            | 1            | 3,20284      |\n",
       "\n"
      ],
      "text/plain": [
       "  igru Nm RA      Dec    Redshift mag_r  mag_g  mag_g.1 galid        r50     \n",
       "5 2    1  116,553 21,996 0,045715 14,289 15,159 18,923  1,237658e+18 4,118502\n",
       "6 2    2  116,610 22,034 0,047243 14,982 15,809 20,368  1,237660e+18 3,411490\n",
       "  r90      rabs      gabs      uabs      passive early cparam \n",
       "5 14,23286 -21,52291 -20,69774 -18,84521 1       1     3,45583\n",
       "6 10,92645 -20,90301 -20,12568 -18,39918 1       1     3,20284"
      ]
     },
     "metadata": {},
     "output_type": "display_data"
    }
   ],
   "source": [
    "df_red = subset(gal_v1, gal_v1$passive==1)\n",
    "head(df_red,2)"
   ]
  },
  {
   "cell_type": "code",
   "execution_count": 12,
   "id": "ba476084",
   "metadata": {},
   "outputs": [
    {
     "data": {
      "text/html": [
       "2012"
      ],
      "text/latex": [
       "2012"
      ],
      "text/markdown": [
       "2012"
      ],
      "text/plain": [
       "[1] 2012"
      ]
     },
     "metadata": {},
     "output_type": "display_data"
    },
    {
     "data": {
      "text/html": [
       "1419"
      ],
      "text/latex": [
       "1419"
      ],
      "text/markdown": [
       "1419"
      ],
      "text/plain": [
       "[1] 1419"
      ]
     },
     "metadata": {},
     "output_type": "display_data"
    }
   ],
   "source": [
    "N_tot = length(gal_v1$galid)\n",
    "N_tot\n",
    "N_red = length(df_red$galid)\n",
    "N_red"
   ]
  },
  {
   "cell_type": "markdown",
   "id": "a608f257",
   "metadata": {},
   "source": [
    "### De las 1419 glx rojas, cuantas son early?"
   ]
  },
  {
   "cell_type": "code",
   "execution_count": 13,
   "id": "09ef8690",
   "metadata": {},
   "outputs": [
    {
     "data": {
      "text/html": [
       "1128"
      ],
      "text/latex": [
       "1128"
      ],
      "text/markdown": [
       "1128"
      ],
      "text/plain": [
       "[1] 1128"
      ]
     },
     "metadata": {},
     "output_type": "display_data"
    },
    {
     "data": {
      "text/html": [
       "0,79492600422833"
      ],
      "text/latex": [
       "0,79492600422833"
      ],
      "text/markdown": [
       "0,79492600422833"
      ],
      "text/plain": [
       "[1] 0,794926"
      ]
     },
     "metadata": {},
     "output_type": "display_data"
    }
   ],
   "source": [
    "N_red_early = length(subset(df_red$igru, df_red$early == 1))\n",
    "N_red_early\n",
    "N_red_early/N_red"
   ]
  },
  {
   "cell_type": "markdown",
   "id": "d582849e",
   "metadata": {},
   "source": [
    "# Gal in CG early-type"
   ]
  },
  {
   "cell_type": "code",
   "execution_count": 14,
   "id": "363ee6b0",
   "metadata": {},
   "outputs": [
    {
     "data": {
      "text/html": [
       "<table>\n",
       "<thead><tr><th></th><th scope=col>igru</th><th scope=col>Nm</th><th scope=col>RA</th><th scope=col>Dec</th><th scope=col>Redshift</th><th scope=col>mag_r</th><th scope=col>mag_g</th><th scope=col>mag_g.1</th><th scope=col>galid</th><th scope=col>r50</th><th scope=col>r90</th><th scope=col>rabs</th><th scope=col>gabs</th><th scope=col>uabs</th><th scope=col>passive</th><th scope=col>early</th><th scope=col>cparam</th></tr></thead>\n",
       "<tbody>\n",
       "\t<tr><th scope=row>5</th><td>2           </td><td>1           </td><td>116,553     </td><td>21,996      </td><td>0,045715    </td><td>14,289      </td><td>15,159      </td><td>18,923      </td><td>1,237658e+18</td><td>4,118502    </td><td>14,23286    </td><td>-21,52291   </td><td>-20,69774   </td><td>-18,84521   </td><td>1           </td><td>1           </td><td>3,45583     </td></tr>\n",
       "\t<tr><th scope=row>6</th><td>2           </td><td>2           </td><td>116,610     </td><td>22,034      </td><td>0,047243    </td><td>14,982      </td><td>15,809      </td><td>20,368      </td><td>1,237660e+18</td><td>3,411490    </td><td>10,92645    </td><td>-20,90301   </td><td>-20,12568   </td><td>-18,39918   </td><td>1           </td><td>1           </td><td>3,20284     </td></tr>\n",
       "</tbody>\n",
       "</table>\n"
      ],
      "text/latex": [
       "\\begin{tabular}{r|lllllllllllllllll}\n",
       "  & igru & Nm & RA & Dec & Redshift & mag\\_r & mag\\_g & mag\\_g.1 & galid & r50 & r90 & rabs & gabs & uabs & passive & early & cparam\\\\\n",
       "\\hline\n",
       "\t5 & 2            & 1            & 116,553      & 21,996       & 0,045715     & 14,289       & 15,159       & 18,923       & 1,237658e+18 & 4,118502     & 14,23286     & -21,52291    & -20,69774    & -18,84521    & 1            & 1            & 3,45583     \\\\\n",
       "\t6 & 2            & 2            & 116,610      & 22,034       & 0,047243     & 14,982       & 15,809       & 20,368       & 1,237660e+18 & 3,411490     & 10,92645     & -20,90301    & -20,12568    & -18,39918    & 1            & 1            & 3,20284     \\\\\n",
       "\\end{tabular}\n"
      ],
      "text/markdown": [
       "\n",
       "| <!--/--> | igru | Nm | RA | Dec | Redshift | mag_r | mag_g | mag_g.1 | galid | r50 | r90 | rabs | gabs | uabs | passive | early | cparam |\n",
       "|---|---|---|---|---|---|---|---|---|---|---|---|---|---|---|---|---|---|\n",
       "| 5 | 2            | 1            | 116,553      | 21,996       | 0,045715     | 14,289       | 15,159       | 18,923       | 1,237658e+18 | 4,118502     | 14,23286     | -21,52291    | -20,69774    | -18,84521    | 1            | 1            | 3,45583      |\n",
       "| 6 | 2            | 2            | 116,610      | 22,034       | 0,047243     | 14,982       | 15,809       | 20,368       | 1,237660e+18 | 3,411490     | 10,92645     | -20,90301    | -20,12568    | -18,39918    | 1            | 1            | 3,20284      |\n",
       "\n"
      ],
      "text/plain": [
       "  igru Nm RA      Dec    Redshift mag_r  mag_g  mag_g.1 galid        r50     \n",
       "5 2    1  116,553 21,996 0,045715 14,289 15,159 18,923  1,237658e+18 4,118502\n",
       "6 2    2  116,610 22,034 0,047243 14,982 15,809 20,368  1,237660e+18 3,411490\n",
       "  r90      rabs      gabs      uabs      passive early cparam \n",
       "5 14,23286 -21,52291 -20,69774 -18,84521 1       1     3,45583\n",
       "6 10,92645 -20,90301 -20,12568 -18,39918 1       1     3,20284"
      ]
     },
     "metadata": {},
     "output_type": "display_data"
    }
   ],
   "source": [
    "df_early = subset(gal_v1, gal_v1$early==1)\n",
    "head(df_early,2)"
   ]
  },
  {
   "cell_type": "code",
   "execution_count": 15,
   "id": "c28fc6de",
   "metadata": {},
   "outputs": [
    {
     "data": {
      "text/html": [
       "1325"
      ],
      "text/latex": [
       "1325"
      ],
      "text/markdown": [
       "1325"
      ],
      "text/plain": [
       "[1] 1325"
      ]
     },
     "metadata": {},
     "output_type": "display_data"
    }
   ],
   "source": [
    "N_early = length(df_early$galid)\n",
    "N_early"
   ]
  },
  {
   "cell_type": "markdown",
   "id": "47ed3edc",
   "metadata": {},
   "source": [
    "### De las 1325 glx early-type, cuantas son rojas?"
   ]
  },
  {
   "cell_type": "code",
   "execution_count": 16,
   "id": "5f45f094",
   "metadata": {},
   "outputs": [
    {
     "data": {
      "text/html": [
       "1128"
      ],
      "text/latex": [
       "1128"
      ],
      "text/markdown": [
       "1128"
      ],
      "text/plain": [
       "[1] 1128"
      ]
     },
     "metadata": {},
     "output_type": "display_data"
    },
    {
     "data": {
      "text/html": [
       "0,851320754716981"
      ],
      "text/latex": [
       "0,851320754716981"
      ],
      "text/markdown": [
       "0,851320754716981"
      ],
      "text/plain": [
       "[1] 0,8513208"
      ]
     },
     "metadata": {},
     "output_type": "display_data"
    }
   ],
   "source": [
    "N_early_red = length(subset(df_early$igru, df_early$passive == 1))\n",
    "N_early_red\n",
    "N_early_red/N_early"
   ]
  },
  {
   "cell_type": "code",
   "execution_count": null,
   "id": "0e21ffe3",
   "metadata": {},
   "outputs": [],
   "source": []
  }
 ],
 "metadata": {
  "kernelspec": {
   "display_name": "R",
   "language": "R",
   "name": "ir"
  },
  "language_info": {
   "codemirror_mode": "r",
   "file_extension": ".r",
   "mimetype": "text/x-r-source",
   "name": "R",
   "pygments_lexer": "r",
   "version": "3.6.1"
  }
 },
 "nbformat": 4,
 "nbformat_minor": 5
}
