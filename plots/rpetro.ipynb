{
 "cells": [
  {
   "cell_type": "markdown",
   "metadata": {},
   "source": [
    "# Tempel  c r50 y r90"
   ]
  },
  {
   "cell_type": "code",
   "execution_count": 1,
   "metadata": {},
   "outputs": [],
   "source": [
    "df = read.table(\"../../tempel_limpio_full.dat\")\n",
    "colnames(df) <- c('galID', 'ra_rad', 'dec_rad', 'zCMB', 'rextAB', 'gextAB', 'uextAB',\n",
    "                  'rabs','gabs','uabs','r50','r90')"
   ]
  },
  {
   "cell_type": "code",
   "execution_count": 2,
   "metadata": {},
   "outputs": [
    {
     "data": {
      "text/html": [
       "<table>\n",
       "<thead><tr><th scope=col>galID</th><th scope=col>ra_rad</th><th scope=col>dec_rad</th><th scope=col>zCMB</th><th scope=col>rextAB</th><th scope=col>gextAB</th><th scope=col>uextAB</th><th scope=col>rabs</th><th scope=col>gabs</th><th scope=col>uabs</th><th scope=col>r50</th><th scope=col>r90</th></tr></thead>\n",
       "<tbody>\n",
       "\t<tr><td>1.237649e+18</td><td>4.302659    </td><td>0.006149179 </td><td>0.05236439  </td><td>17.36489    </td><td>17.82147    </td><td>18.90977    </td><td>-18.73781   </td><td>-18.27942   </td><td>-17.27946   </td><td>4.452624    </td><td>8.327925    </td></tr>\n",
       "\t<tr><td>1.237649e+18</td><td>4.309919    </td><td>0.005996814 </td><td>0.07266134  </td><td>16.85341    </td><td>17.24536    </td><td>18.35984    </td><td>-19.98522   </td><td>-19.58093   </td><td>-18.55669   </td><td>2.092882    </td><td>5.799765    </td></tr>\n",
       "\t<tr><td>1.237649e+18</td><td>4.313667    </td><td>0.007160015 </td><td>0.16412390  </td><td>16.27763    </td><td>17.52155    </td><td>19.80539    </td><td>-22.61547   </td><td>-21.72257   </td><td>-19.55359   </td><td>3.012558    </td><td>9.305360    </td></tr>\n",
       "</tbody>\n",
       "</table>\n"
      ],
      "text/latex": [
       "\\begin{tabular}{r|llllllllllll}\n",
       " galID & ra\\_rad & dec\\_rad & zCMB & rextAB & gextAB & uextAB & rabs & gabs & uabs & r50 & r90\\\\\n",
       "\\hline\n",
       "\t 1.237649e+18 & 4.302659     & 0.006149179  & 0.05236439   & 17.36489     & 17.82147     & 18.90977     & -18.73781    & -18.27942    & -17.27946    & 4.452624     & 8.327925    \\\\\n",
       "\t 1.237649e+18 & 4.309919     & 0.005996814  & 0.07266134   & 16.85341     & 17.24536     & 18.35984     & -19.98522    & -19.58093    & -18.55669    & 2.092882     & 5.799765    \\\\\n",
       "\t 1.237649e+18 & 4.313667     & 0.007160015  & 0.16412390   & 16.27763     & 17.52155     & 19.80539     & -22.61547    & -21.72257    & -19.55359    & 3.012558     & 9.305360    \\\\\n",
       "\\end{tabular}\n"
      ],
      "text/markdown": [
       "\n",
       "| galID | ra_rad | dec_rad | zCMB | rextAB | gextAB | uextAB | rabs | gabs | uabs | r50 | r90 |\n",
       "|---|---|---|---|---|---|---|---|---|---|---|---|\n",
       "| 1.237649e+18 | 4.302659     | 0.006149179  | 0.05236439   | 17.36489     | 17.82147     | 18.90977     | -18.73781    | -18.27942    | -17.27946    | 4.452624     | 8.327925     |\n",
       "| 1.237649e+18 | 4.309919     | 0.005996814  | 0.07266134   | 16.85341     | 17.24536     | 18.35984     | -19.98522    | -19.58093    | -18.55669    | 2.092882     | 5.799765     |\n",
       "| 1.237649e+18 | 4.313667     | 0.007160015  | 0.16412390   | 16.27763     | 17.52155     | 19.80539     | -22.61547    | -21.72257    | -19.55359    | 3.012558     | 9.305360     |\n",
       "\n"
      ],
      "text/plain": [
       "  galID        ra_rad   dec_rad     zCMB       rextAB   gextAB   uextAB  \n",
       "1 1.237649e+18 4.302659 0.006149179 0.05236439 17.36489 17.82147 18.90977\n",
       "2 1.237649e+18 4.309919 0.005996814 0.07266134 16.85341 17.24536 18.35984\n",
       "3 1.237649e+18 4.313667 0.007160015 0.16412390 16.27763 17.52155 19.80539\n",
       "  rabs      gabs      uabs      r50      r90     \n",
       "1 -18.73781 -18.27942 -17.27946 4.452624 8.327925\n",
       "2 -19.98522 -19.58093 -18.55669 2.092882 5.799765\n",
       "3 -22.61547 -21.72257 -19.55359 3.012558 9.305360"
      ]
     },
     "metadata": {},
     "output_type": "display_data"
    }
   ],
   "source": [
    "head(df,3)"
   ]
  },
  {
   "cell_type": "code",
   "execution_count": 3,
   "metadata": {},
   "outputs": [
    {
     "data": {
      "text/html": [
       "557559"
      ],
      "text/latex": [
       "557559"
      ],
      "text/markdown": [
       "557559"
      ],
      "text/plain": [
       "[1] 557559"
      ]
     },
     "metadata": {},
     "output_type": "display_data"
    }
   ],
   "source": [
    "length(df$galID)"
   ]
  },
  {
   "cell_type": "code",
   "execution_count": 4,
   "metadata": {},
   "outputs": [
    {
     "data": {
      "text/html": [
       "<ol class=list-inline>\n",
       "\t<li>-99.9</li>\n",
       "\t<li>125.0923</li>\n",
       "</ol>\n"
      ],
      "text/latex": [
       "\\begin{enumerate*}\n",
       "\\item -99.9\n",
       "\\item 125.0923\n",
       "\\end{enumerate*}\n"
      ],
      "text/markdown": [
       "1. -99.9\n",
       "2. 125.0923\n",
       "\n",
       "\n"
      ],
      "text/plain": [
       "[1] -99.9000 125.0923"
      ]
     },
     "metadata": {},
     "output_type": "display_data"
    }
   ],
   "source": [
    "r5 = df$r50\n",
    "r9 = df$r90\n",
    "range(r5)"
   ]
  },
  {
   "cell_type": "markdown",
   "metadata": {},
   "source": [
    "## [ dfbueno ] Seleccion de glx con r50 bien calculado"
   ]
  },
  {
   "cell_type": "code",
   "execution_count": 5,
   "metadata": {},
   "outputs": [
    {
     "data": {
      "text/html": [
       "469842"
      ],
      "text/latex": [
       "469842"
      ],
      "text/markdown": [
       "469842"
      ],
      "text/plain": [
       "[1] 469842"
      ]
     },
     "metadata": {},
     "output_type": "display_data"
    },
    {
     "data": {
      "text/html": [
       "<ol class=list-inline>\n",
       "\t<li>1.600007</li>\n",
       "\t<li>125.0923</li>\n",
       "</ol>\n"
      ],
      "text/latex": [
       "\\begin{enumerate*}\n",
       "\\item 1.600007\n",
       "\\item 125.0923\n",
       "\\end{enumerate*}\n"
      ],
      "text/markdown": [
       "1. 1.600007\n",
       "2. 125.0923\n",
       "\n",
       "\n"
      ],
      "text/plain": [
       "[1]   1.600007 125.092300"
      ]
     },
     "metadata": {},
     "output_type": "display_data"
    }
   ],
   "source": [
    "dfbueno = subset(df, df$r50 >= 1.6)\n",
    "\n",
    "length(dfbueno$r50)\n",
    "range(dfbueno$r50)"
   ]
  },
  {
   "cell_type": "markdown",
   "metadata": {},
   "source": [
    "## [ df1 ] Seleccion de glx con r50 bien calculado + mr<16  "
   ]
  },
  {
   "cell_type": "code",
   "execution_count": 6,
   "metadata": {},
   "outputs": [
    {
     "data": {
      "text/html": [
       "<ol class=list-inline>\n",
       "\t<li>1.600076</li>\n",
       "\t<li>103.4871</li>\n",
       "</ol>\n"
      ],
      "text/latex": [
       "\\begin{enumerate*}\n",
       "\\item 1.600076\n",
       "\\item 103.4871\n",
       "\\end{enumerate*}\n"
      ],
      "text/markdown": [
       "1. 1.600076\n",
       "2. 103.4871\n",
       "\n",
       "\n"
      ],
      "text/plain": [
       "[1]   1.600076 103.487100"
      ]
     },
     "metadata": {},
     "output_type": "display_data"
    },
    {
     "data": {
      "text/html": [
       "71246"
      ],
      "text/latex": [
       "71246"
      ],
      "text/markdown": [
       "71246"
      ],
      "text/plain": [
       "[1] 71246"
      ]
     },
     "metadata": {},
     "output_type": "display_data"
    }
   ],
   "source": [
    "df1 = subset(df, df$r50 > 1.6 & df$rextAB < 16 & df$r90/df$r50 < 5.0)\n",
    "range(df1$r50)\n",
    "length(df1$r50)"
   ]
  },
  {
   "cell_type": "code",
   "execution_count": 7,
   "metadata": {},
   "outputs": [
    {
     "data": {
      "text/html": [
       "<table>\n",
       "<thead><tr><th></th><th scope=col>galID</th><th scope=col>ra_rad</th><th scope=col>dec_rad</th><th scope=col>zCMB</th><th scope=col>rextAB</th><th scope=col>gextAB</th><th scope=col>uextAB</th><th scope=col>rabs</th><th scope=col>gabs</th><th scope=col>uabs</th><th scope=col>r50</th><th scope=col>r90</th></tr></thead>\n",
       "<tbody>\n",
       "\t<tr><th scope=row>4</th><td>1.237649e+18</td><td>3.520162    </td><td>-0.01895346 </td><td>0.06827128  </td><td>15.67758    </td><td>16.55221    </td><td>18.41877    </td><td>-21.05556   </td><td>-20.27490   </td><td>-18.48057   </td><td>3.728195    </td><td>11.653700   </td></tr>\n",
       "\t<tr><th scope=row>11</th><td>1.237649e+18</td><td>3.547027    </td><td>-0.02023635 </td><td>0.01367959  </td><td>13.99719    </td><td>14.56983    </td><td>15.76445    </td><td>-19.11036   </td><td>-18.53349   </td><td>-17.38972   </td><td>8.449419    </td><td>17.503450   </td></tr>\n",
       "\t<tr><th scope=row>17</th><td>1.237649e+18</td><td>3.635346    </td><td>-0.02130850 </td><td>0.07400486  </td><td>15.56765    </td><td>16.32024    </td><td>17.84108    </td><td>-21.33739   </td><td>-20.67443   </td><td>-19.19117   </td><td>3.521352    </td><td> 8.158723   </td></tr>\n",
       "</tbody>\n",
       "</table>\n"
      ],
      "text/latex": [
       "\\begin{tabular}{r|llllllllllll}\n",
       "  & galID & ra\\_rad & dec\\_rad & zCMB & rextAB & gextAB & uextAB & rabs & gabs & uabs & r50 & r90\\\\\n",
       "\\hline\n",
       "\t4 & 1.237649e+18 & 3.520162     & -0.01895346  & 0.06827128   & 15.67758     & 16.55221     & 18.41877     & -21.05556    & -20.27490    & -18.48057    & 3.728195     & 11.653700   \\\\\n",
       "\t11 & 1.237649e+18 & 3.547027     & -0.02023635  & 0.01367959   & 13.99719     & 14.56983     & 15.76445     & -19.11036    & -18.53349    & -17.38972    & 8.449419     & 17.503450   \\\\\n",
       "\t17 & 1.237649e+18 & 3.635346     & -0.02130850  & 0.07400486   & 15.56765     & 16.32024     & 17.84108     & -21.33739    & -20.67443    & -19.19117    & 3.521352     &  8.158723   \\\\\n",
       "\\end{tabular}\n"
      ],
      "text/markdown": [
       "\n",
       "| <!--/--> | galID | ra_rad | dec_rad | zCMB | rextAB | gextAB | uextAB | rabs | gabs | uabs | r50 | r90 |\n",
       "|---|---|---|---|---|---|---|---|---|---|---|---|---|\n",
       "| 4 | 1.237649e+18 | 3.520162     | -0.01895346  | 0.06827128   | 15.67758     | 16.55221     | 18.41877     | -21.05556    | -20.27490    | -18.48057    | 3.728195     | 11.653700    |\n",
       "| 11 | 1.237649e+18 | 3.547027     | -0.02023635  | 0.01367959   | 13.99719     | 14.56983     | 15.76445     | -19.11036    | -18.53349    | -17.38972    | 8.449419     | 17.503450    |\n",
       "| 17 | 1.237649e+18 | 3.635346     | -0.02130850  | 0.07400486   | 15.56765     | 16.32024     | 17.84108     | -21.33739    | -20.67443    | -19.19117    | 3.521352     |  8.158723    |\n",
       "\n"
      ],
      "text/plain": [
       "   galID        ra_rad   dec_rad     zCMB       rextAB   gextAB   uextAB  \n",
       "4  1.237649e+18 3.520162 -0.01895346 0.06827128 15.67758 16.55221 18.41877\n",
       "11 1.237649e+18 3.547027 -0.02023635 0.01367959 13.99719 14.56983 15.76445\n",
       "17 1.237649e+18 3.635346 -0.02130850 0.07400486 15.56765 16.32024 17.84108\n",
       "   rabs      gabs      uabs      r50      r90      \n",
       "4  -21.05556 -20.27490 -18.48057 3.728195 11.653700\n",
       "11 -19.11036 -18.53349 -17.38972 8.449419 17.503450\n",
       "17 -21.33739 -20.67443 -19.19117 3.521352  8.158723"
      ]
     },
     "metadata": {},
     "output_type": "display_data"
    }
   ],
   "source": [
    "head(df1,3)"
   ]
  },
  {
   "cell_type": "markdown",
   "metadata": {},
   "source": [
    "### Bines en Magnitud absoluta  \n",
    "##### (Tiene que cubir todo el rango de rabs del tempel)"
   ]
  },
  {
   "cell_type": "code",
   "execution_count": 8,
   "metadata": {},
   "outputs": [
    {
     "data": {
      "text/html": [
       "<ol class=list-inline>\n",
       "\t<li>-24.757483973264</li>\n",
       "\t<li>-8.03560281151948</li>\n",
       "</ol>\n"
      ],
      "text/latex": [
       "\\begin{enumerate*}\n",
       "\\item -24.757483973264\n",
       "\\item -8.03560281151948\n",
       "\\end{enumerate*}\n"
      ],
      "text/markdown": [
       "1. -24.757483973264\n",
       "2. -8.03560281151948\n",
       "\n",
       "\n"
      ],
      "text/plain": [
       "[1] -24.757484  -8.035603"
      ]
     },
     "metadata": {},
     "output_type": "display_data"
    }
   ],
   "source": [
    "range(df1$rabs)"
   ]
  },
  {
   "cell_type": "code",
   "execution_count": 9,
   "metadata": {},
   "outputs": [
    {
     "data": {
      "text/html": [
       "9"
      ],
      "text/latex": [
       "9"
      ],
      "text/markdown": [
       "9"
      ],
      "text/plain": [
       "[1] 9"
      ]
     },
     "metadata": {},
     "output_type": "display_data"
    }
   ],
   "source": [
    "bin = c(-25.0, -22.0, -21.5, -21.0, -20.5, -20.0, -19.5, -19.0, -5.0)\n",
    "length(bin)"
   ]
  },
  {
   "cell_type": "code",
   "execution_count": 10,
   "metadata": {},
   "outputs": [],
   "source": [
    "dfm1 = subset(df1, df1$rabs > bin[1] & df1$rabs <= bin[2])\n",
    "dfm2 = subset(df1, df1$rabs > bin[2] & df1$rabs <= bin[3])\n",
    "dfm3 = subset(df1, df1$rabs > bin[3] & df1$rabs <= bin[4])\n",
    "dfm4 = subset(df1, df1$rabs > bin[4] & df1$rabs <= bin[5])\n",
    "dfm5 = subset(df1, df1$rabs > bin[5] & df1$rabs <= bin[6])\n",
    "dfm6 = subset(df1, df1$rabs > bin[6] & df1$rabs <= bin[7])\n",
    "dfm7 = subset(df1, df1$rabs > bin[7] & df1$rabs <= bin[8])\n",
    "dfm8 = subset(df1, df1$rabs > bin[8] & df1$rabs <= bin[9])"
   ]
  },
  {
   "cell_type": "code",
   "execution_count": 11,
   "metadata": {},
   "outputs": [
    {
     "name": "stdout",
     "output_type": "stream",
     "text": [
      "[1] Glx all range= 71246         \n",
      "[1] Glx bin[]= 5870      \n",
      "[1] Glx bin[]= 10102     \n",
      "[1] Glx bin[]= 14364     \n",
      "[1] Glx bin[]= 13039     \n",
      "[1] Glx bin[]= 10228     \n",
      "[1] Glx bin[]= 7235      \n",
      "[1] Glx bin[]= 4687      \n",
      "[1] Glx bin[]= 5721      \n"
     ]
    }
   ],
   "source": [
    "C = df1$r90/df1$r50\n",
    "\n",
    "c1 = dfm1$r90/dfm1$r50\n",
    "c2 = dfm2$r90/dfm2$r50\n",
    "c3 = dfm3$r90/dfm3$r50\n",
    "c4 = dfm4$r90/dfm4$r50\n",
    "c5 = dfm5$r90/dfm5$r50\n",
    "c6 = dfm6$r90/dfm6$r50\n",
    "c7 = dfm7$r90/dfm7$r50\n",
    "c8 = dfm8$r90/dfm8$r50\n",
    "\n",
    "print(c('Glx all range=',length(C)), quote = FALSE)\n",
    "\n",
    "print(c('Glx bin[]=',length(c1)), quote = FALSE)\n",
    "print(c('Glx bin[]=',length(c2)), quote = FALSE)\n",
    "print(c('Glx bin[]=',length(c3)), quote = FALSE)\n",
    "print(c('Glx bin[]=',length(c4)), quote = FALSE)\n",
    "print(c('Glx bin[]=',length(c5)), quote = FALSE)\n",
    "print(c('Glx bin[]=',length(c6)), quote = FALSE)\n",
    "print(c('Glx bin[]=',length(c7)), quote = FALSE)\n",
    "print(c('Glx bin[]=',length(c8)), quote = FALSE)"
   ]
  },
  {
   "cell_type": "code",
   "execution_count": 12,
   "metadata": {},
   "outputs": [
    {
     "data": {
      "image/png": "[encoded data removed]",
      "text/plain": [
       "Plot with title “rango 8”"
      ]
     },
     "metadata": {
      "image/png": {
       "height": 420,
       "width": 420
      }
     },
     "output_type": "display_data"
    }
   ],
   "source": [
    "#cairo_ps(\"xx.eps\")\n",
    "par(mfrow=c(3,3))\n",
    "par(mar = c(2, 2, 2, 2))\n",
    "par(oma = c(5, 5, 2, 2))\n",
    "#par(mar = c(0, 0, 0, 0))\n",
    "#par(oma = c(5, 6, 2, 2))\n",
    "\n",
    "limx=c(1.5,4.5)\n",
    "hist(C, xlim=limx, breaks=30, main='[-23,-17]')\n",
    "\n",
    "hist(c1, xlim=limx, breaks=30, main='rango 1')\n",
    "hist(c2, xlim=limx, breaks=30, main='rango 2')\n",
    "hist(c3, xlim=limx, breaks=30, main='rango 3')\n",
    "hist(c4, xlim=limx, breaks=30, main='rango 4')\n",
    "hist(c5, xlim=limx, breaks=30, main='rango 5')\n",
    "hist(c6, xlim=limx, breaks=30, main='rango 6')\n",
    "hist(c7, xlim=limx, breaks=30, main='rango 7')\n",
    "hist(c8, xlim=limx, breaks=30, main='rango 8')"
   ]
  },
  {
   "cell_type": "code",
   "execution_count": 13,
   "metadata": {},
   "outputs": [
    {
     "data": {
      "text/html": [
       "<ol class=list-inline>\n",
       "\t<li>1,06310994169567</li>\n",
       "\t<li>4,98192289187955</li>\n",
       "</ol>\n"
      ],
      "text/latex": [
       "\\begin{enumerate*}\n",
       "\\item 1,06310994169567\n",
       "\\item 4,98192289187955\n",
       "\\end{enumerate*}\n"
      ],
      "text/markdown": [
       "1. 1,06310994169567\n",
       "2. 4,98192289187955\n",
       "\n",
       "\n"
      ],
      "text/plain": [
       "[1] 1,063110 4,981923"
      ]
     },
     "metadata": {},
     "output_type": "display_data"
    },
    {
     "data": {
      "text/html": [
       "71246"
      ],
      "text/latex": [
       "71246"
      ],
      "text/markdown": [
       "71246"
      ],
      "text/plain": [
       "[1] 71246"
      ]
     },
     "metadata": {},
     "output_type": "display_data"
    },
    {
     "data": {
      "image/png": "[encoded data removed]",
      "text/plain": [
       "Plot with title “[-25,-8]”"
      ]
     },
     "metadata": {
      "image/png": {
       "height": 420,
       "width": 420
      }
     },
     "output_type": "display_data"
    }
   ],
   "source": [
    "par(mfrow=c(1,2))\n",
    "#limx=c(1.5,4.5)\n",
    "limx=c(min(C),max(C))\n",
    "hist(C, xlim=limx, breaks=50, main='[-25,-8]')\n",
    "range(C)\n",
    "br <- seq(min(C), max(C), length = 100)\n",
    "hx = hist(C,plot=F,breaks=br)\n",
    "plot(hx$mids,hx$counts/length(C),type='l',xlim=limx)\n",
    "length(C)"
   ]
  },
  {
   "cell_type": "markdown",
   "metadata": {},
   "source": [
    "# Calculo la Acumulada"
   ]
  },
  {
   "cell_type": "code",
   "execution_count": 14,
   "metadata": {},
   "outputs": [
    {
     "data": {
      "text/plain": [
       "Empirical CDF:\t  71246 unique values with summary\n",
       "   Min. 1st Qu.  Median    Mean 3rd Qu.    Max. \n",
       "  1,063   2,403   2,837   2,777   3,155   4,982 "
      ]
     },
     "metadata": {},
     "output_type": "display_data"
    },
    {
     "data": {
      "image/png": "[encoded data removed]",
      "text/plain": [
       "Plot with title “ecdf(C)”"
      ]
     },
     "metadata": {
      "image/png": {
       "height": 420,
       "width": 420
      }
     },
     "output_type": "display_data"
    }
   ],
   "source": [
    "Fn <- ecdf(C)\n",
    "plot(Fn,ylab=\"Fn(x)\", pch = 19)\n",
    "summary(Fn)\n",
    "#plot(C,Fn(C))"
   ]
  },
  {
   "cell_type": "markdown",
   "metadata": {},
   "source": [
    "### Tabla para tirar aleatorios en [0,1] y sacar un C"
   ]
  },
  {
   "cell_type": "code",
   "execution_count": 15,
   "metadata": {},
   "outputs": [
    {
     "data": {
      "text/html": [
       "<table>\n",
       "<thead><tr><th scope=col>C</th><th scope=col>Fn.C.</th></tr></thead>\n",
       "<tbody>\n",
       "\t<tr><td>3,125829  </td><td>0,72220195</td></tr>\n",
       "\t<tr><td>2,071557  </td><td>0,06995480</td></tr>\n",
       "\t<tr><td>2,316929  </td><td>0,20040423</td></tr>\n",
       "\t<tr><td>2,109680  </td><td>0,08717682</td></tr>\n",
       "\t<tr><td>2,974762  </td><td>0,59655279</td></tr>\n",
       "</tbody>\n",
       "</table>\n"
      ],
      "text/latex": [
       "\\begin{tabular}{r|ll}\n",
       " C & Fn.C.\\\\\n",
       "\\hline\n",
       "\t 3,125829   & 0,72220195\\\\\n",
       "\t 2,071557   & 0,06995480\\\\\n",
       "\t 2,316929   & 0,20040423\\\\\n",
       "\t 2,109680   & 0,08717682\\\\\n",
       "\t 2,974762   & 0,59655279\\\\\n",
       "\\end{tabular}\n"
      ],
      "text/markdown": [
       "\n",
       "| C | Fn.C. |\n",
       "|---|---|\n",
       "| 3,125829   | 0,72220195 |\n",
       "| 2,071557   | 0,06995480 |\n",
       "| 2,316929   | 0,20040423 |\n",
       "| 2,109680   | 0,08717682 |\n",
       "| 2,974762   | 0,59655279 |\n",
       "\n"
      ],
      "text/plain": [
       "  C        Fn.C.     \n",
       "1 3,125829 0,72220195\n",
       "2 2,071557 0,06995480\n",
       "3 2,316929 0,20040423\n",
       "4 2,109680 0,08717682\n",
       "5 2,974762 0,59655279"
      ]
     },
     "metadata": {},
     "output_type": "display_data"
    }
   ],
   "source": [
    "df_c = data.frame(C, Fn(C))\n",
    "head(df_c, 5)"
   ]
  },
  {
   "cell_type": "markdown",
   "metadata": {},
   "source": [
    "## Tabla C buenos ( df_c p/ cada bin de mag )"
   ]
  },
  {
   "cell_type": "code",
   "execution_count": 16,
   "metadata": {},
   "outputs": [
    {
     "data": {
      "text/html": [
       "<table>\n",
       "<thead><tr><th scope=col>c1</th><th scope=col>Fn1.c1.</th></tr></thead>\n",
       "<tbody>\n",
       "\t<tr><td>3,249385 </td><td>0,7102215</td></tr>\n",
       "\t<tr><td>3,156295 </td><td>0,5548552</td></tr>\n",
       "</tbody>\n",
       "</table>\n"
      ],
      "text/latex": [
       "\\begin{tabular}{r|ll}\n",
       " c1 & Fn1.c1.\\\\\n",
       "\\hline\n",
       "\t 3,249385  & 0,7102215\\\\\n",
       "\t 3,156295  & 0,5548552\\\\\n",
       "\\end{tabular}\n"
      ],
      "text/markdown": [
       "\n",
       "| c1 | Fn1.c1. |\n",
       "|---|---|\n",
       "| 3,249385  | 0,7102215 |\n",
       "| 3,156295  | 0,5548552 |\n",
       "\n"
      ],
      "text/plain": [
       "  c1       Fn1.c1.  \n",
       "1 3,249385 0,7102215\n",
       "2 3,156295 0,5548552"
      ]
     },
     "metadata": {},
     "output_type": "display_data"
    }
   ],
   "source": [
    "Fn1 <- ecdf(c1)\n",
    "df_c1 = data.frame(c1, Fn1(c1))\n",
    "head(df_c1, 2)\n",
    "\n",
    "Fn2 <- ecdf(c2)\n",
    "df_c2 = data.frame(c2, Fn2(c2))\n",
    "#head(df_c2, 2)\n",
    "\n",
    "Fn3 <- ecdf(c3)\n",
    "df_c3 = data.frame(c3, Fn3(c3))\n",
    "#head(df_c3, 2)\n",
    "\n",
    "Fn4 <- ecdf(c4)\n",
    "df_c4 = data.frame(c4, Fn4(c4))\n",
    "#head(df_c4, 2)\n",
    "\n",
    "Fn5 <- ecdf(c5)\n",
    "df_c5 = data.frame(c5, Fn5(c5))\n",
    "#head(df_c5, 2)\n",
    "\n",
    "Fn6 <- ecdf(c6)\n",
    "df_c6 = data.frame(c6, Fn6(c6))\n",
    "#head(df_c6, 2)\n",
    "\n",
    "Fn7 <- ecdf(c7)\n",
    "df_c7 = data.frame(c7, Fn7(c7))\n",
    "#head(df_c7, 2)\n",
    "\n",
    "Fn8 <- ecdf(c8)\n",
    "df_c8 = data.frame(c8, Fn8(c8))\n",
    "#head(df_c8, 2)"
   ]
  },
  {
   "cell_type": "markdown",
   "metadata": {},
   "source": [
    "## [ dfmalo ] Seleccion de glx tempel c/ r50 malo"
   ]
  },
  {
   "cell_type": "code",
   "execution_count": 17,
   "metadata": {
    "scrolled": false
   },
   "outputs": [
    {
     "name": "stdout",
     "output_type": "stream",
     "text": [
      "[1] 87717\n"
     ]
    },
    {
     "data": {
      "text/html": [
       "<table>\n",
       "<thead><tr><th></th><th scope=col>galID</th><th scope=col>ra_rad</th><th scope=col>dec_rad</th><th scope=col>zCMB</th><th scope=col>rextAB</th><th scope=col>gextAB</th><th scope=col>uextAB</th><th scope=col>rabs</th><th scope=col>gabs</th><th scope=col>uabs</th><th scope=col>r50</th><th scope=col>r90</th></tr></thead>\n",
       "<tbody>\n",
       "\t<tr><th scope=row>6</th><td>1,237649e+18</td><td>3,523255    </td><td>-0,01835112 </td><td>0,08732364  </td><td>17,50251    </td><td>18,48995    </td><td>20,36814    </td><td>-19,80891   </td><td>-18,96725   </td><td>-17,14154   </td><td>1,296098    </td><td>3,602817    </td></tr>\n",
       "\t<tr><th scope=row>14</th><td>1,237649e+18</td><td>3,551010    </td><td>-0,02166187 </td><td>0,04857951  </td><td>17,64718    </td><td>18,06866    </td><td>19,17621    </td><td>-18,28660   </td><td>-17,85262   </td><td>-16,84377   </td><td>1,433536    </td><td>4,034184    </td></tr>\n",
       "\t<tr><th scope=row>16</th><td>1,237649e+18</td><td>3,623351    </td><td>-0,02089063 </td><td>0,07928925  </td><td>17,54270    </td><td>18,35945    </td><td>20,06243    </td><td>-19,53030   </td><td>-18,82049   </td><td>-17,16381   </td><td>1,291772    </td><td>3,856141    </td></tr>\n",
       "\t<tr><th scope=row>18</th><td>1,237649e+18</td><td>3,652285    </td><td>-0,01953914 </td><td>0,14824218  </td><td>16,97055    </td><td>17,99888    </td><td>19,86626    </td><td>-21,61892   </td><td>-20,84392   </td><td>-19,02611   </td><td>1,419872    </td><td>3,944045    </td></tr>\n",
       "\t<tr><th scope=row>22</th><td>1,237649e+18</td><td>3,521447    </td><td>-0,01420114 </td><td>0,07551352  </td><td>17,31019    </td><td>18,05258    </td><td>19,67716    </td><td>-19,64450   </td><td>-18,98701   </td><td>-17,41379   </td><td>1,378608    </td><td>3,359439    </td></tr>\n",
       "</tbody>\n",
       "</table>\n"
      ],
      "text/latex": [
       "\\begin{tabular}{r|llllllllllll}\n",
       "  & galID & ra\\_rad & dec\\_rad & zCMB & rextAB & gextAB & uextAB & rabs & gabs & uabs & r50 & r90\\\\\n",
       "\\hline\n",
       "\t6 & 1,237649e+18 & 3,523255     & -0,01835112  & 0,08732364   & 17,50251     & 18,48995     & 20,36814     & -19,80891    & -18,96725    & -17,14154    & 1,296098     & 3,602817    \\\\\n",
       "\t14 & 1,237649e+18 & 3,551010     & -0,02166187  & 0,04857951   & 17,64718     & 18,06866     & 19,17621     & -18,28660    & -17,85262    & -16,84377    & 1,433536     & 4,034184    \\\\\n",
       "\t16 & 1,237649e+18 & 3,623351     & -0,02089063  & 0,07928925   & 17,54270     & 18,35945     & 20,06243     & -19,53030    & -18,82049    & -17,16381    & 1,291772     & 3,856141    \\\\\n",
       "\t18 & 1,237649e+18 & 3,652285     & -0,01953914  & 0,14824218   & 16,97055     & 17,99888     & 19,86626     & -21,61892    & -20,84392    & -19,02611    & 1,419872     & 3,944045    \\\\\n",
       "\t22 & 1,237649e+18 & 3,521447     & -0,01420114  & 0,07551352   & 17,31019     & 18,05258     & 19,67716     & -19,64450    & -18,98701    & -17,41379    & 1,378608     & 3,359439    \\\\\n",
       "\\end{tabular}\n"
      ],
      "text/markdown": [
       "\n",
       "| <!--/--> | galID | ra_rad | dec_rad | zCMB | rextAB | gextAB | uextAB | rabs | gabs | uabs | r50 | r90 |\n",
       "|---|---|---|---|---|---|---|---|---|---|---|---|---|\n",
       "| 6 | 1,237649e+18 | 3,523255     | -0,01835112  | 0,08732364   | 17,50251     | 18,48995     | 20,36814     | -19,80891    | -18,96725    | -17,14154    | 1,296098     | 3,602817     |\n",
       "| 14 | 1,237649e+18 | 3,551010     | -0,02166187  | 0,04857951   | 17,64718     | 18,06866     | 19,17621     | -18,28660    | -17,85262    | -16,84377    | 1,433536     | 4,034184     |\n",
       "| 16 | 1,237649e+18 | 3,623351     | -0,02089063  | 0,07928925   | 17,54270     | 18,35945     | 20,06243     | -19,53030    | -18,82049    | -17,16381    | 1,291772     | 3,856141     |\n",
       "| 18 | 1,237649e+18 | 3,652285     | -0,01953914  | 0,14824218   | 16,97055     | 17,99888     | 19,86626     | -21,61892    | -20,84392    | -19,02611    | 1,419872     | 3,944045     |\n",
       "| 22 | 1,237649e+18 | 3,521447     | -0,01420114  | 0,07551352   | 17,31019     | 18,05258     | 19,67716     | -19,64450    | -18,98701    | -17,41379    | 1,378608     | 3,359439     |\n",
       "\n"
      ],
      "text/plain": [
       "   galID        ra_rad   dec_rad     zCMB       rextAB   gextAB   uextAB  \n",
       "6  1,237649e+18 3,523255 -0,01835112 0,08732364 17,50251 18,48995 20,36814\n",
       "14 1,237649e+18 3,551010 -0,02166187 0,04857951 17,64718 18,06866 19,17621\n",
       "16 1,237649e+18 3,623351 -0,02089063 0,07928925 17,54270 18,35945 20,06243\n",
       "18 1,237649e+18 3,652285 -0,01953914 0,14824218 16,97055 17,99888 19,86626\n",
       "22 1,237649e+18 3,521447 -0,01420114 0,07551352 17,31019 18,05258 19,67716\n",
       "   rabs      gabs      uabs      r50      r90     \n",
       "6  -19,80891 -18,96725 -17,14154 1,296098 3,602817\n",
       "14 -18,28660 -17,85262 -16,84377 1,433536 4,034184\n",
       "16 -19,53030 -18,82049 -17,16381 1,291772 3,856141\n",
       "18 -21,61892 -20,84392 -19,02611 1,419872 3,944045\n",
       "22 -19,64450 -18,98701 -17,41379 1,378608 3,359439"
      ]
     },
     "metadata": {},
     "output_type": "display_data"
    }
   ],
   "source": [
    "dfmalo = subset(df, df$r50 < 1.6)\n",
    "\n",
    "Nm = length(dfmalo$r50)\n",
    "print(Nm)\n",
    "head(dfmalo,5)"
   ]
  },
  {
   "cell_type": "markdown",
   "metadata": {},
   "source": [
    "##### Seleccionar C random para dfmalo usando df1"
   ]
  },
  {
   "cell_type": "code",
   "execution_count": 18,
   "metadata": {},
   "outputs": [
    {
     "name": "stdout",
     "output_type": "stream",
     "text": [
      "[1] Glx malas all range= 87717               \n"
     ]
    },
    {
     "data": {
      "text/html": [
       "<ol class=list-inline>\n",
       "\t<li>-4548438694,70605</li>\n",
       "\t<li>-5,65794325600281</li>\n",
       "</ol>\n"
      ],
      "text/latex": [
       "\\begin{enumerate*}\n",
       "\\item -4548438694,70605\n",
       "\\item -5,65794325600281\n",
       "\\end{enumerate*}\n"
      ],
      "text/markdown": [
       "1. -4548438694,70605\n",
       "2. -5,65794325600281\n",
       "\n",
       "\n"
      ],
      "text/plain": [
       "[1] -4,548439e+09 -5,657943e+00"
      ]
     },
     "metadata": {},
     "output_type": "display_data"
    },
    {
     "name": "stdout",
     "output_type": "stream",
     "text": [
      "[1] Glx malas bin1= 375            \n"
     ]
    },
    {
     "data": {
      "text/html": [
       "<ol class=list-inline>\n",
       "\t<li>-23,2219748100053</li>\n",
       "\t<li>-22,000450661813</li>\n",
       "</ol>\n"
      ],
      "text/latex": [
       "\\begin{enumerate*}\n",
       "\\item -23,2219748100053\n",
       "\\item -22,000450661813\n",
       "\\end{enumerate*}\n"
      ],
      "text/markdown": [
       "1. -23,2219748100053\n",
       "2. -22,000450661813\n",
       "\n",
       "\n"
      ],
      "text/plain": [
       "[1] -23,22197 -22,00045"
      ]
     },
     "metadata": {},
     "output_type": "display_data"
    },
    {
     "name": "stdout",
     "output_type": "stream",
     "text": [
      "[1] Glx malas bin2= 5003           \n"
     ]
    },
    {
     "data": {
      "text/html": [
       "<ol class=list-inline>\n",
       "\t<li>-21,9998465564199</li>\n",
       "\t<li>-21,5000210562864</li>\n",
       "</ol>\n"
      ],
      "text/latex": [
       "\\begin{enumerate*}\n",
       "\\item -21,9998465564199\n",
       "\\item -21,5000210562864\n",
       "\\end{enumerate*}\n"
      ],
      "text/markdown": [
       "1. -21,9998465564199\n",
       "2. -21,5000210562864\n",
       "\n",
       "\n"
      ],
      "text/plain": [
       "[1] -21,99985 -21,50002"
      ]
     },
     "metadata": {},
     "output_type": "display_data"
    },
    {
     "name": "stdout",
     "output_type": "stream",
     "text": [
      "[1] Glx malas bin3= 14436          \n"
     ]
    },
    {
     "data": {
      "text/html": [
       "<ol class=list-inline>\n",
       "\t<li>-99,9</li>\n",
       "\t<li>1237674655827296512</li>\n",
       "</ol>\n"
      ],
      "text/latex": [
       "\\begin{enumerate*}\n",
       "\\item -99,9\n",
       "\\item 1237674655827296512\n",
       "\\end{enumerate*}\n"
      ],
      "text/markdown": [
       "1. -99,9\n",
       "2. 1237674655827296512\n",
       "\n",
       "\n"
      ],
      "text/plain": [
       "[1] -9,990000e+01  1,237675e+18"
      ]
     },
     "metadata": {},
     "output_type": "display_data"
    },
    {
     "name": "stdout",
     "output_type": "stream",
     "text": [
      "[1] Glx malas bin4= 20791          \n"
     ]
    },
    {
     "data": {
      "text/html": [
       "<ol class=list-inline>\n",
       "\t<li>-20,999981317146</li>\n",
       "\t<li>-20,5000230756888</li>\n",
       "</ol>\n"
      ],
      "text/latex": [
       "\\begin{enumerate*}\n",
       "\\item -20,999981317146\n",
       "\\item -20,5000230756888\n",
       "\\end{enumerate*}\n"
      ],
      "text/markdown": [
       "1. -20,999981317146\n",
       "2. -20,5000230756888\n",
       "\n",
       "\n"
      ],
      "text/plain": [
       "[1] -20,99998 -20,50002"
      ]
     },
     "metadata": {},
     "output_type": "display_data"
    },
    {
     "name": "stdout",
     "output_type": "stream",
     "text": [
      "[1] Glx malas bin5= 19913          \n"
     ]
    },
    {
     "data": {
      "text/html": [
       "<ol class=list-inline>\n",
       "\t<li>-20,4999648970033</li>\n",
       "\t<li>-20,0000313406269</li>\n",
       "</ol>\n"
      ],
      "text/latex": [
       "\\begin{enumerate*}\n",
       "\\item -20,4999648970033\n",
       "\\item -20,0000313406269\n",
       "\\end{enumerate*}\n"
      ],
      "text/markdown": [
       "1. -20,4999648970033\n",
       "2. -20,0000313406269\n",
       "\n",
       "\n"
      ],
      "text/plain": [
       "[1] -20,49996 -20,00003"
      ]
     },
     "metadata": {},
     "output_type": "display_data"
    },
    {
     "name": "stdout",
     "output_type": "stream",
     "text": [
      "[1] Glx malas bin6= 14440          \n"
     ]
    },
    {
     "data": {
      "text/html": [
       "<ol class=list-inline>\n",
       "\t<li>-19,9999522698427</li>\n",
       "\t<li>-19,5000290889644</li>\n",
       "</ol>\n"
      ],
      "text/latex": [
       "\\begin{enumerate*}\n",
       "\\item -19,9999522698427\n",
       "\\item -19,5000290889644\n",
       "\\end{enumerate*}\n"
      ],
      "text/markdown": [
       "1. -19,9999522698427\n",
       "2. -19,5000290889644\n",
       "\n",
       "\n"
      ],
      "text/plain": [
       "[1] -19,99995 -19,50003"
      ]
     },
     "metadata": {},
     "output_type": "display_data"
    },
    {
     "name": "stdout",
     "output_type": "stream",
     "text": [
      "[1] Glx malas bin7= 7274           \n"
     ]
    },
    {
     "data": {
      "text/html": [
       "<ol class=list-inline>\n",
       "\t<li>-19,4999749765541</li>\n",
       "\t<li>-19,0000810747852</li>\n",
       "</ol>\n"
      ],
      "text/latex": [
       "\\begin{enumerate*}\n",
       "\\item -19,4999749765541\n",
       "\\item -19,0000810747852\n",
       "\\end{enumerate*}\n"
      ],
      "text/markdown": [
       "1. -19,4999749765541\n",
       "2. -19,0000810747852\n",
       "\n",
       "\n"
      ],
      "text/plain": [
       "[1] -19,49997 -19,00008"
      ]
     },
     "metadata": {},
     "output_type": "display_data"
    },
    {
     "name": "stdout",
     "output_type": "stream",
     "text": [
      "[1] Glx malas bin8= 5484           \n"
     ]
    },
    {
     "data": {
      "text/html": [
       "<ol class=list-inline>\n",
       "\t<li>-18,9999333255505</li>\n",
       "\t<li>-5,65794325600281</li>\n",
       "</ol>\n"
      ],
      "text/latex": [
       "\\begin{enumerate*}\n",
       "\\item -18,9999333255505\n",
       "\\item -5,65794325600281\n",
       "\\end{enumerate*}\n"
      ],
      "text/markdown": [
       "1. -18,9999333255505\n",
       "2. -5,65794325600281\n",
       "\n",
       "\n"
      ],
      "text/plain": [
       "[1] -18,999933  -5,657943"
      ]
     },
     "metadata": {},
     "output_type": "display_data"
    }
   ],
   "source": [
    "#A partir de la rabs de la glx con r50 malo saco un C.\n",
    "input = dfmalo$rabs\n",
    "\n",
    "#ist(input)\n",
    "in0 = subset(dfmalo, input >= min(input) & input <= max(input))\n",
    "in1 = subset(dfmalo, input >= bin[1] & input <= bin[2])\n",
    "in2 = subset(dfmalo, input >= bin[2] & input <= bin[3])\n",
    "in3 = subset(dfmalo, input >= bin[3] & input <= bin[4])\n",
    "in4 = subset(dfmalo, input >= bin[4] & input <= bin[5])\n",
    "in5 = subset(dfmalo, input >= bin[5] & input <= bin[6])\n",
    "in6 = subset(dfmalo, input >= bin[6] & input <= bin[7])\n",
    "in7 = subset(dfmalo, input >= bin[7] & input <= bin[8])\n",
    "in8 = subset(dfmalo, input >= bin[8] & input <= bin[9])\n",
    "\n",
    "print(c('Glx malas all range=',length(input)), quote = FALSE)\n",
    "range(input)\n",
    "print(c('Glx malas bin1=',length(in1$rabs)), quote = FALSE)\n",
    "range(in1$rabs)\n",
    "print(c('Glx malas bin2=',length(in2$rabs)), quote = FALSE)\n",
    "range(in2$rabs)\n",
    "print(c('Glx malas bin3=',length(in3$rabs)), quote = FALSE)\n",
    "range(in3)\n",
    "print(c('Glx malas bin4=',length(in4$rabs)), quote = FALSE)\n",
    "range(in4$rabs)\n",
    "print(c('Glx malas bin5=',length(in5$rabs)), quote = FALSE)\n",
    "range(in5$rabs)\n",
    "print(c('Glx malas bin6=',length(in6$rabs)), quote = FALSE)\n",
    "range(in6$rabs)\n",
    "print(c('Glx malas bin7=',length(in7$rabs)), quote = FALSE)\n",
    "range(in7$rabs)\n",
    "print(c('Glx malas bin8=',length(in8$rabs)), quote = FALSE)\n",
    "range(in8$rabs)"
   ]
  },
  {
   "cell_type": "markdown",
   "metadata": {},
   "source": [
    "### Defino mis 30 seeds"
   ]
  },
  {
   "cell_type": "code",
   "execution_count": 19,
   "metadata": {},
   "outputs": [
    {
     "data": {
      "text/html": [
       "30"
      ],
      "text/latex": [
       "30"
      ],
      "text/markdown": [
       "30"
      ],
      "text/plain": [
       "[1] 30"
      ]
     },
     "metadata": {},
     "output_type": "display_data"
    }
   ],
   "source": [
    "seed = c(46, 56, 170, 27, 80, 90, 99, 101, 2, 3, 17, 19, 32, 30, 27, 301, 406, 408,\n",
    "         64, 65, 26, 88, 5, 23, 103, 46, 22, 74, 11, 63)\n",
    "\n",
    "length(seed)"
   ]
  },
  {
   "cell_type": "raw",
   "metadata": {},
   "source": [
    "#prueba solo con dos randoms\n",
    "in0 = c(1.58, 5.65)\n",
    "C_ran = matrix(0,nrow = length(in0),ncol = length(seed))\n",
    "C_ran"
   ]
  },
  {
   "cell_type": "markdown",
   "metadata": {},
   "source": [
    "# [ Genero las 30 muestras random de C en todos los bines ] "
   ]
  },
  {
   "cell_type": "markdown",
   "metadata": {},
   "source": [
    "### bin1 = [ , ]  |    ( df_c1: tabla buenos )    |    ( in1: malos )\n",
    "### bin2 = [ , ]  |    ( df_c2: tabla buenos )    |    ( in2: malos )\n",
    "### ........\n",
    "### bin8 = [ , ]  |    ( df_c8: tabla buenos )    |    ( in8: malos )"
   ]
  },
  {
   "cell_type": "code",
   "execution_count": 20,
   "metadata": {},
   "outputs": [],
   "source": [
    "# Matriz dime=(#glx,#seeds)\n",
    "\n",
    "#------------------------------------------------------------\n",
    "#---------- BIN 1\n",
    "#------------------------------------------------------------\n",
    "C_ran1 = matrix(0,nrow = length(in1$rabs),ncol = length(seed))\n",
    "for (j in 1:length(seed)){\n",
    "    set.seed(seed[j])\n",
    "    x_ran = runif(length(in1$rabs)) #ran [0,1] len=glx in mag range\n",
    "\n",
    "\n",
    "    for (i in 1:length(in1$rabs)){\n",
    "        idx = which.min(abs(df_c1$Fn1.c1 - x_ran[i]))\n",
    "        #print(df_c$Fn.C[idx])\n",
    "        #print(df_c$Fn.C[idx-1])\n",
    "        C_ran1[i,j] = df_c1$c1[idx]\n",
    "        #print(df_c$C[idx-1])\n",
    "        #print(idx)\n",
    "        #print(df_c$C[idx])\n",
    "    }\n",
    "}\n",
    "\n",
    "#------------------------------------------------------------\n",
    "#---------- BIN 2\n",
    "#------------------------------------------------------------\n",
    "C_ran2 = matrix(0,nrow = length(in2$rabs),ncol = length(seed))\n",
    "for (j in 1:length(seed)){\n",
    "    set.seed(seed[j])\n",
    "    x_ran = runif(length(in2$rabs)) #ran [0,1] len=glx in mag range\n",
    "\n",
    "    for (i in 1:length(in2$rabs)){\n",
    "        idx = which.min(abs(df_c2$Fn2.c2 - x_ran[i]))\n",
    "        C_ran2[i,j] = df_c2$c2[idx]\n",
    "    }\n",
    "}\n",
    "\n",
    "#------------------------------------------------------------\n",
    "#---------- BIN 3\n",
    "#------------------------------------------------------------\n",
    "C_ran3 = matrix(0,nrow = length(in3$rabs),ncol = length(seed))\n",
    "for (j in 1:length(seed)){\n",
    "    set.seed(seed[j])\n",
    "    x_ran = runif(length(in3$rabs)) #ran [0,1] len=glx in mag range\n",
    "\n",
    "    for (i in 1:length(in3$rabs)){\n",
    "        idx = which.min(abs(df_c3$Fn3.c3 - x_ran[i]))\n",
    "        C_ran3[i,j] = df_c3$c3[idx]\n",
    "    }\n",
    "}\n",
    "\n",
    "#------------------------------------------------------------\n",
    "#---------- BIN 4\n",
    "#------------------------------------------------------------\n",
    "C_ran4 = matrix(0,nrow = length(in4$rabs),ncol = length(seed))\n",
    "for (j in 1:length(seed)){\n",
    "    set.seed(seed[j])\n",
    "    x_ran = runif(length(in4$rabs)) #ran [0,1] len=glx in mag range\n",
    "\n",
    "    for (i in 1:length(in4$rabs)){\n",
    "        idx = which.min(abs(df_c4$Fn4.c4 - x_ran[i]))\n",
    "        C_ran4[i,j] = df_c4$c4[idx]\n",
    "    }\n",
    "}\n",
    "\n",
    "#------------------------------------------------------------\n",
    "#---------- BIN 5\n",
    "#------------------------------------------------------------\n",
    "C_ran5 = matrix(0,nrow = length(in5$rabs),ncol = length(seed))\n",
    "for (j in 1:length(seed)){\n",
    "    set.seed(seed[j])\n",
    "    x_ran = runif(length(in5$rabs)) #ran [0,1] len=glx in mag range\n",
    "\n",
    "    for (i in 1:length(in5$rabs)){\n",
    "        idx = which.min(abs(df_c5$Fn5.c5 - x_ran[i]))\n",
    "        C_ran5[i,j] = df_c5$c5[idx]\n",
    "    }\n",
    "}\n",
    "\n",
    "#------------------------------------------------------------\n",
    "#---------- BIN 6\n",
    "#------------------------------------------------------------\n",
    "C_ran6 = matrix(0,nrow = length(in6$rabs),ncol = length(seed))\n",
    "for (j in 1:length(seed)){\n",
    "    set.seed(seed[j])\n",
    "    x_ran = runif(length(in6$rabs)) #ran [0,1] len=glx in mag range\n",
    "\n",
    "    for (i in 1:length(in6$rabs)){\n",
    "        idx = which.min(abs(df_c6$Fn6.c6 - x_ran[i]))\n",
    "        C_ran6[i,j] = df_c6$c6[idx]\n",
    "    }\n",
    "}\n",
    "\n",
    "#------------------------------------------------------------\n",
    "#---------- BIN 7\n",
    "#------------------------------------------------------------\n",
    "C_ran7 = matrix(0,nrow = length(in7$rabs),ncol = length(seed))\n",
    "for (j in 1:length(seed)){\n",
    "    set.seed(seed[j])\n",
    "    x_ran = runif(length(in7$rabs)) #ran [0,1] len=glx in mag range\n",
    "\n",
    "    for (i in 1:length(in7$rabs)){\n",
    "        idx = which.min(abs(df_c7$Fn7.c7 - x_ran[i]))\n",
    "        C_ran7[i,j] = df_c7$c7[idx]\n",
    "    }\n",
    "}\n",
    "\n",
    "#------------------------------------------------------------\n",
    "#---------- BIN 8\n",
    "#------------------------------------------------------------\n",
    "C_ran8 = matrix(0,nrow = length(in8$rabs),ncol = length(seed))\n",
    "for (j in 1:length(seed)){\n",
    "    set.seed(seed[j])\n",
    "    x_ran = runif(length(in8$rabs)) #ran [0,1] len=glx in mag range\n",
    "\n",
    "    for (i in 1:length(in8$rabs)){\n",
    "        idx = which.min(abs(df_c8$Fn8.c8 - x_ran[i]))\n",
    "        C_ran8[i,j] = df_c8$c8[idx]\n",
    "    }\n",
    "}"
   ]
  },
  {
   "cell_type": "code",
   "execution_count": 21,
   "metadata": {},
   "outputs": [
    {
     "data": {
      "text/html": [
       "<table>\n",
       "<tbody>\n",
       "\t<tr><td>2,626404</td><td>3,036012</td><td>3,523489</td><td>3,478403</td><td>3,072805</td><td>3,140429</td><td>3,175655</td><td>3,005038</td><td>2,628676</td><td>2,579550</td><td>...     </td><td>2,037510</td><td>3,043748</td><td>2,681214</td><td>3,170764</td><td>2,730145</td><td>2,626404</td><td>2,915374</td><td>3,245390</td><td>2,861040</td><td>3,384899</td></tr>\n",
       "\t<tr><td>2,790688</td><td>3,256749</td><td>2,768882</td><td>2,298278</td><td>3,160670</td><td>3,366432</td><td>2,401892</td><td>2,164981</td><td>3,244291</td><td>3,309593</td><td>...     </td><td>2,886363</td><td>2,369885</td><td>3,232912</td><td>2,749143</td><td>2,229662</td><td>2,790688</td><td>3,101719</td><td>3,106397</td><td>1,484211</td><td>2,678807</td></tr>\n",
       "</tbody>\n",
       "</table>\n"
      ],
      "text/latex": [
       "\\begin{tabular}{llllllllllllllllllllllllllllll}\n",
       "\t 2,626404 & 3,036012 & 3,523489 & 3,478403 & 3,072805 & 3,140429 & 3,175655 & 3,005038 & 2,628676 & 2,579550 & ...      & 2,037510 & 3,043748 & 2,681214 & 3,170764 & 2,730145 & 2,626404 & 2,915374 & 3,245390 & 2,861040 & 3,384899\\\\\n",
       "\t 2,790688 & 3,256749 & 2,768882 & 2,298278 & 3,160670 & 3,366432 & 2,401892 & 2,164981 & 3,244291 & 3,309593 & ...      & 2,886363 & 2,369885 & 3,232912 & 2,749143 & 2,229662 & 2,790688 & 3,101719 & 3,106397 & 1,484211 & 2,678807\\\\\n",
       "\\end{tabular}\n"
      ],
      "text/markdown": [
       "\n",
       "| 2,626404 | 3,036012 | 3,523489 | 3,478403 | 3,072805 | 3,140429 | 3,175655 | 3,005038 | 2,628676 | 2,579550 | ...      | 2,037510 | 3,043748 | 2,681214 | 3,170764 | 2,730145 | 2,626404 | 2,915374 | 3,245390 | 2,861040 | 3,384899 |\n",
       "| 2,790688 | 3,256749 | 2,768882 | 2,298278 | 3,160670 | 3,366432 | 2,401892 | 2,164981 | 3,244291 | 3,309593 | ...      | 2,886363 | 2,369885 | 3,232912 | 2,749143 | 2,229662 | 2,790688 | 3,101719 | 3,106397 | 1,484211 | 2,678807 |\n",
       "\n"
      ],
      "text/plain": [
       "     [,1]     [,2]     [,3]     [,4]     [,5]     [,6]     [,7]     [,8]    \n",
       "[1,] 2,626404 3,036012 3,523489 3,478403 3,072805 3,140429 3,175655 3,005038\n",
       "[2,] 2,790688 3,256749 2,768882 2,298278 3,160670 3,366432 2,401892 2,164981\n",
       "     [,9]     [,10]    [,11] [,12]    [,13]    [,14]    [,15]    [,16]   \n",
       "[1,] 2,628676 2,579550 ...   2,037510 3,043748 2,681214 3,170764 2,730145\n",
       "[2,] 3,244291 3,309593 ...   2,886363 2,369885 3,232912 2,749143 2,229662\n",
       "     [,17]    [,18]    [,19]    [,20]    [,21]   \n",
       "[1,] 2,626404 2,915374 3,245390 2,861040 3,384899\n",
       "[2,] 2,790688 3,101719 3,106397 1,484211 2,678807"
      ]
     },
     "metadata": {},
     "output_type": "display_data"
    },
    {
     "data": {
      "text/html": [
       "<ol class=list-inline>\n",
       "\t<li>1,38954326478163</li>\n",
       "\t<li>4,97629257116275</li>\n",
       "</ol>\n"
      ],
      "text/latex": [
       "\\begin{enumerate*}\n",
       "\\item 1,38954326478163\n",
       "\\item 4,97629257116275\n",
       "\\end{enumerate*}\n"
      ],
      "text/markdown": [
       "1. 1,38954326478163\n",
       "2. 4,97629257116275\n",
       "\n",
       "\n"
      ],
      "text/plain": [
       "[1] 1,389543 4,976293"
      ]
     },
     "metadata": {},
     "output_type": "display_data"
    },
    {
     "data": {
      "text/html": [
       "<ol class=list-inline>\n",
       "\t<li>1,06310994169567</li>\n",
       "\t<li>4,56237781478532</li>\n",
       "</ol>\n"
      ],
      "text/latex": [
       "\\begin{enumerate*}\n",
       "\\item 1,06310994169567\n",
       "\\item 4,56237781478532\n",
       "\\end{enumerate*}\n"
      ],
      "text/markdown": [
       "1. 1,06310994169567\n",
       "2. 4,56237781478532\n",
       "\n",
       "\n"
      ],
      "text/plain": [
       "[1] 1,063110 4,562378"
      ]
     },
     "metadata": {},
     "output_type": "display_data"
    },
    {
     "data": {
      "text/html": [
       "<ol class=list-inline>\n",
       "\t<li>1,30962066557066</li>\n",
       "\t<li>4,7425983100388</li>\n",
       "</ol>\n"
      ],
      "text/latex": [
       "\\begin{enumerate*}\n",
       "\\item 1,30962066557066\n",
       "\\item 4,7425983100388\n",
       "\\end{enumerate*}\n"
      ],
      "text/markdown": [
       "1. 1,30962066557066\n",
       "2. 4,7425983100388\n",
       "\n",
       "\n"
      ],
      "text/plain": [
       "[1] 1,309621 4,742598"
      ]
     },
     "metadata": {},
     "output_type": "display_data"
    },
    {
     "data": {
      "text/html": [
       "<ol class=list-inline>\n",
       "\t<li>1,42090107158424</li>\n",
       "\t<li>4,97448452209292</li>\n",
       "</ol>\n"
      ],
      "text/latex": [
       "\\begin{enumerate*}\n",
       "\\item 1,42090107158424\n",
       "\\item 4,97448452209292\n",
       "\\end{enumerate*}\n"
      ],
      "text/markdown": [
       "1. 1,42090107158424\n",
       "2. 4,97448452209292\n",
       "\n",
       "\n"
      ],
      "text/plain": [
       "[1] 1,420901 4,974485"
      ]
     },
     "metadata": {},
     "output_type": "display_data"
    },
    {
     "data": {
      "text/html": [
       "<ol class=list-inline>\n",
       "\t<li>1,11193495398284</li>\n",
       "\t<li>4,83075753572239</li>\n",
       "</ol>\n"
      ],
      "text/latex": [
       "\\begin{enumerate*}\n",
       "\\item 1,11193495398284\n",
       "\\item 4,83075753572239\n",
       "\\end{enumerate*}\n"
      ],
      "text/markdown": [
       "1. 1,11193495398284\n",
       "2. 4,83075753572239\n",
       "\n",
       "\n"
      ],
      "text/plain": [
       "[1] 1,111935 4,830758"
      ]
     },
     "metadata": {},
     "output_type": "display_data"
    },
    {
     "data": {
      "text/html": [
       "<ol class=list-inline>\n",
       "\t<li>1,17161520932549</li>\n",
       "\t<li>4,85449561993276</li>\n",
       "</ol>\n"
      ],
      "text/latex": [
       "\\begin{enumerate*}\n",
       "\\item 1,17161520932549\n",
       "\\item 4,85449561993276\n",
       "\\end{enumerate*}\n"
      ],
      "text/markdown": [
       "1. 1,17161520932549\n",
       "2. 4,85449561993276\n",
       "\n",
       "\n"
      ],
      "text/plain": [
       "[1] 1,171615 4,854496"
      ]
     },
     "metadata": {},
     "output_type": "display_data"
    },
    {
     "data": {
      "text/html": [
       "<ol class=list-inline>\n",
       "\t<li>1,33026285772224</li>\n",
       "\t<li>4,86645454272353</li>\n",
       "</ol>\n"
      ],
      "text/latex": [
       "\\begin{enumerate*}\n",
       "\\item 1,33026285772224\n",
       "\\item 4,86645454272353\n",
       "\\end{enumerate*}\n"
      ],
      "text/markdown": [
       "1. 1,33026285772224\n",
       "2. 4,86645454272353\n",
       "\n",
       "\n"
      ],
      "text/plain": [
       "[1] 1,330263 4,866455"
      ]
     },
     "metadata": {},
     "output_type": "display_data"
    },
    {
     "data": {
      "text/html": [
       "<ol class=list-inline>\n",
       "\t<li>1,23767426511165</li>\n",
       "\t<li>4,81485895495376</li>\n",
       "</ol>\n"
      ],
      "text/latex": [
       "\\begin{enumerate*}\n",
       "\\item 1,23767426511165\n",
       "\\item 4,81485895495376\n",
       "\\end{enumerate*}\n"
      ],
      "text/markdown": [
       "1. 1,23767426511165\n",
       "2. 4,81485895495376\n",
       "\n",
       "\n"
      ],
      "text/plain": [
       "[1] 1,237674 4,814859"
      ]
     },
     "metadata": {},
     "output_type": "display_data"
    }
   ],
   "source": [
    "head(C_ran1,2)\n",
    "range(C_ran1)\n",
    "range(C_ran2)\n",
    "range(C_ran3)\n",
    "range(C_ran4)\n",
    "range(C_ran5)\n",
    "range(C_ran6)\n",
    "range(C_ran7)\n",
    "range(C_ran8)"
   ]
  },
  {
   "cell_type": "markdown",
   "metadata": {},
   "source": [
    "### Ejemplo 30 muestras random [bin1]"
   ]
  },
  {
   "cell_type": "code",
   "execution_count": 22,
   "metadata": {},
   "outputs": [
    {
     "data": {
      "image/png": "[encoded data removed]",
      "text/plain": [
       "plot without title"
      ]
     },
     "metadata": {
      "image/png": {
       "height": 420,
       "width": 420
      }
     },
     "output_type": "display_data"
    }
   ],
   "source": [
    "limx=c(min(C),max(C))\n",
    "br <- seq(min(C), max(C), length = 30)\n",
    "\n",
    "#C buenos\n",
    "hc1 = hist(c1,plot=F,breaks=br)\n",
    "sample_buena = hc1$counts/length(c1)\n",
    "plot(hc1$mids,sample_buena,type='l',xlim=limx,ylim=c(0,0.27),xlab='C',ylab='N')\n",
    "\n",
    "#hc1$mids y hr1$mids son los mismos\n",
    "for (i in 1:length(seed)){\n",
    "    hr1 = hist(C_ran1[,i],plot=F,breaks=br)\n",
    "    sample_i = hr1$counts/length(C_ran1[,i])\n",
    "    points(hr1$mids,sample_i,type='s',xlim=limx,col=i)\n",
    "}"
   ]
  },
  {
   "cell_type": "markdown",
   "metadata": {},
   "source": [
    "# Test KS para las 30 muestras random contra la buena \n",
    "\n",
    "## p-value para cada muestra para c/ bin"
   ]
  },
  {
   "cell_type": "code",
   "execution_count": 23,
   "metadata": {},
   "outputs": [
    {
     "name": "stderr",
     "output_type": "stream",
     "text": [
      "Warning message in ks.test(sample_buena, sample_i):\n",
      "“cannot compute exact p-value with ties”\n",
      "Warning message in ks.test(sample_buena, sample_i):\n",
      "“cannot compute exact p-value with ties”\n",
      "Warning message in ks.test(sample_buena, sample_i):\n",
      "“cannot compute exact p-value with ties”\n",
      "Warning message in ks.test(sample_buena, sample_i):\n",
      "“cannot compute exact p-value with ties”\n",
      "Warning message in ks.test(sample_buena, sample_i):\n",
      "“cannot compute exact p-value with ties”\n",
      "Warning message in ks.test(sample_buena, sample_i):\n",
      "“cannot compute exact p-value with ties”\n",
      "Warning message in ks.test(sample_buena, sample_i):\n",
      "“cannot compute exact p-value with ties”\n",
      "Warning message in ks.test(sample_buena, sample_i):\n",
      "“cannot compute exact p-value with ties”\n",
      "Warning message in ks.test(sample_buena, sample_i):\n",
      "“cannot compute exact p-value with ties”\n",
      "Warning message in ks.test(sample_buena, sample_i):\n",
      "“cannot compute exact p-value with ties”\n",
      "Warning message in ks.test(sample_buena, sample_i):\n",
      "“cannot compute exact p-value with ties”\n",
      "Warning message in ks.test(sample_buena, sample_i):\n",
      "“cannot compute exact p-value with ties”\n",
      "Warning message in ks.test(sample_buena, sample_i):\n",
      "“cannot compute exact p-value with ties”\n",
      "Warning message in ks.test(sample_buena, sample_i):\n",
      "“cannot compute exact p-value with ties”\n",
      "Warning message in ks.test(sample_buena, sample_i):\n",
      "“cannot compute exact p-value with ties”\n",
      "Warning message in ks.test(sample_buena, sample_i):\n",
      "“cannot compute exact p-value with ties”\n",
      "Warning message in ks.test(sample_buena, sample_i):\n",
      "“cannot compute exact p-value with ties”\n",
      "Warning message in ks.test(sample_buena, sample_i):\n",
      "“cannot compute exact p-value with ties”\n",
      "Warning message in ks.test(sample_buena, sample_i):\n",
      "“cannot compute exact p-value with ties”\n",
      "Warning message in ks.test(sample_buena, sample_i):\n",
      "“cannot compute exact p-value with ties”\n",
      "Warning message in ks.test(sample_buena, sample_i):\n",
      "“cannot compute exact p-value with ties”\n",
      "Warning message in ks.test(sample_buena, sample_i):\n",
      "“cannot compute exact p-value with ties”\n",
      "Warning message in ks.test(sample_buena, sample_i):\n",
      "“cannot compute exact p-value with ties”\n",
      "Warning message in ks.test(sample_buena, sample_i):\n",
      "“cannot compute exact p-value with ties”\n",
      "Warning message in ks.test(sample_buena, sample_i):\n",
      "“cannot compute exact p-value with ties”\n",
      "Warning message in ks.test(sample_buena, sample_i):\n",
      "“cannot compute exact p-value with ties”\n",
      "Warning message in ks.test(sample_buena, sample_i):\n",
      "“cannot compute exact p-value with ties”\n",
      "Warning message in ks.test(sample_buena, sample_i):\n",
      "“cannot compute exact p-value with ties”\n",
      "Warning message in ks.test(sample_buena, sample_i):\n",
      "“cannot compute exact p-value with ties”\n",
      "Warning message in ks.test(sample_buena, sample_i):\n",
      "“cannot compute exact p-value with ties”\n",
      "Warning message in ks.test(sample_buena, sample_i):\n",
      "“cannot compute exact p-value with ties”\n",
      "Warning message in ks.test(sample_buena, sample_i):\n",
      "“cannot compute exact p-value with ties”\n",
      "Warning message in ks.test(sample_buena, sample_i):\n",
      "“cannot compute exact p-value with ties”\n",
      "Warning message in ks.test(sample_buena, sample_i):\n",
      "“cannot compute exact p-value with ties”\n",
      "Warning message in ks.test(sample_buena, sample_i):\n",
      "“cannot compute exact p-value with ties”\n",
      "Warning message in ks.test(sample_buena, sample_i):\n",
      "“cannot compute exact p-value with ties”\n",
      "Warning message in ks.test(sample_buena, sample_i):\n",
      "“cannot compute exact p-value with ties”\n",
      "Warning message in ks.test(sample_buena, sample_i):\n",
      "“cannot compute exact p-value with ties”\n",
      "Warning message in ks.test(sample_buena, sample_i):\n",
      "“cannot compute exact p-value with ties”\n",
      "Warning message in ks.test(sample_buena, sample_i):\n",
      "“cannot compute exact p-value with ties”\n",
      "Warning message in ks.test(sample_buena, sample_i):\n",
      "“cannot compute exact p-value with ties”\n",
      "Warning message in ks.test(sample_buena, sample_i):\n",
      "“cannot compute exact p-value with ties”\n",
      "Warning message in ks.test(sample_buena, sample_i):\n",
      "“cannot compute exact p-value with ties”\n",
      "Warning message in ks.test(sample_buena, sample_i):\n",
      "“cannot compute exact p-value with ties”\n",
      "Warning message in ks.test(sample_buena, sample_i):\n",
      "“cannot compute exact p-value with ties”\n",
      "Warning message in ks.test(sample_buena, sample_i):\n",
      "“cannot compute exact p-value with ties”\n",
      "Warning message in ks.test(sample_buena, sample_i):\n",
      "“cannot compute exact p-value with ties”\n",
      "Warning message in ks.test(sample_buena, sample_i):\n",
      "“cannot compute exact p-value with ties”\n",
      "Warning message in ks.test(sample_buena, sample_i):\n",
      "“cannot compute exact p-value with ties”\n",
      "Warning message in ks.test(sample_buena, sample_i):\n",
      "“cannot compute exact p-value with ties”\n",
      "Warning message in ks.test(sample_buena, sample_i):\n",
      "“cannot compute exact p-value with ties”\n",
      "Warning message in ks.test(sample_buena, sample_i):\n",
      "“cannot compute exact p-value with ties”\n",
      "Warning message in ks.test(sample_buena, sample_i):\n",
      "“cannot compute exact p-value with ties”\n",
      "Warning message in ks.test(sample_buena, sample_i):\n",
      "“cannot compute exact p-value with ties”\n",
      "Warning message in ks.test(sample_buena, sample_i):\n",
      "“cannot compute exact p-value with ties”\n",
      "Warning message in ks.test(sample_buena, sample_i):\n",
      "“cannot compute exact p-value with ties”\n",
      "Warning message in ks.test(sample_buena, sample_i):\n",
      "“cannot compute exact p-value with ties”\n",
      "Warning message in ks.test(sample_buena, sample_i):\n",
      "“cannot compute exact p-value with ties”\n",
      "Warning message in ks.test(sample_buena, sample_i):\n",
      "“cannot compute exact p-value with ties”\n",
      "Warning message in ks.test(sample_buena, sample_i):\n",
      "“cannot compute exact p-value with ties”\n",
      "Warning message in ks.test(sample_buena, sample_i):\n",
      "“cannot compute exact p-value with ties”\n",
      "Warning message in ks.test(sample_buena, sample_i):\n",
      "“cannot compute exact p-value with ties”\n",
      "Warning message in ks.test(sample_buena, sample_i):\n",
      "“cannot compute exact p-value with ties”\n",
      "Warning message in ks.test(sample_buena, sample_i):\n",
      "“cannot compute exact p-value with ties”\n",
      "Warning message in ks.test(sample_buena, sample_i):\n",
      "“cannot compute exact p-value with ties”\n",
      "Warning message in ks.test(sample_buena, sample_i):\n",
      "“cannot compute exact p-value with ties”\n",
      "Warning message in ks.test(sample_buena, sample_i):\n",
      "“cannot compute exact p-value with ties”\n",
      "Warning message in ks.test(sample_buena, sample_i):\n",
      "“cannot compute exact p-value with ties”\n",
      "Warning message in ks.test(sample_buena, sample_i):\n",
      "“cannot compute exact p-value with ties”\n",
      "Warning message in ks.test(sample_buena, sample_i):\n",
      "“cannot compute exact p-value with ties”\n",
      "Warning message in ks.test(sample_buena, sample_i):\n",
      "“cannot compute exact p-value with ties”\n",
      "Warning message in ks.test(sample_buena, sample_i):\n",
      "“cannot compute exact p-value with ties”\n",
      "Warning message in ks.test(sample_buena, sample_i):\n",
      "“cannot compute exact p-value with ties”\n",
      "Warning message in ks.test(sample_buena, sample_i):\n",
      "“cannot compute exact p-value with ties”\n",
      "Warning message in ks.test(sample_buena, sample_i):\n",
      "“cannot compute exact p-value with ties”\n",
      "Warning message in ks.test(sample_buena, sample_i):\n",
      "“cannot compute exact p-value with ties”\n",
      "Warning message in ks.test(sample_buena, sample_i):\n",
      "“cannot compute exact p-value with ties”\n",
      "Warning message in ks.test(sample_buena, sample_i):\n",
      "“cannot compute exact p-value with ties”\n",
      "Warning message in ks.test(sample_buena, sample_i):\n",
      "“cannot compute exact p-value with ties”\n",
      "Warning message in ks.test(sample_buena, sample_i):\n",
      "“cannot compute exact p-value with ties”\n",
      "Warning message in ks.test(sample_buena, sample_i):\n",
      "“cannot compute exact p-value with ties”\n",
      "Warning message in ks.test(sample_buena, sample_i):\n",
      "“cannot compute exact p-value with ties”\n",
      "Warning message in ks.test(sample_buena, sample_i):\n",
      "“cannot compute exact p-value with ties”\n",
      "Warning message in ks.test(sample_buena, sample_i):\n",
      "“cannot compute exact p-value with ties”\n",
      "Warning message in ks.test(sample_buena, sample_i):\n",
      "“cannot compute exact p-value with ties”\n",
      "Warning message in ks.test(sample_buena, sample_i):\n",
      "“cannot compute exact p-value with ties”\n",
      "Warning message in ks.test(sample_buena, sample_i):\n",
      "“cannot compute exact p-value with ties”\n",
      "Warning message in ks.test(sample_buena, sample_i):\n",
      "“cannot compute exact p-value with ties”\n",
      "Warning message in ks.test(sample_buena, sample_i):\n",
      "“cannot compute exact p-value with ties”\n"
     ]
    },
    {
     "name": "stderr",
     "output_type": "stream",
     "text": [
      "Warning message in ks.test(sample_buena, sample_i):\n",
      "“cannot compute exact p-value with ties”\n",
      "Warning message in ks.test(sample_buena, sample_i):\n",
      "“cannot compute exact p-value with ties”\n",
      "Warning message in ks.test(sample_buena, sample_i):\n",
      "“cannot compute exact p-value with ties”\n",
      "Warning message in ks.test(sample_buena, sample_i):\n",
      "“cannot compute exact p-value with ties”\n",
      "Warning message in ks.test(sample_buena, sample_i):\n",
      "“cannot compute exact p-value with ties”\n",
      "Warning message in ks.test(sample_buena, sample_i):\n",
      "“cannot compute exact p-value with ties”\n",
      "Warning message in ks.test(sample_buena, sample_i):\n",
      "“cannot compute exact p-value with ties”\n",
      "Warning message in ks.test(sample_buena, sample_i):\n",
      "“cannot compute exact p-value with ties”\n",
      "Warning message in ks.test(sample_buena, sample_i):\n",
      "“cannot compute exact p-value with ties”\n",
      "Warning message in ks.test(sample_buena, sample_i):\n",
      "“cannot compute exact p-value with ties”\n",
      "Warning message in ks.test(sample_buena, sample_i):\n",
      "“cannot compute exact p-value with ties”\n",
      "Warning message in ks.test(sample_buena, sample_i):\n",
      "“cannot compute exact p-value with ties”\n",
      "Warning message in ks.test(sample_buena, sample_i):\n",
      "“cannot compute exact p-value with ties”\n",
      "Warning message in ks.test(sample_buena, sample_i):\n",
      "“cannot compute exact p-value with ties”\n",
      "Warning message in ks.test(sample_buena, sample_i):\n",
      "“cannot compute exact p-value with ties”\n",
      "Warning message in ks.test(sample_buena, sample_i):\n",
      "“cannot compute exact p-value with ties”\n",
      "Warning message in ks.test(sample_buena, sample_i):\n",
      "“cannot compute exact p-value with ties”\n",
      "Warning message in ks.test(sample_buena, sample_i):\n",
      "“cannot compute exact p-value with ties”\n",
      "Warning message in ks.test(sample_buena, sample_i):\n",
      "“cannot compute exact p-value with ties”\n",
      "Warning message in ks.test(sample_buena, sample_i):\n",
      "“cannot compute exact p-value with ties”\n",
      "Warning message in ks.test(sample_buena, sample_i):\n",
      "“cannot compute exact p-value with ties”\n",
      "Warning message in ks.test(sample_buena, sample_i):\n",
      "“cannot compute exact p-value with ties”\n",
      "Warning message in ks.test(sample_buena, sample_i):\n",
      "“cannot compute exact p-value with ties”\n",
      "Warning message in ks.test(sample_buena, sample_i):\n",
      "“cannot compute exact p-value with ties”\n",
      "Warning message in ks.test(sample_buena, sample_i):\n",
      "“cannot compute exact p-value with ties”\n",
      "Warning message in ks.test(sample_buena, sample_i):\n",
      "“cannot compute exact p-value with ties”\n",
      "Warning message in ks.test(sample_buena, sample_i):\n",
      "“cannot compute exact p-value with ties”\n",
      "Warning message in ks.test(sample_buena, sample_i):\n",
      "“cannot compute exact p-value with ties”\n",
      "Warning message in ks.test(sample_buena, sample_i):\n",
      "“cannot compute exact p-value with ties”\n",
      "Warning message in ks.test(sample_buena, sample_i):\n",
      "“cannot compute exact p-value with ties”\n",
      "Warning message in ks.test(sample_buena, sample_i):\n",
      "“cannot compute exact p-value with ties”\n",
      "Warning message in ks.test(sample_buena, sample_i):\n",
      "“cannot compute exact p-value with ties”\n",
      "Warning message in ks.test(sample_buena, sample_i):\n",
      "“cannot compute exact p-value with ties”\n",
      "Warning message in ks.test(sample_buena, sample_i):\n",
      "“cannot compute exact p-value with ties”\n",
      "Warning message in ks.test(sample_buena, sample_i):\n",
      "“cannot compute exact p-value with ties”\n",
      "Warning message in ks.test(sample_buena, sample_i):\n",
      "“cannot compute exact p-value with ties”\n",
      "Warning message in ks.test(sample_buena, sample_i):\n",
      "“cannot compute exact p-value with ties”\n",
      "Warning message in ks.test(sample_buena, sample_i):\n",
      "“cannot compute exact p-value with ties”\n",
      "Warning message in ks.test(sample_buena, sample_i):\n",
      "“cannot compute exact p-value with ties”\n",
      "Warning message in ks.test(sample_buena, sample_i):\n",
      "“cannot compute exact p-value with ties”\n",
      "Warning message in ks.test(sample_buena, sample_i):\n",
      "“cannot compute exact p-value with ties”\n",
      "Warning message in ks.test(sample_buena, sample_i):\n",
      "“cannot compute exact p-value with ties”\n",
      "Warning message in ks.test(sample_buena, sample_i):\n",
      "“cannot compute exact p-value with ties”\n",
      "Warning message in ks.test(sample_buena, sample_i):\n",
      "“cannot compute exact p-value with ties”\n",
      "Warning message in ks.test(sample_buena, sample_i):\n",
      "“cannot compute exact p-value with ties”\n",
      "Warning message in ks.test(sample_buena, sample_i):\n",
      "“cannot compute exact p-value with ties”\n",
      "Warning message in ks.test(sample_buena, sample_i):\n",
      "“cannot compute exact p-value with ties”\n",
      "Warning message in ks.test(sample_buena, sample_i):\n",
      "“cannot compute exact p-value with ties”\n",
      "Warning message in ks.test(sample_buena, sample_i):\n",
      "“cannot compute exact p-value with ties”\n",
      "Warning message in ks.test(sample_buena, sample_i):\n",
      "“cannot compute exact p-value with ties”\n",
      "Warning message in ks.test(sample_buena, sample_i):\n",
      "“cannot compute exact p-value with ties”\n",
      "Warning message in ks.test(sample_buena, sample_i):\n",
      "“cannot compute exact p-value with ties”\n",
      "Warning message in ks.test(sample_buena, sample_i):\n",
      "“cannot compute exact p-value with ties”\n",
      "Warning message in ks.test(sample_buena, sample_i):\n",
      "“cannot compute exact p-value with ties”\n",
      "Warning message in ks.test(sample_buena, sample_i):\n",
      "“cannot compute exact p-value with ties”\n",
      "Warning message in ks.test(sample_buena, sample_i):\n",
      "“cannot compute exact p-value with ties”\n",
      "Warning message in ks.test(sample_buena, sample_i):\n",
      "“cannot compute exact p-value with ties”\n",
      "Warning message in ks.test(sample_buena, sample_i):\n",
      "“cannot compute exact p-value with ties”\n",
      "Warning message in ks.test(sample_buena, sample_i):\n",
      "“cannot compute exact p-value with ties”\n",
      "Warning message in ks.test(sample_buena, sample_i):\n",
      "“cannot compute exact p-value with ties”\n",
      "Warning message in ks.test(sample_buena, sample_i):\n",
      "“cannot compute exact p-value with ties”\n",
      "Warning message in ks.test(sample_buena, sample_i):\n",
      "“cannot compute exact p-value with ties”\n",
      "Warning message in ks.test(sample_buena, sample_i):\n",
      "“cannot compute exact p-value with ties”\n",
      "Warning message in ks.test(sample_buena, sample_i):\n",
      "“cannot compute exact p-value with ties”\n",
      "Warning message in ks.test(sample_buena, sample_i):\n",
      "“cannot compute exact p-value with ties”\n",
      "Warning message in ks.test(sample_buena, sample_i):\n",
      "“cannot compute exact p-value with ties”\n",
      "Warning message in ks.test(sample_buena, sample_i):\n",
      "“cannot compute exact p-value with ties”\n",
      "Warning message in ks.test(sample_buena, sample_i):\n",
      "“cannot compute exact p-value with ties”\n",
      "Warning message in ks.test(sample_buena, sample_i):\n",
      "“cannot compute exact p-value with ties”\n",
      "Warning message in ks.test(sample_buena, sample_i):\n",
      "“cannot compute exact p-value with ties”\n",
      "Warning message in ks.test(sample_buena, sample_i):\n",
      "“cannot compute exact p-value with ties”\n",
      "Warning message in ks.test(sample_buena, sample_i):\n",
      "“cannot compute exact p-value with ties”\n",
      "Warning message in ks.test(sample_buena, sample_i):\n",
      "“cannot compute exact p-value with ties”\n",
      "Warning message in ks.test(sample_buena, sample_i):\n",
      "“cannot compute exact p-value with ties”\n",
      "Warning message in ks.test(sample_buena, sample_i):\n",
      "“cannot compute exact p-value with ties”\n",
      "Warning message in ks.test(sample_buena, sample_i):\n",
      "“cannot compute exact p-value with ties”\n",
      "Warning message in ks.test(sample_buena, sample_i):\n",
      "“cannot compute exact p-value with ties”\n",
      "Warning message in ks.test(sample_buena, sample_i):\n",
      "“cannot compute exact p-value with ties”\n",
      "Warning message in ks.test(sample_buena, sample_i):\n",
      "“cannot compute exact p-value with ties”\n",
      "Warning message in ks.test(sample_buena, sample_i):\n",
      "“cannot compute exact p-value with ties”\n",
      "Warning message in ks.test(sample_buena, sample_i):\n",
      "“cannot compute exact p-value with ties”\n",
      "Warning message in ks.test(sample_buena, sample_i):\n",
      "“cannot compute exact p-value with ties”\n",
      "Warning message in ks.test(sample_buena, sample_i):\n",
      "“cannot compute exact p-value with ties”\n",
      "Warning message in ks.test(sample_buena, sample_i):\n",
      "“cannot compute exact p-value with ties”\n",
      "Warning message in ks.test(sample_buena, sample_i):\n",
      "“cannot compute exact p-value with ties”\n",
      "Warning message in ks.test(sample_buena, sample_i):\n",
      "“cannot compute exact p-value with ties”\n",
      "Warning message in ks.test(sample_buena, sample_i):\n",
      "“cannot compute exact p-value with ties”\n",
      "Warning message in ks.test(sample_buena, sample_i):\n",
      "“cannot compute exact p-value with ties”\n",
      "Warning message in ks.test(sample_buena, sample_i):\n",
      "“cannot compute exact p-value with ties”\n"
     ]
    },
    {
     "name": "stderr",
     "output_type": "stream",
     "text": [
      "Warning message in ks.test(sample_buena, sample_i):\n",
      "“cannot compute exact p-value with ties”\n",
      "Warning message in ks.test(sample_buena, sample_i):\n",
      "“cannot compute exact p-value with ties”\n",
      "Warning message in ks.test(sample_buena, sample_i):\n",
      "“cannot compute exact p-value with ties”\n",
      "Warning message in ks.test(sample_buena, sample_i):\n",
      "“cannot compute exact p-value with ties”\n",
      "Warning message in ks.test(sample_buena, sample_i):\n",
      "“cannot compute exact p-value with ties”\n",
      "Warning message in ks.test(sample_buena, sample_i):\n",
      "“cannot compute exact p-value with ties”\n",
      "Warning message in ks.test(sample_buena, sample_i):\n",
      "“cannot compute exact p-value with ties”\n",
      "Warning message in ks.test(sample_buena, sample_i):\n",
      "“cannot compute exact p-value with ties”\n",
      "Warning message in ks.test(sample_buena, sample_i):\n",
      "“cannot compute exact p-value with ties”\n",
      "Warning message in ks.test(sample_buena, sample_i):\n",
      "“cannot compute exact p-value with ties”\n",
      "Warning message in ks.test(sample_buena, sample_i):\n",
      "“cannot compute exact p-value with ties”\n",
      "Warning message in ks.test(sample_buena, sample_i):\n",
      "“cannot compute exact p-value with ties”\n",
      "Warning message in ks.test(sample_buena, sample_i):\n",
      "“cannot compute exact p-value with ties”\n",
      "Warning message in ks.test(sample_buena, sample_i):\n",
      "“cannot compute exact p-value with ties”\n",
      "Warning message in ks.test(sample_buena, sample_i):\n",
      "“cannot compute exact p-value with ties”\n",
      "Warning message in ks.test(sample_buena, sample_i):\n",
      "“cannot compute exact p-value with ties”\n",
      "Warning message in ks.test(sample_buena, sample_i):\n",
      "“cannot compute exact p-value with ties”\n",
      "Warning message in ks.test(sample_buena, sample_i):\n",
      "“cannot compute exact p-value with ties”\n",
      "Warning message in ks.test(sample_buena, sample_i):\n",
      "“cannot compute exact p-value with ties”\n",
      "Warning message in ks.test(sample_buena, sample_i):\n",
      "“cannot compute exact p-value with ties”\n",
      "Warning message in ks.test(sample_buena, sample_i):\n",
      "“cannot compute exact p-value with ties”\n",
      "Warning message in ks.test(sample_buena, sample_i):\n",
      "“cannot compute exact p-value with ties”\n",
      "Warning message in ks.test(sample_buena, sample_i):\n",
      "“cannot compute exact p-value with ties”\n",
      "Warning message in ks.test(sample_buena, sample_i):\n",
      "“cannot compute exact p-value with ties”\n",
      "Warning message in ks.test(sample_buena, sample_i):\n",
      "“cannot compute exact p-value with ties”\n",
      "Warning message in ks.test(sample_buena, sample_i):\n",
      "“cannot compute exact p-value with ties”\n",
      "Warning message in ks.test(sample_buena, sample_i):\n",
      "“cannot compute exact p-value with ties”\n",
      "Warning message in ks.test(sample_buena, sample_i):\n",
      "“cannot compute exact p-value with ties”\n",
      "Warning message in ks.test(sample_buena, sample_i):\n",
      "“cannot compute exact p-value with ties”\n",
      "Warning message in ks.test(sample_buena, sample_i):\n",
      "“cannot compute exact p-value with ties”\n",
      "Warning message in ks.test(sample_buena, sample_i):\n",
      "“cannot compute exact p-value with ties”\n",
      "Warning message in ks.test(sample_buena, sample_i):\n",
      "“cannot compute exact p-value with ties”\n",
      "Warning message in ks.test(sample_buena, sample_i):\n",
      "“cannot compute exact p-value with ties”\n",
      "Warning message in ks.test(sample_buena, sample_i):\n",
      "“cannot compute exact p-value with ties”\n",
      "Warning message in ks.test(sample_buena, sample_i):\n",
      "“cannot compute exact p-value with ties”\n",
      "Warning message in ks.test(sample_buena, sample_i):\n",
      "“cannot compute exact p-value with ties”\n",
      "Warning message in ks.test(sample_buena, sample_i):\n",
      "“cannot compute exact p-value with ties”\n",
      "Warning message in ks.test(sample_buena, sample_i):\n",
      "“cannot compute exact p-value with ties”\n",
      "Warning message in ks.test(sample_buena, sample_i):\n",
      "“cannot compute exact p-value with ties”\n",
      "Warning message in ks.test(sample_buena, sample_i):\n",
      "“cannot compute exact p-value with ties”\n",
      "Warning message in ks.test(sample_buena, sample_i):\n",
      "“cannot compute exact p-value with ties”\n",
      "Warning message in ks.test(sample_buena, sample_i):\n",
      "“cannot compute exact p-value with ties”\n",
      "Warning message in ks.test(sample_buena, sample_i):\n",
      "“cannot compute exact p-value with ties”\n",
      "Warning message in ks.test(sample_buena, sample_i):\n",
      "“cannot compute exact p-value with ties”\n",
      "Warning message in ks.test(sample_buena, sample_i):\n",
      "“cannot compute exact p-value with ties”\n",
      "Warning message in ks.test(sample_buena, sample_i):\n",
      "“cannot compute exact p-value with ties”\n",
      "Warning message in ks.test(sample_buena, sample_i):\n",
      "“cannot compute exact p-value with ties”\n",
      "Warning message in ks.test(sample_buena, sample_i):\n",
      "“cannot compute exact p-value with ties”\n",
      "Warning message in ks.test(sample_buena, sample_i):\n",
      "“cannot compute exact p-value with ties”\n",
      "Warning message in ks.test(sample_buena, sample_i):\n",
      "“cannot compute exact p-value with ties”\n",
      "Warning message in ks.test(sample_buena, sample_i):\n",
      "“cannot compute exact p-value with ties”\n",
      "Warning message in ks.test(sample_buena, sample_i):\n",
      "“cannot compute exact p-value with ties”\n",
      "Warning message in ks.test(sample_buena, sample_i):\n",
      "“cannot compute exact p-value with ties”\n",
      "Warning message in ks.test(sample_buena, sample_i):\n",
      "“cannot compute exact p-value with ties”\n",
      "Warning message in ks.test(sample_buena, sample_i):\n",
      "“cannot compute exact p-value with ties”\n",
      "Warning message in ks.test(sample_buena, sample_i):\n",
      "“cannot compute exact p-value with ties”\n",
      "Warning message in ks.test(sample_buena, sample_i):\n",
      "“cannot compute exact p-value with ties”\n",
      "Warning message in ks.test(sample_buena, sample_i):\n",
      "“cannot compute exact p-value with ties”\n",
      "Warning message in ks.test(sample_buena, sample_i):\n",
      "“cannot compute exact p-value with ties”\n",
      "Warning message in ks.test(sample_buena, sample_i):\n",
      "“cannot compute exact p-value with ties”\n",
      "Warning message in ks.test(sample_buena, sample_i):\n",
      "“cannot compute exact p-value with ties”\n",
      "Warning message in ks.test(sample_buena, sample_i):\n",
      "“cannot compute exact p-value with ties”\n"
     ]
    }
   ],
   "source": [
    "#limites comunes\n",
    "limx=c(min(C),max(C))\n",
    "br <- seq(min(C), max(C), length = 30)\n",
    "#hc1$mids y hr1$mids son los mismos\n",
    "#--------------------------------------------------------------\n",
    "\n",
    "hc = hist(c1,plot=F,breaks=br)\n",
    "sample_buena = hc$counts/length(c1)\n",
    "\n",
    "pval1=c()\n",
    "for (i in 1:length(seed)){\n",
    "    hr = hist(C_ran1[,i],plot=F,breaks=br)\n",
    "    sample_i = hr$counts/length(C_ran1[,i])\n",
    "\n",
    "    pval1[i] = ks.test(sample_buena,sample_i)$p.value\n",
    "}\n",
    "#--------------------------------------------------------------\n",
    "\n",
    "hc = hist(c2,plot=F,breaks=br)\n",
    "sample_buena = hc$counts/length(c2)\n",
    "\n",
    "pval2=c()\n",
    "for (i in 1:length(seed)){\n",
    "    hr = hist(C_ran2[,i],plot=F,breaks=br)\n",
    "    sample_i = hr$counts/length(C_ran2[,i])\n",
    "\n",
    "    pval2[i] = ks.test(sample_buena,sample_i)$p.value\n",
    "\n",
    "}\n",
    "#--------------------------------------------------------------\n",
    "\n",
    "hc = hist(c3,plot=F,breaks=br)\n",
    "sample_buena = hc$counts/length(c3)\n",
    "\n",
    "pval3=c()\n",
    "for (i in 1:length(seed)){\n",
    "    hr = hist(C_ran3[,i],plot=F,breaks=br)\n",
    "    sample_i = hr$counts/length(C_ran3[,i])\n",
    "\n",
    "    pval3[i] = ks.test(sample_buena,sample_i)$p.value\n",
    "\n",
    "}\n",
    "#--------------------------------------------------------------\n",
    "\n",
    "hc = hist(c4,plot=F,breaks=br)\n",
    "sample_buena = hc$counts/length(c4)\n",
    "\n",
    "pval4=c()\n",
    "for (i in 1:length(seed)){\n",
    "    hr = hist(C_ran4[,i],plot=F,breaks=br)\n",
    "    sample_i = hr$counts/length(C_ran4[,i])\n",
    "\n",
    "    pval4[i] = ks.test(sample_buena,sample_i)$p.value\n",
    "\n",
    "}\n",
    "#--------------------------------------------------------------\n",
    "\n",
    "hc = hist(c5,plot=F,breaks=br)\n",
    "sample_buena = hc$counts/length(c5)\n",
    "\n",
    "pval5=c()\n",
    "for (i in 1:length(seed)){\n",
    "    hr = hist(C_ran5[,i],plot=F,breaks=br)\n",
    "    sample_i = hr$counts/length(C_ran5[,i])\n",
    "\n",
    "    pval5[i] = ks.test(sample_buena,sample_i)$p.value\n",
    "\n",
    "}\n",
    "#--------------------------------------------------------------\n",
    "\n",
    "hc = hist(c6,plot=F,breaks=br)\n",
    "sample_buena = hc$counts/length(c6)\n",
    "\n",
    "pval6=c()\n",
    "for (i in 1:length(seed)){\n",
    "    hr = hist(C_ran6[,i],plot=F,breaks=br)\n",
    "    sample_i = hr$counts/length(C_ran6[,i])\n",
    "\n",
    "    pval6[i] = ks.test(sample_buena,sample_i)$p.value\n",
    "\n",
    "}\n",
    "#--------------------------------------------------------------\n",
    "\n",
    "hc = hist(c7,plot=F,breaks=br)\n",
    "sample_buena = hc$counts/length(c7)\n",
    "\n",
    "pval7=c()\n",
    "for (i in 1:length(seed)){\n",
    "    hr = hist(C_ran7[,i],plot=F,breaks=br)\n",
    "    sample_i = hr$counts/length(C_ran7[,i])\n",
    "\n",
    "    pval7[i] = ks.test(sample_buena,sample_i)$p.value\n",
    "\n",
    "}\n",
    "#--------------------------------------------------------------\n",
    "\n",
    "hc = hist(c8,plot=F,breaks=br)\n",
    "sample_buena = hc$counts/length(c8)\n",
    "\n",
    "pval8=c()\n",
    "for (i in 1:length(seed)){\n",
    "    hr = hist(C_ran8[,i],plot=F,breaks=br)\n",
    "    sample_i = hr$counts/length(C_ran8[,i])\n",
    "\n",
    "    pval8[i] = ks.test(sample_buena,sample_i)$p.value\n",
    "\n",
    "}"
   ]
  },
  {
   "cell_type": "markdown",
   "metadata": {},
   "source": [
    "### Ejemplo Plot bin1 c/ p-value maximo y minimo"
   ]
  },
  {
   "cell_type": "code",
   "execution_count": 24,
   "metadata": {},
   "outputs": [
    {
     "data": {
      "text/html": [
       "<ol class=list-inline>\n",
       "\t<li>0,0635987895707569</li>\n",
       "\t<li>0,56405016293634</li>\n",
       "</ol>\n"
      ],
      "text/latex": [
       "\\begin{enumerate*}\n",
       "\\item 0,0635987895707569\n",
       "\\item 0,56405016293634\n",
       "\\end{enumerate*}\n"
      ],
      "text/markdown": [
       "1. 0,0635987895707569\n",
       "2. 0,56405016293634\n",
       "\n",
       "\n"
      ],
      "text/plain": [
       "[1] 0,06359879 0,56405016"
      ]
     },
     "metadata": {},
     "output_type": "display_data"
    },
    {
     "name": "stdout",
     "output_type": "stream",
     "text": [
      "[1] \"P-value maximo\" \"Muestra=\"       \"4\"             \n",
      "[1] \"P-value maximo\"   \"0,56405016293634\"\n"
     ]
    },
    {
     "data": {
      "text/html": [
       "375"
      ],
      "text/latex": [
       "375"
      ],
      "text/markdown": [
       "375"
      ],
      "text/plain": [
       "[1] 375"
      ]
     },
     "metadata": {},
     "output_type": "display_data"
    },
    {
     "data": {
      "image/png": "[encoded data removed]",
      "text/plain": [
       "plot without title"
      ]
     },
     "metadata": {
      "image/png": {
       "height": 420,
       "width": 420
      }
     },
     "output_type": "display_data"
    }
   ],
   "source": [
    "range(pval1)\n",
    "ind_pmin = which.min(pval1)\n",
    "#ind_pmin\n",
    "#pval1[ind_pmin]\n",
    "\n",
    "ind_pmax = which.max(pval1)\n",
    "#ind_pmax \n",
    "#pval1[ind_pmax]\n",
    "print(c('P-value maximo','Muestra=',ind_pmax))\n",
    "print(c('P-value maximo', pval1[ind_pmax]))\n",
    "\n",
    "#Plot \n",
    "plot(hc1$mids,hc1$counts/length(c1),type='l',xlim=limx,ylim=c(0,0.27))\n",
    "\n",
    "i = ind_pmax\n",
    "hr1 = hist(C_ran1[,i],plot=F,breaks=br)\n",
    "sample_i = hr1$counts/length(C_ran1[,i])\n",
    "points(hr1$mids,sample_i,type='s',xlim=limx,col='red')\n",
    "\n",
    "\n",
    "i = ind_pmin\n",
    "hr1 = hist(C_ran1[,i],plot=F,breaks=br)\n",
    "sample_i = hr1$counts/length(C_ran1[,i])\n",
    "points(hr1$mids,sample_i,type='s',xlim=limx,col='blue')\n",
    "\n",
    "length(C_ran1[,i])\n"
   ]
  },
  {
   "cell_type": "markdown",
   "metadata": {},
   "source": [
    "### Busco el p-value maximo (para cada bin)"
   ]
  },
  {
   "cell_type": "code",
   "execution_count": 25,
   "metadata": {},
   "outputs": [],
   "source": [
    "ind_pmax1 = which.max(pval1)\n",
    "ind_pmax2 = which.max(pval2)\n",
    "ind_pmax3 = which.max(pval3)\n",
    "ind_pmax4 = which.max(pval4)\n",
    "ind_pmax5 = which.max(pval5)\n",
    "ind_pmax6 = which.max(pval6)\n",
    "ind_pmax7 = which.max(pval7)\n",
    "ind_pmax8 = which.max(pval8)"
   ]
  },
  {
   "cell_type": "code",
   "execution_count": 26,
   "metadata": {},
   "outputs": [
    {
     "name": "stderr",
     "output_type": "stream",
     "text": [
      "Loading required package: lattice\n",
      "\n",
      "Loading required package: survival\n",
      "\n",
      "Loading required package: Formula\n",
      "\n",
      "Loading required package: ggplot2\n",
      "\n",
      "Registered S3 methods overwritten by 'ggplot2':\n",
      "  method         from \n",
      "  [.quosures     rlang\n",
      "  c.quosures     rlang\n",
      "  print.quosures rlang\n",
      "\n",
      "\n",
      "Attaching package: ‘Hmisc’\n",
      "\n",
      "\n",
      "The following objects are masked from ‘package:base’:\n",
      "\n",
      "    format.pval, units\n",
      "\n",
      "\n"
     ]
    }
   ],
   "source": [
    "#install.packages(\"Hmisc\")\n",
    "#install.packages('magicaxis')\n",
    "library(Hmisc)\n",
    "library(magicaxis)"
   ]
  },
  {
   "cell_type": "code",
   "execution_count": 28,
   "metadata": {},
   "outputs": [
    {
     "data": {
      "image/png": "[encoded data removed]",
      "text/plain": [
       "plot without title"
      ]
     },
     "metadata": {
      "image/png": {
       "height": 420,
       "width": 420
      }
     },
     "output_type": "display_data"
    }
   ],
   "source": [
    "#cairo_ps(\"xx.eps\")\n",
    "par(mfrow=c(4,2))\n",
    "#par(mar = c(2, 2, 2, 2))\n",
    "#par(oma = c(5, 5, 2, 2))\n",
    "par(mar = c(0, 0, 0, 0))\n",
    "par(oma = c(5, 6, 2, 2))\n",
    "limx = c(1.5,3.9)\n",
    "limy = c(0,0.25)\n",
    "\n",
    "plot_cparam <- function(xx,Cran,indx,a,bin1,bin2,mark){\n",
    "       \n",
    "    hc = hist(xx,plot=F,breaks=br)\n",
    "    sample_buena = hc$counts/length(xx)\n",
    "    #plot(hc$mids,sample_buena,type='l',xlim=limx,ylim=limy)\n",
    "\n",
    "    if(mark==0){plot(hc$mids,sample_buena,type='l',xlab=\"\",xaxt='n',lty=1,xlim=limx,ylim=limy, cex.axis=1.3)}\n",
    "    if(mark==1){plot(hc$mids,sample_buena,type='l',xlab=\"\",yaxt='n',lty=1,xlim=limx,ylim=limy, cex.axis=1.3)}\n",
    "    if(mark==2){plot(hc$mids,sample_buena,type='l',xlab=\"\",xaxt='n',yaxt='n',lty=1,xlim=limx,ylim=limy, cex.axis=1.3)}\n",
    "    if(mark==3){plot(hc$mids,sample_buena,type='l',xlab=\"\",lty=1,xlim=limx,ylim=limy, cex.axis=1.3)}\n",
    "    \n",
    "    ii = indx\n",
    "    hr1 = hist(Cran[,ii],plot=F,breaks=br)\n",
    "    sample_i = hr1$counts/length(Cran[,ii])\n",
    "    points(hc1$mids,sample_i,type='s',xlim=limx,col='red')\n",
    "   \n",
    "    legend(1.5,0.23, legend=c(a), cex=1.2,bty=\"n\")\n",
    "\n",
    "    #axis(side=1, tck=-0.01, labels=FALSE)\n",
    "    #minor.tick(nx=2, ny=2, tick.ratio=0.5, x.args = list(), y.args = list())\n",
    "    #axis(side=2, tck=-0.01, labels = FALSE)\n",
    "    #minor.tick(nx=2, ny=2, tick.ratio=0.5, x.args = list(), y.args = list())\n",
    "    #axis(side=3, tck=-0.01, labels = FALSE)\n",
    "    #minor.tick(nx=2, ny=2, tick.ratio=0.5, x.args = list(), y.args = list())\n",
    "    #axis(side=4, tck=-0.01, labels = FALSE)\n",
    "    #minor.tick(nx=2, ny=2, tick.ratio=0.5, x.args = list(), y.args = list())\n",
    "    #magaxis(1,majorn=5, minorn=5, tcl=0.3, ratio=0.5,labels=FALSE)\n",
    "    #magaxis(2,majorn=5, minorn=5, tcl=0.3, ratio=0.5,labels=FALSE)\n",
    "    #magaxis(3,majorn=5, minorn=5, tcl=0.3, ratio=0.5,labels=FALSE)\n",
    "    #magaxis(4,majorn=5, minorn=5, tcl=0.3, ratio=0.5,labels=FALSE)\n",
    "}\n",
    "\n",
    "plot_cparam(c1,C_ran1,ind_pmax1,as.character(paste(\"[\",bin[1],\",\",bin[2],\"]\")),bin[1],bin[2],0)\n",
    "plot_cparam(c2,C_ran2,ind_pmax2,as.character(paste(\"[\",bin[2],\",\",bin[3],\"]\")),bin[2],bin[3],2)\n",
    "plot_cparam(c3,C_ran3,ind_pmax3,as.character(paste(\"[\",bin[3],\",\",bin[4],\"]\")),bin[3],bin[4],0)\n",
    "plot_cparam(c4,C_ran4,ind_pmax4,as.character(paste(\"[\",bin[4],\",\",bin[5],\"]\")),bin[4],bin[5],2)\n",
    "plot_cparam(c5,C_ran5,ind_pmax5,as.character(paste(\"[\",bin[5],\",\",bin[6],\"]\")),bin[5],bin[6],0)\n",
    "plot_cparam(c6,C_ran6,ind_pmax6,as.character(paste(\"[\",bin[6],\",\",bin[7],\"]\")),bin[6],bin[7],2)\n",
    "plot_cparam(c7,C_ran7,ind_pmax7,as.character(paste(\"[\",bin[7],\",\",bin[8],\"]\")),bin[7],bin[8],3)\n",
    "plot_cparam(c8,C_ran8,ind_pmax8,as.character(paste(\"[\",bin[8],\",\",bin[9],\"]\")),bin[8],bin[9],1)\n",
    "\n",
    "\n",
    "mtext(expression(paste(C,\"=r90/r50\",)), side = 1, cex = 1.5, line = 3.1, col = \"black\", outer = TRUE)\n",
    "mtext(expression(paste(\"N\")), side = 2, cex = 1.5, line = 3.1, col = \"black\", outer = TRUE)"
   ]
  },
  {
   "cell_type": "markdown",
   "metadata": {},
   "source": [
    "## Genero mis datafrma para las glx con r50 malos"
   ]
  },
  {
   "cell_type": "code",
   "execution_count": 29,
   "metadata": {},
   "outputs": [
    {
     "data": {
      "text/html": [
       "<table>\n",
       "<thead><tr><th></th><th scope=col>galID</th><th scope=col>ra_rad</th><th scope=col>dec_rad</th><th scope=col>zCMB</th><th scope=col>rextAB</th><th scope=col>gextAB</th><th scope=col>uextAB</th><th scope=col>rabs</th><th scope=col>gabs</th><th scope=col>uabs</th><th scope=col>r50</th><th scope=col>r90</th><th scope=col>pc</th></tr></thead>\n",
       "<tbody>\n",
       "\t<tr><th scope=row>464</th><td>1,237651e+18</td><td>4,257244    </td><td>0,82323437  </td><td>0,1977132   </td><td>17,10408    </td><td>18,38229    </td><td>20,38948    </td><td>-22,26300   </td><td>-21,43412   </td><td>-19,53095   </td><td>1,368057    </td><td>3,876439    </td><td>3,478403    </td></tr>\n",
       "\t<tr><th scope=row>1547</th><td>1,237652e+18</td><td>2,777403    </td><td>0,05501753  </td><td>0,1530031   </td><td>16,66721    </td><td>17,81266    </td><td>19,82727    </td><td>-22,02211   </td><td>-21,18364   </td><td>-19,22785   </td><td>1,581174    </td><td>4,812399    </td><td>2,298278    </td></tr>\n",
       "</tbody>\n",
       "</table>\n"
      ],
      "text/latex": [
       "\\begin{tabular}{r|lllllllllllll}\n",
       "  & galID & ra\\_rad & dec\\_rad & zCMB & rextAB & gextAB & uextAB & rabs & gabs & uabs & r50 & r90 & pc\\\\\n",
       "\\hline\n",
       "\t464 & 1,237651e+18 & 4,257244     & 0,82323437   & 0,1977132    & 17,10408     & 18,38229     & 20,38948     & -22,26300    & -21,43412    & -19,53095    & 1,368057     & 3,876439     & 3,478403    \\\\\n",
       "\t1547 & 1,237652e+18 & 2,777403     & 0,05501753   & 0,1530031    & 16,66721     & 17,81266     & 19,82727     & -22,02211    & -21,18364    & -19,22785    & 1,581174     & 4,812399     & 2,298278    \\\\\n",
       "\\end{tabular}\n"
      ],
      "text/markdown": [
       "\n",
       "| <!--/--> | galID | ra_rad | dec_rad | zCMB | rextAB | gextAB | uextAB | rabs | gabs | uabs | r50 | r90 | pc |\n",
       "|---|---|---|---|---|---|---|---|---|---|---|---|---|---|\n",
       "| 464 | 1,237651e+18 | 4,257244     | 0,82323437   | 0,1977132    | 17,10408     | 18,38229     | 20,38948     | -22,26300    | -21,43412    | -19,53095    | 1,368057     | 3,876439     | 3,478403     |\n",
       "| 1547 | 1,237652e+18 | 2,777403     | 0,05501753   | 0,1530031    | 16,66721     | 17,81266     | 19,82727     | -22,02211    | -21,18364    | -19,22785    | 1,581174     | 4,812399     | 2,298278     |\n",
       "\n"
      ],
      "text/plain": [
       "     galID        ra_rad   dec_rad    zCMB      rextAB   gextAB   uextAB  \n",
       "464  1,237651e+18 4,257244 0,82323437 0,1977132 17,10408 18,38229 20,38948\n",
       "1547 1,237652e+18 2,777403 0,05501753 0,1530031 16,66721 17,81266 19,82727\n",
       "     rabs      gabs      uabs      r50      r90      pc      \n",
       "464  -22,26300 -21,43412 -19,53095 1,368057 3,876439 3,478403\n",
       "1547 -22,02211 -21,18364 -19,22785 1,581174 4,812399 2,298278"
      ]
     },
     "metadata": {},
     "output_type": "display_data"
    },
    {
     "data": {
      "text/html": [
       "<table>\n",
       "<thead><tr><th></th><th scope=col>galID</th><th scope=col>ra_rad</th><th scope=col>dec_rad</th><th scope=col>zCMB</th><th scope=col>rextAB</th><th scope=col>gextAB</th><th scope=col>uextAB</th><th scope=col>rabs</th><th scope=col>gabs</th><th scope=col>uabs</th><th scope=col>r50</th><th scope=col>r90</th><th scope=col>pc</th></tr></thead>\n",
       "<tbody>\n",
       "\t<tr><th scope=row>464</th><td>1,237651e+18</td><td>4,257244    </td><td>0,82323437  </td><td>0,1977132   </td><td>17,10408    </td><td>18,38229    </td><td>20,38948    </td><td>-22,26300   </td><td>-21,43412   </td><td>-19,53095   </td><td>1,368057    </td><td>3,876439    </td><td>3,478403    </td></tr>\n",
       "\t<tr><th scope=row>1547</th><td>1,237652e+18</td><td>2,777403    </td><td>0,05501753  </td><td>0,1530031   </td><td>16,66721    </td><td>17,81266    </td><td>19,82727    </td><td>-22,02211   </td><td>-21,18364   </td><td>-19,22785   </td><td>1,581174    </td><td>4,812399    </td><td>2,298278    </td></tr>\n",
       "</tbody>\n",
       "</table>\n"
      ],
      "text/latex": [
       "\\begin{tabular}{r|lllllllllllll}\n",
       "  & galID & ra\\_rad & dec\\_rad & zCMB & rextAB & gextAB & uextAB & rabs & gabs & uabs & r50 & r90 & pc\\\\\n",
       "\\hline\n",
       "\t464 & 1,237651e+18 & 4,257244     & 0,82323437   & 0,1977132    & 17,10408     & 18,38229     & 20,38948     & -22,26300    & -21,43412    & -19,53095    & 1,368057     & 3,876439     & 3,478403    \\\\\n",
       "\t1547 & 1,237652e+18 & 2,777403     & 0,05501753   & 0,1530031    & 16,66721     & 17,81266     & 19,82727     & -22,02211    & -21,18364    & -19,22785    & 1,581174     & 4,812399     & 2,298278    \\\\\n",
       "\\end{tabular}\n"
      ],
      "text/markdown": [
       "\n",
       "| <!--/--> | galID | ra_rad | dec_rad | zCMB | rextAB | gextAB | uextAB | rabs | gabs | uabs | r50 | r90 | pc |\n",
       "|---|---|---|---|---|---|---|---|---|---|---|---|---|---|\n",
       "| 464 | 1,237651e+18 | 4,257244     | 0,82323437   | 0,1977132    | 17,10408     | 18,38229     | 20,38948     | -22,26300    | -21,43412    | -19,53095    | 1,368057     | 3,876439     | 3,478403     |\n",
       "| 1547 | 1,237652e+18 | 2,777403     | 0,05501753   | 0,1530031    | 16,66721     | 17,81266     | 19,82727     | -22,02211    | -21,18364    | -19,22785    | 1,581174     | 4,812399     | 2,298278     |\n",
       "\n"
      ],
      "text/plain": [
       "     galID        ra_rad   dec_rad    zCMB      rextAB   gextAB   uextAB  \n",
       "464  1,237651e+18 4,257244 0,82323437 0,1977132 17,10408 18,38229 20,38948\n",
       "1547 1,237652e+18 2,777403 0,05501753 0,1530031 16,66721 17,81266 19,82727\n",
       "     rabs      gabs      uabs      r50      r90      pc      \n",
       "464  -22,26300 -21,43412 -19,53095 1,368057 3,876439 3,478403\n",
       "1547 -22,02211 -21,18364 -19,22785 1,581174 4,812399 2,298278"
      ]
     },
     "metadata": {},
     "output_type": "display_data"
    }
   ],
   "source": [
    "pc = C_ran1[,ind_pmax] #para que todos tengan el mismo nombre\n",
    "dfmalos_c1<-cbind(in1,pc) \n",
    "head(dfmalos_c1,2)\n",
    "\n",
    "pc = C_ran2[,ind_pmax]; dfmalos_c2<-cbind(in2,pc)\n",
    "pc = C_ran3[,ind_pmax]; dfmalos_c3<-cbind(in3,pc)\n",
    "pc = C_ran4[,ind_pmax]; dfmalos_c4<-cbind(in4,pc)\n",
    "pc = C_ran5[,ind_pmax]; dfmalos_c5<-cbind(in5,pc)\n",
    "pc = C_ran6[,ind_pmax]; dfmalos_c6<-cbind(in6,pc)\n",
    "pc = C_ran7[,ind_pmax]; dfmalos_c7<-cbind(in7,pc)\n",
    "pc = C_ran8[,ind_pmax]; dfmalos_c8<-cbind(in8,pc)\n",
    "\n",
    "\n",
    "dfmalos_tot = rbind(dfmalos_c1,dfmalos_c2,dfmalos_c3,dfmalos_c4,dfmalos_c5,dfmalos_c6,dfmalos_c7,dfmalos_c8)\n",
    "head(dfmalos_tot,2)"
   ]
  },
  {
   "cell_type": "markdown",
   "metadata": {},
   "source": [
    "###### Glx c/ r50 malo (sumo todos los bines)"
   ]
  },
  {
   "cell_type": "code",
   "execution_count": 30,
   "metadata": {},
   "outputs": [
    {
     "data": {
      "text/html": [
       "87716"
      ],
      "text/latex": [
       "87716"
      ],
      "text/markdown": [
       "87716"
      ],
      "text/plain": [
       "[1] 87716"
      ]
     },
     "metadata": {},
     "output_type": "display_data"
    }
   ],
   "source": [
    "tot_malos = length(dfmalos_tot$pc)\n",
    "tot_malos"
   ]
  },
  {
   "cell_type": "code",
   "execution_count": null,
   "metadata": {},
   "outputs": [],
   "source": []
  },
  {
   "cell_type": "markdown",
   "metadata": {},
   "source": [
    "## Genero datafrme y Calculo los \"C\" con r50 buenos"
   ]
  },
  {
   "cell_type": "code",
   "execution_count": 31,
   "metadata": {},
   "outputs": [
    {
     "data": {
      "text/html": [
       "<table>\n",
       "<thead><tr><th scope=col>galID</th><th scope=col>ra_rad</th><th scope=col>dec_rad</th><th scope=col>zCMB</th><th scope=col>rextAB</th><th scope=col>gextAB</th><th scope=col>uextAB</th><th scope=col>rabs</th><th scope=col>gabs</th><th scope=col>uabs</th><th scope=col>r50</th><th scope=col>r90</th><th scope=col>C_bien</th></tr></thead>\n",
       "<tbody>\n",
       "\t<tr><td>1,237649e+18</td><td>4,302659    </td><td>0,006149179 </td><td>0,05236439  </td><td>17,36489    </td><td>17,82147    </td><td>18,90977    </td><td>-18,73781   </td><td>-18,27942   </td><td>-17,27946   </td><td>4,452624    </td><td>8,327925    </td><td>1,870341    </td></tr>\n",
       "\t<tr><td>1,237649e+18</td><td>4,309919    </td><td>0,005996814 </td><td>0,07266134  </td><td>16,85341    </td><td>17,24536    </td><td>18,35984    </td><td>-19,98522   </td><td>-19,58093   </td><td>-18,55669   </td><td>2,092882    </td><td>5,799765    </td><td>2,771186    </td></tr>\n",
       "</tbody>\n",
       "</table>\n"
      ],
      "text/latex": [
       "\\begin{tabular}{r|lllllllllllll}\n",
       " galID & ra\\_rad & dec\\_rad & zCMB & rextAB & gextAB & uextAB & rabs & gabs & uabs & r50 & r90 & C\\_bien\\\\\n",
       "\\hline\n",
       "\t 1,237649e+18 & 4,302659     & 0,006149179  & 0,05236439   & 17,36489     & 17,82147     & 18,90977     & -18,73781    & -18,27942    & -17,27946    & 4,452624     & 8,327925     & 1,870341    \\\\\n",
       "\t 1,237649e+18 & 4,309919     & 0,005996814  & 0,07266134   & 16,85341     & 17,24536     & 18,35984     & -19,98522    & -19,58093    & -18,55669    & 2,092882     & 5,799765     & 2,771186    \\\\\n",
       "\\end{tabular}\n"
      ],
      "text/markdown": [
       "\n",
       "| galID | ra_rad | dec_rad | zCMB | rextAB | gextAB | uextAB | rabs | gabs | uabs | r50 | r90 | C_bien |\n",
       "|---|---|---|---|---|---|---|---|---|---|---|---|---|\n",
       "| 1,237649e+18 | 4,302659     | 0,006149179  | 0,05236439   | 17,36489     | 17,82147     | 18,90977     | -18,73781    | -18,27942    | -17,27946    | 4,452624     | 8,327925     | 1,870341     |\n",
       "| 1,237649e+18 | 4,309919     | 0,005996814  | 0,07266134   | 16,85341     | 17,24536     | 18,35984     | -19,98522    | -19,58093    | -18,55669    | 2,092882     | 5,799765     | 2,771186     |\n",
       "\n"
      ],
      "text/plain": [
       "  galID        ra_rad   dec_rad     zCMB       rextAB   gextAB   uextAB  \n",
       "1 1,237649e+18 4,302659 0,006149179 0,05236439 17,36489 17,82147 18,90977\n",
       "2 1,237649e+18 4,309919 0,005996814 0,07266134 16,85341 17,24536 18,35984\n",
       "  rabs      gabs      uabs      r50      r90      C_bien  \n",
       "1 -18,73781 -18,27942 -17,27946 4,452624 8,327925 1,870341\n",
       "2 -19,98522 -19,58093 -18,55669 2,092882 5,799765 2,771186"
      ]
     },
     "metadata": {},
     "output_type": "display_data"
    }
   ],
   "source": [
    "C_bien = dfbueno$r90/dfbueno$r50\n",
    "pc = C_bien #para que todos tengan el mismo nombre\n",
    "dfbueno_c<-cbind(dfbueno,C_bien) \n",
    "head(dfbueno_c,2)"
   ]
  },
  {
   "cell_type": "markdown",
   "metadata": {},
   "source": [
    "###### Glx c/ r50 bueno"
   ]
  },
  {
   "cell_type": "code",
   "execution_count": 32,
   "metadata": {},
   "outputs": [
    {
     "data": {
      "text/html": [
       "469842"
      ],
      "text/latex": [
       "469842"
      ],
      "text/markdown": [
       "469842"
      ],
      "text/plain": [
       "[1] 469842"
      ]
     },
     "metadata": {},
     "output_type": "display_data"
    }
   ],
   "source": [
    "length(C_bien)"
   ]
  },
  {
   "cell_type": "code",
   "execution_count": 33,
   "metadata": {},
   "outputs": [
    {
     "data": {
      "text/html": [
       "557558"
      ],
      "text/latex": [
       "557558"
      ],
      "text/markdown": [
       "557558"
      ],
      "text/plain": [
       "[1] 557558"
      ]
     },
     "metadata": {},
     "output_type": "display_data"
    }
   ],
   "source": [
    "length(C_bien)+ tot_malos"
   ]
  },
  {
   "cell_type": "code",
   "execution_count": null,
   "metadata": {},
   "outputs": [],
   "source": []
  },
  {
   "cell_type": "code",
   "execution_count": null,
   "metadata": {},
   "outputs": [],
   "source": []
  },
  {
   "cell_type": "code",
   "execution_count": null,
   "metadata": {},
   "outputs": [],
   "source": [
    "\n"
   ]
  },
  {
   "cell_type": "markdown",
   "metadata": {},
   "source": [
    "## [ dfgalcg] Seleccion de glx en CG c/ r50 malo"
   ]
  },
  {
   "cell_type": "code",
   "execution_count": 34,
   "metadata": {},
   "outputs": [],
   "source": [
    "dfgalcg = read.table(\"../data/tab_gal_gru.dat\")\n",
    "colnames(dfgalcg) <- c('gruID','ngal', 'ra', 'dec', 'zCMB', 'rextAB', 'gextAB', 'uextAB','galID',\n",
    "                       'r50','r90','rabs','gabs','uabs','pasiva')"
   ]
  },
  {
   "cell_type": "code",
   "execution_count": 35,
   "metadata": {},
   "outputs": [
    {
     "data": {
      "text/html": [
       "<table>\n",
       "<thead><tr><th scope=col>gruID</th><th scope=col>ngal</th><th scope=col>ra</th><th scope=col>dec</th><th scope=col>zCMB</th><th scope=col>rextAB</th><th scope=col>gextAB</th><th scope=col>uextAB</th><th scope=col>galID</th><th scope=col>r50</th><th scope=col>r90</th><th scope=col>rabs</th><th scope=col>gabs</th><th scope=col>uabs</th><th scope=col>pasiva</th></tr></thead>\n",
       "<tbody>\n",
       "\t<tr><td>1           </td><td>1           </td><td>114,844     </td><td>45,118      </td><td>0,079785    </td><td>14,719      </td><td>15,661      </td><td>18,910      </td><td>1,237664e+18</td><td>6,580098    </td><td>20,917290   </td><td>-22,38191   </td><td>-21,56168   </td><td>-19,65829   </td><td>1           </td></tr>\n",
       "\t<tr><td>1           </td><td>2           </td><td>114,840     </td><td>45,124      </td><td>0,077575    </td><td>16,380      </td><td>16,885      </td><td>18,360      </td><td>1,237664e+18</td><td>2,361705    </td><td> 5,640143   </td><td>-20,61242   </td><td>-20,12822   </td><td>-18,97008   </td><td>0           </td></tr>\n",
       "\t<tr><td>1           </td><td>3           </td><td>114,850     </td><td>45,082      </td><td>0,078914    </td><td>16,813      </td><td>17,693      </td><td>19,805      </td><td>1,237664e+18</td><td>1,159409    </td><td> 3,226531   </td><td>-20,25581   </td><td>-19,49058   </td><td>-17,69719   </td><td>1           </td></tr>\n",
       "</tbody>\n",
       "</table>\n"
      ],
      "text/latex": [
       "\\begin{tabular}{r|lllllllllllllll}\n",
       " gruID & ngal & ra & dec & zCMB & rextAB & gextAB & uextAB & galID & r50 & r90 & rabs & gabs & uabs & pasiva\\\\\n",
       "\\hline\n",
       "\t 1            & 1            & 114,844      & 45,118       & 0,079785     & 14,719       & 15,661       & 18,910       & 1,237664e+18 & 6,580098     & 20,917290    & -22,38191    & -21,56168    & -19,65829    & 1           \\\\\n",
       "\t 1            & 2            & 114,840      & 45,124       & 0,077575     & 16,380       & 16,885       & 18,360       & 1,237664e+18 & 2,361705     &  5,640143    & -20,61242    & -20,12822    & -18,97008    & 0           \\\\\n",
       "\t 1            & 3            & 114,850      & 45,082       & 0,078914     & 16,813       & 17,693       & 19,805       & 1,237664e+18 & 1,159409     &  3,226531    & -20,25581    & -19,49058    & -17,69719    & 1           \\\\\n",
       "\\end{tabular}\n"
      ],
      "text/markdown": [
       "\n",
       "| gruID | ngal | ra | dec | zCMB | rextAB | gextAB | uextAB | galID | r50 | r90 | rabs | gabs | uabs | pasiva |\n",
       "|---|---|---|---|---|---|---|---|---|---|---|---|---|---|---|\n",
       "| 1            | 1            | 114,844      | 45,118       | 0,079785     | 14,719       | 15,661       | 18,910       | 1,237664e+18 | 6,580098     | 20,917290    | -22,38191    | -21,56168    | -19,65829    | 1            |\n",
       "| 1            | 2            | 114,840      | 45,124       | 0,077575     | 16,380       | 16,885       | 18,360       | 1,237664e+18 | 2,361705     |  5,640143    | -20,61242    | -20,12822    | -18,97008    | 0            |\n",
       "| 1            | 3            | 114,850      | 45,082       | 0,078914     | 16,813       | 17,693       | 19,805       | 1,237664e+18 | 1,159409     |  3,226531    | -20,25581    | -19,49058    | -17,69719    | 1            |\n",
       "\n"
      ],
      "text/plain": [
       "  gruID ngal ra      dec    zCMB     rextAB gextAB uextAB galID        r50     \n",
       "1 1     1    114,844 45,118 0,079785 14,719 15,661 18,910 1,237664e+18 6,580098\n",
       "2 1     2    114,840 45,124 0,077575 16,380 16,885 18,360 1,237664e+18 2,361705\n",
       "3 1     3    114,850 45,082 0,078914 16,813 17,693 19,805 1,237664e+18 1,159409\n",
       "  r90       rabs      gabs      uabs      pasiva\n",
       "1 20,917290 -22,38191 -21,56168 -19,65829 1     \n",
       "2  5,640143 -20,61242 -20,12822 -18,97008 0     \n",
       "3  3,226531 -20,25581 -19,49058 -17,69719 1     "
      ]
     },
     "metadata": {},
     "output_type": "display_data"
    }
   ],
   "source": [
    "head(dfgalcg,3)"
   ]
  },
  {
   "cell_type": "code",
   "execution_count": 36,
   "metadata": {},
   "outputs": [
    {
     "data": {
      "text/html": [
       "213"
      ],
      "text/latex": [
       "213"
      ],
      "text/markdown": [
       "213"
      ],
      "text/plain": [
       "[1] 213"
      ]
     },
     "metadata": {},
     "output_type": "display_data"
    }
   ],
   "source": [
    "dfgalcg_malo = subset(dfgalcg, dfgalcg$r50 < 1.6)\n",
    "totcg_malos = length(dfgalcg_malo$r50)\n",
    "totcg_malos\n"
   ]
  },
  {
   "cell_type": "code",
   "execution_count": 37,
   "metadata": {},
   "outputs": [],
   "source": [
    "tt = cbind(dfmalos_tot$galID, dfmalos_tot$pc)\n",
    "cc = cbind(dfgalcg_malo$galID, dfgalcg_malo$pc)\n",
    "\n",
    "write.table(tt, file = \"../../tempel_r50_malo.dat\",sep='    ', row.names = FALSE)\n",
    "write.table(cc, file = \"../../galcg_r50_malo.dat\",sep='    ', row.names = FALSE)"
   ]
  },
  {
   "cell_type": "code",
   "execution_count": null,
   "metadata": {},
   "outputs": [],
   "source": []
  },
  {
   "cell_type": "code",
   "execution_count": null,
   "metadata": {},
   "outputs": [],
   "source": []
  },
  {
   "cell_type": "code",
   "execution_count": null,
   "metadata": {},
   "outputs": [],
   "source": [
    "# Enteros grandes\n",
    "library(gmp)\n",
    "\n",
    "id_tot = as.bigz(dfmalos_tot$galID)\n",
    "id_cg = as.bigz(dfgalcg_malo$galID)"
   ]
  },
  {
   "cell_type": "code",
   "execution_count": null,
   "metadata": {},
   "outputs": [],
   "source": []
  },
  {
   "cell_type": "code",
   "execution_count": null,
   "metadata": {},
   "outputs": [],
   "source": []
  },
  {
   "cell_type": "code",
   "execution_count": null,
   "metadata": {},
   "outputs": [],
   "source": []
  },
  {
   "cell_type": "markdown",
   "metadata": {},
   "source": [
    "## Unir indice Concentracion de glx c/ r50 malo y bueno  (fortran)"
   ]
  },
  {
   "cell_type": "code",
   "execution_count": null,
   "metadata": {},
   "outputs": [],
   "source": [
    "length(dfmalo$r50) + length(dfbueno$r50)"
   ]
  },
  {
   "cell_type": "code",
   "execution_count": null,
   "metadata": {},
   "outputs": [],
   "source": [
    "C_bien = dfbueno$r90/dfbueno$r50\n",
    "hist(C_bien, xlim=c(0,5),breaks=200)"
   ]
  },
  {
   "cell_type": "code",
   "execution_count": null,
   "metadata": {},
   "outputs": [],
   "source": []
  },
  {
   "cell_type": "markdown",
   "metadata": {},
   "source": [
    "## Test Kolmogorov-Smirnov \n",
    "https://search.r-project.org/CRAN/refmans/Ecume/html/ks_test.html"
   ]
  },
  {
   "cell_type": "code",
   "execution_count": null,
   "metadata": {},
   "outputs": [],
   "source": [
    "n1 = rnorm(100, 50, 0.2)\n",
    "n2 = rnorm(10, 500, 0.2)\n",
    "a=ks.test(n1,n2)\n",
    "a\n",
    "#$htest$p.value\n",
    "a$statistic\n",
    "a$p.value\n",
    "pval = ks.test(n1,n2)$p.value\n",
    "pval\n",
    "hist(n1)\n",
    "hist(n2)"
   ]
  },
  {
   "cell_type": "markdown",
   "metadata": {},
   "source": [
    "# Codigo tirado"
   ]
  },
  {
   "cell_type": "raw",
   "metadata": {},
   "source": [
    "df_c = tab_c_ran[order(tab_c_ran$C),]\n",
    "head(df_c,10)\n",
    "#plot(tab$x,tab$Fn.x)\n",
    "df_c$C[25750]"
   ]
  },
  {
   "cell_type": "raw",
   "metadata": {},
   "source": [
    "\n",
    "size <- 2000\n",
    "#vals <- get(\"x\", environment(Fn))\n",
    "#probs <- diff(c(0, get(\"y\", environment(Fn))))\n",
    "#s=sample(vals, size, replace=FALSE, prob=probs)\n",
    "#range(vals)\n",
    "\n",
    "\n",
    "#With replacement =TRUE. which means value  in the sample can occur more than once\n",
    "s=sample(x, size, replace=TRUE,prob=Fn(x))\n",
    "range(s)\n",
    "length(s)\n",
    "\n",
    "hs = hist(s,plot=F,breaks=50)\n",
    "points(hs$mids,hs$counts/size,type='s',xlim=c(1.5,4),col='red')"
   ]
  }
 ],
 "metadata": {
  "kernelspec": {
   "display_name": "R",
   "language": "R",
   "name": "ir"
  },
  "language_info": {
   "codemirror_mode": "r",
   "file_extension": ".r",
   "mimetype": "text/x-r-source",
   "name": "R",
   "pygments_lexer": "r",
   "version": "3.6.1"
  }
 },
 "nbformat": 4,
 "nbformat_minor": 1
}
