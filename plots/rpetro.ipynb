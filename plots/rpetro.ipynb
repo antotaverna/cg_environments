{
 "cells": [
  {
   "cell_type": "markdown",
   "metadata": {},
   "source": [
    "# Tempel  c r50 y r90"
   ]
  },
  {
   "cell_type": "code",
   "execution_count": 1,
   "metadata": {},
   "outputs": [],
   "source": [
    "df_tempel = read.table(\"../../tempel_limpio_full.dat\")\n",
    "colnames(df_tempel) <- c('galID', 'ra_rad', 'dec_rad', 'zCMB', 'rextAB', 'gextAB', 'uextAB',\n",
    "                  'rabs','gabs','uabs','r50','r90')"
   ]
  },
  {
   "cell_type": "code",
   "execution_count": 2,
   "metadata": {},
   "outputs": [
    {
     "data": {
      "text/html": [
       "<table class=\"dataframe\">\n",
       "<caption>A data.frame: 6 × 12</caption>\n",
       "<thead>\n",
       "\t<tr><th></th><th scope=col>galID</th><th scope=col>ra_rad</th><th scope=col>dec_rad</th><th scope=col>zCMB</th><th scope=col>rextAB</th><th scope=col>gextAB</th><th scope=col>uextAB</th><th scope=col>rabs</th><th scope=col>gabs</th><th scope=col>uabs</th><th scope=col>r50</th><th scope=col>r90</th></tr>\n",
       "\t<tr><th></th><th scope=col>&lt;I&lt;chr&gt;&gt;</th><th scope=col>&lt;I&lt;chr&gt;&gt;</th><th scope=col>&lt;I&lt;chr&gt;&gt;</th><th scope=col>&lt;I&lt;chr&gt;&gt;</th><th scope=col>&lt;I&lt;chr&gt;&gt;</th><th scope=col>&lt;I&lt;chr&gt;&gt;</th><th scope=col>&lt;I&lt;chr&gt;&gt;</th><th scope=col>&lt;I&lt;chr&gt;&gt;</th><th scope=col>&lt;I&lt;chr&gt;&gt;</th><th scope=col>&lt;I&lt;chr&gt;&gt;</th><th scope=col>&lt;I&lt;chr&gt;&gt;</th><th scope=col>&lt;I&lt;chr&gt;&gt;</th></tr>\n",
       "</thead>\n",
       "<tbody>\n",
       "\t<tr><th scope=row>1</th><td>1237648674533278720</td><td>4.302659</td><td> 0.00614917908435</td><td>0.052364394</td><td>17.364889</td><td>   17.821471</td><td>   18.90977</td><td>        -18.737809</td><td>          -18.279416</td><td>         -17.27945853</td><td>  4.4526240</td><td>  8.327925</td></tr>\n",
       "\t<tr><th scope=row>2</th><td>1237648674533475072</td><td>4.309919</td><td> 0.00599681370886</td><td>0.072661344</td><td>16.853414</td><td>   17.245356</td><td>   18.35984</td><td>        -19.985221</td><td>          -19.580926</td><td>         -18.55669032</td><td>  2.0928820</td><td>  5.799765</td></tr>\n",
       "\t<tr><th scope=row>3</th><td>1237648674533605888</td><td>4.313667</td><td> 0.00716001526205</td><td>0.164123905</td><td>16.277632</td><td>   17.521545</td><td>   19.80539</td><td>        -22.615471</td><td>          -21.722567</td><td>         -19.55358823</td><td>  3.0125580</td><td>  9.305360</td></tr>\n",
       "\t<tr><th scope=row>4</th><td>1237648702974460160</td><td>3.520162</td><td>-0.01895346335182</td><td>0.068271282</td><td>15.677578</td><td>   16.552210</td><td>   18.41877</td><td>        -21.055557</td><td>          -20.274898</td><td>         -18.48056988</td><td>  3.7281950</td><td> 11.653700</td></tr>\n",
       "\t<tr><th scope=row>5</th><td>1237648702974460160</td><td>3.520498</td><td>-0.01965693203978</td><td>0.075080672</td><td>16.804272</td><td>   17.491826</td><td>   18.92289</td><td>        -20.128469</td><td>          -19.515439</td><td>         -18.12398768</td><td>  1.7629810</td><td>  4.199601</td></tr>\n",
       "\t<tr><th scope=row>6</th><td>1237648702974525696</td><td>3.523255</td><td>-0.01835112287750</td><td>0.087323639</td><td>17.502514</td><td>   18.489955</td><td>   20.36814</td><td>        -19.808906</td><td>          -18.967248</td><td>         -17.14153765</td><td>  1.2960980</td><td>  3.602817</td></tr>\n",
       "</tbody>\n",
       "</table>\n"
      ],
      "text/latex": [
       "A data.frame: 6 × 12\n",
       "\\begin{tabular}{r|llllllllllll}\n",
       "  & galID & ra\\_rad & dec\\_rad & zCMB & rextAB & gextAB & uextAB & rabs & gabs & uabs & r50 & r90\\\\\n",
       "  & <I<chr>> & <I<chr>> & <I<chr>> & <I<chr>> & <I<chr>> & <I<chr>> & <I<chr>> & <I<chr>> & <I<chr>> & <I<chr>> & <I<chr>> & <I<chr>>\\\\\n",
       "\\hline\n",
       "\t1 & 1237648674533278720 & 4.302659 &  0.00614917908435 & 0.052364394 & 17.364889 &    17.821471 &    18.90977 &         -18.737809 &           -18.279416 &          -17.27945853 &   4.4526240 &   8.327925\\\\\n",
       "\t2 & 1237648674533475072 & 4.309919 &  0.00599681370886 & 0.072661344 & 16.853414 &    17.245356 &    18.35984 &         -19.985221 &           -19.580926 &          -18.55669032 &   2.0928820 &   5.799765\\\\\n",
       "\t3 & 1237648674533605888 & 4.313667 &  0.00716001526205 & 0.164123905 & 16.277632 &    17.521545 &    19.80539 &         -22.615471 &           -21.722567 &          -19.55358823 &   3.0125580 &   9.305360\\\\\n",
       "\t4 & 1237648702974460160 & 3.520162 & -0.01895346335182 & 0.068271282 & 15.677578 &    16.552210 &    18.41877 &         -21.055557 &           -20.274898 &          -18.48056988 &   3.7281950 &  11.653700\\\\\n",
       "\t5 & 1237648702974460160 & 3.520498 & -0.01965693203978 & 0.075080672 & 16.804272 &    17.491826 &    18.92289 &         -20.128469 &           -19.515439 &          -18.12398768 &   1.7629810 &   4.199601\\\\\n",
       "\t6 & 1237648702974525696 & 3.523255 & -0.01835112287750 & 0.087323639 & 17.502514 &    18.489955 &    20.36814 &         -19.808906 &           -18.967248 &          -17.14153765 &   1.2960980 &   3.602817\\\\\n",
       "\\end{tabular}\n"
      ],
      "text/markdown": [
       "\n",
       "A data.frame: 6 × 12\n",
       "\n",
       "| <!--/--> | galID &lt;I&lt;chr&gt;&gt; | ra_rad &lt;I&lt;chr&gt;&gt; | dec_rad &lt;I&lt;chr&gt;&gt; | zCMB &lt;I&lt;chr&gt;&gt; | rextAB &lt;I&lt;chr&gt;&gt; | gextAB &lt;I&lt;chr&gt;&gt; | uextAB &lt;I&lt;chr&gt;&gt; | rabs &lt;I&lt;chr&gt;&gt; | gabs &lt;I&lt;chr&gt;&gt; | uabs &lt;I&lt;chr&gt;&gt; | r50 &lt;I&lt;chr&gt;&gt; | r90 &lt;I&lt;chr&gt;&gt; |\n",
       "|---|---|---|---|---|---|---|---|---|---|---|---|---|\n",
       "| 1 | 1237648674533278720 | 4.302659 |  0.00614917908435 | 0.052364394 | 17.364889 |    17.821471 |    18.90977 |         -18.737809 |           -18.279416 |          -17.27945853 |   4.4526240 |   8.327925 |\n",
       "| 2 | 1237648674533475072 | 4.309919 |  0.00599681370886 | 0.072661344 | 16.853414 |    17.245356 |    18.35984 |         -19.985221 |           -19.580926 |          -18.55669032 |   2.0928820 |   5.799765 |\n",
       "| 3 | 1237648674533605888 | 4.313667 |  0.00716001526205 | 0.164123905 | 16.277632 |    17.521545 |    19.80539 |         -22.615471 |           -21.722567 |          -19.55358823 |   3.0125580 |   9.305360 |\n",
       "| 4 | 1237648702974460160 | 3.520162 | -0.01895346335182 | 0.068271282 | 15.677578 |    16.552210 |    18.41877 |         -21.055557 |           -20.274898 |          -18.48056988 |   3.7281950 |  11.653700 |\n",
       "| 5 | 1237648702974460160 | 3.520498 | -0.01965693203978 | 0.075080672 | 16.804272 |    17.491826 |    18.92289 |         -20.128469 |           -19.515439 |          -18.12398768 |   1.7629810 |   4.199601 |\n",
       "| 6 | 1237648702974525696 | 3.523255 | -0.01835112287750 | 0.087323639 | 17.502514 |    18.489955 |    20.36814 |         -19.808906 |           -18.967248 |          -17.14153765 |   1.2960980 |   3.602817 |\n",
       "\n"
      ],
      "text/plain": [
       "  galID               ra_rad   dec_rad           zCMB        rextAB   \n",
       "1 1237648674533278720 4.302659  0.00614917908435 0.052364394 17.364889\n",
       "2 1237648674533475072 4.309919  0.00599681370886 0.072661344 16.853414\n",
       "3 1237648674533605888 4.313667  0.00716001526205 0.164123905 16.277632\n",
       "4 1237648702974460160 3.520162 -0.01895346335182 0.068271282 15.677578\n",
       "5 1237648702974460160 3.520498 -0.01965693203978 0.075080672 16.804272\n",
       "6 1237648702974525696 3.523255 -0.01835112287750 0.087323639 17.502514\n",
       "  gextAB       uextAB      rabs               gabs                \n",
       "1    17.821471    18.90977         -18.737809           -18.279416\n",
       "2    17.245356    18.35984         -19.985221           -19.580926\n",
       "3    17.521545    19.80539         -22.615471           -21.722567\n",
       "4    16.552210    18.41877         -21.055557           -20.274898\n",
       "5    17.491826    18.92289         -20.128469           -19.515439\n",
       "6    18.489955    20.36814         -19.808906           -18.967248\n",
       "  uabs                  r50         r90       \n",
       "1          -17.27945853   4.4526240   8.327925\n",
       "2          -18.55669032   2.0928820   5.799765\n",
       "3          -19.55358823   3.0125580   9.305360\n",
       "4          -18.48056988   3.7281950  11.653700\n",
       "5          -18.12398768   1.7629810   4.199601\n",
       "6          -17.14153765   1.2960980   3.602817"
      ]
     },
     "metadata": {},
     "output_type": "display_data"
    }
   ],
   "source": [
    "head(format(df_tempel,scientific=F),6)"
   ]
  },
  {
   "cell_type": "code",
   "execution_count": 3,
   "metadata": {},
   "outputs": [],
   "source": [
    "iline = seq(1,length(df_tempel$galID),1)\n",
    "#iline"
   ]
  },
  {
   "cell_type": "code",
   "execution_count": 4,
   "metadata": {},
   "outputs": [
    {
     "data": {
      "text/html": [
       "557559"
      ],
      "text/latex": [
       "557559"
      ],
      "text/markdown": [
       "557559"
      ],
      "text/plain": [
       "[1] 557559"
      ]
     },
     "metadata": {},
     "output_type": "display_data"
    }
   ],
   "source": [
    "length(df_tempel$galID)"
   ]
  },
  {
   "cell_type": "code",
   "execution_count": 5,
   "metadata": {},
   "outputs": [
    {
     "data": {
      "text/html": [
       "<table class=\"dataframe\">\n",
       "<caption>A data.frame: 7 × 13</caption>\n",
       "<thead>\n",
       "\t<tr><th></th><th scope=col>galID</th><th scope=col>ra_rad</th><th scope=col>dec_rad</th><th scope=col>zCMB</th><th scope=col>rextAB</th><th scope=col>gextAB</th><th scope=col>uextAB</th><th scope=col>rabs</th><th scope=col>gabs</th><th scope=col>uabs</th><th scope=col>r50</th><th scope=col>r90</th><th scope=col>iline</th></tr>\n",
       "\t<tr><th></th><th scope=col>&lt;dbl&gt;</th><th scope=col>&lt;dbl&gt;</th><th scope=col>&lt;dbl&gt;</th><th scope=col>&lt;dbl&gt;</th><th scope=col>&lt;dbl&gt;</th><th scope=col>&lt;dbl&gt;</th><th scope=col>&lt;dbl&gt;</th><th scope=col>&lt;dbl&gt;</th><th scope=col>&lt;dbl&gt;</th><th scope=col>&lt;dbl&gt;</th><th scope=col>&lt;dbl&gt;</th><th scope=col>&lt;dbl&gt;</th><th scope=col>&lt;dbl&gt;</th></tr>\n",
       "</thead>\n",
       "<tbody>\n",
       "\t<tr><th scope=row>1</th><td>1.237649e+18</td><td>4.302659</td><td> 0.006149179</td><td>0.05236439</td><td>17.36489</td><td>17.82147</td><td>18.90977</td><td>-18.73781</td><td>-18.27942</td><td>-17.27946</td><td>4.452624</td><td> 8.327925</td><td>1</td></tr>\n",
       "\t<tr><th scope=row>2</th><td>1.237649e+18</td><td>4.309919</td><td> 0.005996814</td><td>0.07266134</td><td>16.85341</td><td>17.24536</td><td>18.35984</td><td>-19.98522</td><td>-19.58093</td><td>-18.55669</td><td>2.092882</td><td> 5.799765</td><td>2</td></tr>\n",
       "\t<tr><th scope=row>3</th><td>1.237649e+18</td><td>4.313667</td><td> 0.007160015</td><td>0.16412390</td><td>16.27763</td><td>17.52155</td><td>19.80539</td><td>-22.61547</td><td>-21.72257</td><td>-19.55359</td><td>3.012558</td><td> 9.305360</td><td>3</td></tr>\n",
       "\t<tr><th scope=row>4</th><td>1.237649e+18</td><td>3.520162</td><td>-0.018953463</td><td>0.06827128</td><td>15.67758</td><td>16.55221</td><td>18.41877</td><td>-21.05556</td><td>-20.27490</td><td>-18.48057</td><td>3.728195</td><td>11.653700</td><td>4</td></tr>\n",
       "\t<tr><th scope=row>5</th><td>1.237649e+18</td><td>3.520498</td><td>-0.019656932</td><td>0.07508067</td><td>16.80427</td><td>17.49183</td><td>18.92289</td><td>-20.12847</td><td>-19.51544</td><td>-18.12399</td><td>1.762981</td><td> 4.199601</td><td>5</td></tr>\n",
       "\t<tr><th scope=row>6</th><td>1.237649e+18</td><td>3.523255</td><td>-0.018351123</td><td>0.08732364</td><td>17.50251</td><td>18.48995</td><td>20.36814</td><td>-19.80891</td><td>-18.96725</td><td>-17.14154</td><td>1.296098</td><td> 3.602817</td><td>6</td></tr>\n",
       "\t<tr><th scope=row>7</th><td>1.237649e+18</td><td>3.522268</td><td>-0.020122038</td><td>0.06822069</td><td>17.42276</td><td>17.98192</td><td>19.21728</td><td>-19.28163</td><td>-18.75658</td><td>-17.57966</td><td>3.783448</td><td> 8.728249</td><td>7</td></tr>\n",
       "</tbody>\n",
       "</table>\n"
      ],
      "text/latex": [
       "A data.frame: 7 × 13\n",
       "\\begin{tabular}{r|lllllllllllll}\n",
       "  & galID & ra\\_rad & dec\\_rad & zCMB & rextAB & gextAB & uextAB & rabs & gabs & uabs & r50 & r90 & iline\\\\\n",
       "  & <dbl> & <dbl> & <dbl> & <dbl> & <dbl> & <dbl> & <dbl> & <dbl> & <dbl> & <dbl> & <dbl> & <dbl> & <dbl>\\\\\n",
       "\\hline\n",
       "\t1 & 1.237649e+18 & 4.302659 &  0.006149179 & 0.05236439 & 17.36489 & 17.82147 & 18.90977 & -18.73781 & -18.27942 & -17.27946 & 4.452624 &  8.327925 & 1\\\\\n",
       "\t2 & 1.237649e+18 & 4.309919 &  0.005996814 & 0.07266134 & 16.85341 & 17.24536 & 18.35984 & -19.98522 & -19.58093 & -18.55669 & 2.092882 &  5.799765 & 2\\\\\n",
       "\t3 & 1.237649e+18 & 4.313667 &  0.007160015 & 0.16412390 & 16.27763 & 17.52155 & 19.80539 & -22.61547 & -21.72257 & -19.55359 & 3.012558 &  9.305360 & 3\\\\\n",
       "\t4 & 1.237649e+18 & 3.520162 & -0.018953463 & 0.06827128 & 15.67758 & 16.55221 & 18.41877 & -21.05556 & -20.27490 & -18.48057 & 3.728195 & 11.653700 & 4\\\\\n",
       "\t5 & 1.237649e+18 & 3.520498 & -0.019656932 & 0.07508067 & 16.80427 & 17.49183 & 18.92289 & -20.12847 & -19.51544 & -18.12399 & 1.762981 &  4.199601 & 5\\\\\n",
       "\t6 & 1.237649e+18 & 3.523255 & -0.018351123 & 0.08732364 & 17.50251 & 18.48995 & 20.36814 & -19.80891 & -18.96725 & -17.14154 & 1.296098 &  3.602817 & 6\\\\\n",
       "\t7 & 1.237649e+18 & 3.522268 & -0.020122038 & 0.06822069 & 17.42276 & 17.98192 & 19.21728 & -19.28163 & -18.75658 & -17.57966 & 3.783448 &  8.728249 & 7\\\\\n",
       "\\end{tabular}\n"
      ],
      "text/markdown": [
       "\n",
       "A data.frame: 7 × 13\n",
       "\n",
       "| <!--/--> | galID &lt;dbl&gt; | ra_rad &lt;dbl&gt; | dec_rad &lt;dbl&gt; | zCMB &lt;dbl&gt; | rextAB &lt;dbl&gt; | gextAB &lt;dbl&gt; | uextAB &lt;dbl&gt; | rabs &lt;dbl&gt; | gabs &lt;dbl&gt; | uabs &lt;dbl&gt; | r50 &lt;dbl&gt; | r90 &lt;dbl&gt; | iline &lt;dbl&gt; |\n",
       "|---|---|---|---|---|---|---|---|---|---|---|---|---|---|\n",
       "| 1 | 1.237649e+18 | 4.302659 |  0.006149179 | 0.05236439 | 17.36489 | 17.82147 | 18.90977 | -18.73781 | -18.27942 | -17.27946 | 4.452624 |  8.327925 | 1 |\n",
       "| 2 | 1.237649e+18 | 4.309919 |  0.005996814 | 0.07266134 | 16.85341 | 17.24536 | 18.35984 | -19.98522 | -19.58093 | -18.55669 | 2.092882 |  5.799765 | 2 |\n",
       "| 3 | 1.237649e+18 | 4.313667 |  0.007160015 | 0.16412390 | 16.27763 | 17.52155 | 19.80539 | -22.61547 | -21.72257 | -19.55359 | 3.012558 |  9.305360 | 3 |\n",
       "| 4 | 1.237649e+18 | 3.520162 | -0.018953463 | 0.06827128 | 15.67758 | 16.55221 | 18.41877 | -21.05556 | -20.27490 | -18.48057 | 3.728195 | 11.653700 | 4 |\n",
       "| 5 | 1.237649e+18 | 3.520498 | -0.019656932 | 0.07508067 | 16.80427 | 17.49183 | 18.92289 | -20.12847 | -19.51544 | -18.12399 | 1.762981 |  4.199601 | 5 |\n",
       "| 6 | 1.237649e+18 | 3.523255 | -0.018351123 | 0.08732364 | 17.50251 | 18.48995 | 20.36814 | -19.80891 | -18.96725 | -17.14154 | 1.296098 |  3.602817 | 6 |\n",
       "| 7 | 1.237649e+18 | 3.522268 | -0.020122038 | 0.06822069 | 17.42276 | 17.98192 | 19.21728 | -19.28163 | -18.75658 | -17.57966 | 3.783448 |  8.728249 | 7 |\n",
       "\n"
      ],
      "text/plain": [
       "  galID        ra_rad   dec_rad      zCMB       rextAB   gextAB   uextAB  \n",
       "1 1.237649e+18 4.302659  0.006149179 0.05236439 17.36489 17.82147 18.90977\n",
       "2 1.237649e+18 4.309919  0.005996814 0.07266134 16.85341 17.24536 18.35984\n",
       "3 1.237649e+18 4.313667  0.007160015 0.16412390 16.27763 17.52155 19.80539\n",
       "4 1.237649e+18 3.520162 -0.018953463 0.06827128 15.67758 16.55221 18.41877\n",
       "5 1.237649e+18 3.520498 -0.019656932 0.07508067 16.80427 17.49183 18.92289\n",
       "6 1.237649e+18 3.523255 -0.018351123 0.08732364 17.50251 18.48995 20.36814\n",
       "7 1.237649e+18 3.522268 -0.020122038 0.06822069 17.42276 17.98192 19.21728\n",
       "  rabs      gabs      uabs      r50      r90       iline\n",
       "1 -18.73781 -18.27942 -17.27946 4.452624  8.327925 1    \n",
       "2 -19.98522 -19.58093 -18.55669 2.092882  5.799765 2    \n",
       "3 -22.61547 -21.72257 -19.55359 3.012558  9.305360 3    \n",
       "4 -21.05556 -20.27490 -18.48057 3.728195 11.653700 4    \n",
       "5 -20.12847 -19.51544 -18.12399 1.762981  4.199601 5    \n",
       "6 -19.80891 -18.96725 -17.14154 1.296098  3.602817 6    \n",
       "7 -19.28163 -18.75658 -17.57966 3.783448  8.728249 7    "
      ]
     },
     "metadata": {},
     "output_type": "display_data"
    },
    {
     "data": {
      "text/html": [
       "<table class=\"dataframe\">\n",
       "<caption>A data.frame: 3 × 13</caption>\n",
       "<thead>\n",
       "\t<tr><th></th><th scope=col>galID</th><th scope=col>ra_rad</th><th scope=col>dec_rad</th><th scope=col>zCMB</th><th scope=col>rextAB</th><th scope=col>gextAB</th><th scope=col>uextAB</th><th scope=col>rabs</th><th scope=col>gabs</th><th scope=col>uabs</th><th scope=col>r50</th><th scope=col>r90</th><th scope=col>iline</th></tr>\n",
       "\t<tr><th></th><th scope=col>&lt;dbl&gt;</th><th scope=col>&lt;dbl&gt;</th><th scope=col>&lt;dbl&gt;</th><th scope=col>&lt;dbl&gt;</th><th scope=col>&lt;dbl&gt;</th><th scope=col>&lt;dbl&gt;</th><th scope=col>&lt;dbl&gt;</th><th scope=col>&lt;dbl&gt;</th><th scope=col>&lt;dbl&gt;</th><th scope=col>&lt;dbl&gt;</th><th scope=col>&lt;dbl&gt;</th><th scope=col>&lt;dbl&gt;</th><th scope=col>&lt;dbl&gt;</th></tr>\n",
       "</thead>\n",
       "<tbody>\n",
       "\t<tr><th scope=row>557557</th><td>1.237655e+18</td><td>3.084808</td><td>1.0704973</td><td>0.000720064</td><td>16.95160</td><td>17.14164</td><td>18.34780</td><td>-9.691498</td><td>-9.499162</td><td>-8.298285</td><td>5.422752</td><td>9.491583</td><td>557557</td></tr>\n",
       "\t<tr><th scope=row>557558</th><td>1.237668e+18</td><td>4.022538</td><td>0.2163560</td><td>0.000523866</td><td>16.92208</td><td>17.78293</td><td>20.45608</td><td>-9.017955</td><td>-8.156419</td><td>-5.487215</td><td>1.128104</td><td>3.057296</td><td>557558</td></tr>\n",
       "\t<tr><th scope=row>557559</th><td>1.237663e+18</td><td>4.303575</td><td>0.4285773</td><td>0.000146481</td><td>17.40103</td><td>18.79718</td><td>24.36775</td><td>-5.657943</td><td>-4.260592</td><td> 1.309210</td><td>1.250275</td><td>3.995950</td><td>557559</td></tr>\n",
       "</tbody>\n",
       "</table>\n"
      ],
      "text/latex": [
       "A data.frame: 3 × 13\n",
       "\\begin{tabular}{r|lllllllllllll}\n",
       "  & galID & ra\\_rad & dec\\_rad & zCMB & rextAB & gextAB & uextAB & rabs & gabs & uabs & r50 & r90 & iline\\\\\n",
       "  & <dbl> & <dbl> & <dbl> & <dbl> & <dbl> & <dbl> & <dbl> & <dbl> & <dbl> & <dbl> & <dbl> & <dbl> & <dbl>\\\\\n",
       "\\hline\n",
       "\t557557 & 1.237655e+18 & 3.084808 & 1.0704973 & 0.000720064 & 16.95160 & 17.14164 & 18.34780 & -9.691498 & -9.499162 & -8.298285 & 5.422752 & 9.491583 & 557557\\\\\n",
       "\t557558 & 1.237668e+18 & 4.022538 & 0.2163560 & 0.000523866 & 16.92208 & 17.78293 & 20.45608 & -9.017955 & -8.156419 & -5.487215 & 1.128104 & 3.057296 & 557558\\\\\n",
       "\t557559 & 1.237663e+18 & 4.303575 & 0.4285773 & 0.000146481 & 17.40103 & 18.79718 & 24.36775 & -5.657943 & -4.260592 &  1.309210 & 1.250275 & 3.995950 & 557559\\\\\n",
       "\\end{tabular}\n"
      ],
      "text/markdown": [
       "\n",
       "A data.frame: 3 × 13\n",
       "\n",
       "| <!--/--> | galID &lt;dbl&gt; | ra_rad &lt;dbl&gt; | dec_rad &lt;dbl&gt; | zCMB &lt;dbl&gt; | rextAB &lt;dbl&gt; | gextAB &lt;dbl&gt; | uextAB &lt;dbl&gt; | rabs &lt;dbl&gt; | gabs &lt;dbl&gt; | uabs &lt;dbl&gt; | r50 &lt;dbl&gt; | r90 &lt;dbl&gt; | iline &lt;dbl&gt; |\n",
       "|---|---|---|---|---|---|---|---|---|---|---|---|---|---|\n",
       "| 557557 | 1.237655e+18 | 3.084808 | 1.0704973 | 0.000720064 | 16.95160 | 17.14164 | 18.34780 | -9.691498 | -9.499162 | -8.298285 | 5.422752 | 9.491583 | 557557 |\n",
       "| 557558 | 1.237668e+18 | 4.022538 | 0.2163560 | 0.000523866 | 16.92208 | 17.78293 | 20.45608 | -9.017955 | -8.156419 | -5.487215 | 1.128104 | 3.057296 | 557558 |\n",
       "| 557559 | 1.237663e+18 | 4.303575 | 0.4285773 | 0.000146481 | 17.40103 | 18.79718 | 24.36775 | -5.657943 | -4.260592 |  1.309210 | 1.250275 | 3.995950 | 557559 |\n",
       "\n"
      ],
      "text/plain": [
       "       galID        ra_rad   dec_rad   zCMB        rextAB   gextAB   uextAB  \n",
       "557557 1.237655e+18 3.084808 1.0704973 0.000720064 16.95160 17.14164 18.34780\n",
       "557558 1.237668e+18 4.022538 0.2163560 0.000523866 16.92208 17.78293 20.45608\n",
       "557559 1.237663e+18 4.303575 0.4285773 0.000146481 17.40103 18.79718 24.36775\n",
       "       rabs      gabs      uabs      r50      r90      iline \n",
       "557557 -9.691498 -9.499162 -8.298285 5.422752 9.491583 557557\n",
       "557558 -9.017955 -8.156419 -5.487215 1.128104 3.057296 557558\n",
       "557559 -5.657943 -4.260592  1.309210 1.250275 3.995950 557559"
      ]
     },
     "metadata": {},
     "output_type": "display_data"
    }
   ],
   "source": [
    "df = cbind(df_tempel,iline)\n",
    "#df = format(df, scientific=F)\n",
    "colnames(df) <- c('galID', 'ra_rad', 'dec_rad', 'zCMB', 'rextAB', 'gextAB', 'uextAB',\n",
    "                  'rabs','gabs','uabs','r50','r90','iline')\n",
    "head(df,7)\n",
    "tail(df,3)"
   ]
  },
  {
   "cell_type": "code",
   "execution_count": 6,
   "metadata": {},
   "outputs": [
    {
     "data": {
      "text/html": [
       "<style>\n",
       ".list-inline {list-style: none; margin:0; padding: 0}\n",
       ".list-inline>li {display: inline-block}\n",
       ".list-inline>li:not(:last-child)::after {content: \"\\00b7\"; padding: 0 .5ex}\n",
       "</style>\n",
       "<ol class=list-inline><li>-99.9</li><li>125.0923</li></ol>\n"
      ],
      "text/latex": [
       "\\begin{enumerate*}\n",
       "\\item -99.9\n",
       "\\item 125.0923\n",
       "\\end{enumerate*}\n"
      ],
      "text/markdown": [
       "1. -99.9\n",
       "2. 125.0923\n",
       "\n",
       "\n"
      ],
      "text/plain": [
       "[1] -99.9000 125.0923"
      ]
     },
     "metadata": {},
     "output_type": "display_data"
    }
   ],
   "source": [
    "r5 = df$r50\n",
    "r9 = df$r90\n",
    "range(r5)"
   ]
  },
  {
   "cell_type": "markdown",
   "metadata": {},
   "source": [
    "## [ dfbueno ] Seleccion de glx con r50 bien calculado"
   ]
  },
  {
   "cell_type": "code",
   "execution_count": 7,
   "metadata": {},
   "outputs": [
    {
     "data": {
      "text/html": [
       "469842"
      ],
      "text/latex": [
       "469842"
      ],
      "text/markdown": [
       "469842"
      ],
      "text/plain": [
       "[1] 469842"
      ]
     },
     "metadata": {},
     "output_type": "display_data"
    },
    {
     "data": {
      "text/html": [
       "<style>\n",
       ".list-inline {list-style: none; margin:0; padding: 0}\n",
       ".list-inline>li {display: inline-block}\n",
       ".list-inline>li:not(:last-child)::after {content: \"\\00b7\"; padding: 0 .5ex}\n",
       "</style>\n",
       "<ol class=list-inline><li>1.600007</li><li>125.0923</li></ol>\n"
      ],
      "text/latex": [
       "\\begin{enumerate*}\n",
       "\\item 1.600007\n",
       "\\item 125.0923\n",
       "\\end{enumerate*}\n"
      ],
      "text/markdown": [
       "1. 1.600007\n",
       "2. 125.0923\n",
       "\n",
       "\n"
      ],
      "text/plain": [
       "[1]   1.600007 125.092300"
      ]
     },
     "metadata": {},
     "output_type": "display_data"
    }
   ],
   "source": [
    "dfbueno = subset(df, df$r50 >= 1.6)\n",
    "\n",
    "length(dfbueno$r50)\n",
    "range(dfbueno$r50)"
   ]
  },
  {
   "cell_type": "markdown",
   "metadata": {},
   "source": [
    "## [ df1 ] Seleccion de glx con r50 bien calculado + mr<16  "
   ]
  },
  {
   "cell_type": "code",
   "execution_count": 8,
   "metadata": {},
   "outputs": [
    {
     "data": {
      "text/html": [
       "<style>\n",
       ".list-inline {list-style: none; margin:0; padding: 0}\n",
       ".list-inline>li {display: inline-block}\n",
       ".list-inline>li:not(:last-child)::after {content: \"\\00b7\"; padding: 0 .5ex}\n",
       "</style>\n",
       "<ol class=list-inline><li>1.600076</li><li>103.4871</li></ol>\n"
      ],
      "text/latex": [
       "\\begin{enumerate*}\n",
       "\\item 1.600076\n",
       "\\item 103.4871\n",
       "\\end{enumerate*}\n"
      ],
      "text/markdown": [
       "1. 1.600076\n",
       "2. 103.4871\n",
       "\n",
       "\n"
      ],
      "text/plain": [
       "[1]   1.600076 103.487100"
      ]
     },
     "metadata": {},
     "output_type": "display_data"
    },
    {
     "data": {
      "text/html": [
       "71294"
      ],
      "text/latex": [
       "71294"
      ],
      "text/markdown": [
       "71294"
      ],
      "text/plain": [
       "[1] 71294"
      ]
     },
     "metadata": {},
     "output_type": "display_data"
    }
   ],
   "source": [
    "df1 = subset(df, df$r50 > 1.6 & df$rextAB < 16)\n",
    "range(df1$r50)\n",
    "length(df1$r50)"
   ]
  },
  {
   "cell_type": "code",
   "execution_count": 9,
   "metadata": {
    "scrolled": true
   },
   "outputs": [
    {
     "data": {
      "text/html": [
       "<table class=\"dataframe\">\n",
       "<caption>A data.frame: 3 × 13</caption>\n",
       "<thead>\n",
       "\t<tr><th></th><th scope=col>galID</th><th scope=col>ra_rad</th><th scope=col>dec_rad</th><th scope=col>zCMB</th><th scope=col>rextAB</th><th scope=col>gextAB</th><th scope=col>uextAB</th><th scope=col>rabs</th><th scope=col>gabs</th><th scope=col>uabs</th><th scope=col>r50</th><th scope=col>r90</th><th scope=col>iline</th></tr>\n",
       "\t<tr><th></th><th scope=col>&lt;dbl&gt;</th><th scope=col>&lt;dbl&gt;</th><th scope=col>&lt;dbl&gt;</th><th scope=col>&lt;dbl&gt;</th><th scope=col>&lt;dbl&gt;</th><th scope=col>&lt;dbl&gt;</th><th scope=col>&lt;dbl&gt;</th><th scope=col>&lt;dbl&gt;</th><th scope=col>&lt;dbl&gt;</th><th scope=col>&lt;dbl&gt;</th><th scope=col>&lt;dbl&gt;</th><th scope=col>&lt;dbl&gt;</th><th scope=col>&lt;dbl&gt;</th></tr>\n",
       "</thead>\n",
       "<tbody>\n",
       "\t<tr><th scope=row>4</th><td>1.237649e+18</td><td>3.520162</td><td>-0.01895346</td><td>0.06827128</td><td>15.67758</td><td>16.55221</td><td>18.41877</td><td>-21.05556</td><td>-20.27490</td><td>-18.48057</td><td>3.728195</td><td>11.653700</td><td> 4</td></tr>\n",
       "\t<tr><th scope=row>11</th><td>1.237649e+18</td><td>3.547027</td><td>-0.02023635</td><td>0.01367959</td><td>13.99719</td><td>14.56983</td><td>15.76445</td><td>-19.11036</td><td>-18.53349</td><td>-17.38972</td><td>8.449419</td><td>17.503450</td><td>11</td></tr>\n",
       "\t<tr><th scope=row>17</th><td>1.237649e+18</td><td>3.635346</td><td>-0.02130850</td><td>0.07400486</td><td>15.56765</td><td>16.32024</td><td>17.84108</td><td>-21.33739</td><td>-20.67443</td><td>-19.19117</td><td>3.521352</td><td> 8.158723</td><td>17</td></tr>\n",
       "</tbody>\n",
       "</table>\n"
      ],
      "text/latex": [
       "A data.frame: 3 × 13\n",
       "\\begin{tabular}{r|lllllllllllll}\n",
       "  & galID & ra\\_rad & dec\\_rad & zCMB & rextAB & gextAB & uextAB & rabs & gabs & uabs & r50 & r90 & iline\\\\\n",
       "  & <dbl> & <dbl> & <dbl> & <dbl> & <dbl> & <dbl> & <dbl> & <dbl> & <dbl> & <dbl> & <dbl> & <dbl> & <dbl>\\\\\n",
       "\\hline\n",
       "\t4 & 1.237649e+18 & 3.520162 & -0.01895346 & 0.06827128 & 15.67758 & 16.55221 & 18.41877 & -21.05556 & -20.27490 & -18.48057 & 3.728195 & 11.653700 &  4\\\\\n",
       "\t11 & 1.237649e+18 & 3.547027 & -0.02023635 & 0.01367959 & 13.99719 & 14.56983 & 15.76445 & -19.11036 & -18.53349 & -17.38972 & 8.449419 & 17.503450 & 11\\\\\n",
       "\t17 & 1.237649e+18 & 3.635346 & -0.02130850 & 0.07400486 & 15.56765 & 16.32024 & 17.84108 & -21.33739 & -20.67443 & -19.19117 & 3.521352 &  8.158723 & 17\\\\\n",
       "\\end{tabular}\n"
      ],
      "text/markdown": [
       "\n",
       "A data.frame: 3 × 13\n",
       "\n",
       "| <!--/--> | galID &lt;dbl&gt; | ra_rad &lt;dbl&gt; | dec_rad &lt;dbl&gt; | zCMB &lt;dbl&gt; | rextAB &lt;dbl&gt; | gextAB &lt;dbl&gt; | uextAB &lt;dbl&gt; | rabs &lt;dbl&gt; | gabs &lt;dbl&gt; | uabs &lt;dbl&gt; | r50 &lt;dbl&gt; | r90 &lt;dbl&gt; | iline &lt;dbl&gt; |\n",
       "|---|---|---|---|---|---|---|---|---|---|---|---|---|---|\n",
       "| 4 | 1.237649e+18 | 3.520162 | -0.01895346 | 0.06827128 | 15.67758 | 16.55221 | 18.41877 | -21.05556 | -20.27490 | -18.48057 | 3.728195 | 11.653700 |  4 |\n",
       "| 11 | 1.237649e+18 | 3.547027 | -0.02023635 | 0.01367959 | 13.99719 | 14.56983 | 15.76445 | -19.11036 | -18.53349 | -17.38972 | 8.449419 | 17.503450 | 11 |\n",
       "| 17 | 1.237649e+18 | 3.635346 | -0.02130850 | 0.07400486 | 15.56765 | 16.32024 | 17.84108 | -21.33739 | -20.67443 | -19.19117 | 3.521352 |  8.158723 | 17 |\n",
       "\n"
      ],
      "text/plain": [
       "   galID        ra_rad   dec_rad     zCMB       rextAB   gextAB   uextAB  \n",
       "4  1.237649e+18 3.520162 -0.01895346 0.06827128 15.67758 16.55221 18.41877\n",
       "11 1.237649e+18 3.547027 -0.02023635 0.01367959 13.99719 14.56983 15.76445\n",
       "17 1.237649e+18 3.635346 -0.02130850 0.07400486 15.56765 16.32024 17.84108\n",
       "   rabs      gabs      uabs      r50      r90       iline\n",
       "4  -21.05556 -20.27490 -18.48057 3.728195 11.653700  4   \n",
       "11 -19.11036 -18.53349 -17.38972 8.449419 17.503450 11   \n",
       "17 -21.33739 -20.67443 -19.19117 3.521352  8.158723 17   "
      ]
     },
     "metadata": {},
     "output_type": "display_data"
    }
   ],
   "source": [
    "head(df1,3)"
   ]
  },
  {
   "cell_type": "markdown",
   "metadata": {},
   "source": [
    "#### divido rabs en quartiles para tener el mismo nuemro de glx por bin de magnitud"
   ]
  },
  {
   "cell_type": "code",
   "execution_count": 10,
   "metadata": {},
   "outputs": [
    {
     "data": {
      "text/html": [
       "<style>\n",
       ".dl-inline {width: auto; margin:0; padding: 0}\n",
       ".dl-inline>dt, .dl-inline>dd {float: none; width: auto; display: inline-block}\n",
       ".dl-inline>dt::after {content: \":\\0020\"; padding-right: .5ex}\n",
       ".dl-inline>dt:not(:first-of-type) {padding-left: .5ex}\n",
       "</style><dl class=dl-inline><dt>12.5%</dt><dd>-21.8181417608343</dd><dt>25%</dt><dd>-21.4308988080539</dd><dt>37.5%</dt><dd>-21.123517717187</dd><dt>50%</dt><dd>-20.8119464682275</dd><dt>62.5%</dt><dd>-20.4487848079385</dd><dt>75%</dt><dd>-20.0098733863455</dd><dt>87.5%</dt><dd>-19.3661522835813</dd><dt>100%</dt><dd>-8.03560281151948</dd></dl>\n"
      ],
      "text/latex": [
       "\\begin{description*}\n",
       "\\item[12.5\\textbackslash{}\\%] -21.8181417608343\n",
       "\\item[25\\textbackslash{}\\%] -21.4308988080539\n",
       "\\item[37.5\\textbackslash{}\\%] -21.123517717187\n",
       "\\item[50\\textbackslash{}\\%] -20.8119464682275\n",
       "\\item[62.5\\textbackslash{}\\%] -20.4487848079385\n",
       "\\item[75\\textbackslash{}\\%] -20.0098733863455\n",
       "\\item[87.5\\textbackslash{}\\%] -19.3661522835813\n",
       "\\item[100\\textbackslash{}\\%] -8.03560281151948\n",
       "\\end{description*}\n"
      ],
      "text/markdown": [
       "12.5%\n",
       ":   -21.818141760834325%\n",
       ":   -21.430898808053937.5%\n",
       ":   -21.12351771718750%\n",
       ":   -20.811946468227562.5%\n",
       ":   -20.448784807938575%\n",
       ":   -20.009873386345587.5%\n",
       ":   -19.3661522835813100%\n",
       ":   -8.03560281151948\n",
       "\n"
      ],
      "text/plain": [
       "     12.5%        25%      37.5%        50%      62.5%        75%      87.5% \n",
       "-21.818142 -21.430899 -21.123518 -20.811946 -20.448785 -20.009873 -19.366152 \n",
       "      100% \n",
       " -8.035603 "
      ]
     },
     "metadata": {},
     "output_type": "display_data"
    }
   ],
   "source": [
    "vec = df1$rabs\n",
    "a = seq(0.125,1,0.125)\n",
    "#new_vec <- cut(vec , breaks = quantile(vec, c(0, .1,.., 1), na.rm = TRUE), labels=1:10, include.lowest=TRUE)\n",
    "quantile(vec, a, na.rm = TRUE)\n",
    "new_vec <- cut(vec , breaks = quantile(vec, a, na.rm = TRUE), include.lowest=TRUE)\n"
   ]
  },
  {
   "cell_type": "markdown",
   "metadata": {},
   "source": [
    "### Bines en Magnitud absoluta  \n",
    "##### (Tiene que cubir todo el rango de rabs del tempel)"
   ]
  },
  {
   "cell_type": "code",
   "execution_count": 11,
   "metadata": {},
   "outputs": [
    {
     "name": "stdout",
     "output_type": "stream",
     "text": [
      "[1] \"todas\"\n"
     ]
    },
    {
     "data": {
      "text/html": [
       "<style>\n",
       ".list-inline {list-style: none; margin:0; padding: 0}\n",
       ".list-inline>li {display: inline-block}\n",
       ".list-inline>li:not(:last-child)::after {content: \"\\00b7\"; padding: 0 .5ex}\n",
       "</style>\n",
       "<ol class=list-inline><li>-4868005210.35678</li><li>-5.65794325600281</li></ol>\n"
      ],
      "text/latex": [
       "\\begin{enumerate*}\n",
       "\\item -4868005210.35678\n",
       "\\item -5.65794325600281\n",
       "\\end{enumerate*}\n"
      ],
      "text/markdown": [
       "1. -4868005210.35678\n",
       "2. -5.65794325600281\n",
       "\n",
       "\n"
      ],
      "text/plain": [
       "[1] -4.868005e+09 -5.657943e+00"
      ]
     },
     "metadata": {},
     "output_type": "display_data"
    },
    {
     "name": "stdout",
     "output_type": "stream",
     "text": [
      "[1] \"buenas\"\n"
     ]
    },
    {
     "data": {
      "text/html": [
       "<style>\n",
       ".list-inline {list-style: none; margin:0; padding: 0}\n",
       ".list-inline>li {display: inline-block}\n",
       ".list-inline>li:not(:last-child)::after {content: \"\\00b7\"; padding: 0 .5ex}\n",
       "</style>\n",
       "<ol class=list-inline><li>-24.757483973264</li><li>-8.03560281151948</li></ol>\n"
      ],
      "text/latex": [
       "\\begin{enumerate*}\n",
       "\\item -24.757483973264\n",
       "\\item -8.03560281151948\n",
       "\\end{enumerate*}\n"
      ],
      "text/markdown": [
       "1. -24.757483973264\n",
       "2. -8.03560281151948\n",
       "\n",
       "\n"
      ],
      "text/plain": [
       "[1] -24.757484  -8.035603"
      ]
     },
     "metadata": {},
     "output_type": "display_data"
    }
   ],
   "source": [
    "print('todas')\n",
    "range(df$rabs, na.rm = TRUE)\n",
    "print('buenas')\n",
    "range(df1$rabs, na.rm = TRUE)"
   ]
  },
  {
   "cell_type": "code",
   "execution_count": 12,
   "metadata": {},
   "outputs": [
    {
     "data": {
      "text/html": [
       "9"
      ],
      "text/latex": [
       "9"
      ],
      "text/markdown": [
       "9"
      ],
      "text/plain": [
       "[1] 9"
      ]
     },
     "metadata": {},
     "output_type": "display_data"
    }
   ],
   "source": [
    "#bin = c(-25.0, -22.0, -21.5, -21.0, -20.5, -20.0, -19.5, -19.0, -5.0)\n",
    "\n",
    "#usando quantiles\n",
    "#bin = c(-27.0, -21.81, -21.43, -21.12, -20.81, -20.44, -20.0, -19.36, -5.0)\n",
    "\n",
    "bin = c(-27.0, -21.8, -21.4, -21.1, -20.8, -20.4, -20.0, -19.3, -5.0)\n",
    "length(bin)"
   ]
  },
  {
   "cell_type": "code",
   "execution_count": 13,
   "metadata": {},
   "outputs": [],
   "source": [
    "dfm1 = subset(df1, df1$rabs > bin[1] & df1$rabs <= bin[2])\n",
    "dfm2 = subset(df1, df1$rabs > bin[2] & df1$rabs <= bin[3])\n",
    "dfm3 = subset(df1, df1$rabs > bin[3] & df1$rabs <= bin[4])\n",
    "dfm4 = subset(df1, df1$rabs > bin[4] & df1$rabs <= bin[5])\n",
    "dfm5 = subset(df1, df1$rabs > bin[5] & df1$rabs <= bin[6])\n",
    "dfm6 = subset(df1, df1$rabs > bin[6] & df1$rabs <= bin[7])\n",
    "dfm7 = subset(df1, df1$rabs > bin[7] & df1$rabs <= bin[8])\n",
    "dfm8 = subset(df1, df1$rabs > bin[8] & df1$rabs <= bin[9])"
   ]
  },
  {
   "cell_type": "code",
   "execution_count": 14,
   "metadata": {},
   "outputs": [
    {
     "name": "stdout",
     "output_type": "stream",
     "text": [
      "[1] Glx all range= 71294         \n",
      "[1] Glx bin[]= 9244      \n",
      "[1] Glx bin[]= 9429      \n",
      "[1] Glx bin[]= 8740      \n",
      "[1] Glx bin[]= 8556      \n",
      "[1] Glx bin[]= 9717      \n",
      "[1] Glx bin[]= 7953      \n",
      "[1] Glx bin[]= 9398      \n",
      "[1] Glx bin[]= 8257      \n"
     ]
    }
   ],
   "source": [
    "C = df1$r90/df1$r50\n",
    "\n",
    "c1 = dfm1$r90/dfm1$r50\n",
    "c2 = dfm2$r90/dfm2$r50\n",
    "c3 = dfm3$r90/dfm3$r50\n",
    "c4 = dfm4$r90/dfm4$r50\n",
    "c5 = dfm5$r90/dfm5$r50\n",
    "c6 = dfm6$r90/dfm6$r50\n",
    "c7 = dfm7$r90/dfm7$r50\n",
    "c8 = dfm8$r90/dfm8$r50\n",
    "\n",
    "print(c('Glx all range=',length(C)), quote = FALSE)\n",
    "\n",
    "print(c('Glx bin[]=',length(c1)), quote = FALSE)\n",
    "print(c('Glx bin[]=',length(c2)), quote = FALSE)\n",
    "print(c('Glx bin[]=',length(c3)), quote = FALSE)\n",
    "print(c('Glx bin[]=',length(c4)), quote = FALSE)\n",
    "print(c('Glx bin[]=',length(c5)), quote = FALSE)\n",
    "print(c('Glx bin[]=',length(c6)), quote = FALSE)\n",
    "print(c('Glx bin[]=',length(c7)), quote = FALSE)\n",
    "print(c('Glx bin[]=',length(c8)), quote = FALSE)"
   ]
  },
  {
   "cell_type": "code",
   "execution_count": 15,
   "metadata": {},
   "outputs": [
    {
     "data": {
      "image/png": "[encoded data removed]",
      "text/plain": [
       "Plot with title “rango 8”"
      ]
     },
     "metadata": {
      "image/png": {
       "height": 420,
       "width": 420
      }
     },
     "output_type": "display_data"
    }
   ],
   "source": [
    "#cairo_ps(\"xx.eps\")\n",
    "par(mfrow=c(3,3))\n",
    "par(mar = c(2, 2, 2, 2))\n",
    "par(oma = c(5, 5, 2, 2))\n",
    "#par(mar = c(0, 0, 0, 0))\n",
    "#par(oma = c(5, 6, 2, 2))\n",
    "\n",
    "limx=c(1.5,4.5)\n",
    "hist(C, xlim=limx, breaks=30, main='[-23,-17]')\n",
    "\n",
    "hist(c1, xlim=limx, breaks=30, main='rango 1')\n",
    "hist(c2, xlim=limx, breaks=30, main='rango 2')\n",
    "hist(c3, xlim=limx, breaks=30, main='rango 3')\n",
    "hist(c4, xlim=limx, breaks=30, main='rango 4')\n",
    "hist(c5, xlim=limx, breaks=30, main='rango 5')\n",
    "hist(c6, xlim=limx, breaks=30, main='rango 6')\n",
    "hist(c7, xlim=limx, breaks=30, main='rango 7')\n",
    "hist(c8, xlim=limx, breaks=30, main='rango 8')"
   ]
  },
  {
   "cell_type": "code",
   "execution_count": 16,
   "metadata": {},
   "outputs": [
    {
     "data": {
      "text/html": [
       "<style>\n",
       ".list-inline {list-style: none; margin:0; padding: 0}\n",
       ".list-inline>li {display: inline-block}\n",
       ".list-inline>li:not(:last-child)::after {content: \"\\00b7\"; padding: 0 .5ex}\n",
       "</style>\n",
       "<ol class=list-inline><li>1.06310994169567</li><li>10.5766133238208</li></ol>\n"
      ],
      "text/latex": [
       "\\begin{enumerate*}\n",
       "\\item 1.06310994169567\n",
       "\\item 10.5766133238208\n",
       "\\end{enumerate*}\n"
      ],
      "text/markdown": [
       "1. 1.06310994169567\n",
       "2. 10.5766133238208\n",
       "\n",
       "\n"
      ],
      "text/plain": [
       "[1]  1.06311 10.57661"
      ]
     },
     "metadata": {},
     "output_type": "display_data"
    },
    {
     "data": {
      "text/html": [
       "71294"
      ],
      "text/latex": [
       "71294"
      ],
      "text/markdown": [
       "71294"
      ],
      "text/plain": [
       "[1] 71294"
      ]
     },
     "metadata": {},
     "output_type": "display_data"
    },
    {
     "data": {
      "image/png": "[encoded data removed]",
      "text/plain": [
       "Plot with title “[-25,-8]”"
      ]
     },
     "metadata": {
      "image/png": {
       "height": 420,
       "width": 420
      }
     },
     "output_type": "display_data"
    }
   ],
   "source": [
    "par(mfrow=c(1,2))\n",
    "limx=c(1.5,4.5)\n",
    "#limx=c(min(C),max(C))\n",
    "hist(C, xlim=limx, breaks=50, main='[-25,-8]')\n",
    "range(C)\n",
    "br <- seq(min(C), max(C), length = 100)\n",
    "hx = hist(C,plot=F,breaks=br)\n",
    "plot(hx$mids,hx$counts/length(C),type='l',xlim=limx)\n",
    "length(C)"
   ]
  },
  {
   "cell_type": "markdown",
   "metadata": {},
   "source": [
    "# Calculo la Acumulada"
   ]
  },
  {
   "cell_type": "code",
   "execution_count": 17,
   "metadata": {},
   "outputs": [
    {
     "data": {
      "text/plain": [
       "Empirical CDF:\t  71294 unique values with summary\n",
       "   Min. 1st Qu.  Median    Mean 3rd Qu.    Max. \n",
       "  1.063   2.403   2.837   2.780   3.156  10.577 "
      ]
     },
     "metadata": {},
     "output_type": "display_data"
    },
    {
     "data": {
      "image/png": "[encoded data removed]",
      "text/plain": [
       "Plot with title “ecdf(C)”"
      ]
     },
     "metadata": {
      "image/png": {
       "height": 420,
       "width": 420
      }
     },
     "output_type": "display_data"
    }
   ],
   "source": [
    "Fn <- ecdf(C)\n",
    "plot(Fn,ylab=\"Fn(x)\", pch = 19)\n",
    "summary(Fn)\n",
    "#plot(C,Fn(C))"
   ]
  },
  {
   "cell_type": "markdown",
   "metadata": {},
   "source": [
    "### Tabla para tirar aleatorios en [0,1] y sacar un C"
   ]
  },
  {
   "cell_type": "code",
   "execution_count": 18,
   "metadata": {},
   "outputs": [
    {
     "data": {
      "text/html": [
       "<table class=\"dataframe\">\n",
       "<caption>A data.frame: 5 × 2</caption>\n",
       "<thead>\n",
       "\t<tr><th></th><th scope=col>C</th><th scope=col>Fn.C.</th></tr>\n",
       "\t<tr><th></th><th scope=col>&lt;dbl&gt;</th><th scope=col>&lt;dbl&gt;</th></tr>\n",
       "</thead>\n",
       "<tbody>\n",
       "\t<tr><th scope=row>1</th><td>3.125829</td><td>0.72171571</td></tr>\n",
       "\t<tr><th scope=row>2</th><td>2.071557</td><td>0.06990771</td></tr>\n",
       "\t<tr><th scope=row>3</th><td>2.316929</td><td>0.20026931</td></tr>\n",
       "\t<tr><th scope=row>4</th><td>2.109680</td><td>0.08711813</td></tr>\n",
       "\t<tr><th scope=row>5</th><td>2.974762</td><td>0.59615115</td></tr>\n",
       "</tbody>\n",
       "</table>\n"
      ],
      "text/latex": [
       "A data.frame: 5 × 2\n",
       "\\begin{tabular}{r|ll}\n",
       "  & C & Fn.C.\\\\\n",
       "  & <dbl> & <dbl>\\\\\n",
       "\\hline\n",
       "\t1 & 3.125829 & 0.72171571\\\\\n",
       "\t2 & 2.071557 & 0.06990771\\\\\n",
       "\t3 & 2.316929 & 0.20026931\\\\\n",
       "\t4 & 2.109680 & 0.08711813\\\\\n",
       "\t5 & 2.974762 & 0.59615115\\\\\n",
       "\\end{tabular}\n"
      ],
      "text/markdown": [
       "\n",
       "A data.frame: 5 × 2\n",
       "\n",
       "| <!--/--> | C &lt;dbl&gt; | Fn.C. &lt;dbl&gt; |\n",
       "|---|---|---|\n",
       "| 1 | 3.125829 | 0.72171571 |\n",
       "| 2 | 2.071557 | 0.06990771 |\n",
       "| 3 | 2.316929 | 0.20026931 |\n",
       "| 4 | 2.109680 | 0.08711813 |\n",
       "| 5 | 2.974762 | 0.59615115 |\n",
       "\n"
      ],
      "text/plain": [
       "  C        Fn.C.     \n",
       "1 3.125829 0.72171571\n",
       "2 2.071557 0.06990771\n",
       "3 2.316929 0.20026931\n",
       "4 2.109680 0.08711813\n",
       "5 2.974762 0.59615115"
      ]
     },
     "metadata": {},
     "output_type": "display_data"
    }
   ],
   "source": [
    "df_c = data.frame(C, Fn(C))\n",
    "head(df_c, 5)"
   ]
  },
  {
   "cell_type": "markdown",
   "metadata": {},
   "source": [
    "## Tabla C buenos ( df_c p/ cada bin de mag )"
   ]
  },
  {
   "cell_type": "code",
   "execution_count": 19,
   "metadata": {},
   "outputs": [
    {
     "data": {
      "text/html": [
       "<table class=\"dataframe\">\n",
       "<caption>A data.frame: 2 × 2</caption>\n",
       "<thead>\n",
       "\t<tr><th></th><th scope=col>c1</th><th scope=col>Fn1.c1.</th></tr>\n",
       "\t<tr><th></th><th scope=col>&lt;dbl&gt;</th><th scope=col>&lt;dbl&gt;</th></tr>\n",
       "</thead>\n",
       "<tbody>\n",
       "\t<tr><th scope=row>1</th><td>3.115771</td><td>0.5048680</td></tr>\n",
       "\t<tr><th scope=row>2</th><td>3.414226</td><td>0.9276287</td></tr>\n",
       "</tbody>\n",
       "</table>\n"
      ],
      "text/latex": [
       "A data.frame: 2 × 2\n",
       "\\begin{tabular}{r|ll}\n",
       "  & c1 & Fn1.c1.\\\\\n",
       "  & <dbl> & <dbl>\\\\\n",
       "\\hline\n",
       "\t1 & 3.115771 & 0.5048680\\\\\n",
       "\t2 & 3.414226 & 0.9276287\\\\\n",
       "\\end{tabular}\n"
      ],
      "text/markdown": [
       "\n",
       "A data.frame: 2 × 2\n",
       "\n",
       "| <!--/--> | c1 &lt;dbl&gt; | Fn1.c1. &lt;dbl&gt; |\n",
       "|---|---|---|\n",
       "| 1 | 3.115771 | 0.5048680 |\n",
       "| 2 | 3.414226 | 0.9276287 |\n",
       "\n"
      ],
      "text/plain": [
       "  c1       Fn1.c1.  \n",
       "1 3.115771 0.5048680\n",
       "2 3.414226 0.9276287"
      ]
     },
     "metadata": {},
     "output_type": "display_data"
    }
   ],
   "source": [
    "Fn1 <- ecdf(c1)\n",
    "df_c1 = data.frame(c1, Fn1(c1))\n",
    "head(df_c1, 2)\n",
    "\n",
    "Fn2 <- ecdf(c2)\n",
    "df_c2 = data.frame(c2, Fn2(c2))\n",
    "#head(df_c2, 2)\n",
    "\n",
    "Fn3 <- ecdf(c3)\n",
    "df_c3 = data.frame(c3, Fn3(c3))\n",
    "#head(df_c3, 2)\n",
    "\n",
    "Fn4 <- ecdf(c4)\n",
    "df_c4 = data.frame(c4, Fn4(c4))\n",
    "#head(df_c4, 2)\n",
    "\n",
    "Fn5 <- ecdf(c5)\n",
    "df_c5 = data.frame(c5, Fn5(c5))\n",
    "#head(df_c5, 2)\n",
    "\n",
    "Fn6 <- ecdf(c6)\n",
    "df_c6 = data.frame(c6, Fn6(c6))\n",
    "#head(df_c6, 2)\n",
    "\n",
    "Fn7 <- ecdf(c7)\n",
    "df_c7 = data.frame(c7, Fn7(c7))\n",
    "#head(df_c7, 2)\n",
    "\n",
    "Fn8 <- ecdf(c8)\n",
    "df_c8 = data.frame(c8, Fn8(c8))\n",
    "#head(df_c8, 2)"
   ]
  },
  {
   "cell_type": "markdown",
   "metadata": {},
   "source": [
    "## [ dfmalo ] Seleccion de glx tempel c/ r50 malo"
   ]
  },
  {
   "cell_type": "code",
   "execution_count": 20,
   "metadata": {
    "scrolled": false
   },
   "outputs": [
    {
     "name": "stdout",
     "output_type": "stream",
     "text": [
      "[1] 87717\n"
     ]
    },
    {
     "data": {
      "text/html": [
       "<style>\n",
       ".list-inline {list-style: none; margin:0; padding: 0}\n",
       ".list-inline>li {display: inline-block}\n",
       ".list-inline>li:not(:last-child)::after {content: \"\\00b7\"; padding: 0 .5ex}\n",
       "</style>\n",
       "<ol class=list-inline><li>-4548438694.70605</li><li>-5.65794325600281</li></ol>\n"
      ],
      "text/latex": [
       "\\begin{enumerate*}\n",
       "\\item -4548438694.70605\n",
       "\\item -5.65794325600281\n",
       "\\end{enumerate*}\n"
      ],
      "text/markdown": [
       "1. -4548438694.70605\n",
       "2. -5.65794325600281\n",
       "\n",
       "\n"
      ],
      "text/plain": [
       "[1] -4.548439e+09 -5.657943e+00"
      ]
     },
     "metadata": {},
     "output_type": "display_data"
    }
   ],
   "source": [
    "dfmalo = subset(df, df$r50 < 1.6)\n",
    "\n",
    "Nm = length(dfmalo$r50)\n",
    "print(Nm)\n",
    "#head(as.double(dfmalo$galID),5)\n",
    "#head(dfmalo,5)\n",
    "range(dfmalo$rabs)"
   ]
  },
  {
   "cell_type": "raw",
   "metadata": {},
   "source": [
    "#R no sabe trabajr con large number. Los lee mal de entrada \n",
    "tt = dfmalo$galID\n",
    "\n",
    "int_mal=as.double(tt[1])\n",
    "write.table(as.double(tt), file = \"../../tempel_id_r50_malo.dat\",\n",
    "            sep='\\t', row.names = FALSE, dec = \".\" , quote=F, col.names = FALSE)\n",
    "int_mal"
   ]
  },
  {
   "cell_type": "markdown",
   "metadata": {},
   "source": [
    "##### Seleccionar C random para dfmalo usando df1"
   ]
  },
  {
   "cell_type": "code",
   "execution_count": 21,
   "metadata": {},
   "outputs": [
    {
     "name": "stdout",
     "output_type": "stream",
     "text": [
      "[1] Glx malas all range= 87717               \n"
     ]
    },
    {
     "data": {
      "text/html": [
       "<style>\n",
       ".list-inline {list-style: none; margin:0; padding: 0}\n",
       ".list-inline>li {display: inline-block}\n",
       ".list-inline>li:not(:last-child)::after {content: \"\\00b7\"; padding: 0 .5ex}\n",
       "</style>\n",
       "<ol class=list-inline><li>-4548438694.70605</li><li>-5.65794325600281</li></ol>\n"
      ],
      "text/latex": [
       "\\begin{enumerate*}\n",
       "\\item -4548438694.70605\n",
       "\\item -5.65794325600281\n",
       "\\end{enumerate*}\n"
      ],
      "text/markdown": [
       "1. -4548438694.70605\n",
       "2. -5.65794325600281\n",
       "\n",
       "\n"
      ],
      "text/plain": [
       "[1] -4.548439e+09 -5.657943e+00"
      ]
     },
     "metadata": {},
     "output_type": "display_data"
    },
    {
     "name": "stdout",
     "output_type": "stream",
     "text": [
      "[1] Glx malas bin1= 1210           \n"
     ]
    },
    {
     "data": {
      "text/html": [
       "<style>\n",
       ".list-inline {list-style: none; margin:0; padding: 0}\n",
       ".list-inline>li {display: inline-block}\n",
       ".list-inline>li:not(:last-child)::after {content: \"\\00b7\"; padding: 0 .5ex}\n",
       "</style>\n",
       "<ol class=list-inline><li>-23.2219748100053</li><li>-21.8001171597677</li></ol>\n"
      ],
      "text/latex": [
       "\\begin{enumerate*}\n",
       "\\item -23.2219748100053\n",
       "\\item -21.8001171597677\n",
       "\\end{enumerate*}\n"
      ],
      "text/markdown": [
       "1. -23.2219748100053\n",
       "2. -21.8001171597677\n",
       "\n",
       "\n"
      ],
      "text/plain": [
       "[1] -23.22197 -21.80012"
      ]
     },
     "metadata": {},
     "output_type": "display_data"
    },
    {
     "name": "stdout",
     "output_type": "stream",
     "text": [
      "[1] Glx malas bin2= 6340           \n"
     ]
    },
    {
     "data": {
      "text/html": [
       "<style>\n",
       ".list-inline {list-style: none; margin:0; padding: 0}\n",
       ".list-inline>li {display: inline-block}\n",
       ".list-inline>li:not(:last-child)::after {content: \"\\00b7\"; padding: 0 .5ex}\n",
       "</style>\n",
       "<ol class=list-inline><li>-21.7994369990897</li><li>-21.4000685252928</li></ol>\n"
      ],
      "text/latex": [
       "\\begin{enumerate*}\n",
       "\\item -21.7994369990897\n",
       "\\item -21.4000685252928\n",
       "\\end{enumerate*}\n"
      ],
      "text/markdown": [
       "1. -21.7994369990897\n",
       "2. -21.4000685252928\n",
       "\n",
       "\n"
      ],
      "text/plain": [
       "[1] -21.79944 -21.40007"
      ]
     },
     "metadata": {},
     "output_type": "display_data"
    },
    {
     "name": "stdout",
     "output_type": "stream",
     "text": [
      "[1] Glx malas bin3= 8663           \n"
     ]
    },
    {
     "data": {
      "text/html": [
       "<style>\n",
       ".list-inline {list-style: none; margin:0; padding: 0}\n",
       ".list-inline>li {display: inline-block}\n",
       ".list-inline>li:not(:last-child)::after {content: \"\\00b7\"; padding: 0 .5ex}\n",
       "</style>\n",
       "<ol class=list-inline><li>-99.9</li><li>1237674655827296512</li></ol>\n"
      ],
      "text/latex": [
       "\\begin{enumerate*}\n",
       "\\item -99.9\n",
       "\\item 1237674655827296512\n",
       "\\end{enumerate*}\n"
      ],
      "text/markdown": [
       "1. -99.9\n",
       "2. 1237674655827296512\n",
       "\n",
       "\n"
      ],
      "text/plain": [
       "[1] -9.990000e+01  1.237675e+18"
      ]
     },
     "metadata": {},
     "output_type": "display_data"
    },
    {
     "name": "stdout",
     "output_type": "stream",
     "text": [
      "[1] Glx malas bin4= 11591          \n"
     ]
    },
    {
     "data": {
      "text/html": [
       "<style>\n",
       ".list-inline {list-style: none; margin:0; padding: 0}\n",
       ".list-inline>li {display: inline-block}\n",
       ".list-inline>li:not(:last-child)::after {content: \"\\00b7\"; padding: 0 .5ex}\n",
       "</style>\n",
       "<ol class=list-inline><li>-21.0999867866474</li><li>-20.8000119766066</li></ol>\n"
      ],
      "text/latex": [
       "\\begin{enumerate*}\n",
       "\\item -21.0999867866474\n",
       "\\item -20.8000119766066\n",
       "\\end{enumerate*}\n"
      ],
      "text/markdown": [
       "1. -21.0999867866474\n",
       "2. -20.8000119766066\n",
       "\n",
       "\n"
      ],
      "text/plain": [
       "[1] -21.09999 -20.80001"
      ]
     },
     "metadata": {},
     "output_type": "display_data"
    },
    {
     "name": "stdout",
     "output_type": "stream",
     "text": [
      "[1] Glx malas bin5= 17150          \n"
     ]
    },
    {
     "data": {
      "text/html": [
       "<style>\n",
       ".list-inline {list-style: none; margin:0; padding: 0}\n",
       ".list-inline>li {display: inline-block}\n",
       ".list-inline>li:not(:last-child)::after {content: \"\\00b7\"; padding: 0 .5ex}\n",
       "</style>\n",
       "<ol class=list-inline><li>-20.7998869004678</li><li>-20.4000248266811</li></ol>\n"
      ],
      "text/latex": [
       "\\begin{enumerate*}\n",
       "\\item -20.7998869004678\n",
       "\\item -20.4000248266811\n",
       "\\end{enumerate*}\n"
      ],
      "text/markdown": [
       "1. -20.7998869004678\n",
       "2. -20.4000248266811\n",
       "\n",
       "\n"
      ],
      "text/plain": [
       "[1] -20.79989 -20.40002"
      ]
     },
     "metadata": {},
     "output_type": "display_data"
    },
    {
     "name": "stdout",
     "output_type": "stream",
     "text": [
      "[1] Glx malas bin6= 15564          \n"
     ]
    },
    {
     "data": {
      "text/html": [
       "<style>\n",
       ".list-inline {list-style: none; margin:0; padding: 0}\n",
       ".list-inline>li {display: inline-block}\n",
       ".list-inline>li:not(:last-child)::after {content: \"\\00b7\"; padding: 0 .5ex}\n",
       "</style>\n",
       "<ol class=list-inline><li>-20.3999715156067</li><li>-20.0000313406269</li></ol>\n"
      ],
      "text/latex": [
       "\\begin{enumerate*}\n",
       "\\item -20.3999715156067\n",
       "\\item -20.0000313406269\n",
       "\\end{enumerate*}\n"
      ],
      "text/markdown": [
       "1. -20.3999715156067\n",
       "2. -20.0000313406269\n",
       "\n",
       "\n"
      ],
      "text/plain": [
       "[1] -20.39997 -20.00003"
      ]
     },
     "metadata": {},
     "output_type": "display_data"
    },
    {
     "name": "stdout",
     "output_type": "stream",
     "text": [
      "[1] Glx malas bin7= 18129          \n"
     ]
    },
    {
     "data": {
      "text/html": [
       "<style>\n",
       ".list-inline {list-style: none; margin:0; padding: 0}\n",
       ".list-inline>li {display: inline-block}\n",
       ".list-inline>li:not(:last-child)::after {content: \"\\00b7\"; padding: 0 .5ex}\n",
       "</style>\n",
       "<ol class=list-inline><li>-19.9999522698427</li><li>-19.3000152686851</li></ol>\n"
      ],
      "text/latex": [
       "\\begin{enumerate*}\n",
       "\\item -19.9999522698427\n",
       "\\item -19.3000152686851\n",
       "\\end{enumerate*}\n"
      ],
      "text/markdown": [
       "1. -19.9999522698427\n",
       "2. -19.3000152686851\n",
       "\n",
       "\n"
      ],
      "text/plain": [
       "[1] -19.99995 -19.30002"
      ]
     },
     "metadata": {},
     "output_type": "display_data"
    },
    {
     "name": "stdout",
     "output_type": "stream",
     "text": [
      "[1] Glx malas bin8= 9069           \n"
     ]
    },
    {
     "data": {
      "text/html": [
       "<style>\n",
       ".list-inline {list-style: none; margin:0; padding: 0}\n",
       ".list-inline>li {display: inline-block}\n",
       ".list-inline>li:not(:last-child)::after {content: \"\\00b7\"; padding: 0 .5ex}\n",
       "</style>\n",
       "<ol class=list-inline><li>-19.2999592934491</li><li>-5.65794325600281</li></ol>\n"
      ],
      "text/latex": [
       "\\begin{enumerate*}\n",
       "\\item -19.2999592934491\n",
       "\\item -5.65794325600281\n",
       "\\end{enumerate*}\n"
      ],
      "text/markdown": [
       "1. -19.2999592934491\n",
       "2. -5.65794325600281\n",
       "\n",
       "\n"
      ],
      "text/plain": [
       "[1] -19.299959  -5.657943"
      ]
     },
     "metadata": {},
     "output_type": "display_data"
    }
   ],
   "source": [
    "#A partir de la rabs de la glx con r50 malo saco un C.\n",
    "input = dfmalo$rabs\n",
    "\n",
    "#ist(input)\n",
    "in0 = subset(dfmalo, input >= min(input) & input <= max(input))\n",
    "in1 = subset(dfmalo, input >= bin[1] & input <= bin[2])\n",
    "in2 = subset(dfmalo, input >= bin[2] & input <= bin[3])\n",
    "in3 = subset(dfmalo, input >= bin[3] & input <= bin[4])\n",
    "in4 = subset(dfmalo, input >= bin[4] & input <= bin[5])\n",
    "in5 = subset(dfmalo, input >= bin[5] & input <= bin[6])\n",
    "in6 = subset(dfmalo, input >= bin[6] & input <= bin[7])\n",
    "in7 = subset(dfmalo, input >= bin[7] & input <= bin[8])\n",
    "in8 = subset(dfmalo, input >= bin[8] & input <= bin[9])\n",
    "\n",
    "print(c('Glx malas all range=',length(input)), quote = FALSE)\n",
    "range(input)\n",
    "print(c('Glx malas bin1=',length(in1$rabs)), quote = FALSE)\n",
    "range(in1$rabs)\n",
    "print(c('Glx malas bin2=',length(in2$rabs)), quote = FALSE)\n",
    "range(in2$rabs)\n",
    "print(c('Glx malas bin3=',length(in3$rabs)), quote = FALSE)\n",
    "range(in3)\n",
    "print(c('Glx malas bin4=',length(in4$rabs)), quote = FALSE)\n",
    "range(in4$rabs)\n",
    "print(c('Glx malas bin5=',length(in5$rabs)), quote = FALSE)\n",
    "range(in5$rabs)\n",
    "print(c('Glx malas bin6=',length(in6$rabs)), quote = FALSE)\n",
    "range(in6$rabs)\n",
    "print(c('Glx malas bin7=',length(in7$rabs)), quote = FALSE)\n",
    "range(in7$rabs)\n",
    "print(c('Glx malas bin8=',length(in8$rabs)), quote = FALSE)\n",
    "range(in8$rabs)"
   ]
  },
  {
   "cell_type": "markdown",
   "metadata": {},
   "source": [
    "### Defino mis 30 seeds"
   ]
  },
  {
   "cell_type": "code",
   "execution_count": 22,
   "metadata": {},
   "outputs": [
    {
     "data": {
      "text/html": [
       "<style>\n",
       ".list-inline {list-style: none; margin:0; padding: 0}\n",
       ".list-inline>li {display: inline-block}\n",
       ".list-inline>li:not(:last-child)::after {content: \"\\00b7\"; padding: 0 .5ex}\n",
       "</style>\n",
       "<ol class=list-inline><li>-33</li><li>-41</li><li>-30</li><li>31</li><li>-26</li><li>-16</li><li>-11</li><li>-21</li><li>21</li><li>22</li><li>32</li><li>-42</li><li>-46</li><li>-18</li><li>-50</li><li>-31</li><li>16</li><li>-6</li><li>45</li><li>-37</li><li>17</li><li>10</li><li>46</li><li>12</li><li>20</li><li>-28</li><li>36</li><li>33</li><li>-13</li><li>-8</li></ol>\n"
      ],
      "text/latex": [
       "\\begin{enumerate*}\n",
       "\\item -33\n",
       "\\item -41\n",
       "\\item -30\n",
       "\\item 31\n",
       "\\item -26\n",
       "\\item -16\n",
       "\\item -11\n",
       "\\item -21\n",
       "\\item 21\n",
       "\\item 22\n",
       "\\item 32\n",
       "\\item -42\n",
       "\\item -46\n",
       "\\item -18\n",
       "\\item -50\n",
       "\\item -31\n",
       "\\item 16\n",
       "\\item -6\n",
       "\\item 45\n",
       "\\item -37\n",
       "\\item 17\n",
       "\\item 10\n",
       "\\item 46\n",
       "\\item 12\n",
       "\\item 20\n",
       "\\item -28\n",
       "\\item 36\n",
       "\\item 33\n",
       "\\item -13\n",
       "\\item -8\n",
       "\\end{enumerate*}\n"
      ],
      "text/markdown": [
       "1. -33\n",
       "2. -41\n",
       "3. -30\n",
       "4. 31\n",
       "5. -26\n",
       "6. -16\n",
       "7. -11\n",
       "8. -21\n",
       "9. 21\n",
       "10. 22\n",
       "11. 32\n",
       "12. -42\n",
       "13. -46\n",
       "14. -18\n",
       "15. -50\n",
       "16. -31\n",
       "17. 16\n",
       "18. -6\n",
       "19. 45\n",
       "20. -37\n",
       "21. 17\n",
       "22. 10\n",
       "23. 46\n",
       "24. 12\n",
       "25. 20\n",
       "26. -28\n",
       "27. 36\n",
       "28. 33\n",
       "29. -13\n",
       "30. -8\n",
       "\n",
       "\n"
      ],
      "text/plain": [
       " [1] -33 -41 -30  31 -26 -16 -11 -21  21  22  32 -42 -46 -18 -50 -31  16  -6  45\n",
       "[20] -37  17  10  46  12  20 -28  36  33 -13  -8"
      ]
     },
     "metadata": {},
     "output_type": "display_data"
    },
    {
     "data": {
      "text/html": [
       "30"
      ],
      "text/latex": [
       "30"
      ],
      "text/markdown": [
       "30"
      ],
      "text/plain": [
       "[1] 30"
      ]
     },
     "metadata": {},
     "output_type": "display_data"
    }
   ],
   "source": [
    "#seed = c(46, 56, 170, 27, 80, 90, 99, 101, 2, 3, 17, 19, 32, 30, 27, 301, 406, 408,\n",
    "#         64, 65, 26, 88, 5, 23, 103, 46, 22, 74, 11, 63)\n",
    "\n",
    "seed <- sample(-50:50, 30, replace=F)\n",
    "seed\n",
    "\n",
    "length(seed)"
   ]
  },
  {
   "cell_type": "raw",
   "metadata": {},
   "source": [
    "#prueba solo con dos randoms\n",
    "in0 = c(1.58, 5.65)\n",
    "C_ran = matrix(0,nrow = length(in0),ncol = length(seed))\n",
    "C_ran"
   ]
  },
  {
   "cell_type": "markdown",
   "metadata": {},
   "source": [
    "# [ Genero las 30 muestras random de C en todos los bines ] "
   ]
  },
  {
   "cell_type": "markdown",
   "metadata": {},
   "source": [
    "### bin1 = [ , ]  |    ( df_c1: tabla buenos )    |    ( in1: malos )\n",
    "### bin2 = [ , ]  |    ( df_c2: tabla buenos )    |    ( in2: malos )\n",
    "### ........\n",
    "### bin8 = [ , ]  |    ( df_c8: tabla buenos )    |    ( in8: malos )"
   ]
  },
  {
   "cell_type": "code",
   "execution_count": 23,
   "metadata": {},
   "outputs": [],
   "source": [
    "# Matriz dime=(#glx,#seeds)\n",
    "\n",
    "#------------------------------------------------------------\n",
    "#---------- BIN 1\n",
    "#------------------------------------------------------------\n",
    "C_ran1 = matrix(0,nrow = length(in1$rabs),ncol = length(seed))\n",
    "for (j in 1:length(seed)){\n",
    "    set.seed(seed[j])\n",
    "    x_ran = runif(length(in1$rabs)) #ran [0,1] len=glx in mag range\n",
    "\n",
    "\n",
    "    for (i in 1:length(in1$rabs)){\n",
    "        idx = which.min(abs(df_c1$Fn1.c1 - x_ran[i]))\n",
    "        #print(df_c$Fn.C[idx])\n",
    "        #print(df_c$Fn.C[idx-1])\n",
    "        C_ran1[i,j] = df_c1$c1[idx]\n",
    "        #print(df_c$C[idx-1])\n",
    "        #print(idx)\n",
    "        #print(df_c$C[idx])\n",
    "    }\n",
    "}\n",
    "\n",
    "#------------------------------------------------------------\n",
    "#---------- BIN 2\n",
    "#------------------------------------------------------------\n",
    "C_ran2 = matrix(0,nrow = length(in2$rabs),ncol = length(seed))\n",
    "for (j in 1:length(seed)){\n",
    "    set.seed(seed[j])\n",
    "    x_ran = runif(length(in2$rabs)) #ran [0,1] len=glx in mag range\n",
    "\n",
    "    for (i in 1:length(in2$rabs)){\n",
    "        idx = which.min(abs(df_c2$Fn2.c2 - x_ran[i]))\n",
    "        C_ran2[i,j] = df_c2$c2[idx]\n",
    "    }\n",
    "}\n",
    "\n",
    "#------------------------------------------------------------\n",
    "#---------- BIN 3\n",
    "#------------------------------------------------------------\n",
    "C_ran3 = matrix(0,nrow = length(in3$rabs),ncol = length(seed))\n",
    "for (j in 1:length(seed)){\n",
    "    set.seed(seed[j])\n",
    "    x_ran = runif(length(in3$rabs)) #ran [0,1] len=glx in mag range\n",
    "\n",
    "    for (i in 1:length(in3$rabs)){\n",
    "        idx = which.min(abs(df_c3$Fn3.c3 - x_ran[i]))\n",
    "        C_ran3[i,j] = df_c3$c3[idx]\n",
    "    }\n",
    "}\n",
    "\n",
    "#------------------------------------------------------------\n",
    "#---------- BIN 4\n",
    "#------------------------------------------------------------\n",
    "C_ran4 = matrix(0,nrow = length(in4$rabs),ncol = length(seed))\n",
    "for (j in 1:length(seed)){\n",
    "    set.seed(seed[j])\n",
    "    x_ran = runif(length(in4$rabs)) #ran [0,1] len=glx in mag range\n",
    "\n",
    "    for (i in 1:length(in4$rabs)){\n",
    "        idx = which.min(abs(df_c4$Fn4.c4 - x_ran[i]))\n",
    "        C_ran4[i,j] = df_c4$c4[idx]\n",
    "    }\n",
    "}\n",
    "\n",
    "#------------------------------------------------------------\n",
    "#---------- BIN 5\n",
    "#------------------------------------------------------------\n",
    "C_ran5 = matrix(0,nrow = length(in5$rabs),ncol = length(seed))\n",
    "for (j in 1:length(seed)){\n",
    "    set.seed(seed[j])\n",
    "    x_ran = runif(length(in5$rabs)) #ran [0,1] len=glx in mag range\n",
    "\n",
    "    for (i in 1:length(in5$rabs)){\n",
    "        idx = which.min(abs(df_c5$Fn5.c5 - x_ran[i]))\n",
    "        C_ran5[i,j] = df_c5$c5[idx]\n",
    "    }\n",
    "}\n",
    "\n",
    "#------------------------------------------------------------\n",
    "#---------- BIN 6\n",
    "#------------------------------------------------------------\n",
    "C_ran6 = matrix(0,nrow = length(in6$rabs),ncol = length(seed))\n",
    "for (j in 1:length(seed)){\n",
    "    set.seed(seed[j])\n",
    "    x_ran = runif(length(in6$rabs)) #ran [0,1] len=glx in mag range\n",
    "\n",
    "    for (i in 1:length(in6$rabs)){\n",
    "        idx = which.min(abs(df_c6$Fn6.c6 - x_ran[i]))\n",
    "        C_ran6[i,j] = df_c6$c6[idx]\n",
    "    }\n",
    "}\n",
    "\n",
    "#------------------------------------------------------------\n",
    "#---------- BIN 7\n",
    "#------------------------------------------------------------\n",
    "C_ran7 = matrix(0,nrow = length(in7$rabs),ncol = length(seed))\n",
    "for (j in 1:length(seed)){\n",
    "    set.seed(seed[j])\n",
    "    x_ran = runif(length(in7$rabs)) #ran [0,1] len=glx in mag range\n",
    "\n",
    "    for (i in 1:length(in7$rabs)){\n",
    "        idx = which.min(abs(df_c7$Fn7.c7 - x_ran[i]))\n",
    "        C_ran7[i,j] = df_c7$c7[idx]\n",
    "    }\n",
    "}\n",
    "\n",
    "#------------------------------------------------------------\n",
    "#---------- BIN 8\n",
    "#------------------------------------------------------------\n",
    "C_ran8 = matrix(0,nrow = length(in8$rabs),ncol = length(seed))\n",
    "for (j in 1:length(seed)){\n",
    "    set.seed(seed[j])\n",
    "    x_ran = runif(length(in8$rabs)) #ran [0,1] len=glx in mag range\n",
    "\n",
    "    for (i in 1:length(in8$rabs)){\n",
    "        idx = which.min(abs(df_c8$Fn8.c8 - x_ran[i]))\n",
    "        C_ran8[i,j] = df_c8$c8[idx]\n",
    "    }\n",
    "}"
   ]
  },
  {
   "cell_type": "code",
   "execution_count": 24,
   "metadata": {},
   "outputs": [
    {
     "data": {
      "text/html": [
       "<table class=\"dataframe\">\n",
       "<caption>A matrix: 2 × 30 of type dbl</caption>\n",
       "<tbody>\n",
       "\t<tr><td>3.447632</td><td>3.024132</td><td>2.757635</td><td>3.127330</td><td>2.964117</td><td>3.217438</td><td>2.111425</td><td>3.013761</td><td>3.296648</td><td>2.865198</td><td>⋯</td><td>2.493862</td><td>3.117287</td><td>2.575013</td><td>2.235633</td><td>3.364724</td><td>3.334121</td><td>3.196265</td><td>3.061924</td><td>3.388244</td><td>3.441744</td></tr>\n",
       "\t<tr><td>3.449185</td><td>2.648691</td><td>2.477132</td><td>3.445326</td><td>3.035867</td><td>3.322392</td><td>2.122411</td><td>2.997343</td><td>2.756020</td><td>3.090098</td><td>⋯</td><td>3.481455</td><td>2.870035</td><td>2.734585</td><td>3.319346</td><td>3.284750</td><td>2.191229</td><td>3.228318</td><td>3.007151</td><td>3.208319</td><td>3.104442</td></tr>\n",
       "</tbody>\n",
       "</table>\n"
      ],
      "text/latex": [
       "A matrix: 2 × 30 of type dbl\n",
       "\\begin{tabular}{lllllllllllllllllllll}\n",
       "\t 3.447632 & 3.024132 & 2.757635 & 3.127330 & 2.964117 & 3.217438 & 2.111425 & 3.013761 & 3.296648 & 2.865198 & ⋯ & 2.493862 & 3.117287 & 2.575013 & 2.235633 & 3.364724 & 3.334121 & 3.196265 & 3.061924 & 3.388244 & 3.441744\\\\\n",
       "\t 3.449185 & 2.648691 & 2.477132 & 3.445326 & 3.035867 & 3.322392 & 2.122411 & 2.997343 & 2.756020 & 3.090098 & ⋯ & 3.481455 & 2.870035 & 2.734585 & 3.319346 & 3.284750 & 2.191229 & 3.228318 & 3.007151 & 3.208319 & 3.104442\\\\\n",
       "\\end{tabular}\n"
      ],
      "text/markdown": [
       "\n",
       "A matrix: 2 × 30 of type dbl\n",
       "\n",
       "| 3.447632 | 3.024132 | 2.757635 | 3.127330 | 2.964117 | 3.217438 | 2.111425 | 3.013761 | 3.296648 | 2.865198 | ⋯ | 2.493862 | 3.117287 | 2.575013 | 2.235633 | 3.364724 | 3.334121 | 3.196265 | 3.061924 | 3.388244 | 3.441744 |\n",
       "| 3.449185 | 2.648691 | 2.477132 | 3.445326 | 3.035867 | 3.322392 | 2.122411 | 2.997343 | 2.756020 | 3.090098 | ⋯ | 3.481455 | 2.870035 | 2.734585 | 3.319346 | 3.284750 | 2.191229 | 3.228318 | 3.007151 | 3.208319 | 3.104442 |\n",
       "\n"
      ],
      "text/plain": [
       "     [,1]     [,2]     [,3]     [,4]     [,5]     [,6]     [,7]     [,8]    \n",
       "[1,] 3.447632 3.024132 2.757635 3.127330 2.964117 3.217438 2.111425 3.013761\n",
       "[2,] 3.449185 2.648691 2.477132 3.445326 3.035867 3.322392 2.122411 2.997343\n",
       "     [,9]     [,10]    [,11] [,12]    [,13]    [,14]    [,15]    [,16]   \n",
       "[1,] 3.296648 2.865198 ⋯     2.493862 3.117287 2.575013 2.235633 3.364724\n",
       "[2,] 2.756020 3.090098 ⋯     3.481455 2.870035 2.734585 3.319346 3.284750\n",
       "     [,17]    [,18]    [,19]    [,20]    [,21]   \n",
       "[1,] 3.334121 3.196265 3.061924 3.388244 3.441744\n",
       "[2,] 2.191229 3.228318 3.007151 3.208319 3.104442"
      ]
     },
     "metadata": {},
     "output_type": "display_data"
    },
    {
     "data": {
      "text/html": [
       "<style>\n",
       ".list-inline {list-style: none; margin:0; padding: 0}\n",
       ".list-inline>li {display: inline-block}\n",
       ".list-inline>li:not(:last-child)::after {content: \"\\00b7\"; padding: 0 .5ex}\n",
       "</style>\n",
       "<ol class=list-inline><li>1.11599146575681</li><li>7.16408087495738</li></ol>\n"
      ],
      "text/latex": [
       "\\begin{enumerate*}\n",
       "\\item 1.11599146575681\n",
       "\\item 7.16408087495738\n",
       "\\end{enumerate*}\n"
      ],
      "text/markdown": [
       "1. 1.11599146575681\n",
       "2. 7.16408087495738\n",
       "\n",
       "\n"
      ],
      "text/plain": [
       "[1] 1.115991 7.164081"
      ]
     },
     "metadata": {},
     "output_type": "display_data"
    },
    {
     "data": {
      "text/html": [
       "<style>\n",
       ".list-inline {list-style: none; margin:0; padding: 0}\n",
       ".list-inline>li {display: inline-block}\n",
       ".list-inline>li:not(:last-child)::after {content: \"\\00b7\"; padding: 0 .5ex}\n",
       "</style>\n",
       "<ol class=list-inline><li>1.06310994169567</li><li>7.2367838437974</li></ol>\n"
      ],
      "text/latex": [
       "\\begin{enumerate*}\n",
       "\\item 1.06310994169567\n",
       "\\item 7.2367838437974\n",
       "\\end{enumerate*}\n"
      ],
      "text/markdown": [
       "1. 1.06310994169567\n",
       "2. 7.2367838437974\n",
       "\n",
       "\n"
      ],
      "text/plain": [
       "[1] 1.063110 7.236784"
      ]
     },
     "metadata": {},
     "output_type": "display_data"
    },
    {
     "data": {
      "text/html": [
       "<style>\n",
       ".list-inline {list-style: none; margin:0; padding: 0}\n",
       ".list-inline>li {display: inline-block}\n",
       ".list-inline>li:not(:last-child)::after {content: \"\\00b7\"; padding: 0 .5ex}\n",
       "</style>\n",
       "<ol class=list-inline><li>1.30962066557066</li><li>5.89257524677253</li></ol>\n"
      ],
      "text/latex": [
       "\\begin{enumerate*}\n",
       "\\item 1.30962066557066\n",
       "\\item 5.89257524677253\n",
       "\\end{enumerate*}\n"
      ],
      "text/markdown": [
       "1. 1.30962066557066\n",
       "2. 5.89257524677253\n",
       "\n",
       "\n"
      ],
      "text/plain": [
       "[1] 1.309621 5.892575"
      ]
     },
     "metadata": {},
     "output_type": "display_data"
    },
    {
     "data": {
      "text/html": [
       "<style>\n",
       ".list-inline {list-style: none; margin:0; padding: 0}\n",
       ".list-inline>li {display: inline-block}\n",
       ".list-inline>li:not(:last-child)::after {content: \"\\00b7\"; padding: 0 .5ex}\n",
       "</style>\n",
       "<ol class=list-inline><li>1.35638160372595</li><li>9.17150180769806</li></ol>\n"
      ],
      "text/latex": [
       "\\begin{enumerate*}\n",
       "\\item 1.35638160372595\n",
       "\\item 9.17150180769806\n",
       "\\end{enumerate*}\n"
      ],
      "text/markdown": [
       "1. 1.35638160372595\n",
       "2. 9.17150180769806\n",
       "\n",
       "\n"
      ],
      "text/plain": [
       "[1] 1.356382 9.171502"
      ]
     },
     "metadata": {},
     "output_type": "display_data"
    },
    {
     "data": {
      "text/html": [
       "<style>\n",
       ".list-inline {list-style: none; margin:0; padding: 0}\n",
       ".list-inline>li {display: inline-block}\n",
       ".list-inline>li:not(:last-child)::after {content: \"\\00b7\"; padding: 0 .5ex}\n",
       "</style>\n",
       "<ol class=list-inline><li>1.17955395726302</li><li>8.74471229256045</li></ol>\n"
      ],
      "text/latex": [
       "\\begin{enumerate*}\n",
       "\\item 1.17955395726302\n",
       "\\item 8.74471229256045\n",
       "\\end{enumerate*}\n"
      ],
      "text/markdown": [
       "1. 1.17955395726302\n",
       "2. 8.74471229256045\n",
       "\n",
       "\n"
      ],
      "text/plain": [
       "[1] 1.179554 8.744712"
      ]
     },
     "metadata": {},
     "output_type": "display_data"
    },
    {
     "data": {
      "text/html": [
       "<style>\n",
       ".list-inline {list-style: none; margin:0; padding: 0}\n",
       ".list-inline>li {display: inline-block}\n",
       ".list-inline>li:not(:last-child)::after {content: \"\\00b7\"; padding: 0 .5ex}\n",
       "</style>\n",
       "<ol class=list-inline><li>1.11193495398284</li><li>6.27193314541478</li></ol>\n"
      ],
      "text/latex": [
       "\\begin{enumerate*}\n",
       "\\item 1.11193495398284\n",
       "\\item 6.27193314541478\n",
       "\\end{enumerate*}\n"
      ],
      "text/markdown": [
       "1. 1.11193495398284\n",
       "2. 6.27193314541478\n",
       "\n",
       "\n"
      ],
      "text/plain": [
       "[1] 1.111935 6.271933"
      ]
     },
     "metadata": {},
     "output_type": "display_data"
    },
    {
     "data": {
      "text/html": [
       "<style>\n",
       ".list-inline {list-style: none; margin:0; padding: 0}\n",
       ".list-inline>li {display: inline-block}\n",
       ".list-inline>li:not(:last-child)::after {content: \"\\00b7\"; padding: 0 .5ex}\n",
       "</style>\n",
       "<ol class=list-inline><li>1.17161520932549</li><li>10.5766133238208</li></ol>\n"
      ],
      "text/latex": [
       "\\begin{enumerate*}\n",
       "\\item 1.17161520932549\n",
       "\\item 10.5766133238208\n",
       "\\end{enumerate*}\n"
      ],
      "text/markdown": [
       "1. 1.17161520932549\n",
       "2. 10.5766133238208\n",
       "\n",
       "\n"
      ],
      "text/plain": [
       "[1]  1.171615 10.576613"
      ]
     },
     "metadata": {},
     "output_type": "display_data"
    },
    {
     "data": {
      "text/html": [
       "<style>\n",
       ".list-inline {list-style: none; margin:0; padding: 0}\n",
       ".list-inline>li {display: inline-block}\n",
       ".list-inline>li:not(:last-child)::after {content: \"\\00b7\"; padding: 0 .5ex}\n",
       "</style>\n",
       "<ol class=list-inline><li>1.23767426511165</li><li>5.71488025368067</li></ol>\n"
      ],
      "text/latex": [
       "\\begin{enumerate*}\n",
       "\\item 1.23767426511165\n",
       "\\item 5.71488025368067\n",
       "\\end{enumerate*}\n"
      ],
      "text/markdown": [
       "1. 1.23767426511165\n",
       "2. 5.71488025368067\n",
       "\n",
       "\n"
      ],
      "text/plain": [
       "[1] 1.237674 5.714880"
      ]
     },
     "metadata": {},
     "output_type": "display_data"
    }
   ],
   "source": [
    "head(C_ran1,2)\n",
    "range(C_ran1)\n",
    "range(C_ran2)\n",
    "range(C_ran3)\n",
    "range(C_ran4)\n",
    "range(C_ran5)\n",
    "range(C_ran6)\n",
    "range(C_ran7)\n",
    "range(C_ran8)"
   ]
  },
  {
   "cell_type": "markdown",
   "metadata": {},
   "source": [
    "### Ejemplo 30 muestras random [bin1]"
   ]
  },
  {
   "cell_type": "code",
   "execution_count": 25,
   "metadata": {},
   "outputs": [
    {
     "data": {
      "image/png": "[encoded data removed]",
      "text/plain": [
       "plot without title"
      ]
     },
     "metadata": {
      "image/png": {
       "height": 420,
       "width": 420
      }
     },
     "output_type": "display_data"
    }
   ],
   "source": [
    "#limx=c(min(C),max(C))\n",
    "limx=c(1.5,4.5)\n",
    "br <- seq(min(C), max(C), length = 30)\n",
    "\n",
    "#C buenos\n",
    "hc1 = hist(c1,plot=F,breaks=br)\n",
    "sample_buena = hc1$counts/length(c1)\n",
    "plot(hc1$mids,sample_buena,type='l',xlim=limx,ylim=c(0,0.57),xlab='C',ylab='N')\n",
    "\n",
    "#hc1$mids y hr1$mids son los mismos\n",
    "for (i in 1:length(seed)){\n",
    "    hr1 = hist(C_ran1[,i],plot=F,breaks=br)\n",
    "    sample_i = hr1$counts/length(C_ran1[,i])\n",
    "    points(hr1$mids,sample_i,type='s',xlim=limx,col=i)\n",
    "}"
   ]
  },
  {
   "cell_type": "markdown",
   "metadata": {},
   "source": [
    "# Test KS para las 30 muestras random contra la buena \n",
    "\n",
    "## p-value para cada muestra para c/ bin"
   ]
  },
  {
   "cell_type": "code",
   "execution_count": 26,
   "metadata": {},
   "outputs": [
    {
     "name": "stderr",
     "output_type": "stream",
     "text": [
      "Warning message in ks.test(c1, C_ran1[, i]):\n",
      "“p-value will be approximate in the presence of ties”\n",
      "Warning message in ks.test(c1, C_ran1[, i]):\n",
      "“p-value will be approximate in the presence of ties”\n",
      "Warning message in ks.test(c1, C_ran1[, i]):\n",
      "“p-value will be approximate in the presence of ties”\n",
      "Warning message in ks.test(c1, C_ran1[, i]):\n",
      "“p-value will be approximate in the presence of ties”\n",
      "Warning message in ks.test(c1, C_ran1[, i]):\n",
      "“p-value will be approximate in the presence of ties”\n",
      "Warning message in ks.test(c1, C_ran1[, i]):\n",
      "“p-value will be approximate in the presence of ties”\n",
      "Warning message in ks.test(c1, C_ran1[, i]):\n",
      "“p-value will be approximate in the presence of ties”\n",
      "Warning message in ks.test(c1, C_ran1[, i]):\n",
      "“p-value will be approximate in the presence of ties”\n",
      "Warning message in ks.test(c1, C_ran1[, i]):\n",
      "“p-value will be approximate in the presence of ties”\n",
      "Warning message in ks.test(c1, C_ran1[, i]):\n",
      "“p-value will be approximate in the presence of ties”\n",
      "Warning message in ks.test(c1, C_ran1[, i]):\n",
      "“p-value will be approximate in the presence of ties”\n",
      "Warning message in ks.test(c1, C_ran1[, i]):\n",
      "“p-value will be approximate in the presence of ties”\n",
      "Warning message in ks.test(c1, C_ran1[, i]):\n",
      "“p-value will be approximate in the presence of ties”\n",
      "Warning message in ks.test(c1, C_ran1[, i]):\n",
      "“p-value will be approximate in the presence of ties”\n",
      "Warning message in ks.test(c1, C_ran1[, i]):\n",
      "“p-value will be approximate in the presence of ties”\n",
      "Warning message in ks.test(c1, C_ran1[, i]):\n",
      "“p-value will be approximate in the presence of ties”\n",
      "Warning message in ks.test(c1, C_ran1[, i]):\n",
      "“p-value will be approximate in the presence of ties”\n",
      "Warning message in ks.test(c1, C_ran1[, i]):\n",
      "“p-value will be approximate in the presence of ties”\n",
      "Warning message in ks.test(c1, C_ran1[, i]):\n",
      "“p-value will be approximate in the presence of ties”\n",
      "Warning message in ks.test(c1, C_ran1[, i]):\n",
      "“p-value will be approximate in the presence of ties”\n",
      "Warning message in ks.test(c1, C_ran1[, i]):\n",
      "“p-value will be approximate in the presence of ties”\n",
      "Warning message in ks.test(c1, C_ran1[, i]):\n",
      "“p-value will be approximate in the presence of ties”\n",
      "Warning message in ks.test(c1, C_ran1[, i]):\n",
      "“p-value will be approximate in the presence of ties”\n",
      "Warning message in ks.test(c1, C_ran1[, i]):\n",
      "“p-value will be approximate in the presence of ties”\n",
      "Warning message in ks.test(c1, C_ran1[, i]):\n",
      "“p-value will be approximate in the presence of ties”\n",
      "Warning message in ks.test(c1, C_ran1[, i]):\n",
      "“p-value will be approximate in the presence of ties”\n",
      "Warning message in ks.test(c1, C_ran1[, i]):\n",
      "“p-value will be approximate in the presence of ties”\n",
      "Warning message in ks.test(c1, C_ran1[, i]):\n",
      "“p-value will be approximate in the presence of ties”\n",
      "Warning message in ks.test(c1, C_ran1[, i]):\n",
      "“p-value will be approximate in the presence of ties”\n",
      "Warning message in ks.test(c1, C_ran1[, i]):\n",
      "“p-value will be approximate in the presence of ties”\n",
      "Warning message in ks.test(c2, C_ran2[, i]):\n",
      "“p-value will be approximate in the presence of ties”\n",
      "Warning message in ks.test(c2, C_ran2[, i]):\n",
      "“p-value will be approximate in the presence of ties”\n",
      "Warning message in ks.test(c2, C_ran2[, i]):\n",
      "“p-value will be approximate in the presence of ties”\n",
      "Warning message in ks.test(c2, C_ran2[, i]):\n",
      "“p-value will be approximate in the presence of ties”\n",
      "Warning message in ks.test(c2, C_ran2[, i]):\n",
      "“p-value will be approximate in the presence of ties”\n",
      "Warning message in ks.test(c2, C_ran2[, i]):\n",
      "“p-value will be approximate in the presence of ties”\n",
      "Warning message in ks.test(c2, C_ran2[, i]):\n",
      "“p-value will be approximate in the presence of ties”\n",
      "Warning message in ks.test(c2, C_ran2[, i]):\n",
      "“p-value will be approximate in the presence of ties”\n",
      "Warning message in ks.test(c2, C_ran2[, i]):\n",
      "“p-value will be approximate in the presence of ties”\n",
      "Warning message in ks.test(c2, C_ran2[, i]):\n",
      "“p-value will be approximate in the presence of ties”\n",
      "Warning message in ks.test(c2, C_ran2[, i]):\n",
      "“p-value will be approximate in the presence of ties”\n",
      "Warning message in ks.test(c2, C_ran2[, i]):\n",
      "“p-value will be approximate in the presence of ties”\n",
      "Warning message in ks.test(c2, C_ran2[, i]):\n",
      "“p-value will be approximate in the presence of ties”\n",
      "Warning message in ks.test(c2, C_ran2[, i]):\n",
      "“p-value will be approximate in the presence of ties”\n",
      "Warning message in ks.test(c2, C_ran2[, i]):\n",
      "“p-value will be approximate in the presence of ties”\n",
      "Warning message in ks.test(c2, C_ran2[, i]):\n",
      "“p-value will be approximate in the presence of ties”\n",
      "Warning message in ks.test(c2, C_ran2[, i]):\n",
      "“p-value will be approximate in the presence of ties”\n",
      "Warning message in ks.test(c2, C_ran2[, i]):\n",
      "“p-value will be approximate in the presence of ties”\n",
      "Warning message in ks.test(c2, C_ran2[, i]):\n",
      "“p-value will be approximate in the presence of ties”\n",
      "Warning message in ks.test(c2, C_ran2[, i]):\n",
      "“p-value will be approximate in the presence of ties”\n",
      "Warning message in ks.test(c2, C_ran2[, i]):\n",
      "“p-value will be approximate in the presence of ties”\n",
      "Warning message in ks.test(c2, C_ran2[, i]):\n",
      "“p-value will be approximate in the presence of ties”\n",
      "Warning message in ks.test(c2, C_ran2[, i]):\n",
      "“p-value will be approximate in the presence of ties”\n",
      "Warning message in ks.test(c2, C_ran2[, i]):\n",
      "“p-value will be approximate in the presence of ties”\n",
      "Warning message in ks.test(c2, C_ran2[, i]):\n",
      "“p-value will be approximate in the presence of ties”\n",
      "Warning message in ks.test(c2, C_ran2[, i]):\n",
      "“p-value will be approximate in the presence of ties”\n",
      "Warning message in ks.test(c2, C_ran2[, i]):\n",
      "“p-value will be approximate in the presence of ties”\n",
      "Warning message in ks.test(c2, C_ran2[, i]):\n",
      "“p-value will be approximate in the presence of ties”\n",
      "Warning message in ks.test(c2, C_ran2[, i]):\n",
      "“p-value will be approximate in the presence of ties”\n",
      "Warning message in ks.test(c2, C_ran2[, i]):\n",
      "“p-value will be approximate in the presence of ties”\n",
      "Warning message in ks.test(c3, C_ran3[, i]):\n",
      "“p-value will be approximate in the presence of ties”\n",
      "Warning message in ks.test(c3, C_ran3[, i]):\n",
      "“p-value will be approximate in the presence of ties”\n",
      "Warning message in ks.test(c3, C_ran3[, i]):\n",
      "“p-value will be approximate in the presence of ties”\n",
      "Warning message in ks.test(c3, C_ran3[, i]):\n",
      "“p-value will be approximate in the presence of ties”\n",
      "Warning message in ks.test(c3, C_ran3[, i]):\n",
      "“p-value will be approximate in the presence of ties”\n",
      "Warning message in ks.test(c3, C_ran3[, i]):\n",
      "“p-value will be approximate in the presence of ties”\n",
      "Warning message in ks.test(c3, C_ran3[, i]):\n",
      "“p-value will be approximate in the presence of ties”\n",
      "Warning message in ks.test(c3, C_ran3[, i]):\n",
      "“p-value will be approximate in the presence of ties”\n",
      "Warning message in ks.test(c3, C_ran3[, i]):\n",
      "“p-value will be approximate in the presence of ties”\n",
      "Warning message in ks.test(c3, C_ran3[, i]):\n",
      "“p-value will be approximate in the presence of ties”\n",
      "Warning message in ks.test(c3, C_ran3[, i]):\n",
      "“p-value will be approximate in the presence of ties”\n",
      "Warning message in ks.test(c3, C_ran3[, i]):\n",
      "“p-value will be approximate in the presence of ties”\n",
      "Warning message in ks.test(c3, C_ran3[, i]):\n",
      "“p-value will be approximate in the presence of ties”\n",
      "Warning message in ks.test(c3, C_ran3[, i]):\n",
      "“p-value will be approximate in the presence of ties”\n",
      "Warning message in ks.test(c3, C_ran3[, i]):\n",
      "“p-value will be approximate in the presence of ties”\n",
      "Warning message in ks.test(c3, C_ran3[, i]):\n",
      "“p-value will be approximate in the presence of ties”\n",
      "Warning message in ks.test(c3, C_ran3[, i]):\n",
      "“p-value will be approximate in the presence of ties”\n",
      "Warning message in ks.test(c3, C_ran3[, i]):\n",
      "“p-value will be approximate in the presence of ties”\n",
      "Warning message in ks.test(c3, C_ran3[, i]):\n",
      "“p-value will be approximate in the presence of ties”\n",
      "Warning message in ks.test(c3, C_ran3[, i]):\n",
      "“p-value will be approximate in the presence of ties”\n",
      "Warning message in ks.test(c3, C_ran3[, i]):\n",
      "“p-value will be approximate in the presence of ties”\n",
      "Warning message in ks.test(c3, C_ran3[, i]):\n",
      "“p-value will be approximate in the presence of ties”\n",
      "Warning message in ks.test(c3, C_ran3[, i]):\n",
      "“p-value will be approximate in the presence of ties”\n"
     ]
    },
    {
     "name": "stderr",
     "output_type": "stream",
     "text": [
      "Warning message in ks.test(c3, C_ran3[, i]):\n",
      "“p-value will be approximate in the presence of ties”\n",
      "Warning message in ks.test(c3, C_ran3[, i]):\n",
      "“p-value will be approximate in the presence of ties”\n",
      "Warning message in ks.test(c3, C_ran3[, i]):\n",
      "“p-value will be approximate in the presence of ties”\n",
      "Warning message in ks.test(c3, C_ran3[, i]):\n",
      "“p-value will be approximate in the presence of ties”\n",
      "Warning message in ks.test(c3, C_ran3[, i]):\n",
      "“p-value will be approximate in the presence of ties”\n",
      "Warning message in ks.test(c3, C_ran3[, i]):\n",
      "“p-value will be approximate in the presence of ties”\n",
      "Warning message in ks.test(c3, C_ran3[, i]):\n",
      "“p-value will be approximate in the presence of ties”\n",
      "Warning message in ks.test(c4, C_ran4[, i]):\n",
      "“p-value will be approximate in the presence of ties”\n",
      "Warning message in ks.test(c4, C_ran4[, i]):\n",
      "“p-value will be approximate in the presence of ties”\n",
      "Warning message in ks.test(c4, C_ran4[, i]):\n",
      "“p-value will be approximate in the presence of ties”\n",
      "Warning message in ks.test(c4, C_ran4[, i]):\n",
      "“p-value will be approximate in the presence of ties”\n",
      "Warning message in ks.test(c4, C_ran4[, i]):\n",
      "“p-value will be approximate in the presence of ties”\n",
      "Warning message in ks.test(c4, C_ran4[, i]):\n",
      "“p-value will be approximate in the presence of ties”\n",
      "Warning message in ks.test(c4, C_ran4[, i]):\n",
      "“p-value will be approximate in the presence of ties”\n",
      "Warning message in ks.test(c4, C_ran4[, i]):\n",
      "“p-value will be approximate in the presence of ties”\n",
      "Warning message in ks.test(c4, C_ran4[, i]):\n",
      "“p-value will be approximate in the presence of ties”\n",
      "Warning message in ks.test(c4, C_ran4[, i]):\n",
      "“p-value will be approximate in the presence of ties”\n",
      "Warning message in ks.test(c4, C_ran4[, i]):\n",
      "“p-value will be approximate in the presence of ties”\n",
      "Warning message in ks.test(c4, C_ran4[, i]):\n",
      "“p-value will be approximate in the presence of ties”\n",
      "Warning message in ks.test(c4, C_ran4[, i]):\n",
      "“p-value will be approximate in the presence of ties”\n",
      "Warning message in ks.test(c4, C_ran4[, i]):\n",
      "“p-value will be approximate in the presence of ties”\n",
      "Warning message in ks.test(c4, C_ran4[, i]):\n",
      "“p-value will be approximate in the presence of ties”\n",
      "Warning message in ks.test(c4, C_ran4[, i]):\n",
      "“p-value will be approximate in the presence of ties”\n",
      "Warning message in ks.test(c4, C_ran4[, i]):\n",
      "“p-value will be approximate in the presence of ties”\n",
      "Warning message in ks.test(c4, C_ran4[, i]):\n",
      "“p-value will be approximate in the presence of ties”\n",
      "Warning message in ks.test(c4, C_ran4[, i]):\n",
      "“p-value will be approximate in the presence of ties”\n",
      "Warning message in ks.test(c4, C_ran4[, i]):\n",
      "“p-value will be approximate in the presence of ties”\n",
      "Warning message in ks.test(c4, C_ran4[, i]):\n",
      "“p-value will be approximate in the presence of ties”\n",
      "Warning message in ks.test(c4, C_ran4[, i]):\n",
      "“p-value will be approximate in the presence of ties”\n",
      "Warning message in ks.test(c4, C_ran4[, i]):\n",
      "“p-value will be approximate in the presence of ties”\n",
      "Warning message in ks.test(c4, C_ran4[, i]):\n",
      "“p-value will be approximate in the presence of ties”\n",
      "Warning message in ks.test(c4, C_ran4[, i]):\n",
      "“p-value will be approximate in the presence of ties”\n",
      "Warning message in ks.test(c4, C_ran4[, i]):\n",
      "“p-value will be approximate in the presence of ties”\n",
      "Warning message in ks.test(c4, C_ran4[, i]):\n",
      "“p-value will be approximate in the presence of ties”\n",
      "Warning message in ks.test(c4, C_ran4[, i]):\n",
      "“p-value will be approximate in the presence of ties”\n",
      "Warning message in ks.test(c4, C_ran4[, i]):\n",
      "“p-value will be approximate in the presence of ties”\n",
      "Warning message in ks.test(c4, C_ran4[, i]):\n",
      "“p-value will be approximate in the presence of ties”\n",
      "Warning message in ks.test(c5, C_ran5[, i]):\n",
      "“p-value will be approximate in the presence of ties”\n",
      "Warning message in ks.test(c5, C_ran5[, i]):\n",
      "“p-value will be approximate in the presence of ties”\n",
      "Warning message in ks.test(c5, C_ran5[, i]):\n",
      "“p-value will be approximate in the presence of ties”\n",
      "Warning message in ks.test(c5, C_ran5[, i]):\n",
      "“p-value will be approximate in the presence of ties”\n",
      "Warning message in ks.test(c5, C_ran5[, i]):\n",
      "“p-value will be approximate in the presence of ties”\n",
      "Warning message in ks.test(c5, C_ran5[, i]):\n",
      "“p-value will be approximate in the presence of ties”\n",
      "Warning message in ks.test(c5, C_ran5[, i]):\n",
      "“p-value will be approximate in the presence of ties”\n",
      "Warning message in ks.test(c5, C_ran5[, i]):\n",
      "“p-value will be approximate in the presence of ties”\n",
      "Warning message in ks.test(c5, C_ran5[, i]):\n",
      "“p-value will be approximate in the presence of ties”\n",
      "Warning message in ks.test(c5, C_ran5[, i]):\n",
      "“p-value will be approximate in the presence of ties”\n",
      "Warning message in ks.test(c5, C_ran5[, i]):\n",
      "“p-value will be approximate in the presence of ties”\n",
      "Warning message in ks.test(c5, C_ran5[, i]):\n",
      "“p-value will be approximate in the presence of ties”\n",
      "Warning message in ks.test(c5, C_ran5[, i]):\n",
      "“p-value will be approximate in the presence of ties”\n",
      "Warning message in ks.test(c5, C_ran5[, i]):\n",
      "“p-value will be approximate in the presence of ties”\n",
      "Warning message in ks.test(c5, C_ran5[, i]):\n",
      "“p-value will be approximate in the presence of ties”\n",
      "Warning message in ks.test(c5, C_ran5[, i]):\n",
      "“p-value will be approximate in the presence of ties”\n",
      "Warning message in ks.test(c5, C_ran5[, i]):\n",
      "“p-value will be approximate in the presence of ties”\n",
      "Warning message in ks.test(c5, C_ran5[, i]):\n",
      "“p-value will be approximate in the presence of ties”\n",
      "Warning message in ks.test(c5, C_ran5[, i]):\n",
      "“p-value will be approximate in the presence of ties”\n",
      "Warning message in ks.test(c5, C_ran5[, i]):\n",
      "“p-value will be approximate in the presence of ties”\n",
      "Warning message in ks.test(c5, C_ran5[, i]):\n",
      "“p-value will be approximate in the presence of ties”\n",
      "Warning message in ks.test(c5, C_ran5[, i]):\n",
      "“p-value will be approximate in the presence of ties”\n",
      "Warning message in ks.test(c5, C_ran5[, i]):\n",
      "“p-value will be approximate in the presence of ties”\n",
      "Warning message in ks.test(c5, C_ran5[, i]):\n",
      "“p-value will be approximate in the presence of ties”\n",
      "Warning message in ks.test(c5, C_ran5[, i]):\n",
      "“p-value will be approximate in the presence of ties”\n",
      "Warning message in ks.test(c5, C_ran5[, i]):\n",
      "“p-value will be approximate in the presence of ties”\n",
      "Warning message in ks.test(c5, C_ran5[, i]):\n",
      "“p-value will be approximate in the presence of ties”\n",
      "Warning message in ks.test(c5, C_ran5[, i]):\n",
      "“p-value will be approximate in the presence of ties”\n",
      "Warning message in ks.test(c5, C_ran5[, i]):\n",
      "“p-value will be approximate in the presence of ties”\n",
      "Warning message in ks.test(c5, C_ran5[, i]):\n",
      "“p-value will be approximate in the presence of ties”\n",
      "Warning message in ks.test(c6, C_ran6[, i]):\n",
      "“p-value will be approximate in the presence of ties”\n",
      "Warning message in ks.test(c6, C_ran6[, i]):\n",
      "“p-value will be approximate in the presence of ties”\n",
      "Warning message in ks.test(c6, C_ran6[, i]):\n",
      "“p-value will be approximate in the presence of ties”\n",
      "Warning message in ks.test(c6, C_ran6[, i]):\n",
      "“p-value will be approximate in the presence of ties”\n",
      "Warning message in ks.test(c6, C_ran6[, i]):\n",
      "“p-value will be approximate in the presence of ties”\n",
      "Warning message in ks.test(c6, C_ran6[, i]):\n",
      "“p-value will be approximate in the presence of ties”\n",
      "Warning message in ks.test(c6, C_ran6[, i]):\n",
      "“p-value will be approximate in the presence of ties”\n",
      "Warning message in ks.test(c6, C_ran6[, i]):\n",
      "“p-value will be approximate in the presence of ties”\n",
      "Warning message in ks.test(c6, C_ran6[, i]):\n",
      "“p-value will be approximate in the presence of ties”\n",
      "Warning message in ks.test(c6, C_ran6[, i]):\n",
      "“p-value will be approximate in the presence of ties”\n",
      "Warning message in ks.test(c6, C_ran6[, i]):\n",
      "“p-value will be approximate in the presence of ties”\n",
      "Warning message in ks.test(c6, C_ran6[, i]):\n",
      "“p-value will be approximate in the presence of ties”\n",
      "Warning message in ks.test(c6, C_ran6[, i]):\n",
      "“p-value will be approximate in the presence of ties”\n",
      "Warning message in ks.test(c6, C_ran6[, i]):\n",
      "“p-value will be approximate in the presence of ties”\n",
      "Warning message in ks.test(c6, C_ran6[, i]):\n",
      "“p-value will be approximate in the presence of ties”\n",
      "Warning message in ks.test(c6, C_ran6[, i]):\n",
      "“p-value will be approximate in the presence of ties”\n"
     ]
    },
    {
     "name": "stderr",
     "output_type": "stream",
     "text": [
      "Warning message in ks.test(c6, C_ran6[, i]):\n",
      "“p-value will be approximate in the presence of ties”\n",
      "Warning message in ks.test(c6, C_ran6[, i]):\n",
      "“p-value will be approximate in the presence of ties”\n",
      "Warning message in ks.test(c6, C_ran6[, i]):\n",
      "“p-value will be approximate in the presence of ties”\n",
      "Warning message in ks.test(c6, C_ran6[, i]):\n",
      "“p-value will be approximate in the presence of ties”\n",
      "Warning message in ks.test(c6, C_ran6[, i]):\n",
      "“p-value will be approximate in the presence of ties”\n",
      "Warning message in ks.test(c6, C_ran6[, i]):\n",
      "“p-value will be approximate in the presence of ties”\n",
      "Warning message in ks.test(c6, C_ran6[, i]):\n",
      "“p-value will be approximate in the presence of ties”\n",
      "Warning message in ks.test(c6, C_ran6[, i]):\n",
      "“p-value will be approximate in the presence of ties”\n",
      "Warning message in ks.test(c6, C_ran6[, i]):\n",
      "“p-value will be approximate in the presence of ties”\n",
      "Warning message in ks.test(c6, C_ran6[, i]):\n",
      "“p-value will be approximate in the presence of ties”\n",
      "Warning message in ks.test(c6, C_ran6[, i]):\n",
      "“p-value will be approximate in the presence of ties”\n",
      "Warning message in ks.test(c6, C_ran6[, i]):\n",
      "“p-value will be approximate in the presence of ties”\n",
      "Warning message in ks.test(c6, C_ran6[, i]):\n",
      "“p-value will be approximate in the presence of ties”\n",
      "Warning message in ks.test(c6, C_ran6[, i]):\n",
      "“p-value will be approximate in the presence of ties”\n",
      "Warning message in ks.test(c7, C_ran7[, i]):\n",
      "“p-value will be approximate in the presence of ties”\n",
      "Warning message in ks.test(c7, C_ran7[, i]):\n",
      "“p-value will be approximate in the presence of ties”\n",
      "Warning message in ks.test(c7, C_ran7[, i]):\n",
      "“p-value will be approximate in the presence of ties”\n",
      "Warning message in ks.test(c7, C_ran7[, i]):\n",
      "“p-value will be approximate in the presence of ties”\n",
      "Warning message in ks.test(c7, C_ran7[, i]):\n",
      "“p-value will be approximate in the presence of ties”\n",
      "Warning message in ks.test(c7, C_ran7[, i]):\n",
      "“p-value will be approximate in the presence of ties”\n",
      "Warning message in ks.test(c7, C_ran7[, i]):\n",
      "“p-value will be approximate in the presence of ties”\n",
      "Warning message in ks.test(c7, C_ran7[, i]):\n",
      "“p-value will be approximate in the presence of ties”\n",
      "Warning message in ks.test(c7, C_ran7[, i]):\n",
      "“p-value will be approximate in the presence of ties”\n",
      "Warning message in ks.test(c7, C_ran7[, i]):\n",
      "“p-value will be approximate in the presence of ties”\n",
      "Warning message in ks.test(c7, C_ran7[, i]):\n",
      "“p-value will be approximate in the presence of ties”\n",
      "Warning message in ks.test(c7, C_ran7[, i]):\n",
      "“p-value will be approximate in the presence of ties”\n",
      "Warning message in ks.test(c7, C_ran7[, i]):\n",
      "“p-value will be approximate in the presence of ties”\n",
      "Warning message in ks.test(c7, C_ran7[, i]):\n",
      "“p-value will be approximate in the presence of ties”\n",
      "Warning message in ks.test(c7, C_ran7[, i]):\n",
      "“p-value will be approximate in the presence of ties”\n",
      "Warning message in ks.test(c7, C_ran7[, i]):\n",
      "“p-value will be approximate in the presence of ties”\n",
      "Warning message in ks.test(c7, C_ran7[, i]):\n",
      "“p-value will be approximate in the presence of ties”\n",
      "Warning message in ks.test(c7, C_ran7[, i]):\n",
      "“p-value will be approximate in the presence of ties”\n",
      "Warning message in ks.test(c7, C_ran7[, i]):\n",
      "“p-value will be approximate in the presence of ties”\n",
      "Warning message in ks.test(c7, C_ran7[, i]):\n",
      "“p-value will be approximate in the presence of ties”\n",
      "Warning message in ks.test(c7, C_ran7[, i]):\n",
      "“p-value will be approximate in the presence of ties”\n",
      "Warning message in ks.test(c7, C_ran7[, i]):\n",
      "“p-value will be approximate in the presence of ties”\n",
      "Warning message in ks.test(c7, C_ran7[, i]):\n",
      "“p-value will be approximate in the presence of ties”\n",
      "Warning message in ks.test(c7, C_ran7[, i]):\n",
      "“p-value will be approximate in the presence of ties”\n",
      "Warning message in ks.test(c7, C_ran7[, i]):\n",
      "“p-value will be approximate in the presence of ties”\n",
      "Warning message in ks.test(c7, C_ran7[, i]):\n",
      "“p-value will be approximate in the presence of ties”\n",
      "Warning message in ks.test(c7, C_ran7[, i]):\n",
      "“p-value will be approximate in the presence of ties”\n",
      "Warning message in ks.test(c7, C_ran7[, i]):\n",
      "“p-value will be approximate in the presence of ties”\n",
      "Warning message in ks.test(c7, C_ran7[, i]):\n",
      "“p-value will be approximate in the presence of ties”\n",
      "Warning message in ks.test(c7, C_ran7[, i]):\n",
      "“p-value will be approximate in the presence of ties”\n",
      "Warning message in ks.test(c8, C_ran8[, i]):\n",
      "“p-value will be approximate in the presence of ties”\n",
      "Warning message in ks.test(c8, C_ran8[, i]):\n",
      "“p-value will be approximate in the presence of ties”\n",
      "Warning message in ks.test(c8, C_ran8[, i]):\n",
      "“p-value will be approximate in the presence of ties”\n",
      "Warning message in ks.test(c8, C_ran8[, i]):\n",
      "“p-value will be approximate in the presence of ties”\n",
      "Warning message in ks.test(c8, C_ran8[, i]):\n",
      "“p-value will be approximate in the presence of ties”\n",
      "Warning message in ks.test(c8, C_ran8[, i]):\n",
      "“p-value will be approximate in the presence of ties”\n",
      "Warning message in ks.test(c8, C_ran8[, i]):\n",
      "“p-value will be approximate in the presence of ties”\n",
      "Warning message in ks.test(c8, C_ran8[, i]):\n",
      "“p-value will be approximate in the presence of ties”\n",
      "Warning message in ks.test(c8, C_ran8[, i]):\n",
      "“p-value will be approximate in the presence of ties”\n",
      "Warning message in ks.test(c8, C_ran8[, i]):\n",
      "“p-value will be approximate in the presence of ties”\n",
      "Warning message in ks.test(c8, C_ran8[, i]):\n",
      "“p-value will be approximate in the presence of ties”\n",
      "Warning message in ks.test(c8, C_ran8[, i]):\n",
      "“p-value will be approximate in the presence of ties”\n",
      "Warning message in ks.test(c8, C_ran8[, i]):\n",
      "“p-value will be approximate in the presence of ties”\n",
      "Warning message in ks.test(c8, C_ran8[, i]):\n",
      "“p-value will be approximate in the presence of ties”\n",
      "Warning message in ks.test(c8, C_ran8[, i]):\n",
      "“p-value will be approximate in the presence of ties”\n",
      "Warning message in ks.test(c8, C_ran8[, i]):\n",
      "“p-value will be approximate in the presence of ties”\n",
      "Warning message in ks.test(c8, C_ran8[, i]):\n",
      "“p-value will be approximate in the presence of ties”\n",
      "Warning message in ks.test(c8, C_ran8[, i]):\n",
      "“p-value will be approximate in the presence of ties”\n",
      "Warning message in ks.test(c8, C_ran8[, i]):\n",
      "“p-value will be approximate in the presence of ties”\n",
      "Warning message in ks.test(c8, C_ran8[, i]):\n",
      "“p-value will be approximate in the presence of ties”\n",
      "Warning message in ks.test(c8, C_ran8[, i]):\n",
      "“p-value will be approximate in the presence of ties”\n",
      "Warning message in ks.test(c8, C_ran8[, i]):\n",
      "“p-value will be approximate in the presence of ties”\n",
      "Warning message in ks.test(c8, C_ran8[, i]):\n",
      "“p-value will be approximate in the presence of ties”\n",
      "Warning message in ks.test(c8, C_ran8[, i]):\n",
      "“p-value will be approximate in the presence of ties”\n",
      "Warning message in ks.test(c8, C_ran8[, i]):\n",
      "“p-value will be approximate in the presence of ties”\n",
      "Warning message in ks.test(c8, C_ran8[, i]):\n",
      "“p-value will be approximate in the presence of ties”\n",
      "Warning message in ks.test(c8, C_ran8[, i]):\n",
      "“p-value will be approximate in the presence of ties”\n",
      "Warning message in ks.test(c8, C_ran8[, i]):\n",
      "“p-value will be approximate in the presence of ties”\n",
      "Warning message in ks.test(c8, C_ran8[, i]):\n",
      "“p-value will be approximate in the presence of ties”\n",
      "Warning message in ks.test(c8, C_ran8[, i]):\n",
      "“p-value will be approximate in the presence of ties”\n"
     ]
    }
   ],
   "source": [
    "pval1=c()\n",
    "for (i in 1:length(seed)){\n",
    "    pval1[i] = ks.test(c1,C_ran1[,i])$p.value\n",
    "}\n",
    "#--------------------------------------------------------------\n",
    "\n",
    "pval2=c()\n",
    "for (i in 1:length(seed)){\n",
    "    pval2[i] = ks.test(c2,C_ran2[,i])$p.value\n",
    "}\n",
    "#--------------------------------------------------------------\n",
    "\n",
    "\n",
    "pval3=c()\n",
    "for (i in 1:length(seed)){\n",
    "    pval3[i] = ks.test(c3,C_ran3[,i])$p.value\n",
    "}\n",
    "#--------------------------------------------------------------\n",
    "\n",
    "\n",
    "pval4=c()\n",
    "for (i in 1:length(seed)){\n",
    "    pval4[i] = ks.test(c4,C_ran4[,i])$p.value\n",
    "}\n",
    "#--------------------------------------------------------------\n",
    "\n",
    "\n",
    "pval5=c()\n",
    "for (i in 1:length(seed)){\n",
    "    pval5[i] = ks.test(c5,C_ran5[,i])$p.value\n",
    "}\n",
    "#--------------------------------------------------------------\n",
    "\n",
    "\n",
    "pval6=c()\n",
    "for (i in 1:length(seed)){\n",
    "    pval6[i] = ks.test(c6,C_ran6[,i])$p.value\n",
    "}\n",
    "#--------------------------------------------------------------\n",
    "\n",
    "pval7=c()\n",
    "for (i in 1:length(seed)){\n",
    "    pval7[i] = ks.test(c7,C_ran7[,i])$p.value\n",
    "}\n",
    "#--------------------------------------------------------------\n",
    "\n",
    "pval8=c()\n",
    "for (i in 1:length(seed)){\n",
    "    pval8[i] = ks.test(c8,C_ran8[,i])$p.value\n",
    "}"
   ]
  },
  {
   "cell_type": "markdown",
   "metadata": {},
   "source": [
    "### Ejemplo Plot bin1 c/ p-value maximo y minimo"
   ]
  },
  {
   "cell_type": "code",
   "execution_count": 27,
   "metadata": {},
   "outputs": [
    {
     "data": {
      "text/html": [
       "<style>\n",
       ".list-inline {list-style: none; margin:0; padding: 0}\n",
       ".list-inline>li {display: inline-block}\n",
       ".list-inline>li:not(:last-child)::after {content: \"\\00b7\"; padding: 0 .5ex}\n",
       "</style>\n",
       "<ol class=list-inline><li>0.0633488508202035</li><li>0.992597250812229</li></ol>\n"
      ],
      "text/latex": [
       "\\begin{enumerate*}\n",
       "\\item 0.0633488508202035\n",
       "\\item 0.992597250812229\n",
       "\\end{enumerate*}\n"
      ],
      "text/markdown": [
       "1. 0.0633488508202035\n",
       "2. 0.992597250812229\n",
       "\n",
       "\n"
      ],
      "text/plain": [
       "[1] 0.06334885 0.99259725"
      ]
     },
     "metadata": {},
     "output_type": "display_data"
    },
    {
     "name": "stdout",
     "output_type": "stream",
     "text": [
      "[1] \"P-value maximo\" \"Muestra=\"       \"8\"             \n",
      "[1] \"P-value maximo\"    \"0.992597250812229\"\n"
     ]
    },
    {
     "data": {
      "text/html": [
       "1210"
      ],
      "text/latex": [
       "1210"
      ],
      "text/markdown": [
       "1210"
      ],
      "text/plain": [
       "[1] 1210"
      ]
     },
     "metadata": {},
     "output_type": "display_data"
    },
    {
     "data": {
      "image/png": "[encoded data removed]",
      "text/plain": [
       "plot without title"
      ]
     },
     "metadata": {
      "image/png": {
       "height": 420,
       "width": 420
      }
     },
     "output_type": "display_data"
    }
   ],
   "source": [
    "range(pval1)\n",
    "ind_pmin = which.min(pval1)\n",
    "#ind_pmin\n",
    "#pval1[ind_pmin]\n",
    "\n",
    "#limites comunes\n",
    "limx=c(1.0,4.5)\n",
    "br <- seq(min(C), max(C), length = 70)\n",
    "\n",
    "\n",
    "\n",
    "ind_pmax = which.max(pval1)\n",
    "#ind_pmax \n",
    "#pval1[ind_pmax]\n",
    "print(c('P-value maximo','Muestra=',ind_pmax))\n",
    "print(c('P-value maximo', pval1[ind_pmax]))\n",
    "\n",
    "#Plot \n",
    "hc1 = hist(c1,plot=F,breaks=br)\n",
    "plot(hc1$mids,hc1$counts/length(c1),type='l',xlim=limx,ylim=c(0,0.35))\n",
    "\n",
    "i = ind_pmax\n",
    "hr1 = hist(C_ran1[,i],plot=F,breaks=br)\n",
    "sample_i = hr1$counts/length(C_ran1[,i])\n",
    "points(hr1$mids,sample_i,type='s',xlim=limx,col='red')\n",
    "\n",
    "\n",
    "i = ind_pmin\n",
    "hr1 = hist(C_ran1[,i],plot=F,breaks=br)\n",
    "sample_i = hr1$counts/length(C_ran1[,i])\n",
    "points(hr1$mids,sample_i,type='s',xlim=limx,col='blue')\n",
    "\n",
    "\n",
    "legend(\"topright\", legend=c('pval max','pval min'), col=c('red','blue'),pch=16, cex=1.2,bty=\"n\")\n",
    "length(C_ran1[,i])\n"
   ]
  },
  {
   "cell_type": "markdown",
   "metadata": {},
   "source": [
    "### Busco el p-value maximo (para cada bin)"
   ]
  },
  {
   "cell_type": "code",
   "execution_count": 28,
   "metadata": {},
   "outputs": [],
   "source": [
    "ind_pmax1 = which.max(pval1)\n",
    "ind_pmax2 = which.max(pval2)\n",
    "ind_pmax3 = which.max(pval3)\n",
    "ind_pmax4 = which.max(pval4)\n",
    "ind_pmax5 = which.max(pval5)\n",
    "ind_pmax6 = which.max(pval6)\n",
    "ind_pmax7 = which.max(pval7)\n",
    "ind_pmax8 = which.max(pval8)"
   ]
  },
  {
   "cell_type": "markdown",
   "metadata": {},
   "source": [
    "##### Los p-value deben ser mayores a 0.99"
   ]
  },
  {
   "cell_type": "code",
   "execution_count": 29,
   "metadata": {},
   "outputs": [
    {
     "data": {
      "text/html": [
       "0.992597250812229"
      ],
      "text/latex": [
       "0.992597250812229"
      ],
      "text/markdown": [
       "0.992597250812229"
      ],
      "text/plain": [
       "[1] 0.9925973"
      ]
     },
     "metadata": {},
     "output_type": "display_data"
    },
    {
     "data": {
      "text/html": [
       "0.999994416945642"
      ],
      "text/latex": [
       "0.999994416945642"
      ],
      "text/markdown": [
       "0.999994416945642"
      ],
      "text/plain": [
       "[1] 0.9999944"
      ]
     },
     "metadata": {},
     "output_type": "display_data"
    },
    {
     "data": {
      "text/html": [
       "0.999753386328159"
      ],
      "text/latex": [
       "0.999753386328159"
      ],
      "text/markdown": [
       "0.999753386328159"
      ],
      "text/plain": [
       "[1] 0.9997534"
      ]
     },
     "metadata": {},
     "output_type": "display_data"
    },
    {
     "data": {
      "text/html": [
       "0.998942721818982"
      ],
      "text/latex": [
       "0.998942721818982"
      ],
      "text/markdown": [
       "0.998942721818982"
      ],
      "text/plain": [
       "[1] 0.9989427"
      ]
     },
     "metadata": {},
     "output_type": "display_data"
    },
    {
     "data": {
      "text/html": [
       "0.999997028373965"
      ],
      "text/latex": [
       "0.999997028373965"
      ],
      "text/markdown": [
       "0.999997028373965"
      ],
      "text/plain": [
       "[1] 0.999997"
      ]
     },
     "metadata": {},
     "output_type": "display_data"
    },
    {
     "data": {
      "text/html": [
       "0.999899308428173"
      ],
      "text/latex": [
       "0.999899308428173"
      ],
      "text/markdown": [
       "0.999899308428173"
      ],
      "text/plain": [
       "[1] 0.9998993"
      ]
     },
     "metadata": {},
     "output_type": "display_data"
    },
    {
     "data": {
      "text/html": [
       "0.999994624650868"
      ],
      "text/latex": [
       "0.999994624650868"
      ],
      "text/markdown": [
       "0.999994624650868"
      ],
      "text/plain": [
       "[1] 0.9999946"
      ]
     },
     "metadata": {},
     "output_type": "display_data"
    },
    {
     "data": {
      "text/html": [
       "0.999237240210982"
      ],
      "text/latex": [
       "0.999237240210982"
      ],
      "text/markdown": [
       "0.999237240210982"
      ],
      "text/plain": [
       "[1] 0.9992372"
      ]
     },
     "metadata": {},
     "output_type": "display_data"
    }
   ],
   "source": [
    "pval1[ind_pmax1]\n",
    "pval2[ind_pmax2]\n",
    "pval3[ind_pmax3]\n",
    "pval4[ind_pmax4]\n",
    "pval5[ind_pmax5]\n",
    "pval6[ind_pmax6]\n",
    "pval7[ind_pmax7]\n",
    "pval8[ind_pmax8]"
   ]
  },
  {
   "cell_type": "code",
   "execution_count": 30,
   "metadata": {},
   "outputs": [
    {
     "name": "stderr",
     "output_type": "stream",
     "text": [
      "Loading required package: lattice\n",
      "\n",
      "Loading required package: survival\n",
      "\n",
      "Loading required package: Formula\n",
      "\n",
      "Loading required package: ggplot2\n",
      "\n",
      "Registered S3 methods overwritten by 'tibble':\n",
      "  method     from  \n",
      "  format.tbl pillar\n",
      "  print.tbl  pillar\n",
      "\n",
      "\n",
      "Attaching package: ‘Hmisc’\n",
      "\n",
      "\n",
      "The following objects are masked from ‘package:base’:\n",
      "\n",
      "    format.pval, units\n",
      "\n",
      "\n"
     ]
    }
   ],
   "source": [
    "#install.packages(\"Hmisc\")\n",
    "#install.packages('magicaxis')\n",
    "library(Hmisc)\n",
    "library(magicaxis)\n",
    "library(lattice)"
   ]
  },
  {
   "cell_type": "code",
   "execution_count": 31,
   "metadata": {},
   "outputs": [
    {
     "data": {
      "text/html": [
       "<strong>png:</strong> 2"
      ],
      "text/latex": [
       "\\textbf{png:} 2"
      ],
      "text/markdown": [
       "**png:** 2"
      ],
      "text/plain": [
       "png \n",
       "  2 "
      ]
     },
     "metadata": {},
     "output_type": "display_data"
    }
   ],
   "source": [
    "#cairo_ps(\"cparam_dr16.eps\")\n",
    "par(mfrow=c(4,2))\n",
    "#par(mar = c(2, 2, 2, 2))\n",
    "#par(oma = c(5, 5, 2, 2))\n",
    "par(mar = c(0, 0, 0, 0))\n",
    "par(oma = c(5, 6, 2, 2))\n",
    "limx = c(1.5,4.1)\n",
    "limy = c(0,0.25)\n",
    "\n",
    "#br <- seq(min(C), max(C), length = 70)\n",
    "\n",
    "plot_cparam <- function(xx,Cran,indx,a,bin1,bin2,mark){\n",
    "       \n",
    "    hc = hist(xx,plot=F,breaks=br)\n",
    "    sample_buena = hc$counts/length(xx)\n",
    "    #plot(hc$mids,sample_buena,type='l',xlim=limx,ylim=limy)\n",
    "\n",
    "    if(mark==0){plot(hc$mids,sample_buena,type='l',xlab=\"\",xaxt='n',lty=1,xlim=limx,ylim=limy, cex.axis=1.3,lwd=2)}\n",
    "    if(mark==1){plot(hc$mids,sample_buena,type='l',xlab=\"\",yaxt='n',lty=1,xlim=limx,ylim=limy, cex.axis=1.3,lwd=2)}\n",
    "    if(mark==2){plot(hc$mids,sample_buena,type='l',xlab=\"\",xaxt='n',yaxt='n',lty=1,xlim=limx,ylim=limy, cex.axis=1.3,lwd=2)}\n",
    "    if(mark==3){plot(hc$mids,sample_buena,type='l',xlab=\"\",lty=1,xlim=limx,ylim=limy, cex.axis=1.3,lwd=2)}\n",
    "    \n",
    "    ii = indx\n",
    "    hr1 = hist(Cran[,ii],plot=F,breaks=br)\n",
    "    sample_i = hr1$counts/length(Cran[,ii])\n",
    "    points(hc1$mids,sample_i,type='s',xlim=limx,col=\"#5ab4ac\")\n",
    "    y=sample_i\n",
    "    x=hc1$mids\n",
    "    y2 <- rep(y, each=2)\n",
    "    y2 <- y2[-length(y2)]\n",
    "    x2 <- rep(x, each=2)[-1]\n",
    "    x3 <- c(min(x2), x2, max(x2))\n",
    "    y3 <- c(0, y2, 0)       \n",
    "         \n",
    "    colfill=col2rgb(\"#5ab4ac\", alpha = FALSE)/255\n",
    "    cf=rgb(colfill[1],colfill[2],colfill[3],0.5)\n",
    "    polygon(x3, y3,col=cf, border=NA)\n",
    "    points(hc$mids,sample_buena,type='l',xlab=\"\",xaxt='n',lty=1,xlim=limx,ylim=limy, cex.axis=1.3,lwd=2)\n",
    "\n",
    "    \n",
    "\n",
    "   \n",
    "    legend(1.5,0.25, legend=c(a), cex=1.2,bty=\"n\")\n",
    "    if(mark==1){legend(\"topright\", legend=c('Random','Galaxies'), col=c(\"#5ab4ac\",'black'),pch=16, cex=1.4,bty=\"n\")}\n",
    "\n",
    "    #axis(side=1, tck=-0.01, labels=FALSE)\n",
    "    #minor.tick(nx=2, ny=2, tick.ratio=0.5, x.args = list(), y.args = list())\n",
    "    #axis(side=2, tck=-0.01, labels = FALSE)\n",
    "    #minor.tick(nx=2, ny=2, tick.ratio=0.5, x.args = list(), y.args = list())\n",
    "    #axis(side=3, tck=-0.01, labels = FALSE)\n",
    "    #minor.tick(nx=2, ny=2, tick.ratio=0.5, x.args = list(), y.args = list())\n",
    "    #axis(side=4, tck=-0.01, labels = FALSE)\n",
    "    #minor.tick(nx=2, ny=2, tick.ratio=0.5, x.args = list(), y.args = list())\n",
    "    magaxis(1,majorn=5, minorn=5, tcl=0.3, ratio=0.5,labels=FALSE)\n",
    "    magaxis(2,majorn=5, minorn=5, tcl=0.3, ratio=0.5,labels=FALSE)\n",
    "    magaxis(3,majorn=5, minorn=5, tcl=0.3, ratio=0.5,labels=FALSE)\n",
    "    magaxis(4,majorn=5, minorn=5, tcl=0.3, ratio=0.5,labels=FALSE)\n",
    "}\n",
    "\n",
    "plot_cparam(c1,C_ran1,ind_pmax1,as.character(paste(\"[\",bin[1],\",\",bin[2],\"]\")),bin[1],bin[2],0)\n",
    "plot_cparam(c2,C_ran2,ind_pmax2,as.character(paste(\"[\",bin[2],\",\",bin[3],\"]\")),bin[2],bin[3],2)\n",
    "plot_cparam(c3,C_ran3,ind_pmax3,as.character(paste(\"[\",bin[3],\",\",bin[4],\"]\")),bin[3],bin[4],0)\n",
    "plot_cparam(c4,C_ran4,ind_pmax4,as.character(paste(\"[\",bin[4],\",\",bin[5],\"]\")),bin[4],bin[5],2)\n",
    "plot_cparam(c5,C_ran5,ind_pmax5,as.character(paste(\"[\",bin[5],\",\",bin[6],\"]\")),bin[5],bin[6],0)\n",
    "plot_cparam(c6,C_ran6,ind_pmax6,as.character(paste(\"[\",bin[6],\",\",bin[7],\"]\")),bin[6],bin[7],2)\n",
    "plot_cparam(c7,C_ran7,ind_pmax7,as.character(paste(\"[\",bin[7],\",\",bin[8],\"]\")),bin[7],bin[8],3)\n",
    "plot_cparam(c8,C_ran8,ind_pmax8,as.character(paste(\"[\",bin[8],\",\",bin[9],\"]\")),bin[8],bin[9],1)\n",
    "\n",
    "\n",
    "mtext(expression(paste(C,\"=\",r[90]/r[50])), side = 1, cex = 1.5, line = 3.5, col = \"black\", outer = TRUE)\n",
    "mtext(expression(paste(N/N[tot])), side = 2, cex = 1.5, line = 3.1, col = \"black\", outer = TRUE)\n",
    "#dev.off()"
   ]
  },
  {
   "cell_type": "markdown",
   "metadata": {},
   "source": [
    "## Genero mis datafrma para las glx con r50 malos"
   ]
  },
  {
   "cell_type": "code",
   "execution_count": 32,
   "metadata": {},
   "outputs": [
    {
     "data": {
      "text/html": [
       "<table class=\"dataframe\">\n",
       "<caption>A data.frame: 2 × 14</caption>\n",
       "<thead>\n",
       "\t<tr><th></th><th scope=col>galID</th><th scope=col>ra_rad</th><th scope=col>dec_rad</th><th scope=col>zCMB</th><th scope=col>rextAB</th><th scope=col>gextAB</th><th scope=col>uextAB</th><th scope=col>rabs</th><th scope=col>gabs</th><th scope=col>uabs</th><th scope=col>r50</th><th scope=col>r90</th><th scope=col>iline</th><th scope=col>pc</th></tr>\n",
       "\t<tr><th></th><th scope=col>&lt;dbl&gt;</th><th scope=col>&lt;dbl&gt;</th><th scope=col>&lt;dbl&gt;</th><th scope=col>&lt;dbl&gt;</th><th scope=col>&lt;dbl&gt;</th><th scope=col>&lt;dbl&gt;</th><th scope=col>&lt;dbl&gt;</th><th scope=col>&lt;dbl&gt;</th><th scope=col>&lt;dbl&gt;</th><th scope=col>&lt;dbl&gt;</th><th scope=col>&lt;dbl&gt;</th><th scope=col>&lt;dbl&gt;</th><th scope=col>&lt;dbl&gt;</th><th scope=col>&lt;dbl&gt;</th></tr>\n",
       "</thead>\n",
       "<tbody>\n",
       "\t<tr><th scope=row>463</th><td>1.237651e+18</td><td>4.257237</td><td>0.8235617</td><td>0.1987090</td><td>17.22759</td><td>17.94710</td><td>18.48766</td><td>-21.85339</td><td>-21.36975</td><td>-20.61558</td><td>0.9953877</td><td>3.115168</td><td>463</td><td>3.013761</td></tr>\n",
       "\t<tr><th scope=row>464</th><td>1.237651e+18</td><td>4.257244</td><td>0.8232344</td><td>0.1977132</td><td>17.10408</td><td>18.38229</td><td>20.38948</td><td>-22.26300</td><td>-21.43412</td><td>-19.53095</td><td>1.3680570</td><td>3.876439</td><td>464</td><td>2.997343</td></tr>\n",
       "</tbody>\n",
       "</table>\n"
      ],
      "text/latex": [
       "A data.frame: 2 × 14\n",
       "\\begin{tabular}{r|llllllllllllll}\n",
       "  & galID & ra\\_rad & dec\\_rad & zCMB & rextAB & gextAB & uextAB & rabs & gabs & uabs & r50 & r90 & iline & pc\\\\\n",
       "  & <dbl> & <dbl> & <dbl> & <dbl> & <dbl> & <dbl> & <dbl> & <dbl> & <dbl> & <dbl> & <dbl> & <dbl> & <dbl> & <dbl>\\\\\n",
       "\\hline\n",
       "\t463 & 1.237651e+18 & 4.257237 & 0.8235617 & 0.1987090 & 17.22759 & 17.94710 & 18.48766 & -21.85339 & -21.36975 & -20.61558 & 0.9953877 & 3.115168 & 463 & 3.013761\\\\\n",
       "\t464 & 1.237651e+18 & 4.257244 & 0.8232344 & 0.1977132 & 17.10408 & 18.38229 & 20.38948 & -22.26300 & -21.43412 & -19.53095 & 1.3680570 & 3.876439 & 464 & 2.997343\\\\\n",
       "\\end{tabular}\n"
      ],
      "text/markdown": [
       "\n",
       "A data.frame: 2 × 14\n",
       "\n",
       "| <!--/--> | galID &lt;dbl&gt; | ra_rad &lt;dbl&gt; | dec_rad &lt;dbl&gt; | zCMB &lt;dbl&gt; | rextAB &lt;dbl&gt; | gextAB &lt;dbl&gt; | uextAB &lt;dbl&gt; | rabs &lt;dbl&gt; | gabs &lt;dbl&gt; | uabs &lt;dbl&gt; | r50 &lt;dbl&gt; | r90 &lt;dbl&gt; | iline &lt;dbl&gt; | pc &lt;dbl&gt; |\n",
       "|---|---|---|---|---|---|---|---|---|---|---|---|---|---|---|\n",
       "| 463 | 1.237651e+18 | 4.257237 | 0.8235617 | 0.1987090 | 17.22759 | 17.94710 | 18.48766 | -21.85339 | -21.36975 | -20.61558 | 0.9953877 | 3.115168 | 463 | 3.013761 |\n",
       "| 464 | 1.237651e+18 | 4.257244 | 0.8232344 | 0.1977132 | 17.10408 | 18.38229 | 20.38948 | -22.26300 | -21.43412 | -19.53095 | 1.3680570 | 3.876439 | 464 | 2.997343 |\n",
       "\n"
      ],
      "text/plain": [
       "    galID        ra_rad   dec_rad   zCMB      rextAB   gextAB   uextAB  \n",
       "463 1.237651e+18 4.257237 0.8235617 0.1987090 17.22759 17.94710 18.48766\n",
       "464 1.237651e+18 4.257244 0.8232344 0.1977132 17.10408 18.38229 20.38948\n",
       "    rabs      gabs      uabs      r50       r90      iline pc      \n",
       "463 -21.85339 -21.36975 -20.61558 0.9953877 3.115168 463   3.013761\n",
       "464 -22.26300 -21.43412 -19.53095 1.3680570 3.876439 464   2.997343"
      ]
     },
     "metadata": {},
     "output_type": "display_data"
    },
    {
     "data": {
      "text/html": [
       "<table class=\"dataframe\">\n",
       "<caption>A data.frame: 2 × 14</caption>\n",
       "<thead>\n",
       "\t<tr><th></th><th scope=col>galID</th><th scope=col>ra_rad</th><th scope=col>dec_rad</th><th scope=col>zCMB</th><th scope=col>rextAB</th><th scope=col>gextAB</th><th scope=col>uextAB</th><th scope=col>rabs</th><th scope=col>gabs</th><th scope=col>uabs</th><th scope=col>r50</th><th scope=col>r90</th><th scope=col>iline</th><th scope=col>pc</th></tr>\n",
       "\t<tr><th></th><th scope=col>&lt;dbl&gt;</th><th scope=col>&lt;dbl&gt;</th><th scope=col>&lt;dbl&gt;</th><th scope=col>&lt;dbl&gt;</th><th scope=col>&lt;dbl&gt;</th><th scope=col>&lt;dbl&gt;</th><th scope=col>&lt;dbl&gt;</th><th scope=col>&lt;dbl&gt;</th><th scope=col>&lt;dbl&gt;</th><th scope=col>&lt;dbl&gt;</th><th scope=col>&lt;dbl&gt;</th><th scope=col>&lt;dbl&gt;</th><th scope=col>&lt;dbl&gt;</th><th scope=col>&lt;dbl&gt;</th></tr>\n",
       "</thead>\n",
       "<tbody>\n",
       "\t<tr><th scope=row>463</th><td>1.237651e+18</td><td>4.257237</td><td>0.8235617</td><td>0.1987090</td><td>17.22759</td><td>17.94710</td><td>18.48766</td><td>-21.85339</td><td>-21.36975</td><td>-20.61558</td><td>0.9953877</td><td>3.115168</td><td>463</td><td>3.013761</td></tr>\n",
       "\t<tr><th scope=row>464</th><td>1.237651e+18</td><td>4.257244</td><td>0.8232344</td><td>0.1977132</td><td>17.10408</td><td>18.38229</td><td>20.38948</td><td>-22.26300</td><td>-21.43412</td><td>-19.53095</td><td>1.3680570</td><td>3.876439</td><td>464</td><td>2.997343</td></tr>\n",
       "</tbody>\n",
       "</table>\n"
      ],
      "text/latex": [
       "A data.frame: 2 × 14\n",
       "\\begin{tabular}{r|llllllllllllll}\n",
       "  & galID & ra\\_rad & dec\\_rad & zCMB & rextAB & gextAB & uextAB & rabs & gabs & uabs & r50 & r90 & iline & pc\\\\\n",
       "  & <dbl> & <dbl> & <dbl> & <dbl> & <dbl> & <dbl> & <dbl> & <dbl> & <dbl> & <dbl> & <dbl> & <dbl> & <dbl> & <dbl>\\\\\n",
       "\\hline\n",
       "\t463 & 1.237651e+18 & 4.257237 & 0.8235617 & 0.1987090 & 17.22759 & 17.94710 & 18.48766 & -21.85339 & -21.36975 & -20.61558 & 0.9953877 & 3.115168 & 463 & 3.013761\\\\\n",
       "\t464 & 1.237651e+18 & 4.257244 & 0.8232344 & 0.1977132 & 17.10408 & 18.38229 & 20.38948 & -22.26300 & -21.43412 & -19.53095 & 1.3680570 & 3.876439 & 464 & 2.997343\\\\\n",
       "\\end{tabular}\n"
      ],
      "text/markdown": [
       "\n",
       "A data.frame: 2 × 14\n",
       "\n",
       "| <!--/--> | galID &lt;dbl&gt; | ra_rad &lt;dbl&gt; | dec_rad &lt;dbl&gt; | zCMB &lt;dbl&gt; | rextAB &lt;dbl&gt; | gextAB &lt;dbl&gt; | uextAB &lt;dbl&gt; | rabs &lt;dbl&gt; | gabs &lt;dbl&gt; | uabs &lt;dbl&gt; | r50 &lt;dbl&gt; | r90 &lt;dbl&gt; | iline &lt;dbl&gt; | pc &lt;dbl&gt; |\n",
       "|---|---|---|---|---|---|---|---|---|---|---|---|---|---|---|\n",
       "| 463 | 1.237651e+18 | 4.257237 | 0.8235617 | 0.1987090 | 17.22759 | 17.94710 | 18.48766 | -21.85339 | -21.36975 | -20.61558 | 0.9953877 | 3.115168 | 463 | 3.013761 |\n",
       "| 464 | 1.237651e+18 | 4.257244 | 0.8232344 | 0.1977132 | 17.10408 | 18.38229 | 20.38948 | -22.26300 | -21.43412 | -19.53095 | 1.3680570 | 3.876439 | 464 | 2.997343 |\n",
       "\n"
      ],
      "text/plain": [
       "    galID        ra_rad   dec_rad   zCMB      rextAB   gextAB   uextAB  \n",
       "463 1.237651e+18 4.257237 0.8235617 0.1987090 17.22759 17.94710 18.48766\n",
       "464 1.237651e+18 4.257244 0.8232344 0.1977132 17.10408 18.38229 20.38948\n",
       "    rabs      gabs      uabs      r50       r90      iline pc      \n",
       "463 -21.85339 -21.36975 -20.61558 0.9953877 3.115168 463   3.013761\n",
       "464 -22.26300 -21.43412 -19.53095 1.3680570 3.876439 464   2.997343"
      ]
     },
     "metadata": {},
     "output_type": "display_data"
    }
   ],
   "source": [
    "pc = C_ran1[,ind_pmax1] #para que todos tengan el mismo nombre\n",
    "dfmalos_c1<-cbind(in1,pc) \n",
    "head(dfmalos_c1,2)\n",
    "\n",
    "pc = C_ran2[,ind_pmax2]\n",
    "dfmalos_c2<-cbind(in2,pc)\n",
    "pc = C_ran3[,ind_pmax3]\n",
    "dfmalos_c3<-cbind(in3,pc)\n",
    "pc = C_ran4[,ind_pmax4]\n",
    "dfmalos_c4<-cbind(in4,pc)\n",
    "pc = C_ran5[,ind_pmax5]\n",
    "dfmalos_c5<-cbind(in5,pc)\n",
    "pc = C_ran6[,ind_pmax6]\n",
    "dfmalos_c6<-cbind(in6,pc)\n",
    "pc = C_ran7[,ind_pmax7]\n",
    "dfmalos_c7<-cbind(in7,pc)\n",
    "pc = C_ran8[,ind_pmax8]\n",
    "dfmalos_c8<-cbind(in8,pc)\n",
    "\n",
    "\n",
    "dfmalos_tot = rbind(dfmalos_c1,dfmalos_c2,dfmalos_c3,dfmalos_c4,dfmalos_c5,dfmalos_c6,dfmalos_c7,dfmalos_c8)\n",
    "head(dfmalos_tot,2)"
   ]
  },
  {
   "cell_type": "markdown",
   "metadata": {},
   "source": [
    "###### Glx c/ r50 malo (sumo todos los bines)"
   ]
  },
  {
   "cell_type": "code",
   "execution_count": 33,
   "metadata": {},
   "outputs": [
    {
     "data": {
      "text/html": [
       "87716"
      ],
      "text/latex": [
       "87716"
      ],
      "text/markdown": [
       "87716"
      ],
      "text/plain": [
       "[1] 87716"
      ]
     },
     "metadata": {},
     "output_type": "display_data"
    }
   ],
   "source": [
    "tot_malos = length(dfmalos_tot$pc)\n",
    "tot_malos"
   ]
  },
  {
   "cell_type": "code",
   "execution_count": null,
   "metadata": {},
   "outputs": [],
   "source": []
  },
  {
   "cell_type": "code",
   "execution_count": 34,
   "metadata": {},
   "outputs": [],
   "source": [
    "#tt1 = format(dfmalos_tot$galID,digits=20)\n",
    "tt1 = format(dfmalos_tot$iline, scientific = FALSE)\n",
    "tt2 = signif(dfmalos_tot$r50,8)\n",
    "tt3 = signif(dfmalos_tot$pc,8)\n",
    "\n",
    "tt = cbind(tt1,tt2,tt3)\n",
    "\n",
    "write.table(tt, file = \"../../tempel_r50_malo.dat\",\n",
    "            sep='\\t', row.names = FALSE, dec = \".\" , quote=F, col.names = FALSE)\n"
   ]
  },
  {
   "cell_type": "raw",
   "metadata": {},
   "source": [
    "print(format(df$galID[14810], scientific = FALSE))\n",
    "print(format(df_tempel$galID[14810], scientific = FALSE))"
   ]
  },
  {
   "cell_type": "code",
   "execution_count": 35,
   "metadata": {},
   "outputs": [
    {
     "data": {
      "text/html": [
       "<style>\n",
       ".list-inline {list-style: none; margin:0; padding: 0}\n",
       ".list-inline>li {display: inline-block}\n",
       ".list-inline>li:not(:last-child)::after {content: \"\\00b7\"; padding: 0 .5ex}\n",
       "</style>\n",
       "<ol class=list-inline><li>463</li><li>464</li><li>1241</li><li>1547</li><li>1556</li></ol>\n"
      ],
      "text/latex": [
       "\\begin{enumerate*}\n",
       "\\item 463\n",
       "\\item 464\n",
       "\\item 1241\n",
       "\\item 1547\n",
       "\\item 1556\n",
       "\\end{enumerate*}\n"
      ],
      "text/markdown": [
       "1. 463\n",
       "2. 464\n",
       "3. 1241\n",
       "4. 1547\n",
       "5. 1556\n",
       "\n",
       "\n"
      ],
      "text/plain": [
       "[1]  463  464 1241 1547 1556"
      ]
     },
     "metadata": {},
     "output_type": "display_data"
    }
   ],
   "source": [
    "head(as.double(tt),5)"
   ]
  },
  {
   "cell_type": "code",
   "execution_count": 36,
   "metadata": {},
   "outputs": [],
   "source": [
    "#install.packages(\"gmp\")"
   ]
  },
  {
   "cell_type": "raw",
   "metadata": {},
   "source": [
    "# Enteros grandes\n",
    "library(gmp)\n",
    "\n",
    "id_tot = as.bigz(dfmalos_tot$galID)\n",
    "id_cg = as.bigz(dfgalcg_malo$galID)"
   ]
  },
  {
   "cell_type": "code",
   "execution_count": null,
   "metadata": {},
   "outputs": [],
   "source": []
  },
  {
   "cell_type": "raw",
   "metadata": {},
   "source": [
    "install.packages(\"gmp\")"
   ]
  },
  {
   "cell_type": "code",
   "execution_count": null,
   "metadata": {},
   "outputs": [],
   "source": []
  },
  {
   "cell_type": "code",
   "execution_count": null,
   "metadata": {},
   "outputs": [],
   "source": []
  },
  {
   "cell_type": "markdown",
   "metadata": {},
   "source": [
    "## Test Kolmogorov-Smirnov \n",
    "https://search.r-project.org/CRAN/refmans/Ecume/html/ks_test.html"
   ]
  },
  {
   "cell_type": "code",
   "execution_count": 37,
   "metadata": {},
   "outputs": [
    {
     "data": {
      "text/plain": [
       "\n",
       "\tTwo-sample Kolmogorov-Smirnov test\n",
       "\n",
       "data:  n1 and n2\n",
       "D = 1, p-value = 4.263e-14\n",
       "alternative hypothesis: two-sided\n"
      ]
     },
     "metadata": {},
     "output_type": "display_data"
    },
    {
     "data": {
      "text/html": [
       "<strong>D:</strong> 1"
      ],
      "text/latex": [
       "\\textbf{D:} 1"
      ],
      "text/markdown": [
       "**D:** 1"
      ],
      "text/plain": [
       "D \n",
       "1 "
      ]
     },
     "metadata": {},
     "output_type": "display_data"
    },
    {
     "data": {
      "text/html": [
       "4.2632564145606e-14"
      ],
      "text/latex": [
       "4.2632564145606e-14"
      ],
      "text/markdown": [
       "4.2632564145606e-14"
      ],
      "text/plain": [
       "[1] 4.263256e-14"
      ]
     },
     "metadata": {},
     "output_type": "display_data"
    },
    {
     "data": {
      "text/html": [
       "4.2632564145606e-14"
      ],
      "text/latex": [
       "4.2632564145606e-14"
      ],
      "text/markdown": [
       "4.2632564145606e-14"
      ],
      "text/plain": [
       "[1] 4.263256e-14"
      ]
     },
     "metadata": {},
     "output_type": "display_data"
    },
    {
     "data": {
      "image/png": "[encoded data removed]",
      "text/plain": [
       "Plot with title “Histogram of n1”"
      ]
     },
     "metadata": {
      "image/png": {
       "height": 420,
       "width": 420
      }
     },
     "output_type": "display_data"
    },
    {
     "data": {
      "image/png": "[encoded data removed]",
      "text/plain": [
       "Plot with title “Histogram of n2”"
      ]
     },
     "metadata": {
      "image/png": {
       "height": 420,
       "width": 420
      }
     },
     "output_type": "display_data"
    }
   ],
   "source": [
    "n1 = rnorm(100, 50, 0.2)\n",
    "n2 = rnorm(10, 500, 0.2)\n",
    "a=ks.test(n1,n2)\n",
    "a\n",
    "#$htest$p.value\n",
    "a$statistic\n",
    "a$p.value\n",
    "pval = ks.test(n1,n2)$p.value\n",
    "pval\n",
    "hist(n1)\n",
    "hist(n2)"
   ]
  },
  {
   "cell_type": "markdown",
   "metadata": {},
   "source": [
    "# Codigo tirado"
   ]
  },
  {
   "cell_type": "raw",
   "metadata": {},
   "source": [
    "df_c = tab_c_ran[order(tab_c_ran$C),]\n",
    "head(df_c,10)\n",
    "#plot(tab$x,tab$Fn.x)\n",
    "df_c$C[25750]"
   ]
  },
  {
   "cell_type": "raw",
   "metadata": {},
   "source": [
    "\n",
    "size <- 2000\n",
    "#vals <- get(\"x\", environment(Fn))\n",
    "#probs <- diff(c(0, get(\"y\", environment(Fn))))\n",
    "#s=sample(vals, size, replace=FALSE, prob=probs)\n",
    "#range(vals)\n",
    "\n",
    "\n",
    "#With replacement =TRUE. which means value  in the sample can occur more than once\n",
    "s=sample(x, size, replace=TRUE,prob=Fn(x))\n",
    "range(s)\n",
    "length(s)\n",
    "\n",
    "hs = hist(s,plot=F,breaks=50)\n",
    "points(hs$mids,hs$counts/size,type='s',xlim=c(1.5,4),col='red')"
   ]
  }
 ],
 "metadata": {
  "kernelspec": {
   "display_name": "R",
   "language": "R",
   "name": "ir"
  },
  "language_info": {
   "codemirror_mode": "r",
   "file_extension": ".r",
   "mimetype": "text/x-r-source",
   "name": "R",
   "pygments_lexer": "r",
   "version": "3.6.3"
  },
  "toc": {
   "base_numbering": 1,
   "nav_menu": {},
   "number_sections": true,
   "sideBar": true,
   "skip_h1_title": false,
   "title_cell": "Table of Contents",
   "title_sidebar": "Contents",
   "toc_cell": false,
   "toc_position": {},
   "toc_section_display": true,
   "toc_window_display": false
  },
  "varInspector": {
   "cols": {
    "lenName": 16,
    "lenType": 16,
    "lenVar": 40
   },
   "kernels_config": {
    "python": {
     "delete_cmd_postfix": "",
     "delete_cmd_prefix": "del ",
     "library": "var_list.py",
     "varRefreshCmd": "print(var_dic_list())"
    },
    "r": {
     "delete_cmd_postfix": ") ",
     "delete_cmd_prefix": "rm(",
     "library": "var_list.r",
     "varRefreshCmd": "cat(var_dic_list()) "
    }
   },
   "types_to_exclude": [
    "module",
    "function",
    "builtin_function_or_method",
    "instance",
    "_Feature"
   ],
   "window_display": false
  }
 },
 "nbformat": 4,
 "nbformat_minor": 1
}
