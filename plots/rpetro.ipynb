{
 "cells": [
  {
   "cell_type": "markdown",
   "metadata": {},
   "source": [
    "# Tempel "
   ]
  },
  {
   "cell_type": "code",
   "execution_count": 1,
   "metadata": {},
   "outputs": [],
   "source": [
    "df = read.table(\"../../tempel_limpio_full.dat\")\n",
    "colnames(df) <- c('galID', 'ra_rad', 'dec_rad', 'zCMB', 'rextAB', 'gextAB', 'uextAB',\n",
    "                  'rabs','gabs','uabs','r50','r90')"
   ]
  },
  {
   "cell_type": "code",
   "execution_count": 2,
   "metadata": {},
   "outputs": [
    {
     "data": {
      "text/html": [
       "<table>\n",
       "<thead><tr><th scope=col>galID</th><th scope=col>ra_rad</th><th scope=col>dec_rad</th><th scope=col>zCMB</th><th scope=col>rextAB</th><th scope=col>gextAB</th><th scope=col>uextAB</th><th scope=col>rabs</th><th scope=col>gabs</th><th scope=col>uabs</th><th scope=col>r50</th><th scope=col>r90</th></tr></thead>\n",
       "<tbody>\n",
       "\t<tr><td>1.237649e+18</td><td>4.302659    </td><td>0.006149179 </td><td>0.05236439  </td><td>17.36489    </td><td>17.82147    </td><td>18.90977    </td><td>-18.73781   </td><td>-18.27942   </td><td>-17.27946   </td><td>4.452624    </td><td>8.327925    </td></tr>\n",
       "\t<tr><td>1.237649e+18</td><td>4.309919    </td><td>0.005996814 </td><td>0.07266134  </td><td>16.85341    </td><td>17.24536    </td><td>18.35984    </td><td>-19.98522   </td><td>-19.58093   </td><td>-18.55669   </td><td>2.092882    </td><td>5.799765    </td></tr>\n",
       "\t<tr><td>1.237649e+18</td><td>4.313667    </td><td>0.007160015 </td><td>0.16412390  </td><td>16.27763    </td><td>17.52155    </td><td>19.80539    </td><td>-22.61547   </td><td>-21.72257   </td><td>-19.55359   </td><td>3.012558    </td><td>9.305360    </td></tr>\n",
       "</tbody>\n",
       "</table>\n"
      ],
      "text/latex": [
       "\\begin{tabular}{r|llllllllllll}\n",
       " galID & ra\\_rad & dec\\_rad & zCMB & rextAB & gextAB & uextAB & rabs & gabs & uabs & r50 & r90\\\\\n",
       "\\hline\n",
       "\t 1.237649e+18 & 4.302659     & 0.006149179  & 0.05236439   & 17.36489     & 17.82147     & 18.90977     & -18.73781    & -18.27942    & -17.27946    & 4.452624     & 8.327925    \\\\\n",
       "\t 1.237649e+18 & 4.309919     & 0.005996814  & 0.07266134   & 16.85341     & 17.24536     & 18.35984     & -19.98522    & -19.58093    & -18.55669    & 2.092882     & 5.799765    \\\\\n",
       "\t 1.237649e+18 & 4.313667     & 0.007160015  & 0.16412390   & 16.27763     & 17.52155     & 19.80539     & -22.61547    & -21.72257    & -19.55359    & 3.012558     & 9.305360    \\\\\n",
       "\\end{tabular}\n"
      ],
      "text/markdown": [
       "\n",
       "| galID | ra_rad | dec_rad | zCMB | rextAB | gextAB | uextAB | rabs | gabs | uabs | r50 | r90 |\n",
       "|---|---|---|---|---|---|---|---|---|---|---|---|\n",
       "| 1.237649e+18 | 4.302659     | 0.006149179  | 0.05236439   | 17.36489     | 17.82147     | 18.90977     | -18.73781    | -18.27942    | -17.27946    | 4.452624     | 8.327925     |\n",
       "| 1.237649e+18 | 4.309919     | 0.005996814  | 0.07266134   | 16.85341     | 17.24536     | 18.35984     | -19.98522    | -19.58093    | -18.55669    | 2.092882     | 5.799765     |\n",
       "| 1.237649e+18 | 4.313667     | 0.007160015  | 0.16412390   | 16.27763     | 17.52155     | 19.80539     | -22.61547    | -21.72257    | -19.55359    | 3.012558     | 9.305360     |\n",
       "\n"
      ],
      "text/plain": [
       "  galID        ra_rad   dec_rad     zCMB       rextAB   gextAB   uextAB  \n",
       "1 1.237649e+18 4.302659 0.006149179 0.05236439 17.36489 17.82147 18.90977\n",
       "2 1.237649e+18 4.309919 0.005996814 0.07266134 16.85341 17.24536 18.35984\n",
       "3 1.237649e+18 4.313667 0.007160015 0.16412390 16.27763 17.52155 19.80539\n",
       "  rabs      gabs      uabs      r50      r90     \n",
       "1 -18.73781 -18.27942 -17.27946 4.452624 8.327925\n",
       "2 -19.98522 -19.58093 -18.55669 2.092882 5.799765\n",
       "3 -22.61547 -21.72257 -19.55359 3.012558 9.305360"
      ]
     },
     "metadata": {},
     "output_type": "display_data"
    }
   ],
   "source": [
    "head(df,3)"
   ]
  },
  {
   "cell_type": "code",
   "execution_count": 3,
   "metadata": {},
   "outputs": [
    {
     "data": {
      "text/html": [
       "557559"
      ],
      "text/latex": [
       "557559"
      ],
      "text/markdown": [
       "557559"
      ],
      "text/plain": [
       "[1] 557559"
      ]
     },
     "metadata": {},
     "output_type": "display_data"
    }
   ],
   "source": [
    "length(df$galID)"
   ]
  },
  {
   "cell_type": "code",
   "execution_count": 4,
   "metadata": {},
   "outputs": [
    {
     "data": {
      "text/html": [
       "<ol class=list-inline>\n",
       "\t<li>-99.9</li>\n",
       "\t<li>125.0923</li>\n",
       "</ol>\n"
      ],
      "text/latex": [
       "\\begin{enumerate*}\n",
       "\\item -99.9\n",
       "\\item 125.0923\n",
       "\\end{enumerate*}\n"
      ],
      "text/markdown": [
       "1. -99.9\n",
       "2. 125.0923\n",
       "\n",
       "\n"
      ],
      "text/plain": [
       "[1] -99.9000 125.0923"
      ]
     },
     "metadata": {},
     "output_type": "display_data"
    }
   ],
   "source": [
    "r5 = df$r50\n",
    "r9 = df$r90\n",
    "range(r5)"
   ]
  },
  {
   "cell_type": "markdown",
   "metadata": {},
   "source": [
    "## [ dfbueno ] Seleccion de glx con r50 bien calculado"
   ]
  },
  {
   "cell_type": "code",
   "execution_count": 5,
   "metadata": {},
   "outputs": [
    {
     "data": {
      "text/html": [
       "469842"
      ],
      "text/latex": [
       "469842"
      ],
      "text/markdown": [
       "469842"
      ],
      "text/plain": [
       "[1] 469842"
      ]
     },
     "metadata": {},
     "output_type": "display_data"
    },
    {
     "data": {
      "text/html": [
       "<ol class=list-inline>\n",
       "\t<li>1.600007</li>\n",
       "\t<li>125.0923</li>\n",
       "</ol>\n"
      ],
      "text/latex": [
       "\\begin{enumerate*}\n",
       "\\item 1.600007\n",
       "\\item 125.0923\n",
       "\\end{enumerate*}\n"
      ],
      "text/markdown": [
       "1. 1.600007\n",
       "2. 125.0923\n",
       "\n",
       "\n"
      ],
      "text/plain": [
       "[1]   1.600007 125.092300"
      ]
     },
     "metadata": {},
     "output_type": "display_data"
    }
   ],
   "source": [
    "dfbueno = subset(df, df$r50 >= 1.6)\n",
    "\n",
    "length(dfbueno$r50)\n",
    "range(dfbueno$r50)"
   ]
  },
  {
   "cell_type": "markdown",
   "metadata": {},
   "source": [
    "## [ df1 ] Seleccion de glx con r50 bien calculado + mr<16  "
   ]
  },
  {
   "cell_type": "code",
   "execution_count": 6,
   "metadata": {},
   "outputs": [
    {
     "data": {
      "text/html": [
       "<ol class=list-inline>\n",
       "\t<li>1.600076</li>\n",
       "\t<li>103.4871</li>\n",
       "</ol>\n"
      ],
      "text/latex": [
       "\\begin{enumerate*}\n",
       "\\item 1.600076\n",
       "\\item 103.4871\n",
       "\\end{enumerate*}\n"
      ],
      "text/markdown": [
       "1. 1.600076\n",
       "2. 103.4871\n",
       "\n",
       "\n"
      ],
      "text/plain": [
       "[1]   1.600076 103.487100"
      ]
     },
     "metadata": {},
     "output_type": "display_data"
    },
    {
     "data": {
      "text/html": [
       "71294"
      ],
      "text/latex": [
       "71294"
      ],
      "text/markdown": [
       "71294"
      ],
      "text/plain": [
       "[1] 71294"
      ]
     },
     "metadata": {},
     "output_type": "display_data"
    }
   ],
   "source": [
    "df1 = subset(df, df$r50 > 1.6 & df$rextAB < 16)\n",
    "range(df1$r50)\n",
    "length(df1$r50)"
   ]
  },
  {
   "cell_type": "code",
   "execution_count": 7,
   "metadata": {},
   "outputs": [
    {
     "data": {
      "text/html": [
       "<table>\n",
       "<thead><tr><th></th><th scope=col>galID</th><th scope=col>ra_rad</th><th scope=col>dec_rad</th><th scope=col>zCMB</th><th scope=col>rextAB</th><th scope=col>gextAB</th><th scope=col>uextAB</th><th scope=col>rabs</th><th scope=col>gabs</th><th scope=col>uabs</th><th scope=col>r50</th><th scope=col>r90</th></tr></thead>\n",
       "<tbody>\n",
       "\t<tr><th scope=row>4</th><td>1.237649e+18</td><td>3.520162    </td><td>-0.01895346 </td><td>0.06827128  </td><td>15.67758    </td><td>16.55221    </td><td>18.41877    </td><td>-21.05556   </td><td>-20.27490   </td><td>-18.48057   </td><td>3.728195    </td><td>11.653700   </td></tr>\n",
       "\t<tr><th scope=row>11</th><td>1.237649e+18</td><td>3.547027    </td><td>-0.02023635 </td><td>0.01367959  </td><td>13.99719    </td><td>14.56983    </td><td>15.76445    </td><td>-19.11036   </td><td>-18.53349   </td><td>-17.38972   </td><td>8.449419    </td><td>17.503450   </td></tr>\n",
       "\t<tr><th scope=row>17</th><td>1.237649e+18</td><td>3.635346    </td><td>-0.02130850 </td><td>0.07400486  </td><td>15.56765    </td><td>16.32024    </td><td>17.84108    </td><td>-21.33739   </td><td>-20.67443   </td><td>-19.19117   </td><td>3.521352    </td><td> 8.158723   </td></tr>\n",
       "</tbody>\n",
       "</table>\n"
      ],
      "text/latex": [
       "\\begin{tabular}{r|llllllllllll}\n",
       "  & galID & ra\\_rad & dec\\_rad & zCMB & rextAB & gextAB & uextAB & rabs & gabs & uabs & r50 & r90\\\\\n",
       "\\hline\n",
       "\t4 & 1.237649e+18 & 3.520162     & -0.01895346  & 0.06827128   & 15.67758     & 16.55221     & 18.41877     & -21.05556    & -20.27490    & -18.48057    & 3.728195     & 11.653700   \\\\\n",
       "\t11 & 1.237649e+18 & 3.547027     & -0.02023635  & 0.01367959   & 13.99719     & 14.56983     & 15.76445     & -19.11036    & -18.53349    & -17.38972    & 8.449419     & 17.503450   \\\\\n",
       "\t17 & 1.237649e+18 & 3.635346     & -0.02130850  & 0.07400486   & 15.56765     & 16.32024     & 17.84108     & -21.33739    & -20.67443    & -19.19117    & 3.521352     &  8.158723   \\\\\n",
       "\\end{tabular}\n"
      ],
      "text/markdown": [
       "\n",
       "| <!--/--> | galID | ra_rad | dec_rad | zCMB | rextAB | gextAB | uextAB | rabs | gabs | uabs | r50 | r90 |\n",
       "|---|---|---|---|---|---|---|---|---|---|---|---|---|\n",
       "| 4 | 1.237649e+18 | 3.520162     | -0.01895346  | 0.06827128   | 15.67758     | 16.55221     | 18.41877     | -21.05556    | -20.27490    | -18.48057    | 3.728195     | 11.653700    |\n",
       "| 11 | 1.237649e+18 | 3.547027     | -0.02023635  | 0.01367959   | 13.99719     | 14.56983     | 15.76445     | -19.11036    | -18.53349    | -17.38972    | 8.449419     | 17.503450    |\n",
       "| 17 | 1.237649e+18 | 3.635346     | -0.02130850  | 0.07400486   | 15.56765     | 16.32024     | 17.84108     | -21.33739    | -20.67443    | -19.19117    | 3.521352     |  8.158723    |\n",
       "\n"
      ],
      "text/plain": [
       "   galID        ra_rad   dec_rad     zCMB       rextAB   gextAB   uextAB  \n",
       "4  1.237649e+18 3.520162 -0.01895346 0.06827128 15.67758 16.55221 18.41877\n",
       "11 1.237649e+18 3.547027 -0.02023635 0.01367959 13.99719 14.56983 15.76445\n",
       "17 1.237649e+18 3.635346 -0.02130850 0.07400486 15.56765 16.32024 17.84108\n",
       "   rabs      gabs      uabs      r50      r90      \n",
       "4  -21.05556 -20.27490 -18.48057 3.728195 11.653700\n",
       "11 -19.11036 -18.53349 -17.38972 8.449419 17.503450\n",
       "17 -21.33739 -20.67443 -19.19117 3.521352  8.158723"
      ]
     },
     "metadata": {},
     "output_type": "display_data"
    }
   ],
   "source": [
    "head(df1,3)"
   ]
  },
  {
   "cell_type": "markdown",
   "metadata": {},
   "source": [
    "### Bines en Magnitud absoluta  \n",
    "##### (Tiene que cubir todo el rango de rabs del tempel)"
   ]
  },
  {
   "cell_type": "code",
   "execution_count": 8,
   "metadata": {},
   "outputs": [
    {
     "data": {
      "text/html": [
       "<ol class=list-inline>\n",
       "\t<li>-24.757483973264</li>\n",
       "\t<li>-8.03560281151948</li>\n",
       "</ol>\n"
      ],
      "text/latex": [
       "\\begin{enumerate*}\n",
       "\\item -24.757483973264\n",
       "\\item -8.03560281151948\n",
       "\\end{enumerate*}\n"
      ],
      "text/markdown": [
       "1. -24.757483973264\n",
       "2. -8.03560281151948\n",
       "\n",
       "\n"
      ],
      "text/plain": [
       "[1] -24.757484  -8.035603"
      ]
     },
     "metadata": {},
     "output_type": "display_data"
    }
   ],
   "source": [
    "range(df1$rabs)"
   ]
  },
  {
   "cell_type": "code",
   "execution_count": 9,
   "metadata": {},
   "outputs": [
    {
     "data": {
      "text/html": [
       "9"
      ],
      "text/latex": [
       "9"
      ],
      "text/markdown": [
       "9"
      ],
      "text/plain": [
       "[1] 9"
      ]
     },
     "metadata": {},
     "output_type": "display_data"
    }
   ],
   "source": [
    "bin = c(-23.0, -22.0, -21.5, -21.0, -20.5, -20.0, -19.5, -19.0, -17.8)\n",
    "length(bin)"
   ]
  },
  {
   "cell_type": "code",
   "execution_count": 10,
   "metadata": {},
   "outputs": [],
   "source": [
    "dfm1 = subset(df1, df1$rabs > bin[1] & df1$rabs <= bin[2])\n",
    "dfm2 = subset(df1, df1$rabs > bin[2] & df1$rabs <= bin[3])\n",
    "dfm3 = subset(df1, df1$rabs > bin[3] & df1$rabs <= bin[4])\n",
    "dfm4 = subset(df1, df1$rabs > bin[4] & df1$rabs <= bin[5])\n",
    "dfm5 = subset(df1, df1$rabs > bin[5] & df1$rabs <= bin[6])\n",
    "dfm6 = subset(df1, df1$rabs > bin[6] & df1$rabs <= bin[7])\n",
    "dfm7 = subset(df1, df1$rabs > bin[7] & df1$rabs <= bin[8])\n",
    "dfm8 = subset(df1, df1$rabs > bin[8] & df1$rabs <= bin[9])"
   ]
  },
  {
   "cell_type": "code",
   "execution_count": 11,
   "metadata": {},
   "outputs": [
    {
     "data": {
      "text/html": [
       "71294"
      ],
      "text/latex": [
       "71294"
      ],
      "text/markdown": [
       "71294"
      ],
      "text/plain": [
       "[1] 71294"
      ]
     },
     "metadata": {},
     "output_type": "display_data"
    },
    {
     "data": {
      "text/html": [
       "5597"
      ],
      "text/latex": [
       "5597"
      ],
      "text/markdown": [
       "5597"
      ],
      "text/plain": [
       "[1] 5597"
      ]
     },
     "metadata": {},
     "output_type": "display_data"
    },
    {
     "data": {
      "text/html": [
       "10110"
      ],
      "text/latex": [
       "10110"
      ],
      "text/markdown": [
       "10110"
      ],
      "text/plain": [
       "[1] 10110"
      ]
     },
     "metadata": {},
     "output_type": "display_data"
    },
    {
     "data": {
      "text/html": [
       "14372"
      ],
      "text/latex": [
       "14372"
      ],
      "text/markdown": [
       "14372"
      ],
      "text/plain": [
       "[1] 14372"
      ]
     },
     "metadata": {},
     "output_type": "display_data"
    },
    {
     "data": {
      "text/html": [
       "13047"
      ],
      "text/latex": [
       "13047"
      ],
      "text/markdown": [
       "13047"
      ],
      "text/plain": [
       "[1] 13047"
      ]
     },
     "metadata": {},
     "output_type": "display_data"
    },
    {
     "data": {
      "text/html": [
       "10237"
      ],
      "text/latex": [
       "10237"
      ],
      "text/markdown": [
       "10237"
      ],
      "text/plain": [
       "[1] 10237"
      ]
     },
     "metadata": {},
     "output_type": "display_data"
    },
    {
     "data": {
      "text/html": [
       "7244"
      ],
      "text/latex": [
       "7244"
      ],
      "text/markdown": [
       "7244"
      ],
      "text/plain": [
       "[1] 7244"
      ]
     },
     "metadata": {},
     "output_type": "display_data"
    },
    {
     "data": {
      "text/html": [
       "4688"
      ],
      "text/latex": [
       "4688"
      ],
      "text/markdown": [
       "4688"
      ],
      "text/plain": [
       "[1] 4688"
      ]
     },
     "metadata": {},
     "output_type": "display_data"
    },
    {
     "data": {
      "text/html": [
       "3912"
      ],
      "text/latex": [
       "3912"
      ],
      "text/markdown": [
       "3912"
      ],
      "text/plain": [
       "[1] 3912"
      ]
     },
     "metadata": {},
     "output_type": "display_data"
    },
    {
     "data": {
      "image/png": "[encoded data removed]",
      "text/plain": [
       "Plot with title “rango 8”"
      ]
     },
     "metadata": {
      "image/png": {
       "height": 420,
       "width": 420
      }
     },
     "output_type": "display_data"
    }
   ],
   "source": [
    "#cairo_ps(\"xx.eps\")\n",
    "par(mfrow=c(3,3))\n",
    "par(mar = c(2, 2, 2, 2))\n",
    "par(oma = c(5, 5, 2, 2))\n",
    "#par(mar = c(0, 0, 0, 0))\n",
    "#par(oma = c(5, 6, 2, 2))\n",
    "\n",
    "limx=c(1.5,3.5)\n",
    "hist(df1$r90/df1$r50, xlim=limx, breaks=30, main='[-23,-17]')\n",
    "\n",
    "hist(dfm1$r90/dfm1$r50, xlim=limx, breaks=30, main='rango 1')\n",
    "hist(dfm2$r90/dfm2$r50, xlim=limx, breaks=30, main='rango 2')\n",
    "hist(dfm3$r90/dfm3$r50, xlim=limx, breaks=30, main='rango 3')\n",
    "hist(dfm4$r90/dfm4$r50, xlim=limx, breaks=30, main='rango 4')\n",
    "hist(dfm5$r90/dfm5$r50, xlim=limx, breaks=30, main='rango 5')\n",
    "hist(dfm6$r90/dfm6$r50, xlim=limx, breaks=30, main='rango 6')\n",
    "hist(dfm7$r90/dfm7$r50, xlim=limx, breaks=30, main='rango 7')\n",
    "hist(dfm8$r90/dfm8$r50, xlim=limx, breaks=30, main='rango 8')\n",
    "\n",
    "length(df1$r90/df1$r50)\n",
    "length(dfm1$r90/dfm1$r50)\n",
    "length(dfm2$r90/dfm2$r50)\n",
    "length(dfm3$r90/dfm3$r50)\n",
    "length(dfm4$r90/dfm4$r50)\n",
    "length(dfm5$r90/dfm5$r50)\n",
    "length(dfm6$r90/dfm6$r50)\n",
    "length(dfm7$r90/dfm7$r50)\n",
    "length(dfm8$r90/dfm8$r50)"
   ]
  },
  {
   "cell_type": "code",
   "execution_count": 12,
   "metadata": {},
   "outputs": [
    {
     "data": {
      "image/png": "[encoded data removed]",
      "text/plain": [
       "Plot with title “[-25,-8]”"
      ]
     },
     "metadata": {
      "image/png": {
       "height": 420,
       "width": 420
      }
     },
     "output_type": "display_data"
    },
    {
     "data": {
      "text/html": [
       "71294"
      ],
      "text/latex": [
       "71294"
      ],
      "text/markdown": [
       "71294"
      ],
      "text/plain": [
       "[1] 71294"
      ]
     },
     "metadata": {},
     "output_type": "display_data"
    },
    {
     "data": {
      "text/html": [
       "<ol class=list-inline>\n",
       "\t<li>1,06310994169567</li>\n",
       "\t<li>10,5766133238208</li>\n",
       "</ol>\n"
      ],
      "text/latex": [
       "\\begin{enumerate*}\n",
       "\\item 1,06310994169567\n",
       "\\item 10,5766133238208\n",
       "\\end{enumerate*}\n"
      ],
      "text/markdown": [
       "1. 1,06310994169567\n",
       "2. 10,5766133238208\n",
       "\n",
       "\n"
      ],
      "text/plain": [
       "[1]  1,06311 10,57661"
      ]
     },
     "metadata": {},
     "output_type": "display_data"
    },
    {
     "data": {
      "image/png": "[encoded data removed]",
      "text/plain": [
       "plot without title"
      ]
     },
     "metadata": {
      "image/png": {
       "height": 420,
       "width": 420
      }
     },
     "output_type": "display_data"
    }
   ],
   "source": [
    "limx=c(1.5,4.5)\n",
    "C = df1$r90/df1$r50\n",
    "hist(C, xlim=limx, breaks=300, main='[-25,-8]')\n",
    "\n",
    "hx = hist(C,plot=F,breaks=300)\n",
    "plot(hx$mids,hx$counts/length(C),type='l',xlim=limx)\n",
    "length(C)\n",
    "range(C)"
   ]
  },
  {
   "cell_type": "code",
   "execution_count": 13,
   "metadata": {},
   "outputs": [
    {
     "data": {
      "text/plain": [
       "Empirical CDF:\t  71294 unique values with summary\n",
       "   Min. 1st Qu.  Median    Mean 3rd Qu.    Max. \n",
       "  1,063   2,403   2,837   2,780   3,156  10,577 "
      ]
     },
     "metadata": {},
     "output_type": "display_data"
    },
    {
     "data": {
      "image/png": "[encoded data removed]",
      "text/plain": [
       "Plot with title “ecdf(C)”"
      ]
     },
     "metadata": {
      "image/png": {
       "height": 420,
       "width": 420
      }
     },
     "output_type": "display_data"
    }
   ],
   "source": [
    "Fn <- ecdf(C)\n",
    "plot(Fn,ylab=\"Fn(x)\", pch = 19)\n",
    "summary(Fn)\n",
    "#plot(C,Fn(C))"
   ]
  },
  {
   "cell_type": "code",
   "execution_count": 14,
   "metadata": {},
   "outputs": [
    {
     "data": {
      "text/html": [
       "<table>\n",
       "<thead><tr><th scope=col>C</th><th scope=col>Fn.C.</th></tr></thead>\n",
       "<tbody>\n",
       "\t<tr><td>3,125829  </td><td>0,72171571</td></tr>\n",
       "\t<tr><td>2,071557  </td><td>0,06990771</td></tr>\n",
       "\t<tr><td>2,316929  </td><td>0,20026931</td></tr>\n",
       "\t<tr><td>2,109680  </td><td>0,08711813</td></tr>\n",
       "\t<tr><td>2,974762  </td><td>0,59615115</td></tr>\n",
       "</tbody>\n",
       "</table>\n"
      ],
      "text/latex": [
       "\\begin{tabular}{r|ll}\n",
       " C & Fn.C.\\\\\n",
       "\\hline\n",
       "\t 3,125829   & 0,72171571\\\\\n",
       "\t 2,071557   & 0,06990771\\\\\n",
       "\t 2,316929   & 0,20026931\\\\\n",
       "\t 2,109680   & 0,08711813\\\\\n",
       "\t 2,974762   & 0,59615115\\\\\n",
       "\\end{tabular}\n"
      ],
      "text/markdown": [
       "\n",
       "| C | Fn.C. |\n",
       "|---|---|\n",
       "| 3,125829   | 0,72171571 |\n",
       "| 2,071557   | 0,06990771 |\n",
       "| 2,316929   | 0,20026931 |\n",
       "| 2,109680   | 0,08711813 |\n",
       "| 2,974762   | 0,59615115 |\n",
       "\n"
      ],
      "text/plain": [
       "  C        Fn.C.     \n",
       "1 3,125829 0,72171571\n",
       "2 2,071557 0,06990771\n",
       "3 2,316929 0,20026931\n",
       "4 2,109680 0,08711813\n",
       "5 2,974762 0,59615115"
      ]
     },
     "metadata": {},
     "output_type": "display_data"
    },
    {
     "data": {
      "text/html": [
       "1,06310994169567"
      ],
      "text/latex": [
       "1,06310994169567"
      ],
      "text/markdown": [
       "1,06310994169567"
      ],
      "text/plain": [
       "[1] 1,06311"
      ]
     },
     "metadata": {},
     "output_type": "display_data"
    }
   ],
   "source": [
    "tab_c_ran = data.frame(C, Fn(C))\n",
    "head(tab_c_ran, 5)\n",
    "tab_c_ran$C[25750]"
   ]
  },
  {
   "cell_type": "code",
   "execution_count": 15,
   "metadata": {},
   "outputs": [
    {
     "data": {
      "text/html": [
       "<table>\n",
       "<thead><tr><th></th><th scope=col>C</th><th scope=col>Fn.C.</th></tr></thead>\n",
       "<tbody>\n",
       "\t<tr><th scope=row>25750</th><td>1,063110    </td><td>1,402643e-05</td></tr>\n",
       "\t<tr><th scope=row>14346</th><td>1,111935    </td><td>2,805285e-05</td></tr>\n",
       "\t<tr><th scope=row>15166</th><td>1,115991    </td><td>4,207928e-05</td></tr>\n",
       "\t<tr><th scope=row>42741</th><td>1,171615    </td><td>5,610570e-05</td></tr>\n",
       "\t<tr><th scope=row>15302</th><td>1,179554    </td><td>7,013213e-05</td></tr>\n",
       "\t<tr><th scope=row>29977</th><td>1,237674    </td><td>8,415855e-05</td></tr>\n",
       "\t<tr><th scope=row>12695</th><td>1,309621    </td><td>9,818498e-05</td></tr>\n",
       "\t<tr><th scope=row>18131</th><td>1,330263    </td><td>1,122114e-04</td></tr>\n",
       "\t<tr><th scope=row>1239</th><td>1,356382    </td><td>1,262378e-04</td></tr>\n",
       "\t<tr><th scope=row>54534</th><td>1,389543    </td><td>1,402643e-04</td></tr>\n",
       "</tbody>\n",
       "</table>\n"
      ],
      "text/latex": [
       "\\begin{tabular}{r|ll}\n",
       "  & C & Fn.C.\\\\\n",
       "\\hline\n",
       "\t25750 & 1,063110     & 1,402643e-05\\\\\n",
       "\t14346 & 1,111935     & 2,805285e-05\\\\\n",
       "\t15166 & 1,115991     & 4,207928e-05\\\\\n",
       "\t42741 & 1,171615     & 5,610570e-05\\\\\n",
       "\t15302 & 1,179554     & 7,013213e-05\\\\\n",
       "\t29977 & 1,237674     & 8,415855e-05\\\\\n",
       "\t12695 & 1,309621     & 9,818498e-05\\\\\n",
       "\t18131 & 1,330263     & 1,122114e-04\\\\\n",
       "\t1239 & 1,356382     & 1,262378e-04\\\\\n",
       "\t54534 & 1,389543     & 1,402643e-04\\\\\n",
       "\\end{tabular}\n"
      ],
      "text/markdown": [
       "\n",
       "| <!--/--> | C | Fn.C. |\n",
       "|---|---|---|\n",
       "| 25750 | 1,063110     | 1,402643e-05 |\n",
       "| 14346 | 1,111935     | 2,805285e-05 |\n",
       "| 15166 | 1,115991     | 4,207928e-05 |\n",
       "| 42741 | 1,171615     | 5,610570e-05 |\n",
       "| 15302 | 1,179554     | 7,013213e-05 |\n",
       "| 29977 | 1,237674     | 8,415855e-05 |\n",
       "| 12695 | 1,309621     | 9,818498e-05 |\n",
       "| 18131 | 1,330263     | 1,122114e-04 |\n",
       "| 1239 | 1,356382     | 1,262378e-04 |\n",
       "| 54534 | 1,389543     | 1,402643e-04 |\n",
       "\n"
      ],
      "text/plain": [
       "      C        Fn.C.       \n",
       "25750 1,063110 1,402643e-05\n",
       "14346 1,111935 2,805285e-05\n",
       "15166 1,115991 4,207928e-05\n",
       "42741 1,171615 5,610570e-05\n",
       "15302 1,179554 7,013213e-05\n",
       "29977 1,237674 8,415855e-05\n",
       "12695 1,309621 9,818498e-05\n",
       "18131 1,330263 1,122114e-04\n",
       "1239  1,356382 1,262378e-04\n",
       "54534 1,389543 1,402643e-04"
      ]
     },
     "metadata": {},
     "output_type": "display_data"
    },
    {
     "data": {
      "text/html": [
       "2,59886735621873"
      ],
      "text/latex": [
       "2,59886735621873"
      ],
      "text/markdown": [
       "2,59886735621873"
      ],
      "text/plain": [
       "[1] 2,598867"
      ]
     },
     "metadata": {},
     "output_type": "display_data"
    }
   ],
   "source": [
    "df_c = tab_c_ran[order(tab_c_ran$C),]\n",
    "head(df_c,10)\n",
    "#plot(tab$x,tab$Fn.x)\n",
    "df_c$C[25750]"
   ]
  },
  {
   "cell_type": "code",
   "execution_count": 16,
   "metadata": {},
   "outputs": [
    {
     "data": {
      "text/html": [
       "87717"
      ],
      "text/latex": [
       "87717"
      ],
      "text/markdown": [
       "87717"
      ],
      "text/plain": [
       "[1] 87717"
      ]
     },
     "metadata": {},
     "output_type": "display_data"
    }
   ],
   "source": [
    "set.seed(123)\n",
    "x_ran = runif(87717)\n",
    "#x_ran\n",
    "length(x_ran)"
   ]
  },
  {
   "cell_type": "code",
   "execution_count": 17,
   "metadata": {},
   "outputs": [],
   "source": [
    "C_ran = c()\n",
    "for (i in 1:length(x_ran)){\n",
    "idx = which.min(abs(df_c$Fn.C - x_ran[i]))\n",
    "#print(df_c$Fn.C[idx])\n",
    "#print(df_c$Fn.C[idx-1])\n",
    "C_ran[i] = df_c$C[idx]\n",
    "#print(df_c$C[idx-1])\n",
    "#print(idx)\n",
    "#print(df_c$C[idx])\n",
    "}"
   ]
  },
  {
   "cell_type": "code",
   "execution_count": 18,
   "metadata": {},
   "outputs": [
    {
     "data": {
      "text/html": [
       "<ol class=list-inline>\n",
       "\t<li>1,06310994169567</li>\n",
       "\t<li>9,3132439461552</li>\n",
       "</ol>\n"
      ],
      "text/latex": [
       "\\begin{enumerate*}\n",
       "\\item 1,06310994169567\n",
       "\\item 9,3132439461552\n",
       "\\end{enumerate*}\n"
      ],
      "text/markdown": [
       "1. 1,06310994169567\n",
       "2. 9,3132439461552\n",
       "\n",
       "\n"
      ],
      "text/plain": [
       "[1] 1,063110 9,313244"
      ]
     },
     "metadata": {},
     "output_type": "display_data"
    },
    {
     "data": {
      "image/png": "[encoded data removed]",
      "text/plain": [
       "plot without title"
      ]
     },
     "metadata": {
      "image/png": {
       "height": 420,
       "width": 420
      }
     },
     "output_type": "display_data"
    }
   ],
   "source": [
    "limx=c(1.5,4.5)\n",
    "\n",
    "plot(hx$mids,hx$counts/length(C),type='l',xlim=limx)\n",
    "\n",
    "hr = hist(C_ran,plot=F,breaks=300)\n",
    "points(hr$mids,hr$counts/length(C_ran),type='s',xlim=limx,col='red')\n",
    "range(C_ran)"
   ]
  },
  {
   "cell_type": "code",
   "execution_count": null,
   "metadata": {},
   "outputs": [],
   "source": []
  },
  {
   "cell_type": "code",
   "execution_count": null,
   "metadata": {},
   "outputs": [],
   "source": []
  },
  {
   "cell_type": "code",
   "execution_count": null,
   "metadata": {},
   "outputs": [],
   "source": [
    "\n"
   ]
  },
  {
   "cell_type": "raw",
   "metadata": {},
   "source": [
    "\n",
    "size <- 2000\n",
    "#vals <- get(\"x\", environment(Fn))\n",
    "#probs <- diff(c(0, get(\"y\", environment(Fn))))\n",
    "#s=sample(vals, size, replace=FALSE, prob=probs)\n",
    "#range(vals)\n",
    "\n",
    "\n",
    "#With replacement =TRUE. which means value  in the sample can occur more than once\n",
    "s=sample(x, size, replace=TRUE,prob=Fn(x))\n",
    "range(s)\n",
    "length(s)\n",
    "\n",
    "hs = hist(s,plot=F,breaks=50)\n",
    "points(hs$mids,hs$counts/size,type='s',xlim=c(1.5,4),col='red')"
   ]
  },
  {
   "cell_type": "markdown",
   "metadata": {},
   "source": [
    "## [ dfgalcg] Seleccion de glx en CG c/ r50 malo"
   ]
  },
  {
   "cell_type": "code",
   "execution_count": 20,
   "metadata": {},
   "outputs": [],
   "source": [
    "dfgalcg = read.table(\"../data/tab_gal_gru.dat\")\n",
    "colnames(dfgalcg) <- c('gruID','ngal', 'ra', 'dec', 'zCMB', 'rextAB', 'gextAB', 'uextAB','galID',\n",
    "                       'r50','r90','rabs','gabs','uabs','pasiva')"
   ]
  },
  {
   "cell_type": "code",
   "execution_count": 21,
   "metadata": {},
   "outputs": [
    {
     "data": {
      "text/html": [
       "<table>\n",
       "<thead><tr><th scope=col>gruID</th><th scope=col>ngal</th><th scope=col>ra</th><th scope=col>dec</th><th scope=col>zCMB</th><th scope=col>rextAB</th><th scope=col>gextAB</th><th scope=col>uextAB</th><th scope=col>galID</th><th scope=col>r50</th><th scope=col>r90</th><th scope=col>rabs</th><th scope=col>gabs</th><th scope=col>uabs</th><th scope=col>pasiva</th></tr></thead>\n",
       "<tbody>\n",
       "\t<tr><td>1           </td><td>1           </td><td>114,844     </td><td>45,118      </td><td>0,079785    </td><td>14,719      </td><td>15,661      </td><td>18,910      </td><td>1,237664e+18</td><td>6,580098    </td><td>20,917290   </td><td>-22,38191   </td><td>-21,56168   </td><td>-19,65829   </td><td>1           </td></tr>\n",
       "\t<tr><td>1           </td><td>2           </td><td>114,840     </td><td>45,124      </td><td>0,077575    </td><td>16,380      </td><td>16,885      </td><td>18,360      </td><td>1,237664e+18</td><td>2,361705    </td><td> 5,640143   </td><td>-20,61242   </td><td>-20,12822   </td><td>-18,97008   </td><td>0           </td></tr>\n",
       "\t<tr><td>1           </td><td>3           </td><td>114,850     </td><td>45,082      </td><td>0,078914    </td><td>16,813      </td><td>17,693      </td><td>19,805      </td><td>1,237664e+18</td><td>1,159409    </td><td> 3,226531   </td><td>-20,25581   </td><td>-19,49058   </td><td>-17,69719   </td><td>1           </td></tr>\n",
       "</tbody>\n",
       "</table>\n"
      ],
      "text/latex": [
       "\\begin{tabular}{r|lllllllllllllll}\n",
       " gruID & ngal & ra & dec & zCMB & rextAB & gextAB & uextAB & galID & r50 & r90 & rabs & gabs & uabs & pasiva\\\\\n",
       "\\hline\n",
       "\t 1            & 1            & 114,844      & 45,118       & 0,079785     & 14,719       & 15,661       & 18,910       & 1,237664e+18 & 6,580098     & 20,917290    & -22,38191    & -21,56168    & -19,65829    & 1           \\\\\n",
       "\t 1            & 2            & 114,840      & 45,124       & 0,077575     & 16,380       & 16,885       & 18,360       & 1,237664e+18 & 2,361705     &  5,640143    & -20,61242    & -20,12822    & -18,97008    & 0           \\\\\n",
       "\t 1            & 3            & 114,850      & 45,082       & 0,078914     & 16,813       & 17,693       & 19,805       & 1,237664e+18 & 1,159409     &  3,226531    & -20,25581    & -19,49058    & -17,69719    & 1           \\\\\n",
       "\\end{tabular}\n"
      ],
      "text/markdown": [
       "\n",
       "| gruID | ngal | ra | dec | zCMB | rextAB | gextAB | uextAB | galID | r50 | r90 | rabs | gabs | uabs | pasiva |\n",
       "|---|---|---|---|---|---|---|---|---|---|---|---|---|---|---|\n",
       "| 1            | 1            | 114,844      | 45,118       | 0,079785     | 14,719       | 15,661       | 18,910       | 1,237664e+18 | 6,580098     | 20,917290    | -22,38191    | -21,56168    | -19,65829    | 1            |\n",
       "| 1            | 2            | 114,840      | 45,124       | 0,077575     | 16,380       | 16,885       | 18,360       | 1,237664e+18 | 2,361705     |  5,640143    | -20,61242    | -20,12822    | -18,97008    | 0            |\n",
       "| 1            | 3            | 114,850      | 45,082       | 0,078914     | 16,813       | 17,693       | 19,805       | 1,237664e+18 | 1,159409     |  3,226531    | -20,25581    | -19,49058    | -17,69719    | 1            |\n",
       "\n"
      ],
      "text/plain": [
       "  gruID ngal ra      dec    zCMB     rextAB gextAB uextAB galID        r50     \n",
       "1 1     1    114,844 45,118 0,079785 14,719 15,661 18,910 1,237664e+18 6,580098\n",
       "2 1     2    114,840 45,124 0,077575 16,380 16,885 18,360 1,237664e+18 2,361705\n",
       "3 1     3    114,850 45,082 0,078914 16,813 17,693 19,805 1,237664e+18 1,159409\n",
       "  r90       rabs      gabs      uabs      pasiva\n",
       "1 20,917290 -22,38191 -21,56168 -19,65829 1     \n",
       "2  5,640143 -20,61242 -20,12822 -18,97008 0     \n",
       "3  3,226531 -20,25581 -19,49058 -17,69719 1     "
      ]
     },
     "metadata": {},
     "output_type": "display_data"
    }
   ],
   "source": [
    "head(dfgalcg,3)"
   ]
  },
  {
   "cell_type": "code",
   "execution_count": 22,
   "metadata": {},
   "outputs": [
    {
     "data": {
      "text/html": [
       "213"
      ],
      "text/latex": [
       "213"
      ],
      "text/markdown": [
       "213"
      ],
      "text/plain": [
       "[1] 213"
      ]
     },
     "metadata": {},
     "output_type": "display_data"
    }
   ],
   "source": [
    "galmal = subset(dfgalcg, dfgalcg$r50 < 1.6)\n",
    "galbien = subset(dfgalcg, dfgalcg$r50 >= 1.6)\n",
    "\n",
    "length(galmal$r50) #+length(galbien$r50)\n",
    "#head(galmal,5)"
   ]
  },
  {
   "cell_type": "markdown",
   "metadata": {},
   "source": [
    "##### Seleccionar C para glx en CG c/ r50 malo usando df1"
   ]
  },
  {
   "cell_type": "code",
   "execution_count": 23,
   "metadata": {},
   "outputs": [
    {
     "data": {
      "text/html": [
       "<ol class=list-inline>\n",
       "\t<li>-22,92778</li>\n",
       "\t<li>-17,88611</li>\n",
       "</ol>\n"
      ],
      "text/latex": [
       "\\begin{enumerate*}\n",
       "\\item -22,92778\n",
       "\\item -17,88611\n",
       "\\end{enumerate*}\n"
      ],
      "text/markdown": [
       "1. -22,92778\n",
       "2. -17,88611\n",
       "\n",
       "\n"
      ],
      "text/plain": [
       "[1] -22,92778 -17,88611"
      ]
     },
     "metadata": {},
     "output_type": "display_data"
    },
    {
     "data": {
      "image/png": "[encoded data removed]",
      "text/plain": [
       "Plot with title “Histogram of input”"
      ]
     },
     "metadata": {
      "image/png": {
       "height": 420,
       "width": 420
      }
     },
     "output_type": "display_data"
    }
   ],
   "source": [
    "#A partir de la rabs de la glx con r50 malo saco un C.\n",
    "input = galmal$rabs\n",
    "range(input)\n",
    "hist(input)"
   ]
  },
  {
   "cell_type": "code",
   "execution_count": null,
   "metadata": {},
   "outputs": [],
   "source": []
  },
  {
   "cell_type": "code",
   "execution_count": null,
   "metadata": {},
   "outputs": [],
   "source": []
  },
  {
   "cell_type": "code",
   "execution_count": null,
   "metadata": {},
   "outputs": [],
   "source": []
  },
  {
   "cell_type": "code",
   "execution_count": null,
   "metadata": {},
   "outputs": [],
   "source": []
  },
  {
   "cell_type": "code",
   "execution_count": null,
   "metadata": {},
   "outputs": [],
   "source": []
  },
  {
   "cell_type": "code",
   "execution_count": null,
   "metadata": {},
   "outputs": [],
   "source": []
  },
  {
   "cell_type": "markdown",
   "metadata": {},
   "source": [
    "## [ dfmalo ] Seleccion de glx tempel c/ r50 malo"
   ]
  },
  {
   "cell_type": "code",
   "execution_count": 24,
   "metadata": {},
   "outputs": [
    {
     "data": {
      "text/html": [
       "87717"
      ],
      "text/latex": [
       "87717"
      ],
      "text/markdown": [
       "87717"
      ],
      "text/plain": [
       "[1] 87717"
      ]
     },
     "metadata": {},
     "output_type": "display_data"
    },
    {
     "data": {
      "text/html": [
       "<table>\n",
       "<thead><tr><th></th><th scope=col>galID</th><th scope=col>ra_rad</th><th scope=col>dec_rad</th><th scope=col>zCMB</th><th scope=col>rextAB</th><th scope=col>gextAB</th><th scope=col>uextAB</th><th scope=col>rabs</th><th scope=col>gabs</th><th scope=col>uabs</th><th scope=col>r50</th><th scope=col>r90</th></tr></thead>\n",
       "<tbody>\n",
       "\t<tr><th scope=row>6</th><td>1,237649e+18</td><td>3,523255    </td><td>-0,01835112 </td><td>0,08732364  </td><td>17,50251    </td><td>18,48995    </td><td>20,36814    </td><td>-19,80891   </td><td>-18,96725   </td><td>-17,14154   </td><td>1,296098    </td><td>3,602817    </td></tr>\n",
       "\t<tr><th scope=row>14</th><td>1,237649e+18</td><td>3,551010    </td><td>-0,02166187 </td><td>0,04857951  </td><td>17,64718    </td><td>18,06866    </td><td>19,17621    </td><td>-18,28660   </td><td>-17,85262   </td><td>-16,84377   </td><td>1,433536    </td><td>4,034184    </td></tr>\n",
       "\t<tr><th scope=row>16</th><td>1,237649e+18</td><td>3,623351    </td><td>-0,02089063 </td><td>0,07928925  </td><td>17,54270    </td><td>18,35945    </td><td>20,06243    </td><td>-19,53030   </td><td>-18,82049   </td><td>-17,16381   </td><td>1,291772    </td><td>3,856141    </td></tr>\n",
       "\t<tr><th scope=row>18</th><td>1,237649e+18</td><td>3,652285    </td><td>-0,01953914 </td><td>0,14824218  </td><td>16,97055    </td><td>17,99888    </td><td>19,86626    </td><td>-21,61892   </td><td>-20,84392   </td><td>-19,02611   </td><td>1,419872    </td><td>3,944045    </td></tr>\n",
       "\t<tr><th scope=row>22</th><td>1,237649e+18</td><td>3,521447    </td><td>-0,01420114 </td><td>0,07551352  </td><td>17,31019    </td><td>18,05258    </td><td>19,67716    </td><td>-19,64450   </td><td>-18,98701   </td><td>-17,41379   </td><td>1,378608    </td><td>3,359439    </td></tr>\n",
       "</tbody>\n",
       "</table>\n"
      ],
      "text/latex": [
       "\\begin{tabular}{r|llllllllllll}\n",
       "  & galID & ra\\_rad & dec\\_rad & zCMB & rextAB & gextAB & uextAB & rabs & gabs & uabs & r50 & r90\\\\\n",
       "\\hline\n",
       "\t6 & 1,237649e+18 & 3,523255     & -0,01835112  & 0,08732364   & 17,50251     & 18,48995     & 20,36814     & -19,80891    & -18,96725    & -17,14154    & 1,296098     & 3,602817    \\\\\n",
       "\t14 & 1,237649e+18 & 3,551010     & -0,02166187  & 0,04857951   & 17,64718     & 18,06866     & 19,17621     & -18,28660    & -17,85262    & -16,84377    & 1,433536     & 4,034184    \\\\\n",
       "\t16 & 1,237649e+18 & 3,623351     & -0,02089063  & 0,07928925   & 17,54270     & 18,35945     & 20,06243     & -19,53030    & -18,82049    & -17,16381    & 1,291772     & 3,856141    \\\\\n",
       "\t18 & 1,237649e+18 & 3,652285     & -0,01953914  & 0,14824218   & 16,97055     & 17,99888     & 19,86626     & -21,61892    & -20,84392    & -19,02611    & 1,419872     & 3,944045    \\\\\n",
       "\t22 & 1,237649e+18 & 3,521447     & -0,01420114  & 0,07551352   & 17,31019     & 18,05258     & 19,67716     & -19,64450    & -18,98701    & -17,41379    & 1,378608     & 3,359439    \\\\\n",
       "\\end{tabular}\n"
      ],
      "text/markdown": [
       "\n",
       "| <!--/--> | galID | ra_rad | dec_rad | zCMB | rextAB | gextAB | uextAB | rabs | gabs | uabs | r50 | r90 |\n",
       "|---|---|---|---|---|---|---|---|---|---|---|---|---|\n",
       "| 6 | 1,237649e+18 | 3,523255     | -0,01835112  | 0,08732364   | 17,50251     | 18,48995     | 20,36814     | -19,80891    | -18,96725    | -17,14154    | 1,296098     | 3,602817     |\n",
       "| 14 | 1,237649e+18 | 3,551010     | -0,02166187  | 0,04857951   | 17,64718     | 18,06866     | 19,17621     | -18,28660    | -17,85262    | -16,84377    | 1,433536     | 4,034184     |\n",
       "| 16 | 1,237649e+18 | 3,623351     | -0,02089063  | 0,07928925   | 17,54270     | 18,35945     | 20,06243     | -19,53030    | -18,82049    | -17,16381    | 1,291772     | 3,856141     |\n",
       "| 18 | 1,237649e+18 | 3,652285     | -0,01953914  | 0,14824218   | 16,97055     | 17,99888     | 19,86626     | -21,61892    | -20,84392    | -19,02611    | 1,419872     | 3,944045     |\n",
       "| 22 | 1,237649e+18 | 3,521447     | -0,01420114  | 0,07551352   | 17,31019     | 18,05258     | 19,67716     | -19,64450    | -18,98701    | -17,41379    | 1,378608     | 3,359439     |\n",
       "\n"
      ],
      "text/plain": [
       "   galID        ra_rad   dec_rad     zCMB       rextAB   gextAB   uextAB  \n",
       "6  1,237649e+18 3,523255 -0,01835112 0,08732364 17,50251 18,48995 20,36814\n",
       "14 1,237649e+18 3,551010 -0,02166187 0,04857951 17,64718 18,06866 19,17621\n",
       "16 1,237649e+18 3,623351 -0,02089063 0,07928925 17,54270 18,35945 20,06243\n",
       "18 1,237649e+18 3,652285 -0,01953914 0,14824218 16,97055 17,99888 19,86626\n",
       "22 1,237649e+18 3,521447 -0,01420114 0,07551352 17,31019 18,05258 19,67716\n",
       "   rabs      gabs      uabs      r50      r90     \n",
       "6  -19,80891 -18,96725 -17,14154 1,296098 3,602817\n",
       "14 -18,28660 -17,85262 -16,84377 1,433536 4,034184\n",
       "16 -19,53030 -18,82049 -17,16381 1,291772 3,856141\n",
       "18 -21,61892 -20,84392 -19,02611 1,419872 3,944045\n",
       "22 -19,64450 -18,98701 -17,41379 1,378608 3,359439"
      ]
     },
     "metadata": {},
     "output_type": "display_data"
    }
   ],
   "source": [
    "dfmalo = subset(df, df$r50 < 1.6)\n",
    "\n",
    "length(dfmalo$r50)\n",
    "head(dfmalo,5)"
   ]
  },
  {
   "cell_type": "markdown",
   "metadata": {},
   "source": [
    "##### Seleccionar C para dfmalo usando df1"
   ]
  },
  {
   "cell_type": "code",
   "execution_count": 25,
   "metadata": {},
   "outputs": [
    {
     "data": {
      "text/html": [
       "<ol class=list-inline>\n",
       "\t<li>-4548438694,70605</li>\n",
       "\t<li>-5,65794325600281</li>\n",
       "</ol>\n"
      ],
      "text/latex": [
       "\\begin{enumerate*}\n",
       "\\item -4548438694,70605\n",
       "\\item -5,65794325600281\n",
       "\\end{enumerate*}\n"
      ],
      "text/markdown": [
       "1. -4548438694,70605\n",
       "2. -5,65794325600281\n",
       "\n",
       "\n"
      ],
      "text/plain": [
       "[1] -4,548439e+09 -5,657943e+00"
      ]
     },
     "metadata": {},
     "output_type": "display_data"
    },
    {
     "data": {
      "image/png": "[encoded data removed]",
      "text/plain": [
       "Plot with title “Histogram of input”"
      ]
     },
     "metadata": {
      "image/png": {
       "height": 420,
       "width": 420
      }
     },
     "output_type": "display_data"
    }
   ],
   "source": [
    "#A partir de la rabs de la glx con r50 malo saco un C.\n",
    "input = dfmalo$rabs\n",
    "range(input)\n",
    "hist(input)"
   ]
  },
  {
   "cell_type": "code",
   "execution_count": null,
   "metadata": {},
   "outputs": [],
   "source": []
  },
  {
   "cell_type": "code",
   "execution_count": null,
   "metadata": {},
   "outputs": [],
   "source": []
  },
  {
   "cell_type": "code",
   "execution_count": null,
   "metadata": {},
   "outputs": [],
   "source": []
  },
  {
   "cell_type": "markdown",
   "metadata": {},
   "source": [
    "## Unir indice Concentracion de glx c/ r50 malo y bueno"
   ]
  },
  {
   "cell_type": "code",
   "execution_count": 26,
   "metadata": {},
   "outputs": [
    {
     "data": {
      "text/html": [
       "557559"
      ],
      "text/latex": [
       "557559"
      ],
      "text/markdown": [
       "557559"
      ],
      "text/plain": [
       "[1] 557559"
      ]
     },
     "metadata": {},
     "output_type": "display_data"
    }
   ],
   "source": [
    "length(dfmalo$r50) + length(dfbueno$r50)"
   ]
  },
  {
   "cell_type": "code",
   "execution_count": 27,
   "metadata": {},
   "outputs": [
    {
     "data": {
      "image/png": "[encoded data removed]",
      "text/plain": [
       "Plot with title “Histogram of C_bien”"
      ]
     },
     "metadata": {
      "image/png": {
       "height": 420,
       "width": 420
      }
     },
     "output_type": "display_data"
    }
   ],
   "source": [
    "C_bien = dfbueno$r90/dfbueno$r50\n",
    "hist(C_bien, xlim=c(0,5),breaks=200)"
   ]
  },
  {
   "cell_type": "code",
   "execution_count": null,
   "metadata": {},
   "outputs": [],
   "source": []
  },
  {
   "cell_type": "code",
   "execution_count": null,
   "metadata": {},
   "outputs": [],
   "source": []
  }
 ],
 "metadata": {
  "kernelspec": {
   "display_name": "R",
   "language": "R",
   "name": "ir"
  },
  "language_info": {
   "codemirror_mode": "r",
   "file_extension": ".r",
   "mimetype": "text/x-r-source",
   "name": "R",
   "pygments_lexer": "r",
   "version": "3.6.1"
  }
 },
 "nbformat": 4,
 "nbformat_minor": 1
}
