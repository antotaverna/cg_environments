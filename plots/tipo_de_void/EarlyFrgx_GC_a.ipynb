{
 "cells": [
  {
   "cell_type": "markdown",
   "metadata": {},
   "source": [
    "# Fracción de galaxias por host envioroment\n",
    "\n",
    "- Selecciono las galaxias usando el corte de magnitud. \n",
    "- Observo la cantidad de pasivas en cada host usando la etiqueta hecha por anto.\n",
    "- Luego hago un match con el data set que tiene la etiqueta del host enviorment\n",
    "- Luego hago un group_by por host environment. "
   ]
  },
  {
   "cell_type": "markdown",
   "metadata": {},
   "source": [
    "# EARLY"
   ]
  },
  {
   "cell_type": "markdown",
   "metadata": {},
   "source": [
    "**Library**"
   ]
  },
  {
   "cell_type": "code",
   "execution_count": 1,
   "metadata": {},
   "outputs": [],
   "source": [
    "import pandas as pd\n",
    "import matplotlib.pyplot as plt\n",
    "import seaborn as sns\n",
    "import random\n",
    "from collections import Counter\n",
    "import numpy as np\n",
    "from itertools import cycle, islice\n",
    "import scipy.stats as st\n",
    "\n",
    "\n",
    "\n",
    "%matplotlib inline"
   ]
  },
  {
   "cell_type": "markdown",
   "metadata": {},
   "source": [
    "**Funtions**"
   ]
  },
  {
   "cell_type": "code",
   "execution_count": 2,
   "metadata": {},
   "outputs": [],
   "source": [
    "def diff(list1, list2):\n",
    "    c = set(list1).union(set(list2))  # or c = set(list1) | set(list2)\n",
    "    d = set(list1).intersection(set(list2))  # or d = set(list1) & set(list2)\n",
    "    return list(c - d)"
   ]
  },
  {
   "cell_type": "markdown",
   "metadata": {},
   "source": [
    "### Galaxias en GC"
   ]
  },
  {
   "cell_type": "markdown",
   "metadata": {},
   "source": [
    "**Load**"
   ]
  },
  {
   "cell_type": "code",
   "execution_count": 3,
   "metadata": {},
   "outputs": [
    {
     "data": {
      "text/plain": [
       "(2070, 16)"
      ]
     },
     "metadata": {},
     "output_type": "display_data"
    }
   ],
   "source": [
    "path_gal_gru = '../../data/tab_gal_gru.dat'\n",
    "#path_gal_gru = '/home/vanessa/Escritorio/Doctorado/anto_gitano_vane/cg_environments/data/tab_gal_gru.dat'\n",
    "\n",
    "df = pd.read_table(path_gal_gru, sep=\"\\s+\", names=['ngc', 'nk', 'alg', 'delg', 'zred', 'rmag', 'gmag', 'umag', 'gal_ID', 'r50', 'r90', 'r_abs', 'g_abs', 'u_abs', 'pasiva', 'early' ])\n",
    "def entero(x):\n",
    "    return int(x)\n",
    "df['ngc'] = df['ngc'].apply(entero)\n",
    "id_gc_gal_grup = df.ngc.to_list()\n",
    "display(df.shape)\n",
    "\n",
    "path = '../../data/compact_in_all'\n",
    "\n",
    "df1 = pd.read_table(path, sep=\"\\s+\", names=['i_gru', 'n_m', 'Ra', 'dec', 'z', 'thete_g ', 'mu', 'sigv', 'r_b', 'flag',\n",
    "'rabs1', 'd_ij', 'tcr', 'rp', 'rabs2', 'Target'])\n",
    "id_gc_class = df1.i_gru.to_list()"
   ]
  },
  {
   "cell_type": "code",
   "execution_count": 4,
   "metadata": {},
   "outputs": [
    {
     "data": {
      "text/html": [
       "<div>\n",
       "<style scoped>\n",
       "    .dataframe tbody tr th:only-of-type {\n",
       "        vertical-align: middle;\n",
       "    }\n",
       "\n",
       "    .dataframe tbody tr th {\n",
       "        vertical-align: top;\n",
       "    }\n",
       "\n",
       "    .dataframe thead th {\n",
       "        text-align: right;\n",
       "    }\n",
       "</style>\n",
       "<table border=\"1\" class=\"dataframe\">\n",
       "  <thead>\n",
       "    <tr style=\"text-align: right;\">\n",
       "      <th></th>\n",
       "      <th>ngc</th>\n",
       "      <th>nk</th>\n",
       "      <th>alg</th>\n",
       "      <th>delg</th>\n",
       "      <th>zred</th>\n",
       "      <th>rmag</th>\n",
       "      <th>gmag</th>\n",
       "      <th>umag</th>\n",
       "      <th>gal_ID</th>\n",
       "      <th>r50</th>\n",
       "      <th>r90</th>\n",
       "      <th>r_abs</th>\n",
       "      <th>g_abs</th>\n",
       "      <th>u_abs</th>\n",
       "      <th>pasiva</th>\n",
       "      <th>early</th>\n",
       "    </tr>\n",
       "  </thead>\n",
       "  <tbody>\n",
       "    <tr>\n",
       "      <th>0</th>\n",
       "      <td>1</td>\n",
       "      <td>1</td>\n",
       "      <td>114.844</td>\n",
       "      <td>45.118</td>\n",
       "      <td>0.079785</td>\n",
       "      <td>14.719</td>\n",
       "      <td>15.661</td>\n",
       "      <td>18.91</td>\n",
       "      <td>1237663786878238968</td>\n",
       "      <td>6.580098</td>\n",
       "      <td>20.917290</td>\n",
       "      <td>-22.38191</td>\n",
       "      <td>-21.56168</td>\n",
       "      <td>-19.65829</td>\n",
       "      <td>1</td>\n",
       "      <td>1</td>\n",
       "    </tr>\n",
       "    <tr>\n",
       "      <th>1</th>\n",
       "      <td>1</td>\n",
       "      <td>2</td>\n",
       "      <td>114.840</td>\n",
       "      <td>45.124</td>\n",
       "      <td>0.077575</td>\n",
       "      <td>16.380</td>\n",
       "      <td>16.885</td>\n",
       "      <td>18.36</td>\n",
       "      <td>1237663786878238970</td>\n",
       "      <td>2.361705</td>\n",
       "      <td>5.640143</td>\n",
       "      <td>-20.61242</td>\n",
       "      <td>-20.12822</td>\n",
       "      <td>-18.97008</td>\n",
       "      <td>0</td>\n",
       "      <td>0</td>\n",
       "    </tr>\n",
       "  </tbody>\n",
       "</table>\n",
       "</div>"
      ],
      "text/plain": [
       "   ngc  nk      alg    delg      zred    rmag    gmag   umag  \\\n",
       "0    1   1  114.844  45.118  0.079785  14.719  15.661  18.91   \n",
       "1    1   2  114.840  45.124  0.077575  16.380  16.885  18.36   \n",
       "\n",
       "                gal_ID       r50        r90     r_abs     g_abs     u_abs  \\\n",
       "0  1237663786878238968  6.580098  20.917290 -22.38191 -21.56168 -19.65829   \n",
       "1  1237663786878238970  2.361705   5.640143 -20.61242 -20.12822 -18.97008   \n",
       "\n",
       "   pasiva  early  \n",
       "0       1      1  \n",
       "1       0      0  "
      ]
     },
     "execution_count": 4,
     "metadata": {},
     "output_type": "execute_result"
    }
   ],
   "source": [
    "df.head(2)"
   ]
  },
  {
   "cell_type": "code",
   "execution_count": 5,
   "metadata": {},
   "outputs": [
    {
     "data": {
      "text/html": [
       "<div>\n",
       "<style scoped>\n",
       "    .dataframe tbody tr th:only-of-type {\n",
       "        vertical-align: middle;\n",
       "    }\n",
       "\n",
       "    .dataframe tbody tr th {\n",
       "        vertical-align: top;\n",
       "    }\n",
       "\n",
       "    .dataframe thead th {\n",
       "        text-align: right;\n",
       "    }\n",
       "</style>\n",
       "<table border=\"1\" class=\"dataframe\">\n",
       "  <thead>\n",
       "    <tr style=\"text-align: right;\">\n",
       "      <th></th>\n",
       "      <th>i_gru</th>\n",
       "      <th>n_m</th>\n",
       "      <th>Ra</th>\n",
       "      <th>dec</th>\n",
       "      <th>z</th>\n",
       "      <th>thete_g</th>\n",
       "      <th>mu</th>\n",
       "      <th>sigv</th>\n",
       "      <th>r_b</th>\n",
       "      <th>flag</th>\n",
       "      <th>rabs1</th>\n",
       "      <th>d_ij</th>\n",
       "      <th>tcr</th>\n",
       "      <th>rp</th>\n",
       "      <th>rabs2</th>\n",
       "      <th>Target</th>\n",
       "    </tr>\n",
       "  </thead>\n",
       "  <tbody>\n",
       "    <tr>\n",
       "      <th>0</th>\n",
       "      <td>2</td>\n",
       "      <td>4</td>\n",
       "      <td>116.577</td>\n",
       "      <td>22.020</td>\n",
       "      <td>0.046817</td>\n",
       "      <td>4.090</td>\n",
       "      <td>25.289</td>\n",
       "      <td>274.092</td>\n",
       "      <td>14.289</td>\n",
       "      <td>0</td>\n",
       "      <td>-21.512</td>\n",
       "      <td>0.092313</td>\n",
       "      <td>0.030544</td>\n",
       "      <td>82.543709</td>\n",
       "      <td>-20.895</td>\n",
       "      <td>Loose</td>\n",
       "    </tr>\n",
       "    <tr>\n",
       "      <th>1</th>\n",
       "      <td>4</td>\n",
       "      <td>5</td>\n",
       "      <td>117.794</td>\n",
       "      <td>50.217</td>\n",
       "      <td>0.021810</td>\n",
       "      <td>5.095</td>\n",
       "      <td>23.789</td>\n",
       "      <td>409.803</td>\n",
       "      <td>12.839</td>\n",
       "      <td>0</td>\n",
       "      <td>-21.235</td>\n",
       "      <td>0.055581</td>\n",
       "      <td>0.012300</td>\n",
       "      <td>48.176819</td>\n",
       "      <td>-21.207</td>\n",
       "      <td>Loose</td>\n",
       "    </tr>\n",
       "  </tbody>\n",
       "</table>\n",
       "</div>"
      ],
      "text/plain": [
       "   i_gru  n_m       Ra     dec         z  thete_g       mu     sigv     r_b  \\\n",
       "0      2    4  116.577  22.020  0.046817     4.090  25.289  274.092  14.289   \n",
       "1      4    5  117.794  50.217  0.021810     5.095  23.789  409.803  12.839   \n",
       "\n",
       "   flag   rabs1      d_ij       tcr         rp   rabs2 Target  \n",
       "0     0 -21.512  0.092313  0.030544  82.543709 -20.895  Loose  \n",
       "1     0 -21.235  0.055581  0.012300  48.176819 -21.207  Loose  "
      ]
     },
     "execution_count": 5,
     "metadata": {},
     "output_type": "execute_result"
    }
   ],
   "source": [
    "df1.head(2)"
   ]
  },
  {
   "cell_type": "code",
   "execution_count": 6,
   "metadata": {},
   "outputs": [
    {
     "data": {
      "image/png": "[encoded data removed]",
      "text/plain": [
       "<Figure size 432x288 with 1 Axes>"
      ]
     },
     "metadata": {
      "needs_background": "light"
     },
     "output_type": "display_data"
    }
   ],
   "source": [
    "plt.hist(df.pasiva)\n",
    "plt.hist(df.early, alpha=0.5)\n",
    "plt.show()"
   ]
  },
  {
   "cell_type": "markdown",
   "metadata": {},
   "source": [
    "**Lista de GCs descartandos por corte de Magnitud**"
   ]
  },
  {
   "cell_type": "code",
   "execution_count": 7,
   "metadata": {},
   "outputs": [],
   "source": [
    "diferencia = diff(id_gc_class, id_gc_gal_grup)\n",
    "df = df.set_index('ngc').drop(diferencia)"
   ]
  },
  {
   "cell_type": "markdown",
   "metadata": {},
   "source": [
    "**Cantidad de pasivas por grupo**"
   ]
  },
  {
   "cell_type": "code",
   "execution_count": 8,
   "metadata": {},
   "outputs": [],
   "source": [
    "df_pasivas = df.groupby([\"ngc\"])[\"early\"].sum()"
   ]
  },
  {
   "cell_type": "code",
   "execution_count": 9,
   "metadata": {},
   "outputs": [
    {
     "data": {
      "text/plain": [
       "449"
      ]
     },
     "execution_count": 9,
     "metadata": {},
     "output_type": "execute_result"
    }
   ],
   "source": [
    "len(df_pasivas.values)"
   ]
  },
  {
   "cell_type": "code",
   "execution_count": 10,
   "metadata": {},
   "outputs": [
    {
     "data": {
      "text/html": [
       "<div>\n",
       "<style scoped>\n",
       "    .dataframe tbody tr th:only-of-type {\n",
       "        vertical-align: middle;\n",
       "    }\n",
       "\n",
       "    .dataframe tbody tr th {\n",
       "        vertical-align: top;\n",
       "    }\n",
       "\n",
       "    .dataframe thead th {\n",
       "        text-align: right;\n",
       "    }\n",
       "</style>\n",
       "<table border=\"1\" class=\"dataframe\">\n",
       "  <thead>\n",
       "    <tr style=\"text-align: right;\">\n",
       "      <th></th>\n",
       "      <th>ngc</th>\n",
       "      <th>early</th>\n",
       "    </tr>\n",
       "  </thead>\n",
       "  <tbody>\n",
       "    <tr>\n",
       "      <th>0</th>\n",
       "      <td>1</td>\n",
       "      <td>2</td>\n",
       "    </tr>\n",
       "    <tr>\n",
       "      <th>1</th>\n",
       "      <td>2</td>\n",
       "      <td>3</td>\n",
       "    </tr>\n",
       "  </tbody>\n",
       "</table>\n",
       "</div>"
      ],
      "text/plain": [
       "   ngc  early\n",
       "0    1      2\n",
       "1    2      3"
      ]
     },
     "execution_count": 10,
     "metadata": {},
     "output_type": "execute_result"
    }
   ],
   "source": [
    "df_pasivas = df_pasivas.reset_index()\n",
    "df_pasivas.head(2)"
   ]
  },
  {
   "cell_type": "markdown",
   "metadata": {},
   "source": [
    "**Match**"
   ]
  },
  {
   "cell_type": "code",
   "execution_count": 11,
   "metadata": {},
   "outputs": [],
   "source": [
    "df1_sort = df1.sort_values('i_gru', ignore_index=True).copy()\n",
    "df_pasivas_sort = df_pasivas.sort_values('ngc', ignore_index=True).copy()"
   ]
  },
  {
   "cell_type": "code",
   "execution_count": 12,
   "metadata": {},
   "outputs": [
    {
     "data": {
      "text/html": [
       "<div>\n",
       "<style scoped>\n",
       "    .dataframe tbody tr th:only-of-type {\n",
       "        vertical-align: middle;\n",
       "    }\n",
       "\n",
       "    .dataframe tbody tr th {\n",
       "        vertical-align: top;\n",
       "    }\n",
       "\n",
       "    .dataframe thead th {\n",
       "        text-align: right;\n",
       "    }\n",
       "</style>\n",
       "<table border=\"1\" class=\"dataframe\">\n",
       "  <thead>\n",
       "    <tr style=\"text-align: right;\">\n",
       "      <th></th>\n",
       "      <th>i_gru</th>\n",
       "      <th>n_m</th>\n",
       "      <th>Ra</th>\n",
       "      <th>dec</th>\n",
       "      <th>z</th>\n",
       "      <th>thete_g</th>\n",
       "      <th>mu</th>\n",
       "      <th>sigv</th>\n",
       "      <th>r_b</th>\n",
       "      <th>flag</th>\n",
       "      <th>rabs1</th>\n",
       "      <th>d_ij</th>\n",
       "      <th>tcr</th>\n",
       "      <th>rp</th>\n",
       "      <th>rabs2</th>\n",
       "      <th>Target</th>\n",
       "    </tr>\n",
       "  </thead>\n",
       "  <tbody>\n",
       "    <tr>\n",
       "      <th>0</th>\n",
       "      <td>1</td>\n",
       "      <td>4</td>\n",
       "      <td>114.842</td>\n",
       "      <td>45.103</td>\n",
       "      <td>0.078292</td>\n",
       "      <td>2.62</td>\n",
       "      <td>25.018</td>\n",
       "      <td>348.679</td>\n",
       "      <td>14.719</td>\n",
       "      <td>0</td>\n",
       "      <td>-22.375</td>\n",
       "      <td>0.143311</td>\n",
       "      <td>0.037275</td>\n",
       "      <td>87.756599</td>\n",
       "      <td>-20.608</td>\n",
       "      <td>Field</td>\n",
       "    </tr>\n",
       "    <tr>\n",
       "      <th>1</th>\n",
       "      <td>2</td>\n",
       "      <td>4</td>\n",
       "      <td>116.577</td>\n",
       "      <td>22.020</td>\n",
       "      <td>0.046817</td>\n",
       "      <td>4.09</td>\n",
       "      <td>25.289</td>\n",
       "      <td>274.092</td>\n",
       "      <td>14.289</td>\n",
       "      <td>0</td>\n",
       "      <td>-21.512</td>\n",
       "      <td>0.092313</td>\n",
       "      <td>0.030544</td>\n",
       "      <td>82.543709</td>\n",
       "      <td>-20.895</td>\n",
       "      <td>Loose</td>\n",
       "    </tr>\n",
       "  </tbody>\n",
       "</table>\n",
       "</div>"
      ],
      "text/plain": [
       "   i_gru  n_m       Ra     dec         z  thete_g       mu     sigv     r_b  \\\n",
       "0      1    4  114.842  45.103  0.078292      2.62  25.018  348.679  14.719   \n",
       "1      2    4  116.577  22.020  0.046817      4.09  25.289  274.092  14.289   \n",
       "\n",
       "   flag   rabs1      d_ij       tcr         rp   rabs2 Target  \n",
       "0     0 -22.375  0.143311  0.037275  87.756599 -20.608  Field  \n",
       "1     0 -21.512  0.092313  0.030544  82.543709 -20.895  Loose  "
      ]
     },
     "execution_count": 12,
     "metadata": {},
     "output_type": "execute_result"
    }
   ],
   "source": [
    "df1_sort.head(2)"
   ]
  },
  {
   "cell_type": "code",
   "execution_count": 13,
   "metadata": {},
   "outputs": [],
   "source": [
    "df_final = df1_sort.join(df_pasivas_sort)"
   ]
  },
  {
   "cell_type": "code",
   "execution_count": 14,
   "metadata": {},
   "outputs": [
    {
     "data": {
      "text/plain": [
       "(449, 18)"
      ]
     },
     "execution_count": 14,
     "metadata": {},
     "output_type": "execute_result"
    }
   ],
   "source": [
    "df_final.shape"
   ]
  },
  {
   "cell_type": "code",
   "execution_count": 15,
   "metadata": {},
   "outputs": [
    {
     "data": {
      "text/html": [
       "<div>\n",
       "<style scoped>\n",
       "    .dataframe tbody tr th:only-of-type {\n",
       "        vertical-align: middle;\n",
       "    }\n",
       "\n",
       "    .dataframe tbody tr th {\n",
       "        vertical-align: top;\n",
       "    }\n",
       "\n",
       "    .dataframe thead th {\n",
       "        text-align: right;\n",
       "    }\n",
       "</style>\n",
       "<table border=\"1\" class=\"dataframe\">\n",
       "  <thead>\n",
       "    <tr style=\"text-align: right;\">\n",
       "      <th></th>\n",
       "      <th>i_gru</th>\n",
       "      <th>n_m</th>\n",
       "      <th>Ra</th>\n",
       "      <th>dec</th>\n",
       "      <th>z</th>\n",
       "      <th>thete_g</th>\n",
       "      <th>mu</th>\n",
       "      <th>sigv</th>\n",
       "      <th>r_b</th>\n",
       "      <th>flag</th>\n",
       "      <th>rabs1</th>\n",
       "      <th>d_ij</th>\n",
       "      <th>tcr</th>\n",
       "      <th>rp</th>\n",
       "      <th>rabs2</th>\n",
       "      <th>Target</th>\n",
       "      <th>ngc</th>\n",
       "      <th>early</th>\n",
       "    </tr>\n",
       "  </thead>\n",
       "  <tbody>\n",
       "    <tr>\n",
       "      <th>444</th>\n",
       "      <td>458</td>\n",
       "      <td>7</td>\n",
       "      <td>243.981</td>\n",
       "      <td>38.537</td>\n",
       "      <td>0.034782</td>\n",
       "      <td>6.091</td>\n",
       "      <td>26.202</td>\n",
       "      <td>138.779</td>\n",
       "      <td>14.577</td>\n",
       "      <td>1</td>\n",
       "      <td>-20.570</td>\n",
       "      <td>0.103047</td>\n",
       "      <td>0.067340</td>\n",
       "      <td>91.589798</td>\n",
       "      <td>-20.088</td>\n",
       "      <td>Field</td>\n",
       "      <td>458</td>\n",
       "      <td>4</td>\n",
       "    </tr>\n",
       "    <tr>\n",
       "      <th>445</th>\n",
       "      <td>459</td>\n",
       "      <td>4</td>\n",
       "      <td>244.410</td>\n",
       "      <td>50.641</td>\n",
       "      <td>0.041362</td>\n",
       "      <td>4.748</td>\n",
       "      <td>25.610</td>\n",
       "      <td>552.432</td>\n",
       "      <td>14.146</td>\n",
       "      <td>1</td>\n",
       "      <td>-21.441</td>\n",
       "      <td>0.099180</td>\n",
       "      <td>0.016282</td>\n",
       "      <td>84.761040</td>\n",
       "      <td>-20.121</td>\n",
       "      <td>Loose</td>\n",
       "      <td>459</td>\n",
       "      <td>3</td>\n",
       "    </tr>\n",
       "    <tr>\n",
       "      <th>446</th>\n",
       "      <td>460</td>\n",
       "      <td>5</td>\n",
       "      <td>245.283</td>\n",
       "      <td>13.159</td>\n",
       "      <td>0.034352</td>\n",
       "      <td>3.715</td>\n",
       "      <td>24.912</td>\n",
       "      <td>247.585</td>\n",
       "      <td>14.328</td>\n",
       "      <td>1</td>\n",
       "      <td>-20.778</td>\n",
       "      <td>0.079042</td>\n",
       "      <td>0.028953</td>\n",
       "      <td>55.171383</td>\n",
       "      <td>-19.839</td>\n",
       "      <td>Loose</td>\n",
       "      <td>460</td>\n",
       "      <td>4</td>\n",
       "    </tr>\n",
       "    <tr>\n",
       "      <th>447</th>\n",
       "      <td>461</td>\n",
       "      <td>4</td>\n",
       "      <td>247.547</td>\n",
       "      <td>36.247</td>\n",
       "      <td>0.075265</td>\n",
       "      <td>3.671</td>\n",
       "      <td>25.664</td>\n",
       "      <td>383.398</td>\n",
       "      <td>14.479</td>\n",
       "      <td>1</td>\n",
       "      <td>-22.477</td>\n",
       "      <td>0.160493</td>\n",
       "      <td>0.037964</td>\n",
       "      <td>118.280334</td>\n",
       "      <td>-20.026</td>\n",
       "      <td>Field</td>\n",
       "      <td>461</td>\n",
       "      <td>3</td>\n",
       "    </tr>\n",
       "    <tr>\n",
       "      <th>448</th>\n",
       "      <td>462</td>\n",
       "      <td>5</td>\n",
       "      <td>250.332</td>\n",
       "      <td>13.424</td>\n",
       "      <td>0.050796</td>\n",
       "      <td>4.130</td>\n",
       "      <td>24.858</td>\n",
       "      <td>268.188</td>\n",
       "      <td>13.764</td>\n",
       "      <td>1</td>\n",
       "      <td>-22.276</td>\n",
       "      <td>0.112063</td>\n",
       "      <td>0.037895</td>\n",
       "      <td>90.346329</td>\n",
       "      <td>-21.427</td>\n",
       "      <td>Loose</td>\n",
       "      <td>462</td>\n",
       "      <td>4</td>\n",
       "    </tr>\n",
       "  </tbody>\n",
       "</table>\n",
       "</div>"
      ],
      "text/plain": [
       "     i_gru  n_m       Ra     dec         z  thete_g       mu     sigv     r_b  \\\n",
       "444    458    7  243.981  38.537  0.034782     6.091  26.202  138.779  14.577   \n",
       "445    459    4  244.410  50.641  0.041362     4.748  25.610  552.432  14.146   \n",
       "446    460    5  245.283  13.159  0.034352     3.715  24.912  247.585  14.328   \n",
       "447    461    4  247.547  36.247  0.075265     3.671  25.664  383.398  14.479   \n",
       "448    462    5  250.332  13.424  0.050796     4.130  24.858  268.188  13.764   \n",
       "\n",
       "     flag   rabs1      d_ij       tcr          rp   rabs2 Target  ngc  early  \n",
       "444     1 -20.570  0.103047  0.067340   91.589798 -20.088  Field  458      4  \n",
       "445     1 -21.441  0.099180  0.016282   84.761040 -20.121  Loose  459      3  \n",
       "446     1 -20.778  0.079042  0.028953   55.171383 -19.839  Loose  460      4  \n",
       "447     1 -22.477  0.160493  0.037964  118.280334 -20.026  Field  461      3  \n",
       "448     1 -22.276  0.112063  0.037895   90.346329 -21.427  Loose  462      4  "
      ]
     },
     "execution_count": 15,
     "metadata": {},
     "output_type": "execute_result"
    }
   ],
   "source": [
    "df_final.tail()"
   ]
  },
  {
   "cell_type": "code",
   "execution_count": 16,
   "metadata": {},
   "outputs": [
    {
     "data": {
      "text/plain": [
       "Index(['i_gru', 'n_m', 'Ra', 'dec', 'z', 'thete_g ', 'mu', 'sigv', 'r_b',\n",
       "       'flag', 'rabs1', 'd_ij', 'tcr', 'rp', 'rabs2', 'Target', 'ngc',\n",
       "       'early'],\n",
       "      dtype='object')"
      ]
     },
     "execution_count": 16,
     "metadata": {},
     "output_type": "execute_result"
    }
   ],
   "source": [
    "df_final.columns"
   ]
  },
  {
   "cell_type": "markdown",
   "metadata": {},
   "source": [
    "**group_by  host environmen**"
   ]
  },
  {
   "cell_type": "code",
   "execution_count": 17,
   "metadata": {},
   "outputs": [
    {
     "data": {
      "text/plain": [
       "Target\n",
       "FIl      137\n",
       "Field    522\n",
       "Loose    445\n",
       "Node     149\n",
       "VoiR      23\n",
       "VoiS      49\n",
       "Name: early, dtype: int64"
      ]
     },
     "execution_count": 17,
     "metadata": {},
     "output_type": "execute_result"
    }
   ],
   "source": [
    "pasivas_env = df_final.groupby('Target')['early'].sum()\n",
    "pasivas_env"
   ]
  },
  {
   "cell_type": "code",
   "execution_count": 18,
   "metadata": {},
   "outputs": [
    {
     "data": {
      "text/plain": [
       "Target\n",
       "FIl      200\n",
       "Field    851\n",
       "Loose    622\n",
       "Node     205\n",
       "VoiR      39\n",
       "VoiS      95\n",
       "Name: n_m, dtype: int64"
      ]
     },
     "execution_count": 18,
     "metadata": {},
     "output_type": "execute_result"
    }
   ],
   "source": [
    "gxs_env = df_final.groupby('Target')['n_m'].sum()\n",
    "gxs_env "
   ]
  },
  {
   "cell_type": "markdown",
   "metadata": {},
   "source": [
    "**Fracción  de galaxias por entorno**"
   ]
  },
  {
   "cell_type": "code",
   "execution_count": 19,
   "metadata": {},
   "outputs": [],
   "source": [
    "frecuencia = []\n",
    "for i in range(len(gxs_env)):\n",
    "    frac = pasivas_env[i]/gxs_env[i]\n",
    "    frecuencia.append(frac)"
   ]
  },
  {
   "cell_type": "markdown",
   "metadata": {},
   "source": [
    "**Gráfico 7 - panel superior**"
   ]
  },
  {
   "cell_type": "code",
   "execution_count": 20,
   "metadata": {},
   "outputs": [
    {
     "name": "stdout",
     "output_type": "stream",
     "text": [
      "[0.7268292682926829, 0.7154340836012861, 0.685, 0.6133960047003525, 0.5157894736842106, 0.5897435897435898]\n",
      "['Node', 'Loose', 'FIl', 'Field', 'VoidS', 'VoidR']\n"
     ]
    }
   ],
   "source": [
    "frec = [frecuencia[3], frecuencia[2], frecuencia[0], frecuencia[1], frecuencia[5], frecuencia[4]]\n",
    "print(frec)\n",
    "X = ['Node', 'Loose', 'FIl', 'Field', 'VoidS', 'VoidR']\n",
    "print(X)"
   ]
  },
  {
   "cell_type": "markdown",
   "metadata": {},
   "source": [
    "**barras de error**"
   ]
  },
  {
   "cell_type": "markdown",
   "metadata": {},
   "source": [
    "Para su calculo tomo la distribución de galaxias pasivas en cada entorno. \n",
    "Por lo tanto, tomo el df y le agrego una etiqueta de env para tomar todo el conjunto de galaxias en ese entono. "
   ]
  },
  {
   "cell_type": "code",
   "execution_count": 21,
   "metadata": {},
   "outputs": [],
   "source": [
    "df = df.reset_index()"
   ]
  },
  {
   "cell_type": "code",
   "execution_count": 22,
   "metadata": {},
   "outputs": [],
   "source": [
    "Target = []\n",
    "\n",
    "for i in range(df.shape[0]):\n",
    "    for j in range(df1_sort.shape[0]):\n",
    "        if (df.ngc.iloc[i] == df1_sort.i_gru.iloc[j]):\n",
    "            Target.append(df1_sort.Target.iloc[j])\n",
    "            "
   ]
  },
  {
   "cell_type": "code",
   "execution_count": 23,
   "metadata": {},
   "outputs": [],
   "source": [
    "df['Target'] = Target"
   ]
  },
  {
   "cell_type": "markdown",
   "metadata": {},
   "source": [
    "**NOTA:** En nuestro caso como uno de los valores es cero en el gráfico de barras, la media coincide con la fracción de pasivas. "
   ]
  },
  {
   "cell_type": "code",
   "execution_count": 24,
   "metadata": {},
   "outputs": [],
   "source": [
    "import numpy as np\n",
    "from astropy.stats import jackknife_resampling\n",
    "from astropy.stats import jackknife_stats"
   ]
  },
  {
   "cell_type": "code",
   "execution_count": 25,
   "metadata": {},
   "outputs": [],
   "source": [
    "def estimador_env(data, test_statistic):    \n",
    "    estimate, bias, stderr, conf_interval = jackknife_stats(\n",
    "    data, test_statistic, 0.95)\n",
    "    \n",
    "    return(estimate, bias, stderr, conf_interval)"
   ]
  },
  {
   "cell_type": "code",
   "execution_count": 26,
   "metadata": {},
   "outputs": [],
   "source": [
    "frac = np.mean"
   ]
  },
  {
   "cell_type": "code",
   "execution_count": 27,
   "metadata": {},
   "outputs": [],
   "source": [
    "e = []"
   ]
  },
  {
   "cell_type": "markdown",
   "metadata": {},
   "source": [
    "**NODE**"
   ]
  },
  {
   "cell_type": "code",
   "execution_count": 28,
   "metadata": {},
   "outputs": [
    {
     "data": {
      "text/plain": [
       "'estimador'"
      ]
     },
     "metadata": {},
     "output_type": "display_data"
    },
    {
     "data": {
      "text/plain": [
       "0.8536585365853658"
      ]
     },
     "metadata": {},
     "output_type": "display_data"
    },
    {
     "data": {
      "text/plain": [
       "'stderr'"
      ]
     },
     "metadata": {},
     "output_type": "display_data"
    },
    {
     "data": {
      "text/plain": [
       "0.02474632469248247"
      ]
     },
     "metadata": {},
     "output_type": "display_data"
    },
    {
     "data": {
      "text/plain": [
       "'conf_interval'"
      ]
     },
     "metadata": {},
     "output_type": "display_data"
    },
    {
     "data": {
      "text/plain": [
       "array([0.80515663, 0.90216044])"
      ]
     },
     "metadata": {},
     "output_type": "display_data"
    },
    {
     "data": {
      "text/plain": [
       "'conf_interval_bernoulli'"
      ]
     },
     "metadata": {},
     "output_type": "display_data"
    },
    {
     "data": {
      "text/plain": [
       "0.06287661356608193"
      ]
     },
     "metadata": {},
     "output_type": "display_data"
    },
    {
     "data": {
      "text/plain": [
       "'conf_interval_jackknife'"
      ]
     },
     "metadata": {},
     "output_type": "display_data"
    },
    {
     "data": {
      "text/plain": [
       "0.048501905146999924"
      ]
     },
     "metadata": {},
     "output_type": "display_data"
    },
    {
     "data": {
      "image/png": "[encoded data removed]",
      "text/plain": [
       "<Figure size 432x288 with 1 Axes>"
      ]
     },
     "metadata": {
      "needs_background": "light"
     },
     "output_type": "display_data"
    }
   ],
   "source": [
    "gxs_Node = df[df['Target'] == 'Node']\n",
    "gxs_Node.shape #coincide con lo hecho anteriormente\n",
    "# distribución de la variable discreta pasiva\n",
    "gxs_Node.pasiva.hist()\n",
    "gxs_Node.pasiva.mean()\n",
    "estimate, bias, stderr, conf_interval = estimador_env(gxs_Node.pasiva.values, frac)\n",
    "display('estimador', estimate)\n",
    "display('stderr', stderr)\n",
    "display('conf_interval', conf_interval)\n",
    "\n",
    "display('conf_interval_bernoulli', 0.06287661356608193)\n",
    "ci = abs(estimate - conf_interval[0])\n",
    "display('conf_interval_jackknife', abs(estimate - conf_interval[0]))\n",
    "e.append(ci)"
   ]
  },
  {
   "cell_type": "markdown",
   "metadata": {},
   "source": [
    "**LOOSE**"
   ]
  },
  {
   "cell_type": "code",
   "execution_count": 29,
   "metadata": {},
   "outputs": [
    {
     "data": {
      "text/plain": [
       "0.017357537195860594"
      ]
     },
     "metadata": {},
     "output_type": "display_data"
    },
    {
     "data": {
      "text/plain": [
       "'conf_interval_jackknife'"
      ]
     },
     "metadata": {},
     "output_type": "display_data"
    },
    {
     "data": {
      "text/plain": [
       "0.03402014776420115"
      ]
     },
     "metadata": {},
     "output_type": "display_data"
    },
    {
     "data": {
      "image/png": "[encoded data removed]",
      "text/plain": [
       "<Figure size 432x288 with 1 Axes>"
      ]
     },
     "metadata": {
      "needs_background": "light"
     },
     "output_type": "display_data"
    }
   ],
   "source": [
    "gxs_Loose = df[df['Target'] == 'Loose']\n",
    "gxs_Loose.shape #coincide con lo hecho anteriormente\n",
    "# distribución de la variable discreta pasiva\n",
    "gxs_Loose.pasiva.hist()\n",
    "gxs_Loose.pasiva.mean()\n",
    "estimate, bias, stderr, conf_interval = estimador_env(gxs_Loose.pasiva.values, frac)\n",
    "display(stderr)\n",
    "ci = abs(estimate - conf_interval[0])\n",
    "display('conf_interval_jackknife', abs(estimate - conf_interval[0]))\n",
    "e.append(ci)"
   ]
  },
  {
   "cell_type": "markdown",
   "metadata": {},
   "source": [
    "**FILL**"
   ]
  },
  {
   "cell_type": "code",
   "execution_count": 30,
   "metadata": {},
   "outputs": [
    {
     "data": {
      "text/plain": [
       "0.030695456590127308"
      ]
     },
     "metadata": {},
     "output_type": "display_data"
    },
    {
     "data": {
      "text/plain": [
       "'conf_interval_jackknife'"
      ]
     },
     "metadata": {},
     "output_type": "display_data"
    },
    {
     "data": {
      "text/plain": [
       "0.0601619894056622"
      ]
     },
     "metadata": {},
     "output_type": "display_data"
    },
    {
     "data": {
      "image/png": "[encoded data removed]",
      "text/plain": [
       "<Figure size 432x288 with 1 Axes>"
      ]
     },
     "metadata": {
      "needs_background": "light"
     },
     "output_type": "display_data"
    }
   ],
   "source": [
    "gxs_FIl = df[df['Target'] == 'FIl']\n",
    "gxs_FIl.shape #coincide con lo hecho anteriormente\n",
    "# distribución de la variable discreta pasiva\n",
    "gxs_FIl.pasiva.hist()\n",
    "gxs_FIl.pasiva.mean()\n",
    "estimate, bias, stderr, conf_interval = estimador_env(gxs_FIl.pasiva.values, frac)\n",
    "display(stderr)\n",
    "ci = abs(estimate - conf_interval[0])\n",
    "display('conf_interval_jackknife', abs(estimate - conf_interval[0]))\n",
    "e.append(ci)"
   ]
  },
  {
   "cell_type": "markdown",
   "metadata": {},
   "source": [
    "**FIELD**"
   ]
  },
  {
   "cell_type": "code",
   "execution_count": 31,
   "metadata": {},
   "outputs": [
    {
     "data": {
      "text/plain": [
       "0.016517261763429845"
      ]
     },
     "metadata": {},
     "output_type": "display_data"
    },
    {
     "data": {
      "text/plain": [
       "'conf_interval_jackknife'"
      ]
     },
     "metadata": {},
     "output_type": "display_data"
    },
    {
     "data": {
      "text/plain": [
       "0.032373238179543073"
      ]
     },
     "metadata": {},
     "output_type": "display_data"
    },
    {
     "data": {
      "image/png": "[encoded data removed]",
      "text/plain": [
       "<Figure size 432x288 with 1 Axes>"
      ]
     },
     "metadata": {
      "needs_background": "light"
     },
     "output_type": "display_data"
    }
   ],
   "source": [
    "gxs_Field = df[df['Target'] == 'Field']\n",
    "gxs_Field.shape #coincide con lo hecho anteriormente\n",
    "# distribución de la variable discreta pasiva\n",
    "gxs_Field.pasiva.hist()\n",
    "gxs_Field.pasiva.mean()\n",
    "estimate, bias, stderr, conf_interval = estimador_env(gxs_Field.pasiva.values, frac)\n",
    "display(stderr)\n",
    "ci = abs(estimate - conf_interval[0])\n",
    "display('conf_interval_jackknife', abs(estimate - conf_interval[0]))\n",
    "e.append(ci)"
   ]
  },
  {
   "cell_type": "markdown",
   "metadata": {},
   "source": [
    "**VoiR**"
   ]
  },
  {
   "cell_type": "code",
   "execution_count": 32,
   "metadata": {},
   "outputs": [
    {
     "data": {
      "text/plain": [
       "0.07647191129018716"
      ]
     },
     "metadata": {},
     "output_type": "display_data"
    },
    {
     "data": {
      "text/plain": [
       "'conf_interval_jackknife'"
      ]
     },
     "metadata": {},
     "output_type": "display_data"
    },
    {
     "data": {
      "text/plain": [
       "0.1498821919577088"
      ]
     },
     "metadata": {},
     "output_type": "display_data"
    },
    {
     "data": {
      "image/png": "[encoded data removed]",
      "text/plain": [
       "<Figure size 432x288 with 1 Axes>"
      ]
     },
     "metadata": {
      "needs_background": "light"
     },
     "output_type": "display_data"
    }
   ],
   "source": [
    "gxs_VoiR = df[df['Target'] == 'VoiR']\n",
    "gxs_VoiR.shape #coincide con lo hecho anteriormente\n",
    "# distribución de la variable discreta pasiva\n",
    "gxs_VoiR.pasiva.hist()\n",
    "gxs_VoiR.pasiva.mean()\n",
    "estimate, bias, stderr, conf_interval = estimador_env(gxs_VoiR.pasiva.values, frac)\n",
    "display(stderr)\n",
    "ci = abs(estimate - conf_interval[0])\n",
    "display('conf_interval_jackknife', abs(estimate - conf_interval[0]))\n",
    "e.append(ci)"
   ]
  },
  {
   "cell_type": "markdown",
   "metadata": {},
   "source": [
    "**VoiS**"
   ]
  },
  {
   "cell_type": "code",
   "execution_count": 33,
   "metadata": {},
   "outputs": [
    {
     "data": {
      "text/plain": [
       "0.049444369576282364"
      ]
     },
     "metadata": {},
     "output_type": "display_data"
    },
    {
     "data": {
      "text/plain": [
       "'conf_interval_jackknife'"
      ]
     },
     "metadata": {},
     "output_type": "display_data"
    },
    {
     "data": {
      "text/plain": [
       "0.09690918360780143"
      ]
     },
     "metadata": {},
     "output_type": "display_data"
    },
    {
     "data": {
      "image/png": "[encoded data removed]",
      "text/plain": [
       "<Figure size 432x288 with 1 Axes>"
      ]
     },
     "metadata": {
      "needs_background": "light"
     },
     "output_type": "display_data"
    }
   ],
   "source": [
    "gxs_VoiS = df[df['Target'] == 'VoiS']\n",
    "gxs_VoiS.shape #coincide con lo hecho anteriormente\n",
    "# distribución de la variable discreta pasiva\n",
    "gxs_VoiS.pasiva.hist()\n",
    "gxs_VoiS.pasiva.mean()\n",
    "estimate, bias, stderr, conf_interval = estimador_env(gxs_VoiS.pasiva.values, frac)\n",
    "display(stderr)\n",
    "ci = abs(estimate - conf_interval[0])\n",
    "display('conf_interval_jackknife', abs(estimate - conf_interval[0]))\n",
    "e.append(ci)"
   ]
  },
  {
   "cell_type": "code",
   "execution_count": 34,
   "metadata": {},
   "outputs": [
    {
     "data": {
      "image/png": "[encoded data removed]",
      "text/plain": [
       "<Figure size 360x360 with 1 Axes>"
      ]
     },
     "metadata": {
      "needs_background": "light"
     },
     "output_type": "display_data"
    }
   ],
   "source": [
    "plt.figure(figsize=(5,5))\n",
    "\n",
    "plt.scatter(X[0], frec[0], marker='o', s=40, color='r')\n",
    "plt.scatter(X[2], frec[2], marker='D', s=40, color= \"#EE4000\")\n",
    "plt.scatter(X[1], frec[1], marker='s', s=40, color=\"Magenta\")\n",
    "plt.scatter(X[3], frec[3], marker='X', s=40, color='blue')\n",
    "plt.scatter(X[4], frec[4], marker='^', s=40, facecolors='none', edgecolors= '#006400')\n",
    "plt.scatter(X[5], frec[5], marker='v', s=40, facecolors='none', edgecolors='#008B8B')\n",
    "\n",
    "plt.errorbar(0, frec[0], yerr=0.03215843597706181, color='r')\n",
    "plt.errorbar(1, frec[2], yerr=e[2], color=  \"#EE4000\")\n",
    "plt.errorbar(2, frec[1], yerr=e[1], color= \"Magenta\")\n",
    "plt.errorbar(3, frec[3], yerr=e[3], color= 'blue')\n",
    "plt.errorbar(4, frec[4], yerr=e[4], color= '#006400')\n",
    "plt.errorbar(5, frec[5], yerr=e[5], color= '#008B8B')\n",
    "\n",
    "plt.ylabel('Fraction of early galaxies')\n",
    "plt.savefig('FracGxEarly.eps',format='eps')"
   ]
  },
  {
   "cell_type": "code",
   "execution_count": null,
   "metadata": {},
   "outputs": [],
   "source": []
  },
  {
   "cell_type": "raw",
   "metadata": {},
   "source": [
    "C_M = list(map(lambda x: -0.03193*(x**2) - 1.46781*x  -14.33128, df.r_abs))\n",
    "pasiva_2 = []\n",
    "for i in range(df.shape[0]):\n",
    "    if (df.u_abs.iloc[i] - df.r_abs.iloc[i] >= C_M[i]):\n",
    "        pasiva_2.append(1)\n",
    "    else:\n",
    "        pasiva_2.append(0)\n",
    "df['pasiva'] = pasiva_2"
   ]
  },
  {
   "cell_type": "code",
   "execution_count": null,
   "metadata": {},
   "outputs": [],
   "source": []
  }
 ],
 "metadata": {
  "kernelspec": {
   "display_name": "Python 3",
   "language": "python",
   "name": "python3"
  },
  "language_info": {
   "codemirror_mode": {
    "name": "ipython",
    "version": 3
   },
   "file_extension": ".py",
   "mimetype": "text/x-python",
   "name": "python",
   "nbconvert_exporter": "python",
   "pygments_lexer": "ipython3",
   "version": "3.7.10"
  }
 },
 "nbformat": 4,
 "nbformat_minor": 4
}
