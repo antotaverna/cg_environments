{
 "cells": [
  {
   "cell_type": "markdown",
   "metadata": {},
   "source": [
    "# Fracción de galaxias por grupo"
   ]
  },
  {
   "cell_type": "markdown",
   "metadata": {},
   "source": [
    "**Library**"
   ]
  },
  {
   "cell_type": "code",
   "execution_count": 1,
   "metadata": {},
   "outputs": [],
   "source": [
    "import pandas as pd\n",
    "import matplotlib.pyplot as plt\n",
    "import seaborn as sns\n",
    "import random\n",
    "random.seed(0)\n",
    "from collections import Counter\n",
    "import numpy as np\n",
    "from itertools import cycle, islice\n",
    "\n",
    "import numpy as np\n",
    "np.random.seed(0)"
   ]
  },
  {
   "cell_type": "markdown",
   "metadata": {},
   "source": [
    "**Funtions**"
   ]
  },
  {
   "cell_type": "code",
   "execution_count": 2,
   "metadata": {},
   "outputs": [],
   "source": [
    "def diff(list1, list2):\n",
    "    c = set(list1).union(set(list2))  # or c = set(list1) | set(list2)\n",
    "    d = set(list1).intersection(set(list2))  # or d = set(list1) & set(list2)\n",
    "    return list(c - d)"
   ]
  },
  {
   "cell_type": "markdown",
   "metadata": {},
   "source": [
    "### Galaxias en GC"
   ]
  },
  {
   "cell_type": "markdown",
   "metadata": {},
   "source": [
    "**Load**"
   ]
  },
  {
   "cell_type": "code",
   "execution_count": 3,
   "metadata": {},
   "outputs": [],
   "source": [
    "path_gal_gru = '../../data/tab_gal_gru.dat'\n",
    "df = pd.read_table(path_gal_gru, sep=\"\\s+\", names=['ngc', 'nk', 'alg', 'delg', 'zred', 'rmag', 'gmag', 'umag', 'gal_ID', 'r50', 'r90', 'r_abs', 'g_abs', 'u_abs', 'pasiva', 'early' ])\n",
    "\n",
    "# , 'g_ps', 'g_early'\n",
    "## g_ps= pasiva\n",
    "## g_early early\n",
    "\n",
    "id_gc_gal_grup = df.ngc.to_list()\n",
    "\n",
    "path = '../../data/compact_in_all'\n",
    "\n",
    "df1 = pd.read_table(path, sep=\"\\s+\", names=['i_gru', 'n_m', 'Ra', 'dec', 'z', 'thete_g ', 'mu', 'sigv', 'r_b', 'flag',\n",
    "'rabs1', 'd_ij', 'tcr', 'rp', 'rabs2', 'Target'])\n",
    "id_gc_class = df1.i_gru.to_list()"
   ]
  },
  {
   "cell_type": "code",
   "execution_count": 4,
   "metadata": {},
   "outputs": [
    {
     "data": {
      "text/html": [
       "<div>\n",
       "<style scoped>\n",
       "    .dataframe tbody tr th:only-of-type {\n",
       "        vertical-align: middle;\n",
       "    }\n",
       "\n",
       "    .dataframe tbody tr th {\n",
       "        vertical-align: top;\n",
       "    }\n",
       "\n",
       "    .dataframe thead th {\n",
       "        text-align: right;\n",
       "    }\n",
       "</style>\n",
       "<table border=\"1\" class=\"dataframe\">\n",
       "  <thead>\n",
       "    <tr style=\"text-align: right;\">\n",
       "      <th></th>\n",
       "      <th>ngc</th>\n",
       "      <th>nk</th>\n",
       "      <th>alg</th>\n",
       "      <th>delg</th>\n",
       "      <th>zred</th>\n",
       "      <th>rmag</th>\n",
       "      <th>gmag</th>\n",
       "      <th>umag</th>\n",
       "      <th>gal_ID</th>\n",
       "      <th>r50</th>\n",
       "      <th>r90</th>\n",
       "      <th>r_abs</th>\n",
       "      <th>g_abs</th>\n",
       "      <th>u_abs</th>\n",
       "      <th>pasiva</th>\n",
       "      <th>early</th>\n",
       "    </tr>\n",
       "  </thead>\n",
       "  <tbody>\n",
       "    <tr>\n",
       "      <th>count</th>\n",
       "      <td>2070.000000</td>\n",
       "      <td>2070.000000</td>\n",
       "      <td>2070.000000</td>\n",
       "      <td>2070.000000</td>\n",
       "      <td>2070.000000</td>\n",
       "      <td>2070.000000</td>\n",
       "      <td>2070.000000</td>\n",
       "      <td>2070.000000</td>\n",
       "      <td>2.070000e+03</td>\n",
       "      <td>2070.000000</td>\n",
       "      <td>2070.000000</td>\n",
       "      <td>2070.000000</td>\n",
       "      <td>2070.000000</td>\n",
       "      <td>2070.000000</td>\n",
       "      <td>2070.000000</td>\n",
       "      <td>2070.000000</td>\n",
       "    </tr>\n",
       "    <tr>\n",
       "      <th>mean</th>\n",
       "      <td>233.122222</td>\n",
       "      <td>2.815459</td>\n",
       "      <td>190.252702</td>\n",
       "      <td>27.723103</td>\n",
       "      <td>0.042794</td>\n",
       "      <td>15.328896</td>\n",
       "      <td>16.088230</td>\n",
       "      <td>19.221081</td>\n",
       "      <td>1.237662e+18</td>\n",
       "      <td>0.501974</td>\n",
       "      <td>8.205420</td>\n",
       "      <td>-20.119825</td>\n",
       "      <td>-19.393180</td>\n",
       "      <td>-17.826410</td>\n",
       "      <td>0.704831</td>\n",
       "      <td>0.654106</td>\n",
       "    </tr>\n",
       "    <tr>\n",
       "      <th>std</th>\n",
       "      <td>134.431496</td>\n",
       "      <td>1.413787</td>\n",
       "      <td>37.849984</td>\n",
       "      <td>17.522322</td>\n",
       "      <td>0.017825</td>\n",
       "      <td>1.239176</td>\n",
       "      <td>1.217238</td>\n",
       "      <td>0.958491</td>\n",
       "      <td>5.612076e+12</td>\n",
       "      <td>20.086786</td>\n",
       "      <td>22.942260</td>\n",
       "      <td>1.142499</td>\n",
       "      <td>1.103947</td>\n",
       "      <td>1.002199</td>\n",
       "      <td>0.456229</td>\n",
       "      <td>0.475774</td>\n",
       "    </tr>\n",
       "    <tr>\n",
       "      <th>min</th>\n",
       "      <td>1.000000</td>\n",
       "      <td>1.000000</td>\n",
       "      <td>114.819000</td>\n",
       "      <td>-2.909000</td>\n",
       "      <td>0.002870</td>\n",
       "      <td>10.587000</td>\n",
       "      <td>11.410000</td>\n",
       "      <td>14.371000</td>\n",
       "      <td>1.237649e+18</td>\n",
       "      <td>-99.900002</td>\n",
       "      <td>-99.900002</td>\n",
       "      <td>-23.296690</td>\n",
       "      <td>-22.479040</td>\n",
       "      <td>-20.750630</td>\n",
       "      <td>0.000000</td>\n",
       "      <td>0.000000</td>\n",
       "    </tr>\n",
       "    <tr>\n",
       "      <th>25%</th>\n",
       "      <td>117.000000</td>\n",
       "      <td>2.000000</td>\n",
       "      <td>159.006250</td>\n",
       "      <td>13.427000</td>\n",
       "      <td>0.029774</td>\n",
       "      <td>14.415750</td>\n",
       "      <td>15.208000</td>\n",
       "      <td>18.637000</td>\n",
       "      <td>1.237658e+18</td>\n",
       "      <td>2.292826</td>\n",
       "      <td>6.283710</td>\n",
       "      <td>-20.931423</td>\n",
       "      <td>-20.158278</td>\n",
       "      <td>-18.522187</td>\n",
       "      <td>0.000000</td>\n",
       "      <td>0.000000</td>\n",
       "    </tr>\n",
       "    <tr>\n",
       "      <th>50%</th>\n",
       "      <td>234.000000</td>\n",
       "      <td>3.000000</td>\n",
       "      <td>188.987500</td>\n",
       "      <td>25.902500</td>\n",
       "      <td>0.039709</td>\n",
       "      <td>15.404500</td>\n",
       "      <td>16.131500</td>\n",
       "      <td>19.281500</td>\n",
       "      <td>1.237662e+18</td>\n",
       "      <td>3.522022</td>\n",
       "      <td>9.721042</td>\n",
       "      <td>-20.043260</td>\n",
       "      <td>-19.329500</td>\n",
       "      <td>-17.777480</td>\n",
       "      <td>1.000000</td>\n",
       "      <td>1.000000</td>\n",
       "    </tr>\n",
       "    <tr>\n",
       "      <th>75%</th>\n",
       "      <td>350.000000</td>\n",
       "      <td>4.000000</td>\n",
       "      <td>222.705750</td>\n",
       "      <td>40.907250</td>\n",
       "      <td>0.053250</td>\n",
       "      <td>16.334000</td>\n",
       "      <td>17.077000</td>\n",
       "      <td>19.913500</td>\n",
       "      <td>1.237666e+18</td>\n",
       "      <td>5.472989</td>\n",
       "      <td>15.541295</td>\n",
       "      <td>-19.317550</td>\n",
       "      <td>-18.657383</td>\n",
       "      <td>-17.123495</td>\n",
       "      <td>1.000000</td>\n",
       "      <td>1.000000</td>\n",
       "    </tr>\n",
       "    <tr>\n",
       "      <th>max</th>\n",
       "      <td>462.000000</td>\n",
       "      <td>8.000000</td>\n",
       "      <td>256.520000</td>\n",
       "      <td>67.384000</td>\n",
       "      <td>0.122845</td>\n",
       "      <td>17.691000</td>\n",
       "      <td>19.699000</td>\n",
       "      <td>24.514000</td>\n",
       "      <td>1.237675e+18</td>\n",
       "      <td>35.702702</td>\n",
       "      <td>80.721657</td>\n",
       "      <td>-16.650920</td>\n",
       "      <td>-9.894290</td>\n",
       "      <td>-11.328430</td>\n",
       "      <td>1.000000</td>\n",
       "      <td>1.000000</td>\n",
       "    </tr>\n",
       "  </tbody>\n",
       "</table>\n",
       "</div>"
      ],
      "text/plain": [
       "               ngc           nk          alg         delg         zred  \\\n",
       "count  2070.000000  2070.000000  2070.000000  2070.000000  2070.000000   \n",
       "mean    233.122222     2.815459   190.252702    27.723103     0.042794   \n",
       "std     134.431496     1.413787    37.849984    17.522322     0.017825   \n",
       "min       1.000000     1.000000   114.819000    -2.909000     0.002870   \n",
       "25%     117.000000     2.000000   159.006250    13.427000     0.029774   \n",
       "50%     234.000000     3.000000   188.987500    25.902500     0.039709   \n",
       "75%     350.000000     4.000000   222.705750    40.907250     0.053250   \n",
       "max     462.000000     8.000000   256.520000    67.384000     0.122845   \n",
       "\n",
       "              rmag         gmag         umag        gal_ID          r50  \\\n",
       "count  2070.000000  2070.000000  2070.000000  2.070000e+03  2070.000000   \n",
       "mean     15.328896    16.088230    19.221081  1.237662e+18     0.501974   \n",
       "std       1.239176     1.217238     0.958491  5.612076e+12    20.086786   \n",
       "min      10.587000    11.410000    14.371000  1.237649e+18   -99.900002   \n",
       "25%      14.415750    15.208000    18.637000  1.237658e+18     2.292826   \n",
       "50%      15.404500    16.131500    19.281500  1.237662e+18     3.522022   \n",
       "75%      16.334000    17.077000    19.913500  1.237666e+18     5.472989   \n",
       "max      17.691000    19.699000    24.514000  1.237675e+18    35.702702   \n",
       "\n",
       "               r90        r_abs        g_abs        u_abs       pasiva  \\\n",
       "count  2070.000000  2070.000000  2070.000000  2070.000000  2070.000000   \n",
       "mean      8.205420   -20.119825   -19.393180   -17.826410     0.704831   \n",
       "std      22.942260     1.142499     1.103947     1.002199     0.456229   \n",
       "min     -99.900002   -23.296690   -22.479040   -20.750630     0.000000   \n",
       "25%       6.283710   -20.931423   -20.158278   -18.522187     0.000000   \n",
       "50%       9.721042   -20.043260   -19.329500   -17.777480     1.000000   \n",
       "75%      15.541295   -19.317550   -18.657383   -17.123495     1.000000   \n",
       "max      80.721657   -16.650920    -9.894290   -11.328430     1.000000   \n",
       "\n",
       "             early  \n",
       "count  2070.000000  \n",
       "mean      0.654106  \n",
       "std       0.475774  \n",
       "min       0.000000  \n",
       "25%       0.000000  \n",
       "50%       1.000000  \n",
       "75%       1.000000  \n",
       "max       1.000000  "
      ]
     },
     "metadata": {},
     "output_type": "display_data"
    }
   ],
   "source": [
    "display(df.describe())"
   ]
  },
  {
   "cell_type": "markdown",
   "metadata": {},
   "source": [
    "**Lista de GCs descartandos por corte de Magnitud**"
   ]
  },
  {
   "cell_type": "code",
   "execution_count": 5,
   "metadata": {},
   "outputs": [],
   "source": [
    "diferencia = diff(id_gc_class, id_gc_gal_grup)\n",
    "df = df.set_index('ngc').drop(diferencia)"
   ]
  },
  {
   "cell_type": "code",
   "execution_count": 6,
   "metadata": {},
   "outputs": [
    {
     "data": {
      "text/plain": [
       "(2012, 15)"
      ]
     },
     "execution_count": 6,
     "metadata": {},
     "output_type": "execute_result"
    }
   ],
   "source": [
    "df.shape"
   ]
  },
  {
   "cell_type": "code",
   "execution_count": 7,
   "metadata": {},
   "outputs": [],
   "source": [
    "df = df.reset_index()"
   ]
  },
  {
   "cell_type": "markdown",
   "metadata": {},
   "source": [
    "**Visualización y Curación**"
   ]
  },
  {
   "cell_type": "code",
   "execution_count": 8,
   "metadata": {},
   "outputs": [
    {
     "name": "stdout",
     "output_type": "stream",
     "text": [
      "<class 'pandas.core.frame.DataFrame'>\n",
      "RangeIndex: 2012 entries, 0 to 2011\n",
      "Data columns (total 16 columns):\n",
      " #   Column  Non-Null Count  Dtype  \n",
      "---  ------  --------------  -----  \n",
      " 0   ngc     2012 non-null   int64  \n",
      " 1   nk      2012 non-null   int64  \n",
      " 2   alg     2012 non-null   float64\n",
      " 3   delg    2012 non-null   float64\n",
      " 4   zred    2012 non-null   float64\n",
      " 5   rmag    2012 non-null   float64\n",
      " 6   gmag    2012 non-null   float64\n",
      " 7   umag    2012 non-null   float64\n",
      " 8   gal_ID  2012 non-null   int64  \n",
      " 9   r50     2012 non-null   float64\n",
      " 10  r90     2012 non-null   float64\n",
      " 11  r_abs   2012 non-null   float64\n",
      " 12  g_abs   2012 non-null   float64\n",
      " 13  u_abs   2012 non-null   float64\n",
      " 14  pasiva  2012 non-null   int64  \n",
      " 15  early   2012 non-null   int64  \n",
      "dtypes: float64(11), int64(5)\n",
      "memory usage: 251.6 KB\n"
     ]
    },
    {
     "data": {
      "text/plain": [
       "None"
      ]
     },
     "metadata": {},
     "output_type": "display_data"
    },
    {
     "data": {
      "text/html": [
       "<div>\n",
       "<style scoped>\n",
       "    .dataframe tbody tr th:only-of-type {\n",
       "        vertical-align: middle;\n",
       "    }\n",
       "\n",
       "    .dataframe tbody tr th {\n",
       "        vertical-align: top;\n",
       "    }\n",
       "\n",
       "    .dataframe thead th {\n",
       "        text-align: right;\n",
       "    }\n",
       "</style>\n",
       "<table border=\"1\" class=\"dataframe\">\n",
       "  <thead>\n",
       "    <tr style=\"text-align: right;\">\n",
       "      <th></th>\n",
       "      <th>ngc</th>\n",
       "      <th>nk</th>\n",
       "      <th>alg</th>\n",
       "      <th>delg</th>\n",
       "      <th>zred</th>\n",
       "      <th>rmag</th>\n",
       "      <th>gmag</th>\n",
       "      <th>umag</th>\n",
       "      <th>gal_ID</th>\n",
       "      <th>r50</th>\n",
       "      <th>r90</th>\n",
       "      <th>r_abs</th>\n",
       "      <th>g_abs</th>\n",
       "      <th>u_abs</th>\n",
       "      <th>pasiva</th>\n",
       "      <th>early</th>\n",
       "    </tr>\n",
       "  </thead>\n",
       "  <tbody>\n",
       "    <tr>\n",
       "      <th>count</th>\n",
       "      <td>2012.000000</td>\n",
       "      <td>2012.000000</td>\n",
       "      <td>2012.000000</td>\n",
       "      <td>2012.000000</td>\n",
       "      <td>2012.000000</td>\n",
       "      <td>2012.000000</td>\n",
       "      <td>2012.000000</td>\n",
       "      <td>2012.000000</td>\n",
       "      <td>2.012000e+03</td>\n",
       "      <td>2012.000000</td>\n",
       "      <td>2012.000000</td>\n",
       "      <td>2012.000000</td>\n",
       "      <td>2012.000000</td>\n",
       "      <td>2012.000000</td>\n",
       "      <td>2012.000000</td>\n",
       "      <td>2012.000000</td>\n",
       "    </tr>\n",
       "    <tr>\n",
       "      <th>mean</th>\n",
       "      <td>233.149602</td>\n",
       "      <td>2.817097</td>\n",
       "      <td>190.201947</td>\n",
       "      <td>27.638412</td>\n",
       "      <td>0.043493</td>\n",
       "      <td>15.373400</td>\n",
       "      <td>16.135362</td>\n",
       "      <td>19.211730</td>\n",
       "      <td>1.237662e+18</td>\n",
       "      <td>0.744808</td>\n",
       "      <td>8.323654</td>\n",
       "      <td>-20.157619</td>\n",
       "      <td>-19.428971</td>\n",
       "      <td>-17.858869</td>\n",
       "      <td>0.705268</td>\n",
       "      <td>0.658549</td>\n",
       "    </tr>\n",
       "    <tr>\n",
       "      <th>std</th>\n",
       "      <td>135.447818</td>\n",
       "      <td>1.416794</td>\n",
       "      <td>38.163741</td>\n",
       "      <td>17.374560</td>\n",
       "      <td>0.016899</td>\n",
       "      <td>1.190321</td>\n",
       "      <td>1.163361</td>\n",
       "      <td>0.961769</td>\n",
       "      <td>5.617701e+12</td>\n",
       "      <td>19.165742</td>\n",
       "      <td>21.871240</td>\n",
       "      <td>1.115163</td>\n",
       "      <td>1.079241</td>\n",
       "      <td>0.979605</td>\n",
       "      <td>0.456035</td>\n",
       "      <td>0.474314</td>\n",
       "    </tr>\n",
       "    <tr>\n",
       "      <th>min</th>\n",
       "      <td>1.000000</td>\n",
       "      <td>1.000000</td>\n",
       "      <td>114.819000</td>\n",
       "      <td>-2.909000</td>\n",
       "      <td>0.012309</td>\n",
       "      <td>11.471000</td>\n",
       "      <td>12.307000</td>\n",
       "      <td>14.371000</td>\n",
       "      <td>1.237649e+18</td>\n",
       "      <td>-99.900002</td>\n",
       "      <td>-99.900002</td>\n",
       "      <td>-23.270410</td>\n",
       "      <td>-22.388150</td>\n",
       "      <td>-20.750630</td>\n",
       "      <td>0.000000</td>\n",
       "      <td>0.000000</td>\n",
       "    </tr>\n",
       "    <tr>\n",
       "      <th>25%</th>\n",
       "      <td>115.000000</td>\n",
       "      <td>2.000000</td>\n",
       "      <td>158.595500</td>\n",
       "      <td>13.501000</td>\n",
       "      <td>0.030553</td>\n",
       "      <td>14.451000</td>\n",
       "      <td>15.250000</td>\n",
       "      <td>18.622500</td>\n",
       "      <td>1.237658e+18</td>\n",
       "      <td>2.289818</td>\n",
       "      <td>6.279412</td>\n",
       "      <td>-20.948863</td>\n",
       "      <td>-20.192290</td>\n",
       "      <td>-18.537957</td>\n",
       "      <td>0.000000</td>\n",
       "      <td>0.000000</td>\n",
       "    </tr>\n",
       "    <tr>\n",
       "      <th>50%</th>\n",
       "      <td>236.000000</td>\n",
       "      <td>3.000000</td>\n",
       "      <td>189.313000</td>\n",
       "      <td>26.007500</td>\n",
       "      <td>0.040377</td>\n",
       "      <td>15.443000</td>\n",
       "      <td>16.172000</td>\n",
       "      <td>19.278500</td>\n",
       "      <td>1.237662e+18</td>\n",
       "      <td>3.489711</td>\n",
       "      <td>9.631056</td>\n",
       "      <td>-20.079295</td>\n",
       "      <td>-19.348950</td>\n",
       "      <td>-17.805575</td>\n",
       "      <td>1.000000</td>\n",
       "      <td>1.000000</td>\n",
       "    </tr>\n",
       "    <tr>\n",
       "      <th>75%</th>\n",
       "      <td>352.000000</td>\n",
       "      <td>4.000000</td>\n",
       "      <td>223.070500</td>\n",
       "      <td>40.750000</td>\n",
       "      <td>0.053595</td>\n",
       "      <td>16.343500</td>\n",
       "      <td>17.089750</td>\n",
       "      <td>19.895750</td>\n",
       "      <td>1.237666e+18</td>\n",
       "      <td>5.379437</td>\n",
       "      <td>15.301372</td>\n",
       "      <td>-19.360315</td>\n",
       "      <td>-18.674310</td>\n",
       "      <td>-17.147540</td>\n",
       "      <td>1.000000</td>\n",
       "      <td>1.000000</td>\n",
       "    </tr>\n",
       "    <tr>\n",
       "      <th>max</th>\n",
       "      <td>462.000000</td>\n",
       "      <td>8.000000</td>\n",
       "      <td>256.520000</td>\n",
       "      <td>66.738000</td>\n",
       "      <td>0.100278</td>\n",
       "      <td>17.668000</td>\n",
       "      <td>19.699000</td>\n",
       "      <td>24.514000</td>\n",
       "      <td>1.237675e+18</td>\n",
       "      <td>35.702702</td>\n",
       "      <td>80.721657</td>\n",
       "      <td>-17.060260</td>\n",
       "      <td>-9.894290</td>\n",
       "      <td>-11.328430</td>\n",
       "      <td>1.000000</td>\n",
       "      <td>1.000000</td>\n",
       "    </tr>\n",
       "  </tbody>\n",
       "</table>\n",
       "</div>"
      ],
      "text/plain": [
       "               ngc           nk          alg         delg         zred  \\\n",
       "count  2012.000000  2012.000000  2012.000000  2012.000000  2012.000000   \n",
       "mean    233.149602     2.817097   190.201947    27.638412     0.043493   \n",
       "std     135.447818     1.416794    38.163741    17.374560     0.016899   \n",
       "min       1.000000     1.000000   114.819000    -2.909000     0.012309   \n",
       "25%     115.000000     2.000000   158.595500    13.501000     0.030553   \n",
       "50%     236.000000     3.000000   189.313000    26.007500     0.040377   \n",
       "75%     352.000000     4.000000   223.070500    40.750000     0.053595   \n",
       "max     462.000000     8.000000   256.520000    66.738000     0.100278   \n",
       "\n",
       "              rmag         gmag         umag        gal_ID          r50  \\\n",
       "count  2012.000000  2012.000000  2012.000000  2.012000e+03  2012.000000   \n",
       "mean     15.373400    16.135362    19.211730  1.237662e+18     0.744808   \n",
       "std       1.190321     1.163361     0.961769  5.617701e+12    19.165742   \n",
       "min      11.471000    12.307000    14.371000  1.237649e+18   -99.900002   \n",
       "25%      14.451000    15.250000    18.622500  1.237658e+18     2.289818   \n",
       "50%      15.443000    16.172000    19.278500  1.237662e+18     3.489711   \n",
       "75%      16.343500    17.089750    19.895750  1.237666e+18     5.379437   \n",
       "max      17.668000    19.699000    24.514000  1.237675e+18    35.702702   \n",
       "\n",
       "               r90        r_abs        g_abs        u_abs       pasiva  \\\n",
       "count  2012.000000  2012.000000  2012.000000  2012.000000  2012.000000   \n",
       "mean      8.323654   -20.157619   -19.428971   -17.858869     0.705268   \n",
       "std      21.871240     1.115163     1.079241     0.979605     0.456035   \n",
       "min     -99.900002   -23.270410   -22.388150   -20.750630     0.000000   \n",
       "25%       6.279412   -20.948863   -20.192290   -18.537957     0.000000   \n",
       "50%       9.631056   -20.079295   -19.348950   -17.805575     1.000000   \n",
       "75%      15.301372   -19.360315   -18.674310   -17.147540     1.000000   \n",
       "max      80.721657   -17.060260    -9.894290   -11.328430     1.000000   \n",
       "\n",
       "             early  \n",
       "count  2012.000000  \n",
       "mean      0.658549  \n",
       "std       0.474314  \n",
       "min       0.000000  \n",
       "25%       0.000000  \n",
       "50%       1.000000  \n",
       "75%       1.000000  \n",
       "max       1.000000  "
      ]
     },
     "metadata": {},
     "output_type": "display_data"
    },
    {
     "data": {
      "text/plain": [
       "<matplotlib.legend.Legend at 0x7efe68076c50>"
      ]
     },
     "execution_count": 8,
     "metadata": {},
     "output_type": "execute_result"
    },
    {
     "data": {
      "image/png": "[encoded data removed]",
      "text/plain": [
       "<Figure size 432x288 with 1 Axes>"
      ]
     },
     "metadata": {
      "needs_background": "light"
     },
     "output_type": "display_data"
    }
   ],
   "source": [
    "display(df.info())\n",
    "display(df.describe())\n",
    "#'rmag', 'gmag', 'umag', 'gal_ID', 'r50', 'r90', 'r_abs', 'g_abs', 'u_abs'\n",
    "df.rmag.hist(label='r mag')\n",
    "df.gmag.hist(label='g mag')\n",
    "df.umag.hist(label='u mag')\n",
    "\n",
    "plt.legend()"
   ]
  },
  {
   "cell_type": "code",
   "execution_count": 9,
   "metadata": {},
   "outputs": [
    {
     "data": {
      "text/plain": [
       "<matplotlib.legend.Legend at 0x7efe683ac910>"
      ]
     },
     "execution_count": 9,
     "metadata": {},
     "output_type": "execute_result"
    },
    {
     "data": {
      "image/png": "[encoded data removed]",
      "text/plain": [
       "<Figure size 432x288 with 1 Axes>"
      ]
     },
     "metadata": {
      "needs_background": "light"
     },
     "output_type": "display_data"
    }
   ],
   "source": [
    "df.r50.hist(label='R50')\n",
    "df.r90.hist(label='R90')\n",
    "plt.xlim(-200, 2)\n",
    "\n",
    "plt.legend()"
   ]
  },
  {
   "cell_type": "code",
   "execution_count": 10,
   "metadata": {},
   "outputs": [
    {
     "data": {
      "text/plain": [
       "(0, 16)"
      ]
     },
     "metadata": {},
     "output_type": "display_data"
    },
    {
     "data": {
      "text/html": [
       "<div>\n",
       "<style scoped>\n",
       "    .dataframe tbody tr th:only-of-type {\n",
       "        vertical-align: middle;\n",
       "    }\n",
       "\n",
       "    .dataframe tbody tr th {\n",
       "        vertical-align: top;\n",
       "    }\n",
       "\n",
       "    .dataframe thead th {\n",
       "        text-align: right;\n",
       "    }\n",
       "</style>\n",
       "<table border=\"1\" class=\"dataframe\">\n",
       "  <thead>\n",
       "    <tr style=\"text-align: right;\">\n",
       "      <th></th>\n",
       "      <th>ngc</th>\n",
       "      <th>nk</th>\n",
       "      <th>alg</th>\n",
       "      <th>delg</th>\n",
       "      <th>zred</th>\n",
       "      <th>rmag</th>\n",
       "      <th>gmag</th>\n",
       "      <th>umag</th>\n",
       "      <th>gal_ID</th>\n",
       "      <th>r50</th>\n",
       "      <th>r90</th>\n",
       "      <th>r_abs</th>\n",
       "      <th>g_abs</th>\n",
       "      <th>u_abs</th>\n",
       "      <th>pasiva</th>\n",
       "      <th>early</th>\n",
       "    </tr>\n",
       "  </thead>\n",
       "  <tbody>\n",
       "  </tbody>\n",
       "</table>\n",
       "</div>"
      ],
      "text/plain": [
       "Empty DataFrame\n",
       "Columns: [ngc, nk, alg, delg, zred, rmag, gmag, umag, gal_ID, r50, r90, r_abs, g_abs, u_abs, pasiva, early]\n",
       "Index: []"
      ]
     },
     "execution_count": 10,
     "metadata": {},
     "output_type": "execute_result"
    }
   ],
   "source": [
    "df_r50 = df[df['r50'] == -1000].copy()\n",
    "display(df_r50.shape)\n",
    "df_r50"
   ]
  },
  {
   "cell_type": "code",
   "execution_count": 11,
   "metadata": {},
   "outputs": [
    {
     "data": {
      "text/plain": [
       "(0, 16)"
      ]
     },
     "metadata": {},
     "output_type": "display_data"
    },
    {
     "data": {
      "text/html": [
       "<div>\n",
       "<style scoped>\n",
       "    .dataframe tbody tr th:only-of-type {\n",
       "        vertical-align: middle;\n",
       "    }\n",
       "\n",
       "    .dataframe tbody tr th {\n",
       "        vertical-align: top;\n",
       "    }\n",
       "\n",
       "    .dataframe thead th {\n",
       "        text-align: right;\n",
       "    }\n",
       "</style>\n",
       "<table border=\"1\" class=\"dataframe\">\n",
       "  <thead>\n",
       "    <tr style=\"text-align: right;\">\n",
       "      <th></th>\n",
       "      <th>ngc</th>\n",
       "      <th>nk</th>\n",
       "      <th>alg</th>\n",
       "      <th>delg</th>\n",
       "      <th>zred</th>\n",
       "      <th>rmag</th>\n",
       "      <th>gmag</th>\n",
       "      <th>umag</th>\n",
       "      <th>gal_ID</th>\n",
       "      <th>r50</th>\n",
       "      <th>r90</th>\n",
       "      <th>r_abs</th>\n",
       "      <th>g_abs</th>\n",
       "      <th>u_abs</th>\n",
       "      <th>pasiva</th>\n",
       "      <th>early</th>\n",
       "    </tr>\n",
       "  </thead>\n",
       "  <tbody>\n",
       "  </tbody>\n",
       "</table>\n",
       "</div>"
      ],
      "text/plain": [
       "Empty DataFrame\n",
       "Columns: [ngc, nk, alg, delg, zred, rmag, gmag, umag, gal_ID, r50, r90, r_abs, g_abs, u_abs, pasiva, early]\n",
       "Index: []"
      ]
     },
     "execution_count": 11,
     "metadata": {},
     "output_type": "execute_result"
    }
   ],
   "source": [
    "df_r90 = df[df['r90'] == -1000].copy()\n",
    "display(df_r90.shape)\n",
    "df_r90"
   ]
  },
  {
   "cell_type": "markdown",
   "metadata": {},
   "source": [
    "**Cantidad de pasivas por grupo**"
   ]
  },
  {
   "cell_type": "code",
   "execution_count": 12,
   "metadata": {},
   "outputs": [],
   "source": [
    "df_pasivas = df.groupby([\"ngc\"])[\"pasiva\"].sum()"
   ]
  },
  {
   "cell_type": "code",
   "execution_count": 13,
   "metadata": {},
   "outputs": [
    {
     "data": {
      "text/plain": [
       "449"
      ]
     },
     "execution_count": 13,
     "metadata": {},
     "output_type": "execute_result"
    }
   ],
   "source": [
    "len(df_pasivas.values)"
   ]
  },
  {
   "cell_type": "code",
   "execution_count": 14,
   "metadata": {},
   "outputs": [
    {
     "data": {
      "text/html": [
       "<div>\n",
       "<style scoped>\n",
       "    .dataframe tbody tr th:only-of-type {\n",
       "        vertical-align: middle;\n",
       "    }\n",
       "\n",
       "    .dataframe tbody tr th {\n",
       "        vertical-align: top;\n",
       "    }\n",
       "\n",
       "    .dataframe thead th {\n",
       "        text-align: right;\n",
       "    }\n",
       "</style>\n",
       "<table border=\"1\" class=\"dataframe\">\n",
       "  <thead>\n",
       "    <tr style=\"text-align: right;\">\n",
       "      <th></th>\n",
       "      <th>ngc</th>\n",
       "      <th>pasiva</th>\n",
       "    </tr>\n",
       "  </thead>\n",
       "  <tbody>\n",
       "    <tr>\n",
       "      <th>0</th>\n",
       "      <td>1</td>\n",
       "      <td>3</td>\n",
       "    </tr>\n",
       "    <tr>\n",
       "      <th>1</th>\n",
       "      <td>2</td>\n",
       "      <td>4</td>\n",
       "    </tr>\n",
       "  </tbody>\n",
       "</table>\n",
       "</div>"
      ],
      "text/plain": [
       "   ngc  pasiva\n",
       "0    1       3\n",
       "1    2       4"
      ]
     },
     "execution_count": 14,
     "metadata": {},
     "output_type": "execute_result"
    }
   ],
   "source": [
    "df_pasivas = df_pasivas.reset_index()\n",
    "df_pasivas.head(2)"
   ]
  },
  {
   "cell_type": "markdown",
   "metadata": {},
   "source": [
    "**Match**"
   ]
  },
  {
   "cell_type": "code",
   "execution_count": 15,
   "metadata": {},
   "outputs": [],
   "source": [
    "df1_sort = df1.sort_values('i_gru', ignore_index=True).copy()\n",
    "df_pasivas_sort = df_pasivas.sort_values('ngc', ignore_index=True).copy()"
   ]
  },
  {
   "cell_type": "code",
   "execution_count": 16,
   "metadata": {},
   "outputs": [
    {
     "data": {
      "text/html": [
       "<div>\n",
       "<style scoped>\n",
       "    .dataframe tbody tr th:only-of-type {\n",
       "        vertical-align: middle;\n",
       "    }\n",
       "\n",
       "    .dataframe tbody tr th {\n",
       "        vertical-align: top;\n",
       "    }\n",
       "\n",
       "    .dataframe thead th {\n",
       "        text-align: right;\n",
       "    }\n",
       "</style>\n",
       "<table border=\"1\" class=\"dataframe\">\n",
       "  <thead>\n",
       "    <tr style=\"text-align: right;\">\n",
       "      <th></th>\n",
       "      <th>i_gru</th>\n",
       "      <th>n_m</th>\n",
       "      <th>Ra</th>\n",
       "      <th>dec</th>\n",
       "      <th>z</th>\n",
       "      <th>thete_g</th>\n",
       "      <th>mu</th>\n",
       "      <th>sigv</th>\n",
       "      <th>r_b</th>\n",
       "      <th>flag</th>\n",
       "      <th>rabs1</th>\n",
       "      <th>d_ij</th>\n",
       "      <th>tcr</th>\n",
       "      <th>rp</th>\n",
       "      <th>rabs2</th>\n",
       "      <th>Target</th>\n",
       "    </tr>\n",
       "  </thead>\n",
       "  <tbody>\n",
       "    <tr>\n",
       "      <th>0</th>\n",
       "      <td>1</td>\n",
       "      <td>4</td>\n",
       "      <td>114.842</td>\n",
       "      <td>45.103</td>\n",
       "      <td>0.078292</td>\n",
       "      <td>2.62</td>\n",
       "      <td>25.018</td>\n",
       "      <td>348.679</td>\n",
       "      <td>14.719</td>\n",
       "      <td>0</td>\n",
       "      <td>-22.375</td>\n",
       "      <td>0.143311</td>\n",
       "      <td>0.037275</td>\n",
       "      <td>87.756599</td>\n",
       "      <td>-20.608</td>\n",
       "      <td>Field</td>\n",
       "    </tr>\n",
       "    <tr>\n",
       "      <th>1</th>\n",
       "      <td>2</td>\n",
       "      <td>4</td>\n",
       "      <td>116.577</td>\n",
       "      <td>22.020</td>\n",
       "      <td>0.046817</td>\n",
       "      <td>4.09</td>\n",
       "      <td>25.289</td>\n",
       "      <td>274.092</td>\n",
       "      <td>14.289</td>\n",
       "      <td>0</td>\n",
       "      <td>-21.512</td>\n",
       "      <td>0.092313</td>\n",
       "      <td>0.030544</td>\n",
       "      <td>82.543709</td>\n",
       "      <td>-20.895</td>\n",
       "      <td>Loose</td>\n",
       "    </tr>\n",
       "  </tbody>\n",
       "</table>\n",
       "</div>"
      ],
      "text/plain": [
       "   i_gru  n_m       Ra     dec         z  thete_g       mu     sigv     r_b  \\\n",
       "0      1    4  114.842  45.103  0.078292      2.62  25.018  348.679  14.719   \n",
       "1      2    4  116.577  22.020  0.046817      4.09  25.289  274.092  14.289   \n",
       "\n",
       "   flag   rabs1      d_ij       tcr         rp   rabs2 Target  \n",
       "0     0 -22.375  0.143311  0.037275  87.756599 -20.608  Field  \n",
       "1     0 -21.512  0.092313  0.030544  82.543709 -20.895  Loose  "
      ]
     },
     "execution_count": 16,
     "metadata": {},
     "output_type": "execute_result"
    }
   ],
   "source": [
    "df1_sort.head(2)"
   ]
  },
  {
   "cell_type": "code",
   "execution_count": 17,
   "metadata": {},
   "outputs": [],
   "source": [
    "df_final = df1_sort.join(df_pasivas_sort)"
   ]
  },
  {
   "cell_type": "code",
   "execution_count": 18,
   "metadata": {},
   "outputs": [
    {
     "data": {
      "text/plain": [
       "(449, 18)"
      ]
     },
     "execution_count": 18,
     "metadata": {},
     "output_type": "execute_result"
    }
   ],
   "source": [
    "df_final.shape"
   ]
  },
  {
   "cell_type": "code",
   "execution_count": 19,
   "metadata": {},
   "outputs": [
    {
     "data": {
      "text/html": [
       "<div>\n",
       "<style scoped>\n",
       "    .dataframe tbody tr th:only-of-type {\n",
       "        vertical-align: middle;\n",
       "    }\n",
       "\n",
       "    .dataframe tbody tr th {\n",
       "        vertical-align: top;\n",
       "    }\n",
       "\n",
       "    .dataframe thead th {\n",
       "        text-align: right;\n",
       "    }\n",
       "</style>\n",
       "<table border=\"1\" class=\"dataframe\">\n",
       "  <thead>\n",
       "    <tr style=\"text-align: right;\">\n",
       "      <th></th>\n",
       "      <th>i_gru</th>\n",
       "      <th>n_m</th>\n",
       "      <th>Ra</th>\n",
       "      <th>dec</th>\n",
       "      <th>z</th>\n",
       "      <th>thete_g</th>\n",
       "      <th>mu</th>\n",
       "      <th>sigv</th>\n",
       "      <th>r_b</th>\n",
       "      <th>flag</th>\n",
       "      <th>rabs1</th>\n",
       "      <th>d_ij</th>\n",
       "      <th>tcr</th>\n",
       "      <th>rp</th>\n",
       "      <th>rabs2</th>\n",
       "      <th>Target</th>\n",
       "      <th>ngc</th>\n",
       "      <th>pasiva</th>\n",
       "    </tr>\n",
       "  </thead>\n",
       "  <tbody>\n",
       "    <tr>\n",
       "      <th>444</th>\n",
       "      <td>458</td>\n",
       "      <td>7</td>\n",
       "      <td>243.981</td>\n",
       "      <td>38.537</td>\n",
       "      <td>0.034782</td>\n",
       "      <td>6.091</td>\n",
       "      <td>26.202</td>\n",
       "      <td>138.779</td>\n",
       "      <td>14.577</td>\n",
       "      <td>1</td>\n",
       "      <td>-20.570</td>\n",
       "      <td>0.103047</td>\n",
       "      <td>0.067340</td>\n",
       "      <td>91.589798</td>\n",
       "      <td>-20.088</td>\n",
       "      <td>Field</td>\n",
       "      <td>458</td>\n",
       "      <td>3</td>\n",
       "    </tr>\n",
       "    <tr>\n",
       "      <th>445</th>\n",
       "      <td>459</td>\n",
       "      <td>4</td>\n",
       "      <td>244.410</td>\n",
       "      <td>50.641</td>\n",
       "      <td>0.041362</td>\n",
       "      <td>4.748</td>\n",
       "      <td>25.610</td>\n",
       "      <td>552.432</td>\n",
       "      <td>14.146</td>\n",
       "      <td>1</td>\n",
       "      <td>-21.441</td>\n",
       "      <td>0.099180</td>\n",
       "      <td>0.016282</td>\n",
       "      <td>84.761040</td>\n",
       "      <td>-20.121</td>\n",
       "      <td>Loose</td>\n",
       "      <td>459</td>\n",
       "      <td>3</td>\n",
       "    </tr>\n",
       "    <tr>\n",
       "      <th>446</th>\n",
       "      <td>460</td>\n",
       "      <td>5</td>\n",
       "      <td>245.283</td>\n",
       "      <td>13.159</td>\n",
       "      <td>0.034352</td>\n",
       "      <td>3.715</td>\n",
       "      <td>24.912</td>\n",
       "      <td>247.585</td>\n",
       "      <td>14.328</td>\n",
       "      <td>1</td>\n",
       "      <td>-20.778</td>\n",
       "      <td>0.079042</td>\n",
       "      <td>0.028953</td>\n",
       "      <td>55.171383</td>\n",
       "      <td>-19.839</td>\n",
       "      <td>Loose</td>\n",
       "      <td>460</td>\n",
       "      <td>3</td>\n",
       "    </tr>\n",
       "    <tr>\n",
       "      <th>447</th>\n",
       "      <td>461</td>\n",
       "      <td>4</td>\n",
       "      <td>247.547</td>\n",
       "      <td>36.247</td>\n",
       "      <td>0.075265</td>\n",
       "      <td>3.671</td>\n",
       "      <td>25.664</td>\n",
       "      <td>383.398</td>\n",
       "      <td>14.479</td>\n",
       "      <td>1</td>\n",
       "      <td>-22.477</td>\n",
       "      <td>0.160493</td>\n",
       "      <td>0.037964</td>\n",
       "      <td>118.280334</td>\n",
       "      <td>-20.026</td>\n",
       "      <td>Field</td>\n",
       "      <td>461</td>\n",
       "      <td>3</td>\n",
       "    </tr>\n",
       "    <tr>\n",
       "      <th>448</th>\n",
       "      <td>462</td>\n",
       "      <td>5</td>\n",
       "      <td>250.332</td>\n",
       "      <td>13.424</td>\n",
       "      <td>0.050796</td>\n",
       "      <td>4.130</td>\n",
       "      <td>24.858</td>\n",
       "      <td>268.188</td>\n",
       "      <td>13.764</td>\n",
       "      <td>1</td>\n",
       "      <td>-22.276</td>\n",
       "      <td>0.112063</td>\n",
       "      <td>0.037895</td>\n",
       "      <td>90.346329</td>\n",
       "      <td>-21.427</td>\n",
       "      <td>Loose</td>\n",
       "      <td>462</td>\n",
       "      <td>5</td>\n",
       "    </tr>\n",
       "  </tbody>\n",
       "</table>\n",
       "</div>"
      ],
      "text/plain": [
       "     i_gru  n_m       Ra     dec         z  thete_g       mu     sigv     r_b  \\\n",
       "444    458    7  243.981  38.537  0.034782     6.091  26.202  138.779  14.577   \n",
       "445    459    4  244.410  50.641  0.041362     4.748  25.610  552.432  14.146   \n",
       "446    460    5  245.283  13.159  0.034352     3.715  24.912  247.585  14.328   \n",
       "447    461    4  247.547  36.247  0.075265     3.671  25.664  383.398  14.479   \n",
       "448    462    5  250.332  13.424  0.050796     4.130  24.858  268.188  13.764   \n",
       "\n",
       "     flag   rabs1      d_ij       tcr          rp   rabs2 Target  ngc  pasiva  \n",
       "444     1 -20.570  0.103047  0.067340   91.589798 -20.088  Field  458       3  \n",
       "445     1 -21.441  0.099180  0.016282   84.761040 -20.121  Loose  459       3  \n",
       "446     1 -20.778  0.079042  0.028953   55.171383 -19.839  Loose  460       3  \n",
       "447     1 -22.477  0.160493  0.037964  118.280334 -20.026  Field  461       3  \n",
       "448     1 -22.276  0.112063  0.037895   90.346329 -21.427  Loose  462       5  "
      ]
     },
     "execution_count": 19,
     "metadata": {},
     "output_type": "execute_result"
    }
   ],
   "source": [
    "df_final.tail()"
   ]
  },
  {
   "cell_type": "code",
   "execution_count": 20,
   "metadata": {},
   "outputs": [
    {
     "data": {
      "text/plain": [
       "Index(['i_gru', 'n_m', 'Ra', 'dec', 'z', 'thete_g ', 'mu', 'sigv', 'r_b',\n",
       "       'flag', 'rabs1', 'd_ij', 'tcr', 'rp', 'rabs2', 'Target', 'ngc',\n",
       "       'pasiva'],\n",
       "      dtype='object')"
      ]
     },
     "execution_count": 20,
     "metadata": {},
     "output_type": "execute_result"
    }
   ],
   "source": [
    "df_final.columns"
   ]
  },
  {
   "cell_type": "code",
   "execution_count": 21,
   "metadata": {},
   "outputs": [],
   "source": [
    "#df_final.to_csv('df_pasiva.csv', index=False)"
   ]
  },
  {
   "cell_type": "code",
   "execution_count": 22,
   "metadata": {},
   "outputs": [
    {
     "data": {
      "text/plain": [
       "0.75"
      ]
     },
     "execution_count": 22,
     "metadata": {},
     "output_type": "execute_result"
    }
   ],
   "source": [
    "df_final['pasiva'].iloc[0]/df_final['n_m'].iloc[0]"
   ]
  },
  {
   "cell_type": "code",
   "execution_count": 23,
   "metadata": {},
   "outputs": [],
   "source": [
    "frecuencia = []\n",
    "for i in range(df_final.shape[0]):\n",
    "    frac = df_final.pasiva.iloc[i]/df_final.n_m.iloc[i]\n",
    "    frecuencia.append(frac)"
   ]
  },
  {
   "cell_type": "code",
   "execution_count": 24,
   "metadata": {},
   "outputs": [
    {
     "data": {
      "text/plain": [
       "449"
      ]
     },
     "execution_count": 24,
     "metadata": {},
     "output_type": "execute_result"
    }
   ],
   "source": [
    "len(frecuencia)"
   ]
  },
  {
   "cell_type": "code",
   "execution_count": 25,
   "metadata": {},
   "outputs": [],
   "source": [
    "frecu_03 = list(map(lambda x: round(x, 3), frecuencia))"
   ]
  },
  {
   "cell_type": "code",
   "execution_count": 26,
   "metadata": {},
   "outputs": [
    {
     "data": {
      "text/plain": [
       "449"
      ]
     },
     "execution_count": 26,
     "metadata": {},
     "output_type": "execute_result"
    }
   ],
   "source": [
    "len(frecu_03)"
   ]
  },
  {
   "cell_type": "code",
   "execution_count": 27,
   "metadata": {},
   "outputs": [],
   "source": [
    "df_final['frac'] = frecu_03"
   ]
  },
  {
   "cell_type": "code",
   "execution_count": 28,
   "metadata": {},
   "outputs": [],
   "source": [
    "clases = list(set(df_final.Target))\n",
    "clases = ['Node', 'FIl', 'Loose', 'Field', 'VoiS', 'VoiR']\n",
    "#['Node', 'VoiR', 'Loose', 'Field', 'FIl', 'VoiS']"
   ]
  },
  {
   "cell_type": "markdown",
   "metadata": {},
   "source": [
    "### Fracción de galaxias pasivas sin distinguir por entorno"
   ]
  },
  {
   "cell_type": "code",
   "execution_count": 29,
   "metadata": {},
   "outputs": [
    {
     "data": {
      "text/plain": [
       "<AxesSubplot:>"
      ]
     },
     "execution_count": 29,
     "metadata": {},
     "output_type": "execute_result"
    },
    {
     "data": {
      "image/png": "[encoded data removed]",
      "text/plain": [
       "<Figure size 432x288 with 1 Axes>"
      ]
     },
     "metadata": {
      "needs_background": "light"
     },
     "output_type": "display_data"
    }
   ],
   "source": [
    "df_final.frac.hist()"
   ]
  },
  {
   "cell_type": "raw",
   "metadata": {},
   "source": [
    "for entorno in clases:\n",
    "    df_final[df_final['Target']==entorno].frac.hist()\n",
    "    plt.title(entorno)\n",
    "    plt.show()"
   ]
  },
  {
   "cell_type": "raw",
   "metadata": {},
   "source": [
    "matplotlib.rcParams['figure.figsize'] = 10, 8\n",
    "for entorno in clases:\n",
    "    df_bar = df_final[df_final['Target']==entorno].sort_values('frac')\n",
    "    ax = sns.countplot(x=\"frac\", data= df_bar)\n",
    "    ax.set_xticklabels(ax.get_xticklabels(), rotation=70, ha=\"right\")\n",
    "    sns.despine()\n",
    "    plt.title(entorno)\n",
    "    plt.show()"
   ]
  },
  {
   "cell_type": "code",
   "execution_count": 30,
   "metadata": {},
   "outputs": [
    {
     "data": {
      "text/plain": [
       "['Node', 'FIl', 'Loose', 'Field', 'VoiS', 'VoiR']"
      ]
     },
     "execution_count": 30,
     "metadata": {},
     "output_type": "execute_result"
    }
   ],
   "source": [
    "clases"
   ]
  },
  {
   "cell_type": "markdown",
   "metadata": {},
   "source": [
    "### Diagrama de barras  de fracción de  galaxias pasivas por entorno"
   ]
  },
  {
   "cell_type": "code",
   "execution_count": 31,
   "metadata": {},
   "outputs": [
    {
     "data": {
      "text/plain": [
       "<Figure size 1440x5760 with 0 Axes>"
      ]
     },
     "metadata": {},
     "output_type": "display_data"
    },
    {
     "data": {
      "image/png": "[encoded data removed]",
      "text/plain": [
       "<Figure size 720x576 with 6 Axes>"
      ]
     },
     "metadata": {
      "needs_background": "light"
     },
     "output_type": "display_data"
    }
   ],
   "source": [
    "plt.rcParams['figure.figsize'] = 10, 8\n",
    "plt.figure(figsize=(20,80))\n",
    "\n",
    "\n",
    "####subfiguras\n",
    "f, ax = plt.subplots(2,3)\n",
    "\n",
    "plt.subplots_adjust(left=None, bottom=None, right=None, top=None, wspace=0.4, hspace=1.5)\n",
    "\n",
    "df_bar = df_final[df_final['Target']==clases[0]].sort_values('frac')\n",
    "sns.countplot(x=\"frac\", data= df_bar, ax=ax[0,0])\n",
    "ax[0,0].set_xticklabels(ax[0,0].get_xticklabels(), rotation=70, ha=\"right\")\n",
    "ax[0,0].set_title(clases[0])\n",
    "\n",
    "\n",
    "df_bar = df_final[df_final['Target']==clases[1]].sort_values('frac')\n",
    "sns.countplot(x=\"frac\", data= df_bar, ax=ax[0,1])\n",
    "ax[0,1].set_xticklabels(ax[0,1].get_xticklabels(), rotation=70, ha=\"right\")\n",
    "sns.despine()\n",
    "ax[0,1].set_title(clases[1])\n",
    "\n",
    "\n",
    "\n",
    "df_bar = df_final[df_final['Target']==clases[2]].sort_values('frac')\n",
    "sns.countplot(x=\"frac\", data= df_bar, ax=ax[0,2])\n",
    "ax[0,2].set_xticklabels(ax[0,2].get_xticklabels(), rotation=70, ha=\"right\")\n",
    "sns.despine()\n",
    "ax[0,2].set_title(clases[2])\n",
    "\n",
    "\n",
    "\n",
    "df_bar = df_final[df_final['Target']==clases[3]].sort_values('frac')\n",
    "sns.countplot(x=\"frac\", data= df_bar, ax=ax[1,0])\n",
    "ax[1,0].set_xticklabels(ax[1,0].get_xticklabels(), rotation=70, ha=\"right\")\n",
    "sns.despine()\n",
    "ax[1,0].set_title(clases[3])\n",
    "\n",
    "\n",
    "df_bar = df_final[df_final['Target']==clases[4]].sort_values('frac')\n",
    "sns.countplot(x=\"frac\", data= df_bar, ax=ax[1,1])\n",
    "ax[1,1].set_xticklabels(ax[1,1].get_xticklabels(), rotation=70, ha=\"right\")\n",
    "sns.despine()\n",
    "ax[1,1].set_title(clases[4])\n",
    "\n",
    "\n",
    "sns.countplot(x=\"frac\", data= df_final, ax=ax[1,2])\n",
    "ax[1,2].set_xticklabels(ax[1,2].get_xticklabels(), rotation=70, ha=\"right\")\n",
    "sns.despine()\n",
    "ax[1,2].set_title('mean')\n",
    "\n",
    "#plt.savefig('bar_frac.pdf', format ='pdf',  bbox_inches='tight')\n",
    "plt.show()"
   ]
  },
  {
   "cell_type": "code",
   "execution_count": 32,
   "metadata": {},
   "outputs": [
    {
     "data": {
      "text/plain": [
       "(47, 19)"
      ]
     },
     "execution_count": 32,
     "metadata": {},
     "output_type": "execute_result"
    }
   ],
   "source": [
    "df_final[df_final['Target']==clases[0]].shape"
   ]
  },
  {
   "cell_type": "code",
   "execution_count": 33,
   "metadata": {},
   "outputs": [],
   "source": [
    "frac_index = list(set(df_final.frac))"
   ]
  },
  {
   "cell_type": "markdown",
   "metadata": {},
   "source": [
    "### Diagrama de barras  de fracción de  galaxias pasivas por entorno"
   ]
  },
  {
   "cell_type": "code",
   "execution_count": 34,
   "metadata": {},
   "outputs": [
    {
     "name": "stderr",
     "output_type": "stream",
     "text": [
      "/home/vane/anaconda3/envs/machine-learning/lib/python3.7/site-packages/ipykernel_launcher.py:11: UserWarning: FixedFormatter should only be used together with FixedLocator\n",
      "  # This is added back by InteractiveShellApp.init_path()\n",
      "/home/vane/anaconda3/envs/machine-learning/lib/python3.7/site-packages/ipykernel_launcher.py:17: UserWarning: FixedFormatter should only be used together with FixedLocator\n",
      "/home/vane/anaconda3/envs/machine-learning/lib/python3.7/site-packages/ipykernel_launcher.py:25: UserWarning: FixedFormatter should only be used together with FixedLocator\n",
      "/home/vane/anaconda3/envs/machine-learning/lib/python3.7/site-packages/ipykernel_launcher.py:33: UserWarning: FixedFormatter should only be used together with FixedLocator\n",
      "/home/vane/anaconda3/envs/machine-learning/lib/python3.7/site-packages/ipykernel_launcher.py:40: UserWarning: FixedFormatter should only be used together with FixedLocator\n",
      "/home/vane/anaconda3/envs/machine-learning/lib/python3.7/site-packages/ipykernel_launcher.py:46: UserWarning: FixedFormatter should only be used together with FixedLocator\n"
     ]
    },
    {
     "data": {
      "text/plain": [
       "<Figure size 1440x5760 with 0 Axes>"
      ]
     },
     "metadata": {},
     "output_type": "display_data"
    },
    {
     "data": {
      "image/png": "[encoded data removed]",
      "text/plain": [
       "<Figure size 720x576 with 6 Axes>"
      ]
     },
     "metadata": {
      "needs_background": "light"
     },
     "output_type": "display_data"
    }
   ],
   "source": [
    "plt.figure(figsize=(20,80))\n",
    "\n",
    "\n",
    "####subfiguras\n",
    "f, ax = plt.subplots(2,3)\n",
    "\n",
    "plt.subplots_adjust(left=None, bottom=None, right=None, top=None, wspace=0.4, hspace=1.5)\n",
    "\n",
    "df_bar = df_final[df_final['Target']==clases[0]].sort_values('frac')\n",
    "sns.boxplot(x=\"frac\", data=df_bar, ax=ax[0,0])\n",
    "ax[0,0].set_xticklabels(ax[0,0].get_xticklabels(), rotation=70, ha=\"right\")\n",
    "ax[0,0].set_title(clases[0])\n",
    "\n",
    "\n",
    "df_bar = df_final[df_final['Target']==clases[1]].sort_values('frac')\n",
    "sns.boxplot(x=\"frac\", data=df_bar, ax=ax[0,1])\n",
    "ax[0,1].set_xticklabels(ax[0,1].get_xticklabels(), rotation=70, ha=\"right\")\n",
    "sns.despine()\n",
    "ax[0,1].set_title(clases[1])\n",
    "\n",
    "\n",
    "\n",
    "df_bar = df_final[df_final['Target']==clases[2]].sort_values('frac')\n",
    "sns.boxplot(x=\"frac\", data= df_bar, ax=ax[0,2])\n",
    "ax[0,2].set_xticklabels(ax[0,2].get_xticklabels(), rotation=70, ha=\"right\")\n",
    "sns.despine()\n",
    "ax[0,2].set_title(clases[2])\n",
    "\n",
    "\n",
    "\n",
    "df_bar = df_final[df_final['Target']==clases[3]].sort_values('frac')\n",
    "sns.boxplot(x=\"frac\", data= df_bar, ax=ax[1,0])\n",
    "ax[1,0].set_xticklabels(ax[1,0].get_xticklabels(), rotation=70, ha=\"right\")\n",
    "sns.despine()\n",
    "ax[1,0].set_title(clases[3])\n",
    "\n",
    "\n",
    "df_bar = df_final[df_final['Target']==clases[4]].sort_values('frac')\n",
    "sns.boxplot(x=\"frac\", data= df_bar, ax=ax[1,1])\n",
    "ax[1,1].set_xticklabels(ax[1,1].get_xticklabels(), rotation=70, ha=\"right\")\n",
    "sns.despine()\n",
    "ax[1,1].set_title(clases[4])\n",
    "\n",
    "\n",
    "sns.boxplot(x=\"frac\", data= df_final, ax=ax[1,2])\n",
    "ax[1,2].set_xticklabels(ax[1,2].get_xticklabels(), rotation=70, ha=\"right\")\n",
    "sns.despine()\n",
    "ax[1,2].set_title('mean')\n",
    "\n",
    "#plt.savefig('hist_box.pdf', format ='pdf',  bbox_inches='tight')\n",
    "plt.show()"
   ]
  },
  {
   "cell_type": "code",
   "execution_count": 35,
   "metadata": {},
   "outputs": [
    {
     "data": {
      "text/plain": [
       "Text(0, 0.5, 'fraction of passive galaxies')"
      ]
     },
     "execution_count": 35,
     "metadata": {},
     "output_type": "execute_result"
    },
    {
     "data": {
      "image/png": "[encoded data removed]",
      "text/plain": [
       "<Figure size 720x576 with 1 Axes>"
      ]
     },
     "metadata": {
      "needs_background": "light"
     },
     "output_type": "display_data"
    }
   ],
   "source": [
    "sns.boxplot(x='Target', y=\"frac\", data=df_final,  palette=\"husl\", notch= True)\n",
    "plt.ylabel('fraction of passive galaxies')\n",
    "#plt.savefig('box_frac.pdf', format ='pdf',  bbox_inches='tight')"
   ]
  },
  {
   "cell_type": "code",
   "execution_count": 36,
   "metadata": {},
   "outputs": [
    {
     "data": {
      "image/png": "[encoded data removed]",
      "text/plain": [
       "<Figure size 360x360 with 1 Axes>"
      ]
     },
     "metadata": {
      "needs_background": "light"
     },
     "output_type": "display_data"
    }
   ],
   "source": [
    "plt.figure(figsize=(5,5))\n",
    "my_pal = {\"Node\":\"red\",\"FIl\":\"#EE4000\", \"Loose\":\"Magenta\", \"Field\":\"blue\", \"VoiS\":\"Darkgreen\", \"VoiR\":\"#008B8B\"}\n",
    "sns.boxplot(x=df_final.Target, y=df_final.frac, notch= True, order=[ \n",
    "                 'Node',  'FIl', 'Loose', 'Field', 'VoiS', 'VoiR'], palette=my_pal)\n",
    "#, width=[0.5, 0.2, 1, 0.8, 0.4, 0.3]\n",
    "plt.ylabel('Fraction of red galaxies in CGs')\n",
    "plt.xlabel('Host environment')\n",
    "plt.savefig('box_frac.pdf', format ='pdf',  bbox_inches='tight')"
   ]
  },
  {
   "cell_type": "code",
   "execution_count": 37,
   "metadata": {},
   "outputs": [
    {
     "data": {
      "text/plain": [
       "(47, 19)"
      ]
     },
     "execution_count": 37,
     "metadata": {},
     "output_type": "execute_result"
    }
   ],
   "source": [
    "df_final[df_final['Target']==clases[0]].shape"
   ]
  },
  {
   "cell_type": "code",
   "execution_count": 38,
   "metadata": {},
   "outputs": [
    {
     "data": {
      "text/plain": [
       "{'FIl', 'Field', 'Loose', 'Node', 'VoiR', 'VoiS'}"
      ]
     },
     "execution_count": 38,
     "metadata": {},
     "output_type": "execute_result"
    }
   ],
   "source": [
    "set(df_final.Target)"
   ]
  },
  {
   "cell_type": "code",
   "execution_count": 39,
   "metadata": {},
   "outputs": [],
   "source": [
    "from matplotlib.cbook import boxplot_stats"
   ]
  },
  {
   "cell_type": "code",
   "execution_count": 40,
   "metadata": {},
   "outputs": [
    {
     "data": {
      "text/plain": [
       "'Node-frac'"
      ]
     },
     "metadata": {},
     "output_type": "display_data"
    },
    {
     "data": {
      "text/plain": [
       "1.0"
      ]
     },
     "metadata": {},
     "output_type": "display_data"
    },
    {
     "data": {
      "text/plain": [
       "0.05725200916292361"
      ]
     },
     "metadata": {},
     "output_type": "display_data"
    },
    {
     "data": {
      "text/plain": [
       "'FIl-frac'"
      ]
     },
     "metadata": {},
     "output_type": "display_data"
    },
    {
     "data": {
      "text/plain": [
       "0.75"
      ]
     },
     "metadata": {},
     "output_type": "display_data"
    },
    {
     "data": {
      "text/plain": [
       "0.11574193558159429"
      ]
     },
     "metadata": {},
     "output_type": "display_data"
    },
    {
     "data": {
      "text/plain": [
       "'Loose-frac'"
      ]
     },
     "metadata": {},
     "output_type": "display_data"
    },
    {
     "data": {
      "text/plain": [
       "0.75"
      ]
     },
     "metadata": {},
     "output_type": "display_data"
    },
    {
     "data": {
      "text/plain": [
       "0.05326626478390217"
      ]
     },
     "metadata": {},
     "output_type": "display_data"
    },
    {
     "data": {
      "text/plain": [
       "'Field-frac'"
      ]
     },
     "metadata": {},
     "output_type": "display_data"
    },
    {
     "data": {
      "text/plain": [
       "0.75"
      ]
     },
     "metadata": {},
     "output_type": "display_data"
    },
    {
     "data": {
      "text/plain": [
       "0.028626004581461806"
      ]
     },
     "metadata": {},
     "output_type": "display_data"
    },
    {
     "data": {
      "text/plain": [
       "'VoiS-frac'"
      ]
     },
     "metadata": {},
     "output_type": "display_data"
    },
    {
     "data": {
      "text/plain": [
       "0.6605"
      ]
     },
     "metadata": {},
     "output_type": "display_data"
    },
    {
     "data": {
      "text/plain": [
       "0.09215395152271011"
      ]
     },
     "metadata": {},
     "output_type": "display_data"
    },
    {
     "data": {
      "text/plain": [
       "'VoiR-frac'"
      ]
     },
     "metadata": {},
     "output_type": "display_data"
    },
    {
     "data": {
      "text/plain": [
       "0.5"
      ]
     },
     "metadata": {},
     "output_type": "display_data"
    },
    {
     "data": {
      "text/plain": [
       "0.13083333333333336"
      ]
     },
     "metadata": {},
     "output_type": "display_data"
    }
   ],
   "source": [
    "Node = df_final[df_final['Target']=='Node']\n",
    "display('Node-frac')\n",
    "display(boxplot_stats(Node.frac)[0]['med'],\n",
    "boxplot_stats(Node.frac)[0]['cihi']-boxplot_stats(Node.frac)[0]['med'])\n",
    "\n",
    "FIl = df_final[df_final['Target']=='FIl']\n",
    "display('FIl-frac')\n",
    "display(boxplot_stats(FIl.frac)[0]['med'],\n",
    "boxplot_stats(FIl.frac)[0]['cihi']-boxplot_stats(FIl.frac)[0]['med'])\n",
    "\n",
    "Loose = df_final[df_final['Target']=='Loose']\n",
    "display('Loose-frac')\n",
    "display(boxplot_stats(Loose.frac)[0]['med'],\n",
    "boxplot_stats(Loose.frac)[0]['cihi']-boxplot_stats(Loose.frac)[0]['med'])\n",
    "\n",
    "Field = df_final[df_final['Target']=='Field']\n",
    "display('Field-frac')\n",
    "display(boxplot_stats(Field.frac)[0]['med'],\n",
    "boxplot_stats(Field.frac)[0]['cihi']-boxplot_stats(Field.frac)[0]['med'])\n",
    "\n",
    "VoiS = df_final[df_final['Target']=='VoiS']\n",
    "display('VoiS-frac')\n",
    "display(boxplot_stats(VoiS.frac)[0]['med'],\n",
    "boxplot_stats(VoiS.frac)[0]['cihi']-boxplot_stats(VoiS.frac)[0]['med'])\n",
    "\n",
    "VoiR = df_final[df_final['Target']=='VoiR']\n",
    "display('VoiR-frac')\n",
    "display(boxplot_stats(VoiR.frac)[0]['med'],\n",
    "boxplot_stats(VoiR.frac)[0]['cihi']-boxplot_stats(VoiR.frac)[0]['med'])"
   ]
  },
  {
   "cell_type": "raw",
   "metadata": {},
   "source": [
    "df_bar = df_final.groupby([\"Target\"])[\"frac\"].mean()\n",
    "# Normalize result\n",
    "df_bar_pct = df_bar.sort_values().div(df_bar.sum(), axis=0)\n",
    "\n",
    "\n",
    "ax = df_bar_pct.plot(kind='bar', figsize=(15,4), width=0.8)\n",
    "\n",
    "for p in ax.patches:\n",
    "    width = p.get_width()\n",
    "    height = p.get_height()\n",
    "    x, y = p.get_xy() \n",
    "    ax.annotate(f'{height:.0%}', (x + width/2, y + height*1.00), ha='center')\n",
    "    \n",
    "plt.savefig('bar.eps',format='eps')"
   ]
  },
  {
   "cell_type": "markdown",
   "metadata": {},
   "source": [
    "# Tomando 7 GCs de forma aleatoria de cada entorno. "
   ]
  },
  {
   "cell_type": "markdown",
   "metadata": {},
   "source": [
    "**Submuestras**"
   ]
  },
  {
   "cell_type": "raw",
   "metadata": {},
   "source": [
    "df_c0 = df_final[df_final['Target']==clases[0]].sort_values('frac') # Tomo la clase cero\n",
    "c = list(range(0, df_c0.shape[0])) # Defino una lista haciendo uso de la dim del df_c0\n",
    "aleatorios = random.sample(c, df_c0.shape[0]) # A esa lista c le doy un 'orden' aleatorio\n",
    "index = aleatorios \n",
    "dfa_c0 = pd.DataFrame(df_c0.frac.values, index=index) # Esa nueva lista la uso para definir el index de un nuevo df_c0 pero sin orden\n",
    "dfa_c0 = dfa_c0[0:8] # Tomo 7 gcs de la clase, entiendase clase a los GCs que pertenecen a un dado entorno\n",
    "\n",
    "\n",
    "df_c1 = df_final[df_final['Target']==clases[1]].sort_values('frac')\n",
    "c = list(range(0, df_c1.shape[0]))\n",
    "aleatorios = random.sample(c, df_c1.shape[0])\n",
    "index = aleatorios\n",
    "dfa_c1 = pd.DataFrame(df_c1.frac.values, index=index)\n",
    "dfa_c1 = dfa_c1[0:8]\n",
    "\n",
    "\n",
    "df_c2 = df_final[df_final['Target']==clases[2]].sort_values('frac')\n",
    "c = list(range(0, df_c2.shape[0]))\n",
    "aleatorios = random.sample(c, df_c2.shape[0])\n",
    "index = aleatorios\n",
    "dfa_c2 = pd.DataFrame(df_c2.frac.values, index=index)\n",
    "dfa_c2 = dfa_c2[0:8]\n",
    "\n",
    "\n",
    "df_c3 = df_final[df_final['Target']==clases[3]].sort_values('frac')\n",
    "c = list(range(0, df_c3.shape[0]))\n",
    "aleatorios = random.sample(c, df_c3.shape[0])\n",
    "index = aleatorios\n",
    "dfa_c3 = pd.DataFrame(df_c3.frac.values, index=index)\n",
    "dfa_c3 = dfa_c3[0:8]\n",
    "\n",
    "\n",
    "df_c4 = df_final[df_final['Target']==clases[4]].sort_values('frac')\n",
    "c = list(range(0, df_c4.shape[0]))\n",
    "aleatorios = random.sample(c, df_c4.shape[0])\n",
    "index = aleatorios\n",
    "dfa_c4 = pd.DataFrame(df_c4.frac.values, index=index)\n",
    "dfa_c4 = dfa_c4[0:8]\n",
    "\n",
    "\n",
    "df_c5 = df_final[df_final['Target']==clases[5]].sort_values('frac')\n",
    "c = list(range(0, df_c5.shape[0]))\n",
    "aleatorios = random.sample(c, df_c5.shape[0])\n",
    "index = aleatorios\n",
    "dfa_c5 = pd.DataFrame(df_c5.frac.values, index=index)\n",
    "dfa_c5 = dfa_c5[0:8]"
   ]
  },
  {
   "cell_type": "raw",
   "metadata": {},
   "source": [
    "df_frac = pd.DataFrame(dfa_c0.values, columns=['VoidR'])\n",
    "df_frac['VoidS'] = dfa_c1.values\n",
    "df_frac['Loose'] = dfa_c2.values\n",
    "df_frac['Field'] = dfa_c3.values\n",
    "df_frac['Node'] = dfa_c4.values\n",
    "df_frac['FIl'] = dfa_c5.values"
   ]
  },
  {
   "cell_type": "raw",
   "metadata": {},
   "source": [
    "df_frac"
   ]
  },
  {
   "cell_type": "raw",
   "metadata": {},
   "source": [
    "voidR = pd.DataFrame(Counter(df_frac.VoidR).values(), index=Counter(df_frac.VoidR).keys(), columns=['voidR'])\n",
    "voidS = pd.DataFrame(Counter(df_frac.VoidS).values(), index=Counter(df_frac.VoidS).keys(), columns=['voidS'])\n",
    "Loose = pd.DataFrame(Counter(df_frac.Loose).values(), index=Counter(df_frac.Loose).keys(), columns=['Loose'])\n",
    "Field = pd.DataFrame(Counter(df_frac.Field).values(), index=Counter(df_frac.Field).keys(), columns=['Field'])\n",
    "Node = pd.DataFrame(Counter(df_frac.Node).values(), index=Counter(df_frac.Node).keys(), columns=['Node'])\n",
    "FIl = pd.DataFrame(Counter(df_frac.FIl).values(), index=Counter(df_frac.FIl).keys(), columns=['FIl'])"
   ]
  },
  {
   "cell_type": "raw",
   "metadata": {},
   "source": [
    "df_12 = pd.concat([Node, FIl, Loose, Field, voidS, voidR], axis=1)"
   ]
  },
  {
   "cell_type": "raw",
   "metadata": {},
   "source": [
    "df_12"
   ]
  },
  {
   "cell_type": "raw",
   "metadata": {},
   "source": [
    "# Make a list by cycling through the colors you care about\n",
    "# to match the length of your data.\n",
    "from itertools import cycle, islice\n",
    "my_colors = list(islice(cycle([\"red\", \"Orange\", \"Magenta\", \"blue\", \"Darkgreen\", \"Purple\"]), None, len(df_12)))\n",
    "#color = [\"red\", \"Orange\", \"Magenta\", \"blue\", \"Darkgreen\", \"Purple\"]\n",
    "df_12.plot(kind='bar', stacked=True, color=my_colors, grid=True)\n",
    "plt.xlabel('Frac')\n",
    "plt.ylabel('count')\n",
    "plt.savefig('cg7.eps',format='eps')"
   ]
  },
  {
   "cell_type": "code",
   "execution_count": 41,
   "metadata": {},
   "outputs": [
    {
     "data": {
      "text/plain": [
       "(47, 19)"
      ]
     },
     "execution_count": 41,
     "metadata": {},
     "output_type": "execute_result"
    }
   ],
   "source": [
    "df_final[df_final['Target']==clases[0]].shape"
   ]
  },
  {
   "cell_type": "markdown",
   "metadata": {},
   "source": [
    "# Misma figura pero sin considerar submuestras"
   ]
  },
  {
   "cell_type": "code",
   "execution_count": 42,
   "metadata": {},
   "outputs": [
    {
     "data": {
      "text/plain": [
       "(47, 1)"
      ]
     },
     "metadata": {},
     "output_type": "display_data"
    },
    {
     "data": {
      "text/html": [
       "<div>\n",
       "<style scoped>\n",
       "    .dataframe tbody tr th:only-of-type {\n",
       "        vertical-align: middle;\n",
       "    }\n",
       "\n",
       "    .dataframe tbody tr th {\n",
       "        vertical-align: top;\n",
       "    }\n",
       "\n",
       "    .dataframe thead th {\n",
       "        text-align: right;\n",
       "    }\n",
       "</style>\n",
       "<table border=\"1\" class=\"dataframe\">\n",
       "  <thead>\n",
       "    <tr style=\"text-align: right;\">\n",
       "      <th></th>\n",
       "      <th>Node</th>\n",
       "      <th>FIl</th>\n",
       "      <th>Loose</th>\n",
       "      <th>Field</th>\n",
       "      <th>VoiS</th>\n",
       "      <th>VoiR</th>\n",
       "    </tr>\n",
       "  </thead>\n",
       "  <tbody>\n",
       "    <tr>\n",
       "      <th>0.000</th>\n",
       "      <td>NaN</td>\n",
       "      <td>1.0</td>\n",
       "      <td>5.0</td>\n",
       "      <td>6.0</td>\n",
       "      <td>1.0</td>\n",
       "      <td>NaN</td>\n",
       "    </tr>\n",
       "    <tr>\n",
       "      <th>0.167</th>\n",
       "      <td>NaN</td>\n",
       "      <td>NaN</td>\n",
       "      <td>NaN</td>\n",
       "      <td>1.0</td>\n",
       "      <td>NaN</td>\n",
       "      <td>NaN</td>\n",
       "    </tr>\n",
       "  </tbody>\n",
       "</table>\n",
       "</div>"
      ],
      "text/plain": [
       "       Node  FIl  Loose  Field  VoiS  VoiR\n",
       "0.000   NaN  1.0    5.0    6.0   1.0   NaN\n",
       "0.167   NaN  NaN    NaN    1.0   NaN   NaN"
      ]
     },
     "metadata": {},
     "output_type": "display_data"
    }
   ],
   "source": [
    "df_c0 = df_final[df_final['Target']==clases[0]].sort_values('frac') # Tomo la clase cero\n",
    "dfa_c0 = pd.DataFrame(df_c0.frac.values) # Esa nueva lista la uso para definir el index de un nuevo df_c0 pero sin orden\n",
    "display(dfa_c0.shape)\n",
    "\n",
    "df_c1 = df_final[df_final['Target']==clases[1]].sort_values('frac')\n",
    "dfa_c1 = pd.DataFrame(df_c1.frac.values)\n",
    "\n",
    "\n",
    "df_c2 = df_final[df_final['Target']==clases[2]].sort_values('frac')\n",
    "dfa_c2 = pd.DataFrame(df_c2.frac.values)\n",
    "\n",
    "\n",
    "df_c3 = df_final[df_final['Target']==clases[3]].sort_values('frac')\n",
    "dfa_c3 = pd.DataFrame(df_c3.frac.values)\n",
    "\n",
    "\n",
    "df_c4 = df_final[df_final['Target']==clases[4]].sort_values('frac')\n",
    "dfa_c4 = pd.DataFrame(df_c4.frac.values)\n",
    "\n",
    "\n",
    "df_c5 = df_final[df_final['Target']==clases[5]].sort_values('frac')\n",
    "dfa_c5 = pd.DataFrame(df_c5.frac.values)\n",
    "\n",
    "#########################################################################################\n",
    "Node = pd.DataFrame(Counter(df_c0.frac).values(), index=Counter(df_c0.frac).keys(), columns=['Node'])\n",
    "FIl = pd.DataFrame(Counter(df_c1.frac).values(), index=Counter(df_c1.frac).keys(), columns=['FIl'])\n",
    "Loose = pd.DataFrame(Counter(df_c2.frac).values(), index=Counter(df_c2.frac).keys(), columns=['Loose'])\n",
    "Field = pd.DataFrame(Counter(df_c3.frac).values(), index=Counter(df_c3.frac).keys(), columns=['Field'])\n",
    "VoiS = pd.DataFrame(Counter(df_c4.frac).values(), index=Counter(df_c4.frac).keys(), columns=['VoiS'])\n",
    "VoiR = pd.DataFrame(Counter(df_c5.frac).values(), index=Counter(df_c5.frac).keys(), columns=['VoiR'])\n",
    "\n",
    "#'Node', 'Fil', 'Loose', 'Field', 'VoidS', 'VoidR'\n",
    "df_12_19 = pd.concat([Node, FIl, Loose, Field, VoiS, VoiR], axis=1)\n",
    "display(df_12_19.head(2))"
   ]
  },
  {
   "cell_type": "code",
   "execution_count": 43,
   "metadata": {},
   "outputs": [
    {
     "data": {
      "text/plain": [
       "(20,)"
      ]
     },
     "execution_count": 43,
     "metadata": {},
     "output_type": "execute_result"
    }
   ],
   "source": [
    "df_12_19.VoiS.shape"
   ]
  },
  {
   "cell_type": "code",
   "execution_count": 44,
   "metadata": {},
   "outputs": [
    {
     "data": {
      "text/plain": [
       "(array([ 0,  1,  2,  3,  4,  5,  6,  7,  8,  9, 10, 11, 12, 13, 14, 15, 16,\n",
       "        17, 18, 19]),\n",
       " [Text(0, 0, '0.0'),\n",
       "  Text(1, 0, '0.167'),\n",
       "  Text(2, 0, '0.2'),\n",
       "  Text(3, 0, '0.25'),\n",
       "  Text(4, 0, '0.333'),\n",
       "  Text(5, 0, '0.375'),\n",
       "  Text(6, 0, '0.4'),\n",
       "  Text(7, 0, '0.429'),\n",
       "  Text(8, 0, '0.5'),\n",
       "  Text(9, 0, '0.571'),\n",
       "  Text(10, 0, '0.6'),\n",
       "  Text(11, 0, '0.625'),\n",
       "  Text(12, 0, '0.667'),\n",
       "  Text(13, 0, '0.714'),\n",
       "  Text(14, 0, '0.75'),\n",
       "  Text(15, 0, '0.8'),\n",
       "  Text(16, 0, '0.833'),\n",
       "  Text(17, 0, '0.857'),\n",
       "  Text(18, 0, '0.875'),\n",
       "  Text(19, 0, '1.0')])"
      ]
     },
     "execution_count": 44,
     "metadata": {},
     "output_type": "execute_result"
    },
    {
     "data": {
      "image/png": "[encoded data removed]",
      "text/plain": [
       "<Figure size 720x576 with 1 Axes>"
      ]
     },
     "metadata": {
      "needs_background": "light"
     },
     "output_type": "display_data"
    }
   ],
   "source": [
    "# Make a list by cycling through the colors you care about\n",
    "# to match the length of your data.\n",
    "my_colors = list(islice(cycle([\"red\", \"Orange\", \"Magenta\", \"blue\", \"Darkgreen\", \"Purple\"]), None, len(df_12_19)))\n",
    "#color = [\"red\", \"Orange\", \"Magenta\", \"blue\", \"Darkgreen\", \"Purple\"]\n",
    "df_12_19.plot(kind='bar', stacked=True, color=my_colors, grid=True)\n",
    "plt.xlabel('Frac')\n",
    "plt.ylabel('count')\n",
    "plt.xticks(rotation=70, ha=\"right\")\n",
    "#plt.xlim(0., 0.4)\n",
    "#plt.savefig('cg1219.eps',format='eps')\n"
   ]
  },
  {
   "cell_type": "code",
   "execution_count": 45,
   "metadata": {},
   "outputs": [
    {
     "data": {
      "text/html": [
       "<div>\n",
       "<style scoped>\n",
       "    .dataframe tbody tr th:only-of-type {\n",
       "        vertical-align: middle;\n",
       "    }\n",
       "\n",
       "    .dataframe tbody tr th {\n",
       "        vertical-align: top;\n",
       "    }\n",
       "\n",
       "    .dataframe thead th {\n",
       "        text-align: right;\n",
       "    }\n",
       "</style>\n",
       "<table border=\"1\" class=\"dataframe\">\n",
       "  <thead>\n",
       "    <tr style=\"text-align: right;\">\n",
       "      <th></th>\n",
       "      <th>Node</th>\n",
       "      <th>FIl</th>\n",
       "      <th>Loose</th>\n",
       "      <th>Field</th>\n",
       "      <th>VoiS</th>\n",
       "      <th>VoiR</th>\n",
       "    </tr>\n",
       "  </thead>\n",
       "  <tbody>\n",
       "    <tr>\n",
       "      <th>0.000</th>\n",
       "      <td>NaN</td>\n",
       "      <td>1.0</td>\n",
       "      <td>5.0</td>\n",
       "      <td>6.0</td>\n",
       "      <td>1.0</td>\n",
       "      <td>NaN</td>\n",
       "    </tr>\n",
       "    <tr>\n",
       "      <th>0.167</th>\n",
       "      <td>NaN</td>\n",
       "      <td>NaN</td>\n",
       "      <td>NaN</td>\n",
       "      <td>1.0</td>\n",
       "      <td>NaN</td>\n",
       "      <td>NaN</td>\n",
       "    </tr>\n",
       "  </tbody>\n",
       "</table>\n",
       "</div>"
      ],
      "text/plain": [
       "       Node  FIl  Loose  Field  VoiS  VoiR\n",
       "0.000   NaN  1.0    5.0    6.0   1.0   NaN\n",
       "0.167   NaN  NaN    NaN    1.0   NaN   NaN"
      ]
     },
     "execution_count": 45,
     "metadata": {},
     "output_type": "execute_result"
    }
   ],
   "source": [
    "df_12_19.head(2)"
   ]
  },
  {
   "cell_type": "code",
   "execution_count": 46,
   "metadata": {},
   "outputs": [
    {
     "data": {
      "text/html": [
       "<div>\n",
       "<style scoped>\n",
       "    .dataframe tbody tr th:only-of-type {\n",
       "        vertical-align: middle;\n",
       "    }\n",
       "\n",
       "    .dataframe tbody tr th {\n",
       "        vertical-align: top;\n",
       "    }\n",
       "\n",
       "    .dataframe thead th {\n",
       "        text-align: right;\n",
       "    }\n",
       "</style>\n",
       "<table border=\"1\" class=\"dataframe\">\n",
       "  <thead>\n",
       "    <tr style=\"text-align: right;\">\n",
       "      <th></th>\n",
       "      <th>frac</th>\n",
       "      <th>Node</th>\n",
       "      <th>FIl</th>\n",
       "      <th>Loose</th>\n",
       "      <th>Field</th>\n",
       "      <th>VoiS</th>\n",
       "      <th>VoiR</th>\n",
       "    </tr>\n",
       "  </thead>\n",
       "  <tbody>\n",
       "    <tr>\n",
       "      <th>0</th>\n",
       "      <td>0.000</td>\n",
       "      <td>0.0</td>\n",
       "      <td>1.0</td>\n",
       "      <td>5.0</td>\n",
       "      <td>6.0</td>\n",
       "      <td>1.0</td>\n",
       "      <td>0.0</td>\n",
       "    </tr>\n",
       "    <tr>\n",
       "      <th>1</th>\n",
       "      <td>0.167</td>\n",
       "      <td>0.0</td>\n",
       "      <td>0.0</td>\n",
       "      <td>0.0</td>\n",
       "      <td>1.0</td>\n",
       "      <td>0.0</td>\n",
       "      <td>0.0</td>\n",
       "    </tr>\n",
       "  </tbody>\n",
       "</table>\n",
       "</div>"
      ],
      "text/plain": [
       "    frac  Node  FIl  Loose  Field  VoiS  VoiR\n",
       "0  0.000   0.0  1.0    5.0    6.0   1.0   0.0\n",
       "1  0.167   0.0  0.0    0.0    1.0   0.0   0.0"
      ]
     },
     "execution_count": 46,
     "metadata": {},
     "output_type": "execute_result"
    }
   ],
   "source": [
    "df_12_22 = df_12_19.reset_index().copy()\n",
    "df_12_22 = df_12_22.rename(columns={'index': 'frac'})\n",
    "df_12_22 = df_12_22.fillna(0)\n",
    "df_12_22.head(2)"
   ]
  },
  {
   "cell_type": "markdown",
   "metadata": {},
   "source": [
    "https://kodlogs.com/33984/the-truth-value-of-an-array-with-more-than-one-element-is-ambiguous-use-a-any-or-a-all"
   ]
  },
  {
   "cell_type": "code",
   "execution_count": 47,
   "metadata": {},
   "outputs": [
    {
     "data": {
      "text/html": [
       "<div>\n",
       "<style scoped>\n",
       "    .dataframe tbody tr th:only-of-type {\n",
       "        vertical-align: middle;\n",
       "    }\n",
       "\n",
       "    .dataframe tbody tr th {\n",
       "        vertical-align: top;\n",
       "    }\n",
       "\n",
       "    .dataframe thead th {\n",
       "        text-align: right;\n",
       "    }\n",
       "</style>\n",
       "<table border=\"1\" class=\"dataframe\">\n",
       "  <thead>\n",
       "    <tr style=\"text-align: right;\">\n",
       "      <th></th>\n",
       "      <th>frac</th>\n",
       "      <th>Node</th>\n",
       "      <th>FIl</th>\n",
       "      <th>Loose</th>\n",
       "      <th>Field</th>\n",
       "      <th>VoiS</th>\n",
       "      <th>VoiR</th>\n",
       "    </tr>\n",
       "  </thead>\n",
       "  <tbody>\n",
       "    <tr>\n",
       "      <th>0</th>\n",
       "      <td>0.000</td>\n",
       "      <td>0.0</td>\n",
       "      <td>1.0</td>\n",
       "      <td>5.0</td>\n",
       "      <td>6.0</td>\n",
       "      <td>1.0</td>\n",
       "      <td>0.0</td>\n",
       "    </tr>\n",
       "    <tr>\n",
       "      <th>1</th>\n",
       "      <td>0.167</td>\n",
       "      <td>0.0</td>\n",
       "      <td>0.0</td>\n",
       "      <td>0.0</td>\n",
       "      <td>1.0</td>\n",
       "      <td>0.0</td>\n",
       "      <td>0.0</td>\n",
       "    </tr>\n",
       "    <tr>\n",
       "      <th>2</th>\n",
       "      <td>0.200</td>\n",
       "      <td>0.0</td>\n",
       "      <td>0.0</td>\n",
       "      <td>1.0</td>\n",
       "      <td>4.0</td>\n",
       "      <td>0.0</td>\n",
       "      <td>0.0</td>\n",
       "    </tr>\n",
       "    <tr>\n",
       "      <th>3</th>\n",
       "      <td>0.250</td>\n",
       "      <td>2.0</td>\n",
       "      <td>3.0</td>\n",
       "      <td>8.0</td>\n",
       "      <td>21.0</td>\n",
       "      <td>0.0</td>\n",
       "      <td>0.0</td>\n",
       "    </tr>\n",
       "    <tr>\n",
       "      <th>4</th>\n",
       "      <td>0.333</td>\n",
       "      <td>0.0</td>\n",
       "      <td>0.0</td>\n",
       "      <td>0.0</td>\n",
       "      <td>2.0</td>\n",
       "      <td>0.0</td>\n",
       "      <td>0.0</td>\n",
       "    </tr>\n",
       "    <tr>\n",
       "      <th>5</th>\n",
       "      <td>0.375</td>\n",
       "      <td>0.0</td>\n",
       "      <td>0.0</td>\n",
       "      <td>2.0</td>\n",
       "      <td>0.0</td>\n",
       "      <td>0.0</td>\n",
       "      <td>0.0</td>\n",
       "    </tr>\n",
       "    <tr>\n",
       "      <th>6</th>\n",
       "      <td>0.400</td>\n",
       "      <td>1.0</td>\n",
       "      <td>1.0</td>\n",
       "      <td>3.0</td>\n",
       "      <td>6.0</td>\n",
       "      <td>1.0</td>\n",
       "      <td>0.0</td>\n",
       "    </tr>\n",
       "    <tr>\n",
       "      <th>7</th>\n",
       "      <td>0.429</td>\n",
       "      <td>0.0</td>\n",
       "      <td>0.0</td>\n",
       "      <td>0.0</td>\n",
       "      <td>2.0</td>\n",
       "      <td>0.0</td>\n",
       "      <td>0.0</td>\n",
       "    </tr>\n",
       "    <tr>\n",
       "      <th>8</th>\n",
       "      <td>0.500</td>\n",
       "      <td>2.0</td>\n",
       "      <td>9.0</td>\n",
       "      <td>11.0</td>\n",
       "      <td>28.0</td>\n",
       "      <td>6.0</td>\n",
       "      <td>5.0</td>\n",
       "    </tr>\n",
       "    <tr>\n",
       "      <th>9</th>\n",
       "      <td>0.571</td>\n",
       "      <td>0.0</td>\n",
       "      <td>0.0</td>\n",
       "      <td>0.0</td>\n",
       "      <td>0.0</td>\n",
       "      <td>2.0</td>\n",
       "      <td>0.0</td>\n",
       "    </tr>\n",
       "    <tr>\n",
       "      <th>10</th>\n",
       "      <td>0.600</td>\n",
       "      <td>1.0</td>\n",
       "      <td>1.0</td>\n",
       "      <td>6.0</td>\n",
       "      <td>11.0</td>\n",
       "      <td>0.0</td>\n",
       "      <td>0.0</td>\n",
       "    </tr>\n",
       "    <tr>\n",
       "      <th>11</th>\n",
       "      <td>0.625</td>\n",
       "      <td>0.0</td>\n",
       "      <td>0.0</td>\n",
       "      <td>0.0</td>\n",
       "      <td>1.0</td>\n",
       "      <td>0.0</td>\n",
       "      <td>0.0</td>\n",
       "    </tr>\n",
       "    <tr>\n",
       "      <th>12</th>\n",
       "      <td>0.667</td>\n",
       "      <td>0.0</td>\n",
       "      <td>0.0</td>\n",
       "      <td>1.0</td>\n",
       "      <td>8.0</td>\n",
       "      <td>0.0</td>\n",
       "      <td>0.0</td>\n",
       "    </tr>\n",
       "    <tr>\n",
       "      <th>13</th>\n",
       "      <td>0.714</td>\n",
       "      <td>0.0</td>\n",
       "      <td>1.0</td>\n",
       "      <td>0.0</td>\n",
       "      <td>0.0</td>\n",
       "      <td>0.0</td>\n",
       "      <td>0.0</td>\n",
       "    </tr>\n",
       "    <tr>\n",
       "      <th>14</th>\n",
       "      <td>0.750</td>\n",
       "      <td>12.0</td>\n",
       "      <td>8.0</td>\n",
       "      <td>37.0</td>\n",
       "      <td>54.0</td>\n",
       "      <td>5.0</td>\n",
       "      <td>2.0</td>\n",
       "    </tr>\n",
       "    <tr>\n",
       "      <th>15</th>\n",
       "      <td>0.800</td>\n",
       "      <td>2.0</td>\n",
       "      <td>3.0</td>\n",
       "      <td>7.0</td>\n",
       "      <td>6.0</td>\n",
       "      <td>2.0</td>\n",
       "      <td>1.0</td>\n",
       "    </tr>\n",
       "    <tr>\n",
       "      <th>16</th>\n",
       "      <td>0.833</td>\n",
       "      <td>0.0</td>\n",
       "      <td>0.0</td>\n",
       "      <td>5.0</td>\n",
       "      <td>4.0</td>\n",
       "      <td>1.0</td>\n",
       "      <td>0.0</td>\n",
       "    </tr>\n",
       "    <tr>\n",
       "      <th>17</th>\n",
       "      <td>0.857</td>\n",
       "      <td>0.0</td>\n",
       "      <td>1.0</td>\n",
       "      <td>2.0</td>\n",
       "      <td>1.0</td>\n",
       "      <td>0.0</td>\n",
       "      <td>0.0</td>\n",
       "    </tr>\n",
       "    <tr>\n",
       "      <th>18</th>\n",
       "      <td>0.875</td>\n",
       "      <td>0.0</td>\n",
       "      <td>0.0</td>\n",
       "      <td>0.0</td>\n",
       "      <td>1.0</td>\n",
       "      <td>0.0</td>\n",
       "      <td>0.0</td>\n",
       "    </tr>\n",
       "    <tr>\n",
       "      <th>19</th>\n",
       "      <td>1.000</td>\n",
       "      <td>27.0</td>\n",
       "      <td>18.0</td>\n",
       "      <td>51.0</td>\n",
       "      <td>32.0</td>\n",
       "      <td>2.0</td>\n",
       "      <td>1.0</td>\n",
       "    </tr>\n",
       "  </tbody>\n",
       "</table>\n",
       "</div>"
      ],
      "text/plain": [
       "     frac  Node   FIl  Loose  Field  VoiS  VoiR\n",
       "0   0.000   0.0   1.0    5.0    6.0   1.0   0.0\n",
       "1   0.167   0.0   0.0    0.0    1.0   0.0   0.0\n",
       "2   0.200   0.0   0.0    1.0    4.0   0.0   0.0\n",
       "3   0.250   2.0   3.0    8.0   21.0   0.0   0.0\n",
       "4   0.333   0.0   0.0    0.0    2.0   0.0   0.0\n",
       "5   0.375   0.0   0.0    2.0    0.0   0.0   0.0\n",
       "6   0.400   1.0   1.0    3.0    6.0   1.0   0.0\n",
       "7   0.429   0.0   0.0    0.0    2.0   0.0   0.0\n",
       "8   0.500   2.0   9.0   11.0   28.0   6.0   5.0\n",
       "9   0.571   0.0   0.0    0.0    0.0   2.0   0.0\n",
       "10  0.600   1.0   1.0    6.0   11.0   0.0   0.0\n",
       "11  0.625   0.0   0.0    0.0    1.0   0.0   0.0\n",
       "12  0.667   0.0   0.0    1.0    8.0   0.0   0.0\n",
       "13  0.714   0.0   1.0    0.0    0.0   0.0   0.0\n",
       "14  0.750  12.0   8.0   37.0   54.0   5.0   2.0\n",
       "15  0.800   2.0   3.0    7.0    6.0   2.0   1.0\n",
       "16  0.833   0.0   0.0    5.0    4.0   1.0   0.0\n",
       "17  0.857   0.0   1.0    2.0    1.0   0.0   0.0\n",
       "18  0.875   0.0   0.0    0.0    1.0   0.0   0.0\n",
       "19  1.000  27.0  18.0   51.0   32.0   2.0   1.0"
      ]
     },
     "execution_count": 47,
     "metadata": {},
     "output_type": "execute_result"
    }
   ],
   "source": [
    "df_12_22"
   ]
  },
  {
   "cell_type": "code",
   "execution_count": 48,
   "metadata": {},
   "outputs": [],
   "source": [
    "# Binning of the data based on a condition\n",
    "df_12_22.loc[df_12_22.frac < 0.2, 'frac'] = 10\n",
    "df_12_22.loc[np.logical_and(df_12_22.frac >= 0.2, df_12_22.frac < 0.4), 'frac'] = 20\n",
    "df_12_22.loc[np.logical_and(df_12_22.frac >= 0.4, df_12_22.frac < 0.6), 'frac'] = 30\n",
    "df_12_22.loc[np.logical_and(df_12_22.frac >= 0.6, df_12_22.frac < 0.8), 'frac'] = 40\n",
    "df_12_22.loc[np.logical_and(df_12_22.frac >= 0.8, df_12_22.frac <= 1.0), 'frac'] = 50\n",
    " \n",
    "# Grouping and couting\n",
    "df_12_22 = df_12_22.groupby('frac').sum()"
   ]
  },
  {
   "cell_type": "code",
   "execution_count": 49,
   "metadata": {},
   "outputs": [
    {
     "data": {
      "text/html": [
       "<div>\n",
       "<style scoped>\n",
       "    .dataframe tbody tr th:only-of-type {\n",
       "        vertical-align: middle;\n",
       "    }\n",
       "\n",
       "    .dataframe tbody tr th {\n",
       "        vertical-align: top;\n",
       "    }\n",
       "\n",
       "    .dataframe thead th {\n",
       "        text-align: right;\n",
       "    }\n",
       "</style>\n",
       "<table border=\"1\" class=\"dataframe\">\n",
       "  <thead>\n",
       "    <tr style=\"text-align: right;\">\n",
       "      <th></th>\n",
       "      <th>Node</th>\n",
       "      <th>FIl</th>\n",
       "      <th>Loose</th>\n",
       "      <th>Field</th>\n",
       "      <th>VoiS</th>\n",
       "      <th>VoiR</th>\n",
       "    </tr>\n",
       "    <tr>\n",
       "      <th>frac</th>\n",
       "      <th></th>\n",
       "      <th></th>\n",
       "      <th></th>\n",
       "      <th></th>\n",
       "      <th></th>\n",
       "      <th></th>\n",
       "    </tr>\n",
       "  </thead>\n",
       "  <tbody>\n",
       "    <tr>\n",
       "      <th>10.0</th>\n",
       "      <td>0.0</td>\n",
       "      <td>1.0</td>\n",
       "      <td>5.0</td>\n",
       "      <td>7.0</td>\n",
       "      <td>1.0</td>\n",
       "      <td>0.0</td>\n",
       "    </tr>\n",
       "    <tr>\n",
       "      <th>20.0</th>\n",
       "      <td>2.0</td>\n",
       "      <td>3.0</td>\n",
       "      <td>11.0</td>\n",
       "      <td>27.0</td>\n",
       "      <td>0.0</td>\n",
       "      <td>0.0</td>\n",
       "    </tr>\n",
       "    <tr>\n",
       "      <th>30.0</th>\n",
       "      <td>3.0</td>\n",
       "      <td>10.0</td>\n",
       "      <td>14.0</td>\n",
       "      <td>36.0</td>\n",
       "      <td>9.0</td>\n",
       "      <td>5.0</td>\n",
       "    </tr>\n",
       "    <tr>\n",
       "      <th>40.0</th>\n",
       "      <td>13.0</td>\n",
       "      <td>10.0</td>\n",
       "      <td>44.0</td>\n",
       "      <td>74.0</td>\n",
       "      <td>5.0</td>\n",
       "      <td>2.0</td>\n",
       "    </tr>\n",
       "    <tr>\n",
       "      <th>50.0</th>\n",
       "      <td>29.0</td>\n",
       "      <td>22.0</td>\n",
       "      <td>65.0</td>\n",
       "      <td>44.0</td>\n",
       "      <td>5.0</td>\n",
       "      <td>2.0</td>\n",
       "    </tr>\n",
       "  </tbody>\n",
       "</table>\n",
       "</div>"
      ],
      "text/plain": [
       "      Node   FIl  Loose  Field  VoiS  VoiR\n",
       "frac                                      \n",
       "10.0   0.0   1.0    5.0    7.0   1.0   0.0\n",
       "20.0   2.0   3.0   11.0   27.0   0.0   0.0\n",
       "30.0   3.0  10.0   14.0   36.0   9.0   5.0\n",
       "40.0  13.0  10.0   44.0   74.0   5.0   2.0\n",
       "50.0  29.0  22.0   65.0   44.0   5.0   2.0"
      ]
     },
     "execution_count": 49,
     "metadata": {},
     "output_type": "execute_result"
    }
   ],
   "source": [
    "df_12_22"
   ]
  },
  {
   "cell_type": "code",
   "execution_count": 50,
   "metadata": {},
   "outputs": [],
   "source": [
    "#bines = ['bin 1', 'bin 2', 'bin 3', 'bin 4', 'bin 5' ]\n",
    "bines = ['[0 - 0.2)', '[0.2 - 0.4)', '[0.4 - 0.6)', '[0.6 - 0.8)', '[0.8 - 1]' ]"
   ]
  },
  {
   "cell_type": "code",
   "execution_count": 51,
   "metadata": {},
   "outputs": [],
   "source": [
    "df_12_22['bines'] = bines"
   ]
  },
  {
   "cell_type": "code",
   "execution_count": 52,
   "metadata": {},
   "outputs": [],
   "source": [
    "df_fracciones_bin =  df_12_22.reset_index().set_index('bines').drop('frac', axis=1)"
   ]
  },
  {
   "cell_type": "code",
   "execution_count": 53,
   "metadata": {},
   "outputs": [
    {
     "data": {
      "text/html": [
       "<div>\n",
       "<style scoped>\n",
       "    .dataframe tbody tr th:only-of-type {\n",
       "        vertical-align: middle;\n",
       "    }\n",
       "\n",
       "    .dataframe tbody tr th {\n",
       "        vertical-align: top;\n",
       "    }\n",
       "\n",
       "    .dataframe thead th {\n",
       "        text-align: right;\n",
       "    }\n",
       "</style>\n",
       "<table border=\"1\" class=\"dataframe\">\n",
       "  <thead>\n",
       "    <tr style=\"text-align: right;\">\n",
       "      <th></th>\n",
       "      <th>Node</th>\n",
       "      <th>FIl</th>\n",
       "      <th>Loose</th>\n",
       "      <th>Field</th>\n",
       "      <th>VoiS</th>\n",
       "      <th>VoiR</th>\n",
       "    </tr>\n",
       "    <tr>\n",
       "      <th>bines</th>\n",
       "      <th></th>\n",
       "      <th></th>\n",
       "      <th></th>\n",
       "      <th></th>\n",
       "      <th></th>\n",
       "      <th></th>\n",
       "    </tr>\n",
       "  </thead>\n",
       "  <tbody>\n",
       "    <tr>\n",
       "      <th>[0 - 0.2)</th>\n",
       "      <td>0.0</td>\n",
       "      <td>1.0</td>\n",
       "      <td>5.0</td>\n",
       "      <td>7.0</td>\n",
       "      <td>1.0</td>\n",
       "      <td>0.0</td>\n",
       "    </tr>\n",
       "    <tr>\n",
       "      <th>[0.2 - 0.4)</th>\n",
       "      <td>2.0</td>\n",
       "      <td>3.0</td>\n",
       "      <td>11.0</td>\n",
       "      <td>27.0</td>\n",
       "      <td>0.0</td>\n",
       "      <td>0.0</td>\n",
       "    </tr>\n",
       "    <tr>\n",
       "      <th>[0.4 - 0.6)</th>\n",
       "      <td>3.0</td>\n",
       "      <td>10.0</td>\n",
       "      <td>14.0</td>\n",
       "      <td>36.0</td>\n",
       "      <td>9.0</td>\n",
       "      <td>5.0</td>\n",
       "    </tr>\n",
       "    <tr>\n",
       "      <th>[0.6 - 0.8)</th>\n",
       "      <td>13.0</td>\n",
       "      <td>10.0</td>\n",
       "      <td>44.0</td>\n",
       "      <td>74.0</td>\n",
       "      <td>5.0</td>\n",
       "      <td>2.0</td>\n",
       "    </tr>\n",
       "    <tr>\n",
       "      <th>[0.8 - 1]</th>\n",
       "      <td>29.0</td>\n",
       "      <td>22.0</td>\n",
       "      <td>65.0</td>\n",
       "      <td>44.0</td>\n",
       "      <td>5.0</td>\n",
       "      <td>2.0</td>\n",
       "    </tr>\n",
       "  </tbody>\n",
       "</table>\n",
       "</div>"
      ],
      "text/plain": [
       "             Node   FIl  Loose  Field  VoiS  VoiR\n",
       "bines                                            \n",
       "[0 - 0.2)     0.0   1.0    5.0    7.0   1.0   0.0\n",
       "[0.2 - 0.4)   2.0   3.0   11.0   27.0   0.0   0.0\n",
       "[0.4 - 0.6)   3.0  10.0   14.0   36.0   9.0   5.0\n",
       "[0.6 - 0.8)  13.0  10.0   44.0   74.0   5.0   2.0\n",
       "[0.8 - 1]    29.0  22.0   65.0   44.0   5.0   2.0"
      ]
     },
     "execution_count": 53,
     "metadata": {},
     "output_type": "execute_result"
    }
   ],
   "source": [
    "df_fracciones_bin "
   ]
  },
  {
   "cell_type": "code",
   "execution_count": 54,
   "metadata": {},
   "outputs": [
    {
     "data": {
      "text/plain": [
       "187"
      ]
     },
     "execution_count": 54,
     "metadata": {},
     "output_type": "execute_result"
    }
   ],
   "source": [
    "44+73+36+27+7"
   ]
  },
  {
   "cell_type": "code",
   "execution_count": 55,
   "metadata": {},
   "outputs": [
    {
     "data": {
      "text/plain": [
       "(array([0, 1, 2, 3, 4]),\n",
       " [Text(0, 0, '10.0'),\n",
       "  Text(1, 0, '20.0'),\n",
       "  Text(2, 0, '30.0'),\n",
       "  Text(3, 0, '40.0'),\n",
       "  Text(4, 0, '50.0')])"
      ]
     },
     "execution_count": 55,
     "metadata": {},
     "output_type": "execute_result"
    },
    {
     "data": {
      "image/png": "[encoded data removed]",
      "text/plain": [
       "<Figure size 720x576 with 1 Axes>"
      ]
     },
     "metadata": {
      "needs_background": "light"
     },
     "output_type": "display_data"
    }
   ],
   "source": [
    "#my_colors = list(islice(cycle([\"red\", \"Orange\", \"Magenta\", \"blue\", \"Darkgreen\", \"Purple\"]), None, len(df_12_22)))\n",
    "#color = [\"red\", \"Orange\", \"Magenta\", \"blue\", \"Darkgreen\", \"Purple\"]\n",
    "df_12_22.plot(kind='bar', stacked=True)\n",
    "plt.xlabel('Frac')\n",
    "plt.ylabel('count')\n",
    "plt.xticks(rotation=70, ha=\"right\")\n",
    "#plt.xlim(0., 0.4)\n",
    "#plt.savefig('cg1222.eps',format='eps')"
   ]
  },
  {
   "cell_type": "code",
   "execution_count": 56,
   "metadata": {},
   "outputs": [
    {
     "data": {
      "text/plain": [
       "(array([0, 1, 2, 3, 4]),\n",
       " [Text(0, 0, '[0 - 0.2)'),\n",
       "  Text(1, 0, '[0.2 - 0.4)'),\n",
       "  Text(2, 0, '[0.4 - 0.6)'),\n",
       "  Text(3, 0, '[0.6 - 0.8)'),\n",
       "  Text(4, 0, '[0.8 - 1]')])"
      ]
     },
     "execution_count": 56,
     "metadata": {},
     "output_type": "execute_result"
    },
    {
     "data": {
      "image/png": "[encoded data removed]",
      "text/plain": [
       "<Figure size 720x576 with 1 Axes>"
      ]
     },
     "metadata": {
      "needs_background": "light"
     },
     "output_type": "display_data"
    }
   ],
   "source": [
    "#my_colors = list(islice(cycle([\"red\", \"Orange\", \"Magenta\", \"blue\", \"Darkgreen\", \"Purple\"]), None, len(df_12_22)))\n",
    "#color = [\"red\", \"Orange\", \"Magenta\", \"blue\", \"Darkgreen\", \"Purple\"]\n",
    "df_fracciones_bin.plot(kind='bar', stacked=True)\n",
    "plt.xlabel('Frac')\n",
    "plt.ylabel('count')\n",
    "plt.xticks(rotation=0)\n",
    "#plt.xlim(0., 0.4)\n",
    "#plt.savefig('cg1222.eps',format='eps')"
   ]
  },
  {
   "cell_type": "code",
   "execution_count": 57,
   "metadata": {},
   "outputs": [
    {
     "data": {
      "text/html": [
       "<div>\n",
       "<style scoped>\n",
       "    .dataframe tbody tr th:only-of-type {\n",
       "        vertical-align: middle;\n",
       "    }\n",
       "\n",
       "    .dataframe tbody tr th {\n",
       "        vertical-align: top;\n",
       "    }\n",
       "\n",
       "    .dataframe thead th {\n",
       "        text-align: right;\n",
       "    }\n",
       "</style>\n",
       "<table border=\"1\" class=\"dataframe\">\n",
       "  <thead>\n",
       "    <tr style=\"text-align: right;\">\n",
       "      <th></th>\n",
       "      <th>Node</th>\n",
       "      <th>FIl</th>\n",
       "      <th>Loose</th>\n",
       "      <th>Field</th>\n",
       "      <th>VoiS</th>\n",
       "      <th>VoiR</th>\n",
       "    </tr>\n",
       "    <tr>\n",
       "      <th>bines</th>\n",
       "      <th></th>\n",
       "      <th></th>\n",
       "      <th></th>\n",
       "      <th></th>\n",
       "      <th></th>\n",
       "      <th></th>\n",
       "    </tr>\n",
       "  </thead>\n",
       "  <tbody>\n",
       "    <tr>\n",
       "      <th>[0 - 0.2)</th>\n",
       "      <td>0.000000</td>\n",
       "      <td>0.071429</td>\n",
       "      <td>0.357143</td>\n",
       "      <td>0.500000</td>\n",
       "      <td>0.071429</td>\n",
       "      <td>0.000000</td>\n",
       "    </tr>\n",
       "    <tr>\n",
       "      <th>[0.2 - 0.4)</th>\n",
       "      <td>0.046512</td>\n",
       "      <td>0.069767</td>\n",
       "      <td>0.255814</td>\n",
       "      <td>0.627907</td>\n",
       "      <td>0.000000</td>\n",
       "      <td>0.000000</td>\n",
       "    </tr>\n",
       "    <tr>\n",
       "      <th>[0.4 - 0.6)</th>\n",
       "      <td>0.038961</td>\n",
       "      <td>0.129870</td>\n",
       "      <td>0.181818</td>\n",
       "      <td>0.467532</td>\n",
       "      <td>0.116883</td>\n",
       "      <td>0.064935</td>\n",
       "    </tr>\n",
       "    <tr>\n",
       "      <th>[0.6 - 0.8)</th>\n",
       "      <td>0.087838</td>\n",
       "      <td>0.067568</td>\n",
       "      <td>0.297297</td>\n",
       "      <td>0.500000</td>\n",
       "      <td>0.033784</td>\n",
       "      <td>0.013514</td>\n",
       "    </tr>\n",
       "    <tr>\n",
       "      <th>[0.8 - 1]</th>\n",
       "      <td>0.173653</td>\n",
       "      <td>0.131737</td>\n",
       "      <td>0.389222</td>\n",
       "      <td>0.263473</td>\n",
       "      <td>0.029940</td>\n",
       "      <td>0.011976</td>\n",
       "    </tr>\n",
       "  </tbody>\n",
       "</table>\n",
       "</div>"
      ],
      "text/plain": [
       "                 Node       FIl     Loose     Field      VoiS      VoiR\n",
       "bines                                                                  \n",
       "[0 - 0.2)    0.000000  0.071429  0.357143  0.500000  0.071429  0.000000\n",
       "[0.2 - 0.4)  0.046512  0.069767  0.255814  0.627907  0.000000  0.000000\n",
       "[0.4 - 0.6)  0.038961  0.129870  0.181818  0.467532  0.116883  0.064935\n",
       "[0.6 - 0.8)  0.087838  0.067568  0.297297  0.500000  0.033784  0.013514\n",
       "[0.8 - 1]    0.173653  0.131737  0.389222  0.263473  0.029940  0.011976"
      ]
     },
     "execution_count": 57,
     "metadata": {},
     "output_type": "execute_result"
    }
   ],
   "source": [
    "df_frac_bin_nor_bar = df_fracciones_bin.apply(lambda x: x/np.sum(x), axis=1)\n",
    "df_frac_bin_nor_bar"
   ]
  },
  {
   "cell_type": "code",
   "execution_count": 58,
   "metadata": {},
   "outputs": [
    {
     "data": {
      "image/png": "[encoded data removed]",
      "text/plain": [
       "<Figure size 720x576 with 1 Axes>"
      ]
     },
     "metadata": {
      "needs_background": "light"
     },
     "output_type": "display_data"
    }
   ],
   "source": [
    "ax = df_frac_bin_nor_bar.plot(kind='bar', stacked=True)\n",
    "plt.xlabel('Frac')\n",
    "plt.ylabel('porcentaje por barra')\n",
    "plt.xticks(rotation=0)\n",
    "#plt.xlim(1, 2)\n",
    "\n",
    "for p in ax.patches:\n",
    "    width = p.get_width()\n",
    "    height = p.get_height()\n",
    "    if height == 0.0: \n",
    "        continue\n",
    "    x, y = p.get_xy() \n",
    "    ax.annotate(f'{height:.0%}', (x + width/2, y + height*0.30), ha='center')\n",
    "\n",
    "#plt.savefig('df_frac_bin_nor_bar.eps',format='eps')"
   ]
  },
  {
   "cell_type": "code",
   "execution_count": 59,
   "metadata": {},
   "outputs": [
    {
     "data": {
      "text/html": [
       "<div>\n",
       "<style scoped>\n",
       "    .dataframe tbody tr th:only-of-type {\n",
       "        vertical-align: middle;\n",
       "    }\n",
       "\n",
       "    .dataframe tbody tr th {\n",
       "        vertical-align: top;\n",
       "    }\n",
       "\n",
       "    .dataframe thead th {\n",
       "        text-align: right;\n",
       "    }\n",
       "</style>\n",
       "<table border=\"1\" class=\"dataframe\">\n",
       "  <thead>\n",
       "    <tr style=\"text-align: right;\">\n",
       "      <th></th>\n",
       "      <th>Node</th>\n",
       "      <th>FIl</th>\n",
       "      <th>Loose</th>\n",
       "      <th>Field</th>\n",
       "      <th>VoiS</th>\n",
       "      <th>VoiR</th>\n",
       "    </tr>\n",
       "    <tr>\n",
       "      <th>bines</th>\n",
       "      <th></th>\n",
       "      <th></th>\n",
       "      <th></th>\n",
       "      <th></th>\n",
       "      <th></th>\n",
       "      <th></th>\n",
       "    </tr>\n",
       "  </thead>\n",
       "  <tbody>\n",
       "    <tr>\n",
       "      <th>[0 - 0.2)</th>\n",
       "      <td>0.000000</td>\n",
       "      <td>0.021739</td>\n",
       "      <td>0.035971</td>\n",
       "      <td>0.037234</td>\n",
       "      <td>0.05</td>\n",
       "      <td>0.000000</td>\n",
       "    </tr>\n",
       "    <tr>\n",
       "      <th>[0.2 - 0.4)</th>\n",
       "      <td>0.042553</td>\n",
       "      <td>0.065217</td>\n",
       "      <td>0.079137</td>\n",
       "      <td>0.143617</td>\n",
       "      <td>0.00</td>\n",
       "      <td>0.000000</td>\n",
       "    </tr>\n",
       "    <tr>\n",
       "      <th>[0.4 - 0.6)</th>\n",
       "      <td>0.063830</td>\n",
       "      <td>0.217391</td>\n",
       "      <td>0.100719</td>\n",
       "      <td>0.191489</td>\n",
       "      <td>0.45</td>\n",
       "      <td>0.555556</td>\n",
       "    </tr>\n",
       "    <tr>\n",
       "      <th>[0.6 - 0.8)</th>\n",
       "      <td>0.276596</td>\n",
       "      <td>0.217391</td>\n",
       "      <td>0.316547</td>\n",
       "      <td>0.393617</td>\n",
       "      <td>0.25</td>\n",
       "      <td>0.222222</td>\n",
       "    </tr>\n",
       "    <tr>\n",
       "      <th>[0.8 - 1]</th>\n",
       "      <td>0.617021</td>\n",
       "      <td>0.478261</td>\n",
       "      <td>0.467626</td>\n",
       "      <td>0.234043</td>\n",
       "      <td>0.25</td>\n",
       "      <td>0.222222</td>\n",
       "    </tr>\n",
       "  </tbody>\n",
       "</table>\n",
       "</div>"
      ],
      "text/plain": [
       "                 Node       FIl     Loose     Field  VoiS      VoiR\n",
       "bines                                                              \n",
       "[0 - 0.2)    0.000000  0.021739  0.035971  0.037234  0.05  0.000000\n",
       "[0.2 - 0.4)  0.042553  0.065217  0.079137  0.143617  0.00  0.000000\n",
       "[0.4 - 0.6)  0.063830  0.217391  0.100719  0.191489  0.45  0.555556\n",
       "[0.6 - 0.8)  0.276596  0.217391  0.316547  0.393617  0.25  0.222222\n",
       "[0.8 - 1]    0.617021  0.478261  0.467626  0.234043  0.25  0.222222"
      ]
     },
     "execution_count": 59,
     "metadata": {},
     "output_type": "execute_result"
    }
   ],
   "source": [
    "df_frac_bin_nor_env = df_fracciones_bin.apply(lambda x: x/np.sum(x), axis=0)\n",
    "df_frac_bin_nor_env"
   ]
  },
  {
   "cell_type": "markdown",
   "metadata": {},
   "source": [
    "https://www.webucator.com/article/python-color-constants-module/"
   ]
  },
  {
   "cell_type": "code",
   "execution_count": 60,
   "metadata": {},
   "outputs": [
    {
     "name": "stderr",
     "output_type": "stream",
     "text": [
      "The PostScript backend does not support transparency; partially transparent artists will be rendered opaque.\n",
      "The PostScript backend does not support transparency; partially transparent artists will be rendered opaque.\n"
     ]
    },
    {
     "data": {
      "text/plain": [
       "<Figure size 360x360 with 0 Axes>"
      ]
     },
     "metadata": {},
     "output_type": "display_data"
    },
    {
     "data": {
      "image/png": "[encoded data removed]",
      "text/plain": [
       "<Figure size 720x576 with 1 Axes>"
      ]
     },
     "metadata": {
      "needs_background": "light"
     },
     "output_type": "display_data"
    }
   ],
   "source": [
    "plt.figure(figsize=(5,5))\n",
    "\n",
    "my_pal = {\"Node\":\"red\",\"FIl\":\"Orange\", \"Loose\":\"Magenta\", \"Field\":\"blue\", \"VoiS\":\"Darkgreen\", \"VoiR\":\"Deepskyblue\"}\n",
    "#color = [\"Node\":\"red\",\"FIl\":\"Orange\", \"Loose\":\"Magenta\", \"Field\":\"blue\", \"VoiS\":\"Darkgreen\", \"VoiR\":\"Deepskyblue\"]\n",
    "color = [\"red\", \"#EE4000\", \"Magenta\", \"blue\", \"#006400\", \"#008B8B\"]\n",
    "ax = df_frac_bin_nor_env.plot(kind='bar', stacked=True, color=color)\n",
    "\n",
    "plt.xlabel('Frac')\n",
    "plt.ylabel('Total percentage')\n",
    "plt.xticks(rotation=0)\n",
    "#plt.xlim(1, 2)\n",
    "\n",
    "for p in ax.patches:\n",
    "    width = p.get_width()\n",
    "    height = p.get_height()\n",
    "    if height == 0.0: \n",
    "        continue\n",
    "    x, y = p.get_xy() \n",
    "    ax.annotate(f'{height:.0%}', (x + width/0.79, y + height*0.30), ha='center')\n",
    "    \n",
    "plt.savefig('df_frac_bin_nor_env.eps',format='eps')"
   ]
  },
  {
   "cell_type": "code",
   "execution_count": 61,
   "metadata": {},
   "outputs": [
    {
     "data": {
      "text/html": [
       "<div>\n",
       "<style scoped>\n",
       "    .dataframe tbody tr th:only-of-type {\n",
       "        vertical-align: middle;\n",
       "    }\n",
       "\n",
       "    .dataframe tbody tr th {\n",
       "        vertical-align: top;\n",
       "    }\n",
       "\n",
       "    .dataframe thead th {\n",
       "        text-align: right;\n",
       "    }\n",
       "</style>\n",
       "<table border=\"1\" class=\"dataframe\">\n",
       "  <thead>\n",
       "    <tr style=\"text-align: right;\">\n",
       "      <th></th>\n",
       "      <th>Node</th>\n",
       "      <th>FIl</th>\n",
       "      <th>Loose</th>\n",
       "      <th>Field</th>\n",
       "      <th>VoiS</th>\n",
       "      <th>VoiR</th>\n",
       "    </tr>\n",
       "    <tr>\n",
       "      <th>bines</th>\n",
       "      <th></th>\n",
       "      <th></th>\n",
       "      <th></th>\n",
       "      <th></th>\n",
       "      <th></th>\n",
       "      <th></th>\n",
       "    </tr>\n",
       "  </thead>\n",
       "  <tbody>\n",
       "    <tr>\n",
       "      <th>[0 - 0.2)</th>\n",
       "      <td>0.0</td>\n",
       "      <td>1.0</td>\n",
       "      <td>5.0</td>\n",
       "      <td>7.0</td>\n",
       "      <td>1.0</td>\n",
       "      <td>0.0</td>\n",
       "    </tr>\n",
       "    <tr>\n",
       "      <th>[0.2 - 0.4)</th>\n",
       "      <td>2.0</td>\n",
       "      <td>3.0</td>\n",
       "      <td>11.0</td>\n",
       "      <td>27.0</td>\n",
       "      <td>0.0</td>\n",
       "      <td>0.0</td>\n",
       "    </tr>\n",
       "    <tr>\n",
       "      <th>[0.4 - 0.6)</th>\n",
       "      <td>3.0</td>\n",
       "      <td>10.0</td>\n",
       "      <td>14.0</td>\n",
       "      <td>36.0</td>\n",
       "      <td>9.0</td>\n",
       "      <td>5.0</td>\n",
       "    </tr>\n",
       "    <tr>\n",
       "      <th>[0.6 - 0.8)</th>\n",
       "      <td>13.0</td>\n",
       "      <td>10.0</td>\n",
       "      <td>44.0</td>\n",
       "      <td>74.0</td>\n",
       "      <td>5.0</td>\n",
       "      <td>2.0</td>\n",
       "    </tr>\n",
       "    <tr>\n",
       "      <th>[0.8 - 1]</th>\n",
       "      <td>29.0</td>\n",
       "      <td>22.0</td>\n",
       "      <td>65.0</td>\n",
       "      <td>44.0</td>\n",
       "      <td>5.0</td>\n",
       "      <td>2.0</td>\n",
       "    </tr>\n",
       "  </tbody>\n",
       "</table>\n",
       "</div>"
      ],
      "text/plain": [
       "             Node   FIl  Loose  Field  VoiS  VoiR\n",
       "bines                                            \n",
       "[0 - 0.2)     0.0   1.0    5.0    7.0   1.0   0.0\n",
       "[0.2 - 0.4)   2.0   3.0   11.0   27.0   0.0   0.0\n",
       "[0.4 - 0.6)   3.0  10.0   14.0   36.0   9.0   5.0\n",
       "[0.6 - 0.8)  13.0  10.0   44.0   74.0   5.0   2.0\n",
       "[0.8 - 1]    29.0  22.0   65.0   44.0   5.0   2.0"
      ]
     },
     "execution_count": 61,
     "metadata": {},
     "output_type": "execute_result"
    }
   ],
   "source": [
    "df_fracciones_bin"
   ]
  },
  {
   "cell_type": "code",
   "execution_count": 62,
   "metadata": {},
   "outputs": [
    {
     "name": "stdout",
     "output_type": "stream",
     "text": [
      "/home/vane/Escritorio/Doctorado/cg_oct_21/plots/tipo_de_void\n"
     ]
    }
   ],
   "source": [
    "!pwd"
   ]
  },
  {
   "cell_type": "raw",
   "metadata": {},
   "source": [
    "# C_M = list(map(lambda x: -0.01059228*(x**2) - 0.4648955*x - 4.321844, df.r_abs))\n",
    "C_M = list(map(lambda x: -0.03193*(x**2) - 1.46781*x  -14.33128, df.r_abs))\n",
    "\n",
    "pasiva_2 = []\n",
    "for i in range(df.shape[0]):\n",
    "    if (df.u_abs.iloc[i] - df.r_abs.iloc[i] >= C_M[i]):\n",
    "        pasiva_2.append(1)\n",
    "    else:\n",
    "        pasiva_2.append(0)\n",
    "        \n",
    "df['pasiva'] = pasiva_2"
   ]
  },
  {
   "cell_type": "code",
   "execution_count": null,
   "metadata": {},
   "outputs": [],
   "source": []
  }
 ],
 "metadata": {
  "kernelspec": {
   "display_name": "Python 3",
   "language": "python",
   "name": "python3"
  },
  "language_info": {
   "codemirror_mode": {
    "name": "ipython",
    "version": 3
   },
   "file_extension": ".py",
   "mimetype": "text/x-python",
   "name": "python",
   "nbconvert_exporter": "python",
   "pygments_lexer": "ipython3",
   "version": "3.7.10"
  }
 },
 "nbformat": 4,
 "nbformat_minor": 4
}
