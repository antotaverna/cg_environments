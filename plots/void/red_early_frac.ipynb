{
 "cells": [
  {
   "cell_type": "code",
   "execution_count": 16,
   "metadata": {},
   "outputs": [
    {
     "name": "stdout",
     "output_type": "stream",
     "text": [
      "/home/vdaza/compact_goups_Nov/plots/void\n"
     ]
    }
   ],
   "source": [
    "!pwd"
   ]
  },
  {
   "cell_type": "code",
   "execution_count": 2,
   "metadata": {},
   "outputs": [],
   "source": [
    "import pandas as pd\n",
    "import matplotlib.pyplot as plt\n",
    "import seaborn as sns\n",
    "import random\n",
    "random.seed(0)\n",
    "from collections import Counter\n",
    "import numpy as np\n",
    "from itertools import cycle, islice\n",
    "\n",
    "import numpy as np\n",
    "np.random.seed(0)"
   ]
  },
  {
   "cell_type": "code",
   "execution_count": 3,
   "metadata": {},
   "outputs": [
    {
     "data": {
      "text/html": [
       "<div>\n",
       "<style scoped>\n",
       "    .dataframe tbody tr th:only-of-type {\n",
       "        vertical-align: middle;\n",
       "    }\n",
       "\n",
       "    .dataframe tbody tr th {\n",
       "        vertical-align: top;\n",
       "    }\n",
       "\n",
       "    .dataframe thead th {\n",
       "        text-align: right;\n",
       "    }\n",
       "</style>\n",
       "<table border=\"1\" class=\"dataframe\">\n",
       "  <thead>\n",
       "    <tr style=\"text-align: right;\">\n",
       "      <th></th>\n",
       "      <th>frec</th>\n",
       "      <th>e</th>\n",
       "      <th>Entorno</th>\n",
       "    </tr>\n",
       "  </thead>\n",
       "  <tbody>\n",
       "    <tr>\n",
       "      <th>0</th>\n",
       "      <td>0.853659</td>\n",
       "      <td>0.048502</td>\n",
       "      <td>N</td>\n",
       "    </tr>\n",
       "    <tr>\n",
       "      <th>1</th>\n",
       "      <td>0.750804</td>\n",
       "      <td>0.034020</td>\n",
       "      <td>F</td>\n",
       "    </tr>\n",
       "  </tbody>\n",
       "</table>\n",
       "</div>"
      ],
      "text/plain": [
       "       frec         e Entorno\n",
       "0  0.853659  0.048502       N\n",
       "1  0.750804  0.034020       F"
      ]
     },
     "metadata": {},
     "output_type": "display_data"
    },
    {
     "data": {
      "text/html": [
       "<div>\n",
       "<style scoped>\n",
       "    .dataframe tbody tr th:only-of-type {\n",
       "        vertical-align: middle;\n",
       "    }\n",
       "\n",
       "    .dataframe tbody tr th {\n",
       "        vertical-align: top;\n",
       "    }\n",
       "\n",
       "    .dataframe thead th {\n",
       "        text-align: right;\n",
       "    }\n",
       "</style>\n",
       "<table border=\"1\" class=\"dataframe\">\n",
       "  <thead>\n",
       "    <tr style=\"text-align: right;\">\n",
       "      <th></th>\n",
       "      <th>frec</th>\n",
       "      <th>e</th>\n",
       "      <th>Entorno</th>\n",
       "    </tr>\n",
       "  </thead>\n",
       "  <tbody>\n",
       "    <tr>\n",
       "      <th>0</th>\n",
       "      <td>0.726829</td>\n",
       "      <td>0.048502</td>\n",
       "      <td>N</td>\n",
       "    </tr>\n",
       "    <tr>\n",
       "      <th>1</th>\n",
       "      <td>0.715434</td>\n",
       "      <td>0.034020</td>\n",
       "      <td>F</td>\n",
       "    </tr>\n",
       "  </tbody>\n",
       "</table>\n",
       "</div>"
      ],
      "text/plain": [
       "       frec         e Entorno\n",
       "0  0.726829  0.048502       N\n",
       "1  0.715434  0.034020       F"
      ]
     },
     "metadata": {},
     "output_type": "display_data"
    }
   ],
   "source": [
    "red = pd.read_csv('tipo_de_void/fracIndRed.csv')\n",
    "display(red.head(2))\n",
    "early = pd.read_csv('tipo_de_void/fracIndEarly.csv')\n",
    "display(early.head(2))"
   ]
  },
  {
   "cell_type": "code",
   "execution_count": 15,
   "metadata": {},
   "outputs": [
    {
     "data": {
      "text/plain": [
       "<Figure size 720x648 with 0 Axes>"
      ]
     },
     "metadata": {},
     "output_type": "display_data"
    },
    {
     "data": {
      "image/png": "[encoded data removed]",
      "text/plain": [
       "<Figure size 720x648 with 2 Axes>"
      ]
     },
     "metadata": {
      "needs_background": "light"
     },
     "output_type": "display_data"
    }
   ],
   "source": [
    "plt.rcParams['figure.figsize'] = 10, 9\n",
    "plt.figure(figsize=(10, 9))\n",
    "\n",
    "####subfiguras\n",
    "f, (ax1, ax2) = plt.subplots(2, sharex='col')                                                        \n",
    "plt.subplots_adjust(left=None, bottom=None, right=None, top=None, wspace=None, hspace=0.0)\n",
    "\n",
    "\n",
    "#RED\n",
    "ax1.scatter(red.Entorno[0], red.frec[0], marker='o', s=40, color='r')\n",
    "ax1.scatter(red.Entorno[2], red.frec[2], marker='D', s=40, color= \"#EE4000\")\n",
    "ax1.scatter(red.Entorno[1], red.frec[1], marker='s', s=40, color=\"Magenta\")\n",
    "ax1.scatter(red.Entorno[3], red.frec[3], marker='X', s=40, color='blue')\n",
    "ax1.scatter(red.Entorno[4], red.frec[4], marker='^', s=40, facecolors='none', edgecolors= '#006400')\n",
    "ax1.scatter(red.Entorno[5], red.frec[5], marker='v', s=40, facecolors='none', edgecolors='#008B8B')\n",
    "\n",
    "ax1.errorbar(0, red.frec[0], yerr=0.03215843597706181, color='r')\n",
    "ax1.errorbar(1, red.frec[2], yerr=red.e[2], color=  \"#EE4000\")\n",
    "ax1.errorbar(2, red.frec[1], yerr=red.e[1], color= \"Magenta\")\n",
    "ax1.errorbar(3, red.frec[3], yerr=red.e[3], color= 'blue')\n",
    "ax1.errorbar(4, red.frec[4], yerr=red.e[4], color= '#006400')\n",
    "ax1.errorbar(5, red.frec[5], yerr=red.e[5], color= '#008B8B')\n",
    "\n",
    "#EARLY\n",
    "\n",
    "ax2.scatter(early.Entorno[0], early.frec[0], marker='o', s=40, color='r')\n",
    "ax2.scatter(early.Entorno[2], early.frec[2], marker='D', s=40, color= \"#EE4000\")\n",
    "ax2.scatter(early.Entorno[1], early.frec[1], marker='s', s=40, color=\"Magenta\")\n",
    "ax2.scatter(early.Entorno[3], early.frec[3], marker='X', s=40, color='blue')\n",
    "ax2.scatter(early.Entorno[4], early.frec[4], marker='^', s=40, facecolors='none', edgecolors= '#006400')\n",
    "ax2.scatter(early.Entorno[5], early.frec[5], marker='v', s=40, facecolors='none', edgecolors='#008B8B')\n",
    "\n",
    "ax2.errorbar(0, early.frec[0], yerr=0.03215843597706181, color='r')\n",
    "ax2.errorbar(1, early.frec[2], yerr=early.e[2], color=  \"#EE4000\")\n",
    "ax2.errorbar(2, early.frec[1], yerr=early.e[1], color= \"Magenta\")\n",
    "ax2.errorbar(3, early.frec[3], yerr=early.e[3], color= 'blue')\n",
    "ax2.errorbar(4, early.frec[4], yerr=early.e[4], color= '#006400')\n",
    "ax2.errorbar(5, early.frec[5], yerr=early.e[5], color= '#008B8B')\n",
    "\n",
    "\n",
    "ax1.yaxis.get_ticklocs(minor=True)     # []\n",
    "ax1.xaxis.get_ticklocs(minor=True)     # []\n",
    "\n",
    "ax1.tick_params(bottom = True, labelbottom = True, \n",
    "               top = True, labeltop = False,\n",
    "               right = True, labelright = False, \n",
    "               left = True, labelleft = True)\n",
    "\n",
    "ax1.tick_params(bottom=True, top=True, left=True, right=True,\n",
    "               which='minor', direction='in', \n",
    "               length=5, width=2, colors='black',\n",
    "               grid_color='r', grid_alpha=0.5)\n",
    "\n",
    "ax1.tick_params(which='major', direction='inout', \n",
    "               length=10, width=2, colors='black',\n",
    "               grid_color='r', grid_alpha=0.5)\n",
    "\n",
    "# Initialize minor ticks\n",
    "ax1.minorticks_on()\n",
    "\n",
    "# Tamaño\n",
    "ax1.xaxis.set_tick_params(labelsize=18)\n",
    "ax1.yaxis.set_tick_params(labelsize=18)\n",
    "\n",
    "# Grosor de los ejes\n",
    "[i.set_linewidth(2.0) for i in ax1.spines.values()]\n",
    "\n",
    "#ax.tick_params(axis='both', which='minor', direction='in')\n",
    "# Currently, there are no minor ticks,\n",
    "#   so trying to make them visible would have no effect\n",
    "\n",
    "#left=None, bottom=None, right=None, top=None\n",
    "ax2.yaxis.get_ticklocs(minor=True)     # []\n",
    "ax2.xaxis.get_ticklocs(minor=True)     # []\n",
    "\n",
    "ax2.tick_params(bottom = True, labelbottom = True, \n",
    "               top = True, labeltop = False,\n",
    "               right = True, labelright = False, \n",
    "               left = True, labelleft = True)\n",
    "\n",
    "ax2.tick_params(bottom=True, top=True, left=True, right=True,\n",
    "               which='minor', direction='in', \n",
    "               length=5, width=2, colors='black',\n",
    "               grid_color='r', grid_alpha=0.5)\n",
    "\n",
    "ax2.tick_params(which='major', direction='inout', \n",
    "               length=10, width=2, colors='black',\n",
    "               grid_color='r', grid_alpha=0.5)\n",
    "\n",
    "# Initialize minor ticks\n",
    "ax2.minorticks_on()\n",
    "\n",
    "# Tamaño\n",
    "ax2.xaxis.set_tick_params(labelsize=18, rotation=0)\n",
    "ax2.yaxis.set_tick_params(labelsize=18)\n",
    "\n",
    "# Grosor de los ejes\n",
    "[i.set_linewidth(2.0) for i in ax2.spines.values()]\n",
    "\n",
    "ax2.set_xlabel(' ', fontsize=19)\n",
    "ax1.set_ylabel('Red galaxies Fractions', fontsize=19)\n",
    "ax2.set_ylabel('Early galaxies Fractions', fontsize=19)\n",
    "\n",
    "\n",
    "plt.savefig('frac_red_early.pdf',format='pdf')"
   ]
  },
  {
   "cell_type": "raw",
   "metadata": {},
   "source": [
    "\n",
    "red #FF0000\n",
    "orange #FFA500\n",
    "magenta #FF00FF\n",
    "darkblue #00008B or blue #0000FF\n",
    "darkgreen #006400\n",
    "Deepskyblue #3009AC"
   ]
  },
  {
   "cell_type": "code",
   "execution_count": null,
   "metadata": {},
   "outputs": [],
   "source": []
  }
 ],
 "metadata": {
  "kernelspec": {
   "display_name": "Python 3",
   "language": "python",
   "name": "python3"
  },
  "language_info": {
   "codemirror_mode": {
    "name": "ipython",
    "version": 3
   },
   "file_extension": ".py",
   "mimetype": "text/x-python",
   "name": "python",
   "nbconvert_exporter": "python",
   "pygments_lexer": "ipython3",
   "version": "3.8.3"
  }
 },
 "nbformat": 4,
 "nbformat_minor": 4
}
